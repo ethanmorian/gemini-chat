{
 "cells": [
  {
   "cell_type": "code",
   "execution_count": 2,
   "metadata": {},
   "outputs": [],
   "source": [
    "import requests\n",
    "import json\n",
    "headers = {\n",
    "    'Accept': 'application/json, text/plain, */*',\n",
    "    'Accept-Encoding': 'gzip, deflate, br',\n",
    "    'Accept-Language': 'ko-KR,ko;q=0.9,en-US;q=0.8,en;q=0.7',\n",
    "    'Cookie': 'NNB=LOEL4NL45OYWK; SHP_BUCKET_ID=0; spage_uid=; ASID=01e74f9a0000018d57e5968d00000059; ncpa=5716306|lrzxjons|0532ea2624486686187b4d671bb484de7254ad7a|s_1cb33aa091591|b284a24315fd04e629019f443e8a69a288b2834f:3|ls1a3src|4c64931454f33744eebe722ec9ee19b27e2a47d9|s_22aec0678481|d5f39d6f17f07c8fba352e20ee1fe3b04af01b3b:224725|ls1a3v2o|1e3dc4e9bb970546946279a0d42c49efe0a2ac9f|s_165c859b8519d8b1|ae9425657f3102732125cf5dd77c8f19451b1e58',\n",
    "    'Logic': 'PART',\n",
    "    'Referer': 'https://search.shopping.naver.com/search/all?query=%EA%B3%A0%EC%96%91%EC%9D%B4%20%EC%98%81%EC%96%91%EC%A0%9C&cat_id=&frm=NVSHATC',\n",
    "    'Sbth': '038671280bad76e128286621a36e9ef77ba3e9c5b67f060314865f2a1af303fa6a676dd6ad904bf07373c9c9e56d176c',\n",
    "    'Sec-Ch-Ua': '\"Not A(Brand\";v=\"99\", \"Google Chrome\";v=\"121\", \"Chromium\";v=\"121\"',\n",
    "    'Sec-Ch-Ua-Arch': 'x86',\n",
    "    'Sec-Ch-Ua-Bitness': '64',\n",
    "    'Sec-Ch-Ua-Full-Version-List': '\"Not A(Brand\";v=\"99.0.0.0\", \"Google Chrome\";v=\"121.0.6167.86\", \"Chromium\";v=\"121.0.6167.86\"',\n",
    "    'Sec-Ch-Ua-Mobile': '?0',\n",
    "    'Sec-Ch-Ua-Model': '\"\"',\n",
    "    'Sec-Ch-Ua-Platform': '\"Windows\"',\n",
    "    'Sec-Ch-Ua-Platform-Version': '\"15.0.0\"',\n",
    "    'Sec-Ch-Ua-Wow64': '?0',\n",
    "    'Sec-Fetch-Dest': 'empty',\n",
    "    'Sec-Fetch-Mode': 'cors',\n",
    "    'Sec-Fetch-Site': 'same-origin',\n",
    "    'User-Agent': 'Mozilla/5.0 (Windows NT 10.0; Win64; x64) AppleWebKit/537.36 (KHTML, like Gecko) Chrome/121.0.0.0 Safari/537.36'\n",
    "}\n",
    "for i in range(1000):\n",
    "    re = requests.get(f'https://search.shopping.naver.com/api/search/all?adQuery=%EA%B3%A0%EC%96%91%EC%9D%B4%20%EC%98%81%EC%96%91%EC%A0%9C&eq=&frm=NVSHATC&iq=&origQuery=%EA%B3%A0%EC%96%91%EC%9D%B4%20%EC%98%81%EC%96%91%EC%A0%9C&pagingIndex={i}&pagingSize=40&productSet=total&query=%EA%B3%A0%EC%96%91%EC%9D%B4%20%EC%98%81%EC%96%91%EC%A0%9C&sort=rel&viewType=list&xq=', headers=headers)\n",
    "    #save json file\n",
    "    if re.status_code != 200:\n",
    "        print(i)\n",
    "        break\n",
    "    with open(f'./cat/nutrition/{i}.json', 'w') as fil:\n",
    "        json.dump(re.json(), fil, indent=4, ensure_ascii=False)"
   ]
  }
 ],
 "metadata": {
  "kernelspec": {
   "display_name": "crawling",
   "language": "python",
   "name": "python3"
  },
  "language_info": {
   "codemirror_mode": {
    "name": "ipython",
    "version": 3
   },
   "file_extension": ".py",
   "mimetype": "text/x-python",
   "name": "python",
   "nbconvert_exporter": "python",
   "pygments_lexer": "ipython3",
   "version": "3.11.7"
  }
 },
 "nbformat": 4,
 "nbformat_minor": 2
}
