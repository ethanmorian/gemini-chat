{
 "cells": [
  {
   "cell_type": "code",
   "execution_count": 12,
   "metadata": {},
   "outputs": [
    {
     "name": "stdout",
     "output_type": "stream",
     "text": [
      "Unique food products saved to C:\\Users\\user\\Documents\\GitHub\\drharu\\recommend\\food\\unique_products.json\n",
      "Unique nutrition products saved to C:\\Users\\user\\Documents\\GitHub\\drharu\\recommend\\nutrition\\unique_products.json\n"
     ]
    }
   ],
   "source": [
    "import os\n",
    "import json\n",
    "\n",
    "def extract_products_from_json(directory):\n",
    "    all_products = []\n",
    "\n",
    "    # 디렉토리의 모든 하위 디렉토리와 파일 탐색\n",
    "    for root, dirs, files in os.walk(directory):\n",
    "        for file_name in files:\n",
    "            if file_name.endswith('.json'):\n",
    "                file_path = os.path.join(root, file_name)\n",
    "                with open(file_path, 'r') as file:\n",
    "                    try:\n",
    "                        json_data = json.load(file)\n",
    "                        search_ad_result = json_data.get('searchAdResult')\n",
    "                        if search_ad_result is not None and 'products' in search_ad_result:\n",
    "                            all_products.extend(search_ad_result['products'])\n",
    "                        \n",
    "                        shopping_result = json_data.get('shoppingResult')\n",
    "                        if shopping_result is not None and 'products' in shopping_result:\n",
    "                            all_products.extend(shopping_result['products'])\n",
    "                    except Exception as e:\n",
    "                        print(f\"Error in file '{file_path}': {e}\")\n",
    "                        continue\n",
    "\n",
    "    return all_products\n",
    "\n",
    "def remove_duplicate_products(products):\n",
    "    unique_products = []\n",
    "    seen_ids = set()\n",
    "\n",
    "    for product in products:\n",
    "        product_id = product.get('id')\n",
    "        if product_id not in seen_ids:\n",
    "            unique_products.append(product)\n",
    "            seen_ids.add(product_id)\n",
    "\n",
    "    return unique_products\n",
    "\n",
    "def save_products_to_json(products, directory):\n",
    "    # 디렉토리가 없으면 생성\n",
    "    if not os.path.exists(directory):\n",
    "        os.makedirs(directory)\n",
    "\n",
    "    # 파일 경로 생성\n",
    "    file_path = os.path.join(directory, 'unique_products.json')\n",
    "\n",
    "    # 제품 데이터를 JSON 파일로 저장\n",
    "    with open(file_path, 'w') as file:\n",
    "        json.dump(products, file, indent=4)\n",
    "\n",
    "# 사용 예시\n",
    "food_directory_path = r'C:\\Users\\user\\Documents\\GitHub\\drharu\\recommend\\food'\n",
    "nutrition_directory_path = r'C:\\Users\\user\\Documents\\GitHub\\drharu\\recommend\\nutrition'\n",
    "\n",
    "# 데이터 추출\n",
    "food_products = extract_products_from_json(food_directory_path)\n",
    "nutrition_products = extract_products_from_json(nutrition_directory_path)\n",
    "\n",
    "# 중복 제거\n",
    "food_unique_products = remove_duplicate_products(food_products)\n",
    "nutrition_unique_products = remove_duplicate_products(nutrition_products)\n",
    "\n",
    "# 결과 저장\n",
    "save_products_to_json(food_unique_products, food_directory_path)\n",
    "save_products_to_json(nutrition_unique_products, nutrition_directory_path)\n",
    "\n",
    "print(\"Unique food products saved to\", os.path.join(food_directory_path, 'unique_products.json'))\n",
    "print(\"Unique nutrition products saved to\", os.path.join(nutrition_directory_path, 'unique_products.json'))\n"
   ]
  },
  {
   "cell_type": "code",
   "execution_count": null,
   "metadata": {},
   "outputs": [],
   "source": []
  }
 ],
 "metadata": {
  "kernelspec": {
   "display_name": "comp1",
   "language": "python",
   "name": "python3"
  },
  "language_info": {
   "codemirror_mode": {
    "name": "ipython",
    "version": 3
   },
   "file_extension": ".py",
   "mimetype": "text/x-python",
   "name": "python",
   "nbconvert_exporter": "python",
   "pygments_lexer": "ipython3",
   "version": "3.11.7"
  }
 },
 "nbformat": 4,
 "nbformat_minor": 2
}
