{
 "cells": [
  {
   "cell_type": "code",
   "execution_count": 1,
   "id": "115fb139-e1de-4a95-9217-2d347222f99f",
   "metadata": {},
   "outputs": [],
   "source": [
    "# !pip freeze > requirements.txt\n",
    "# !pip install -r requirements.txt"
   ]
  },
  {
   "cell_type": "code",
   "execution_count": 2,
   "id": "c7e42b28-9d0c-449f-a4f7-48dea558eefc",
   "metadata": {},
   "outputs": [],
   "source": [
    "from datetime import datetime\n",
    "import json\n",
    "import os\n",
    "import pytz\n",
    "import random\n",
    "\n",
    "import numpy as np\n",
    "import torch\n",
    "import torch.nn as nn\n",
    "import torch.optim\n",
    "from torch.utils.data import Dataset, DataLoader, random_split, Sampler\n",
    "from torch.utils.tensorboard import SummaryWriter\n",
    "from torchsummary import summary\n",
    "from torchvision import models, transforms\n",
    "from tqdm import tqdm\n",
    "from PIL import Image\n",
    "from sklearn.metrics import (confusion_matrix,\n",
    "                             accuracy_score,\n",
    "                             precision_score,\n",
    "                             recall_score,\n",
    "                             f1_score,\n",
    "                             roc_auc_score)\n",
    "from sklearn.model_selection import train_test_split\n",
    "\n",
    "import warnings\n",
    "warnings.filterwarnings(\"ignore\")"
   ]
  },
  {
   "cell_type": "markdown",
   "metadata": {},
   "source": [
    "# Preprocessing"
   ]
  },
  {
   "cell_type": "code",
   "execution_count": 6,
   "id": "dabc5882-3298-4417-8902-fc834dc37bfe",
   "metadata": {},
   "outputs": [],
   "source": [
    "class PathLabelProcessor:\n",
    "    def __init__(self, base_path, folder_name, devices, symptom):\n",
    "        self.base_path = base_path\n",
    "        self.folder_name = folder_name\n",
    "        self.devices = devices\n",
    "        self.symptom = symptom\n",
    "        \n",
    "        self.label_images()\n",
    "      \n",
    "    def find_folders_by_name(self):\n",
    "        matching_folders = []\n",
    "\n",
    "        for root, dirs, files in os.walk(self.base_path):\n",
    "            for dir_name in dirs:\n",
    "                if self.folder_name in dir_name:\n",
    "                    folder_path = os.path.join(root, dir_name)\n",
    "                    matching_folders.append(folder_path)\n",
    "\n",
    "        return matching_folders\n",
    "\n",
    "    def find_image_json_pairs(self, folder_path):\n",
    "        image_paths = []\n",
    "        json_paths = []\n",
    "\n",
    "        for root, dirs, files in os.walk(folder_path):\n",
    "            for image_file in filter(lambda x: x.lower().endswith(('jpg', 'png')), files):\n",
    "                image_path = os.path.join(root, image_file)\n",
    "                json_file = f\"{os.path.splitext(image_path)[0]}.json\"\n",
    "                if os.path.isfile(json_file):\n",
    "                    image_paths.append(image_path)\n",
    "                    json_paths.append(json_file)\n",
    "\n",
    "        return image_paths, json_paths\n",
    "\n",
    "    def label_images(self):\n",
    "        self.labeled_image_paths = []\n",
    "\n",
    "        for folder_path in self.find_folders_by_name():\n",
    "            image_paths, json_paths = self.find_image_json_pairs(folder_path)\n",
    "            \n",
    "            for image_path, json_path in zip(image_paths, json_paths):\n",
    "                with open(json_path) as f:\n",
    "                    data = json.load(f)\n",
    "\n",
    "                if data['images']['meta']['device'] not in self.devices:\n",
    "                    continue\n",
    "                    \n",
    "                label = 0 if data['label']['label_disease_lv_3'] in self.symptom else 1\n",
    "                self.labeled_image_paths.append((image_path, label))\n",
    "        \n",
    "        symptomatic_count = sum(1 for _, label in self.labeled_image_paths if label == 0)\n",
    "        asymptomatic_count = sum(1 for _, label in self.labeled_image_paths if label == 1)\n",
    "        \n",
    "        weight_class_0 = 1.0 / symptomatic_count\n",
    "        weight_class_1 = 1.0 / asymptomatic_count\n",
    "        self.class_weights = torch.tensor([weight_class_0, weight_class_1])\n",
    "\n",
    "        print(f'Total cases: {len(self.labeled_image_paths)}')\n",
    "        print(f'Number of symptomatic cases: {symptomatic_count}, Number of asymptomatic cases: {asymptomatic_count}')"
   ]
  },
  {
   "cell_type": "code",
   "execution_count": 7,
   "metadata": {},
   "outputs": [
    {
     "name": "stdout",
     "output_type": "stream",
     "text": [
      "Total cases: 98646\n",
      "Number of symptomatic cases: 22339, Number of asymptomatic cases: 76307\n",
      "CPU times: user 7.28 s, sys: 2.06 s, total: 9.34 s\n",
      "Wall time: 9.51 s\n"
     ]
    }
   ],
   "source": [
    "%%time\n",
    "base_path = 'eye/Train'\n",
    "folder_name = '일반'\n",
    "devices = ['스마트폰', '일반카메라']\n",
    "symptom = ['유', '상', '하', '초기', '비성숙', '성숙']\n",
    "\n",
    "processor = PathLabelProcessor(base_path=base_path,\n",
    "                               folder_name=folder_name,\n",
    "                               devices=devices,\n",
    "                               symptom=symptom)\n",
    "\n",
    "data = processor.labeled_image_paths\n",
    "class_weights = processor.class_weights"
   ]
  },
  {
   "cell_type": "code",
   "execution_count": 8,
   "id": "e976379f",
   "metadata": {},
   "outputs": [],
   "source": [
    "class CustomDataset(Dataset):\n",
    "    def __init__(self, data, transform=None):\n",
    "        self.data = data\n",
    "        self.transform = transform\n",
    "\n",
    "    def __len__(self):\n",
    "        return len(self.data)\n",
    "\n",
    "    def __getitem__(self, idx):\n",
    "        image_path, label = self.data[idx]\n",
    "        image = Image.open(image_path)\n",
    "        image = self.transform(image)\n",
    "\n",
    "        return image, label\n",
    "\n",
    "class ImageDataset():\n",
    "    def __init__(self,\n",
    "                 data,\n",
    "                 transform,\n",
    "                 test_size,\n",
    "                 seed,\n",
    "                 batch_size,\n",
    "                 shuffle,\n",
    "                 num_workers):\n",
    "        dataset = self.make_dataset(data, transform, test_size, seed)\n",
    "        self.dataloader = self.make_dataloader(dataset, batch_size, shuffle, num_workers)\n",
    "        \n",
    "        \n",
    "    def make_dataset(self, data, transform, test_size=None, seed=42):\n",
    "        if test_size:\n",
    "            train_data, val_data = train_test_split(data, \n",
    "                                                    test_size=test_size,\n",
    "                                                    random_state=seed)\n",
    "            dataset_dict = {'train': train_data,\n",
    "                            'val': val_data}\n",
    "        else:\n",
    "            dataset_dict = {'test' : data}\n",
    "\n",
    "        dataset = {k: CustomDataset(v, transform[k])\n",
    "                   for k, v in dataset_dict.items()}\n",
    "        \n",
    "        return dataset\n",
    "        \n",
    "    def make_dataloader(self, dataset, batch_size, shuffle, num_workers):\n",
    "        dataloader = {k: DataLoader(dataset=dataset[k],\n",
    "                                    batch_size=batch_size,\n",
    "                                    shuffle=shuffle,\n",
    "                                    num_workers=num_workers,\n",
    "                                    pin_memory=True)\n",
    "                      for k in dataset.keys()}\n",
    "        \n",
    "        for k, v in dataloader.items():\n",
    "            self.print_class_distribution(k, v)\n",
    "        \n",
    "        return dataloader\n",
    "    \n",
    "    def compute_class_counts(self, data_loader):\n",
    "        counts = torch.zeros(2, dtype=torch.long)\n",
    "        \n",
    "        for _, labels in data_loader:\n",
    "            counts += torch.bincount(labels, minlength=2)\n",
    "        \n",
    "        return counts\n",
    "\n",
    "    def print_class_distribution(self, phase, data_loader):\n",
    "        print(f\"Class Distribution for {phase}:\")\n",
    "        class_counts = self.compute_class_counts(data_loader)\n",
    "        for class_label, count in enumerate(class_counts):\n",
    "            print(f\"  Class {class_label}: {count} samples\")"
   ]
  },
  {
   "cell_type": "code",
   "execution_count": 9,
   "id": "633a7dc1-1577-44e0-bec0-998cfa515e1c",
   "metadata": {},
   "outputs": [
    {
     "name": "stdout",
     "output_type": "stream",
     "text": [
      "Class Distribution for train:\n",
      "  Class 0: 17868 samples\n",
      "  Class 1: 61048 samples\n",
      "Class Distribution for val:\n",
      "  Class 0: 4471 samples\n",
      "  Class 1: 15259 samples\n",
      "CPU times: user 20.3 s, sys: 18.2 s, total: 38.5 s\n",
      "Wall time: 2min 45s\n"
     ]
    }
   ],
   "source": [
    "%%time\n",
    "transform = {'train': transforms.Compose([transforms.Resize((240, 240)),\n",
    "                                          transforms.RandomHorizontalFlip(),\n",
    "                                          transforms.RandomVerticalFlip(),\n",
    "                                          transforms.RandomRotation(degrees=10),\n",
    "                                          transforms.ColorJitter(brightness=0.2, contrast=0.2, saturation=0.2, hue=0.2),\n",
    "                                          transforms.ToTensor(),\n",
    "                                          transforms.Normalize(mean=[0.5, 0.5, 0.5], std=[0.5, 0.5, 0.5])]),\n",
    "             'val': transforms.Compose([transforms.Resize((240, 240)),\n",
    "                                        transforms.ToTensor(),\n",
    "                                        transforms.Normalize(mean=[0.5, 0.5, 0.5], std=[0.5, 0.5, 0.5])])}\n",
    "test_size = 0.2\n",
    "seed = 42\n",
    "batch_size = 96\n",
    "shuffle = True\n",
    "num_workers = os.cpu_count()\n",
    "\n",
    "dataloader = ImageDataset(data=data,\n",
    "                          transform=transform,\n",
    "                          test_size=test_size,\n",
    "                          seed=seed,\n",
    "                          batch_size=batch_size,\n",
    "                          shuffle=shuffle,\n",
    "                          num_workers=num_workers)"
   ]
  },
  {
   "cell_type": "markdown",
   "metadata": {},
   "source": [
    "# Modeling"
   ]
  },
  {
   "cell_type": "code",
   "execution_count": 10,
   "metadata": {},
   "outputs": [],
   "source": [
    "class FocalLoss(nn.Module):\n",
    "    def __init__(self, gamma=2, alpha=None, reduction='mean'):\n",
    "        super(FocalLoss, self).__init__()\n",
    "        self.gamma = gamma\n",
    "        self.alpha = alpha\n",
    "        self.reduction = reduction\n",
    "\n",
    "    def forward(self, inputs, targets):\n",
    "        targets = targets.to(inputs.device)\n",
    "        \n",
    "        ce_loss = nn.functional.cross_entropy(inputs, targets, reduction='none')\n",
    "        pt = torch.exp(-ce_loss)\n",
    "        focal_loss = (1 - pt) ** self.gamma * ce_loss\n",
    "\n",
    "        if self.alpha is not None:\n",
    "            # Move alpha to the same device as inputs\n",
    "            self.alpha = self.alpha.to(inputs.device)\n",
    "            focal_loss = self.alpha[targets] * focal_loss\n",
    "\n",
    "        if self.reduction == 'mean':\n",
    "            return focal_loss.mean()\n",
    "        elif self.reduction == 'sum':\n",
    "            return focal_loss.sum()\n",
    "        elif self.reduction == 'none':\n",
    "            return focal_loss\n",
    "        else:\n",
    "            raise ValueError(\"Invalid reduction option\")\n",
    "\n",
    "class ModelTrainer:\n",
    "    def __init__(self,\n",
    "                 model,\n",
    "                 device,\n",
    "                 dataloader,\n",
    "                 criterion,\n",
    "                 optimizer,\n",
    "                 scheduler,):\n",
    "        self.device = device\n",
    "        self.model = model.to(self.device)\n",
    "        model_name = model.__class__.__name__\n",
    "        self.dataloader = dataloader\n",
    "        self.criterion = criterion.to(device)\n",
    "        self.optimizer = optimizer\n",
    "        self.scheduler = scheduler\n",
    "        self.best_f1_score = 0.0\n",
    "        korea = pytz.timezone('Asia/Seoul')\n",
    "        now = datetime.now(korea)\n",
    "        start_time = now.strftime('%Y%m%d-%H%M%S')\n",
    "        self.name = f'{start_time}_{model_name}_symptoms.pth'\n",
    "        self.writer = SummaryWriter(log_dir=f'runs/{self.name}')\n",
    "\n",
    "    def calculate_f1_score(self, predicted, labels):\n",
    "        return f1_score(labels, predicted, average='binary')\n",
    "\n",
    "    def calculate_auc_roc(self, predicted, labels):\n",
    "        return roc_auc_score(labels, predicted)\n",
    "\n",
    "    def run_epoch(self, epoch, num_epochs):\n",
    "        for phase in ['train', 'val']:\n",
    "            self.model.train() if phase == 'train' else self.model.eval()\n",
    "            dataloader = self.dataloader[phase]\n",
    "\n",
    "            total_loss = 0.0\n",
    "            correct = 0\n",
    "            total = 0\n",
    "            all_predicted = []\n",
    "            all_labels = []\n",
    "\n",
    "            for inputs, labels in tqdm(dataloader, desc=f'{phase.capitalize()} Epoch {epoch + 1}/{num_epochs}', unit='batch'):\n",
    "                inputs, labels = inputs.to(self.device), labels.to(self.device)\n",
    "\n",
    "                with torch.set_grad_enabled(phase == 'train'):\n",
    "                    outputs = self.model(inputs)\n",
    "                    loss = self.criterion(outputs, labels)\n",
    "\n",
    "                    if phase == 'train':\n",
    "                        loss.backward()\n",
    "                        self.optimizer.step()\n",
    "                        self.optimizer.zero_grad()\n",
    "\n",
    "                    total_loss += loss.item()\n",
    "\n",
    "                    _, predicted = torch.max(outputs, 1)\n",
    "                    total += labels.size(0)\n",
    "                    correct += (predicted == labels).sum().item()\n",
    "\n",
    "                    all_predicted.extend(predicted.cpu().numpy())\n",
    "                    all_labels.extend(labels.cpu().numpy())\n",
    "\n",
    "            avg_loss = total_loss / len(dataloader)\n",
    "            accuracy = correct / total\n",
    "            self.writer.add_scalar(f'Loss/{phase}', avg_loss, epoch)\n",
    "            self.writer.add_scalar(f'Accuracy/{phase}', accuracy, epoch)\n",
    "\n",
    "            if phase == 'val':\n",
    "                current_f1_score = self.calculate_f1_score(np.array(all_predicted), np.array(all_labels))\n",
    "                current_auc_roc = self.calculate_auc_roc(np.array(all_predicted), np.array(all_labels))\n",
    "\n",
    "                self.writer.add_scalar('F1 Score/valid', current_f1_score, epoch)\n",
    "                self.writer.add_scalar('AUC-ROC/valid', current_auc_roc, epoch)\n",
    "\n",
    "                if current_f1_score > self.best_f1_score:\n",
    "                    self.best_f1_score = current_f1_score\n",
    "                    torch.save(self.model, self.name)\n",
    "\n",
    "        lr_value = self.scheduler.get_last_lr()[0]\n",
    "        self.writer.add_scalar('LearningRate', lr_value, epoch)\n",
    "\n",
    "    def train(self, num_epochs):\n",
    "        for epoch in range(num_epochs):\n",
    "            self.run_epoch(epoch, num_epochs)\n",
    "\n",
    "        self.writer.close()"
   ]
  },
  {
   "cell_type": "code",
   "execution_count": 11,
   "id": "2609bdf4-9610-4840-bfc5-34f85a1dfa64",
   "metadata": {},
   "outputs": [],
   "source": [
    "model = models.efficientnet_b1(pretrained=True)\n",
    "# model = models.\n",
    "for name, param in model.named_parameters():\n",
    "    if \"last_layer\" not in name:\n",
    "        param.requires_grad = False\n",
    "device = torch.device(\"cuda\" if torch.cuda.is_available() else \"cpu\")\n",
    "num_ftrs = model.classifier[1].in_features\n",
    "model.classifier[1] = nn.Linear(num_ftrs, 2)\n",
    "criterion = FocalLoss(gamma=2, alpha=class_weights, reduction='sum')\n",
    "optimizer = torch.optim.AdamW(model.parameters(), weight_decay=1e-5)\n",
    "scheduler = torch.optim.lr_scheduler.StepLR(optimizer, step_size=5, gamma=0.1)\n",
    "\n",
    "trainer = ModelTrainer(model=model,\n",
    "                       device=device,\n",
    "                       dataloader=dataloader.dataloader,\n",
    "                       criterion=criterion,\n",
    "                       optimizer=optimizer,\n",
    "                       scheduler=scheduler)"
   ]
  },
  {
   "cell_type": "code",
   "execution_count": 12,
   "id": "b392b9d4-1711-489f-af29-19468eab8b1d",
   "metadata": {},
   "outputs": [
    {
     "name": "stderr",
     "output_type": "stream",
     "text": [
      "Train Epoch 1/30: 100%|██████████| 823/823 [03:58<00:00,  3.45batch/s]\n",
      "Val Epoch 1/30: 100%|██████████| 206/206 [00:56<00:00,  3.62batch/s]\n",
      "Train Epoch 2/30: 100%|██████████| 823/823 [03:55<00:00,  3.50batch/s]\n",
      "Val Epoch 2/30: 100%|██████████| 206/206 [00:56<00:00,  3.68batch/s]\n",
      "Train Epoch 3/30: 100%|██████████| 823/823 [03:56<00:00,  3.48batch/s]\n",
      "Val Epoch 3/30: 100%|██████████| 206/206 [00:55<00:00,  3.70batch/s]\n",
      "Train Epoch 4/30: 100%|██████████| 823/823 [03:55<00:00,  3.49batch/s]\n",
      "Val Epoch 4/30: 100%|██████████| 206/206 [00:55<00:00,  3.73batch/s]\n",
      "Train Epoch 5/30: 100%|██████████| 823/823 [03:55<00:00,  3.50batch/s]\n",
      "Val Epoch 5/30: 100%|██████████| 206/206 [00:56<00:00,  3.65batch/s]\n",
      "Train Epoch 6/30: 100%|██████████| 823/823 [03:56<00:00,  3.48batch/s]\n",
      "Val Epoch 6/30: 100%|██████████| 206/206 [00:55<00:00,  3.71batch/s]\n",
      "Train Epoch 7/30: 100%|██████████| 823/823 [03:56<00:00,  3.48batch/s]\n",
      "Val Epoch 7/30: 100%|██████████| 206/206 [00:56<00:00,  3.67batch/s]\n",
      "Train Epoch 8/30: 100%|██████████| 823/823 [03:56<00:00,  3.49batch/s]\n",
      "Val Epoch 8/30: 100%|██████████| 206/206 [00:56<00:00,  3.67batch/s]\n",
      "Train Epoch 9/30: 100%|██████████| 823/823 [03:54<00:00,  3.51batch/s]\n",
      "Val Epoch 9/30: 100%|██████████| 206/206 [00:55<00:00,  3.69batch/s]\n",
      "Train Epoch 10/30: 100%|██████████| 823/823 [03:57<00:00,  3.47batch/s]\n",
      "Val Epoch 10/30: 100%|██████████| 206/206 [00:55<00:00,  3.69batch/s]\n",
      "Train Epoch 11/30: 100%|██████████| 823/823 [03:56<00:00,  3.49batch/s]\n",
      "Val Epoch 11/30: 100%|██████████| 206/206 [00:57<00:00,  3.60batch/s]\n",
      "Train Epoch 12/30: 100%|██████████| 823/823 [03:55<00:00,  3.49batch/s]\n",
      "Val Epoch 12/30: 100%|██████████| 206/206 [00:55<00:00,  3.71batch/s]\n",
      "Train Epoch 13/30: 100%|██████████| 823/823 [03:56<00:00,  3.48batch/s]\n",
      "Val Epoch 13/30: 100%|██████████| 206/206 [00:56<00:00,  3.64batch/s]\n",
      "Train Epoch 14/30: 100%|██████████| 823/823 [03:56<00:00,  3.48batch/s]\n",
      "Val Epoch 14/30: 100%|██████████| 206/206 [00:56<00:00,  3.65batch/s]\n",
      "Train Epoch 15/30: 100%|██████████| 823/823 [03:56<00:00,  3.48batch/s]\n",
      "Val Epoch 15/30: 100%|██████████| 206/206 [00:55<00:00,  3.70batch/s]\n",
      "Train Epoch 16/30: 100%|██████████| 823/823 [03:54<00:00,  3.51batch/s]\n",
      "Val Epoch 16/30: 100%|██████████| 206/206 [00:56<00:00,  3.66batch/s]\n",
      "Train Epoch 17/30: 100%|██████████| 823/823 [03:55<00:00,  3.49batch/s]\n",
      "Val Epoch 17/30: 100%|██████████| 206/206 [00:56<00:00,  3.67batch/s]\n",
      "Train Epoch 18/30: 100%|██████████| 823/823 [03:56<00:00,  3.48batch/s]\n",
      "Val Epoch 18/30: 100%|██████████| 206/206 [00:56<00:00,  3.65batch/s]\n",
      "Train Epoch 19/30: 100%|██████████| 823/823 [03:56<00:00,  3.48batch/s]\n",
      "Val Epoch 19/30: 100%|██████████| 206/206 [00:55<00:00,  3.68batch/s]\n",
      "Train Epoch 20/30: 100%|██████████| 823/823 [03:55<00:00,  3.50batch/s]\n",
      "Val Epoch 20/30: 100%|██████████| 206/206 [00:56<00:00,  3.67batch/s]\n",
      "Train Epoch 21/30: 100%|██████████| 823/823 [03:55<00:00,  3.49batch/s]\n",
      "Val Epoch 21/30: 100%|██████████| 206/206 [00:56<00:00,  3.62batch/s]\n",
      "Train Epoch 22/30: 100%|██████████| 823/823 [03:55<00:00,  3.49batch/s]\n",
      "Val Epoch 22/30: 100%|██████████| 206/206 [00:56<00:00,  3.62batch/s]\n",
      "Train Epoch 23/30: 100%|██████████| 823/823 [03:56<00:00,  3.48batch/s]\n",
      "Val Epoch 23/30: 100%|██████████| 206/206 [00:56<00:00,  3.67batch/s]\n",
      "Train Epoch 24/30: 100%|██████████| 823/823 [03:56<00:00,  3.48batch/s]\n",
      "Val Epoch 24/30: 100%|██████████| 206/206 [00:55<00:00,  3.68batch/s]\n",
      "Train Epoch 25/30: 100%|██████████| 823/823 [03:55<00:00,  3.50batch/s]\n",
      "Val Epoch 25/30: 100%|██████████| 206/206 [00:55<00:00,  3.69batch/s]\n",
      "Train Epoch 26/30: 100%|██████████| 823/823 [03:42<00:00,  3.70batch/s]\n",
      "Val Epoch 26/30: 100%|██████████| 206/206 [00:43<00:00,  4.78batch/s]\n",
      "Train Epoch 27/30: 100%|██████████| 823/823 [02:17<00:00,  5.96batch/s]\n",
      "Val Epoch 27/30: 100%|██████████| 206/206 [00:26<00:00,  7.65batch/s]\n",
      "Train Epoch 28/30: 100%|██████████| 823/823 [01:56<00:00,  7.08batch/s]\n",
      "Val Epoch 28/30: 100%|██████████| 206/206 [00:27<00:00,  7.58batch/s]\n",
      "Train Epoch 29/30: 100%|██████████| 823/823 [01:56<00:00,  7.08batch/s]\n",
      "Val Epoch 29/30: 100%|██████████| 206/206 [00:26<00:00,  7.63batch/s]\n",
      "Train Epoch 30/30: 100%|██████████| 823/823 [01:56<00:00,  7.09batch/s]\n",
      "Val Epoch 30/30: 100%|██████████| 206/206 [00:26<00:00,  7.67batch/s]\n"
     ]
    }
   ],
   "source": [
    "trainer.train(30)"
   ]
  },
  {
   "cell_type": "markdown",
   "metadata": {},
   "source": [
    "# Evaluation"
   ]
  },
  {
   "cell_type": "code",
   "execution_count": 13,
   "id": "0902981d-8b7e-4a4c-b707-3d8fa550bd32",
   "metadata": {},
   "outputs": [],
   "source": [
    "class ModelTester:\n",
    "    def __init__(self, path, device, dataloader):\n",
    "        self.device = device\n",
    "        self.dataloader = dataloader\n",
    "        self.load_model(path)\n",
    "        self.evaluate()\n",
    "\n",
    "    def load_model(self, path):\n",
    "        self.model = torch.load(path)\n",
    "        self.model.to(self.device)\n",
    "\n",
    "    def classify(self):\n",
    "        self.model.eval()\n",
    "        predictions = []\n",
    "        labels = []\n",
    "        probabilities = []\n",
    "\n",
    "        with torch.no_grad():\n",
    "            for inputs, targets in tqdm(self.dataloader):\n",
    "                inputs, targets = inputs.to(self.device), targets.to(self.device)\n",
    "                outputs = self.model(inputs)\n",
    "                \n",
    "                _, predicted = torch.max(outputs, 1)\n",
    "\n",
    "                predictions.extend(predicted.cpu().numpy())\n",
    "                labels.extend(targets.cpu().numpy())\n",
    "                probabilities.extend(torch.nn.functional.softmax(outputs, dim=1).cpu().numpy())\n",
    "\n",
    "        return predictions, labels, probabilities\n",
    "\n",
    "    def calculate_prob_stats(self, probabilities):\n",
    "        probabilities = np.array(probabilities)\n",
    "        min_probs = np.min(probabilities)\n",
    "        max_probs = np.max(probabilities)\n",
    "        std_probs = np.std(probabilities)\n",
    "        mean_probs = np.mean(probabilities)\n",
    "\n",
    "        return min_probs, max_probs, std_probs, mean_probs\n",
    "    \n",
    "    def calculate_percentage(self, value):\n",
    "        return f'{value*100:.2f}%'\n",
    "\n",
    "    def evaluate(self):\n",
    "        predictions, labels, probabilities = self.classify()\n",
    "        cm = confusion_matrix(labels, predictions)\n",
    "        accuracy = accuracy_score(labels, predictions)\n",
    "        f1 = f1_score(labels, predictions, average='weighted')\n",
    "\n",
    "        min_probs, max_probs, std_probs, mean_probs = self.calculate_prob_stats(probabilities)\n",
    "\n",
    "        print('Evaluation Results:')\n",
    "        print(f'Confusion Matrix:\\n{cm}')\n",
    "        print(f'Accuracy: {self.calculate_percentage(accuracy)}')\n",
    "        print(f'F1 Score: {self.calculate_percentage(f1)}')\n",
    "        print(f'Mean Probability: {self.calculate_percentage(mean_probs)}')\n",
    "        print(f'Max Probability: {self.calculate_percentage(max_probs)}')\n",
    "        print(f'Min Probability: {self.calculate_percentage(min_probs)}')\n",
    "        print(f'Standard Deviation of Probabilities: {std_probs:.4f}')"
   ]
  },
  {
   "cell_type": "code",
   "execution_count": 14,
   "id": "5b1cd4f3-5c00-4577-bae9-ff774b26ee88",
   "metadata": {},
   "outputs": [
    {
     "name": "stdout",
     "output_type": "stream",
     "text": [
      "Total cases: 13808\n",
      "Number of symptomatic cases: 3272, Number of asymptomatic cases: 10536\n",
      "CPU times: user 893 ms, sys: 212 ms, total: 1.11 s\n",
      "Wall time: 1.11 s\n"
     ]
    }
   ],
   "source": [
    "%%time\n",
    "base_path = 'eye/Valid'\n",
    "folder_name = '일반'\n",
    "devices = ['스마트폰', '일반카메라']\n",
    "symptom = ['유', '상', '하', '초기', '비성숙', '성숙']\n",
    "\n",
    "processor = PathLabelProcessor(base_path=base_path,\n",
    "                               folder_name=folder_name,\n",
    "                               devices=devices,\n",
    "                               symptom=symptom)\n",
    "\n",
    "data = processor.labeled_image_paths"
   ]
  },
  {
   "cell_type": "code",
   "execution_count": 15,
   "id": "24b8fe2d-b805-48a5-aeec-0ad909159142",
   "metadata": {},
   "outputs": [
    {
     "name": "stdout",
     "output_type": "stream",
     "text": [
      "Class Distribution for test:\n",
      "  Class 0: 3272 samples\n",
      "  Class 1: 10536 samples\n"
     ]
    },
    {
     "name": "stderr",
     "output_type": "stream",
     "text": [
      "100%|██████████| 432/432 [00:20<00:00, 21.13it/s]\n"
     ]
    },
    {
     "name": "stdout",
     "output_type": "stream",
     "text": [
      "Evaluation Results:\n",
      "Confusion Matrix:\n",
      "[[3142  130]\n",
      " [2160 8376]]\n",
      "Accuracy: 83.42%\n",
      "F1 Score: 84.49%\n",
      "Mean Probability: 50.00%\n",
      "Max Probability: 96.42%\n",
      "Min Probability: 3.58%\n",
      "Standard Deviation of Probabilities: 0.2152\n",
      "CPU times: user 26 s, sys: 6.74 s, total: 32.7 s\n",
      "Wall time: 29.1 s\n"
     ]
    },
    {
     "data": {
      "text/plain": [
       "<__main__.ModelTester at 0x7f5f90763ca0>"
      ]
     },
     "execution_count": 15,
     "metadata": {},
     "output_type": "execute_result"
    }
   ],
   "source": [
    "%%time\n",
    "transform = {'test': transforms.Compose([transforms.Resize((240, 240)),\n",
    "                                         transforms.ToTensor(),\n",
    "                                         transforms.Normalize(mean=[0.5, 0.5, 0.5], std=[0.5, 0.5, 0.5])])}\n",
    "test_size = None\n",
    "seed = 42\n",
    "batch_size = 32\n",
    "shuffle = False\n",
    "num_workers = os.cpu_count()\n",
    "\n",
    "dataloader = ImageDataset(data=data,\n",
    "                          transform=transform,\n",
    "                          test_size=test_size,\n",
    "                          seed=seed,\n",
    "                          batch_size=batch_size,\n",
    "                          shuffle=shuffle,\n",
    "                          num_workers=num_workers)\n",
    "\n",
    "path = '20231215-142956_EfficientNet_symptoms.pth'\n",
    "device = torch.device(\"cuda\" if torch.cuda.is_available() else \"cpu\")\n",
    "\n",
    "ModelTester(path=path, device=device, dataloader=dataloader.dataloader['test'])"
   ]
  },
  {
   "cell_type": "code",
   "execution_count": 16,
   "metadata": {},
   "outputs": [
    {
     "name": "stdout",
     "output_type": "stream",
     "text": [
      "Class Distribution for test:\n"
     ]
    },
    {
     "name": "stdout",
     "output_type": "stream",
     "text": [
      "  Class 0: 3272 samples\n",
      "  Class 1: 0 samples\n"
     ]
    },
    {
     "name": "stderr",
     "output_type": "stream",
     "text": [
      "100%|██████████| 103/103 [00:05<00:00, 18.21it/s]"
     ]
    },
    {
     "name": "stdout",
     "output_type": "stream",
     "text": [
      "Evaluation Results:\n",
      "Confusion Matrix:\n",
      "[[3142  130]\n",
      " [   0    0]]\n",
      "Accuracy: 96.03%\n",
      "F1 Score: 97.97%\n",
      "Mean Probability: 50.00%\n",
      "Max Probability: 95.51%\n",
      "Min Probability: 4.49%\n",
      "Standard Deviation of Probabilities: 0.2791\n",
      "CPU times: user 6.32 s, sys: 2.65 s, total: 8.98 s\n",
      "Wall time: 8.36 s\n"
     ]
    },
    {
     "name": "stderr",
     "output_type": "stream",
     "text": [
      "\n"
     ]
    },
    {
     "data": {
      "text/plain": [
       "<__main__.ModelTester at 0x7f5e37e1d900>"
      ]
     },
     "execution_count": 16,
     "metadata": {},
     "output_type": "execute_result"
    }
   ],
   "source": [
    "%%time\n",
    "dataloader = ImageDataset(data=[item for item in data if item[1] == 0],\n",
    "                          transform=transform,\n",
    "                          test_size=test_size,\n",
    "                          seed=seed,\n",
    "                          batch_size=batch_size,\n",
    "                          shuffle=shuffle,\n",
    "                          num_workers=num_workers)\n",
    "\n",
    "ModelTester(path=path, device=device, dataloader=dataloader.dataloader['test'])"
   ]
  },
  {
   "cell_type": "code",
   "execution_count": 17,
   "metadata": {},
   "outputs": [
    {
     "name": "stdout",
     "output_type": "stream",
     "text": [
      "Class Distribution for test:\n"
     ]
    },
    {
     "name": "stdout",
     "output_type": "stream",
     "text": [
      "  Class 0: 0 samples\n",
      "  Class 1: 10536 samples\n"
     ]
    },
    {
     "name": "stderr",
     "output_type": "stream",
     "text": [
      "100%|██████████| 330/330 [00:15<00:00, 20.82it/s]\n"
     ]
    },
    {
     "name": "stdout",
     "output_type": "stream",
     "text": [
      "Evaluation Results:\n",
      "Confusion Matrix:\n",
      "[[   0    0]\n",
      " [2160 8376]]\n",
      "Accuracy: 79.50%\n",
      "F1 Score: 88.58%\n",
      "Mean Probability: 50.00%\n",
      "Max Probability: 96.42%\n",
      "Min Probability: 3.58%\n",
      "Standard Deviation of Probabilities: 0.1910\n",
      "CPU times: user 19.6 s, sys: 5.73 s, total: 25.3 s\n",
      "Wall time: 23 s\n"
     ]
    },
    {
     "data": {
      "text/plain": [
       "<__main__.ModelTester at 0x7f5e3923d8d0>"
      ]
     },
     "execution_count": 17,
     "metadata": {},
     "output_type": "execute_result"
    }
   ],
   "source": [
    "%%time\n",
    "dataloader = ImageDataset(data=[item for item in data if item[1] == 1],\n",
    "                          transform=transform,\n",
    "                          test_size=test_size,\n",
    "                          seed=seed,\n",
    "                          batch_size=batch_size,\n",
    "                          shuffle=shuffle,\n",
    "                          num_workers=num_workers)\n",
    "\n",
    "ModelTester(path=path, device=device, dataloader=dataloader.dataloader['test'])"
   ]
  },
  {
   "cell_type": "code",
   "execution_count": 18,
   "metadata": {},
   "outputs": [],
   "source": [
    "class PreModelTester:\n",
    "    def __init__(self, path, device, dataloader):\n",
    "        self.device = device\n",
    "        self.dataloader = dataloader\n",
    "        self.model = models.vgg16_bn(pretrained=True)\n",
    "        self.load_model(path)\n",
    "        self.evaluate()\n",
    "\n",
    "    def load_model(self, path):\n",
    "        self.model = models.vgg16_bn(pretrained=True)\n",
    "        nr_filters = self.model.classifier[0].in_features\n",
    "        self.model.classifier = nn.Linear(nr_filters, 1)\n",
    "        state_dict = torch.load(path, map_location=torch.device(\"cpu\"))\n",
    "        model_dict = self.model.state_dict()\n",
    "        state_dict = {k: v for k, v in state_dict.items() if k in model_dict}\n",
    "        model_dict.update(state_dict)\n",
    "        self.model.load_state_dict(model_dict)\n",
    "        self.model = self.model.to(self.device)\n",
    "\n",
    "    def classify(self):\n",
    "        self.model.eval()\n",
    "        predictions = []\n",
    "        labels = []\n",
    "        probabilities = []\n",
    "\n",
    "        with torch.no_grad():\n",
    "            for inputs, targets in tqdm(self.dataloader):\n",
    "                inputs = inputs.to(self.device)\n",
    "                targets = targets.to(self.device)\n",
    "                outputs = self.model(inputs)\n",
    "                \n",
    "                logits = torch.nn.functional.sigmoid(outputs)\n",
    "                predicted = (logits > 0.5).int()\n",
    "\n",
    "                predictions.extend(predicted.cpu().numpy())\n",
    "                labels.extend(targets.cpu().numpy())\n",
    "                probabilities.extend(logits.cpu().numpy())\n",
    "\n",
    "        return predictions, labels, probabilities\n",
    "\n",
    "    def calculate_prob_stats(self, probabilities):\n",
    "        probabilities = np.array(probabilities)\n",
    "        min_probs = np.min(probabilities)\n",
    "        max_probs = np.max(probabilities)\n",
    "        std_probs = np.std(probabilities)\n",
    "        mean_probs = np.mean(probabilities)\n",
    "\n",
    "        return min_probs, max_probs, std_probs, mean_probs\n",
    "\n",
    "    def evaluate(self):\n",
    "        predictions, labels, probabilities = self.classify()\n",
    "        cm = confusion_matrix(labels, predictions)\n",
    "        accuracy = accuracy_score(labels, predictions)\n",
    "        f1 = f1_score(labels, predictions, average='weighted')\n",
    "\n",
    "        min_probs, max_probs, std_probs, mean_probs = self.calculate_prob_stats(probabilities)\n",
    "\n",
    "        print(\"Evaluation Results:\")\n",
    "        print(f\"Confusion Matrix:\\n{cm}\")\n",
    "        print(f\"Accuracy: {accuracy:.4f}\")\n",
    "        print(f\"F1 Score: {f1:.4f}\")\n",
    "        print(f\"Mean Probability: {mean_probs:.4f}\")\n",
    "        print(f\"Max Probability: {max_probs:.4f}\")\n",
    "        print(f\"Min Probability: {min_probs:.4f}\")        \n",
    "        print(f\"Standard Deviation of Probabilities: {std_probs:.4f}\")"
   ]
  },
  {
   "cell_type": "code",
   "execution_count": 19,
   "metadata": {},
   "outputs": [
    {
     "name": "stdout",
     "output_type": "stream",
     "text": [
      "Inspecting Data...\n",
      "- Class Counts:\n",
      "  Class 1: 10536 samples\n",
      "  Class 0: 3272 samples\n"
     ]
    },
    {
     "name": "stderr",
     "output_type": "stream",
     "text": [
      "100%|██████████| 432/432 [00:42<00:00, 10.11it/s]\n"
     ]
    },
    {
     "name": "stdout",
     "output_type": "stream",
     "text": [
      "Evaluation Results:\n",
      "Confusion Matrix:\n",
      "[[ 485 2787]\n",
      " [1167 9369]]\n",
      "Accuracy: 0.7136\n",
      "Precision: 0.7707\n",
      "Recall: 0.8892\n",
      "F1 Score: 0.8258\n",
      "Min Probability: 0.0011\n",
      "Max Probability: 0.9993\n",
      "Standard Deviation of Probabilities: 0.2419\n",
      "Mean Probability: 0.8404\n",
      "CPU times: user 52.6 s, sys: 15.9 s, total: 1min 8s\n",
      "Wall time: 56.3 s\n"
     ]
    },
    {
     "data": {
      "text/plain": [
       "<__main__.PreModelTester at 0x7f41cfa7e830>"
      ]
     },
     "execution_count": 19,
     "metadata": {},
     "output_type": "execute_result"
    }
   ],
   "source": [
    "%%time\n",
    "transform = {'test': transforms.Compose([transforms.Resize((240, 240)),\n",
    "                                        transforms.ToTensor(),\n",
    "                                        transforms.Normalize(mean=[0.5, 0.5, 0.5], std=[0.5, 0.5, 0.5])])}\n",
    "test_size = None\n",
    "seed = 42\n",
    "batch_size = 32\n",
    "shuffle = false\n",
    "num_workers = os.cpu_count()\n",
    "\n",
    "dataloader = ImageDataset(data=data,\n",
    "                          transform=transform,\n",
    "                          test_size=test_size,\n",
    "                          seed=seed,\n",
    "                          batch_size=batch_size,\n",
    "                          shuffle=shuffle,\n",
    "                          num_workers=num_workers)\n",
    "\n",
    "path = '숙대모델'\n",
    "device = torch.device(\"cuda\" if torch.cuda.is_available() else \"cpu\")\n",
    "\n",
    "ModelTester(path=path, device=device, dataloader=dataloader.dataloader['test'])"
   ]
  },
  {
   "cell_type": "code",
   "execution_count": 20,
   "metadata": {},
   "outputs": [
    {
     "name": "stdout",
     "output_type": "stream",
     "text": [
      "Inspecting Data...\n",
      "- Class Counts:\n",
      "  Class 0: 3272 samples\n"
     ]
    },
    {
     "name": "stderr",
     "output_type": "stream",
     "text": [
      "100%|██████████| 103/103 [00:10<00:00,  9.47it/s]"
     ]
    },
    {
     "name": "stdout",
     "output_type": "stream",
     "text": [
      "Evaluation Results:\n",
      "Confusion Matrix:\n",
      "[[ 485 2787]\n",
      " [   0    0]]\n",
      "Accuracy: 0.1482\n",
      "Precision: 0.0000\n",
      "Recall: 0.0000\n",
      "F1 Score: 0.0000\n",
      "Min Probability: 0.0011\n",
      "Max Probability: 0.9987\n",
      "Standard Deviation of Probabilities: 0.2501\n",
      "Mean Probability: 0.8008\n",
      "CPU times: user 15.5 s, sys: 10.6 s, total: 26.1 s\n",
      "Wall time: 16.3 s\n"
     ]
    },
    {
     "name": "stderr",
     "output_type": "stream",
     "text": [
      "\n"
     ]
    },
    {
     "data": {
      "text/plain": [
       "<__main__.PreModelTester at 0x7f41cdcb1660>"
      ]
     },
     "execution_count": 20,
     "metadata": {},
     "output_type": "execute_result"
    }
   ],
   "source": [
    "%%time\n",
    "dataloader = ImageDataset(data=[item for item in data if item[1] == 0],\n",
    "                          transform=transform,\n",
    "                          test_size=test_size,\n",
    "                          seed=seed,\n",
    "                          batch_size=batch_size,\n",
    "                          shuffle=shuffle,\n",
    "                          num_workers=num_workers)\n",
    "\n",
    "ModelTester(path=path, device=device, dataloader=dataloader.dataloader['test'])"
   ]
  },
  {
   "cell_type": "code",
   "execution_count": 21,
   "metadata": {},
   "outputs": [
    {
     "name": "stdout",
     "output_type": "stream",
     "text": [
      "Inspecting Data...\n",
      "- Class Counts:\n",
      "  Class 1: 10536 samples\n"
     ]
    },
    {
     "name": "stderr",
     "output_type": "stream",
     "text": [
      "100%|██████████| 330/330 [00:32<00:00, 10.03it/s]"
     ]
    },
    {
     "name": "stdout",
     "output_type": "stream",
     "text": [
      "Evaluation Results:\n",
      "Confusion Matrix:\n",
      "[[   0    0]\n",
      " [1167 9369]]\n",
      "Accuracy: 0.8892\n",
      "Precision: 1.0000\n",
      "Recall: 0.8892\n",
      "F1 Score: 0.9414\n",
      "Min Probability: 0.0016\n",
      "Max Probability: 0.9993\n",
      "Standard Deviation of Probabilities: 0.2379\n",
      "Mean Probability: 0.8527\n",
      "CPU times: user 40.5 s, sys: 12.7 s, total: 53.2 s\n",
      "Wall time: 42.2 s\n"
     ]
    },
    {
     "name": "stderr",
     "output_type": "stream",
     "text": [
      "\n"
     ]
    },
    {
     "data": {
      "text/plain": [
       "<__main__.PreModelTester at 0x7f41d036c460>"
      ]
     },
     "execution_count": 21,
     "metadata": {},
     "output_type": "execute_result"
    }
   ],
   "source": [
    "%%time\n",
    "dataloader = ImageDataset(data=[item for item in data if item[1] == 1],\n",
    "                          transform=transform,\n",
    "                          test_size=test_size,\n",
    "                          seed=seed,\n",
    "                          batch_size=batch_size,\n",
    "                          shuffle=shuffle,\n",
    "                          num_workers=num_workers)\n",
    "\n",
    "ModelTester(path=path, device=device, dataloader=dataloader.dataloader['test'])"
   ]
  },
  {
   "cell_type": "code",
   "execution_count": null,
   "metadata": {},
   "outputs": [],
   "source": []
  }
 ],
 "metadata": {
  "kernelspec": {
   "display_name": "Python 3 (ipykernel)",
   "language": "python",
   "name": "python3"
  },
  "language_info": {
   "codemirror_mode": {
    "name": "ipython",
    "version": 3
   },
   "file_extension": ".py",
   "mimetype": "text/x-python",
   "name": "python",
   "nbconvert_exporter": "python",
   "pygments_lexer": "ipython3",
   "version": "3.10.13"
  }
 },
 "nbformat": 4,
 "nbformat_minor": 5
}
