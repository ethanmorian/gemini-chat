{
 "cells": [
  {
   "cell_type": "code",
   "execution_count": null,
   "metadata": {},
   "outputs": [],
   "source": [
    "import concurrent.futures\n",
    "import os\n",
    "from urllib.parse import urlparse\n",
    "from bs4 import BeautifulSoup\n",
    "from selenium import webdriver\n",
    "from selenium.webdriver.chrome.service import Service as ChromeService\n",
    "from selenium.webdriver.chrome.options import Options as ChromeOptions\n",
    "from selenium.webdriver.common.by import By\n",
    "from webdriver_manager.chrome import ChromeDriverManager\n",
    "import requests\n",
    "from tqdm import tqdm"
   ]
  },
  {
   "cell_type": "code",
   "execution_count": null,
   "metadata": {},
   "outputs": [
    {
     "name": "stderr",
     "output_type": "stream",
     "text": [
      "\n",
      "KeyboardInterrupt\n",
      "\n"
     ]
    }
   ],
   "source": [
    "headers = {\n",
    "    'User-Agent': 'Mozilla/5.0 (compatible; Googlebot/2.1; +http://www.google.com/bot.html)'\n",
    "}\n",
    "\n",
    "chrome_options = ChromeOptions()\n",
    "\n",
    "session = requests.Session()\n",
    "\n",
    "def process_product_page(product_page):\n",
    "    try:\n",
    "        product_url = product_page['href']\n",
    "\n",
    "        driver = webdriver.Chrome(service=ChromeService(ChromeDriverManager().install()), options=chrome_options)\n",
    "\n",
    "        driver.get(product_url)\n",
    "        driver.implicitly_wait(5)\n",
    "\n",
    "        driver.find_element(By.CSS_SELECTOR, 'div._3osy73V_eD._1Hc_ju_IXp > button').click()\n",
    "        driver.implicitly_wait(5)\n",
    "\n",
    "        full_html = driver.page_source\n",
    "\n",
    "        driver.quit()\n",
    "\n",
    "        soup = BeautifulSoup(full_html, 'html.parser')\n",
    "\n",
    "        product_name = soup.select_one('h3._22kNQuEXmb._copyable').text\n",
    "\n",
    "        valid_product_name = ''.join(c for c in os.path.splitext(product_name)[0] if c.isalnum() or c in (' ', '_')).rstrip()\n",
    "        valid_product_name = valid_product_name.replace(' ', '_')\n",
    "        target_directory = os.path.abspath(f'naver/{valid_product_name}')\n",
    "\n",
    "        os.makedirs(target_directory, exist_ok=True)\n",
    "\n",
    "        image_tags = soup.select('.se-main-container img')\n",
    "\n",
    "        for i, img in enumerate(image_tags):\n",
    "            if 'data-src' in img.attrs and img['data-src'].strip():\n",
    "                image_url = img['data-src']\n",
    "\n",
    "                parsed_url = urlparse(image_url)\n",
    "                filename, extension = os.path.splitext(os.path.basename(parsed_url.path))\n",
    "\n",
    "                file_path = os.path.join(target_directory, f'image_{i}{extension}')\n",
    "\n",
    "                response = session.get(image_url)\n",
    "\n",
    "                with open(file_path, 'wb') as f:\n",
    "                    f.write(response.content)\n",
    "\n",
    "    except Exception as e:\n",
    "        pass\n",
    "\n",
    "with concurrent.futures.ThreadPoolExecutor() as executor:\n",
    "    for i in tqdm(range(1, 20714), desc='Processing pages'):\n",
    "        url = f'https://search.shopping.naver.com/search/all?adQuery=%EC%82%AC%EB%A3%8C&frm=NVSHATC&npayType=2&origQuery=%EC%82%AC%EB%A3%8C&pagingIndex={i}&pagingSize=40&productSet=checkout&query=%EC%82%AC%EB%A3%8C&sort=rel&timestamp=&viewType=image'\n",
    "\n",
    "        response = session.get(url, headers=headers)\n",
    "        soup = BeautifulSoup(response.content, 'html.parser')\n",
    "\n",
    "        product_pages = soup.select('div.thumbnail_thumb_wrap__RbcYO._wrapper > a')\n",
    "\n",
    "        executor.map(process_product_page, product_pages)"
   ]
  }
 ],
 "metadata": {
  "kernelspec": {
   "display_name": "Python 3",
   "language": "python",
   "name": "python3"
  },
  "language_info": {
   "codemirror_mode": {
    "name": "ipython",
    "version": 3
   },
   "file_extension": ".py",
   "mimetype": "text/x-python",
   "name": "python",
   "nbconvert_exporter": "python",
   "pygments_lexer": "ipython3",
   "version": "3.12.1"
  }
 },
 "nbformat": 4,
 "nbformat_minor": 2
}
