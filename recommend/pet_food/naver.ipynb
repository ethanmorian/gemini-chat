{
 "cells": [
  {
   "cell_type": "code",
   "execution_count": 1,
   "metadata": {},
   "outputs": [
    {
     "name": "stderr",
     "output_type": "stream",
     "text": [
      "Fetching product URLs:   6%|▌         | 652/10900 [20:44<5:44:00,  2.01s/it]"
     ]
    }
   ],
   "source": [
    "from selenium import webdriver\n",
    "from selenium.webdriver.chrome.options import Options\n",
    "from selenium.webdriver.common.by import By\n",
    "from tqdm import tqdm\n",
    "\n",
    "chrome_options = Options()\n",
    "chrome_options.add_argument('--disable-gpu')\n",
    "chrome_options.add_argument('--disable-software-rasterizer')\n",
    "\n",
    "def fetch_product_urls(pet_type):\n",
    "    product_urls = []\n",
    "    \n",
    "    try:\n",
    "        with webdriver.Chrome(options=chrome_options) as driver:\n",
    "            if pet_type == 'dog':\n",
    "                total_pages = 10900\n",
    "                base_url = 'https://search.shopping.naver.com/search/all?adQuery=%EA%B0%95%EC%95%84%EC%A7%80%20%EC%82%AC%EB%A3%8C&frm=NVSHATC&npayType=2&origQuery=%EA%B0%95%EC%95%84%EC%A7%80%20%EC%82%AC%EB%A3%8C&pagingIndex={}&pagingSize=40&productSet=checkout&query=%EA%B0%95%EC%95%84%EC%A7%80%20%EC%82%AC%EB%A3%8C&sort=rel&timestamp=&viewType=image'\n",
    "            elif pet_type == 'cat':\n",
    "                total_pages = 5900\n",
    "                base_url = 'https://search.shopping.naver.com/search/all?adQuery=%EA%B3%A0%EC%96%91%EC%9D%B4%20%EC%82%AC%EB%A3%8C&frm=NVSHATC&npayType=2&origQuery=%EA%B3%A0%EC%96%91%EC%9D%B4%20%EC%82%AC%EB%A3%8C&pagingIndex={}&pagingSize=40&productSet=checkout&query=%EA%B3%A0%EC%96%91%EC%9D%B4%20%EC%82%AC%EB%A3%8C&sort=rel&timestamp=&viewType=image'\n",
    "            \n",
    "            for page in tqdm(range(1, total_pages+1), desc='Fetching product URLs'):\n",
    "                url = base_url.format(page)\n",
    "                driver.get(url)\n",
    "                driver.implicitly_wait(2)\n",
    "\n",
    "                driver.execute_script(\"window.scrollTo(0, document.body.scrollHeight);\")\n",
    "                driver.implicitly_wait(2)\n",
    "\n",
    "                links = driver.find_elements(By.CSS_SELECTOR, '.thumbnail_thumb__Bxb6Z.linkAnchor')\n",
    "\n",
    "                for link in links:\n",
    "                    product_urls.append(link.get_attribute('href'))\n",
    "\n",
    "    except Exception as e:\n",
    "        print(f'Error: {e}')\n",
    "    \n",
    "    if product_urls:\n",
    "        with open(f'{pet_type}_product_urls.txt', 'w') as file:\n",
    "            for url in product_urls:\n",
    "                file.write(url + '\\n')\n",
    "\n",
    "pet_type = 'dog'\n",
    "# pet_type = 'cat'\n",
    "\n",
    "fetch_product_urls(pet_type)"
   ]
  },
  {
   "cell_type": "code",
   "execution_count": null,
   "metadata": {},
   "outputs": [],
   "source": [
    "file_path = 'dog_product_urls.txt'\n",
    "# file_path = 'cat_product_urls.txt'\n",
    "\n",
    "with open(file_path, 'r') as file:\n",
    "    urls = file.readlines()\n",
    "\n",
    "chrome_options = Options()\n",
    "chrome_options.add_argument('--disable-gpu')\n",
    "chrome_options.add_argument('--disable-software-rasterizer')\n",
    "\n",
    "def download_images(urls):\n",
    "    with webdriver.Chrome(options=chrome_options) as driver:\n",
    "        for url in urls:\n",
    "            driver.get(url)"
   ]
  }
 ],
 "metadata": {
  "kernelspec": {
   "display_name": "Python 3",
   "language": "python",
   "name": "python3"
  },
  "language_info": {
   "codemirror_mode": {
    "name": "ipython",
    "version": 3
   },
   "file_extension": ".py",
   "mimetype": "text/x-python",
   "name": "python",
   "nbconvert_exporter": "python",
   "pygments_lexer": "ipython3",
   "version": "3.11.5"
  }
 },
 "nbformat": 4,
 "nbformat_minor": 2
}
