{
 "cells": [
  {
   "cell_type": "code",
   "execution_count": 12,
   "metadata": {},
   "outputs": [],
   "source": [
    "import os\n",
    "from urllib.parse import urlparse\n",
    "from tqdm import tqdm\n",
    "import requests\n",
    "from bs4 import BeautifulSoup\n",
    "from selenium import webdriver\n",
    "from selenium.webdriver.chrome.service import Service as ChromeService\n",
    "from selenium.webdriver.chrome.options import Options as ChromeOptions\n",
    "from selenium.webdriver.common.by import By\n",
    "from webdriver_manager.chrome import ChromeDriverManager"
   ]
  },
  {
   "cell_type": "code",
   "execution_count": 14,
   "metadata": {},
   "outputs": [
    {
     "name": "stderr",
     "output_type": "stream",
     "text": [
      "Processing Images: 100%|██████████| 21/21 [00:11<00:00,  1.90it/s]\n"
     ]
    },
    {
     "name": "stdout",
     "output_type": "stream",
     "text": [
      "Images for product '직영_호주_강아지사료_4kg_3종_캥거루살몬치킨_펫죠_키블댓카운트' successfully processed.\n"
     ]
    },
    {
     "name": "stderr",
     "output_type": "stream",
     "text": [
      "Processing Images: 100%|██████████| 7/7 [00:03<00:00,  2.09it/s]\n"
     ]
    },
    {
     "name": "stdout",
     "output_type": "stream",
     "text": [
      "Images for product '로얄캐닌_캣_라이트웨이트케어_3kg_다이어트' successfully processed.\n"
     ]
    },
    {
     "name": "stderr",
     "output_type": "stream",
     "text": [
      "Processing Images: 100%|██████████| 13/13 [00:06<00:00,  2.06it/s]\n"
     ]
    },
    {
     "name": "stdout",
     "output_type": "stream",
     "text": [
      "Images for product '토우_구운오리고구마독_5' successfully processed.\n"
     ]
    },
    {
     "name": "stderr",
     "output_type": "stream",
     "text": [
      "Processing Images: 100%|██████████| 5/5 [00:02<00:00,  2.13it/s]\n"
     ]
    },
    {
     "name": "stdout",
     "output_type": "stream",
     "text": [
      "Images for product '인섹트도그_큰알갱이_10kg_사료_하이포알러지' successfully processed.\n"
     ]
    },
    {
     "name": "stderr",
     "output_type": "stream",
     "text": [
      "Processing Images: 100%|██████████| 20/20 [00:09<00:00,  2.01it/s]\n"
     ]
    },
    {
     "name": "stdout",
     "output_type": "stream",
     "text": [
      "Images for product '바프독_레시피_올인원_패키지_강아지_생식_닭_칠면조_오리_양_소_1kg' successfully processed.\n"
     ]
    },
    {
     "name": "stderr",
     "output_type": "stream",
     "text": [
      "Processing Images: 100%|██████████| 7/7 [00:03<00:00,  1.94it/s]\n"
     ]
    },
    {
     "name": "stdout",
     "output_type": "stream",
     "text": [
      "Images for product '캐츠랑_전연령_리브레_5kg_캣츠랑_고양이_대용량_길냥이_길고양이_사료_고양이밥' successfully processed.\n"
     ]
    },
    {
     "name": "stderr",
     "output_type": "stream",
     "text": [
      "Processing Images: 100%|██████████| 25/25 [00:13<00:00,  1.82it/s]\n"
     ]
    },
    {
     "name": "stdout",
     "output_type": "stream",
     "text": [
      "Images for product '알러지_강아지_사료_눈물_가수분해_피부_말티즈_비숑_푸들_라비앙독_연어_1' successfully processed.\n"
     ]
    },
    {
     "name": "stderr",
     "output_type": "stream",
     "text": [
      "Processing Images: 100%|██████████| 23/23 [00:10<00:00,  2.10it/s]\n"
     ]
    },
    {
     "name": "stdout",
     "output_type": "stream",
     "text": [
      "Images for product '대용량_전연령강아지사료_웰비스타_모던_5kg5kg_클로렐라_소고기함유_애완견사료' successfully processed.\n"
     ]
    },
    {
     "name": "stderr",
     "output_type": "stream",
     "text": [
      "Processing Images: 100%|██████████| 18/18 [00:08<00:00,  2.21it/s]\n"
     ]
    },
    {
     "name": "stdout",
     "output_type": "stream",
     "text": [
      "Images for product '라비앙독_강아지_사료_가수분해_피부_눈물_알러지_대용량_개_애견_샘플_연어_4' successfully processed.\n"
     ]
    },
    {
     "name": "stderr",
     "output_type": "stream",
     "text": [
      "Processing Images: 100%|██████████| 26/26 [00:13<00:00,  1.94it/s]\n",
      "Processing pages:   0%|          | 1/20713 [03:27<1191:56:05, 207.17s/it]"
     ]
    },
    {
     "name": "stdout",
     "output_type": "stream",
     "text": [
      "Images for product '더헬씨_시니어_노령견_노견_사료_6kg_부드러운_말랑한_강아지_눈물_사료' successfully processed.\n"
     ]
    },
    {
     "name": "stderr",
     "output_type": "stream",
     "text": [
      "Processing Images: 100%|██████████| 24/24 [00:12<00:00,  1.95it/s]\n"
     ]
    },
    {
     "name": "stdout",
     "output_type": "stream",
     "text": [
      "Images for product '직영_호주_강아지사료_4kg_살몬__오션피쉬_초록입홍합_펫죠_키블댓카운트' successfully processed.\n"
     ]
    },
    {
     "name": "stderr",
     "output_type": "stream",
     "text": [
      "Processing Images: 100%|██████████| 22/22 [00:11<00:00,  1.92it/s]\n"
     ]
    },
    {
     "name": "stdout",
     "output_type": "stream",
     "text": [
      "Images for product '직영_호주_강아지사료_1kg_캥거루__스위트포테이토_펫죠_키블댓카운트' successfully processed.\n"
     ]
    },
    {
     "name": "stderr",
     "output_type": "stream",
     "text": [
      "Processing Images: 100%|██████████| 5/5 [00:02<00:00,  1.85it/s]\n"
     ]
    },
    {
     "name": "stdout",
     "output_type": "stream",
     "text": [
      "Images for product '프라임캣_골드_15kg_고양이사료_대용량_전연령_길냥이밥_길고양이사료_뉴트리나' successfully processed.\n"
     ]
    },
    {
     "name": "stderr",
     "output_type": "stream",
     "text": [
      "Processing Images: 100%|██████████| 25/25 [00:12<00:00,  2.07it/s]\n"
     ]
    },
    {
     "name": "stdout",
     "output_type": "stream",
     "text": [
      "Images for product '오리젠_New_캣앤키튼_오리지널_캣_5' successfully processed.\n"
     ]
    },
    {
     "name": "stderr",
     "output_type": "stream",
     "text": [
      "Processing Images: 100%|██████████| 21/21 [00:11<00:00,  1.81it/s]\n"
     ]
    },
    {
     "name": "stdout",
     "output_type": "stream",
     "text": [
      "Images for product '씽크라이크펫_강아지_큐브_생식_보양식_영양식_1kg' successfully processed.\n",
      "Error processing images for product '씽크라이크펫_강아지_큐브_생식_보양식_영양식_1kg': Message: no such element: Unable to locate element: {\"method\":\"css selector\",\"selector\":\"div._3osy73V_eD._1Hc_ju_IXp > button\"}\n",
      "  (Session info: chrome=120.0.6099.217); For documentation on this error, please visit: https://www.selenium.dev/documentation/webdriver/troubleshooting/errors#no-such-element-exception\n",
      "Stacktrace:\n",
      "\tGetHandleVerifier [0x00F56EE3+174339]\n",
      "\t(No symbol) [0x00E80A51]\n",
      "\t(No symbol) [0x00B96FF6]\n",
      "\t(No symbol) [0x00BC9876]\n",
      "\t(No symbol) [0x00BC9C2C]\n",
      "\t(No symbol) [0x00BFBD42]\n",
      "\t(No symbol) [0x00BE7054]\n",
      "\t(No symbol) [0x00BFA104]\n",
      "\t(No symbol) [0x00BE6DA6]\n",
      "\t(No symbol) [0x00BC1034]\n",
      "\t(No symbol) [0x00BC1F8D]\n",
      "\tGetHandleVerifier [0x00FF4B1C+820540]\n",
      "\tsqlite3_dbdata_init [0x010B53EE+653550]\n",
      "\tsqlite3_dbdata_init [0x010B4E09+652041]\n",
      "\tsqlite3_dbdata_init [0x010A97CC+605388]\n",
      "\tsqlite3_dbdata_init [0x010B5D9B+656027]\n",
      "\t(No symbol) [0x00E8FE6C]\n",
      "\t(No symbol) [0x00E883B8]\n",
      "\t(No symbol) [0x00E884DD]\n",
      "\t(No symbol) [0x00E75818]\n",
      "\tBaseThreadInitThunk [0x75D57BA9+25]\n",
      "\tRtlInitializeExceptionChain [0x7792BD2B+107]\n",
      "\tRtlClearBits [0x7792BCAF+191]\n",
      "\n"
     ]
    },
    {
     "name": "stderr",
     "output_type": "stream",
     "text": [
      "Processing Images: 100%|██████████| 7/7 [00:03<00:00,  2.13it/s]\n"
     ]
    },
    {
     "name": "stdout",
     "output_type": "stream",
     "text": [
      "Images for product '로얄캐닌_캣파우치_키튼_그레이비_85g_1박스12개_습식사료_주식캔' successfully processed.\n"
     ]
    },
    {
     "name": "stderr",
     "output_type": "stream",
     "text": [
      "Processing Images: 100%|██████████| 79/79 [00:34<00:00,  2.28it/s]\n"
     ]
    },
    {
     "name": "stdout",
     "output_type": "stream",
     "text": [
      "Images for product '고양이왕국_로얄캐닌_고양이사료_인도어_캣_4kg' successfully processed.\n"
     ]
    },
    {
     "name": "stderr",
     "output_type": "stream",
     "text": [
      "Processing Images: 100%|██████████| 25/25 [00:12<00:00,  1.97it/s]\n"
     ]
    },
    {
     "name": "stdout",
     "output_type": "stream",
     "text": [
      "Images for product '필드스타_강아지사료_진도10kg_11랜덤간식_대용량_진돗개사료_중대형견' successfully processed.\n"
     ]
    },
    {
     "name": "stderr",
     "output_type": "stream",
     "text": [
      "Processing Images: 100%|██████████| 12/12 [00:05<00:00,  2.14it/s]\n",
      "Processing pages:   0%|          | 2/20713 [07:12<1254:17:24, 218.02s/it]"
     ]
    },
    {
     "name": "stdout",
     "output_type": "stream",
     "text": [
      "Images for product '로얄캐닌_미니_인도어_어덜트_3kg_강아지_사료' successfully processed.\n"
     ]
    },
    {
     "name": "stderr",
     "output_type": "stream",
     "text": [
      "Processing Images: 100%|██████████| 22/22 [00:11<00:00,  1.86it/s]\n"
     ]
    },
    {
     "name": "stdout",
     "output_type": "stream",
     "text": [
      "Images for product '직영_호주_강아지사료_1kg_치킨__터키_펫죠_키블댓카운트' successfully processed.\n"
     ]
    },
    {
     "name": "stderr",
     "output_type": "stream",
     "text": [
      "Processing Images: 100%|██████████| 10/10 [00:04<00:00,  2.08it/s]\n"
     ]
    },
    {
     "name": "stdout",
     "output_type": "stream",
     "text": [
      "Images for product '토우_송어훈제연어캣_5' successfully processed.\n"
     ]
    },
    {
     "name": "stderr",
     "output_type": "stream",
     "text": [
      "Processing Images: 100%|██████████| 2/2 [00:01<00:00,  1.67it/s]\n"
     ]
    },
    {
     "name": "stdout",
     "output_type": "stream",
     "text": [
      "Images for product '버틀러_더텐소프트_3kg400g_반건조_4종_에어드라이_사료_인섹트' successfully processed.\n"
     ]
    },
    {
     "name": "stderr",
     "output_type": "stream",
     "text": [
      "Processing Images: 100%|██████████| 12/12 [00:05<00:00,  2.24it/s]\n"
     ]
    },
    {
     "name": "stdout",
     "output_type": "stream",
     "text": [
      "Images for product '시저_홀썸볼_닭_당근_보리_콩_85g_10개입_세트' successfully processed.\n",
      "Error processing images for product '시저_홀썸볼_닭_당근_보리_콩_85g_10개입_세트': Message: stale element reference: stale element not found\n",
      "  (Session info: chrome=120.0.6099.217); For documentation on this error, please visit: https://www.selenium.dev/documentation/webdriver/troubleshooting/errors#stale-element-reference-exception\n",
      "Stacktrace:\n",
      "\tGetHandleVerifier [0x00F56EE3+174339]\n",
      "\t(No symbol) [0x00E80A51]\n",
      "\t(No symbol) [0x00B96FF6]\n",
      "\t(No symbol) [0x00B9AEAC]\n",
      "\t(No symbol) [0x00B9C585]\n",
      "\t(No symbol) [0x00B9C622]\n",
      "\t(No symbol) [0x00BCE380]\n",
      "\t(No symbol) [0x00BCCCDB]\n",
      "\t(No symbol) [0x00BCB5F8]\n",
      "\t(No symbol) [0x00BCAD7F]\n",
      "\t(No symbol) [0x00BC2B4E]\n",
      "\t(No symbol) [0x00BE700C]\n",
      "\t(No symbol) [0x00BC25B0]\n",
      "\t(No symbol) [0x00BE7414]\n",
      "\t(No symbol) [0x00BFA104]\n",
      "\t(No symbol) [0x00BE6DA6]\n",
      "\t(No symbol) [0x00BC1034]\n",
      "\t(No symbol) [0x00BC1F8D]\n",
      "\tGetHandleVerifier [0x00FF4B1C+820540]\n",
      "\tsqlite3_dbdata_init [0x010B53EE+653550]\n",
      "\tsqlite3_dbdata_init [0x010B4E09+652041]\n",
      "\tsqlite3_dbdata_init [0x010A97CC+605388]\n",
      "\tsqlite3_dbdata_init [0x010B5D9B+656027]\n",
      "\t(No symbol) [0x00E8FE6C]\n",
      "\t(No symbol) [0x00E883B8]\n",
      "\t(No symbol) [0x00E884DD]\n",
      "\t(No symbol) [0x00E75818]\n",
      "\tBaseThreadInitThunk [0x75D57BA9+25]\n",
      "\tRtlInitializeExceptionChain [0x7792BD2B+107]\n",
      "\tRtlClearBits [0x7792BCAF+191]\n",
      "\n"
     ]
    },
    {
     "name": "stderr",
     "output_type": "stream",
     "text": [
      "Processing Images: 100%|██████████| 11/11 [00:04<00:00,  2.25it/s]\n"
     ]
    },
    {
     "name": "stdout",
     "output_type": "stream",
     "text": [
      "Images for product '로얄캐닌_미니_인도어_어덜트엑스스몰_퍼피푸들말티즈_500g_세트' successfully processed.\n"
     ]
    },
    {
     "name": "stderr",
     "output_type": "stream",
     "text": [
      "Processing Images: 100%|██████████| 7/7 [00:03<00:00,  2.05it/s]\n"
     ]
    },
    {
     "name": "stdout",
     "output_type": "stream",
     "text": [
      "Images for product '베네핏_독_싱글프로틴_1' successfully processed.\n"
     ]
    },
    {
     "name": "stderr",
     "output_type": "stream",
     "text": [
      "Processing Images: 100%|██████████| 38/38 [00:18<00:00,  2.11it/s]\n"
     ]
    },
    {
     "name": "stdout",
     "output_type": "stream",
     "text": [
      "Images for product '로얄캐닌_고양이사료_인도어_4kg' successfully processed.\n"
     ]
    },
    {
     "name": "stderr",
     "output_type": "stream",
     "text": [
      "Processing Images: 100%|██████████| 20/20 [00:09<00:00,  2.18it/s]\n"
     ]
    },
    {
     "name": "stdout",
     "output_type": "stream",
     "text": [
      "Images for product '건강백서_강아지사료_말티즈_건강한_관절_4kg2kg_2개_애견사료' successfully processed.\n"
     ]
    },
    {
     "name": "stderr",
     "output_type": "stream",
     "text": [
      "Processing pages:   0%|          | 3/20713 [10:06<1138:17:16, 197.87s/it]"
     ]
    },
    {
     "name": "stdout",
     "output_type": "stream",
     "text": [
      "Error processing images for product '건강백서_강아지사료_말티즈_건강한_관절_4kg2kg_2개_애견사료': Message: stale element reference: stale element not found\n",
      "  (Session info: chrome=120.0.6099.217); For documentation on this error, please visit: https://www.selenium.dev/documentation/webdriver/troubleshooting/errors#stale-element-reference-exception\n",
      "Stacktrace:\n",
      "\tGetHandleVerifier [0x00F56EE3+174339]\n",
      "\t(No symbol) [0x00E80A51]\n",
      "\t(No symbol) [0x00B96FF6]\n",
      "\t(No symbol) [0x00B9AEAC]\n",
      "\t(No symbol) [0x00B9C585]\n",
      "\t(No symbol) [0x00B9C622]\n",
      "\t(No symbol) [0x00BCCE4C]\n",
      "\t(No symbol) [0x00BCB5F8]\n",
      "\t(No symbol) [0x00BCAD7F]\n",
      "\t(No symbol) [0x00BC2B4E]\n",
      "\t(No symbol) [0x00BE700C]\n",
      "\t(No symbol) [0x00BC25B0]\n",
      "\t(No symbol) [0x00BE7414]\n",
      "\t(No symbol) [0x00BFA104]\n",
      "\t(No symbol) [0x00BE6DA6]\n",
      "\t(No symbol) [0x00BC1034]\n",
      "\t(No symbol) [0x00BC1F8D]\n",
      "\tGetHandleVerifier [0x00FF4B1C+820540]\n",
      "\tsqlite3_dbdata_init [0x010B53EE+653550]\n",
      "\tsqlite3_dbdata_init [0x010B4E09+652041]\n",
      "\tsqlite3_dbdata_init [0x010A97CC+605388]\n",
      "\tsqlite3_dbdata_init [0x010B5D9B+656027]\n",
      "\t(No symbol) [0x00E8FE6C]\n",
      "\t(No symbol) [0x00E883B8]\n",
      "\t(No symbol) [0x00E884DD]\n",
      "\t(No symbol) [0x00E75818]\n",
      "\tBaseThreadInitThunk [0x75D57BA9+25]\n",
      "\tRtlInitializeExceptionChain [0x7792BD2B+107]\n",
      "\tRtlClearBits [0x7792BCAF+191]\n",
      "\n"
     ]
    },
    {
     "name": "stderr",
     "output_type": "stream",
     "text": [
      "Processing Images: 100%|██████████| 8/8 [00:04<00:00,  1.81it/s]\n"
     ]
    },
    {
     "name": "stdout",
     "output_type": "stream",
     "text": [
      "Images for product '인디고_고양이_신장_사료_면역_앤_유리너리_포_캣_2kg' successfully processed.\n"
     ]
    },
    {
     "name": "stderr",
     "output_type": "stream",
     "text": [
      "Processing Images:  71%|███████▏  | 5/7 [00:03<00:01,  1.58it/s]\n",
      "Processing pages:   0%|          | 3/20713 [10:38<1224:50:53, 212.91s/it]\n"
     ]
    },
    {
     "ename": "KeyboardInterrupt",
     "evalue": "",
     "output_type": "error",
     "traceback": [
      "\u001b[1;31m---------------------------------------------------------------------------\u001b[0m",
      "\u001b[1;31mKeyboardInterrupt\u001b[0m                         Traceback (most recent call last)",
      "Cell \u001b[1;32mIn[14], line 52\u001b[0m\n\u001b[0;32m     48\u001b[0m filename, extension \u001b[38;5;241m=\u001b[39m os\u001b[38;5;241m.\u001b[39mpath\u001b[38;5;241m.\u001b[39msplitext(os\u001b[38;5;241m.\u001b[39mpath\u001b[38;5;241m.\u001b[39mbasename(parsed_url\u001b[38;5;241m.\u001b[39mpath))\n\u001b[0;32m     50\u001b[0m file_path \u001b[38;5;241m=\u001b[39m os\u001b[38;5;241m.\u001b[39mpath\u001b[38;5;241m.\u001b[39mjoin(target_directory, \u001b[38;5;124mf\u001b[39m\u001b[38;5;124m'\u001b[39m\u001b[38;5;124mimage_\u001b[39m\u001b[38;5;132;01m{\u001b[39;00mi\u001b[38;5;132;01m}\u001b[39;00m\u001b[38;5;132;01m{\u001b[39;00mextension\u001b[38;5;132;01m}\u001b[39;00m\u001b[38;5;124m'\u001b[39m)\n\u001b[1;32m---> 52\u001b[0m response \u001b[38;5;241m=\u001b[39m \u001b[43mrequests\u001b[49m\u001b[38;5;241;43m.\u001b[39;49m\u001b[43mget\u001b[49m\u001b[43m(\u001b[49m\u001b[43mimage_url\u001b[49m\u001b[43m)\u001b[49m\n\u001b[0;32m     54\u001b[0m \u001b[38;5;28;01mwith\u001b[39;00m \u001b[38;5;28mopen\u001b[39m(file_path, \u001b[38;5;124m'\u001b[39m\u001b[38;5;124mwb\u001b[39m\u001b[38;5;124m'\u001b[39m) \u001b[38;5;28;01mas\u001b[39;00m f:\n\u001b[0;32m     55\u001b[0m     f\u001b[38;5;241m.\u001b[39mwrite(response\u001b[38;5;241m.\u001b[39mcontent)\n",
      "File \u001b[1;32mc:\\Users\\lbw\\anaconda3\\envs\\crawling\\Lib\\site-packages\\requests\\api.py:73\u001b[0m, in \u001b[0;36mget\u001b[1;34m(url, params, **kwargs)\u001b[0m\n\u001b[0;32m     62\u001b[0m \u001b[38;5;28;01mdef\u001b[39;00m \u001b[38;5;21mget\u001b[39m(url, params\u001b[38;5;241m=\u001b[39m\u001b[38;5;28;01mNone\u001b[39;00m, \u001b[38;5;241m*\u001b[39m\u001b[38;5;241m*\u001b[39mkwargs):\n\u001b[0;32m     63\u001b[0m \u001b[38;5;250m    \u001b[39m\u001b[38;5;124mr\u001b[39m\u001b[38;5;124;03m\"\"\"Sends a GET request.\u001b[39;00m\n\u001b[0;32m     64\u001b[0m \n\u001b[0;32m     65\u001b[0m \u001b[38;5;124;03m    :param url: URL for the new :class:`Request` object.\u001b[39;00m\n\u001b[1;32m   (...)\u001b[0m\n\u001b[0;32m     70\u001b[0m \u001b[38;5;124;03m    :rtype: requests.Response\u001b[39;00m\n\u001b[0;32m     71\u001b[0m \u001b[38;5;124;03m    \"\"\"\u001b[39;00m\n\u001b[1;32m---> 73\u001b[0m     \u001b[38;5;28;01mreturn\u001b[39;00m \u001b[43mrequest\u001b[49m\u001b[43m(\u001b[49m\u001b[38;5;124;43m\"\u001b[39;49m\u001b[38;5;124;43mget\u001b[39;49m\u001b[38;5;124;43m\"\u001b[39;49m\u001b[43m,\u001b[49m\u001b[43m \u001b[49m\u001b[43murl\u001b[49m\u001b[43m,\u001b[49m\u001b[43m \u001b[49m\u001b[43mparams\u001b[49m\u001b[38;5;241;43m=\u001b[39;49m\u001b[43mparams\u001b[49m\u001b[43m,\u001b[49m\u001b[43m \u001b[49m\u001b[38;5;241;43m*\u001b[39;49m\u001b[38;5;241;43m*\u001b[39;49m\u001b[43mkwargs\u001b[49m\u001b[43m)\u001b[49m\n",
      "File \u001b[1;32mc:\\Users\\lbw\\anaconda3\\envs\\crawling\\Lib\\site-packages\\requests\\api.py:59\u001b[0m, in \u001b[0;36mrequest\u001b[1;34m(method, url, **kwargs)\u001b[0m\n\u001b[0;32m     55\u001b[0m \u001b[38;5;66;03m# By using the 'with' statement we are sure the session is closed, thus we\u001b[39;00m\n\u001b[0;32m     56\u001b[0m \u001b[38;5;66;03m# avoid leaving sockets open which can trigger a ResourceWarning in some\u001b[39;00m\n\u001b[0;32m     57\u001b[0m \u001b[38;5;66;03m# cases, and look like a memory leak in others.\u001b[39;00m\n\u001b[0;32m     58\u001b[0m \u001b[38;5;28;01mwith\u001b[39;00m sessions\u001b[38;5;241m.\u001b[39mSession() \u001b[38;5;28;01mas\u001b[39;00m session:\n\u001b[1;32m---> 59\u001b[0m     \u001b[38;5;28;01mreturn\u001b[39;00m \u001b[43msession\u001b[49m\u001b[38;5;241;43m.\u001b[39;49m\u001b[43mrequest\u001b[49m\u001b[43m(\u001b[49m\u001b[43mmethod\u001b[49m\u001b[38;5;241;43m=\u001b[39;49m\u001b[43mmethod\u001b[49m\u001b[43m,\u001b[49m\u001b[43m \u001b[49m\u001b[43murl\u001b[49m\u001b[38;5;241;43m=\u001b[39;49m\u001b[43murl\u001b[49m\u001b[43m,\u001b[49m\u001b[43m \u001b[49m\u001b[38;5;241;43m*\u001b[39;49m\u001b[38;5;241;43m*\u001b[39;49m\u001b[43mkwargs\u001b[49m\u001b[43m)\u001b[49m\n",
      "File \u001b[1;32mc:\\Users\\lbw\\anaconda3\\envs\\crawling\\Lib\\site-packages\\requests\\sessions.py:589\u001b[0m, in \u001b[0;36mSession.request\u001b[1;34m(self, method, url, params, data, headers, cookies, files, auth, timeout, allow_redirects, proxies, hooks, stream, verify, cert, json)\u001b[0m\n\u001b[0;32m    584\u001b[0m send_kwargs \u001b[38;5;241m=\u001b[39m {\n\u001b[0;32m    585\u001b[0m     \u001b[38;5;124m\"\u001b[39m\u001b[38;5;124mtimeout\u001b[39m\u001b[38;5;124m\"\u001b[39m: timeout,\n\u001b[0;32m    586\u001b[0m     \u001b[38;5;124m\"\u001b[39m\u001b[38;5;124mallow_redirects\u001b[39m\u001b[38;5;124m\"\u001b[39m: allow_redirects,\n\u001b[0;32m    587\u001b[0m }\n\u001b[0;32m    588\u001b[0m send_kwargs\u001b[38;5;241m.\u001b[39mupdate(settings)\n\u001b[1;32m--> 589\u001b[0m resp \u001b[38;5;241m=\u001b[39m \u001b[38;5;28;43mself\u001b[39;49m\u001b[38;5;241;43m.\u001b[39;49m\u001b[43msend\u001b[49m\u001b[43m(\u001b[49m\u001b[43mprep\u001b[49m\u001b[43m,\u001b[49m\u001b[43m \u001b[49m\u001b[38;5;241;43m*\u001b[39;49m\u001b[38;5;241;43m*\u001b[39;49m\u001b[43msend_kwargs\u001b[49m\u001b[43m)\u001b[49m\n\u001b[0;32m    591\u001b[0m \u001b[38;5;28;01mreturn\u001b[39;00m resp\n",
      "File \u001b[1;32mc:\\Users\\lbw\\anaconda3\\envs\\crawling\\Lib\\site-packages\\requests\\sessions.py:703\u001b[0m, in \u001b[0;36mSession.send\u001b[1;34m(self, request, **kwargs)\u001b[0m\n\u001b[0;32m    700\u001b[0m start \u001b[38;5;241m=\u001b[39m preferred_clock()\n\u001b[0;32m    702\u001b[0m \u001b[38;5;66;03m# Send the request\u001b[39;00m\n\u001b[1;32m--> 703\u001b[0m r \u001b[38;5;241m=\u001b[39m \u001b[43madapter\u001b[49m\u001b[38;5;241;43m.\u001b[39;49m\u001b[43msend\u001b[49m\u001b[43m(\u001b[49m\u001b[43mrequest\u001b[49m\u001b[43m,\u001b[49m\u001b[43m \u001b[49m\u001b[38;5;241;43m*\u001b[39;49m\u001b[38;5;241;43m*\u001b[39;49m\u001b[43mkwargs\u001b[49m\u001b[43m)\u001b[49m\n\u001b[0;32m    705\u001b[0m \u001b[38;5;66;03m# Total elapsed time of the request (approximately)\u001b[39;00m\n\u001b[0;32m    706\u001b[0m elapsed \u001b[38;5;241m=\u001b[39m preferred_clock() \u001b[38;5;241m-\u001b[39m start\n",
      "File \u001b[1;32mc:\\Users\\lbw\\anaconda3\\envs\\crawling\\Lib\\site-packages\\requests\\adapters.py:486\u001b[0m, in \u001b[0;36mHTTPAdapter.send\u001b[1;34m(self, request, stream, timeout, verify, cert, proxies)\u001b[0m\n\u001b[0;32m    483\u001b[0m     timeout \u001b[38;5;241m=\u001b[39m TimeoutSauce(connect\u001b[38;5;241m=\u001b[39mtimeout, read\u001b[38;5;241m=\u001b[39mtimeout)\n\u001b[0;32m    485\u001b[0m \u001b[38;5;28;01mtry\u001b[39;00m:\n\u001b[1;32m--> 486\u001b[0m     resp \u001b[38;5;241m=\u001b[39m \u001b[43mconn\u001b[49m\u001b[38;5;241;43m.\u001b[39;49m\u001b[43murlopen\u001b[49m\u001b[43m(\u001b[49m\n\u001b[0;32m    487\u001b[0m \u001b[43m        \u001b[49m\u001b[43mmethod\u001b[49m\u001b[38;5;241;43m=\u001b[39;49m\u001b[43mrequest\u001b[49m\u001b[38;5;241;43m.\u001b[39;49m\u001b[43mmethod\u001b[49m\u001b[43m,\u001b[49m\n\u001b[0;32m    488\u001b[0m \u001b[43m        \u001b[49m\u001b[43murl\u001b[49m\u001b[38;5;241;43m=\u001b[39;49m\u001b[43murl\u001b[49m\u001b[43m,\u001b[49m\n\u001b[0;32m    489\u001b[0m \u001b[43m        \u001b[49m\u001b[43mbody\u001b[49m\u001b[38;5;241;43m=\u001b[39;49m\u001b[43mrequest\u001b[49m\u001b[38;5;241;43m.\u001b[39;49m\u001b[43mbody\u001b[49m\u001b[43m,\u001b[49m\n\u001b[0;32m    490\u001b[0m \u001b[43m        \u001b[49m\u001b[43mheaders\u001b[49m\u001b[38;5;241;43m=\u001b[39;49m\u001b[43mrequest\u001b[49m\u001b[38;5;241;43m.\u001b[39;49m\u001b[43mheaders\u001b[49m\u001b[43m,\u001b[49m\n\u001b[0;32m    491\u001b[0m \u001b[43m        \u001b[49m\u001b[43mredirect\u001b[49m\u001b[38;5;241;43m=\u001b[39;49m\u001b[38;5;28;43;01mFalse\u001b[39;49;00m\u001b[43m,\u001b[49m\n\u001b[0;32m    492\u001b[0m \u001b[43m        \u001b[49m\u001b[43massert_same_host\u001b[49m\u001b[38;5;241;43m=\u001b[39;49m\u001b[38;5;28;43;01mFalse\u001b[39;49;00m\u001b[43m,\u001b[49m\n\u001b[0;32m    493\u001b[0m \u001b[43m        \u001b[49m\u001b[43mpreload_content\u001b[49m\u001b[38;5;241;43m=\u001b[39;49m\u001b[38;5;28;43;01mFalse\u001b[39;49;00m\u001b[43m,\u001b[49m\n\u001b[0;32m    494\u001b[0m \u001b[43m        \u001b[49m\u001b[43mdecode_content\u001b[49m\u001b[38;5;241;43m=\u001b[39;49m\u001b[38;5;28;43;01mFalse\u001b[39;49;00m\u001b[43m,\u001b[49m\n\u001b[0;32m    495\u001b[0m \u001b[43m        \u001b[49m\u001b[43mretries\u001b[49m\u001b[38;5;241;43m=\u001b[39;49m\u001b[38;5;28;43mself\u001b[39;49m\u001b[38;5;241;43m.\u001b[39;49m\u001b[43mmax_retries\u001b[49m\u001b[43m,\u001b[49m\n\u001b[0;32m    496\u001b[0m \u001b[43m        \u001b[49m\u001b[43mtimeout\u001b[49m\u001b[38;5;241;43m=\u001b[39;49m\u001b[43mtimeout\u001b[49m\u001b[43m,\u001b[49m\n\u001b[0;32m    497\u001b[0m \u001b[43m        \u001b[49m\u001b[43mchunked\u001b[49m\u001b[38;5;241;43m=\u001b[39;49m\u001b[43mchunked\u001b[49m\u001b[43m,\u001b[49m\n\u001b[0;32m    498\u001b[0m \u001b[43m    \u001b[49m\u001b[43m)\u001b[49m\n\u001b[0;32m    500\u001b[0m \u001b[38;5;28;01mexcept\u001b[39;00m (ProtocolError, \u001b[38;5;167;01mOSError\u001b[39;00m) \u001b[38;5;28;01mas\u001b[39;00m err:\n\u001b[0;32m    501\u001b[0m     \u001b[38;5;28;01mraise\u001b[39;00m \u001b[38;5;167;01mConnectionError\u001b[39;00m(err, request\u001b[38;5;241m=\u001b[39mrequest)\n",
      "File \u001b[1;32mc:\\Users\\lbw\\anaconda3\\envs\\crawling\\Lib\\site-packages\\urllib3\\connectionpool.py:790\u001b[0m, in \u001b[0;36mHTTPConnectionPool.urlopen\u001b[1;34m(self, method, url, body, headers, retries, redirect, assert_same_host, timeout, pool_timeout, release_conn, chunked, body_pos, preload_content, decode_content, **response_kw)\u001b[0m\n\u001b[0;32m    787\u001b[0m response_conn \u001b[38;5;241m=\u001b[39m conn \u001b[38;5;28;01mif\u001b[39;00m \u001b[38;5;129;01mnot\u001b[39;00m release_conn \u001b[38;5;28;01melse\u001b[39;00m \u001b[38;5;28;01mNone\u001b[39;00m\n\u001b[0;32m    789\u001b[0m \u001b[38;5;66;03m# Make the request on the HTTPConnection object\u001b[39;00m\n\u001b[1;32m--> 790\u001b[0m response \u001b[38;5;241m=\u001b[39m \u001b[38;5;28;43mself\u001b[39;49m\u001b[38;5;241;43m.\u001b[39;49m\u001b[43m_make_request\u001b[49m\u001b[43m(\u001b[49m\n\u001b[0;32m    791\u001b[0m \u001b[43m    \u001b[49m\u001b[43mconn\u001b[49m\u001b[43m,\u001b[49m\n\u001b[0;32m    792\u001b[0m \u001b[43m    \u001b[49m\u001b[43mmethod\u001b[49m\u001b[43m,\u001b[49m\n\u001b[0;32m    793\u001b[0m \u001b[43m    \u001b[49m\u001b[43murl\u001b[49m\u001b[43m,\u001b[49m\n\u001b[0;32m    794\u001b[0m \u001b[43m    \u001b[49m\u001b[43mtimeout\u001b[49m\u001b[38;5;241;43m=\u001b[39;49m\u001b[43mtimeout_obj\u001b[49m\u001b[43m,\u001b[49m\n\u001b[0;32m    795\u001b[0m \u001b[43m    \u001b[49m\u001b[43mbody\u001b[49m\u001b[38;5;241;43m=\u001b[39;49m\u001b[43mbody\u001b[49m\u001b[43m,\u001b[49m\n\u001b[0;32m    796\u001b[0m \u001b[43m    \u001b[49m\u001b[43mheaders\u001b[49m\u001b[38;5;241;43m=\u001b[39;49m\u001b[43mheaders\u001b[49m\u001b[43m,\u001b[49m\n\u001b[0;32m    797\u001b[0m \u001b[43m    \u001b[49m\u001b[43mchunked\u001b[49m\u001b[38;5;241;43m=\u001b[39;49m\u001b[43mchunked\u001b[49m\u001b[43m,\u001b[49m\n\u001b[0;32m    798\u001b[0m \u001b[43m    \u001b[49m\u001b[43mretries\u001b[49m\u001b[38;5;241;43m=\u001b[39;49m\u001b[43mretries\u001b[49m\u001b[43m,\u001b[49m\n\u001b[0;32m    799\u001b[0m \u001b[43m    \u001b[49m\u001b[43mresponse_conn\u001b[49m\u001b[38;5;241;43m=\u001b[39;49m\u001b[43mresponse_conn\u001b[49m\u001b[43m,\u001b[49m\n\u001b[0;32m    800\u001b[0m \u001b[43m    \u001b[49m\u001b[43mpreload_content\u001b[49m\u001b[38;5;241;43m=\u001b[39;49m\u001b[43mpreload_content\u001b[49m\u001b[43m,\u001b[49m\n\u001b[0;32m    801\u001b[0m \u001b[43m    \u001b[49m\u001b[43mdecode_content\u001b[49m\u001b[38;5;241;43m=\u001b[39;49m\u001b[43mdecode_content\u001b[49m\u001b[43m,\u001b[49m\n\u001b[0;32m    802\u001b[0m \u001b[43m    \u001b[49m\u001b[38;5;241;43m*\u001b[39;49m\u001b[38;5;241;43m*\u001b[39;49m\u001b[43mresponse_kw\u001b[49m\u001b[43m,\u001b[49m\n\u001b[0;32m    803\u001b[0m \u001b[43m\u001b[49m\u001b[43m)\u001b[49m\n\u001b[0;32m    805\u001b[0m \u001b[38;5;66;03m# Everything went great!\u001b[39;00m\n\u001b[0;32m    806\u001b[0m clean_exit \u001b[38;5;241m=\u001b[39m \u001b[38;5;28;01mTrue\u001b[39;00m\n",
      "File \u001b[1;32mc:\\Users\\lbw\\anaconda3\\envs\\crawling\\Lib\\site-packages\\urllib3\\connectionpool.py:467\u001b[0m, in \u001b[0;36mHTTPConnectionPool._make_request\u001b[1;34m(self, conn, method, url, body, headers, retries, timeout, chunked, response_conn, preload_content, decode_content, enforce_content_length)\u001b[0m\n\u001b[0;32m    464\u001b[0m \u001b[38;5;28;01mtry\u001b[39;00m:\n\u001b[0;32m    465\u001b[0m     \u001b[38;5;66;03m# Trigger any extra validation we need to do.\u001b[39;00m\n\u001b[0;32m    466\u001b[0m     \u001b[38;5;28;01mtry\u001b[39;00m:\n\u001b[1;32m--> 467\u001b[0m         \u001b[38;5;28;43mself\u001b[39;49m\u001b[38;5;241;43m.\u001b[39;49m\u001b[43m_validate_conn\u001b[49m\u001b[43m(\u001b[49m\u001b[43mconn\u001b[49m\u001b[43m)\u001b[49m\n\u001b[0;32m    468\u001b[0m     \u001b[38;5;28;01mexcept\u001b[39;00m (SocketTimeout, BaseSSLError) \u001b[38;5;28;01mas\u001b[39;00m e:\n\u001b[0;32m    469\u001b[0m         \u001b[38;5;28mself\u001b[39m\u001b[38;5;241m.\u001b[39m_raise_timeout(err\u001b[38;5;241m=\u001b[39me, url\u001b[38;5;241m=\u001b[39murl, timeout_value\u001b[38;5;241m=\u001b[39mconn\u001b[38;5;241m.\u001b[39mtimeout)\n",
      "File \u001b[1;32mc:\\Users\\lbw\\anaconda3\\envs\\crawling\\Lib\\site-packages\\urllib3\\connectionpool.py:1096\u001b[0m, in \u001b[0;36mHTTPSConnectionPool._validate_conn\u001b[1;34m(self, conn)\u001b[0m\n\u001b[0;32m   1094\u001b[0m \u001b[38;5;66;03m# Force connect early to allow us to validate the connection.\u001b[39;00m\n\u001b[0;32m   1095\u001b[0m \u001b[38;5;28;01mif\u001b[39;00m conn\u001b[38;5;241m.\u001b[39mis_closed:\n\u001b[1;32m-> 1096\u001b[0m     \u001b[43mconn\u001b[49m\u001b[38;5;241;43m.\u001b[39;49m\u001b[43mconnect\u001b[49m\u001b[43m(\u001b[49m\u001b[43m)\u001b[49m\n\u001b[0;32m   1098\u001b[0m \u001b[38;5;28;01mif\u001b[39;00m \u001b[38;5;129;01mnot\u001b[39;00m conn\u001b[38;5;241m.\u001b[39mis_verified:\n\u001b[0;32m   1099\u001b[0m     warnings\u001b[38;5;241m.\u001b[39mwarn(\n\u001b[0;32m   1100\u001b[0m         (\n\u001b[0;32m   1101\u001b[0m             \u001b[38;5;124mf\u001b[39m\u001b[38;5;124m\"\u001b[39m\u001b[38;5;124mUnverified HTTPS request is being made to host \u001b[39m\u001b[38;5;124m'\u001b[39m\u001b[38;5;132;01m{\u001b[39;00mconn\u001b[38;5;241m.\u001b[39mhost\u001b[38;5;132;01m}\u001b[39;00m\u001b[38;5;124m'\u001b[39m\u001b[38;5;124m. \u001b[39m\u001b[38;5;124m\"\u001b[39m\n\u001b[1;32m   (...)\u001b[0m\n\u001b[0;32m   1106\u001b[0m         InsecureRequestWarning,\n\u001b[0;32m   1107\u001b[0m     )\n",
      "File \u001b[1;32mc:\\Users\\lbw\\anaconda3\\envs\\crawling\\Lib\\site-packages\\urllib3\\connection.py:642\u001b[0m, in \u001b[0;36mHTTPSConnection.connect\u001b[1;34m(self)\u001b[0m\n\u001b[0;32m    633\u001b[0m \u001b[38;5;28;01mif\u001b[39;00m is_time_off:\n\u001b[0;32m    634\u001b[0m     warnings\u001b[38;5;241m.\u001b[39mwarn(\n\u001b[0;32m    635\u001b[0m         (\n\u001b[0;32m    636\u001b[0m             \u001b[38;5;124mf\u001b[39m\u001b[38;5;124m\"\u001b[39m\u001b[38;5;124mSystem time is way off (before \u001b[39m\u001b[38;5;132;01m{\u001b[39;00mRECENT_DATE\u001b[38;5;132;01m}\u001b[39;00m\u001b[38;5;124m). This will probably \u001b[39m\u001b[38;5;124m\"\u001b[39m\n\u001b[1;32m   (...)\u001b[0m\n\u001b[0;32m    639\u001b[0m         SystemTimeWarning,\n\u001b[0;32m    640\u001b[0m     )\n\u001b[1;32m--> 642\u001b[0m sock_and_verified \u001b[38;5;241m=\u001b[39m \u001b[43m_ssl_wrap_socket_and_match_hostname\u001b[49m\u001b[43m(\u001b[49m\n\u001b[0;32m    643\u001b[0m \u001b[43m    \u001b[49m\u001b[43msock\u001b[49m\u001b[38;5;241;43m=\u001b[39;49m\u001b[43msock\u001b[49m\u001b[43m,\u001b[49m\n\u001b[0;32m    644\u001b[0m \u001b[43m    \u001b[49m\u001b[43mcert_reqs\u001b[49m\u001b[38;5;241;43m=\u001b[39;49m\u001b[38;5;28;43mself\u001b[39;49m\u001b[38;5;241;43m.\u001b[39;49m\u001b[43mcert_reqs\u001b[49m\u001b[43m,\u001b[49m\n\u001b[0;32m    645\u001b[0m \u001b[43m    \u001b[49m\u001b[43mssl_version\u001b[49m\u001b[38;5;241;43m=\u001b[39;49m\u001b[38;5;28;43mself\u001b[39;49m\u001b[38;5;241;43m.\u001b[39;49m\u001b[43mssl_version\u001b[49m\u001b[43m,\u001b[49m\n\u001b[0;32m    646\u001b[0m \u001b[43m    \u001b[49m\u001b[43mssl_minimum_version\u001b[49m\u001b[38;5;241;43m=\u001b[39;49m\u001b[38;5;28;43mself\u001b[39;49m\u001b[38;5;241;43m.\u001b[39;49m\u001b[43mssl_minimum_version\u001b[49m\u001b[43m,\u001b[49m\n\u001b[0;32m    647\u001b[0m \u001b[43m    \u001b[49m\u001b[43mssl_maximum_version\u001b[49m\u001b[38;5;241;43m=\u001b[39;49m\u001b[38;5;28;43mself\u001b[39;49m\u001b[38;5;241;43m.\u001b[39;49m\u001b[43mssl_maximum_version\u001b[49m\u001b[43m,\u001b[49m\n\u001b[0;32m    648\u001b[0m \u001b[43m    \u001b[49m\u001b[43mca_certs\u001b[49m\u001b[38;5;241;43m=\u001b[39;49m\u001b[38;5;28;43mself\u001b[39;49m\u001b[38;5;241;43m.\u001b[39;49m\u001b[43mca_certs\u001b[49m\u001b[43m,\u001b[49m\n\u001b[0;32m    649\u001b[0m \u001b[43m    \u001b[49m\u001b[43mca_cert_dir\u001b[49m\u001b[38;5;241;43m=\u001b[39;49m\u001b[38;5;28;43mself\u001b[39;49m\u001b[38;5;241;43m.\u001b[39;49m\u001b[43mca_cert_dir\u001b[49m\u001b[43m,\u001b[49m\n\u001b[0;32m    650\u001b[0m \u001b[43m    \u001b[49m\u001b[43mca_cert_data\u001b[49m\u001b[38;5;241;43m=\u001b[39;49m\u001b[38;5;28;43mself\u001b[39;49m\u001b[38;5;241;43m.\u001b[39;49m\u001b[43mca_cert_data\u001b[49m\u001b[43m,\u001b[49m\n\u001b[0;32m    651\u001b[0m \u001b[43m    \u001b[49m\u001b[43mcert_file\u001b[49m\u001b[38;5;241;43m=\u001b[39;49m\u001b[38;5;28;43mself\u001b[39;49m\u001b[38;5;241;43m.\u001b[39;49m\u001b[43mcert_file\u001b[49m\u001b[43m,\u001b[49m\n\u001b[0;32m    652\u001b[0m \u001b[43m    \u001b[49m\u001b[43mkey_file\u001b[49m\u001b[38;5;241;43m=\u001b[39;49m\u001b[38;5;28;43mself\u001b[39;49m\u001b[38;5;241;43m.\u001b[39;49m\u001b[43mkey_file\u001b[49m\u001b[43m,\u001b[49m\n\u001b[0;32m    653\u001b[0m \u001b[43m    \u001b[49m\u001b[43mkey_password\u001b[49m\u001b[38;5;241;43m=\u001b[39;49m\u001b[38;5;28;43mself\u001b[39;49m\u001b[38;5;241;43m.\u001b[39;49m\u001b[43mkey_password\u001b[49m\u001b[43m,\u001b[49m\n\u001b[0;32m    654\u001b[0m \u001b[43m    \u001b[49m\u001b[43mserver_hostname\u001b[49m\u001b[38;5;241;43m=\u001b[39;49m\u001b[43mserver_hostname\u001b[49m\u001b[43m,\u001b[49m\n\u001b[0;32m    655\u001b[0m \u001b[43m    \u001b[49m\u001b[43mssl_context\u001b[49m\u001b[38;5;241;43m=\u001b[39;49m\u001b[38;5;28;43mself\u001b[39;49m\u001b[38;5;241;43m.\u001b[39;49m\u001b[43mssl_context\u001b[49m\u001b[43m,\u001b[49m\n\u001b[0;32m    656\u001b[0m \u001b[43m    \u001b[49m\u001b[43mtls_in_tls\u001b[49m\u001b[38;5;241;43m=\u001b[39;49m\u001b[43mtls_in_tls\u001b[49m\u001b[43m,\u001b[49m\n\u001b[0;32m    657\u001b[0m \u001b[43m    \u001b[49m\u001b[43massert_hostname\u001b[49m\u001b[38;5;241;43m=\u001b[39;49m\u001b[38;5;28;43mself\u001b[39;49m\u001b[38;5;241;43m.\u001b[39;49m\u001b[43massert_hostname\u001b[49m\u001b[43m,\u001b[49m\n\u001b[0;32m    658\u001b[0m \u001b[43m    \u001b[49m\u001b[43massert_fingerprint\u001b[49m\u001b[38;5;241;43m=\u001b[39;49m\u001b[38;5;28;43mself\u001b[39;49m\u001b[38;5;241;43m.\u001b[39;49m\u001b[43massert_fingerprint\u001b[49m\u001b[43m,\u001b[49m\n\u001b[0;32m    659\u001b[0m \u001b[43m\u001b[49m\u001b[43m)\u001b[49m\n\u001b[0;32m    660\u001b[0m \u001b[38;5;28mself\u001b[39m\u001b[38;5;241m.\u001b[39msock \u001b[38;5;241m=\u001b[39m sock_and_verified\u001b[38;5;241m.\u001b[39msocket\n\u001b[0;32m    661\u001b[0m \u001b[38;5;28mself\u001b[39m\u001b[38;5;241m.\u001b[39mis_verified \u001b[38;5;241m=\u001b[39m sock_and_verified\u001b[38;5;241m.\u001b[39mis_verified\n",
      "File \u001b[1;32mc:\\Users\\lbw\\anaconda3\\envs\\crawling\\Lib\\site-packages\\urllib3\\connection.py:782\u001b[0m, in \u001b[0;36m_ssl_wrap_socket_and_match_hostname\u001b[1;34m(sock, cert_reqs, ssl_version, ssl_minimum_version, ssl_maximum_version, cert_file, key_file, key_password, ca_certs, ca_cert_dir, ca_cert_data, assert_hostname, assert_fingerprint, server_hostname, ssl_context, tls_in_tls)\u001b[0m\n\u001b[0;32m    779\u001b[0m     \u001b[38;5;28;01mif\u001b[39;00m is_ipaddress(normalized):\n\u001b[0;32m    780\u001b[0m         server_hostname \u001b[38;5;241m=\u001b[39m normalized\n\u001b[1;32m--> 782\u001b[0m ssl_sock \u001b[38;5;241m=\u001b[39m \u001b[43mssl_wrap_socket\u001b[49m\u001b[43m(\u001b[49m\n\u001b[0;32m    783\u001b[0m \u001b[43m    \u001b[49m\u001b[43msock\u001b[49m\u001b[38;5;241;43m=\u001b[39;49m\u001b[43msock\u001b[49m\u001b[43m,\u001b[49m\n\u001b[0;32m    784\u001b[0m \u001b[43m    \u001b[49m\u001b[43mkeyfile\u001b[49m\u001b[38;5;241;43m=\u001b[39;49m\u001b[43mkey_file\u001b[49m\u001b[43m,\u001b[49m\n\u001b[0;32m    785\u001b[0m \u001b[43m    \u001b[49m\u001b[43mcertfile\u001b[49m\u001b[38;5;241;43m=\u001b[39;49m\u001b[43mcert_file\u001b[49m\u001b[43m,\u001b[49m\n\u001b[0;32m    786\u001b[0m \u001b[43m    \u001b[49m\u001b[43mkey_password\u001b[49m\u001b[38;5;241;43m=\u001b[39;49m\u001b[43mkey_password\u001b[49m\u001b[43m,\u001b[49m\n\u001b[0;32m    787\u001b[0m \u001b[43m    \u001b[49m\u001b[43mca_certs\u001b[49m\u001b[38;5;241;43m=\u001b[39;49m\u001b[43mca_certs\u001b[49m\u001b[43m,\u001b[49m\n\u001b[0;32m    788\u001b[0m \u001b[43m    \u001b[49m\u001b[43mca_cert_dir\u001b[49m\u001b[38;5;241;43m=\u001b[39;49m\u001b[43mca_cert_dir\u001b[49m\u001b[43m,\u001b[49m\n\u001b[0;32m    789\u001b[0m \u001b[43m    \u001b[49m\u001b[43mca_cert_data\u001b[49m\u001b[38;5;241;43m=\u001b[39;49m\u001b[43mca_cert_data\u001b[49m\u001b[43m,\u001b[49m\n\u001b[0;32m    790\u001b[0m \u001b[43m    \u001b[49m\u001b[43mserver_hostname\u001b[49m\u001b[38;5;241;43m=\u001b[39;49m\u001b[43mserver_hostname\u001b[49m\u001b[43m,\u001b[49m\n\u001b[0;32m    791\u001b[0m \u001b[43m    \u001b[49m\u001b[43mssl_context\u001b[49m\u001b[38;5;241;43m=\u001b[39;49m\u001b[43mcontext\u001b[49m\u001b[43m,\u001b[49m\n\u001b[0;32m    792\u001b[0m \u001b[43m    \u001b[49m\u001b[43mtls_in_tls\u001b[49m\u001b[38;5;241;43m=\u001b[39;49m\u001b[43mtls_in_tls\u001b[49m\u001b[43m,\u001b[49m\n\u001b[0;32m    793\u001b[0m \u001b[43m\u001b[49m\u001b[43m)\u001b[49m\n\u001b[0;32m    795\u001b[0m \u001b[38;5;28;01mtry\u001b[39;00m:\n\u001b[0;32m    796\u001b[0m     \u001b[38;5;28;01mif\u001b[39;00m assert_fingerprint:\n",
      "File \u001b[1;32mc:\\Users\\lbw\\anaconda3\\envs\\crawling\\Lib\\site-packages\\urllib3\\util\\ssl_.py:445\u001b[0m, in \u001b[0;36mssl_wrap_socket\u001b[1;34m(sock, keyfile, certfile, cert_reqs, ca_certs, server_hostname, ssl_version, ciphers, ssl_context, ca_cert_dir, key_password, ca_cert_data, tls_in_tls)\u001b[0m\n\u001b[0;32m    443\u001b[0m \u001b[38;5;28;01mif\u001b[39;00m ca_certs \u001b[38;5;129;01mor\u001b[39;00m ca_cert_dir \u001b[38;5;129;01mor\u001b[39;00m ca_cert_data:\n\u001b[0;32m    444\u001b[0m     \u001b[38;5;28;01mtry\u001b[39;00m:\n\u001b[1;32m--> 445\u001b[0m         \u001b[43mcontext\u001b[49m\u001b[38;5;241;43m.\u001b[39;49m\u001b[43mload_verify_locations\u001b[49m\u001b[43m(\u001b[49m\u001b[43mca_certs\u001b[49m\u001b[43m,\u001b[49m\u001b[43m \u001b[49m\u001b[43mca_cert_dir\u001b[49m\u001b[43m,\u001b[49m\u001b[43m \u001b[49m\u001b[43mca_cert_data\u001b[49m\u001b[43m)\u001b[49m\n\u001b[0;32m    446\u001b[0m     \u001b[38;5;28;01mexcept\u001b[39;00m \u001b[38;5;167;01mOSError\u001b[39;00m \u001b[38;5;28;01mas\u001b[39;00m e:\n\u001b[0;32m    447\u001b[0m         \u001b[38;5;28;01mraise\u001b[39;00m SSLError(e) \u001b[38;5;28;01mfrom\u001b[39;00m \u001b[38;5;21;01me\u001b[39;00m\n",
      "\u001b[1;31mKeyboardInterrupt\u001b[0m: "
     ]
    }
   ],
   "source": [
    "headers = {\n",
    "    'User-Agent': 'Mozilla/5.0 (compatible; Googlebot/2.1; +http://www.google.com/bot.html)'\n",
    "}\n",
    "\n",
    "chrome_options = ChromeOptions()\n",
    "\n",
    "for i in tqdm(range(1, 20714), desc='Processing pages'):\n",
    "    url = f'https://search.shopping.naver.com/search/all?adQuery=%EC%82%AC%EB%A3%8C&frm=NVSHATC&npayType=2&origQuery=%EC%82%AC%EB%A3%8C&pagingIndex={i}&pagingSize=40&productSet=checkout&query=%EC%82%AC%EB%A3%8C&sort=rel&timestamp=&viewType=image'\n",
    "\n",
    "    response = requests.get(url, headers=headers)\n",
    "    soup = BeautifulSoup(response.content, 'html.parser')\n",
    "\n",
    "    product_pages = soup.select('div.thumbnail_thumb_wrap__RbcYO._wrapper > a')\n",
    "    \n",
    "    for product_page in product_pages:\n",
    "        try:\n",
    "            product_url = product_page['href']\n",
    "            \n",
    "            driver = webdriver.Chrome(service=ChromeService(ChromeDriverManager().install()), options=chrome_options)\n",
    "            \n",
    "            driver.get(product_url)\n",
    "            driver.implicitly_wait(5)\n",
    "            \n",
    "            driver.find_element(By.CSS_SELECTOR, 'div._3osy73V_eD._1Hc_ju_IXp > button').click()\n",
    "            driver.implicitly_wait(5)\n",
    "            \n",
    "            full_html = driver.page_source\n",
    "            \n",
    "            driver.quit()\n",
    "            \n",
    "            soup = BeautifulSoup(full_html, 'html.parser')\n",
    "\n",
    "            product_name = soup.select_one('h3._22kNQuEXmb._copyable').text\n",
    "\n",
    "            valid_product_name = ''.join(c for c in os.path.splitext(product_name)[0] if c.isalnum() or c in (' ', '_')).rstrip()\n",
    "            valid_product_name = valid_product_name.replace(' ', '_')\n",
    "            target_directory = os.path.abspath(f'naver/{valid_product_name}')\n",
    "\n",
    "            os.makedirs(target_directory)\n",
    "            \n",
    "            image_tags = soup.select('.se-main-container img')\n",
    "\n",
    "            for i, img in enumerate(image_tags):\n",
    "                if 'data-src' in img.attrs and img['data-src'].strip():\n",
    "                    image_url = img['data-src']\n",
    "\n",
    "                    parsed_url = urlparse(image_url)\n",
    "                    filename, extension = os.path.splitext(os.path.basename(parsed_url.path))\n",
    "\n",
    "                    file_path = os.path.join(target_directory, f'image_{i}{extension}')\n",
    "\n",
    "                    response = requests.get(image_url)\n",
    "\n",
    "                    with open(file_path, 'wb') as f:\n",
    "                        f.write(response.content)\n",
    "            \n",
    "            print(f'Images for product \\'{valid_product_name}\\' successfully processed.')\n",
    "        \n",
    "        except Exception as e:\n",
    "            print(f'Error processing images for product \\'{valid_product_name}\\': {str(e)}')\n",
    "            pass"
   ]
  },
  {
   "cell_type": "code",
   "execution_count": 15,
   "metadata": {},
   "outputs": [],
   "source": [
    "import concurrent.futures\n",
    "import os\n",
    "from urllib.parse import urlparse\n",
    "from bs4 import BeautifulSoup\n",
    "from selenium import webdriver\n",
    "from selenium.webdriver.chrome.service import Service as ChromeService\n",
    "from selenium.webdriver.chrome.options import Options as ChromeOptions\n",
    "from selenium.webdriver.common.by import By\n",
    "from webdriver_manager.chrome import ChromeDriverManager\n",
    "import requests\n",
    "from tqdm import tqdm"
   ]
  },
  {
   "cell_type": "code",
   "execution_count": 16,
   "metadata": {},
   "outputs": [
    {
     "name": "stderr",
     "output_type": "stream",
     "text": [
      "Processing pages:   0%|          | 43/20713 [00:35<6:27:06,  1.12s/it]"
     ]
    },
    {
     "name": "stdout",
     "output_type": "stream",
     "text": [
      "Images for product '프라임캣_골드_15kg_고양이사료_대용량_전연령_길냥이밥_길고양이사료_뉴트리나' successfully processed.\n"
     ]
    },
    {
     "name": "stderr",
     "output_type": "stream",
     "text": [
      "Processing pages:   0%|          | 47/20713 [00:38<4:45:27,  1.21it/s]"
     ]
    },
    {
     "name": "stdout",
     "output_type": "stream",
     "text": [
      "Images for product '인섹트도그_큰알갱이_10kg_사료_하이포알러지' successfully processed.\n"
     ]
    },
    {
     "name": "stderr",
     "output_type": "stream",
     "text": [
      "Processing pages:   0%|          | 49/20713 [00:40<4:21:23,  1.32it/s]"
     ]
    },
    {
     "name": "stdout",
     "output_type": "stream",
     "text": [
      "Images for product '대용량_전연령강아지사료_웰비스타_모던_5kg5kg_클로렐라_소고기함유_애완견사료' successfully processed.\n",
      "Images for product '씽크라이크펫_강아지_큐브_생식_보양식_영양식_1kg' successfully processed.\n"
     ]
    },
    {
     "name": "stderr",
     "output_type": "stream",
     "text": [
      "Processing pages:   0%|          | 50/20713 [00:41<4:36:35,  1.25it/s]"
     ]
    },
    {
     "name": "stdout",
     "output_type": "stream",
     "text": [
      "Images for product '로얄캐닌_캣파우치_키튼_그레이비_85g_1박스12개_습식사료_주식캔' successfully processed.\n",
      "Images for product '더헬씨_시니어_노령견_노견_사료_6kg_부드러운_말랑한_강아지_눈물_사료' successfully processed.\n",
      "Images for product '바프독_레시피_올인원_패키지_강아지_생식_닭_칠면조_오리_양_소_1kg' successfully processed.\n",
      "Images for product '토우_구운오리고구마독_5' successfully processed.\n",
      "Images for product '라비앙독_강아지_사료_가수분해_피부_눈물_알러지_대용량_개_애견_샘플_연어_4' successfully processed.\n"
     ]
    },
    {
     "name": "stderr",
     "output_type": "stream",
     "text": [
      "Processing pages:   0%|          | 51/20713 [00:41<4:24:08,  1.30it/s]"
     ]
    },
    {
     "name": "stdout",
     "output_type": "stream",
     "text": [
      "Images for product '로얄캐닌_미니_인도어_어덜트_3kg_강아지_사료' successfully processed.\n",
      "Images for product '로얄캐닌_캣_라이트웨이트케어_3kg_다이어트' successfully processed.\n"
     ]
    },
    {
     "name": "stderr",
     "output_type": "stream",
     "text": [
      "Processing pages:   0%|          | 53/20713 [00:43<4:31:30,  1.27it/s]"
     ]
    },
    {
     "name": "stdout",
     "output_type": "stream",
     "text": [
      "Images for product '직영_호주_강아지사료_4kg_3종_캥거루살몬치킨_펫죠_키블댓카운트' successfully processed.\n",
      "Images for product '필드스타_강아지사료_진도10kg_11랜덤간식_대용량_진돗개사료_중대형견' successfully processed.\n"
     ]
    },
    {
     "name": "stderr",
     "output_type": "stream",
     "text": [
      "Processing pages:   0%|          | 55/20713 [00:44<4:21:16,  1.32it/s]"
     ]
    },
    {
     "name": "stdout",
     "output_type": "stream",
     "text": [
      "Images for product '오리젠_New_캣앤키튼_오리지널_캣_5' successfully processed.\n"
     ]
    },
    {
     "name": "stderr",
     "output_type": "stream",
     "text": [
      "Processing pages:   0%|          | 56/20713 [00:45<4:13:23,  1.36it/s]"
     ]
    },
    {
     "name": "stdout",
     "output_type": "stream",
     "text": [
      "Images for product '직영_호주_강아지사료_1kg_캥거루__스위트포테이토_펫죠_키블댓카운트' successfully processed.\n",
      "Images for product '고양이왕국_로얄캐닌_고양이사료_인도어_캣_4kg' successfully processed.\n",
      "Images for product '직영_호주_강아지사료_4kg_살몬__오션피쉬_초록입홍합_펫죠_키블댓카운트' successfully processed.\n"
     ]
    },
    {
     "name": "stderr",
     "output_type": "stream",
     "text": [
      "Processing pages:   0%|          | 59/20713 [00:47<4:26:37,  1.29it/s]"
     ]
    },
    {
     "name": "stdout",
     "output_type": "stream",
     "text": [
      "Images for product '알러지_강아지_사료_눈물_가수분해_피부_말티즈_비숑_푸들_라비앙독_연어_1' successfully processed.\n"
     ]
    },
    {
     "name": "stderr",
     "output_type": "stream",
     "text": [
      "Processing pages:   0%|          | 60/20713 [00:48<4:25:51,  1.29it/s]"
     ]
    },
    {
     "name": "stdout",
     "output_type": "stream",
     "text": [
      "Images for product '토우_송어훈제연어캣_5' successfully processed.\n",
      "Images for product '직영_호주_강아지사료_1kg_치킨__터키_펫죠_키블댓카운트' successfully processed.\n"
     ]
    },
    {
     "name": "stderr",
     "output_type": "stream",
     "text": [
      "Processing pages:   0%|          | 81/20713 [01:06<4:39:41,  1.23it/s]"
     ]
    },
    {
     "name": "stdout",
     "output_type": "stream",
     "text": [
      "Images for product '시저_홀썸볼_닭_당근_보리_콩_85g_10개입_세트' successfully processed.\n",
      "Images for product '버틀러_더텐소프트_3kg400g_반건조_4종_에어드라이_사료_인섹트' successfully processed.\n"
     ]
    },
    {
     "name": "stderr",
     "output_type": "stream",
     "text": [
      "Processing pages:   0%|          | 83/20713 [01:09<6:09:16,  1.07s/it]"
     ]
    },
    {
     "name": "stdout",
     "output_type": "stream",
     "text": [
      "Images for product '베네핏_독_싱글프로틴_1' successfully processed.\n",
      "Images for product '로얄캐닌_키튼_4kg_아기_고양이_사료' successfully processed.\n",
      "Images for product '청담닥터스랩_데일리솔루션_조인트웨이트_01_관절건강체중감소저알러지' successfully processed.\n",
      "Images for product '인디고_고양이_신장_사료_면역_앤_유리너리_포_캣_2kg' successfully processed.\n",
      "Images for product '건강백서_강아지사료_말티즈_건강한_관절_4kg2kg_2개_애견사료' successfully processed.\n"
     ]
    },
    {
     "name": "stderr",
     "output_type": "stream",
     "text": [
      "Processing pages:   0%|          | 85/20713 [01:10<5:07:38,  1.12it/s]"
     ]
    },
    {
     "name": "stdout",
     "output_type": "stream",
     "text": [
      "Images for product '퓨어비타_그레인프리_캣식품_치킨_6' successfully processed.\n",
      "Images for product '힐스_강아지_어덜트_스몰포_7kg' successfully processed.\n"
     ]
    },
    {
     "name": "stderr",
     "output_type": "stream",
     "text": [
      "Processing pages:   0%|          | 88/20713 [01:12<4:35:40,  1.25it/s]"
     ]
    },
    {
     "name": "stdout",
     "output_type": "stream",
     "text": [
      "Images for product '강아지_사료_샘플_기호성_테스트_눈물_알러지_Iskhan_독_퍼포먼스_어덜트_50g' successfully processed.\n"
     ]
    },
    {
     "name": "stderr",
     "output_type": "stream",
     "text": [
      "Processing pages:   0%|          | 93/20713 [01:17<4:49:45,  1.19it/s]"
     ]
    },
    {
     "name": "stdout",
     "output_type": "stream",
     "text": [
      "Images for product '밥이보약_CAT_걱정없는_헤어볼_3' successfully processed.\n"
     ]
    },
    {
     "name": "stderr",
     "output_type": "stream",
     "text": [
      "Processing pages:   0%|          | 94/20713 [01:17<4:43:20,  1.21it/s]"
     ]
    },
    {
     "name": "stdout",
     "output_type": "stream",
     "text": [
      "Images for product '원데이케어_기능성사료_샘플_체험팩_센서티브_50gx4개' successfully processed.\n"
     ]
    },
    {
     "name": "stderr",
     "output_type": "stream",
     "text": [
      "Processing pages:   0%|          | 99/20713 [01:21<4:24:55,  1.30it/s]"
     ]
    },
    {
     "name": "stdout",
     "output_type": "stream",
     "text": [
      "Images for product '뉴트리나_강아지사료_대용량_20kg_프라임_퍼포먼스_애견_소형견_대형견_전연령_개사료' successfully processed.\n"
     ]
    },
    {
     "name": "stderr",
     "output_type": "stream",
     "text": [
      "Processing pages:   0%|          | 100/20713 [01:22<4:29:03,  1.28it/s]"
     ]
    },
    {
     "name": "stdout",
     "output_type": "stream",
     "text": [
      "Images for product '펫컴_강아지사료_기호성좋은_전연령_반려견_대용량_사료_퍼피_딜리셔스_4' successfully processed.\n"
     ]
    },
    {
     "name": "stderr",
     "output_type": "stream",
     "text": [
      "Processing pages:   1%|          | 122/20713 [01:40<5:04:47,  1.13it/s]"
     ]
    },
    {
     "name": "stdout",
     "output_type": "stream",
     "text": [
      "Images for product '길고양이사료_길냥이_브프캣_15kg' successfully processed.\n"
     ]
    },
    {
     "name": "stderr",
     "output_type": "stream",
     "text": [
      "Processing pages:   1%|          | 123/20713 [01:41<5:33:10,  1.03it/s]"
     ]
    },
    {
     "name": "stdout",
     "output_type": "stream",
     "text": [
      "Images for product '로얄캐닌_인도어_7캣_1' successfully processed.\n",
      "Images for product '힐스_캣_cd_cd_1' successfully processed.\n",
      "Images for product '힐스_고양이사료_어덜트_퍼펙트_웨이트_6' successfully processed.\n"
     ]
    },
    {
     "name": "stderr",
     "output_type": "stream",
     "text": [
      "Processing pages:   1%|          | 124/20713 [01:42<5:02:20,  1.13it/s]"
     ]
    },
    {
     "name": "stdout",
     "output_type": "stream",
     "text": [
      "Images for product '힐스_강아지사료_어덜트_스몰포_7kg' successfully processed.\n",
      "Images for product '인디고_아기_고양이_사료_면역_앤_장_포_키튼_2kg' successfully processed.\n",
      "Images for product '캐츠랑_리브레_5kg_전연령_길고양이_사료' successfully processed.\n",
      "Images for product '레오나르도_순수생육_홀리스틱_생식_고양이사료_4kg_오리' successfully processed.\n",
      "Images for product '청담닥터스랩_데일리솔루션_스킨코트_02_피부피모건강저알러지_5kg' successfully processed.\n"
     ]
    },
    {
     "name": "stderr",
     "output_type": "stream",
     "text": [
      "Processing pages:   1%|          | 125/20713 [01:42<4:49:41,  1.18it/s]"
     ]
    },
    {
     "name": "stdout",
     "output_type": "stream",
     "text": [
      "Images for product '아카나_그래스랜드_캣_4' successfully processed.\n",
      "Images for product '힐스_강아지사료_어덜트_스몰바이트_6' successfully processed.\n"
     ]
    },
    {
     "name": "stderr",
     "output_type": "stream",
     "text": [
      "Processing pages:   1%|          | 126/20713 [01:43<4:44:25,  1.21it/s]"
     ]
    },
    {
     "name": "stdout",
     "output_type": "stream",
     "text": [
      "Images for product '밥이보약_고양이_건강_고민_사료_3' successfully processed.\n",
      "Images for product '나우_강아지_푸들_말티즈_비숑_피부_눈물_사료_칠면조_프레쉬_어덜트_2' successfully processed.\n",
      "Images for product '벅스펫_강아지_야채_채식_사료_벅스독_비건포뮬러_1' successfully processed.\n"
     ]
    },
    {
     "name": "stderr",
     "output_type": "stream",
     "text": [
      "Processing pages:   1%|          | 127/20713 [01:44<4:51:32,  1.18it/s]"
     ]
    },
    {
     "name": "stdout",
     "output_type": "stream",
     "text": [
      "Images for product '인디고_아기_고양이_사료_면역_앤_장_포_키튼_6kg' successfully processed.\n"
     ]
    },
    {
     "name": "stderr",
     "output_type": "stream",
     "text": [
      "Processing pages:   1%|          | 128/20713 [01:45<4:39:12,  1.23it/s]"
     ]
    },
    {
     "name": "stdout",
     "output_type": "stream",
     "text": [
      "Images for product '고양이왕국_로얄캐닌_고양이_사료_인도어_캣_10kg' successfully processed.\n"
     ]
    },
    {
     "name": "stderr",
     "output_type": "stream",
     "text": [
      "Processing pages:   1%|          | 129/20713 [01:45<4:24:01,  1.30it/s]"
     ]
    },
    {
     "name": "stdout",
     "output_type": "stream",
     "text": [
      "Images for product '로얄캐닌_강아지사료_견종별_푸들_어덜트_3kg' successfully processed.\n"
     ]
    },
    {
     "name": "stderr",
     "output_type": "stream",
     "text": [
      "Processing pages:   1%|          | 132/20713 [01:48<4:21:22,  1.31it/s]"
     ]
    },
    {
     "name": "stdout",
     "output_type": "stream",
     "text": [
      "Images for product '테일스마일_개_애견_가수분해_눈물_알러지_강아지_사료_1kg' successfully processed.\n"
     ]
    },
    {
     "name": "stderr",
     "output_type": "stream",
     "text": [
      "Processing pages:   1%|          | 134/20713 [01:49<4:38:41,  1.23it/s]"
     ]
    },
    {
     "name": "stdout",
     "output_type": "stream",
     "text": [
      "Images for product '마이펫닥터_시그니처_슬리밍_컨트롤_강아지_사료_유기농70_관절_슬개골_다이어트_2kg_1ea' successfully processed.\n"
     ]
    },
    {
     "name": "stderr",
     "output_type": "stream",
     "text": [
      "Processing pages:   1%|          | 153/20713 [02:06<5:34:55,  1.02it/s]"
     ]
    },
    {
     "name": "stdout",
     "output_type": "stream",
     "text": [
      "Images for product '나우_어덜트_스몰브리드_5' successfully processed.\n",
      "Images for product '힐스_고양이사료_어덜트_7_인도어_1' successfully processed.\n"
     ]
    },
    {
     "name": "stderr",
     "output_type": "stream",
     "text": [
      "Processing pages:   1%|          | 154/20713 [02:07<5:27:51,  1.05it/s]"
     ]
    },
    {
     "name": "stdout",
     "output_type": "stream",
     "text": [
      "Images for product '어드밴스_독_강아지_대포장사료_11' successfully processed.\n",
      "Images for product '도착보장_힐스_고양이사료_어덜트_퍼펙트_다이제스천_연어_1' successfully processed.\n",
      "Images for product '화이트도그_센시티브케어_밀웜_7kg_비숑_말티즈_말티푸_푸들_알러지_눈물_사료' successfully processed.\n",
      "Images for product '힐스_고양이사료_어덜트_헤어볼_컨트롤_라이트_3' successfully processed.\n"
     ]
    },
    {
     "name": "stderr",
     "output_type": "stream",
     "text": [
      "Processing pages:   1%|          | 156/20713 [02:08<4:54:22,  1.16it/s]"
     ]
    },
    {
     "name": "stdout",
     "output_type": "stream",
     "text": [
      "Images for product '마이펫닥터_시그니처_다이제스티브_컨트롤_강아지_사료_유기농70_췌장염_유산균_설사_장건강_위장_1kg_1ea' successfully processed.\n",
      "Images for product '프로네이처_홀리스틱_대용량_고양이사료__그레인프리__5' successfully processed.\n",
      "Images for product '힐스_고양이_키튼_1' successfully processed.\n"
     ]
    },
    {
     "name": "stderr",
     "output_type": "stream",
     "text": [
      "Processing pages:   1%|          | 157/20713 [02:09<4:48:39,  1.19it/s]"
     ]
    },
    {
     "name": "stdout",
     "output_type": "stream",
     "text": [
      "Images for product '프롬벳_강아지_습식사료_오도독_삼계죽_1kg' successfully processed.\n"
     ]
    },
    {
     "name": "stderr",
     "output_type": "stream",
     "text": [
      "Processing pages:   1%|          | 166/20713 [02:16<4:46:07,  1.20it/s]"
     ]
    },
    {
     "name": "stdout",
     "output_type": "stream",
     "text": [
      "Images for product '대한사료_홈앤독_소고기와채소_5kg_강아지사료_애견사료' successfully processed.\n"
     ]
    },
    {
     "name": "stderr",
     "output_type": "stream",
     "text": [
      "Processing pages:   1%|          | 167/20713 [02:18<5:16:14,  1.08it/s]"
     ]
    },
    {
     "name": "stdout",
     "output_type": "stream",
     "text": [
      "Images for product '펫러닝_더_프로젝트사료_연어밀웜고구마1kg250g600g간식' successfully processed.\n",
      "Images for product 'F_오리젠_독_스몰브리드_18kg_강아지사료유통24' successfully processed.\n",
      "Images for product '힐스_고양이사료_어덜트_10kg' successfully processed.\n"
     ]
    },
    {
     "name": "stderr",
     "output_type": "stream",
     "text": [
      "Processing pages:   1%|          | 171/20713 [02:21<4:36:00,  1.24it/s]"
     ]
    },
    {
     "name": "stdout",
     "output_type": "stream",
     "text": [
      "Images for product '디어니스트키친_그레인프리_터키_디하이드레이티드_레시피_907g' successfully processed.\n"
     ]
    },
    {
     "name": "stderr",
     "output_type": "stream",
     "text": [
      "Processing pages:   1%|          | 173/20713 [02:22<4:38:37,  1.23it/s]"
     ]
    },
    {
     "name": "stdout",
     "output_type": "stream",
     "text": [
      "Images for product 'go_고_사료_솔루션_LID_칠면조_큰알갱이_9' successfully processed.\n"
     ]
    },
    {
     "name": "stderr",
     "output_type": "stream",
     "text": [
      "Processing pages:   1%|          | 178/20713 [02:27<5:30:31,  1.04it/s]"
     ]
    },
    {
     "name": "stdout",
     "output_type": "stream",
     "text": [
      "Images for product '피쉬포캣_고양이캔_참치게살_70g' successfully processed.\n"
     ]
    },
    {
     "name": "stderr",
     "output_type": "stream",
     "text": [
      "Processing pages:   1%|          | 179/20713 [02:28<5:28:45,  1.04it/s]"
     ]
    },
    {
     "name": "stdout",
     "output_type": "stream",
     "text": [
      "Images for product '로얄캐닌_캣_가스트로_인테스티널_화이버_리스폰스_2kg' successfully processed.\n",
      "Images for product '오가다이어트_유기농_오가닉_가수분해_강아지_애견_사료_6kg_3종' successfully processed.\n",
      "Images for product '힐스_캣_id_id_156g_캔_고양이_위장관질환_소화장애_처방_사료' successfully processed.\n"
     ]
    },
    {
     "name": "stderr",
     "output_type": "stream",
     "text": [
      "Processing pages:   1%|          | 180/20713 [02:29<5:38:15,  1.01it/s]"
     ]
    },
    {
     "name": "stdout",
     "output_type": "stream",
     "text": [
      "Images for product '라포그_리얼인섹트_말티즈_푸들_비숑_눈물_피부_사료_관절케어_1' successfully processed.\n"
     ]
    },
    {
     "name": "stderr",
     "output_type": "stream",
     "text": [
      "Processing pages:   1%|          | 192/20713 [02:39<4:53:56,  1.16it/s]"
     ]
    },
    {
     "name": "stdout",
     "output_type": "stream",
     "text": [
      "Images for product '시저_11세이상_쇠고기_100g_12개_세트' successfully processed.\n",
      "Images for product '로얄캐닌_독_레날_캔_410g' successfully processed.\n"
     ]
    },
    {
     "name": "stderr",
     "output_type": "stream",
     "text": [
      "Processing pages:   1%|          | 193/20713 [02:40<4:57:51,  1.15it/s]"
     ]
    },
    {
     "name": "stdout",
     "output_type": "stream",
     "text": [
      "Images for product '로얄캐닌_그레이비_키튼_85gX12P_습식파우치_습식사료_아기고양이_주식캔' successfully processed.\n"
     ]
    },
    {
     "name": "stderr",
     "output_type": "stream",
     "text": [
      "Processing pages:   1%|          | 194/20713 [02:41<4:59:49,  1.14it/s]"
     ]
    },
    {
     "name": "stdout",
     "output_type": "stream",
     "text": [
      "Images for product '도착보장_힐스_고양이사료_어덜트_헤어볼_컨트롤_1' successfully processed.\n"
     ]
    },
    {
     "name": "stderr",
     "output_type": "stream",
     "text": [
      "Processing pages:   1%|          | 195/20713 [02:42<5:01:54,  1.13it/s]"
     ]
    },
    {
     "name": "stdout",
     "output_type": "stream",
     "text": [
      "Images for product '밥이보약_DOG_튼튼한관절_라지바이트_8' successfully processed.\n"
     ]
    },
    {
     "name": "stderr",
     "output_type": "stream",
     "text": [
      "Processing pages:   1%|          | 196/20713 [02:43<5:01:44,  1.13it/s]"
     ]
    },
    {
     "name": "stdout",
     "output_type": "stream",
     "text": [
      "Images for product '아보덤_헬시웨이트_그레인프리_1kg_강아지_다이어트_사료' successfully processed.\n",
      "Images for product '힐스_강아지사료_어덜트_6_라지브리드_6' successfully processed.\n",
      "Images for product '소닭돼지오리_8세트_32팩_플라잉퍼피_강아지_화식' successfully processed.\n",
      "Images for product '인디고_고양이_유산균_사료_면역_앤_헤어볼_포_캣_6kg' successfully processed.\n"
     ]
    },
    {
     "name": "stderr",
     "output_type": "stream",
     "text": [
      "Processing pages:   1%|          | 198/20713 [02:44<4:31:41,  1.26it/s]"
     ]
    },
    {
     "name": "stdout",
     "output_type": "stream",
     "text": [
      "Images for product '힐스_고양이_어덜트_2kg' successfully processed.\n"
     ]
    },
    {
     "name": "stderr",
     "output_type": "stream",
     "text": [
      "Processing pages:   1%|          | 201/20713 [02:47<4:35:12,  1.24it/s]"
     ]
    },
    {
     "name": "stdout",
     "output_type": "stream",
     "text": [
      "Images for product '더독_닥터_소프트_명작사료_하이포_알러지_강아지_습식사료_하이퍼알러지_연어전견_1' successfully processed.\n"
     ]
    },
    {
     "name": "stderr",
     "output_type": "stream",
     "text": [
      "Processing pages:   1%|          | 203/20713 [02:49<6:11:12,  1.09s/it]"
     ]
    },
    {
     "name": "stdout",
     "output_type": "stream",
     "text": [
      "Images for product '맘블레스_그레인프리_반습식_사료_오리_1' successfully processed.\n"
     ]
    },
    {
     "name": "stderr",
     "output_type": "stream",
     "text": [
      "Processing pages:   1%|          | 204/20713 [02:50<5:53:01,  1.03s/it]"
     ]
    },
    {
     "name": "stdout",
     "output_type": "stream",
     "text": [
      "Images for product '로얄캐닌_캣_세타이어티_1' successfully processed.\n",
      "Images for product '오리젠_6피쉬_캣_5' successfully processed.\n",
      "Images for product '복수구매10쓰라이브_참치_원육_100_영국산_고양이_습식사료_주식캔_75g' successfully processed.\n"
     ]
    },
    {
     "name": "stderr",
     "output_type": "stream",
     "text": [
      "Processing pages:   1%|          | 205/20713 [02:52<7:07:35,  1.25s/it]"
     ]
    },
    {
     "name": "stdout",
     "output_type": "stream",
     "text": [
      "Images for product '맥아담스_사료_센서티브_소형견_터키_2kg' successfully processed.\n"
     ]
    },
    {
     "name": "stderr",
     "output_type": "stream",
     "text": [
      "Processing pages:   1%|          | 206/20713 [02:53<6:39:50,  1.17s/it]"
     ]
    },
    {
     "name": "stdout",
     "output_type": "stream",
     "text": [
      "Images for product '네츄럴코어_강아지사료_베네_M50_10kg_스몰바이트' successfully processed.\n"
     ]
    },
    {
     "name": "stderr",
     "output_type": "stream",
     "text": [
      "Processing pages:   1%|          | 209/20713 [02:55<5:33:09,  1.03it/s]"
     ]
    },
    {
     "name": "stdout",
     "output_type": "stream",
     "text": [
      "Images for product '강아지_사료_샘플_기호성테스트_오리젠_뉴트리소스_퍼피_스몰브리드_추천_사료_50g' successfully processed.\n",
      "Images for product '펫생각_행소행댕_하루조이_해피카우_프리미엄_멸균_강아지우유_펫밀크_100ml' successfully processed.\n"
     ]
    },
    {
     "name": "stderr",
     "output_type": "stream",
     "text": [
      "Processing pages:   1%|          | 227/20713 [03:11<5:04:27,  1.12it/s]"
     ]
    },
    {
     "name": "stdout",
     "output_type": "stream",
     "text": [
      "Images for product '로얄캐닌_아기_고양이_키튼_캣_사료_2kg' successfully processed.\n",
      "Images for product '오리젠_피트앤트림_캣_5' successfully processed.\n"
     ]
    },
    {
     "name": "stderr",
     "output_type": "stream",
     "text": [
      "Processing pages:   1%|          | 228/20713 [03:12<4:57:13,  1.15it/s]"
     ]
    },
    {
     "name": "stdout",
     "output_type": "stream",
     "text": [
      "Images for product '노브랜드_반려견_사료_10kg' successfully processed.\n"
     ]
    },
    {
     "name": "stderr",
     "output_type": "stream",
     "text": [
      "Processing pages:   1%|          | 230/20713 [03:18<9:36:07,  1.69s/it] "
     ]
    },
    {
     "name": "stdout",
     "output_type": "stream",
     "text": [
      "Images for product '네츄럴랩_케어_고양이_사료_2kg_유기농_70_이상_가수분해_유산균_위장_면역_알러지' successfully processed.\n",
      "Images for product 'GO_고_LID_오리_캣_고양이사료_대포장_7' successfully processed.\n"
     ]
    },
    {
     "name": "stderr",
     "output_type": "stream",
     "text": [
      "Processing pages:   1%|          | 231/20713 [03:18<7:52:34,  1.38s/it]"
     ]
    },
    {
     "name": "stdout",
     "output_type": "stream",
     "text": [
      "Images for product '하이독_케어브이_키드프_1kg_신장_신부전_처방식_동물병원_기호성좋은_노견_화식사료' successfully processed.\n",
      "Images for product '힐스_고양이사료_어덜트_유리너리_헤어볼_컨트롤_1' successfully processed.\n",
      "Images for product '로얄캐닌_마더앤베이비캣캔_트레이_100g_x_24개_1박스_아기고양이_습식사료_주식캔' successfully processed.\n"
     ]
    },
    {
     "name": "stderr",
     "output_type": "stream",
     "text": [
      "Processing pages:   1%|          | 232/20713 [03:19<6:59:57,  1.23s/it]"
     ]
    },
    {
     "name": "stdout",
     "output_type": "stream",
     "text": [
      "Images for product '반해_l_파미나_ND_오션_대구오렌지_미니_바이트800g__계량컵급여량_계산' successfully processed.\n",
      "Images for product '퓨어럭스_스텔라_사료_저알러지_노령견_사료_저단백_10kg' successfully processed.\n"
     ]
    },
    {
     "name": "stderr",
     "output_type": "stream",
     "text": [
      "Processing pages:   1%|          | 233/20713 [03:20<6:22:40,  1.12s/it]"
     ]
    },
    {
     "name": "stdout",
     "output_type": "stream",
     "text": [
      "Images for product '강아지_사료_가수분해_알러지_눈물_푸들_비숑_에프씨원_연어청어_2kg100g' successfully processed.\n"
     ]
    },
    {
     "name": "stderr",
     "output_type": "stream",
     "text": [
      "Processing pages:   1%|          | 235/20713 [03:22<5:39:26,  1.01it/s]"
     ]
    },
    {
     "name": "stdout",
     "output_type": "stream",
     "text": [
      "Images for product '도그랑_클래식_5kg_기호성_좋은_사료_강아지밥_새끼강아지사료' successfully processed.\n",
      "Images for product '견생혼_로얄캐닌_키튼_스테럴라이즈드_2kg_중성화_사료' successfully processed.\n"
     ]
    },
    {
     "name": "stderr",
     "output_type": "stream",
     "text": [
      "Processing pages:   1%|          | 236/20713 [03:23<6:02:07,  1.06s/it]"
     ]
    },
    {
     "name": "stdout",
     "output_type": "stream",
     "text": [
      "Images for product '대형견사료_15kg_리얼트리_대용량_사료_개_강아지_리트리버_진돗개_레드오크_큰알갱이' successfully processed.\n",
      "Images for product '로얄캐닌_미니_스타터_마더앤베이비_3kg_아기강아지사료_새끼' successfully processed.\n",
      "Images for product '디어니스트키친_홀푸드_클러스터_그레인프리_터키_2' successfully processed.\n"
     ]
    },
    {
     "name": "stderr",
     "output_type": "stream",
     "text": [
      "Processing pages:   1%|          | 237/20713 [03:24<5:29:47,  1.03it/s]"
     ]
    },
    {
     "name": "stdout",
     "output_type": "stream",
     "text": [
      "Images for product '고양이_생식_치킨포켓1박스20팩' successfully processed.\n"
     ]
    },
    {
     "name": "stderr",
     "output_type": "stream",
     "text": [
      "Processing pages:   1%|          | 238/20713 [03:25<5:11:21,  1.10it/s]"
     ]
    },
    {
     "name": "stdout",
     "output_type": "stream",
     "text": [
      "Images for product '강아지_화식_포옹_화식선생_샘플_4종_400g_반려견_강아지_자연식_수제사료_건강식' successfully processed.\n"
     ]
    },
    {
     "name": "stderr",
     "output_type": "stream",
     "text": [
      "Processing pages:   1%|          | 239/20713 [03:25<5:08:40,  1.11it/s]"
     ]
    },
    {
     "name": "stdout",
     "output_type": "stream",
     "text": [
      "Images for product '복수구매DC_알모네이쳐_캔_대서양참치_70g_습식사료_주식캔_사료' successfully processed.\n"
     ]
    },
    {
     "name": "stderr",
     "output_type": "stream",
     "text": [
      "Processing pages:   1%|          | 243/20713 [03:29<4:40:53,  1.21it/s]"
     ]
    },
    {
     "name": "stdout",
     "output_type": "stream",
     "text": [
      "Images for product '힐스_독_id_id_354g_스튜_캔_강아지_위장질환_소화기질환_처방_사료' successfully processed.\n"
     ]
    },
    {
     "name": "stderr",
     "output_type": "stream",
     "text": [
      "Processing pages:   1%|          | 246/20713 [03:31<4:43:41,  1.20it/s]"
     ]
    },
    {
     "name": "stdout",
     "output_type": "stream",
     "text": [
      "Images for product 'ANF_6Free_식스프리플러스_강아지사료_소고기연어_5' successfully processed.\n"
     ]
    },
    {
     "name": "stderr",
     "output_type": "stream",
     "text": [
      "Processing pages:   1%|          | 256/20713 [03:41<5:25:44,  1.05it/s]"
     ]
    },
    {
     "name": "stdout",
     "output_type": "stream",
     "text": [
      "Images for product '캐츠랑_5kg_고양이사료_리브레' successfully processed.\n"
     ]
    },
    {
     "name": "stderr",
     "output_type": "stream",
     "text": [
      "Processing pages:   1%|▏         | 263/20713 [03:46<4:36:20,  1.23it/s]"
     ]
    },
    {
     "name": "stdout",
     "output_type": "stream",
     "text": [
      "Images for product '벨포아_사료_하이포알러제닉_인섹트_미니_2' successfully processed.\n"
     ]
    },
    {
     "name": "stderr",
     "output_type": "stream",
     "text": [
      "Processing pages:   1%|▏         | 264/20713 [03:47<4:41:01,  1.21it/s]"
     ]
    },
    {
     "name": "stdout",
     "output_type": "stream",
     "text": [
      "Images for product '로얄캐닌_독_하이포알러제닉_스몰독_3' successfully processed.\n"
     ]
    },
    {
     "name": "stderr",
     "output_type": "stream",
     "text": [
      "Processing pages:   1%|▏         | 265/20713 [03:50<8:18:40,  1.46s/it]"
     ]
    },
    {
     "name": "stdout",
     "output_type": "stream",
     "text": [
      "Images for product '강아지_우유_에버그로_펫밀크_150mlX10개_눈관절_고양이_우유_퍼피_노령견' successfully processed.\n",
      "Images for product '로얄캐닌_캣파우치_인도어_7_그레이비_85g_1박스12개' successfully processed.\n"
     ]
    },
    {
     "name": "stderr",
     "output_type": "stream",
     "text": [
      "Processing pages:   1%|▏         | 266/20713 [03:51<7:07:48,  1.26s/it]"
     ]
    },
    {
     "name": "stdout",
     "output_type": "stream",
     "text": [
      "Images for product 'ANF_강아지사료_6FREE_PLUS_소고기_연어_5' successfully processed.\n"
     ]
    },
    {
     "name": "stderr",
     "output_type": "stream",
     "text": [
      "Processing pages:   1%|▏         | 267/20713 [03:52<6:56:50,  1.22s/it]"
     ]
    },
    {
     "name": "stdout",
     "output_type": "stream",
     "text": [
      "Images for product '화식_10종_7팩_골라담기_강아지화식_자연식_수제사료_10종' successfully processed.\n",
      "Images for product '네츄럴랩_케어1_강아지_1등급_사료_관절눈_2kg' successfully processed.\n"
     ]
    },
    {
     "name": "stderr",
     "output_type": "stream",
     "text": [
      "Processing pages:   1%|▏         | 268/20713 [03:53<6:32:30,  1.15s/it]"
     ]
    },
    {
     "name": "stdout",
     "output_type": "stream",
     "text": [
      "Images for product '하이독_케어브이_판크프_1kg_췌장염_저지방_처방식_동물병원_기호성좋은_노견_화식사료' successfully processed.\n",
      "Images for product 'CAT로얄캐닌_레날스페셜_RENAL_Special_처방사료신장질환4kg' successfully processed.\n",
      "Images for product '로얄캐닌_캣_키튼_4kg_아기고양이사료' successfully processed.\n",
      "Images for product '로얄캐닌_그레이비_라이트웨이트_케어_85g_X_12P_고양이사료_습식파우치' successfully processed.\n",
      "Images for product '로얄캐닌_그레이비_인도어_85gX12P_고양이습식_파우치' successfully processed.\n"
     ]
    },
    {
     "name": "stderr",
     "output_type": "stream",
     "text": [
      "Processing pages:   1%|▏         | 270/20713 [03:55<5:37:03,  1.01it/s]"
     ]
    },
    {
     "name": "stdout",
     "output_type": "stream",
     "text": [
      "Images for product '테라카니스_강아지_습식사료_습식캔_주식캔_그레인프리_미니토끼100g' successfully processed.\n"
     ]
    },
    {
     "name": "stderr",
     "output_type": "stream",
     "text": [
      "Processing pages:   1%|▏         | 271/20713 [03:56<5:22:59,  1.05it/s]"
     ]
    },
    {
     "name": "stdout",
     "output_type": "stream",
     "text": [
      "Images for product '프로베스트캣_그린_15kg_길고양이_길냥이_대용량_사료' successfully processed.\n"
     ]
    },
    {
     "name": "stderr",
     "output_type": "stream",
     "text": [
      "Processing pages:   1%|▏         | 284/20713 [04:07<5:10:30,  1.10it/s]"
     ]
    },
    {
     "name": "stdout",
     "output_type": "stream",
     "text": [
      "Images for product '힐스_캣_cd_멀티케어_스트레스_유리너리_결석_특발성_방광염_비뇨기_사료_1' successfully processed.\n"
     ]
    },
    {
     "name": "stderr",
     "output_type": "stream",
     "text": [
      "Processing pages:   1%|▏         | 296/20713 [04:17<5:05:39,  1.11it/s]"
     ]
    },
    {
     "name": "stdout",
     "output_type": "stream",
     "text": [
      "Images for product '카루_캣_클래식_스튜_칠면조_습식사료_170g' successfully processed.\n"
     ]
    },
    {
     "name": "stderr",
     "output_type": "stream",
     "text": [
      "Processing pages:   1%|▏         | 297/20713 [04:18<4:49:07,  1.18it/s]"
     ]
    },
    {
     "name": "stdout",
     "output_type": "stream",
     "text": [
      "Images for product '뉴트리나_건강백서_푸들_강아지_애견_사료_10' successfully processed.\n"
     ]
    },
    {
     "name": "stderr",
     "output_type": "stream",
     "text": [
      "Processing pages:   1%|▏         | 298/20713 [04:21<8:07:12,  1.43s/it]"
     ]
    },
    {
     "name": "stdout",
     "output_type": "stream",
     "text": [
      "Images for product '아이누_어덜트_1' successfully processed.\n",
      "Images for product '오리젠_독_스몰브리드_4' successfully processed.\n",
      "Images for product '요로결석_레시피브이_반려견_유리너리_처방식사료_1' successfully processed.\n",
      "Images for product '대한사료_이즈칸_퍼포먼스_어덜트_강아지_사료_15kg' successfully processed.\n"
     ]
    },
    {
     "name": "stderr",
     "output_type": "stream",
     "text": [
      "Processing pages:   1%|▏         | 299/20713 [04:21<7:10:29,  1.27s/it]"
     ]
    },
    {
     "name": "stdout",
     "output_type": "stream",
     "text": [
      "Images for product '강아지_화식_수제_사료_소고기_습식_자연식_건강식_애견_노견_노령견_다이어트_반려견' successfully processed.\n",
      "Images for product '내추럴발란스_독_강아지_사료_오리지날_울트라_닭보리_2' successfully processed.\n",
      "Images for product '하림_고양이_사료_더리얼_캣_그레인프리_크런치_닭고기_어덜트_5' successfully processed.\n",
      "Images for product '건강백서_캣_기능성사료_샘플_체험팩_건강한_인도어_40gx5개' successfully processed.\n"
     ]
    },
    {
     "name": "stderr",
     "output_type": "stream",
     "text": [
      "Processing pages:   1%|▏         | 300/20713 [04:22<6:25:43,  1.13s/it]"
     ]
    },
    {
     "name": "stdout",
     "output_type": "stream",
     "text": [
      "Images for product '위시본_사료_1' successfully processed.\n",
      "Images for product '쉐리_블랙라벨_닭고기와_참치_무스_고양이_주식캔_습식사료' successfully processed.\n",
      "Images for product '도착보장_힐스_강아지사료_어덜트_11_스몰포_2kg' successfully processed.\n"
     ]
    },
    {
     "name": "stderr",
     "output_type": "stream",
     "text": [
      "Processing pages:   1%|▏         | 301/20713 [04:23<5:49:06,  1.03s/it]"
     ]
    },
    {
     "name": "stdout",
     "output_type": "stream",
     "text": [
      "Images for product '내추럴발란스_LI_그레인프리_연어고구마_레시피_강아지_사료_작은알_2' successfully processed.\n"
     ]
    },
    {
     "name": "stderr",
     "output_type": "stream",
     "text": [
      "Processing pages:   1%|▏         | 302/20713 [04:24<5:27:46,  1.04it/s]"
     ]
    },
    {
     "name": "stdout",
     "output_type": "stream",
     "text": [
      "Images for product '비고앤세이지_아스트라갈러스_노령견_노견_강아지_비숑_푸들_말티즈_사료_2_kg' successfully processed.\n"
     ]
    },
    {
     "name": "stderr",
     "output_type": "stream",
     "text": [
      "Processing pages:   1%|▏         | 306/20713 [04:27<4:39:05,  1.22it/s]"
     ]
    },
    {
     "name": "stdout",
     "output_type": "stream",
     "text": [
      "Images for product '유기견_사료후원_여주_오돌이네쉼터_후원전용상품_아지피아_20kg' successfully processed.\n"
     ]
    },
    {
     "name": "stderr",
     "output_type": "stream",
     "text": [
      "Processing pages:   2%|▏         | 319/20713 [04:37<4:40:24,  1.21it/s]"
     ]
    },
    {
     "name": "stdout",
     "output_type": "stream",
     "text": [
      "Images for product '강아지_화식_돼지_고기_수제_사료_노견_건강식_자연식_애견_고단백' successfully processed.\n"
     ]
    },
    {
     "name": "stderr",
     "output_type": "stream",
     "text": [
      "Processing pages:   2%|▏         | 328/20713 [04:46<5:18:14,  1.07it/s]"
     ]
    },
    {
     "name": "stdout",
     "output_type": "stream",
     "text": [
      "Images for product '밥이보약_CAT_걱정없는_헤어볼_3' successfully processed.\n"
     ]
    },
    {
     "name": "stderr",
     "output_type": "stream",
     "text": [
      "Processing pages:   2%|▏         | 329/20713 [04:46<4:58:37,  1.14it/s]"
     ]
    },
    {
     "name": "stdout",
     "output_type": "stream",
     "text": [
      "Images for product '요세라캣_데일리_2kg_독일_고양이사료_인도어_다이어트_헤어볼_그레인프리_키튼_성묘_노묘' successfully processed.\n",
      "Images for product '힐스_강아지사료_어덜트_11_스몰포_2kg' successfully processed.\n"
     ]
    },
    {
     "name": "stderr",
     "output_type": "stream",
     "text": [
      "Processing pages:   2%|▏         | 331/20713 [04:49<5:51:46,  1.04s/it]"
     ]
    },
    {
     "name": "stdout",
     "output_type": "stream",
     "text": [
      "Images for product '힐스_독_강아지_cd_cd_7' successfully processed.\n"
     ]
    },
    {
     "name": "stderr",
     "output_type": "stream",
     "text": [
      "Processing pages:   2%|▏         | 332/20713 [04:49<5:28:21,  1.03it/s]"
     ]
    },
    {
     "name": "stdout",
     "output_type": "stream",
     "text": [
      "Images for product '유통기한할인_브릿_프리미엄_캣_사료_고양이_사료_1' successfully processed.\n"
     ]
    },
    {
     "name": "stderr",
     "output_type": "stream",
     "text": [
      "Processing pages:   2%|▏         | 333/20713 [04:50<5:24:06,  1.05it/s]"
     ]
    },
    {
     "name": "stdout",
     "output_type": "stream",
     "text": [
      "Images for product '웰썸_인섹트_눈물_관절사료_3' successfully processed.\n",
      "Images for product '전용박스포장뉴트리소스_캣_컨트리셀렉트초록_고양이_대용량사료_6' successfully processed.\n",
      "Images for product '오리젠_어덜트_오리지날_독_11' successfully processed.\n",
      "Images for product '프론티어_사료_비프_소고기_동결건조사료_900g' successfully processed.\n",
      "Images for product '코스트코_커클랜드_메인터넌스_캣_11' successfully processed.\n",
      "Images for product '로얄캐닌_캣파우치_고양이_습식_주식_사료_인도어_그레이비_85G' successfully processed.\n"
     ]
    },
    {
     "name": "stderr",
     "output_type": "stream",
     "text": [
      "Processing pages:   2%|▏         | 335/20713 [04:52<4:59:53,  1.13it/s]"
     ]
    },
    {
     "name": "stdout",
     "output_type": "stream",
     "text": [
      "Images for product '대량구매10로우즈_파우치_사시_연어참치_고양이_습식사료_50g' successfully processed.\n"
     ]
    },
    {
     "name": "stderr",
     "output_type": "stream",
     "text": [
      "Processing pages:   2%|▏         | 339/20713 [04:57<5:44:33,  1.01s/it]"
     ]
    },
    {
     "name": "stdout",
     "output_type": "stream",
     "text": [
      "Images for product '오리젠_사료_오리지날_어덜트_독_11' successfully processed.\n"
     ]
    },
    {
     "name": "stderr",
     "output_type": "stream",
     "text": [
      "Processing pages:   2%|▏         | 340/20713 [04:58<5:16:37,  1.07it/s]"
     ]
    },
    {
     "name": "stdout",
     "output_type": "stream",
     "text": [
      "Images for product '로얄캐닌_하이포알러제닉_모더레이트_칼로리_알러지_사료_1' successfully processed.\n",
      "Images for product '힐스_Hills_독_kd_kd_캔_370g__강아지_신장관리_처방_습식사료_스튜아님' successfully processed.\n",
      "Images for product '네츄럴코어_강아지_소분_사료_가수분해_에코2_오리고기_작은알갱이_2kg' successfully processed.\n"
     ]
    },
    {
     "name": "stderr",
     "output_type": "stream",
     "text": [
      "Processing pages:   2%|▏         | 341/20713 [04:59<5:03:20,  1.12it/s]"
     ]
    },
    {
     "name": "stdout",
     "output_type": "stream",
     "text": [
      "Images for product '베트리션_하이포알러제닉_알러지_기능식_사료_1' successfully processed.\n"
     ]
    },
    {
     "name": "stderr",
     "output_type": "stream",
     "text": [
      "Processing pages:   2%|▏         | 342/20713 [05:00<5:23:50,  1.05it/s]"
     ]
    },
    {
     "name": "stdout",
     "output_type": "stream",
     "text": [
      "Images for product '기호성테스트_더텐_소프트_강아지_샘플_사료_30g_x_5개' successfully processed.\n",
      "Images for product '디어니스트키친_탈수건조사료_그레인프리_치킨_3' successfully processed.\n"
     ]
    },
    {
     "name": "stderr",
     "output_type": "stream",
     "text": [
      "Processing pages:   2%|▏         | 360/20713 [05:16<5:20:10,  1.06it/s]"
     ]
    },
    {
     "name": "stdout",
     "output_type": "stream",
     "text": [
      "Images for product '내추럴발란스_오리지날_울트라_닭보리_강아지_사료_작은알갱이_2' successfully processed.\n"
     ]
    },
    {
     "name": "stderr",
     "output_type": "stream",
     "text": [
      "Processing pages:   2%|▏         | 361/20713 [05:16<5:00:00,  1.13it/s]"
     ]
    },
    {
     "name": "stdout",
     "output_type": "stream",
     "text": [
      "Images for product '로얄캐닌_캣_얼리_레날_파우치_85g' successfully processed.\n",
      "Images for product '로얄캐닌_캣_유리너리_SO_3' successfully processed.\n",
      "Images for product '로얄캐닌_독_미디엄_어덜트_중형견_사료_10kg' successfully processed.\n"
     ]
    },
    {
     "name": "stderr",
     "output_type": "stream",
     "text": [
      "Processing pages:   2%|▏         | 363/20713 [05:19<5:51:15,  1.04s/it]"
     ]
    },
    {
     "name": "stdout",
     "output_type": "stream",
     "text": [
      "Images for product '로얄캐닌_세타이어티_스몰독_3kg' successfully processed.\n",
      "Images for product '로얄캐닌_독_레날_2kg' successfully processed.\n",
      "Images for product '대형견사료_아지피아_20kg_대용량_강아지사료' successfully processed.\n"
     ]
    },
    {
     "name": "stderr",
     "output_type": "stream",
     "text": [
      "Processing pages:   2%|▏         | 364/20713 [05:19<5:40:40,  1.00s/it]"
     ]
    },
    {
     "name": "stdout",
     "output_type": "stream",
     "text": [
      "Images for product '뉴트리나_리얼오플러스_인도어_케어_6kg' successfully processed.\n",
      "Images for product '팬시피스트_엘레강트_메들리_주식캔_혼합콤보_1box' successfully processed.\n",
      "Images for product '디어니스트키친_탈수건조사료_그레인프리_피쉬_레시피_1' successfully processed.\n"
     ]
    },
    {
     "name": "stderr",
     "output_type": "stream",
     "text": [
      "Processing pages:   2%|▏         | 365/20713 [05:20<5:23:23,  1.05it/s]"
     ]
    },
    {
     "name": "stdout",
     "output_type": "stream",
     "text": [
      "Images for product '브릿사료_프리미엄_독_스포츠_15kg_임신_수유견_훈련견_특수견_대형견사료' successfully processed.\n"
     ]
    },
    {
     "name": "stderr",
     "output_type": "stream",
     "text": [
      "Processing pages:   2%|▏         | 366/20713 [05:21<4:58:46,  1.14it/s]"
     ]
    },
    {
     "name": "stdout",
     "output_type": "stream",
     "text": [
      "Images for product '아카나_패시피카독_6kg소분봉투강아지사료' successfully processed.\n"
     ]
    },
    {
     "name": "stderr",
     "output_type": "stream",
     "text": [
      "Processing pages:   2%|▏         | 367/20713 [05:22<5:35:17,  1.01it/s]"
     ]
    },
    {
     "name": "stdout",
     "output_type": "stream",
     "text": [
      "Images for product '밥이보약_강아지_사료_빛나는_피모_건강_고민별_맞춤_사료_3' successfully processed.\n",
      "Images for product '밥이보약_CAT_알맞은_체중_3' successfully processed.\n",
      "Images for product '인디고_강아지_유기농_유산균_사료_면역_앤_관절_포_독_2kg' successfully processed.\n"
     ]
    },
    {
     "name": "stderr",
     "output_type": "stream",
     "text": [
      "Processing pages:   2%|▏         | 381/20713 [05:37<8:49:39,  1.56s/it]"
     ]
    },
    {
     "name": "stdout",
     "output_type": "stream",
     "text": [
      "Images for product '로얄캐닌_키튼_스테럴라이즈드_2kg_건식사료_고양이사료' successfully processed.\n",
      "Images for product '나우_캣_어덜트_고양이사료_1' successfully processed.\n",
      "Images for product '네츄럴랩_케어1_강아지_가수분해_관절_눈물_사료_유기농70_2kg' successfully processed.\n",
      "Images for product '보더콜리_시바견_중형견_사료_10kg_2개' successfully processed.\n"
     ]
    },
    {
     "name": "stderr",
     "output_type": "stream",
     "text": [
      "Processing pages:   2%|▏         | 382/20713 [05:38<7:24:51,  1.31s/it]"
     ]
    },
    {
     "name": "stdout",
     "output_type": "stream",
     "text": [
      "Images for product 'ANF_식스프리_플러스_캣_어덜트_5' successfully processed.\n",
      "Images for product '힐스_캣_어덜트_유리너리_헤어볼_컨트롤_50g_샘플사료' successfully processed.\n",
      "Images for product '허즈사료_알러지_눈물_칠면조_가슴살_908g' successfully processed.\n"
     ]
    },
    {
     "name": "stderr",
     "output_type": "stream",
     "text": [
      "Processing pages:   2%|▏         | 384/20713 [05:39<6:13:51,  1.10s/it]"
     ]
    },
    {
     "name": "stdout",
     "output_type": "stream",
     "text": [
      "Images for product '로얄캐닌_캣_고양이_하이포알러제닉_2' successfully processed.\n"
     ]
    },
    {
     "name": "stderr",
     "output_type": "stream",
     "text": [
      "Processing pages:   2%|▏         | 395/20713 [05:50<5:48:24,  1.03s/it]"
     ]
    },
    {
     "name": "stdout",
     "output_type": "stream",
     "text": [
      "Images for product '고양이설사사료_변비_유산균_프로바이오틱스_장건강_2kg' successfully processed.\n",
      "Images for product '진돗개사료_시바견사료_도비_진도_8kg' successfully processed.\n",
      "Images for product '11_이즈칸_캣_그레인프리_고양이사료_6' successfully processed.\n",
      "Images for product 'go_고_사료_솔루션_LID_오리_큰알갱이_9' successfully processed.\n"
     ]
    },
    {
     "name": "stderr",
     "output_type": "stream",
     "text": [
      "Processing pages:   2%|▏         | 397/20713 [05:52<5:34:34,  1.01it/s]"
     ]
    },
    {
     "name": "stdout",
     "output_type": "stream",
     "text": [
      "Images for product '미아모아_캔_파스테이트_토끼_주식캔_85g_고양이_습식사료_결석예방' successfully processed.\n",
      "Images for product '뉴트로_캣_1세이상_실내묘용_닭고기와_현미_2' successfully processed.\n",
      "Images for product '오리젠_오리지날_독_11' successfully processed.\n",
      "Images for product '로얄캐닌_그레이비_스테럴라이즈드_85g_X_12P_고양이사료_습식파우치' successfully processed.\n"
     ]
    },
    {
     "name": "stderr",
     "output_type": "stream",
     "text": [
      "Processing pages:   2%|▏         | 398/20713 [05:53<5:14:54,  1.08it/s]"
     ]
    },
    {
     "name": "stdout",
     "output_type": "stream",
     "text": [
      "Images for product '닥터도비_기능성_사료_스킨앤코트2kg250g추가' successfully processed.\n"
     ]
    },
    {
     "name": "stderr",
     "output_type": "stream",
     "text": [
      "Processing pages:   2%|▏         | 414/20713 [06:07<5:30:42,  1.02it/s]"
     ]
    },
    {
     "name": "stdout",
     "output_type": "stream",
     "text": [
      "Images for product '힐스_Hills_독_id_id_로우펫_캔_370g__강아지_소화기관리_췌장염_처방_습식사료_원터치_아님' successfully processed.\n",
      "Images for product '퓨어비타_캣_그레인프리_치킨_3kg_홀리스틱_전연령_고양이사료' successfully processed.\n",
      "Images for product '레오나르도_캔_습식사료_주식_퓨어폴트리_200g' successfully processed.\n",
      "Images for product '나우_어덜트_스몰브리드_9' successfully processed.\n",
      "Images for product '로얄캐닌_강아지_처방식_독_가스트로_인테스티널_로우펫Dog_Gastrointestinal_Low_Fat_캔_420g' successfully processed.\n",
      "Images for product '프로플랜_퍼포먼스_17kg' successfully processed.\n"
     ]
    },
    {
     "name": "stderr",
     "output_type": "stream",
     "text": [
      "Processing pages:   2%|▏         | 415/20713 [06:07<5:17:31,  1.07it/s]"
     ]
    },
    {
     "name": "stdout",
     "output_type": "stream",
     "text": [
      "Images for product '요세라_캣_그레인프리_고양이사료_데일리캣_오리치킨_2kg_24년6월' successfully processed.\n"
     ]
    },
    {
     "name": "stderr",
     "output_type": "stream",
     "text": [
      "Processing pages:   2%|▏         | 417/20713 [06:09<5:10:53,  1.09it/s]"
     ]
    },
    {
     "name": "stdout",
     "output_type": "stream",
     "text": [
      "Images for product '카카토_캔_습식사료_컴플리멘타리_주식캔_70g_치킨필렛' successfully processed.\n",
      "Images for product '강아지_가수분해_습식_주식_캔_사료_하이포알러제닉_노령견_시저캔_대용_닭고기_105g' successfully processed.\n"
     ]
    },
    {
     "name": "stderr",
     "output_type": "stream",
     "text": [
      "Processing pages:   2%|▏         | 421/20713 [06:13<5:17:50,  1.06it/s]"
     ]
    },
    {
     "name": "stdout",
     "output_type": "stream",
     "text": [
      "Images for product '요라_사료_YORA_올브리드_인섹트_피부_눈물사료_2' successfully processed.\n"
     ]
    },
    {
     "name": "stderr",
     "output_type": "stream",
     "text": [
      "Processing pages:   2%|▏         | 431/20713 [06:21<4:45:13,  1.19it/s]"
     ]
    },
    {
     "name": "stdout",
     "output_type": "stream",
     "text": [
      "Images for product '로얄캐닌_캣_유리너리_SO_모더레이트칼로리_1' successfully processed.\n"
     ]
    },
    {
     "name": "stderr",
     "output_type": "stream",
     "text": [
      "Processing pages:   2%|▏         | 432/20713 [06:22<4:37:34,  1.22it/s]"
     ]
    },
    {
     "name": "stdout",
     "output_type": "stream",
     "text": [
      "Images for product '건강백서_순_건강한_체중_7' successfully processed.\n"
     ]
    },
    {
     "name": "stderr",
     "output_type": "stream",
     "text": [
      "Processing pages:   2%|▏         | 433/20713 [06:25<8:48:21,  1.56s/it]"
     ]
    },
    {
     "name": "stdout",
     "output_type": "stream",
     "text": [
      "Images for product '로얄캐닌_독_아날러제닉_스몰독_3kg' successfully processed.\n",
      "Images for product '로얄캐닌_캣_레날_셀렉트_2kg' successfully processed.\n",
      "Images for product '로얄캐닌_강아지사료_견종별_말티즈_어덜트_3kg' successfully processed.\n",
      "Images for product '강아지_화식_연어_수제_사료_노견_자연식_건강식_애견_고단백_저지방' successfully processed.\n"
     ]
    },
    {
     "name": "stderr",
     "output_type": "stream",
     "text": [
      "Processing pages:   2%|▏         | 436/20713 [06:28<6:13:50,  1.11s/it]"
     ]
    },
    {
     "name": "stdout",
     "output_type": "stream",
     "text": [
      "Images for product '닥터독_다이어트_사료_6kg' successfully processed.\n"
     ]
    },
    {
     "name": "stderr",
     "output_type": "stream",
     "text": [
      "Processing pages:   2%|▏         | 437/20713 [06:29<5:39:55,  1.01s/it]"
     ]
    },
    {
     "name": "stdout",
     "output_type": "stream",
     "text": [
      "Images for product '강아지_사료_샘플_기호성테스트_아몰랑_6종세트_울애긔_세트' successfully processed.\n"
     ]
    },
    {
     "name": "stderr",
     "output_type": "stream",
     "text": [
      "Processing pages:   2%|▏         | 439/20713 [06:30<4:56:19,  1.14it/s]"
     ]
    },
    {
     "name": "stdout",
     "output_type": "stream",
     "text": [
      "Images for product '한끼뚝딱_소프트_황태와_소고기_강아지사료_3kg1kg_총4kg' successfully processed.\n"
     ]
    },
    {
     "name": "stderr",
     "output_type": "stream",
     "text": [
      "Processing pages:   2%|▏         | 446/20713 [06:36<4:45:34,  1.18it/s]"
     ]
    },
    {
     "name": "stdout",
     "output_type": "stream",
     "text": [
      "Images for product '로우즈_사료_강아지_저지방_사료_그레인프리_고단백_1' successfully processed.\n"
     ]
    },
    {
     "name": "stderr",
     "output_type": "stream",
     "text": [
      "Processing pages:   2%|▏         | 449/20713 [06:39<4:49:55,  1.16it/s]"
     ]
    },
    {
     "name": "stdout",
     "output_type": "stream",
     "text": [
      "Images for product '캐츠랑_고양이_사료_전연령_리브레_5kg' successfully processed.\n",
      "Images for product '힐스_독_강아지_cd_cd_1' successfully processed.\n",
      "Images for product '오리젠_퍼피_라지브리드_11' successfully processed.\n"
     ]
    },
    {
     "name": "stderr",
     "output_type": "stream",
     "text": [
      "Processing pages:   2%|▏         | 451/20713 [06:41<5:39:47,  1.01s/it]"
     ]
    },
    {
     "name": "stdout",
     "output_type": "stream",
     "text": [
      "Images for product '로얄캐닌_캣파우치_습식사료_인도어_그레이비_85g' successfully processed.\n"
     ]
    },
    {
     "name": "stderr",
     "output_type": "stream",
     "text": [
      "Processing pages:   2%|▏         | 452/20713 [06:42<5:18:38,  1.06it/s]"
     ]
    },
    {
     "name": "stdout",
     "output_type": "stream",
     "text": [
      "Images for product '커클랜드_프리미엄_애견사료_15' successfully processed.\n",
      "Images for product '퓨어네이쳐_캣_고양이_사료_가수분해_치킨_2kg' successfully processed.\n",
      "Images for product '나우_사료_프레쉬_스몰브리드_퍼피_눈물사료_1' successfully processed.\n"
     ]
    },
    {
     "name": "stderr",
     "output_type": "stream",
     "text": [
      "Processing pages:   2%|▏         | 454/20713 [06:44<5:26:20,  1.03it/s]"
     ]
    },
    {
     "name": "stdout",
     "output_type": "stream",
     "text": [
      "Images for product '목우촌_포메라니안_전용_사료_강아지_관절_체중관리_기호성까지_펫9단_1' successfully processed.\n"
     ]
    },
    {
     "name": "stderr",
     "output_type": "stream",
     "text": [
      "Processing pages:   2%|▏         | 455/20713 [06:45<5:30:52,  1.02it/s]"
     ]
    },
    {
     "name": "stdout",
     "output_type": "stream",
     "text": [
      "Images for product '아르테미스_HIT' successfully processed.\n",
      "Images for product '샘플_내추럴발란스_캣_고양이_사료_그레인프리_인도어_6' successfully processed.\n"
     ]
    },
    {
     "name": "stderr",
     "output_type": "stream",
     "text": [
      "Processing pages:   2%|▏         | 456/20713 [06:46<5:19:01,  1.06it/s]"
     ]
    },
    {
     "name": "stdout",
     "output_type": "stream",
     "text": [
      "Images for product '퍼시캣_그레인프리_레시피_고양이사료_연어치킨_4' successfully processed.\n"
     ]
    },
    {
     "name": "stderr",
     "output_type": "stream",
     "text": [
      "Processing pages:   2%|▏         | 461/20713 [06:51<5:26:23,  1.03it/s]"
     ]
    },
    {
     "name": "stdout",
     "output_type": "stream",
     "text": [
      "Images for product '화이트도그피쉬_샘플키트' successfully processed.\n"
     ]
    },
    {
     "name": "stderr",
     "output_type": "stream",
     "text": [
      "Processing pages:   2%|▏         | 468/20713 [06:57<5:09:21,  1.09it/s]"
     ]
    },
    {
     "name": "stdout",
     "output_type": "stream",
     "text": [
      "Images for product '정관장_지니펫_더홀리스틱_홍삼함유_사료_5' successfully processed.\n"
     ]
    },
    {
     "name": "stderr",
     "output_type": "stream",
     "text": [
      "Processing pages:   2%|▏         | 469/20713 [06:58<4:59:32,  1.13it/s]"
     ]
    },
    {
     "name": "stdout",
     "output_type": "stream",
     "text": [
      "Images for product '11플레이저_강아지_습식사료_파테타입_100g_X_4종_콤보_400g' successfully processed.\n",
      "Images for product '풀무원_아미오_홀리스틱_어덜트_5kg_대용량사료' successfully processed.\n"
     ]
    },
    {
     "name": "stderr",
     "output_type": "stream",
     "text": [
      "Processing pages:   2%|▏         | 473/20713 [07:01<5:01:36,  1.12it/s]"
     ]
    },
    {
     "name": "stdout",
     "output_type": "stream",
     "text": [
      "Images for product '11조이_파테캔_자연방목_고양이_주식캔_습식사료_방목한_닭고기_85g' successfully processed.\n"
     ]
    },
    {
     "name": "stderr",
     "output_type": "stream",
     "text": [
      "Processing pages:   2%|▏         | 484/20713 [07:11<4:37:00,  1.22it/s]"
     ]
    },
    {
     "name": "stdout",
     "output_type": "stream",
     "text": [
      "Images for product '오리젠_사료_오리지날_어덜트_독_6kg소분팩_세트' successfully processed.\n"
     ]
    },
    {
     "name": "stderr",
     "output_type": "stream",
     "text": [
      "Processing pages:   2%|▏         | 486/20713 [07:13<4:52:13,  1.15it/s]"
     ]
    },
    {
     "name": "stdout",
     "output_type": "stream",
     "text": [
      "Images for product '로얄캐닌_가스트로_인테스티널_로우팻_1' successfully processed.\n"
     ]
    },
    {
     "name": "stderr",
     "output_type": "stream",
     "text": [
      "Processing pages:   2%|▏         | 488/20713 [07:18<10:01:40,  1.78s/it]"
     ]
    },
    {
     "name": "stdout",
     "output_type": "stream",
     "text": [
      "Images for product '오리젠_고양이_사료_6_식스_피쉬_캣_5' successfully processed.\n",
      "Images for product '프로바이오밀_오리_강아지_소프트사료_1kg' successfully processed.\n",
      "Images for product '프로베스트_캣_밸런스_고양이사료_7kg' successfully processed.\n",
      "Images for product '스몰배치_치킨배치_슬라이더_25oz709g' successfully processed.\n"
     ]
    },
    {
     "name": "stderr",
     "output_type": "stream",
     "text": [
      "Processing pages:   2%|▏         | 489/20713 [07:18<8:21:05,  1.49s/it] "
     ]
    },
    {
     "name": "stdout",
     "output_type": "stream",
     "text": [
      "Images for product '어드밴스_일반식_캣_사료_샘플' successfully processed.\n"
     ]
    },
    {
     "name": "stderr",
     "output_type": "stream",
     "text": [
      "Processing pages:   2%|▏         | 490/20713 [07:19<7:15:22,  1.29s/it]"
     ]
    },
    {
     "name": "stdout",
     "output_type": "stream",
     "text": [
      "Images for product '건강다이어트_10kg_대용량_비만견_체중관리_강아지다이어트사료_애견사료' successfully processed.\n"
     ]
    },
    {
     "name": "stderr",
     "output_type": "stream",
     "text": [
      "Processing pages:   2%|▏         | 491/20713 [07:20<6:16:55,  1.12s/it]"
     ]
    },
    {
     "name": "stdout",
     "output_type": "stream",
     "text": [
      "Images for product '나우_그레인프리_스몰브리드_강아지사료_어덜트_2' successfully processed.\n",
      "Images for product '본아페티_강아지_기관지_건강_건식사료_반려견_기침_협착증_관리_브레스앤렁케어_1KG_1개' successfully processed.\n"
     ]
    },
    {
     "name": "stderr",
     "output_type": "stream",
     "text": [
      "Processing pages:   2%|▏         | 492/20713 [07:21<5:43:06,  1.02s/it]"
     ]
    },
    {
     "name": "stdout",
     "output_type": "stream",
     "text": [
      "Images for product '트러스티푸드_강아지_동결건조사료_소고기_비프패티_LID_150g' successfully processed.\n",
      "Images for product '네츄럴랩_케어_고양이_가수분해_사료_유기농_70_그레인프리_8kg_2kg_x_4포' successfully processed.\n"
     ]
    },
    {
     "name": "stderr",
     "output_type": "stream",
     "text": [
      "Processing pages:   2%|▏         | 493/20713 [07:21<5:16:55,  1.06it/s]"
     ]
    },
    {
     "name": "stdout",
     "output_type": "stream",
     "text": [
      "Images for product '더텐_소프트_인섹트알러지_케어_3kg_강아지_반건조_사료' successfully processed.\n",
      "Images for product '로얄캐닌_고양이사료_인도어_4kg_실내생활_건식_사료' successfully processed.\n"
     ]
    },
    {
     "name": "stderr",
     "output_type": "stream",
     "text": [
      "Processing pages:   2%|▏         | 494/20713 [07:22<5:04:26,  1.11it/s]"
     ]
    },
    {
     "name": "stdout",
     "output_type": "stream",
     "text": [
      "Images for product '맘블레스_강아지_부드러운_소프트_사료_연어_노령_1' successfully processed.\n",
      "Images for product '이즈칸_그레인프리_조인트케어_15kg_버라이어티_다이어트_강아지사료' successfully processed.\n"
     ]
    },
    {
     "name": "stderr",
     "output_type": "stream",
     "text": [
      "Processing pages:   2%|▏         | 496/20713 [07:24<4:40:03,  1.20it/s]"
     ]
    },
    {
     "name": "stdout",
     "output_type": "stream",
     "text": [
      "Images for product '딩고나투라_딩고_3kg_강아지_알러지_사료_다이어트_피부_사료_퍼피앤주니어' successfully processed.\n"
     ]
    },
    {
     "name": "stderr",
     "output_type": "stream",
     "text": [
      "Processing pages:   2%|▏         | 504/20713 [07:30<4:24:02,  1.28it/s]"
     ]
    },
    {
     "name": "stdout",
     "output_type": "stream",
     "text": [
      "Images for product '로얄캐닌_캣_가스트로_인테스티널_4kg' successfully processed.\n"
     ]
    },
    {
     "name": "stderr",
     "output_type": "stream",
     "text": [
      "Processing pages:   2%|▏         | 505/20713 [07:31<4:51:38,  1.15it/s]"
     ]
    },
    {
     "name": "stdout",
     "output_type": "stream",
     "text": [
      "Images for product '개똑_유기농_그레인프리_치매예방_기호성_소프트_강아지_습식사료_소고기맛_12개입_1팩' successfully processed.\n",
      "Images for product '웰썸_고양이사료_1' successfully processed.\n"
     ]
    },
    {
     "name": "stderr",
     "output_type": "stream",
     "text": [
      "Processing pages:   3%|▎         | 526/20713 [07:49<4:34:38,  1.23it/s]"
     ]
    },
    {
     "name": "stdout",
     "output_type": "stream",
     "text": [
      "Images for product '브레이버리_사료_독_2kg_그레인프리_강아지_사료_이베리코' successfully processed.\n"
     ]
    },
    {
     "name": "stderr",
     "output_type": "stream",
     "text": [
      "Processing pages:   3%|▎         | 530/20713 [07:53<5:46:54,  1.03s/it]"
     ]
    },
    {
     "name": "stdout",
     "output_type": "stream",
     "text": [
      "Images for product '순수_오리고기_알러지_강아지사료_저키타입_1kg_200g증' successfully processed.\n",
      "Images for product '오리젠_스몰브리드_1' successfully processed.\n",
      "Images for product '빈티지_사료_오븐베이크_연어_청어_1kg_캐나다_사료' successfully processed.\n",
      "Images for product '인디고7_세븐_연어치킨_1' successfully processed.\n"
     ]
    },
    {
     "name": "stderr",
     "output_type": "stream",
     "text": [
      "Processing pages:   3%|▎         | 531/20713 [07:54<5:30:29,  1.02it/s]"
     ]
    },
    {
     "name": "stdout",
     "output_type": "stream",
     "text": [
      "Images for product '토우사료_그레인프리_훈제연어_고구마_4' successfully processed.\n",
      "Images for product '2개추가_시그니처바이_타히보캣_닭가슴살_8개입2P_고양이_타히보_캔_TAHIIBO' successfully processed.\n",
      "Images for product '테라카니스_강아지_캔사료_독일_습식_사료_영양_알러지_미니_캔_치킨_100g_관절_피부' successfully processed.\n"
     ]
    },
    {
     "name": "stderr",
     "output_type": "stream",
     "text": [
      "Processing pages:   3%|▎         | 532/20713 [07:55<5:20:17,  1.05it/s]"
     ]
    },
    {
     "name": "stdout",
     "output_type": "stream",
     "text": [
      "Images for product '힐스_독_강아지_메타볼릭_metabolic_12' successfully processed.\n",
      "Images for product '닥터독_위장_사료_6kg' successfully processed.\n",
      "Images for product '퍼시캣_고양이_사료_치킨_칠면조_레시피_4' successfully processed.\n"
     ]
    },
    {
     "name": "stderr",
     "output_type": "stream",
     "text": [
      "Processing pages:   3%|▎         | 533/20713 [07:56<5:17:26,  1.06it/s]"
     ]
    },
    {
     "name": "stdout",
     "output_type": "stream",
     "text": [
      "Images for product '웰스비_퍼피_2' successfully processed.\n"
     ]
    },
    {
     "name": "stderr",
     "output_type": "stream",
     "text": [
      "Processing pages:   3%|▎         | 536/20713 [07:58<4:32:52,  1.23it/s]"
     ]
    },
    {
     "name": "stdout",
     "output_type": "stream",
     "text": [
      "Images for product '나비랑플러스_고양이사료_20kg500gx40포_1박스_길냥이_길고양이_사료' successfully processed.\n",
      "Images for product '카니러브_독_트루프레쉬_그레인프리사료_칠면조_4kg' successfully processed.\n"
     ]
    },
    {
     "name": "stderr",
     "output_type": "stream",
     "text": [
      "Processing pages:   3%|▎         | 537/20713 [07:59<4:42:05,  1.19it/s]"
     ]
    },
    {
     "name": "stdout",
     "output_type": "stream",
     "text": [
      "Images for product '로얄캐닌_캣_가스트로_인테스티널_화이버_리스폰스_2kg_고양이_소화불량_파이버_위염_반려묘_처방_사료' successfully processed.\n"
     ]
    },
    {
     "name": "stderr",
     "output_type": "stream",
     "text": [
      "Processing pages:   3%|▎         | 538/20713 [08:00<4:49:46,  1.16it/s]"
     ]
    },
    {
     "name": "stdout",
     "output_type": "stream",
     "text": [
      "Images for product 'NOW_나우사료_프레쉬_그레인프리_스몰브리드_어덜트_2' successfully processed.\n"
     ]
    },
    {
     "name": "stderr",
     "output_type": "stream",
     "text": [
      "Processing pages:   3%|▎         | 548/20713 [08:08<4:40:23,  1.20it/s]"
     ]
    },
    {
     "name": "stdout",
     "output_type": "stream",
     "text": [
      "Images for product '웰니스_사료_심플_스몰브리드_살몬_LID_4' successfully processed.\n"
     ]
    },
    {
     "name": "stderr",
     "output_type": "stream",
     "text": [
      "Processing pages:   3%|▎         | 554/20713 [08:17<7:42:10,  1.38s/it]"
     ]
    },
    {
     "name": "stdout",
     "output_type": "stream",
     "text": [
      "Images for product '테비랑_생연어_5kg_고양이사료_Tabby' successfully processed.\n",
      "Images for product '로얄캐닌_고양이사료_에이징_12_4kg_12세이상_노령묘' successfully processed.\n",
      "Images for product '인섹트도그_미니_2' successfully processed.\n"
     ]
    },
    {
     "name": "stderr",
     "output_type": "stream",
     "text": [
      "Processing pages:   3%|▎         | 555/20713 [08:18<6:50:28,  1.22s/it]"
     ]
    },
    {
     "name": "stdout",
     "output_type": "stream",
     "text": [
      "Images for product '도착보장_힐스_고양이사료_어덜트_퍼펙트_웨이트_1' successfully processed.\n"
     ]
    },
    {
     "name": "stderr",
     "output_type": "stream",
     "text": [
      "Processing pages:   3%|▎         | 557/20713 [08:20<5:43:27,  1.02s/it]"
     ]
    },
    {
     "name": "stdout",
     "output_type": "stream",
     "text": [
      "Images for product '네츄럴오_강아지_대용량_사료_소고기_10kg' successfully processed.\n"
     ]
    },
    {
     "name": "stderr",
     "output_type": "stream",
     "text": [
      "Processing pages:   3%|▎         | 560/20713 [08:22<5:06:12,  1.10it/s]"
     ]
    },
    {
     "name": "stdout",
     "output_type": "stream",
     "text": [
      "Images for product '내추럴발란스_그레인프리_인도어_캣_고양이_사료_6' successfully processed.\n",
      "Images for product '네츄럴코어_10프리그레인프리_치킨앤연어10kg_강아지사료' successfully processed.\n"
     ]
    },
    {
     "name": "stderr",
     "output_type": "stream",
     "text": [
      "Processing pages:   3%|▎         | 561/20713 [08:23<5:13:21,  1.07it/s]"
     ]
    },
    {
     "name": "stdout",
     "output_type": "stream",
     "text": [
      "Images for product '로얄캐닌_말티즈_어덜트_3kg_강아지_말티푸_사료' successfully processed.\n",
      "Images for product '캣츠러브_전연령_고양이_길고양이_길냥이_대용량_사료_15kg' successfully processed.\n"
     ]
    },
    {
     "name": "stderr",
     "output_type": "stream",
     "text": [
      "Processing pages:   3%|▎         | 563/20713 [08:25<5:02:15,  1.11it/s]"
     ]
    },
    {
     "name": "stdout",
     "output_type": "stream",
     "text": [
      "Images for product '퓨리나_캣차우_컴플리트_1' successfully processed.\n",
      "Images for product '2개_이즈칸_캣_올라이프_6' successfully processed.\n",
      "Images for product '윌로펫_강아지_사료_뉴트리탑_어덜트_기호성_좋은_말랑육즙_소프트사료_3kg' successfully processed.\n"
     ]
    },
    {
     "name": "stderr",
     "output_type": "stream",
     "text": [
      "Processing pages:   3%|▎         | 564/20713 [08:26<5:00:01,  1.12it/s]"
     ]
    },
    {
     "name": "stdout",
     "output_type": "stream",
     "text": [
      "Images for product '토탈_이퀼리브리오_어덜트_독_스몰브리드_블랙_눈물사료_7' successfully processed.\n"
     ]
    },
    {
     "name": "stderr",
     "output_type": "stream",
     "text": [
      "Processing pages:   3%|▎         | 570/20713 [08:31<5:00:02,  1.12it/s]"
     ]
    },
    {
     "name": "stdout",
     "output_type": "stream",
     "text": [
      "Images for product '건강백서_캣_건강한_체중_기능성_사료_1' successfully processed.\n"
     ]
    },
    {
     "name": "stderr",
     "output_type": "stream",
     "text": [
      "Processing pages:   3%|▎         | 571/20713 [08:32<5:10:38,  1.08it/s]"
     ]
    },
    {
     "name": "stdout",
     "output_type": "stream",
     "text": [
      "Images for product '로얄캐닌_미니퍼피_강아지_파우치_습식사료_box_12개입' successfully processed.\n",
      "Images for product '반해_l_파미나_ND_펌프킨_멧돼지사과_미니_바이트7kg__계량컵급여량_계산' successfully processed.\n"
     ]
    },
    {
     "name": "stderr",
     "output_type": "stream",
     "text": [
      "Processing pages:   3%|▎         | 591/20713 [08:48<4:30:38,  1.24it/s]"
     ]
    },
    {
     "name": "stdout",
     "output_type": "stream",
     "text": [
      "Images for product '오리젠_캣앤키튼_5' successfully processed.\n"
     ]
    },
    {
     "name": "stderr",
     "output_type": "stream",
     "text": [
      "Processing pages:   3%|▎         | 593/20713 [08:50<4:30:11,  1.24it/s]"
     ]
    },
    {
     "name": "stdout",
     "output_type": "stream",
     "text": [
      "Images for product '로얄캐닌_습식파우치_미니_어덜트_85g_X_12P' successfully processed.\n"
     ]
    },
    {
     "name": "stderr",
     "output_type": "stream",
     "text": [
      "Processing pages:   3%|▎         | 598/20713 [08:54<4:39:24,  1.20it/s]"
     ]
    },
    {
     "name": "stdout",
     "output_type": "stream",
     "text": [
      "Images for product 'PetAg_KMR_새끼고양이_아기고양이_초유_325ml_젖병세트' successfully processed.\n"
     ]
    },
    {
     "name": "stderr",
     "output_type": "stream",
     "text": [
      "Processing pages:   3%|▎         | 599/20713 [08:56<6:06:37,  1.09s/it]"
     ]
    },
    {
     "name": "stdout",
     "output_type": "stream",
     "text": [
      "Images for product '커클랜드_코스트코_대형견용_강아지사료_15' successfully processed.\n",
      "Images for product '힐스_고양이사료_어덜트_7_인도어_1' successfully processed.\n",
      "Images for product '팬시피스트_화이트라벨_참치흰살생선_고양이_주식캔_습식사료_85g' successfully processed.\n"
     ]
    },
    {
     "name": "stderr",
     "output_type": "stream",
     "text": [
      "Processing pages:   3%|▎         | 600/20713 [08:57<6:06:26,  1.09s/it]"
     ]
    },
    {
     "name": "stdout",
     "output_type": "stream",
     "text": [
      "Images for product '맘앤대디_전연령용_프리미엄_강아지_건식_사료_곡물_2kg' successfully processed.\n",
      "Images for product '맥아담스_사료_소형견_치킨_연어_2kg' successfully processed.\n",
      "Images for product '뉴트로_내추럴초이스_캣_인도어_닭고기와_현미_고양이사료_6' successfully processed.\n",
      "Images for product '로얄캐닌_캣_고양이사료_인도어_2kg' successfully processed.\n"
     ]
    },
    {
     "name": "stderr",
     "output_type": "stream",
     "text": [
      "Processing pages:   3%|▎         | 601/20713 [08:58<5:39:59,  1.01s/it]"
     ]
    },
    {
     "name": "stdout",
     "output_type": "stream",
     "text": [
      "Images for product '뉴웨이브_홀리스틱_강아지사료_5kg_오리' successfully processed.\n"
     ]
    },
    {
     "name": "stderr",
     "output_type": "stream",
     "text": [
      "Processing pages:   3%|▎         | 603/20713 [08:59<5:06:57,  1.09it/s]"
     ]
    },
    {
     "name": "stdout",
     "output_type": "stream",
     "text": [
      "Images for product '힐스_독_강아지_처방사료_id_로우팻_1' successfully processed.\n"
     ]
    },
    {
     "name": "stderr",
     "output_type": "stream",
     "text": [
      "Processing pages:   3%|▎         | 604/20713 [09:00<5:06:22,  1.09it/s]"
     ]
    },
    {
     "name": "stdout",
     "output_type": "stream",
     "text": [
      "Images for product '복수구매_5알모네이쳐_HFC_고양이_주식캔_습식사료_대서양_참치_70g' successfully processed.\n",
      "Images for product '베러펫_캣냠_고양이_습식사료_주식캔_스튜_70g_6개입_고양이_스프' successfully processed.\n"
     ]
    },
    {
     "name": "stderr",
     "output_type": "stream",
     "text": [
      "Processing pages:   3%|▎         | 606/20713 [09:02<4:40:26,  1.19it/s]"
     ]
    },
    {
     "name": "stdout",
     "output_type": "stream",
     "text": [
      "Images for product '길고양이사료_뉴블루캣_20kg_고양이사료대용량_길냥이_고양이밥' successfully processed.\n",
      "Images for product '무배업그레이드_오리지날_캐츠랑_전연령_고양이사료_5kg사은_증_인도어_길냥이' successfully processed.\n",
      "Images for product '리뉴얼특별가하이독_시그니처_오리고기_500g_강아지화식_저지방_시니어_어덜트_사료' successfully processed.\n"
     ]
    },
    {
     "name": "stderr",
     "output_type": "stream",
     "text": [
      "Processing pages:   3%|▎         | 607/20713 [09:03<4:54:56,  1.14it/s]"
     ]
    },
    {
     "name": "stdout",
     "output_type": "stream",
     "text": [
      "Images for product '로얄캐닌_키튼_캣_4kg_고양이_대용량_사료' successfully processed.\n"
     ]
    },
    {
     "name": "stderr",
     "output_type": "stream",
     "text": [
      "Processing pages:   3%|▎         | 613/20713 [09:08<4:28:30,  1.25it/s]"
     ]
    },
    {
     "name": "stdout",
     "output_type": "stream",
     "text": [
      "Images for product '천하제일_임페리얼드림_큰알_대형견_진돗개_대형견_강아지_대용량_고단백_사료' successfully processed.\n"
     ]
    },
    {
     "name": "stderr",
     "output_type": "stream",
     "text": [
      "Processing pages:   3%|▎         | 618/20713 [09:11<4:23:29,  1.27it/s]"
     ]
    },
    {
     "name": "stdout",
     "output_type": "stream",
     "text": [
      "Images for product '세니메드_SS_스킨_센서티브_7' successfully processed.\n"
     ]
    },
    {
     "name": "stderr",
     "output_type": "stream",
     "text": [
      "Processing pages:   3%|▎         | 627/20713 [09:25<6:26:22,  1.15s/it] "
     ]
    },
    {
     "name": "stdout",
     "output_type": "stream",
     "text": [
      "Images for product '닥터독_피부모질_사료_4kg' successfully processed.\n"
     ]
    },
    {
     "name": "stderr",
     "output_type": "stream",
     "text": [
      "Processing pages:   3%|▎         | 629/20713 [09:27<5:30:29,  1.01it/s]"
     ]
    },
    {
     "name": "stdout",
     "output_type": "stream",
     "text": [
      "Images for product '스페시픽_처방사료_습식캔_처방캔_FC_INW_회복식_95g' successfully processed.\n"
     ]
    },
    {
     "name": "stderr",
     "output_type": "stream",
     "text": [
      "Processing pages:   3%|▎         | 630/20713 [09:28<5:48:58,  1.04s/it]"
     ]
    },
    {
     "name": "stdout",
     "output_type": "stream",
     "text": [
      "Images for product '시저_사료_가든야채가_곁들여진_연어와_쇠고기_건사료_1KG' successfully processed.\n"
     ]
    },
    {
     "name": "stderr",
     "output_type": "stream",
     "text": [
      "Processing pages:   3%|▎         | 634/20713 [09:32<6:30:22,  1.17s/it]"
     ]
    },
    {
     "name": "stdout",
     "output_type": "stream",
     "text": [
      "Images for product '아르테미스_HIT' successfully processed.\n",
      "Images for product '오리젠_오리지널_캣_리뉴얼_캣앤키튼_1' successfully processed.\n",
      "Images for product '나인케어_캣_인도어_6kg_고양이사료' successfully processed.\n"
     ]
    },
    {
     "name": "stderr",
     "output_type": "stream",
     "text": [
      "Processing pages:   3%|▎         | 636/20713 [09:34<5:55:20,  1.06s/it]"
     ]
    },
    {
     "name": "stdout",
     "output_type": "stream",
     "text": [
      "Images for product '하림펫푸드_강아지_사료_5' successfully processed.Images for product '노스웨스트_내추럴_동결건조_사료_치킨연어_340g' successfully processed.\n",
      "\n",
      "Images for product '닥터독_피부모질_사료1kg' successfully processed.\n",
      "Images for product '유통_24' successfully processed.\n",
      "Images for product '닥터독_관절_사료1kg' successfully processed.\n",
      "Images for product '티키캣_그릴파테_정어리랍스터_고양이_주식캔_습식사료' successfully processed.\n"
     ]
    },
    {
     "name": "stderr",
     "output_type": "stream",
     "text": [
      "Processing pages:   3%|▎         | 637/20713 [09:35<5:18:28,  1.05it/s]"
     ]
    },
    {
     "name": "stdout",
     "output_type": "stream",
     "text": [
      "Images for product '로반_잘먹잘싸_황금변_강아지사료_변냄새피부모질_4KG' successfully processed.\n",
      "Images for product '로얄캐닌_강아지_사료_샘플_하이포알러제닉' successfully processed.\n"
     ]
    },
    {
     "name": "stderr",
     "output_type": "stream",
     "text": [
      "Processing pages:   3%|▎         | 638/20713 [09:36<5:02:27,  1.11it/s]"
     ]
    },
    {
     "name": "stdout",
     "output_type": "stream",
     "text": [
      "Images for product '윌로펫_강아지_사료_뉴트리탑_시니어_기호성_좋은_말랑육즙_소프트사료_1' successfully processed.\n"
     ]
    },
    {
     "name": "stderr",
     "output_type": "stream",
     "text": [
      "Processing pages:   3%|▎         | 639/20713 [09:36<4:46:18,  1.17it/s]"
     ]
    },
    {
     "name": "stdout",
     "output_type": "stream",
     "text": [
      "Images for product '닥터독_피부모질_사료_250g' successfully processed.\n"
     ]
    },
    {
     "name": "stderr",
     "output_type": "stream",
     "text": [
      "Processing pages:   3%|▎         | 640/20713 [09:37<4:30:05,  1.24it/s]"
     ]
    },
    {
     "name": "stdout",
     "output_type": "stream",
     "text": [
      "Images for product '나우_그레인프리_스몰브리드_퍼피_강아지사료_1' successfully processed.\n",
      "Images for product '브릿_프리미엄_네이쳐_독_스포츠_다이어트_대형견_XL_바이트_사료_15kg' successfully processed.\n",
      "Images for product '로얄캐닌_하이포알러제닉_스몰독_1kg__소형견_알러지사료' successfully processed.\n"
     ]
    },
    {
     "name": "stderr",
     "output_type": "stream",
     "text": [
      "Processing pages:   3%|▎         | 641/20713 [09:38<4:28:08,  1.25it/s]"
     ]
    },
    {
     "name": "stdout",
     "output_type": "stream",
     "text": [
      "Images for product '어딕션_강아지_사료_양고기_1' successfully processed.\n"
     ]
    },
    {
     "name": "stderr",
     "output_type": "stream",
     "text": [
      "Processing pages:   3%|▎         | 653/20713 [09:48<4:42:11,  1.18it/s]"
     ]
    },
    {
     "name": "stdout",
     "output_type": "stream",
     "text": [
      "Images for product '힐스_고양이사료_어덜트_2kg' successfully processed.\n",
      "Images for product '치즈썬_미트밤_4KG_튼튼사료' successfully processed.\n"
     ]
    },
    {
     "name": "stderr",
     "output_type": "stream",
     "text": [
      "Processing pages:   3%|▎         | 656/20713 [09:51<5:19:15,  1.05it/s]"
     ]
    },
    {
     "name": "stdout",
     "output_type": "stream",
     "text": [
      "Images for product '베기도그_강아지_그레인프리_야채사료_2' successfully processed.\n"
     ]
    },
    {
     "name": "stderr",
     "output_type": "stream",
     "text": [
      "Processing pages:   3%|▎         | 657/20713 [09:52<5:13:53,  1.06it/s]"
     ]
    },
    {
     "name": "stdout",
     "output_type": "stream",
     "text": [
      "Images for product '더마독_슬리밍_강아지_다이어트_사료_2kg_가수분해_개사료' successfully processed.\n"
     ]
    },
    {
     "name": "stderr",
     "output_type": "stream",
     "text": [
      "Processing pages:   3%|▎         | 674/20713 [10:07<4:31:04,  1.23it/s]"
     ]
    },
    {
     "name": "stdout",
     "output_type": "stream",
     "text": [
      "Images for product '밥이보약_고양이_건강_고민_사료_3' successfully processed.\n"
     ]
    },
    {
     "name": "stderr",
     "output_type": "stream",
     "text": [
      "Processing pages:   3%|▎         | 675/20713 [10:08<4:40:07,  1.19it/s]"
     ]
    },
    {
     "name": "stdout",
     "output_type": "stream",
     "text": [
      "Images for product '로얄캐닌_독_강아지_가스트로인테스티널_로우팻_캔_410g' successfully processed.\n",
      "Images for product '캐츠랑_전연령_리브레_2kg사은_증_고양이사료_길냥이' successfully processed.\n",
      "Images for product '로얄캐닌_미니_어덜트_건식_강아지사료_15kg_대포장_대용량' successfully processed.\n"
     ]
    },
    {
     "name": "stderr",
     "output_type": "stream",
     "text": [
      "Processing pages:   3%|▎         | 676/20713 [10:09<4:41:44,  1.19it/s]"
     ]
    },
    {
     "name": "stdout",
     "output_type": "stream",
     "text": [
      "Images for product '화이트도그_센시티브케어_밀웜_1' successfully processed.\n",
      "Images for product '인섹트도그_강아지_사료_밀웜_빅_라지_10kg소분봉투야채스틱_3p' successfully processed.\n",
      "Images for product 'Go_고사료_솔루션_강아지_사료_LID_고_칠면조_9' successfully processed.\n",
      "Images for product '오리젠_독_식스피쉬_6kg_강아지사료' successfully processed.\n"
     ]
    },
    {
     "name": "stderr",
     "output_type": "stream",
     "text": [
      "Processing pages:   3%|▎         | 677/20713 [10:09<4:45:25,  1.17it/s]"
     ]
    },
    {
     "name": "stdout",
     "output_type": "stream",
     "text": [
      "Images for product '프롬벳_사료_샘플_30g' successfully processed.\n",
      "Images for product '뉴트리나_프라임캣_에코_5kg_길_고양이_대용량_사료' successfully processed.\n"
     ]
    },
    {
     "name": "stderr",
     "output_type": "stream",
     "text": [
      "Processing pages:   3%|▎         | 678/20713 [10:10<4:58:34,  1.12it/s]"
     ]
    },
    {
     "name": "stdout",
     "output_type": "stream",
     "text": [
      "Error processing images for product '힐스_독_사이언스_다이어트_강아지_사료_어덜트_6_라지브리드_치킨_12kg': HTTPSConnectionPool(host='file.cafe24cos.com', port=443): Max retries exceeded with url: /banner-admin-live/upload/itzgroom01/ef0ec3aa-bd31-4b1c-d6e0-2841203636ff.jpeg (Caused by SSLError(SSLEOFError(8, '[SSL: UNEXPECTED_EOF_WHILE_READING] EOF occurred in violation of protocol (_ssl.c:1000)')))\n",
      "Images for product '뉴트로_내추럴초이스_캣_1세이상_실내묘용_닭고기와현미_6' successfully processed.\n",
      "Images for product '듀먼_닭가슴살채소_오리지널_화식사료_50g_x16팩' successfully processed.\n"
     ]
    },
    {
     "name": "stderr",
     "output_type": "stream",
     "text": [
      "Processing pages:   3%|▎         | 685/20713 [10:20<5:24:42,  1.03it/s] "
     ]
    },
    {
     "name": "stdout",
     "output_type": "stream",
     "text": [
      "Images for product '대주사료_도그랑_파워매직__20kg' successfully processed.\n",
      "Images for product '퓨어비타_고양이_사료_캣_치킨_6' successfully processed.\n"
     ]
    },
    {
     "name": "stderr",
     "output_type": "stream",
     "text": [
      "Processing pages:   3%|▎         | 686/20713 [10:21<5:31:44,  1.01it/s]"
     ]
    },
    {
     "name": "stdout",
     "output_type": "stream",
     "text": [
      "Images for product '내추럴발란스_그레인프리_울트라_인도어_캣_고양이_사료_2' successfully processed.\n",
      "Images for product '힐스_고양이사료_어덜트_7_인도어_1' successfully processed.\n"
     ]
    },
    {
     "name": "stderr",
     "output_type": "stream",
     "text": [
      "Processing pages:   3%|▎         | 687/20713 [10:23<5:58:21,  1.07s/it]"
     ]
    },
    {
     "name": "stdout",
     "output_type": "stream",
     "text": [
      "Images for product '윌로펫_뉴트리탑_시니어_강아지_소프트_반습식_사료_1' successfully processed.\n"
     ]
    },
    {
     "name": "stderr",
     "output_type": "stream",
     "text": [
      "Processing pages:   3%|▎         | 689/20713 [10:25<5:31:30,  1.01it/s]"
     ]
    },
    {
     "name": "stdout",
     "output_type": "stream",
     "text": [
      "Images for product '네츄럴코어_바다물메기_강아지_사료_1' successfully processed.\n"
     ]
    },
    {
     "name": "stderr",
     "output_type": "stream",
     "text": [
      "Processing pages:   3%|▎         | 692/20713 [10:27<5:12:19,  1.07it/s]"
     ]
    },
    {
     "name": "stdout",
     "output_type": "stream",
     "text": [
      "Images for product '버틀러_사료_1kg_인섹트_엔_알러지_더텐소프트_더텐_반건조_반습식_사료' successfully processed.\n"
     ]
    },
    {
     "name": "stderr",
     "output_type": "stream",
     "text": [
      "Processing pages:   3%|▎         | 696/20713 [10:35<7:29:05,  1.35s/it] "
     ]
    },
    {
     "name": "stdout",
     "output_type": "stream",
     "text": [
      "Images for product '꼬뜨_스탠다드_캣츠_20kg_고양이사료_대용량_길고양이_길냥이_밥' successfully processed.\n",
      "Images for product 'DOG_로얄캐닌_가스트로_인테스티널_로우팻_1' successfully processed.\n"
     ]
    },
    {
     "name": "stderr",
     "output_type": "stream",
     "text": [
      "Processing pages:   3%|▎         | 699/20713 [10:38<5:38:52,  1.02s/it]"
     ]
    },
    {
     "name": "stdout",
     "output_type": "stream",
     "text": [
      "Images for product '힐스_캣_고양이_처방사료_Gi_Biome_gi_바이옴_3' successfully processed.\n"
     ]
    },
    {
     "name": "stderr",
     "output_type": "stream",
     "text": [
      "Processing pages:   3%|▎         | 700/20713 [10:38<5:26:44,  1.02it/s]"
     ]
    },
    {
     "name": "stdout",
     "output_type": "stream",
     "text": [
      "Images for product '쿠쿳_캣_그레인프리_고양이사료_치킨_오리_1' successfully processed.\n"
     ]
    },
    {
     "name": "stderr",
     "output_type": "stream",
     "text": [
      "Processing pages:   3%|▎         | 701/20713 [10:39<5:17:08,  1.05it/s]"
     ]
    },
    {
     "name": "stdout",
     "output_type": "stream",
     "text": [
      "Images for product '빅스비_러블_건사료_돼지_1' successfully processed.\n"
     ]
    },
    {
     "name": "stderr",
     "output_type": "stream",
     "text": [
      "Processing pages:   3%|▎         | 702/20713 [10:40<5:03:08,  1.10it/s]"
     ]
    },
    {
     "name": "stdout",
     "output_type": "stream",
     "text": [
      "Images for product '내추럴발란스_LID_야채_브로스코팅_비건_강아지_사료_2' successfully processed.\n",
      "Images for product '네츄럴코어_사료_에코9B_시니어_연어_6kg' successfully processed.\n",
      "Images for product '네츄럴코어_RU_그레인프리_사료_6kg_치킨연어' successfully processed.\n"
     ]
    },
    {
     "name": "stderr",
     "output_type": "stream",
     "text": [
      "Processing pages:   3%|▎         | 703/20713 [10:41<5:06:28,  1.09it/s]"
     ]
    },
    {
     "name": "stdout",
     "output_type": "stream",
     "text": [
      "Images for product '유한양행_윌로펫_시니어_3kg닭가슴살3개_노령견사료' successfully processed.\n"
     ]
    },
    {
     "name": "stderr",
     "output_type": "stream",
     "text": [
      "Processing pages:   3%|▎         | 704/20713 [10:42<4:57:28,  1.12it/s]"
     ]
    },
    {
     "name": "stdout",
     "output_type": "stream",
     "text": [
      "Images for product '로얄캐닌_캣_인도어_400g_고양이_사료' successfully processed.\n"
     ]
    },
    {
     "name": "stderr",
     "output_type": "stream",
     "text": [
      "Processing pages:   3%|▎         | 718/20713 [10:54<4:37:14,  1.20it/s]"
     ]
    },
    {
     "name": "stdout",
     "output_type": "stream",
     "text": [
      "Images for product '아카나_어덜트_스몰브리드_2kg_포메_비숑_푸들_소형견_사료' successfully processed.\n",
      "Images for product '뉴로_독_강아지_사료_그레인프리_스몰브리드_칠면조_1' successfully processed.\n",
      "Images for product '뉴로_LID_연어_강아지사료_1' successfully processed.\n",
      "Images for product '대한사료_빅파워_15kg_대용량강아지사료_곰표사료_대형견사료' successfully processed.\n",
      "Images for product '디어니스트키친_클러스터_홀그레인_치킨오트_스몰브리드_450g' successfully processed.\n"
     ]
    },
    {
     "name": "stderr",
     "output_type": "stream",
     "text": [
      "Processing pages:   3%|▎         | 719/20713 [10:55<4:50:06,  1.15it/s]"
     ]
    },
    {
     "name": "stdout",
     "output_type": "stream",
     "text": [
      "Images for product '로얄캐닌_세타이어티_스몰독_다이어트_사료_1' successfully processed.\n",
      "Images for product '30행사브릿_프리미엄_독_강아지_화식사료_치킨토끼_소세지_800g' successfully processed.\n",
      "Images for product '알모네이쳐_내츄럴_캣_주식캔_10종_24개' successfully processed.\n"
     ]
    },
    {
     "name": "stderr",
     "output_type": "stream",
     "text": [
      "Processing pages:   4%|▎         | 734/20713 [11:08<4:50:34,  1.15it/s]"
     ]
    },
    {
     "name": "stdout",
     "output_type": "stream",
     "text": [
      "Images for product '로얄캐닌_처방식_독_가스트로_인테스티널_로우펫_1' successfully processed.\n",
      "Images for product '제일사료_도그매니아_올라이프_5kg_강아지_사료' successfully processed.\n",
      "Images for product '로얄캐닌_키튼_400g_고양이사료' successfully processed.\n",
      "Images for product '노스포_독_스몰바이트작은알갱이_5' successfully processed.\n"
     ]
    },
    {
     "name": "stderr",
     "output_type": "stream",
     "text": [
      "Processing pages:   4%|▎         | 736/20713 [11:11<5:43:42,  1.03s/it]"
     ]
    },
    {
     "name": "stdout",
     "output_type": "stream",
     "text": [
      "Images for product '로얄캐닌_인도어_7_고양이_시니어_사료_3' successfully processed.\n",
      "Images for product '닥터맘마_강아지_촉촉사료_오리_1kg_애견_화식_습식_사료' successfully processed.\n",
      "Images for product '로얄캐닌_로프_키튼_인스팅티브_85g_X_12P_습식파우치_고양이사료' successfully processed.\n"
     ]
    },
    {
     "name": "stderr",
     "output_type": "stream",
     "text": [
      "Processing pages:   4%|▎         | 739/20713 [11:13<5:01:44,  1.10it/s]"
     ]
    },
    {
     "name": "stdout",
     "output_type": "stream",
     "text": [
      "Images for product '더마독_관절_강아지_사료_6kg_가수분해_슬개골_개사료' successfully processed.\n"
     ]
    },
    {
     "name": "stderr",
     "output_type": "stream",
     "text": [
      "Processing pages:   4%|▎         | 740/20713 [11:14<4:47:07,  1.16it/s]"
     ]
    },
    {
     "name": "stdout",
     "output_type": "stream",
     "text": [
      "Images for product '힐스_강아지사료_어덜트_스몰포_1' successfully processed.\n"
     ]
    },
    {
     "name": "stderr",
     "output_type": "stream",
     "text": [
      "Processing pages:   4%|▎         | 750/20713 [11:23<4:35:56,  1.21it/s]"
     ]
    },
    {
     "name": "stdout",
     "output_type": "stream",
     "text": [
      "Images for product '브레이버리_캣_중성화_고양이사료_치킨_2kg' successfully processed.\n"
     ]
    },
    {
     "name": "stderr",
     "output_type": "stream",
     "text": [
      "Processing pages:   4%|▎         | 751/20713 [11:24<5:02:03,  1.10it/s]"
     ]
    },
    {
     "name": "stdout",
     "output_type": "stream",
     "text": [
      "Images for product '로얄캐닌_하이포알러제닉_스몰독_소형견_알러지_처방_사료_1kg' successfully processed.\n"
     ]
    },
    {
     "name": "stderr",
     "output_type": "stream",
     "text": [
      "Processing pages:   4%|▎         | 752/20713 [11:25<6:06:39,  1.10s/it]"
     ]
    },
    {
     "name": "stdout",
     "output_type": "stream",
     "text": [
      "Images for product '11내추럴발란스_캣_울트라_닭고기연어_고양이_사료_6' successfully processed.\n",
      "Images for product '포르자10_강아지_습식_사료_처방_캔_레날_신장_100g_1box6개입' successfully processed.\n",
      "Images for product '시저_캔_쇠고기_100g_강아지_주식캔_습식사료' successfully processed.\n",
      "Images for product '웰썸_독_곤충사료_36kg__1' successfully processed.\n",
      "Images for product '인디고_고양이_신장_사료_면역_앤_유리너리_포_캣_6kg' successfully processed.\n"
     ]
    },
    {
     "name": "stderr",
     "output_type": "stream",
     "text": [
      "Processing pages:   4%|▎         | 754/20713 [11:27<5:29:14,  1.01it/s]"
     ]
    },
    {
     "name": "stdout",
     "output_type": "stream",
     "text": [
      "Images for product '닥터독_위장_사료_4kg' successfully processed.\n"
     ]
    },
    {
     "name": "stderr",
     "output_type": "stream",
     "text": [
      "Processing pages:   4%|▎         | 755/20713 [11:28<5:08:17,  1.08it/s]"
     ]
    },
    {
     "name": "stdout",
     "output_type": "stream",
     "text": [
      "Images for product '이즈칸_독_버라이어티_다이어트_강아지사료_15kg_조인트케어' successfully processed.\n"
     ]
    },
    {
     "name": "stderr",
     "output_type": "stream",
     "text": [
      "Processing pages:   4%|▎         | 763/20713 [11:35<5:25:52,  1.02it/s]"
     ]
    },
    {
     "name": "stdout",
     "output_type": "stream",
     "text": [
      "Images for product 'ANF_소프트_사료_연어_5' successfully processed.\n",
      "Images for product '로얄캐닌_고양이_유리너리_SO_캣_1' successfully processed.\n",
      "Images for product '15쿠폰_오픈팜_동결건조_사료_치킨_383g' successfully processed.\n",
      "Images for product '스티브스_리얼푸드_동결건조_사료_566g_터덕킨' successfully processed.\n"
     ]
    },
    {
     "name": "stderr",
     "output_type": "stream",
     "text": [
      "Processing pages:   4%|▎         | 764/20713 [11:36<5:50:14,  1.05s/it]"
     ]
    },
    {
     "name": "stdout",
     "output_type": "stream",
     "text": [
      "Images for product '택1_더리얼_캣_GF_크런치_고양이_사료_1' successfully processed.\n"
     ]
    },
    {
     "name": "stderr",
     "output_type": "stream",
     "text": [
      "Processing pages:   4%|▎         | 765/20713 [11:37<5:24:12,  1.03it/s]"
     ]
    },
    {
     "name": "stdout",
     "output_type": "stream",
     "text": [
      "Images for product '로얄캐닌_미니_인도어_시니어_88세이상_3kg_노령견사료' successfully processed.\n"
     ]
    },
    {
     "name": "stderr",
     "output_type": "stream",
     "text": [
      "Processing pages:   4%|▎         | 766/20713 [11:38<5:07:17,  1.08it/s]"
     ]
    },
    {
     "name": "stdout",
     "output_type": "stream",
     "text": [
      "Images for product '아보덤_조인트헬스_1kg_그레인프리_강아지사료' successfully processed.\n"
     ]
    },
    {
     "name": "stderr",
     "output_type": "stream",
     "text": [
      "Processing pages:   4%|▎         | 767/20713 [11:39<5:44:56,  1.04s/it]"
     ]
    },
    {
     "name": "stdout",
     "output_type": "stream",
     "text": [
      "Images for product '벨포아사료_미니_인섹트_2' successfully processed.\n"
     ]
    },
    {
     "name": "stderr",
     "output_type": "stream",
     "text": [
      "Processing pages:   4%|▍         | 783/20713 [11:57<7:38:13,  1.38s/it] "
     ]
    },
    {
     "name": "stdout",
     "output_type": "stream",
     "text": [
      "Images for product '도그랑_진도골드_10kg' successfully processed.\n",
      "Images for product '퓨어비타_캣_그레인프리_사료_치킨_3kg2종_간식' successfully processed.\n",
      "Images for product '원데이케어_캣_인도어_알러지케어_사료_1' successfully processed.\n",
      "Images for product '스페시픽_CKD_심장신장간_스몰바이트_2kg' successfully processed.\n"
     ]
    },
    {
     "name": "stderr",
     "output_type": "stream",
     "text": [
      "Processing pages:   4%|▍         | 784/20713 [11:58<7:04:48,  1.28s/it]"
     ]
    },
    {
     "name": "stdout",
     "output_type": "stream",
     "text": [
      "Images for product '테라카니스_카니레오_치킨_1kg_강아지_오븐베이크사료_휴먼그레이드' successfully processed.\n",
      "Error processing images for product '로얄캐닌_캣_인도어_50g_샘플사료': HTTPSConnectionPool(host='cdnimg.catpang.com', port=443): Max retries exceeded with url: /catpang/data/goods/9/8181_web_detailView_1624340917968601.jpg (Caused by SSLError(SSLError(1, '[SSL: DH_KEY_TOO_SMALL] dh key too small (_ssl.c:1000)')))\n",
      "Images for product '로얄캐닌_독_레날_캔_410g_습식사료' successfully processed.\n",
      "Images for product '빅스비_러블_강아지_LID사료_포크_1' successfully processed.\n",
      "Images for product '신제품_벅스펫_프리미엄_이더블인섹트_사료_강아지_샘플_기호성_알러지_테스트_300g' successfully processed.\n"
     ]
    },
    {
     "name": "stderr",
     "output_type": "stream",
     "text": [
      "Processing pages:   4%|▍         | 792/20713 [12:09<5:24:39,  1.02it/s] "
     ]
    },
    {
     "name": "stdout",
     "output_type": "stream",
     "text": [
      "Images for product '로얄캐닌_세타이어티_스몰독_1' successfully processed.\n"
     ]
    },
    {
     "name": "stderr",
     "output_type": "stream",
     "text": [
      "Processing pages:   4%|▍         | 799/20713 [12:15<5:04:19,  1.09it/s]"
     ]
    },
    {
     "name": "stdout",
     "output_type": "stream",
     "text": [
      "Images for product '오리젠_6피쉬_독_피쉬독_6kg_25년2월' successfully processed.\n",
      "Images for product '로얄캐닌_엑스스몰_퍼피_3kg_강아지사료' successfully processed.\n",
      "Images for product '똑똑한끼_해피밀_황태와_소고기_소프트사료_1' successfully processed.\n",
      "Images for product '네츄럴코어_사료_에코6_연어_6kg_중간입자' successfully processed.\n",
      "Images for product '보레알_고양이_주식캔_습식사료_156g_돼지고기송어_분홍' successfully processed.\n",
      "Images for product '로얄캐닌_파우치_그레이비_습식사료_습식캔_인도어_7' successfully processed.\n",
      "Images for product '프론티어_사료_포크_돼지_동결건조_300g' successfully processed.\n"
     ]
    },
    {
     "name": "stderr",
     "output_type": "stream",
     "text": [
      "Processing pages:   4%|▍         | 800/20713 [12:16<5:23:15,  1.03it/s]"
     ]
    },
    {
     "name": "stdout",
     "output_type": "stream",
     "text": [
      "Images for product '보레알_캣_오리지널_그레인프리_치킨_5' successfully processed.\n"
     ]
    },
    {
     "name": "stderr",
     "output_type": "stream",
     "text": [
      "Processing pages:   4%|▍         | 816/20713 [12:31<5:02:14,  1.10it/s]"
     ]
    },
    {
     "name": "stdout",
     "output_type": "stream",
     "text": [
      "Images for product '로얄캐닌_독_맥시_어덜트_대형견_사료_10kg' successfully processed.\n",
      "Images for product '베네핏_독_스킨앤코트_스킨코트_1' successfully processed.\n",
      "Images for product '로얄캐닌_키튼_젤리_파우치_85g_12개입_습식_고양이_사료' successfully processed.\n"
     ]
    },
    {
     "name": "stderr",
     "output_type": "stream",
     "text": [
      "Processing pages:   4%|▍         | 817/20713 [12:32<5:05:54,  1.08it/s]"
     ]
    },
    {
     "name": "stdout",
     "output_type": "stream",
     "text": [
      "Images for product '로얄캐닌_덴탈케어_오랄케어_캣_3' successfully processed.\n",
      "Images for product '11아침애사료_오리연어감자_3KG샘플' successfully processed.\n",
      "Images for product '아침애사료_오리연어감자_3kg_수제_강아지사료' successfully processed.\n",
      "Images for product 'ANF_캣_홀리스틱_헬시_어덜트_40g_샘플사료' successfully processed.\n"
     ]
    },
    {
     "name": "stderr",
     "output_type": "stream",
     "text": [
      "Processing pages:   4%|▍         | 818/20713 [12:32<4:56:25,  1.12it/s]"
     ]
    },
    {
     "name": "stdout",
     "output_type": "stream",
     "text": [
      "Images for product '강아지_화식_신장_케어팩_50g_25포_췌장_심장_간_저단저지' successfully processed.\n",
      "Images for product '닥터독_피부모질_사료_6kg' successfully processed.\n"
     ]
    },
    {
     "name": "stderr",
     "output_type": "stream",
     "text": [
      "Processing pages:   4%|▍         | 819/20713 [12:33<4:38:14,  1.19it/s]"
     ]
    },
    {
     "name": "stdout",
     "output_type": "stream",
     "text": [
      "Images for product '펫푸드판다_강아지_화식_50g_자연식_수제사료_닭고기' successfully processed.\n",
      "Images for product 'ANF_6free_소고기_연어_강아지_사료_샘플_기호성_테스트' successfully processed.\n"
     ]
    },
    {
     "name": "stderr",
     "output_type": "stream",
     "text": [
      "Processing pages:   4%|▍         | 836/20713 [12:48<4:43:43,  1.17it/s]"
     ]
    },
    {
     "name": "stdout",
     "output_type": "stream",
     "text": [
      "Images for product '로얄캐닌_캣_유리너리_SO_3' successfully processed.\n"
     ]
    },
    {
     "name": "stderr",
     "output_type": "stream",
     "text": [
      "Processing pages:   4%|▍         | 844/20713 [12:56<5:05:01,  1.09it/s]"
     ]
    },
    {
     "name": "stdout",
     "output_type": "stream",
     "text": [
      "Images for product '로얄포포리_심장병_노령견__습식_사료_강아지_영양식_보양식_회복식_100g_6포_노견_수술' successfully processed.\n"
     ]
    },
    {
     "name": "stderr",
     "output_type": "stream",
     "text": [
      "Processing pages:   4%|▍         | 852/20713 [13:03<4:36:20,  1.20it/s]"
     ]
    },
    {
     "name": "stdout",
     "output_type": "stream",
     "text": [
      "Images for product '로얄캐닌_독_미니_라이트웨이트_체중관리_1kg_다이어트_강아지_사료' successfully processed.\n"
     ]
    },
    {
     "name": "stderr",
     "output_type": "stream",
     "text": [
      "Processing pages:   4%|▍         | 853/20713 [13:04<5:29:21,  1.00it/s]"
     ]
    },
    {
     "name": "stdout",
     "output_type": "stream",
     "text": [
      "Images for product '퓨리나_캣차우_인도어_6' successfully processed.\n",
      "Images for product '어스본_홀리스틱_독_강아지사료_웨이트컨트롤_2' successfully processed.\n",
      "Images for product '워프_동결건조_전연령_사료_야생사슴_1kg' successfully processed.\n",
      "Images for product '강아지_고사료_Go_사료_고_연어_2' successfully processed.\n"
     ]
    },
    {
     "name": "stderr",
     "output_type": "stream",
     "text": [
      "Processing pages:   4%|▍         | 855/20713 [13:06<5:00:47,  1.10it/s]"
     ]
    },
    {
     "name": "stdout",
     "output_type": "stream",
     "text": [
      "Images for product '닥터독_매일영양_사료_250g' successfully processed.\n"
     ]
    },
    {
     "name": "stderr",
     "output_type": "stream",
     "text": [
      "Processing pages:   4%|▍         | 856/20713 [13:07<4:45:33,  1.16it/s]"
     ]
    },
    {
     "name": "stdout",
     "output_type": "stream",
     "text": [
      "Images for product '소형견_건강한_고단백_유산균_강아지_사료_웰니스_코어_1' successfully processed.\n",
      "Images for product '프롬벳_관절에_좋은_사료_2' successfully processed.\n",
      "Images for product '영국_이노센트_에어드라이드_연어사료_살몬_피쉬케이크' successfully processed.\n"
     ]
    },
    {
     "name": "stderr",
     "output_type": "stream",
     "text": [
      "Processing pages:   4%|▍         | 857/20713 [13:08<4:55:50,  1.12it/s]"
     ]
    },
    {
     "name": "stdout",
     "output_type": "stream",
     "text": [
      "Images for product '보나시보_어덜트_독_램__라이스_15kg_애견사료' successfully processed.\n",
      "Images for product '핏펫_인섹트업_하이포알러지_강아지_곤충_사료_오리지널_1' successfully processed.\n",
      "Images for product '힐스_고양이사료_어덜트_10kg' successfully processed.\n",
      "Images for product '복수구매DC알모네이쳐_대서양참치_주식캔_습식사료_70g' successfully processed.\n"
     ]
    },
    {
     "name": "stderr",
     "output_type": "stream",
     "text": [
      "Processing pages:   4%|▍         | 858/20713 [13:08<4:44:18,  1.16it/s]"
     ]
    },
    {
     "name": "stdout",
     "output_type": "stream",
     "text": [
      "Images for product '누터스가든_강아지_사료__간식_모음전' successfully processed.\n",
      "Images for product '뉴트리소스_강아지_사료_라지브리드_퍼피_2' successfully processed.\n"
     ]
    },
    {
     "name": "stderr",
     "output_type": "stream",
     "text": [
      "Processing pages:   4%|▍         | 860/20713 [13:10<4:38:38,  1.19it/s]"
     ]
    },
    {
     "name": "stdout",
     "output_type": "stream",
     "text": [
      "Images for product 'ANF_식스프리_플러스_웨이트케어_다이어트_고양이사료_5' successfully processed.\n"
     ]
    },
    {
     "name": "stderr",
     "output_type": "stream",
     "text": [
      "Processing pages:   4%|▍         | 864/20713 [13:13<4:32:55,  1.21it/s]"
     ]
    },
    {
     "name": "stdout",
     "output_type": "stream",
     "text": [
      "Images for product '엄마집밥_강아지_자연화식_50g_8종_8팩8팩' successfully processed.\n"
     ]
    },
    {
     "name": "stderr",
     "output_type": "stream",
     "text": [
      "Processing pages:   4%|▍         | 868/20713 [13:17<4:30:55,  1.22it/s]"
     ]
    },
    {
     "name": "stdout",
     "output_type": "stream",
     "text": [
      "Images for product '로얄캐닌_캣파우치_유리너리_그레이비_85g_1박스12개' successfully processed.\n"
     ]
    },
    {
     "name": "stderr",
     "output_type": "stream",
     "text": [
      "Processing pages:   4%|▍         | 871/20713 [13:19<4:53:29,  1.13it/s]"
     ]
    },
    {
     "name": "stdout",
     "output_type": "stream",
     "text": [
      "Images for product '체험세트_골고루_1세트4팩_플라잉퍼피_강아지_화식' successfully processed.\n"
     ]
    },
    {
     "name": "stderr",
     "output_type": "stream",
     "text": [
      "Processing pages:   4%|▍         | 878/20713 [13:30<7:09:28,  1.30s/it] "
     ]
    },
    {
     "name": "stdout",
     "output_type": "stream",
     "text": [
      "Images for product '나우_그레인프리_시니어_3' successfully processed.\n",
      "Images for product 'S_오리젠_독_스몰브리드_18kg_강아지사료24' successfully processed.\n"
     ]
    },
    {
     "name": "stderr",
     "output_type": "stream",
     "text": [
      "Processing pages:   4%|▍         | 879/20713 [13:30<6:27:36,  1.17s/it]"
     ]
    },
    {
     "name": "stdout",
     "output_type": "stream",
     "text": [
      "Images for product '보레알_그레인프리_주식캔_습식사료_치킨연어오리_80g' successfully processed.\n"
     ]
    },
    {
     "name": "stderr",
     "output_type": "stream",
     "text": [
      "Processing pages:   4%|▍         | 881/20713 [13:32<5:26:51,  1.01it/s]"
     ]
    },
    {
     "name": "stdout",
     "output_type": "stream",
     "text": [
      "Images for product '더텐_소프트_인섹트알러지_케어_1kg_강아지_반건조_사료' successfully processed.\n"
     ]
    },
    {
     "name": "stderr",
     "output_type": "stream",
     "text": [
      "Processing pages:   4%|▍         | 889/20713 [13:39<4:28:18,  1.23it/s]"
     ]
    },
    {
     "name": "stdout",
     "output_type": "stream",
     "text": [
      "Images for product '듀먼_자연화식_3주패키지_8종_24팩_50g___강아지화식' successfully processed.\n"
     ]
    },
    {
     "name": "stderr",
     "output_type": "stream",
     "text": [
      "Processing pages:   4%|▍         | 890/20713 [13:40<4:56:09,  1.12it/s]"
     ]
    },
    {
     "name": "stdout",
     "output_type": "stream",
     "text": [
      "Images for product '닥터맘마_강아지_촉촉사료_시니어_250g_노령견_처방' successfully processed.\n"
     ]
    },
    {
     "name": "stderr",
     "output_type": "stream",
     "text": [
      "Processing pages:   4%|▍         | 894/20713 [13:43<5:18:06,  1.04it/s]"
     ]
    },
    {
     "name": "stdout",
     "output_type": "stream",
     "text": [
      "Images for product 'ANF_6free_S_오리_8kg_강아지사료' successfully processed.\n"
     ]
    },
    {
     "name": "stderr",
     "output_type": "stream",
     "text": [
      "Processing pages:   4%|▍         | 895/20713 [13:44<5:37:19,  1.02s/it]"
     ]
    },
    {
     "name": "stdout",
     "output_type": "stream",
     "text": [
      "Images for product '유통기한넉넉_이즈칸_퍼피_스몰바이트15kg_보호소_후원_환영_우리와_대한사료' successfully processed.\n",
      "Images for product '목우촌_펫9단_소프트사료_푸들_1' successfully processed.\n"
     ]
    },
    {
     "name": "stderr",
     "output_type": "stream",
     "text": [
      "Processing pages:   4%|▍         | 896/20713 [13:45<5:15:37,  1.05it/s]"
     ]
    },
    {
     "name": "stdout",
     "output_type": "stream",
     "text": [
      "Images for product '로얄캐닌_엑스스몰_어덜트_88세이상_3kg_노령견_강아지사료' successfully processed.\n",
      "Images for product '도거박스_대용량_250g_강아지_자연식_화식_사료' successfully processed.\n",
      "Images for product '힐스_강아지사료_퍼피_스몰포_1' successfully processed.\n",
      "Images for product '디어니스트키친_탈수건조사료_그레인프리_치킨_레시피_강아지_자연식_907g' successfully processed.\n"
     ]
    },
    {
     "name": "stderr",
     "output_type": "stream",
     "text": [
      "Processing pages:   4%|▍         | 897/20713 [13:46<5:05:01,  1.08it/s]"
     ]
    },
    {
     "name": "stdout",
     "output_type": "stream",
     "text": [
      "Images for product '웰썸사료_36kg1' successfully processed.\n",
      "Images for product '나인케어_캣_홀리스틱_고양이사료_키튼_1kg__사은품_선택증정' successfully processed.\n"
     ]
    },
    {
     "name": "stderr",
     "output_type": "stream",
     "text": [
      "Processing pages:   4%|▍         | 902/20713 [13:50<4:37:51,  1.19it/s]"
     ]
    },
    {
     "name": "stdout",
     "output_type": "stream",
     "text": [
      "Images for product '로얄캐닌_미니_인도어_퍼피_8' successfully processed.\n"
     ]
    },
    {
     "name": "stderr",
     "output_type": "stream",
     "text": [
      "Processing pages:   4%|▍         | 906/20713 [13:54<4:40:56,  1.18it/s]"
     ]
    },
    {
     "name": "stdout",
     "output_type": "stream",
     "text": [
      "Images for product '퓨어비타_캣_치킨_고양이_설사_변비_유산균_사료_LID_완두콩_6' successfully processed.\n"
     ]
    },
    {
     "name": "stderr",
     "output_type": "stream",
     "text": [
      "Processing pages:   4%|▍         | 907/20713 [13:55<4:48:44,  1.14it/s]"
     ]
    },
    {
     "name": "stdout",
     "output_type": "stream",
     "text": [
      "Images for product '로얄캐닌_처방식_독_세타이어티_스몰독_3kg_강아지' successfully processed.\n",
      "Images for product '더마독_관절_강아지_사료_2kg_가수분해_슬개골_개사료' successfully processed.\n"
     ]
    },
    {
     "name": "stderr",
     "output_type": "stream",
     "text": [
      "Processing pages:   4%|▍         | 910/20713 [13:57<4:29:37,  1.22it/s]"
     ]
    },
    {
     "name": "stdout",
     "output_type": "stream",
     "text": [
      "Images for product '리얼네이처_가수분해_홀리스틱_캣_숲속의_닭고기_고양이사료_2kg' successfully processed.\n",
      "Images for product '로얄캐닌_독_미니_인도어_시니어_3kg_강아지_사료' successfully processed.\n",
      "Images for product '로얄캐닌_인도어_고양이사료_2kg' successfully processed.\n"
     ]
    },
    {
     "name": "stderr",
     "output_type": "stream",
     "text": [
      "Processing pages:   4%|▍         | 911/20713 [13:58<4:20:18,  1.27it/s]"
     ]
    },
    {
     "name": "stdout",
     "output_type": "stream",
     "text": [
      "Images for product '오리젠_강아지_사료_6_식스_피쉬_독_2kg야채스틱_1p' successfully processed.\n"
     ]
    },
    {
     "name": "stderr",
     "output_type": "stream",
     "text": [
      "Processing pages:   4%|▍         | 926/20713 [14:13<7:54:34,  1.44s/it]"
     ]
    },
    {
     "name": "stdout",
     "output_type": "stream",
     "text": [
      "Images for product '힐스_독_강아지_wd_wd_1' successfully processed.\n",
      "Images for product '어드밴스_캣_어덜트_고양이사료_3kg' successfully processed.\n",
      "Images for product '바이탈린_어덜트2kg_췌장_장염_강아지사료' successfully processed.\n",
      "Images for product '에코4_슬림다운_오리_10kg_다이어트_사료' successfully processed.\n",
      "Images for product '하이독_알러컷_홀스_500g_하이포알러제닉_항산화_면역력_말고기_알러지사료' successfully processed.\n"
     ]
    },
    {
     "name": "stderr",
     "output_type": "stream",
     "text": [
      "Processing pages:   4%|▍         | 927/20713 [14:14<6:56:10,  1.26s/it]"
     ]
    },
    {
     "name": "stdout",
     "output_type": "stream",
     "text": [
      "Images for product '치즈썬_미트밤_치킨덕_1kg_강아지습식사료_부드러운_강아지밥_반습식_노령견_노견' successfully processed.\n",
      "Images for product '아보덤_조인트헬스_그레인프리_사료_1kg_피부_관절사료' successfully processed.\n"
     ]
    },
    {
     "name": "stderr",
     "output_type": "stream",
     "text": [
      "Processing pages:   4%|▍         | 928/20713 [14:14<6:08:11,  1.12s/it]"
     ]
    },
    {
     "name": "stdout",
     "output_type": "stream",
     "text": [
      "Images for product 'ANF_6free_플러스_유기농_70이상_강아지_사료_소고기와연어_5' successfully processed.\n",
      "Images for product '닥터독_다이어트_사료_250g' successfully processed.\n"
     ]
    },
    {
     "name": "stderr",
     "output_type": "stream",
     "text": [
      "Processing pages:   4%|▍         | 930/20713 [14:16<5:15:39,  1.04it/s]"
     ]
    },
    {
     "name": "stdout",
     "output_type": "stream",
     "text": [
      "Images for product '나우_어덜트_2' successfully processed.\n"
     ]
    },
    {
     "name": "stderr",
     "output_type": "stream",
     "text": [
      "Processing pages:   5%|▍         | 942/20713 [14:26<4:37:08,  1.19it/s]"
     ]
    },
    {
     "name": "stdout",
     "output_type": "stream",
     "text": [
      "Images for product '유통임박할인_지위픽_독_식품_지위픽사료_소고기_454g' successfully processed.\n"
     ]
    },
    {
     "name": "stderr",
     "output_type": "stream",
     "text": [
      "Processing pages:   5%|▍         | 943/20713 [14:27<4:38:33,  1.18it/s]"
     ]
    },
    {
     "name": "stdout",
     "output_type": "stream",
     "text": [
      "Images for product 'CA뉴에이스_15kg_강아지사료대용량_대형견사료' successfully processed.\n",
      "Images for product '베스트브리드_고양이사료_홀리스틱_캣_다이어트_1' successfully processed.\n"
     ]
    },
    {
     "name": "stderr",
     "output_type": "stream",
     "text": [
      "Processing pages:   5%|▍         | 950/20713 [14:33<5:09:32,  1.06it/s]"
     ]
    },
    {
     "name": "stdout",
     "output_type": "stream",
     "text": [
      "Images for product '11_티키캣__애프터다크_고양이_습식_사료_주식캔_80g' successfully processed.\n"
     ]
    },
    {
     "name": "stderr",
     "output_type": "stream",
     "text": [
      "Processing pages:   5%|▍         | 956/20713 [14:39<4:42:03,  1.17it/s]"
     ]
    },
    {
     "name": "stdout",
     "output_type": "stream",
     "text": [
      "Images for product '로얄캐닌_독_레날_캔_410g_습식_강아지_신부전_신장질환_반려견_처방_사료' successfully processed.\n"
     ]
    },
    {
     "name": "stderr",
     "output_type": "stream",
     "text": [
      "Processing pages:   5%|▍         | 959/20713 [14:41<4:25:05,  1.24it/s]"
     ]
    },
    {
     "name": "stdout",
     "output_type": "stream",
     "text": [
      "Images for product '캣차우_컴플리트_1' successfully processed.\n"
     ]
    },
    {
     "name": "stderr",
     "output_type": "stream",
     "text": [
      "Processing pages:   5%|▍         | 961/20713 [14:44<6:54:30,  1.26s/it]"
     ]
    },
    {
     "name": "stdout",
     "output_type": "stream",
     "text": [
      "Images for product '로얄캐닌_어린_강아지_사료_엑스스몰_퍼피_3kg' successfully processed.\n",
      "Images for product '유통기한24년4월1일내추럴발란스_LI_그레인프리_닭고기고구마_레시피_강아지_사료작은알갱이_2' successfully processed.\n",
      "Images for product '이퀄리브리오_어덜트_7' successfully processed.\n",
      "Images for product '퍼시캣_고양이_습식_주식_캔_사료_프리미엄_80g_참치조개' successfully processed.\n"
     ]
    },
    {
     "name": "stderr",
     "output_type": "stream",
     "text": [
      "Processing pages:   5%|▍         | 962/20713 [14:45<6:18:58,  1.15s/it]"
     ]
    },
    {
     "name": "stdout",
     "output_type": "stream",
     "text": [
      "Images for product '로얄캐닌_브리티쉬_숏헤어_4kg_고양이사료' successfully processed.\n"
     ]
    },
    {
     "name": "stderr",
     "output_type": "stream",
     "text": [
      "Processing pages:   5%|▍         | 963/20713 [14:46<5:51:42,  1.07s/it]"
     ]
    },
    {
     "name": "stdout",
     "output_type": "stream",
     "text": [
      "Images for product '브릿_프리미엄_독_다이어트_15kg_체중조절_강아지_사료' successfully processed.\n",
      "Images for product '로얄캐닌_캣_인도어_7세이상_8kg_고양이사료' successfully processed.\n",
      "Images for product '고양이사료대용량_길고양이_길냥이_밥_캣츠온_20kg' successfully processed.\n",
      "Images for product '윌로펫_강아지_사료_뉴트리탑_어덜트_기호성_좋은_말랑육즙_소프트사료_1' successfully processed.\n"
     ]
    },
    {
     "name": "stderr",
     "output_type": "stream",
     "text": [
      "Processing pages:   5%|▍         | 964/20713 [14:47<5:25:20,  1.01it/s]"
     ]
    },
    {
     "name": "stdout",
     "output_type": "stream",
     "text": [
      "Images for product '풀무원_아미오_유기농_사료_홀리스틱_어덜트_1' successfully processed.\n"
     ]
    },
    {
     "name": "stderr",
     "output_type": "stream",
     "text": [
      "Processing pages:   5%|▍         | 965/20713 [14:48<5:22:31,  1.02it/s]"
     ]
    },
    {
     "name": "stdout",
     "output_type": "stream",
     "text": [
      "Images for product '한끼뚝딱_클래식_황태와_소고기_강아지사료_5' successfully processed.\n"
     ]
    },
    {
     "name": "stderr",
     "output_type": "stream",
     "text": [
      "Processing pages:   5%|▍         | 968/20713 [14:50<5:06:56,  1.07it/s]"
     ]
    },
    {
     "name": "stdout",
     "output_type": "stream",
     "text": [
      "Images for product '브레이버리_강아지사료_개사료_단일단백질사료_이베리코돼지_2kg' successfully processed.\n",
      "Images for product '브레이버리_캣_사료_7kg_중성화_고양이_사료_연어' successfully processed.\n"
     ]
    },
    {
     "name": "stderr",
     "output_type": "stream",
     "text": [
      "Processing pages:   5%|▍         | 971/20713 [14:53<4:39:19,  1.18it/s]"
     ]
    },
    {
     "name": "stdout",
     "output_type": "stream",
     "text": [
      "Images for product '웰스비캣_올에이지_비프_1' successfully processed.\n"
     ]
    },
    {
     "name": "stderr",
     "output_type": "stream",
     "text": [
      "Processing pages:   5%|▍         | 976/20713 [14:57<4:14:48,  1.29it/s]"
     ]
    },
    {
     "name": "stdout",
     "output_type": "stream",
     "text": [
      "Images for product '30행사브릿_프리미엄_독_강아지_화식사료_칠면조_소세지_800g' successfully processed.\n"
     ]
    },
    {
     "name": "stderr",
     "output_type": "stream",
     "text": [
      "Processing pages:   5%|▍         | 977/20713 [14:57<4:12:46,  1.30it/s]"
     ]
    },
    {
     "name": "stdout",
     "output_type": "stream",
     "text": [
      "Images for product '프롬벳_피부에_좋은_사료_2' successfully processed.\n"
     ]
    },
    {
     "name": "stderr",
     "output_type": "stream",
     "text": [
      "Processing pages:   5%|▍         | 982/20713 [15:07<8:29:58,  1.55s/it] "
     ]
    },
    {
     "name": "stdout",
     "output_type": "stream",
     "text": [
      "Images for product '로얄캐닌_유리너리SO_스몰독_4kg_강아지_결석_방광염_처방사료' successfully processed.\n",
      "Images for product '대한사료_특수견에이스_15kg_대형견사료_진돗개사료_대용량' successfully processed.\n"
     ]
    },
    {
     "name": "stderr",
     "output_type": "stream",
     "text": [
      "Processing pages:   5%|▍         | 983/20713 [15:08<7:38:09,  1.39s/it]"
     ]
    },
    {
     "name": "stdout",
     "output_type": "stream",
     "text": [
      "Images for product '로얄캐닌_처방식_독_하이포알러제닉_스몰독_1kg_강아지' successfully processed.\n",
      "Images for product '내추럴발란스캣_고양이_사료_인도어_울트라_닭고기_연어_6' successfully processed.\n"
     ]
    },
    {
     "name": "stderr",
     "output_type": "stream",
     "text": [
      "Processing pages:   5%|▍         | 987/20713 [15:11<4:58:00,  1.10it/s]"
     ]
    },
    {
     "name": "stdout",
     "output_type": "stream",
     "text": [
      "Images for product '벨포아_사료_란트굿_하이포알러제닉_오리지널_미니_2' successfully processed.\n"
     ]
    },
    {
     "name": "stderr",
     "output_type": "stream",
     "text": [
      "Processing pages:   5%|▍         | 989/20713 [15:13<5:20:31,  1.03it/s]"
     ]
    },
    {
     "name": "stdout",
     "output_type": "stream",
     "text": [
      "Images for product '해피독_강아지_저지방_사료_미니_아일랜드_800g천연개껌_2p' successfully processed.\n",
      "Images for product '비뇨기에_좋은_처방식_오도독_사료_1kg_방광_요로_결석' successfully processed.\n"
     ]
    },
    {
     "name": "stderr",
     "output_type": "stream",
     "text": [
      "Processing pages:   5%|▍         | 991/20713 [15:15<4:55:56,  1.11it/s]"
     ]
    },
    {
     "name": "stdout",
     "output_type": "stream",
     "text": [
      "Images for product '밥이보약_독_강아지_튼튼한_관절_사료' successfully processed.\n",
      "Images for product '웰츠_캣_저지방_다이어트_6kg_고양이_사료' successfully processed.\n"
     ]
    },
    {
     "name": "stderr",
     "output_type": "stream",
     "text": [
      "Processing pages:   5%|▍         | 992/20713 [15:16<5:09:17,  1.06it/s]"
     ]
    },
    {
     "name": "stdout",
     "output_type": "stream",
     "text": [
      "Images for product '고양이방광염사료_세라피드_요로건강_2kg' successfully processed.\n"
     ]
    },
    {
     "name": "stderr",
     "output_type": "stream",
     "text": [
      "Processing pages:   5%|▍         | 1004/20713 [15:26<5:46:57,  1.06s/it]"
     ]
    },
    {
     "name": "stdout",
     "output_type": "stream",
     "text": [
      "Images for product '동원_뉴트리플랜_플러스_전연령_고양이사료_5kg' successfully processed.\n"
     ]
    },
    {
     "name": "stderr",
     "output_type": "stream",
     "text": [
      "Processing pages:   5%|▍         | 1005/20713 [15:27<5:29:37,  1.00s/it]"
     ]
    },
    {
     "name": "stdout",
     "output_type": "stream",
     "text": [
      "Images for product '로얄캐닌_캣_얼리_레날_400g' successfully processed.\n"
     ]
    },
    {
     "name": "stderr",
     "output_type": "stream",
     "text": [
      "Processing pages:   5%|▍         | 1006/20713 [15:28<5:19:19,  1.03it/s]"
     ]
    },
    {
     "name": "stdout",
     "output_type": "stream",
     "text": [
      "Images for product '택1_밥이보약_고양이_건강_고민_사료_빛나는_피모_3' successfully processed.\n",
      "Images for product '내추로_습식사료_팩타입_그레인프리_연어감자_400g' successfully processed.\n",
      "Images for product '하이독_케어브이_다베트_1kg_당뇨_저탄수_처방식_동물병원_강아지_혈당_조절_화식사료' successfully processed.\n"
     ]
    },
    {
     "name": "stderr",
     "output_type": "stream",
     "text": [
      "Processing pages:   5%|▍         | 1007/20713 [15:29<5:05:05,  1.08it/s]"
     ]
    },
    {
     "name": "stdout",
     "output_type": "stream",
     "text": [
      "Images for product '힐스_고양이사료_습식_키튼_스튜_79g_x_12개' successfully processed.\n",
      "Images for product '맘앤대디_코박사료_그레인프리_연어와_강황_1' successfully processed.\n",
      "Images for product '로얄캐닌_캣_다이아베틱_1' successfully processed.\n",
      "Images for product '고양이_생식_치킨포켓4박스80팩' successfully processed.\n"
     ]
    },
    {
     "name": "stderr",
     "output_type": "stream",
     "text": [
      "Processing pages:   5%|▍         | 1009/20713 [15:30<4:45:24,  1.15it/s]"
     ]
    },
    {
     "name": "stdout",
     "output_type": "stream",
     "text": [
      "Images for product '한끼뚝딱_소프트_황태와_소고기_강아지사료_3kg' successfully processed.\n"
     ]
    },
    {
     "name": "stderr",
     "output_type": "stream",
     "text": [
      "Processing pages:   5%|▍         | 1016/20713 [15:36<4:47:59,  1.14it/s]"
     ]
    },
    {
     "name": "stdout",
     "output_type": "stream",
     "text": [
      "Images for product '대한사료_액티브_15kg_대형견사료_대용량강아지사료' successfully processed.\n"
     ]
    },
    {
     "name": "stderr",
     "output_type": "stream",
     "text": [
      "Processing pages:   5%|▍         | 1017/20713 [15:37<4:35:43,  1.19it/s]"
     ]
    },
    {
     "name": "stdout",
     "output_type": "stream",
     "text": [
      "Images for product '캐츠랑_유통기한임박고양이사료_시리즈_5kg' successfully processed.\n",
      "Images for product '펫푸드궁_펫밀크_강아지_고양이_산양분유_200g' successfully processed.\n",
      "Images for product '오리젠_캣_NEW_캣앤키튼_오리지널_캣_5' successfully processed.\n"
     ]
    },
    {
     "name": "stderr",
     "output_type": "stream",
     "text": [
      "Processing pages:   5%|▍         | 1022/20713 [15:41<4:35:53,  1.19it/s]"
     ]
    },
    {
     "name": "stdout",
     "output_type": "stream",
     "text": [
      "Images for product '고_LID_연어_스몰브리드_레시피_강아지_사료_1' successfully processed.\n"
     ]
    },
    {
     "name": "stderr",
     "output_type": "stream",
     "text": [
      "Processing pages:   5%|▍         | 1023/20713 [15:42<4:27:36,  1.23it/s]"
     ]
    },
    {
     "name": "stdout",
     "output_type": "stream",
     "text": [
      "Images for product '프로네이처_독_홀리스틱_칠면조크랜베리__2' successfully processed.\n",
      "Images for product '유통기한_임박_트루라인_피쉬_애견사료12kg' successfully processed.\n",
      "Images for product '로얄캐닌_아기고양이사료_키튼_400g' successfully processed.\n"
     ]
    },
    {
     "name": "stderr",
     "output_type": "stream",
     "text": [
      "Processing pages:   5%|▍         | 1025/20713 [15:44<4:36:00,  1.19it/s]"
     ]
    },
    {
     "name": "stdout",
     "output_type": "stream",
     "text": [
      "Images for product '로얄코코_하이포알러지_코코넛_강아지사료_맛보기_샘플_오리_관절건강_30g' successfully processed.\n"
     ]
    },
    {
     "name": "stderr",
     "output_type": "stream",
     "text": [
      "Processing pages:   5%|▌         | 1041/20713 [15:57<4:46:37,  1.14it/s]"
     ]
    },
    {
     "name": "stdout",
     "output_type": "stream",
     "text": [
      "Images for product '뉴트리웰_진도퍼피_8kg_애견사료_최근제조_신선한사료' successfully processed.\n",
      "Images for product '힐스_독_강아지_처방사료_zd_zd_1' successfully processed.\n",
      "Images for product '강아지사료샘플_피니키_하이포알러지_밀웜_크릴_35g' successfully processed.\n",
      "Images for product '로얄캐닌_인도어_고양이_사료_1' successfully processed.\n",
      "Images for product '보나시보_어덜트_독_램__라이스_4kg_애견사료' successfully processed.\n"
     ]
    },
    {
     "name": "stderr",
     "output_type": "stream",
     "text": [
      "Processing pages:   5%|▌         | 1042/20713 [15:59<5:44:32,  1.05s/it]"
     ]
    },
    {
     "name": "stdout",
     "output_type": "stream",
     "text": [
      "Images for product '원스캣_고양이사료_샘플사료_100g' successfully processed.\n",
      "Images for product '건강백서_포메라니안사료_포메사료_6kg' successfully processed.\n",
      "Images for product '힐스_고양이사료_어덜트_7_인도어_1' successfully processed.\n"
     ]
    },
    {
     "name": "stderr",
     "output_type": "stream",
     "text": [
      "Processing pages:   5%|▌         | 1044/20713 [16:01<5:20:44,  1.02it/s]"
     ]
    },
    {
     "name": "stdout",
     "output_type": "stream",
     "text": [
      "Images for product 'ANF_6free_캣_웨이트케어_고양이사료' successfully processed.\n",
      "Images for product '로얄캐닌_캣_유리너리SO_1' successfully processed.\n"
     ]
    },
    {
     "name": "stderr",
     "output_type": "stream",
     "text": [
      "Processing pages:   5%|▌         | 1053/20713 [16:08<4:34:00,  1.20it/s]"
     ]
    },
    {
     "name": "stdout",
     "output_type": "stream",
     "text": [
      "Images for product '빌리앤마것_강아지_사료_비프슈퍼블랜드_1' successfully processed.\n"
     ]
    },
    {
     "name": "stderr",
     "output_type": "stream",
     "text": [
      "Processing pages:   5%|▌         | 1054/20713 [16:09<4:44:13,  1.15it/s]"
     ]
    },
    {
     "name": "stdout",
     "output_type": "stream",
     "text": [
      "Images for product '위시본_사료_연어_1' successfully processed.\n",
      "Images for product '아르테미스_HIT_포피쉬_작은입자_2' successfully processed.\n",
      "Images for product '로얄캐닌_헤어볼케어_4kg' successfully processed.\n"
     ]
    },
    {
     "name": "stderr",
     "output_type": "stream",
     "text": [
      "Processing pages:   5%|▌         | 1057/20713 [16:12<5:01:05,  1.09it/s]"
     ]
    },
    {
     "name": "stdout",
     "output_type": "stream",
     "text": [
      "Images for product '이즈칸_캣_퍼포먼스_어덜트_6' successfully processed.\n",
      "Images for product '오늘출발_로얄캐닌_독_레날_스몰독_1' successfully processed.\n",
      "Images for product '프롬벳_관절에_좋은_사료_2' successfully processed.\n"
     ]
    },
    {
     "name": "stderr",
     "output_type": "stream",
     "text": [
      "Processing pages:   5%|▌         | 1058/20713 [16:13<4:41:09,  1.17it/s]"
     ]
    },
    {
     "name": "stdout",
     "output_type": "stream",
     "text": [
      "Images for product '프로베스트_캣_밸런스_고양이_전연령_사료_7kg_헤어볼' successfully processed.\n"
     ]
    },
    {
     "name": "stderr",
     "output_type": "stream",
     "text": [
      "Processing pages:   5%|▌         | 1073/20713 [16:27<4:47:59,  1.14it/s]"
     ]
    },
    {
     "name": "stdout",
     "output_type": "stream",
     "text": [
      "Images for product '로얄캐닌_비숑프리제_어덜트_3kg' successfully processed.\n"
     ]
    },
    {
     "name": "stderr",
     "output_type": "stream",
     "text": [
      "Processing pages:   5%|▌         | 1075/20713 [16:28<4:40:14,  1.17it/s]"
     ]
    },
    {
     "name": "stdout",
     "output_type": "stream",
     "text": [
      "Images for product '동원_뉴트리플랜_플러스_고양이_사료_키튼_1' successfully processed.\n"
     ]
    },
    {
     "name": "stderr",
     "output_type": "stream",
     "text": [
      "Processing pages:   5%|▌         | 1077/20713 [16:31<5:35:48,  1.03s/it]"
     ]
    },
    {
     "name": "stdout",
     "output_type": "stream",
     "text": [
      "Images for product '강아지사료_브레이버리_독_치킨_2kg_24년_7월' successfully processed.\n",
      "Images for product '퓨어비타_캣_그레인프리_치킨_6' successfully processed.\n"
     ]
    },
    {
     "name": "stderr",
     "output_type": "stream",
     "text": [
      "Processing pages:   5%|▌         | 1078/20713 [16:32<5:25:40,  1.00it/s]"
     ]
    },
    {
     "name": "stdout",
     "output_type": "stream",
     "text": [
      "Images for product 'herz_허즈사료_알러지_눈물_사료_칠면조_908g__25g' successfully processed.\n"
     ]
    },
    {
     "name": "stderr",
     "output_type": "stream",
     "text": [
      "Processing pages:   5%|▌         | 1079/20713 [16:33<5:14:44,  1.04it/s]"
     ]
    },
    {
     "name": "stdout",
     "output_type": "stream",
     "text": [
      "Images for product '오리젠_스몰브리드_18kg__계량컵급여량_계산_l_반해' successfully processed.\n",
      "Images for product '스텔라앤츄이스_로우_코티드_키블__스몰브리드_케이지_프리_치킨_1' successfully processed.\n"
     ]
    },
    {
     "name": "stderr",
     "output_type": "stream",
     "text": [
      "Processing pages:   5%|▌         | 1080/20713 [16:34<5:38:34,  1.03s/it]"
     ]
    },
    {
     "name": "stdout",
     "output_type": "stream",
     "text": [
      "Images for product '어스본_홀리스틱_와일드_씨캐치_6kg_그레인프리_고양이사료' successfully processed.\n",
      "Images for product '펫컴_강아지사료_기호성좋은_전연령_대용량_사료_펫발란스_치킨과쌀10kg' successfully processed.\n",
      "Images for product '동원_뉴트리플랜_하루영양_주식_샘플_맛보기_85g85g_고양이_습식캔_습식사료_키튼' successfully processed.\n"
     ]
    },
    {
     "name": "stderr",
     "output_type": "stream",
     "text": [
      "Processing pages:   5%|▌         | 1089/20713 [16:41<4:30:55,  1.21it/s]"
     ]
    },
    {
     "name": "stdout",
     "output_type": "stream",
     "text": [
      "Images for product '원더독스_진도_10kg_중형견_대형견_사료' successfully processed.\n"
     ]
    },
    {
     "name": "stderr",
     "output_type": "stream",
     "text": [
      "Processing pages:   5%|▌         | 1091/20713 [16:43<4:58:42,  1.09it/s]"
     ]
    },
    {
     "name": "stdout",
     "output_type": "stream",
     "text": [
      "Images for product '지위픽_사료_독식품_소고기_454g___우라노엑스마일먹는치약덴탈껌_S_1p' successfully processed.\n",
      "Images for product '엔젤스독_고메__전연령_강아지사료_5kg한입에쿵20gx2개' successfully processed.\n"
     ]
    },
    {
     "name": "stderr",
     "output_type": "stream",
     "text": [
      "Processing pages:   5%|▌         | 1092/20713 [16:44<4:41:12,  1.16it/s]"
     ]
    },
    {
     "name": "stdout",
     "output_type": "stream",
     "text": [
      "Images for product '택1_밥이보약_고양이_건강_고민_사료_빛나는_피모_3' successfully processed.\n"
     ]
    },
    {
     "name": "stderr",
     "output_type": "stream",
     "text": [
      "Processing pages:   5%|▌         | 1093/20713 [16:45<4:49:08,  1.13it/s]"
     ]
    },
    {
     "name": "stdout",
     "output_type": "stream",
     "text": [
      "Images for product '시저_캔_불고기_100g_강아지_주식캔_습식사료' successfully processed.\n"
     ]
    },
    {
     "name": "stderr",
     "output_type": "stream",
     "text": [
      "Processing pages:   5%|▌         | 1094/20713 [16:46<4:42:15,  1.16it/s]"
     ]
    },
    {
     "name": "stdout",
     "output_type": "stream",
     "text": [
      "Images for product '로얄캐닌_파우치_고양이_습식사료_키튼' successfully processed.\n"
     ]
    },
    {
     "name": "stderr",
     "output_type": "stream",
     "text": [
      "Processing pages:   5%|▌         | 1096/20713 [16:47<4:21:14,  1.25it/s]"
     ]
    },
    {
     "name": "stdout",
     "output_type": "stream",
     "text": [
      "Images for product '로얄캐닌_엑스스몰_퍼피_500g_강아지사료' successfully processed.\n"
     ]
    },
    {
     "name": "stderr",
     "output_type": "stream",
     "text": [
      "Processing pages:   5%|▌         | 1097/20713 [16:48<4:17:30,  1.27it/s]"
     ]
    },
    {
     "name": "stdout",
     "output_type": "stream",
     "text": [
      "Images for product '프로베스트_캣_면역플러스_10kg' successfully processed.\n"
     ]
    },
    {
     "name": "stderr",
     "output_type": "stream",
     "text": [
      "Processing pages:   5%|▌         | 1104/20713 [17:00<5:51:02,  1.07s/it] "
     ]
    },
    {
     "name": "stdout",
     "output_type": "stream",
     "text": [
      "Images for product '레오나르도_캣_어덜트_순수생육_오리_고양이사료_4kg' successfully processed.\n"
     ]
    },
    {
     "name": "stderr",
     "output_type": "stream",
     "text": [
      "Processing pages:   5%|▌         | 1106/20713 [17:02<5:13:22,  1.04it/s]"
     ]
    },
    {
     "name": "stdout",
     "output_type": "stream",
     "text": [
      "Images for product '닥터독_관절_사료_2kg' successfully processed.\n",
      "Images for product '로얄캐닌_강아지사료_파우치_미니_에이징12_85g낱개' successfully processed.\n"
     ]
    },
    {
     "name": "stderr",
     "output_type": "stream",
     "text": [
      "Processing pages:   5%|▌         | 1109/20713 [17:04<4:46:09,  1.14it/s]"
     ]
    },
    {
     "name": "stdout",
     "output_type": "stream",
     "text": [
      "Images for product '인스팅트_LID_토끼고기_캣_40g_샘플사료' successfully processed.\n"
     ]
    },
    {
     "name": "stderr",
     "output_type": "stream",
     "text": [
      "Processing pages:   5%|▌         | 1110/20713 [17:05<4:39:05,  1.17it/s]"
     ]
    },
    {
     "name": "stdout",
     "output_type": "stream",
     "text": [
      "Images for product '커클랜드_개사료_프리미엄_애견사료_15' successfully processed.\n"
     ]
    },
    {
     "name": "stderr",
     "output_type": "stream",
     "text": [
      "Processing pages:   5%|▌         | 1111/20713 [17:06<4:33:58,  1.19it/s]"
     ]
    },
    {
     "name": "stdout",
     "output_type": "stream",
     "text": [
      "Images for product '뉴트리나_강아지사료_20kg_프라임_대형견사료_특수견_애견_진도_개사료_블랙에디션25' successfully processed.\n",
      "Images for product '힐스_독_처방식_스튜_id_id_로우펫_캔_354g_낱개_강아지_소화기_관리' successfully processed.\n"
     ]
    },
    {
     "name": "stderr",
     "output_type": "stream",
     "text": [
      "Processing pages:   5%|▌         | 1112/20713 [17:07<4:32:33,  1.20it/s]"
     ]
    },
    {
     "name": "stdout",
     "output_type": "stream",
     "text": [
      "Images for product '로얄캐닌_인도어_고양이_캣_사료_4kg' successfully processed.\n"
     ]
    },
    {
     "name": "stderr",
     "output_type": "stream",
     "text": [
      "Processing pages:   5%|▌         | 1129/20713 [17:22<5:47:34,  1.06s/it]"
     ]
    },
    {
     "name": "stdout",
     "output_type": "stream",
     "text": [
      "Images for product '에코9b_시니어_살몬_6kg_노령견_노견_연어_사료' successfully processed.\n"
     ]
    },
    {
     "name": "stderr",
     "output_type": "stream",
     "text": [
      "Processing pages:   6%|▌         | 1144/20713 [17:37<4:49:10,  1.13it/s]"
     ]
    },
    {
     "name": "stdout",
     "output_type": "stream",
     "text": [
      "Images for product '명품명가_플러스_연와와_감자_5kg_강아지사료' successfully processed.\n",
      "Images for product '어드밴스_처방식_독_사료_샘플' successfully processed.\n",
      "Images for product '유통기한_240401_내추럴발란스_LI_닭고기_고구마_2' successfully processed.\n",
      "Images for product '아카나_패시피카독_2kg_강아지사료' successfully processed.\n"
     ]
    },
    {
     "name": "stderr",
     "output_type": "stream",
     "text": [
      "Processing pages:   6%|▌         | 1145/20713 [17:39<6:49:26,  1.26s/it]"
     ]
    },
    {
     "name": "stdout",
     "output_type": "stream",
     "text": [
      "Images for product '프로네이처_캣_홀리스틱_그레인프리_노르디코_6kg_고양이사료' successfully processed.\n",
      "Images for product '샘플_1kg_증정_맘블레스_소프트_사료_오리_5kg1kg' successfully processed.\n",
      "Images for product '소형견_강아지_다이어트_사료_웰니스_코어_헬시웨이트_5' successfully processed.\n"
     ]
    },
    {
     "name": "stderr",
     "output_type": "stream",
     "text": [
      "Processing pages:   6%|▌         | 1146/20713 [17:40<6:20:19,  1.17s/it]"
     ]
    },
    {
     "name": "stdout",
     "output_type": "stream",
     "text": [
      "Images for product '로얄캐닌_세타이어티_스몰독_1' successfully processed.\n",
      "Images for product '인섹트도그_하이포알러지_빅_강아지곤충사료_10kg저알러지_비건간식사료집게스푼' successfully processed.\n"
     ]
    },
    {
     "name": "stderr",
     "output_type": "stream",
     "text": [
      "Processing pages:   6%|▌         | 1148/20713 [17:42<5:36:40,  1.03s/it]"
     ]
    },
    {
     "name": "stdout",
     "output_type": "stream",
     "text": [
      "Images for product '몬지_상점_고양이_습식' successfully processed.\n"
     ]
    },
    {
     "name": "stderr",
     "output_type": "stream",
     "text": [
      "Processing pages:   6%|▌         | 1149/20713 [17:42<5:07:41,  1.06it/s]"
     ]
    },
    {
     "name": "stdout",
     "output_type": "stream",
     "text": [
      "Images for product '고양이_사료_샘플_웰나인캣_웰나인' successfully processed.\n"
     ]
    },
    {
     "name": "stderr",
     "output_type": "stream",
     "text": [
      "Processing pages:   6%|▌         | 1151/20713 [17:44<4:44:49,  1.14it/s]"
     ]
    },
    {
     "name": "stdout",
     "output_type": "stream",
     "text": [
      "Images for product '로얄캐닌_독_세타이어티_웨이트_매니지먼트_1' successfully processed.\n",
      "Images for product '도비_진_애견사료_5kg_x_2팩' successfully processed.\n",
      "Images for product '고양이_로우앤핏_오션피쉬레시피_동결건조_생식_사료__주식_수제_건강식_밥' successfully processed.\n"
     ]
    },
    {
     "name": "stderr",
     "output_type": "stream",
     "text": [
      "Processing pages:   6%|▌         | 1162/20713 [17:53<4:25:33,  1.23it/s]"
     ]
    },
    {
     "name": "stdout",
     "output_type": "stream",
     "text": [
      "Images for product '1' successfully processed.\n"
     ]
    },
    {
     "name": "stderr",
     "output_type": "stream",
     "text": [
      "Processing pages:   6%|▌         | 1164/20713 [17:56<5:26:05,  1.00s/it]"
     ]
    },
    {
     "name": "stdout",
     "output_type": "stream",
     "text": [
      "Images for product '캐츠랑_키튼_고양이_사료_16kg_8kg_2개_대용량_캣츠랑_코스트코' successfully processed.\n"
     ]
    },
    {
     "name": "stderr",
     "output_type": "stream",
     "text": [
      "Processing pages:   6%|▌         | 1165/20713 [17:56<5:08:08,  1.06it/s]"
     ]
    },
    {
     "name": "stdout",
     "output_type": "stream",
     "text": [
      "Images for product '트라이벌_사료_프레쉬_프레스드_칠면조_2' successfully processed.\n"
     ]
    },
    {
     "name": "stderr",
     "output_type": "stream",
     "text": [
      "Processing pages:   6%|▌         | 1168/20713 [18:00<5:28:04,  1.01s/it]"
     ]
    },
    {
     "name": "stdout",
     "output_type": "stream",
     "text": [
      "Images for product '나우_캣_고양이_사료_어덜트_1' successfully processed.\n",
      "Images for product '디바크센스_홀리스틱_그레인프리_라이트시니어_덕터키2kg_저칼로리_강아지사료' successfully processed.\n"
     ]
    },
    {
     "name": "stderr",
     "output_type": "stream",
     "text": [
      "Processing pages:   6%|▌         | 1169/20713 [18:00<5:02:59,  1.08it/s]"
     ]
    },
    {
     "name": "stdout",
     "output_type": "stream",
     "text": [
      "Images for product '캐츠랑_전연령_2kg_고양이사료' successfully processed.\n"
     ]
    },
    {
     "name": "stderr",
     "output_type": "stream",
     "text": [
      "Processing pages:   6%|▌         | 1174/20713 [18:06<6:03:37,  1.12s/it]"
     ]
    },
    {
     "name": "stdout",
     "output_type": "stream",
     "text": [
      "Images for product 'ANF_6프리_골드_오리와연어_애견_강아지사료_5' successfully processed.\n",
      "Images for product '오리젠_피트앤트림_독_2kg__강아지사료' successfully processed.\n"
     ]
    },
    {
     "name": "stderr",
     "output_type": "stream",
     "text": [
      "Processing pages:   6%|▌         | 1175/20713 [18:07<5:45:43,  1.06s/it]"
     ]
    },
    {
     "name": "stdout",
     "output_type": "stream",
     "text": [
      "Images for product '로얄캐닌_강아지사료_미니_인도어_퍼피_8' successfully processed.\n",
      "Images for product '도그퓨어_피부모질__애견_눈물사료_3kg' successfully processed.\n"
     ]
    },
    {
     "name": "stderr",
     "output_type": "stream",
     "text": [
      "Processing pages:   6%|▌         | 1180/20713 [18:11<4:37:06,  1.17it/s]"
     ]
    },
    {
     "name": "stdout",
     "output_type": "stream",
     "text": [
      "Images for product '도그랑_대포사료_강아지_사료_파워매직_스몰바이트_20kg' successfully processed.\n",
      "Images for product '힐스_캣_고양이_처방사료_cd_cd_유리너리_1' successfully processed.\n"
     ]
    },
    {
     "name": "stderr",
     "output_type": "stream",
     "text": [
      "Processing pages:   6%|▌         | 1181/20713 [18:12<4:38:35,  1.17it/s]"
     ]
    },
    {
     "name": "stdout",
     "output_type": "stream",
     "text": [
      "Images for product '로얄캐닌_강아지_대용량_사료_미니_인도어_어덜트_7' successfully processed.\n"
     ]
    },
    {
     "name": "stderr",
     "output_type": "stream",
     "text": [
      "Processing pages:   6%|▌         | 1182/20713 [18:13<4:50:30,  1.12it/s]"
     ]
    },
    {
     "name": "stdout",
     "output_type": "stream",
     "text": [
      "Images for product '고사료_솔루션_LID_연어_2' successfully processed.\n",
      "Images for product '닥터독_다이어트_사료_4kg' successfully processed.\n"
     ]
    },
    {
     "name": "stderr",
     "output_type": "stream",
     "text": [
      "Processing pages:   6%|▌         | 1183/20713 [18:13<4:40:49,  1.16it/s]"
     ]
    },
    {
     "name": "stdout",
     "output_type": "stream",
     "text": [
      "Images for product '고양이_생식_6종_샘플세트_820g_총_12팩' successfully processed.\n"
     ]
    },
    {
     "name": "stderr",
     "output_type": "stream",
     "text": [
      "Processing pages:   6%|▌         | 1187/20713 [18:17<4:30:24,  1.20it/s]"
     ]
    },
    {
     "name": "stdout",
     "output_type": "stream",
     "text": [
      "Images for product '지그니쳐_칠면조_저알러지_눈물_피부_강아지사료_1kg_라지바이트' successfully processed.\n"
     ]
    },
    {
     "name": "stderr",
     "output_type": "stream",
     "text": [
      "Processing pages:   6%|▌         | 1204/20713 [18:31<4:39:49,  1.16it/s]"
     ]
    },
    {
     "name": "stdout",
     "output_type": "stream",
     "text": [
      "Images for product '대용량_개사료10kg증정품_대형견_강아지_특수견_진돗개_진도_애견사료_필드스타진도' successfully processed.\n"
     ]
    },
    {
     "name": "stderr",
     "output_type": "stream",
     "text": [
      "Processing pages:   6%|▌         | 1210/20713 [18:36<4:27:29,  1.22it/s]"
     ]
    },
    {
     "name": "stdout",
     "output_type": "stream",
     "text": [
      "Images for product '로얄캐닌_캣_고양이_가스트로_인테스티널_2kg_소화불량_위염_설사_반려묘_처방_사료' successfully processed.\n"
     ]
    },
    {
     "name": "stderr",
     "output_type": "stream",
     "text": [
      "Processing pages:   6%|▌         | 1213/20713 [18:39<5:14:59,  1.03it/s]"
     ]
    },
    {
     "name": "stdout",
     "output_type": "stream",
     "text": [
      "Images for product '길고양이사료_길냥이사료_고양이밥_캐츠랑_전연령5kg_캣츠랑' successfully processed.\n",
      "Images for product '로얄캐닌_고양이_레날_스페셜_2kg_신장_사료_신부전_처방사료' successfully processed.\n",
      "Images for product '로얄캐닌_처방식_독_세타이어티_스몰독Satiety_Small_Dog_1' successfully processed.\n"
     ]
    },
    {
     "name": "stderr",
     "output_type": "stream",
     "text": [
      "Processing pages:   6%|▌         | 1214/20713 [18:40<5:04:04,  1.07it/s]"
     ]
    },
    {
     "name": "stdout",
     "output_type": "stream",
     "text": [
      "Images for product '간에_좋은_처방식_오도독_사료_1kg' successfully processed.\n",
      "Images for product '오리젠_오리지날_독_강아지사료_11' successfully processed.\n"
     ]
    },
    {
     "name": "stderr",
     "output_type": "stream",
     "text": [
      "Processing pages:   6%|▌         | 1215/20713 [18:41<5:06:36,  1.06it/s]"
     ]
    },
    {
     "name": "stdout",
     "output_type": "stream",
     "text": [
      "Images for product 'ANF_6프리_식스프리_1' successfully processed.\n",
      "Images for product '아보덤_조인트헬스_10' successfully processed.\n",
      "Images for product 'ANF_식스프리_6freeplus_강아지_사료_5' successfully processed.\n",
      "Images for product '로얄캐닌_스테럴라이즈드_2kg_고양이_사료' successfully processed.\n"
     ]
    },
    {
     "name": "stderr",
     "output_type": "stream",
     "text": [
      "Processing pages:   6%|▌         | 1216/20713 [18:42<5:14:24,  1.03it/s]"
     ]
    },
    {
     "name": "stdout",
     "output_type": "stream",
     "text": [
      "Images for product '궁극사료_800g400g추가_더_반건조_반습식_피부_사료_소프트_사료' successfully processed.\n",
      "Images for product '노령견_습식사료_강아지_슈퍼벳_리퀴드잇' successfully processed.\n"
     ]
    },
    {
     "name": "stderr",
     "output_type": "stream",
     "text": [
      "Processing pages:   6%|▌         | 1217/20713 [18:43<4:59:29,  1.08it/s]"
     ]
    },
    {
     "name": "stdout",
     "output_type": "stream",
     "text": [
      "Images for product '기호성_테스트_강아지_사료_샘플_그레인프리_나우_퍼피_작은알_스몰' successfully processed.\n",
      "Images for product '농협_목우촌_펫9단_말티즈_강아지사료_1' successfully processed.\n",
      "Images for product '아벡시앙_강아지_말티즈_비숑_푸들_포메라이언_소고기_황태_사료_관절_피부_눈물_알러지_기호성_그레인프리_황급변_반습식_미네랄워터_수분_소화잘되는_체험분_샘플팩_무료샘플' successfully processed.\n"
     ]
    },
    {
     "name": "stderr",
     "output_type": "stream",
     "text": [
      "Processing pages:   6%|▌         | 1222/20713 [18:47<4:39:06,  1.16it/s]"
     ]
    },
    {
     "name": "stdout",
     "output_type": "stream",
     "text": [
      "Images for product 'ANF_캣_식스프리_플러스_키튼_아기_고양이사료_5' successfully processed.\n"
     ]
    },
    {
     "name": "stderr",
     "output_type": "stream",
     "text": [
      "Processing pages:   6%|▌         | 1225/20713 [18:50<4:49:33,  1.12it/s]"
     ]
    },
    {
     "name": "stdout",
     "output_type": "stream",
     "text": [
      "Images for product '맘앤대디_코박사료_그레인프리_동충하초와_해죽순_1' successfully processed.\n",
      "Images for product '로얄캐닌_미니_인도어_어덜트_500g_강아지_사료' successfully processed.\n"
     ]
    },
    {
     "name": "stderr",
     "output_type": "stream",
     "text": [
      "Processing pages:   6%|▌         | 1226/20713 [18:51<4:34:39,  1.18it/s]"
     ]
    },
    {
     "name": "stdout",
     "output_type": "stream",
     "text": [
      "Images for product '오리젠_New_캣앤키튼_오리지널_캣_5' successfully processed.\n"
     ]
    },
    {
     "name": "stderr",
     "output_type": "stream",
     "text": [
      "Processing pages:   6%|▌         | 1230/20713 [18:54<4:31:20,  1.20it/s]"
     ]
    },
    {
     "name": "stdout",
     "output_type": "stream",
     "text": [
      "Images for product '하이독_야채_퓨레_50g_x_5팩_강아지화식_비건_사료' successfully processed.\n"
     ]
    },
    {
     "name": "stderr",
     "output_type": "stream",
     "text": [
      "Processing pages:   6%|▌         | 1233/20713 [18:57<5:00:48,  1.08it/s]"
     ]
    },
    {
     "name": "stdout",
     "output_type": "stream",
     "text": [
      "Images for product '더마독_관절_강아지_건강사료_슬개골_1kg' successfully processed.\n"
     ]
    },
    {
     "name": "stderr",
     "output_type": "stream",
     "text": [
      "Processing pages:   6%|▌         | 1247/20713 [19:15<8:37:46,  1.60s/it] "
     ]
    },
    {
     "name": "stdout",
     "output_type": "stream",
     "text": [
      "Images for product '로얄캐닌_캣_고양이_아날러제닉_2kg_반려묘_알러지_처방_사료' successfully processed.\n",
      "Images for product '나우_피쉬_올브리드_어덜트_9' successfully processed.\n"
     ]
    },
    {
     "name": "stderr",
     "output_type": "stream",
     "text": [
      "Processing pages:   6%|▌         | 1248/20713 [19:16<7:35:08,  1.40s/it]"
     ]
    },
    {
     "name": "stdout",
     "output_type": "stream",
     "text": [
      "Images for product '로우즈사료_LID연어1' successfully processed.\n",
      "Images for product '브프캣_20kg_5kgx4개' successfully processed.\n",
      "Images for product '퓨리나_어린_고양이_사료_키튼_1' successfully processed.\n",
      "Images for product '퓨어네이쳐_캣_가수분해_고양이사료_5kg_치킨' successfully processed.\n",
      "Images for product '원캣_퓨리나_고양이_면역력_순살_어덜트_사료_1' successfully processed.\n"
     ]
    },
    {
     "name": "stderr",
     "output_type": "stream",
     "text": [
      "Processing pages:   6%|▌         | 1249/20713 [19:17<6:54:06,  1.28s/it]"
     ]
    },
    {
     "name": "stdout",
     "output_type": "stream",
     "text": [
      "Images for product '오리젠_캣_오리지널_캣앤키튼_5' successfully processed.\n",
      "Images for product '노령견_맞춤_밥이보약_DOG_강아지_사료_4kg_활기찬_노후튼튼한_관절' successfully processed.\n",
      "Images for product '피쉬포독_화이트피쉬_어덜트_1kg_강아지_눈물_알러지_사료' successfully processed.\n",
      "Images for product '윌로펫_강아지_사료_뉴트리탑_면역전연령_기호성_좋은_말랑육즙_소프트사료_3kg' successfully processed.\n"
     ]
    },
    {
     "name": "stderr",
     "output_type": "stream",
     "text": [
      "Processing pages:   6%|▌         | 1250/20713 [19:18<6:39:37,  1.23s/it]"
     ]
    },
    {
     "name": "stdout",
     "output_type": "stream",
     "text": [
      "Images for product 'ANF_식스프리_플러스_5' successfully processed.\n",
      "Images for product '슈퍼포우_동결건조_사료간식_180g_x_3세트' successfully processed.\n"
     ]
    },
    {
     "name": "stderr",
     "output_type": "stream",
     "text": [
      "Processing pages:   6%|▌         | 1257/20713 [19:24<4:35:14,  1.18it/s]"
     ]
    },
    {
     "name": "stdout",
     "output_type": "stream",
     "text": [
      "Images for product '도그랑_대포사료_강아지_사료_마이프렌드_15kg' successfully processed.\n",
      "Images for product '트러스티푸드_강아지_동결건조사료_돼지고기_포크패티_LID_150g' successfully processed.\n"
     ]
    },
    {
     "name": "stderr",
     "output_type": "stream",
     "text": [
      "Processing pages:   6%|▌         | 1261/20713 [19:28<5:11:19,  1.04it/s]"
     ]
    },
    {
     "name": "stdout",
     "output_type": "stream",
     "text": [
      "Images for product '오픈팜_스튜_강아지_습식_사료_닭고기_354g' successfully processed.\n"
     ]
    },
    {
     "name": "stderr",
     "output_type": "stream",
     "text": [
      "Processing pages:   6%|▌         | 1262/20713 [19:29<4:49:56,  1.12it/s]"
     ]
    },
    {
     "name": "stdout",
     "output_type": "stream",
     "text": [
      "Images for product '프로바이오밀_양_1kg_유산균_소프트사료' successfully processed.\n",
      "Images for product '로얄캐닌_키튼_2kg_고양이사료' successfully processed.\n"
     ]
    },
    {
     "name": "stderr",
     "output_type": "stream",
     "text": [
      "Processing pages:   6%|▌         | 1263/20713 [19:30<4:43:48,  1.14it/s]"
     ]
    },
    {
     "name": "stdout",
     "output_type": "stream",
     "text": [
      "Images for product '퓨리나_팬시피스트_화이트라벨_고양이_주식캔_파테_흰살생선참치_85g' successfully processed.\n"
     ]
    },
    {
     "name": "stderr",
     "output_type": "stream",
     "text": [
      "Processing pages:   6%|▌         | 1273/20713 [19:38<4:17:42,  1.26it/s]"
     ]
    },
    {
     "name": "stdout",
     "output_type": "stream",
     "text": [
      "Images for product '로얄캐닌_가스트로_인테스티널_로우팻_췌장염_사료_1' successfully processed.\n"
     ]
    },
    {
     "name": "stderr",
     "output_type": "stream",
     "text": [
      "Processing pages:   6%|▌         | 1274/20713 [19:39<4:41:39,  1.15it/s]"
     ]
    },
    {
     "name": "stdout",
     "output_type": "stream",
     "text": [
      "Images for product '로우즈_밀프리_LID_연어_1' successfully processed.\n",
      "Images for product '어딕션_강아지_사료_양고기_9kg' successfully processed.\n",
      "Images for product '캐츠랑_전연령_3kg_3개_캣_고양이_사료' successfully processed.\n",
      "Images for product '펫클럽__데이스포_테라픽_코엔자임_눈물_피부_모질_관절_연어_그레인프리_강아지사료_알러지케어_1kg_11개' successfully processed.\n"
     ]
    },
    {
     "name": "stderr",
     "output_type": "stream",
     "text": [
      "Processing pages:   6%|▌         | 1277/20713 [19:41<4:15:35,  1.27it/s]"
     ]
    },
    {
     "name": "stdout",
     "output_type": "stream",
     "text": [
      "Images for product '팜스코_프라이드_진도견_15kg_대용량_진돗개_개사료' successfully processed.\n"
     ]
    },
    {
     "name": "stderr",
     "output_type": "stream",
     "text": [
      "Processing pages:   6%|▋         | 1295/20713 [19:57<4:47:37,  1.13it/s]"
     ]
    },
    {
     "name": "stdout",
     "output_type": "stream",
     "text": [
      "Images for product '로얄캐닌_독_유리너리_SO_스몰독_4KG_강아지_결석사료' successfully processed.\n"
     ]
    },
    {
     "name": "stderr",
     "output_type": "stream",
     "text": [
      "Processing pages:   6%|▋         | 1298/20713 [20:01<6:40:38,  1.24s/it]"
     ]
    },
    {
     "name": "stdout",
     "output_type": "stream",
     "text": [
      "Images for product '대한사료_홈앤독_5kg_올라이프' successfully processed.\n",
      "Images for product '오리젠_오리지날_캣_5' successfully processed.\n",
      "Images for product '오리젠_독_오리지널_6kg_강아지사료' successfully processed.\n"
     ]
    },
    {
     "name": "stderr",
     "output_type": "stream",
     "text": [
      "Processing pages:   6%|▋         | 1299/20713 [20:02<6:07:08,  1.13s/it]"
     ]
    },
    {
     "name": "stdout",
     "output_type": "stream",
     "text": [
      "Images for product '로얄캐닌_유리너리_SO_스몰독_1' successfully processed.\n",
      "Images for product '로얄캐닌_고양이사료_인도어_1' successfully processed.\n",
      "Images for product '아보덤_조인트헬스_그레인프리_1kg_강아지_관절사료' successfully processed.\n",
      "Images for product '빅스비_러블_강아지_건식키블사료_치킨_10' successfully processed.\n",
      "Images for product '리얼네이처_대용량_가수분해_홀리스틱_숲속의_닭고기_캣_고양이사료_4kg' successfully processed.\n",
      "Images for product '펫발란스_강아지_애견_개_다이어트사료_기호성좋은_대용량_사료_10kg' successfully processed.\n"
     ]
    },
    {
     "name": "stderr",
     "output_type": "stream",
     "text": [
      "Processing pages:   6%|▋         | 1300/20713 [20:03<5:29:00,  1.02s/it]"
     ]
    },
    {
     "name": "stdout",
     "output_type": "stream",
     "text": [
      "Images for product '본아페티_고양이_관절_다이어트_건식_사료_반려묘_체중조절_참치_오리고기_1KG' successfully processed.\n",
      "Images for product '로얄캐닌_캣_유리너리_케어_고양이_사료_4kg' successfully processed.\n"
     ]
    },
    {
     "name": "stderr",
     "output_type": "stream",
     "text": [
      "Processing pages:   6%|▋         | 1301/20713 [20:03<5:08:01,  1.05it/s]"
     ]
    },
    {
     "name": "stdout",
     "output_type": "stream",
     "text": [
      "Images for product '로얄캐닌_고양이_사료_인도어_4kg' successfully processed.\n"
     ]
    },
    {
     "name": "stderr",
     "output_type": "stream",
     "text": [
      "Processing pages:   6%|▋         | 1306/20713 [20:08<4:44:09,  1.14it/s]"
     ]
    },
    {
     "name": "stdout",
     "output_type": "stream",
     "text": [
      "Images for product '퓨어비타_캣_그레인프리_치킨_1kg' successfully processed.\n"
     ]
    },
    {
     "name": "stderr",
     "output_type": "stream",
     "text": [
      "Processing pages:   6%|▋         | 1307/20713 [20:09<4:45:43,  1.13it/s]"
     ]
    },
    {
     "name": "stdout",
     "output_type": "stream",
     "text": [
      "Images for product '로얄캐닌_키튼_10kg_아기_고양이_대용량_사료' successfully processed.\n"
     ]
    },
    {
     "name": "stderr",
     "output_type": "stream",
     "text": [
      "Processing pages:   6%|▋         | 1308/20713 [20:10<4:45:09,  1.13it/s]"
     ]
    },
    {
     "name": "stdout",
     "output_type": "stream",
     "text": [
      "Images for product '로얄캐닌_피트_10kg_고양이사료' successfully processed.\n"
     ]
    },
    {
     "name": "stderr",
     "output_type": "stream",
     "text": [
      "Processing pages:   6%|▋         | 1310/20713 [20:11<4:43:49,  1.14it/s]"
     ]
    },
    {
     "name": "stdout",
     "output_type": "stream",
     "text": [
      "Images for product '프라이멀_동결건조_토끼사료_397g_케나인_래빗_포뮬라' successfully processed.\n"
     ]
    },
    {
     "name": "stderr",
     "output_type": "stream",
     "text": [
      "Processing pages:   6%|▋         | 1316/20713 [20:16<4:39:08,  1.16it/s]"
     ]
    },
    {
     "name": "stdout",
     "output_type": "stream",
     "text": [
      "Images for product '동원_뉴트리플랜_플러스_고양이_사료_전연령_5kg' successfully processed.\n"
     ]
    },
    {
     "name": "stderr",
     "output_type": "stream",
     "text": [
      "Processing pages:   6%|▋         | 1334/20713 [20:31<4:31:26,  1.19it/s]"
     ]
    },
    {
     "name": "stdout",
     "output_type": "stream",
     "text": [
      "Images for product '나우사료_그레인프리_스몰브리드_피쉬_9' successfully processed.\n",
      "Images for product '로얄캐닌_독_카디악_심질환_심장병_강아지_처방_사료_2kg' successfully processed.\n",
      "Images for product '로얄캐닌_캣_가스트로_인테스티널_모더레이트_칼로리_2kg_고양이_소화불량_위염_설사_반려묘_처방_사료' successfully processed.\n"
     ]
    },
    {
     "name": "stderr",
     "output_type": "stream",
     "text": [
      "Processing pages:   6%|▋         | 1335/20713 [20:32<4:42:57,  1.14it/s]"
     ]
    },
    {
     "name": "stdout",
     "output_type": "stream",
     "text": [
      "Images for product '로얄캐닌_고양이_일반식_캣_센서블_2kg_고양이사료_건식사료' successfully processed.\n",
      "Images for product '이즈칸_독_퍼포먼스_어덜트_15kg_강아지_사료' successfully processed.\n",
      "Images for product '버틀러_더텐소프트_3kg400g_반건조_4종_에어드라이_사료_인섹트' successfully processed.\n"
     ]
    },
    {
     "name": "stderr",
     "output_type": "stream",
     "text": [
      "Processing pages:   6%|▋         | 1336/20713 [20:33<4:49:15,  1.12it/s]"
     ]
    },
    {
     "name": "stdout",
     "output_type": "stream",
     "text": [
      "Images for product '뉴트리나_프라임캣_에코_10kg_길냥이_길고양이_고양이사료' successfully processed.\n"
     ]
    },
    {
     "name": "stderr",
     "output_type": "stream",
     "text": [
      "Processing pages:   6%|▋         | 1337/20713 [20:34<4:37:07,  1.17it/s]"
     ]
    },
    {
     "name": "stdout",
     "output_type": "stream",
     "text": [
      "Images for product '네츄럴랩_케어1_고양이_가수분해_사료_유기농_70_장면역_2kg_그레인프리' successfully processed.\n"
     ]
    },
    {
     "name": "stderr",
     "output_type": "stream",
     "text": [
      "Processing pages:   6%|▋         | 1339/20713 [20:36<4:29:27,  1.20it/s]"
     ]
    },
    {
     "name": "stdout",
     "output_type": "stream",
     "text": [
      "Images for product '그래잇빌리_스몰밀_비건사료_식물성_단백질_강아지_다이어트_고급_사료_90g_x_3포' successfully processed.\n"
     ]
    },
    {
     "name": "stderr",
     "output_type": "stream",
     "text": [
      "Processing pages:   6%|▋         | 1340/20713 [20:36<4:17:27,  1.25it/s]"
     ]
    },
    {
     "name": "stdout",
     "output_type": "stream",
     "text": [
      "Images for product '강아지_로우펫_저지방사료_닭고기_감자_2kg_그레인프리_췌장염_다이어트_위장_노견_노령견' successfully processed.\n",
      "Images for product '강아지_생식_포옹_생식선생_닭_1kg_강아지_자연식_수제사료100gX10개입' successfully processed.\n"
     ]
    },
    {
     "name": "stderr",
     "output_type": "stream",
     "text": [
      "Processing pages:   7%|▋         | 1357/20713 [20:50<4:32:02,  1.19it/s]"
     ]
    },
    {
     "name": "stdout",
     "output_type": "stream",
     "text": [
      "Images for product '로얄캐닌_페르시안_어덜트_4kg_고양이_사료' successfully processed.\n"
     ]
    },
    {
     "name": "stderr",
     "output_type": "stream",
     "text": [
      "Processing pages:   7%|▋         | 1358/20713 [20:51<4:32:38,  1.18it/s]"
     ]
    },
    {
     "name": "stdout",
     "output_type": "stream",
     "text": [
      "Images for product '도착보장_ANF_식스프리_플러스_옐로우_오리연어_5' successfully processed.\n"
     ]
    },
    {
     "name": "stderr",
     "output_type": "stream",
     "text": [
      "Processing pages:   7%|▋         | 1366/20713 [20:58<4:31:25,  1.19it/s]"
     ]
    },
    {
     "name": "stdout",
     "output_type": "stream",
     "text": [
      "Images for product '메이플네이처_더_그레이트_캐내디안_프리미엄_강아지_사료_8Kg_소형대형견_겸용' successfully processed.\n"
     ]
    },
    {
     "name": "stderr",
     "output_type": "stream",
     "text": [
      "Processing pages:   7%|▋         | 1369/20713 [21:01<4:41:47,  1.14it/s]"
     ]
    },
    {
     "name": "stdout",
     "output_type": "stream",
     "text": [
      "Images for product '로얄캐닌_캣_가스트로_인테스티널_파우치_85G_12개_1박스_습식사료' successfully processed.\n"
     ]
    },
    {
     "name": "stderr",
     "output_type": "stream",
     "text": [
      "Processing pages:   7%|▋         | 1370/20713 [21:02<5:35:37,  1.04s/it]"
     ]
    },
    {
     "name": "stdout",
     "output_type": "stream",
     "text": [
      "Images for product '미유믹스_캣_리얼_습식사료_고양이_주식캔_78g_치킨' successfully processed.\n",
      "Images for product '지위픽_고양이사료샘플_테스트_샘플사료_양고기_10g' successfully processed.\n",
      "Images for product '로얄캐닌_독_강아지_유리너리_스몰독_1' successfully processed.\n",
      "Images for product '더마독_강아지_대용량_샘플_강아지_사료_250g_다이어트_슬리밍_가수분해_눈물자국_알러지_개사료' successfully processed.\n"
     ]
    },
    {
     "name": "stderr",
     "output_type": "stream",
     "text": [
      "Processing pages:   7%|▋         | 1371/20713 [21:03<5:15:19,  1.02it/s]"
     ]
    },
    {
     "name": "stdout",
     "output_type": "stream",
     "text": [
      "Images for product '유통기한임박__포르자10__강아지__센서티브_15kg__장___기능성_강아지사료2401' successfully processed.\n",
      "Images for product '웰츠_캣_키튼_2' successfully processed.\n"
     ]
    },
    {
     "name": "stderr",
     "output_type": "stream",
     "text": [
      "Processing pages:   7%|▋         | 1372/20713 [21:04<4:55:19,  1.09it/s]"
     ]
    },
    {
     "name": "stdout",
     "output_type": "stream",
     "text": [
      "Images for product '오리젠_오리지날_2kg_강아지사료' successfully processed.\n",
      "Images for product '엔젤스캣_전연령_5kg__프로폴리스사료_구내염_헤어볼_면역개선' successfully processed.\n"
     ]
    },
    {
     "name": "stderr",
     "output_type": "stream",
     "text": [
      "Processing pages:   7%|▋         | 1373/20713 [21:05<4:56:07,  1.09it/s]"
     ]
    },
    {
     "name": "stdout",
     "output_type": "stream",
     "text": [
      "Images for product '유통기한_24년5월선데이펫_젠틀베이크_그레인프리_강아지_사료_연어_1' successfully processed.\n",
      "Images for product '힐스_고양이사료_어덜트_헤어볼컨트롤_라이트_3' successfully processed.\n"
     ]
    },
    {
     "name": "stderr",
     "output_type": "stream",
     "text": [
      "Processing pages:   7%|▋         | 1381/20713 [21:12<4:37:23,  1.16it/s]"
     ]
    },
    {
     "name": "stdout",
     "output_type": "stream",
     "text": [
      "Images for product '80g_추가라포그_리얼_인섹트_곤충_알러지_강아지_소프트_눈물_사료_1kg_키블_피모' successfully processed.\n"
     ]
    },
    {
     "name": "stderr",
     "output_type": "stream",
     "text": [
      "Processing pages:   7%|▋         | 1401/20713 [21:28<4:03:09,  1.32it/s]"
     ]
    },
    {
     "name": "stdout",
     "output_type": "stream",
     "text": [
      "Images for product '로얄캐닌_독_하이포알러제닉_알러지_강아지_반려견_처방_사료_2kg' successfully processed.\n"
     ]
    },
    {
     "name": "stderr",
     "output_type": "stream",
     "text": [
      "Processing pages:   7%|▋         | 1402/20713 [21:29<4:01:34,  1.33it/s]"
     ]
    },
    {
     "name": "stdout",
     "output_type": "stream",
     "text": [
      "Images for product '슈슈캣_프리미엄_전연령_1' successfully processed.\n",
      "Images for product '명품명가_올스테이지_플러스_강아지_사료_오리호박_5kg' successfully processed.\n"
     ]
    },
    {
     "name": "stderr",
     "output_type": "stream",
     "text": [
      "Processing pages:   7%|▋         | 1403/20713 [21:36<14:22:02,  2.68s/it]"
     ]
    },
    {
     "name": "stdout",
     "output_type": "stream",
     "text": [
      "Images for product '오가다이어트_유기농_오가닉_가수분해_강아지_애견_사료_6kg_3종' successfully processed.\n",
      "Images for product '내추럴발란스_LI_고구마_연어_24kg_작은알_202404' successfully processed.\n"
     ]
    },
    {
     "name": "stderr",
     "output_type": "stream",
     "text": [
      "Processing pages:   7%|▋         | 1404/20713 [21:38<12:22:42,  2.31s/it]"
     ]
    },
    {
     "name": "stdout",
     "output_type": "stream",
     "text": [
      "Images for product '오픈팜_독_키블_칠면조닭고기_204kg_강아지사료' successfully processed.\n",
      "Images for product '벨포아_미니_란트굿_슈마우스_인섹트_곤충사료_2' successfully processed.\n",
      "Images for product '허즈_강아지_알러지_눈물_사료_칠면조_가슴살_908g천연개껌_2p' successfully processed.\n"
     ]
    },
    {
     "name": "stderr",
     "output_type": "stream",
     "text": [
      "Processing pages:   7%|▋         | 1406/20713 [21:39<8:21:05,  1.56s/it] "
     ]
    },
    {
     "name": "stdout",
     "output_type": "stream",
     "text": [
      "Images for product '고사료_강아지_저알러지_솔루션_LID_스몰브리드_연어_단일단백질_2kg_작은알갱이' successfully processed.\n",
      "Images for product '보양대첩_건식사료_워밍_연어와_강황_1' successfully processed.\n",
      "Images for product '후코홀릭_인섹트_도그_동애등에_알러지케어_강아지_사료_2' successfully processed.\n",
      "Images for product '뉴_네이처알로_강아지_눈물_다이어트_알러지_그레인프리_사료_1kg' successfully processed.\n"
     ]
    },
    {
     "name": "stderr",
     "output_type": "stream",
     "text": [
      "Processing pages:   7%|▋         | 1408/20713 [21:41<6:18:11,  1.18s/it]"
     ]
    },
    {
     "name": "stdout",
     "output_type": "stream",
     "text": [
      "Images for product '로투스_도그_시니어_치킨_2' successfully processed.\n",
      "Images for product '디어니스트키친_홀푸드_클러스터_그레인프리_치킨_스몰브리드_450g_부드러운_강아지_오븐베이크_사료' successfully processed.\n"
     ]
    },
    {
     "name": "stderr",
     "output_type": "stream",
     "text": [
      "Processing pages:   7%|▋         | 1409/20713 [21:42<5:39:07,  1.05s/it]"
     ]
    },
    {
     "name": "stdout",
     "output_type": "stream",
     "text": [
      "Images for product '캐츠랑_키튼_고양이_사료_8kg_캣츠랑_어린_고양이용_길냥이_사료' successfully processed.\n"
     ]
    },
    {
     "name": "stderr",
     "output_type": "stream",
     "text": [
      "Processing pages:   7%|▋         | 1411/20713 [21:44<5:08:30,  1.04it/s]"
     ]
    },
    {
     "name": "stdout",
     "output_type": "stream",
     "text": [
      "Images for product '맥아담스_방목_홀치킨_시니어라이트_사료_2kg' successfully processed.\n"
     ]
    },
    {
     "name": "stderr",
     "output_type": "stream",
     "text": [
      "Processing pages:   7%|▋         | 1414/20713 [21:46<5:00:21,  1.07it/s]"
     ]
    },
    {
     "name": "stdout",
     "output_type": "stream",
     "text": [
      "Images for product '로얄캐닌_고양이사료_인도어_10kg' successfully processed.\n"
     ]
    },
    {
     "name": "stderr",
     "output_type": "stream",
     "text": [
      "Processing pages:   7%|▋         | 1427/20713 [21:58<4:58:02,  1.08it/s]"
     ]
    },
    {
     "name": "stdout",
     "output_type": "stream",
     "text": [
      "Images for product '빅스비_러블_LID_강아지_사료_치킨_1' successfully processed.\n",
      "Images for product '로얄캐닌_맥시_어덜트_건식_강아지사료_10kg_리트리버_대형견' successfully processed.\n",
      "Images for product '로얄캐닌_고양이사료_파우치_캣_다이제스트센서티브케어_그레이비_85g낱개' successfully processed.\n"
     ]
    },
    {
     "name": "stderr",
     "output_type": "stream",
     "text": [
      "Processing pages:   7%|▋         | 1430/20713 [22:01<4:28:23,  1.20it/s]"
     ]
    },
    {
     "name": "stdout",
     "output_type": "stream",
     "text": [
      "Images for product '네츄럴_오_강아지사료_6kg_유기농쌀과_연어400g300g간식' successfully processed.\n"
     ]
    },
    {
     "name": "stderr",
     "output_type": "stream",
     "text": [
      "Processing pages:   7%|▋         | 1431/20713 [22:02<4:52:10,  1.10it/s]"
     ]
    },
    {
     "name": "stdout",
     "output_type": "stream",
     "text": [
      "Images for product '피너클_사료_그레인프리_알러지사료_연어호박_9' successfully processed.\n"
     ]
    },
    {
     "name": "stderr",
     "output_type": "stream",
     "text": [
      "Processing pages:   7%|▋         | 1440/20713 [22:10<4:22:08,  1.23it/s]"
     ]
    },
    {
     "name": "stdout",
     "output_type": "stream",
     "text": [
      "Images for product '동원_뉴트리플랜_고양이사료_전연령_플러스_5kg' successfully processed.\n",
      "Images for product '오리젠_강아지_사료_퍼피_독_2kg야채스틱_1p' successfully processed.\n"
     ]
    },
    {
     "name": "stderr",
     "output_type": "stream",
     "text": [
      "Processing pages:   7%|▋         | 1444/20713 [22:14<5:37:25,  1.05s/it]"
     ]
    },
    {
     "name": "stdout",
     "output_type": "stream",
     "text": [
      "Images for product '고양이사료_퓨리나_캣차우_3kg' successfully processed.\n",
      "Images for product '고사료_강아지_저알러지_솔루션_LID_오리_단일단백질_2kg' successfully processed.\n",
      "Images for product '힐스_강아지사료_어덜트_스몰바이트_12kg' successfully processed.\n",
      "Images for product '대한사료_곰표_뉴특수견_15kg' successfully processed.\n"
     ]
    },
    {
     "name": "stderr",
     "output_type": "stream",
     "text": [
      "Processing pages:   7%|▋         | 1445/20713 [22:15<5:26:19,  1.02s/it]"
     ]
    },
    {
     "name": "stdout",
     "output_type": "stream",
     "text": [
      "Images for product '강아지사료_눈물_알러지_베네핏_싱글프로틴_1' successfully processed.\n",
      "Images for product '로얄캐닌_독_강아지_습식_파우치_사료_85g__12개_미니_어덜트' successfully processed.\n",
      "Images for product '페어캣_세이프_인섹트캣_고양이사료_샘플_60g_저자극_저알러지' successfully processed.\n"
     ]
    },
    {
     "name": "stderr",
     "output_type": "stream",
     "text": [
      "Processing pages:   7%|▋         | 1446/20713 [22:15<5:02:17,  1.06it/s]"
     ]
    },
    {
     "name": "stdout",
     "output_type": "stream",
     "text": [
      "Images for product '힐스_강아지_처방사료_zd_zd_3' successfully processed.\n"
     ]
    },
    {
     "name": "stderr",
     "output_type": "stream",
     "text": [
      "Processing pages:   7%|▋         | 1447/20713 [22:16<4:48:26,  1.11it/s]"
     ]
    },
    {
     "name": "stdout",
     "output_type": "stream",
     "text": [
      "Images for product '트로벳_고양이_처방사료_샘플_60g' successfully processed.\n"
     ]
    },
    {
     "name": "stderr",
     "output_type": "stream",
     "text": [
      "Processing pages:   7%|▋         | 1454/20713 [22:22<4:26:41,  1.20it/s]"
     ]
    },
    {
     "name": "stdout",
     "output_type": "stream",
     "text": [
      "Images for product '풀무원_아미오_홀리스틱_어덜트_강아지_사료_5kg' successfully processed.\n"
     ]
    },
    {
     "name": "stderr",
     "output_type": "stream",
     "text": [
      "Processing pages:   7%|▋         | 1458/20713 [22:25<4:21:45,  1.23it/s]"
     ]
    },
    {
     "name": "stdout",
     "output_type": "stream",
     "text": [
      "Images for product '토모조_인섹트_캣_2' successfully processed.\n"
     ]
    },
    {
     "name": "stderr",
     "output_type": "stream",
     "text": [
      "Processing pages:   7%|▋         | 1459/20713 [22:26<4:16:06,  1.25it/s]"
     ]
    },
    {
     "name": "stdout",
     "output_type": "stream",
     "text": [
      "Images for product '아벡시앙아벡시앙_프리미엄_소프트_사료_100g_배송비_무료_체험팩' successfully processed.\n"
     ]
    },
    {
     "name": "stderr",
     "output_type": "stream",
     "text": [
      "Processing pages:   7%|▋         | 1460/20713 [22:27<4:21:48,  1.23it/s]"
     ]
    },
    {
     "name": "stdout",
     "output_type": "stream",
     "text": [
      "Images for product '프론티어_동결건조_사료_비프_900g' successfully processed.\n",
      "Images for product '티오_그레인프리_유리너리케어_고양이사료_5kg' successfully processed.\n"
     ]
    },
    {
     "name": "stderr",
     "output_type": "stream",
     "text": [
      "Processing pages:   7%|▋         | 1461/20713 [22:28<4:27:04,  1.20it/s]"
     ]
    },
    {
     "name": "stdout",
     "output_type": "stream",
     "text": [
      "Images for product '4P반려견을_위한_닭고기_췌장관리식_화식__레이앤이본' successfully processed.\n",
      "Images for product '힐스_고양이사료_어덜트_10kg' successfully processed.\n"
     ]
    },
    {
     "name": "stderr",
     "output_type": "stream",
     "text": [
      "Processing pages:   7%|▋         | 1462/20713 [22:29<4:30:15,  1.19it/s]"
     ]
    },
    {
     "name": "stdout",
     "output_type": "stream",
     "text": [
      "Images for product '로얄캐닌_세타이어티_스몰독_3kg_처방사료' successfully processed.\n"
     ]
    },
    {
     "name": "stderr",
     "output_type": "stream",
     "text": [
      "Processing pages:   7%|▋         | 1468/20713 [22:34<4:25:08,  1.21it/s]"
     ]
    },
    {
     "name": "stdout",
     "output_type": "stream",
     "text": [
      "Images for product '250g추가_버틀러_더텐소프트_가수분해_강아지_소프트_사료_인섹트_알러지_케어_1kg' successfully processed.\n"
     ]
    },
    {
     "name": "stderr",
     "output_type": "stream",
     "text": [
      "Processing pages:   7%|▋         | 1475/20713 [22:40<4:40:13,  1.14it/s]"
     ]
    },
    {
     "name": "stdout",
     "output_type": "stream",
     "text": [
      "Images for product '대한사료_뉴소형견_10kg_강아지사료' successfully processed.\n"
     ]
    },
    {
     "name": "stderr",
     "output_type": "stream",
     "text": [
      "Processing pages:   7%|▋         | 1476/20713 [22:41<4:43:28,  1.13it/s]"
     ]
    },
    {
     "name": "stdout",
     "output_type": "stream",
     "text": [
      "Images for product '굿보이폴라리스15kg_개사료_성견_개밥_활동견_대형견' successfully processed.\n"
     ]
    },
    {
     "name": "stderr",
     "output_type": "stream",
     "text": [
      "Processing pages:   7%|▋         | 1477/20713 [22:42<5:09:55,  1.03it/s]"
     ]
    },
    {
     "name": "stdout",
     "output_type": "stream",
     "text": [
      "Images for product '뉴블루캣_7kg_고양이사료_길고양이' successfully processed.\n",
      "Images for product '강아지_주식캔_사료_애견비책_햇밥_혼합_120g_24개입' successfully processed.\n"
     ]
    },
    {
     "name": "stderr",
     "output_type": "stream",
     "text": [
      "Processing pages:   7%|▋         | 1478/20713 [22:42<4:50:34,  1.10it/s]"
     ]
    },
    {
     "name": "stdout",
     "output_type": "stream",
     "text": [
      "Images for product '내추로_습식사료_그레인프리_닭고기_400g' successfully processed.\n",
      "Images for product '프론티어_사료_비프_소고기_56kg28kg2' successfully processed.\n",
      "Images for product '로얄캐닌_고양이_사료_헤어볼_케어_10kg' successfully processed.\n"
     ]
    },
    {
     "name": "stderr",
     "output_type": "stream",
     "text": [
      "Processing pages:   7%|▋         | 1479/20713 [22:43<4:47:02,  1.12it/s]"
     ]
    },
    {
     "name": "stdout",
     "output_type": "stream",
     "text": [
      "Images for product '웰츠_독_어덜트_6kg_강아지_소포장_사료' successfully processed.\n"
     ]
    },
    {
     "name": "stderr",
     "output_type": "stream",
     "text": [
      "Processing pages:   7%|▋         | 1480/20713 [22:44<4:39:27,  1.15it/s]"
     ]
    },
    {
     "name": "stdout",
     "output_type": "stream",
     "text": [
      "Images for product '버틀러_더텐소프트_사료_인섹트_알러지케어_3kg__200g_증정' successfully processed.\n"
     ]
    },
    {
     "name": "stderr",
     "output_type": "stream",
     "text": [
      "Processing pages:   7%|▋         | 1490/20713 [22:53<4:39:57,  1.14it/s]"
     ]
    },
    {
     "name": "stdout",
     "output_type": "stream",
     "text": [
      "Images for product '네츄럴코어_센시티브케어_밀웜_3kg_가수분해_강아지사료' successfully processed.\n"
     ]
    },
    {
     "name": "stderr",
     "output_type": "stream",
     "text": [
      "Processing pages:   7%|▋         | 1491/20713 [22:54<4:24:52,  1.21it/s]"
     ]
    },
    {
     "name": "stdout",
     "output_type": "stream",
     "text": [
      "Images for product '사은품_증정_힐스_강아지사료_소용량_어덜트11_스몰포_2kg' successfully processed.\n"
     ]
    },
    {
     "name": "stderr",
     "output_type": "stream",
     "text": [
      "Processing pages:   7%|▋         | 1493/20713 [22:56<5:14:05,  1.02it/s]"
     ]
    },
    {
     "name": "stdout",
     "output_type": "stream",
     "text": [
      "Images for product '네츄럴코어_베네_3012_전연령_고양이_사료_10_kg' successfully processed.\n",
      "Images for product '로얄캐닌_캣_고양이_레날_치킨_파우치_85g_신부전_결석_관리_설사_반려묘_습식_처방_사료' successfully processed.\n"
     ]
    },
    {
     "name": "stderr",
     "output_type": "stream",
     "text": [
      "Processing pages:   7%|▋         | 1494/20713 [22:57<5:10:54,  1.03it/s]"
     ]
    },
    {
     "name": "stdout",
     "output_type": "stream",
     "text": [
      "Images for product '로얄캐닌_유리너리_케어_4kg_신장_건강_대용량_고양이_사료' successfully processed.\n",
      "Images for product '로얄캐닌_고양이사료_인도어_400g_실내묘의_변량과_냄새감소' successfully processed.\n",
      "Images for product '보니브_하이포알러제닉_고등어대구_2' successfully processed.\n",
      "Images for product '지위픽_독_캔_강아지_주식캔_습식사료_닭고기_390g' successfully processed.\n"
     ]
    },
    {
     "name": "stderr",
     "output_type": "stream",
     "text": [
      "Processing pages:   7%|▋         | 1495/20713 [22:58<5:16:31,  1.01it/s]"
     ]
    },
    {
     "name": "stdout",
     "output_type": "stream",
     "text": [
      "Images for product '로얄캐닌_캣_다이제스티브_케어_4kg_고양이_사료' successfully processed.\n",
      "Images for product 'ANF_캣_홀리스틱_헬시_웨이트_40g_샘플사료' successfully processed.\n"
     ]
    },
    {
     "name": "stderr",
     "output_type": "stream",
     "text": [
      "Processing pages:   7%|▋         | 1507/20713 [23:08<4:17:14,  1.24it/s]"
     ]
    },
    {
     "name": "stdout",
     "output_type": "stream",
     "text": [
      "Images for product '맛있는_퍼피용사료_성장기강아지사료_자연그대로자견용사료' successfully processed.\n"
     ]
    },
    {
     "name": "stderr",
     "output_type": "stream",
     "text": [
      "Processing pages:   7%|▋         | 1508/20713 [23:09<4:14:10,  1.26it/s]"
     ]
    },
    {
     "name": "stdout",
     "output_type": "stream",
     "text": [
      "Images for product '로얄캐닌_독_가스트로_인테스티널_캔_400g_습식_기호성_장기능_강아지_반려견_처방_사료' successfully processed.\n"
     ]
    },
    {
     "name": "stderr",
     "output_type": "stream",
     "text": [
      "Processing pages:   7%|▋         | 1509/20713 [23:11<6:31:00,  1.22s/it]"
     ]
    },
    {
     "name": "stdout",
     "output_type": "stream",
     "text": [
      "Images for product '로얄캐닌_독_가스트로_인테스티널_로우팻_1' successfully processed.\n",
      "Images for product '대한사료_프로베스트_퍼포먼스17kg_주우리와' successfully processed.\n",
      "Images for product '오늘출발_로얄캐닌_독_유리너리_so_스몰독_1' successfully processed.\n",
      "Images for product '유통기한_24411_네츄리스_퍼피_1' successfully processed.\n"
     ]
    },
    {
     "name": "stderr",
     "output_type": "stream",
     "text": [
      "Processing pages:   7%|▋         | 1510/20713 [23:12<6:09:41,  1.16s/it]"
     ]
    },
    {
     "name": "stdout",
     "output_type": "stream",
     "text": [
      "Images for product '데이스포_제스트_올스테이지사료_5kg' successfully processed.\n",
      "Images for product '골든리트리버사료_진돗개사료_진도개_진도_도그온_10kg' successfully processed.\n"
     ]
    },
    {
     "name": "stderr",
     "output_type": "stream",
     "text": [
      "Processing pages:   7%|▋         | 1511/20713 [23:13<5:38:15,  1.06s/it]"
     ]
    },
    {
     "name": "stdout",
     "output_type": "stream",
     "text": [
      "Images for product '슈슈_진도_10kg_대형견_중형견_개사료' successfully processed.\n"
     ]
    },
    {
     "name": "stderr",
     "output_type": "stream",
     "text": [
      "Processing pages:   7%|▋         | 1518/20713 [23:19<4:25:43,  1.20it/s]"
     ]
    },
    {
     "name": "stdout",
     "output_type": "stream",
     "text": [
      "Images for product '브릿파우치_프리미엄_치킨_85g_고양이_주식_습식_사료' successfully processed.\n"
     ]
    },
    {
     "name": "stderr",
     "output_type": "stream",
     "text": [
      "Processing pages:   7%|▋         | 1524/20713 [23:24<4:16:43,  1.25it/s]"
     ]
    },
    {
     "name": "stdout",
     "output_type": "stream",
     "text": [
      "Images for product '시저_주식캔_습식사료_쇠고기_100g' successfully processed.\n"
     ]
    },
    {
     "name": "stderr",
     "output_type": "stream",
     "text": [
      "Processing pages:   7%|▋         | 1525/20713 [23:25<4:08:27,  1.29it/s]"
     ]
    },
    {
     "name": "stdout",
     "output_type": "stream",
     "text": [
      "Images for product '도그랑_대포사료_강아지_사료_파워골드_15kg' successfully processed.\n",
      "Images for product '유통기한_24년3월25일_나우_강아지_사료_스몰브리드_독_퍼피_1' successfully processed.\n",
      "Images for product '고양이사료_캣츠_에비뉴_2K' successfully processed.\n"
     ]
    },
    {
     "name": "stderr",
     "output_type": "stream",
     "text": [
      "Processing pages:   7%|▋         | 1526/20713 [23:26<4:30:47,  1.18it/s]"
     ]
    },
    {
     "name": "stdout",
     "output_type": "stream",
     "text": [
      "Images for product '아카나_프리런덕_11' successfully processed.\n",
      "Images for product '맥아담스_방목_홀치킨과_연어_사료_소형견용_5kg' successfully processed.\n"
     ]
    },
    {
     "name": "stderr",
     "output_type": "stream",
     "text": [
      "Processing pages:   7%|▋         | 1542/20713 [23:40<4:17:05,  1.24it/s]"
     ]
    },
    {
     "name": "stdout",
     "output_type": "stream",
     "text": [
      "Images for product '레오나르도_캣_어덜트_순수생육_연어_고양이사료_4kg' successfully processed.\n"
     ]
    },
    {
     "name": "stderr",
     "output_type": "stream",
     "text": [
      "Processing pages:   7%|▋         | 1543/20713 [23:41<4:33:16,  1.17it/s]"
     ]
    },
    {
     "name": "stdout",
     "output_type": "stream",
     "text": [
      "Images for product 'ANF_6프리_플러스_인도어_어덜트_5' successfully processed.\n"
     ]
    },
    {
     "name": "stderr",
     "output_type": "stream",
     "text": [
      "Processing pages:   7%|▋         | 1551/20713 [23:48<4:42:44,  1.13it/s]"
     ]
    },
    {
     "name": "stdout",
     "output_type": "stream",
     "text": [
      "Images for product '로얄캐닌_캣_인도어_7_1' successfully processed.\n"
     ]
    },
    {
     "name": "stderr",
     "output_type": "stream",
     "text": [
      "Processing pages:   7%|▋         | 1552/20713 [23:49<4:30:55,  1.18it/s]"
     ]
    },
    {
     "name": "stdout",
     "output_type": "stream",
     "text": [
      "Images for product '나인케어_고양이_사료_1' successfully processed.\n"
     ]
    },
    {
     "name": "stderr",
     "output_type": "stream",
     "text": [
      "Processing pages:   7%|▋         | 1553/20713 [23:50<4:23:13,  1.21it/s]"
     ]
    },
    {
     "name": "stdout",
     "output_type": "stream",
     "text": [
      "Images for product '로얄캐닌_인도어_7세_이상_1' successfully processed.\n"
     ]
    },
    {
     "name": "stderr",
     "output_type": "stream",
     "text": [
      "Processing pages:   8%|▊         | 1554/20713 [23:50<4:08:44,  1.28it/s]"
     ]
    },
    {
     "name": "stdout",
     "output_type": "stream",
     "text": [
      "Images for product '도그랑_강아지_애견사료_진도골드_성견용_10kgx2개__제이벅_1개' successfully processed.\n",
      "Images for product '로우즈_캣_96_고양이_주식_습식_캔사료_156g_치킨치킨간파테' successfully processed.\n"
     ]
    },
    {
     "name": "stderr",
     "output_type": "stream",
     "text": [
      "Processing pages:   8%|▊         | 1556/20713 [23:52<4:19:50,  1.23it/s]"
     ]
    },
    {
     "name": "stdout",
     "output_type": "stream",
     "text": [
      "Images for product '맘블레스_소프트사료_오리_1' successfully processed.\n",
      "Images for product '아빠의마음_냉장_소고기_수비드사료_2' successfully processed.\n",
      "Images for product '로얄캐닌_고양이_사료_랙돌_어덜트_10kg_풍성한_중장모_심장건강도움' successfully processed.\n",
      "Images for product '트럼펫_소프트클로버_이뮨부스터_면역사료_1kg' successfully processed.\n",
      "Images for product '뉴트리언스_인도어_캣_고양이_사료_2' successfully processed.\n"
     ]
    },
    {
     "name": "stderr",
     "output_type": "stream",
     "text": [
      "Processing pages:   8%|▊         | 1559/20713 [23:54<4:12:35,  1.26it/s]"
     ]
    },
    {
     "name": "stdout",
     "output_type": "stream",
     "text": [
      "Images for product '오가앤리프__가수분해_강아지_사료_연어와_아마씨_5' successfully processed.\n",
      "Images for product '데이스포_명품_수제사료_과일식단_1kg_기호성좋은_저알러지_관절건강' successfully processed.\n"
     ]
    },
    {
     "name": "stderr",
     "output_type": "stream",
     "text": [
      "Processing pages:   8%|▊         | 1577/20713 [24:17<16:14:09,  3.05s/it]"
     ]
    },
    {
     "name": "stdout",
     "output_type": "stream",
     "text": [
      "Images for product 'ANF_식스프리_독_6Free_Plus_소고기연어레드_5' successfully processed.\n"
     ]
    },
    {
     "name": "stderr",
     "output_type": "stream",
     "text": [
      "Processing pages:   8%|▊         | 1580/20713 [24:20<9:27:47,  1.78s/it] "
     ]
    },
    {
     "name": "stdout",
     "output_type": "stream",
     "text": [
      "Images for product '오리지7_오가닉_애견_소프트사료_양고기_2kg' successfully processed.\n",
      "Images for product '노마진_유통기한임박고양이사료_3kg' successfully processed.\n",
      "Images for product '레오나르도_캣_고양이사료_어덜트_오리_7' successfully processed.\n",
      "Images for product '닥터도비_관절_사료_힙앤조인트_강아지_슬개골_뼈_건강_5kg' successfully processed.\n",
      "Images for product '로얄캐닌_젤리_키튼_인스팅티브_85g_X_12P_습식파우치_고양이사료' successfully processed.\n"
     ]
    },
    {
     "name": "stderr",
     "output_type": "stream",
     "text": [
      "Processing pages:   8%|▊         | 1581/20713 [24:22<9:40:26,  1.82s/it]"
     ]
    },
    {
     "name": "stdout",
     "output_type": "stream",
     "text": [
      "Images for product '강아지_다이어트_저지방_사료_로얄캐닌_미니_라이트웨이트_케어_1kg' successfully processed.\n"
     ]
    },
    {
     "name": "stderr",
     "output_type": "stream",
     "text": [
      "Processing pages:   8%|▊         | 1585/20713 [24:25<5:13:14,  1.02it/s]"
     ]
    },
    {
     "name": "stdout",
     "output_type": "stream",
     "text": [
      "Images for product '이즈칸_캣_7kg_고양이사료' successfully processed.\n"
     ]
    },
    {
     "name": "stderr",
     "output_type": "stream",
     "text": [
      "Processing pages:   8%|▊         | 1586/20713 [24:26<5:09:12,  1.03it/s]"
     ]
    },
    {
     "name": "stdout",
     "output_type": "stream",
     "text": [
      "Images for product '곰표_대용량_길고양이사료_프로베스트캣_밸런스_7kg' successfully processed.\n"
     ]
    },
    {
     "name": "stderr",
     "output_type": "stream",
     "text": [
      "Processing pages:   8%|▊         | 1587/20713 [24:27<5:20:30,  1.01s/it]"
     ]
    },
    {
     "name": "stdout",
     "output_type": "stream",
     "text": [
      "Images for product '로얄캐닌_인도어_10kg_고양이_사료__사은품' successfully processed.\n",
      "Images for product '웰니스_인덜전스_파우치_머셀_연어와_참치_고양이_습식사료_85g' successfully processed.\n",
      "Images for product '노마진_유통기한임박사료_리트리버사료_진돗개사료_5kg' successfully processed.\n",
      "Images for product '11조이_파테캔_자연방목_고양이_주식캔_습식사료_닭고기자연산_흰살생선_85g' successfully processed.\n"
     ]
    },
    {
     "name": "stderr",
     "output_type": "stream",
     "text": [
      "Processing pages:   8%|▊         | 1588/20713 [24:28<5:06:32,  1.04it/s]"
     ]
    },
    {
     "name": "stdout",
     "output_type": "stream",
     "text": [
      "Images for product '로얄캐닌_푸들_어덜트_3kg_견종별_강아지사료' successfully processed.\n"
     ]
    },
    {
     "name": "stderr",
     "output_type": "stream",
     "text": [
      "Processing pages:   8%|▊         | 1595/20713 [24:33<4:14:38,  1.25it/s]"
     ]
    },
    {
     "name": "stdout",
     "output_type": "stream",
     "text": [
      "Images for product '워프_와일드베니슨_야생사슴_동결건조_전연령_사료_1kg' successfully processed.\n"
     ]
    },
    {
     "name": "stderr",
     "output_type": "stream",
     "text": [
      "Processing pages:   8%|▊         | 1598/20713 [24:36<4:11:27,  1.27it/s]"
     ]
    },
    {
     "name": "stdout",
     "output_type": "stream",
     "text": [
      "Images for product '캐츠랑_키튼_8kg_길냥이_사료' successfully processed.\n"
     ]
    },
    {
     "name": "stderr",
     "output_type": "stream",
     "text": [
      "Processing pages:   8%|▊         | 1615/20713 [24:52<4:47:14,  1.11it/s]"
     ]
    },
    {
     "name": "stdout",
     "output_type": "stream",
     "text": [
      "Images for product '로얄캐닌_미니_퍼피_파우치_습식사료_85g' successfully processed.\n"
     ]
    },
    {
     "name": "stderr",
     "output_type": "stream",
     "text": [
      "Processing pages:   8%|▊         | 1618/20713 [24:55<4:56:06,  1.07it/s]"
     ]
    },
    {
     "name": "stdout",
     "output_type": "stream",
     "text": [
      "Images for product '로얄캐닌_인도어_고양이사료_10kg인도어_습식사료_파우치_85g' successfully processed.\n"
     ]
    },
    {
     "name": "stderr",
     "output_type": "stream",
     "text": [
      "Processing pages:   8%|▊         | 1620/20713 [24:57<5:14:06,  1.01it/s]"
     ]
    },
    {
     "name": "stdout",
     "output_type": "stream",
     "text": [
      "Images for product '위시본_강아지사료_양고기1' successfully processed.\n"
     ]
    },
    {
     "name": "stderr",
     "output_type": "stream",
     "text": [
      "Processing pages:   8%|▊         | 1622/20713 [24:59<5:14:28,  1.01it/s]"
     ]
    },
    {
     "name": "stdout",
     "output_type": "stream",
     "text": [
      "Images for product '스맥_독_로푸드_베리치킨_250g_디하이드레이티드_강아지_사료' successfully processed.\n"
     ]
    },
    {
     "name": "stderr",
     "output_type": "stream",
     "text": [
      "Processing pages:   8%|▊         | 1623/20713 [25:00<4:53:47,  1.08it/s]"
     ]
    },
    {
     "name": "stdout",
     "output_type": "stream",
     "text": [
      "Images for product '로얄캐닌_처방식_독_세타이어티_스몰독_1' successfully processed.\n",
      "Images for product '강아지_화식_섬벗_자연식_양고기_사료_샘플_후코이단_함유' successfully processed.\n"
     ]
    },
    {
     "name": "stderr",
     "output_type": "stream",
     "text": [
      "Processing pages:   8%|▊         | 1624/20713 [25:01<4:56:52,  1.07it/s]"
     ]
    },
    {
     "name": "stdout",
     "output_type": "stream",
     "text": [
      "Images for product '게더_캣_프리에이커_치킨_1kg' successfully processed.\n"
     ]
    },
    {
     "name": "stderr",
     "output_type": "stream",
     "text": [
      "Processing pages:   8%|▊         | 1627/20713 [25:05<6:11:26,  1.17s/it]"
     ]
    },
    {
     "name": "stdout",
     "output_type": "stream",
     "text": [
      "Images for product '체험샘플_50g_펫죠_키블댓카운트_캥거루_살몬_치킨_체험사료_강아지_사료' successfully processed.\n"
     ]
    },
    {
     "name": "stderr",
     "output_type": "stream",
     "text": [
      "Processing pages:   8%|▊         | 1628/20713 [25:05<5:30:00,  1.04s/it]"
     ]
    },
    {
     "name": "stdout",
     "output_type": "stream",
     "text": [
      "Images for product '프로네이처_홀리스틱_캣_대서양_연어현미__2' successfully processed.\n"
     ]
    },
    {
     "name": "stderr",
     "output_type": "stream",
     "text": [
      "Processing pages:   8%|▊         | 1630/20713 [25:07<5:02:15,  1.05it/s]"
     ]
    },
    {
     "name": "stdout",
     "output_type": "stream",
     "text": [
      "Images for product '빅스비_러블_강아지_사료_LID_포크_돼지고기_10' successfully processed.\n",
      "Images for product '다빈치독_그레인프리_리얼미트_2kg_500g_x_4개_다빈치펫푸드_소프트사료_지퍼백_소포장' successfully processed.\n"
     ]
    },
    {
     "name": "stderr",
     "output_type": "stream",
     "text": [
      "Processing pages:   8%|▊         | 1632/20713 [25:09<4:49:47,  1.10it/s]"
     ]
    },
    {
     "name": "stdout",
     "output_type": "stream",
     "text": [
      "Images for product '고양이사료_샘플_캣츠온_500g_길고양이사료_길냥이사료' successfully processed.\n"
     ]
    },
    {
     "name": "stderr",
     "output_type": "stream",
     "text": [
      "Processing pages:   8%|▊         | 1642/20713 [25:17<4:11:42,  1.26it/s]"
     ]
    },
    {
     "name": "stdout",
     "output_type": "stream",
     "text": [
      "Images for product '아침애사료_한우사료_2' successfully processed.\n"
     ]
    },
    {
     "name": "stderr",
     "output_type": "stream",
     "text": [
      "Processing pages:   8%|▊         | 1648/20713 [25:22<4:29:22,  1.18it/s]"
     ]
    },
    {
     "name": "stdout",
     "output_type": "stream",
     "text": [
      "Images for product '프랑스_프레스티지_반려견_사료_모음_5종_3kg' successfully processed.\n"
     ]
    },
    {
     "name": "stderr",
     "output_type": "stream",
     "text": [
      "Processing pages:   8%|▊         | 1656/20713 [25:28<4:48:04,  1.10it/s]"
     ]
    },
    {
     "name": "stdout",
     "output_type": "stream",
     "text": [
      "Images for product '도그랑_강아지_사료_램앤라이스_퍼피_2kg' successfully processed.\n",
      "Images for product '피니키_가수분해_사료_오리고기_샘플_35g' successfully processed.\n"
     ]
    },
    {
     "name": "stderr",
     "output_type": "stream",
     "text": [
      "Processing pages:   8%|▊         | 1657/20713 [25:29<4:53:04,  1.08it/s]"
     ]
    },
    {
     "name": "stdout",
     "output_type": "stream",
     "text": [
      "Images for product '내추럴발란스_고구마_닭고기_알러지사료_스몰바이트_24kg_유통기한24' successfully processed.\n",
      "Images for product '500g추가피니키_캣_그레인프리_고양이사료_치킨앤피쉬3kg' successfully processed.\n",
      "Images for product '펠리쿠치나_반습식_소프트_강아지사료_연어_1' successfully processed.\n"
     ]
    },
    {
     "name": "stderr",
     "output_type": "stream",
     "text": [
      "Processing pages:   8%|▊         | 1659/20713 [25:31<4:58:37,  1.06it/s]"
     ]
    },
    {
     "name": "stdout",
     "output_type": "stream",
     "text": [
      "Images for product '더마독_관절_강아지_건강사료_슬개골_3kg' successfully processed.\n"
     ]
    },
    {
     "name": "stderr",
     "output_type": "stream",
     "text": [
      "Processing pages:   8%|▊         | 1663/20713 [25:35<4:46:49,  1.11it/s]"
     ]
    },
    {
     "name": "stdout",
     "output_type": "stream",
     "text": [
      "Images for product '뉴트리나_비스트로_애묘_사료_300g_20개_코스트코_고양이_전연령' successfully processed.\n"
     ]
    },
    {
     "name": "stderr",
     "output_type": "stream",
     "text": [
      "Processing pages:   8%|▊         | 1666/20713 [25:38<5:02:28,  1.05it/s]"
     ]
    },
    {
     "name": "stdout",
     "output_type": "stream",
     "text": [
      "Images for product '트로벳_강아지_처방사료_3kg_WRD' successfully processed.\n"
     ]
    },
    {
     "name": "stderr",
     "output_type": "stream",
     "text": [
      "Processing pages:   8%|▊         | 1669/20713 [25:40<4:54:17,  1.08it/s]"
     ]
    },
    {
     "name": "stdout",
     "output_type": "stream",
     "text": [
      "Images for product '도그랑_진도퍼피_10kg_진돗개_진도견_풍산개_자견_강아지_개_사료_사료가게' successfully processed.\n",
      "Images for product '로얄캐닌_캣_유리너리_SO_3' successfully processed.\n",
      "Images for product '고_go_다이제스천_연어_캣_50g_샘플사료' successfully processed.\n",
      "Images for product '건강백서_강아지사료_2kg_x2포4kg증정' successfully processed.\n"
     ]
    },
    {
     "name": "stderr",
     "output_type": "stream",
     "text": [
      "Processing pages:   8%|▊         | 1670/20713 [25:41<5:08:41,  1.03it/s]"
     ]
    },
    {
     "name": "stdout",
     "output_type": "stream",
     "text": [
      "Images for product '동원_뉴트리플랜_키튼_플러스_1' successfully processed.\n",
      "Images for product '로얄캐닌_미니인도어_퍼피_3kg' successfully processed.\n"
     ]
    },
    {
     "name": "stderr",
     "output_type": "stream",
     "text": [
      "Processing pages:   8%|▊         | 1671/20713 [25:42<4:56:34,  1.07it/s]"
     ]
    },
    {
     "name": "stdout",
     "output_type": "stream",
     "text": [
      "Images for product '복수구매할인_로우즈_캣_슈레디드캔_치킨_85g_고양이_습식사료' successfully processed.\n"
     ]
    },
    {
     "name": "stderr",
     "output_type": "stream",
     "text": [
      "Processing pages:   8%|▊         | 1672/20713 [25:43<4:51:55,  1.09it/s]"
     ]
    },
    {
     "name": "stdout",
     "output_type": "stream",
     "text": [
      "Images for product '캐츠랑_리브레_길고양이사료_5kg' successfully processed.\n",
      "Images for product '나우_프레쉬_시니어_캣_50g_샘플사료' successfully processed.\n"
     ]
    },
    {
     "name": "stderr",
     "output_type": "stream",
     "text": [
      "Processing pages:   8%|▊         | 1673/20713 [25:44<5:30:25,  1.04s/it]"
     ]
    },
    {
     "name": "stdout",
     "output_type": "stream",
     "text": [
      "Images for product 'ANF_독_식스프리플러스_대용량_강아지사료_5' successfully processed.\n"
     ]
    },
    {
     "name": "stderr",
     "output_type": "stream",
     "text": [
      "Processing pages:   8%|▊         | 1679/20713 [25:50<4:43:30,  1.12it/s]"
     ]
    },
    {
     "name": "stdout",
     "output_type": "stream",
     "text": [
      "Images for product '개사료_성견_대형견사료_코코_15kg' successfully processed.\n"
     ]
    },
    {
     "name": "stderr",
     "output_type": "stream",
     "text": [
      "Processing pages:   8%|▊         | 1680/20713 [25:51<4:48:13,  1.10it/s]"
     ]
    },
    {
     "name": "stdout",
     "output_type": "stream",
     "text": [
      "Images for product '프로네이처_라이프_칠_하모니_2' successfully processed.\n"
     ]
    },
    {
     "name": "stderr",
     "output_type": "stream",
     "text": [
      "Processing pages:   8%|▊         | 1681/20713 [25:52<4:40:15,  1.13it/s]"
     ]
    },
    {
     "name": "stdout",
     "output_type": "stream",
     "text": [
      "Images for product '도그쿡_야채비타_수제사료_500g' successfully processed.\n"
     ]
    },
    {
     "name": "stderr",
     "output_type": "stream",
     "text": [
      "Processing pages:   8%|▊         | 1682/20713 [25:52<4:48:37,  1.10it/s]"
     ]
    },
    {
     "name": "stdout",
     "output_type": "stream",
     "text": [
      "Images for product '복수구매할인_웰니스_코어_시그니쳐캔_플레이크_참치와연어_79g_고양이_습식사료' successfully processed.\n",
      "Images for product '펫스튜어드_초음파수비드_강아지화식_저지방_노견_강아지자연식_럽럽치킨_닭' successfully processed.\n"
     ]
    },
    {
     "name": "stderr",
     "output_type": "stream",
     "text": [
      "Processing pages:   8%|▊         | 1684/20713 [25:54<4:21:25,  1.21it/s]"
     ]
    },
    {
     "name": "stdout",
     "output_type": "stream",
     "text": [
      "Images for product 'ANF_식스프리_플러스_웨이트케어_고양이사료_5' successfully processed.\n"
     ]
    },
    {
     "name": "stderr",
     "output_type": "stream",
     "text": [
      "Processing pages:   8%|▊         | 1685/20713 [25:55<4:23:27,  1.20it/s]"
     ]
    },
    {
     "name": "stdout",
     "output_type": "stream",
     "text": [
      "Images for product '선데이펫_젠틀베이크_그레인프리_강아지_영양_면역력_소화_피부_사료_소고기_1' successfully processed.\n"
     ]
    },
    {
     "name": "stderr",
     "output_type": "stream",
     "text": [
      "Processing pages:   8%|▊         | 1701/20713 [26:10<4:46:50,  1.10it/s]"
     ]
    },
    {
     "name": "stdout",
     "output_type": "stream",
     "text": [
      "Images for product '로얄캐닌_세타이어티_다이어트_사료_1' successfully processed.\n"
     ]
    },
    {
     "name": "stderr",
     "output_type": "stream",
     "text": [
      "Processing pages:   8%|▊         | 1704/20713 [26:12<4:59:41,  1.06it/s]"
     ]
    },
    {
     "name": "stdout",
     "output_type": "stream",
     "text": [
      "Images for product '강아지사료샘플_피니키_하이포알러지_연어_35g' successfully processed.\n",
      "Images for product 'GO_고_고양이사료_LID_오리_1' successfully processed.\n",
      "Images for product '내추럴발란스_강아지_야채_다이어트_저알러지사료_5kg_유통기한_2403' successfully processed.\n"
     ]
    },
    {
     "name": "stderr",
     "output_type": "stream",
     "text": [
      "Processing pages:   8%|▊         | 1705/20713 [26:13<5:10:59,  1.02it/s]"
     ]
    },
    {
     "name": "stdout",
     "output_type": "stream",
     "text": [
      "Images for product '로얄캐닌_스테럴라이즈드_로프_파우치_85g_습식_고양이_사료' successfully processed.\n",
      "Images for product '로얄캐닌_인도어_7_젤리_파우치_85g_습식_고양이_사료' successfully processed.\n"
     ]
    },
    {
     "name": "stderr",
     "output_type": "stream",
     "text": [
      "Processing pages:   8%|▊         | 1706/20713 [26:14<4:51:29,  1.09it/s]"
     ]
    },
    {
     "name": "stdout",
     "output_type": "stream",
     "text": [
      "Images for product '유통기한_2438_로얄캐닌_포메라니안_어덜트_사료_1' successfully processed.\n",
      "Images for product '스몰배치_치킨배치_슬라이더_397g_동결건조사료' successfully processed.\n"
     ]
    },
    {
     "name": "stderr",
     "output_type": "stream",
     "text": [
      "Processing pages:   8%|▊         | 1707/20713 [26:15<4:55:04,  1.07it/s]"
     ]
    },
    {
     "name": "stdout",
     "output_type": "stream",
     "text": [
      "Images for product '맥아담스_방목_홀치킨사료_소형견용_5kg' successfully processed.\n"
     ]
    },
    {
     "name": "stderr",
     "output_type": "stream",
     "text": [
      "Processing pages:   8%|▊         | 1708/20713 [26:16<4:41:10,  1.13it/s]"
     ]
    },
    {
     "name": "stdout",
     "output_type": "stream",
     "text": [
      "Images for product '버틀러_더텐소프트_인섹트_가수분해_반습식_강아지_사료_3kg300g' successfully processed.\n"
     ]
    },
    {
     "name": "stderr",
     "output_type": "stream",
     "text": [
      "Processing pages:   8%|▊         | 1721/20713 [26:27<4:22:33,  1.21it/s]"
     ]
    },
    {
     "name": "stdout",
     "output_type": "stream",
     "text": [
      "Images for product '한끼뚝딱_소프트_황태와_연어_강아지사료_1kg' successfully processed.\n"
     ]
    },
    {
     "name": "stderr",
     "output_type": "stream",
     "text": [
      "Processing pages:   8%|▊         | 1723/20713 [26:29<5:06:11,  1.03it/s]"
     ]
    },
    {
     "name": "stdout",
     "output_type": "stream",
     "text": [
      "Images for product '리뉴얼_캣차우_컴플리트_6kg_헤어볼_대용량_고양이사료' successfully processed.\n"
     ]
    },
    {
     "name": "stderr",
     "output_type": "stream",
     "text": [
      "Processing pages:   8%|▊         | 1724/20713 [26:30<4:57:42,  1.06it/s]"
     ]
    },
    {
     "name": "stdout",
     "output_type": "stream",
     "text": [
      "Images for product '아보덤_조인트헬스_그레인프리_관절사료_4' successfully processed.\n",
      "Images for product '퓨어비타_캣_중용량_고양이설사사료_3kg_치킨파랑' successfully processed.\n"
     ]
    },
    {
     "name": "stderr",
     "output_type": "stream",
     "text": [
      "Processing pages:   8%|▊         | 1725/20713 [26:32<6:06:33,  1.16s/it]"
     ]
    },
    {
     "name": "stdout",
     "output_type": "stream",
     "text": [
      "Images for product '로얄캐닌_헤어볼케어_고양이사료_10kg헤어볼케어_습식사료_파우치_85g' successfully processed.\n",
      "Images for product 'N포인트_아침애사료_오리_연어_감자_5kg_가수분해_강아지_수제사료' successfully processed.\n"
     ]
    },
    {
     "name": "stderr",
     "output_type": "stream",
     "text": [
      "Processing pages:   8%|▊         | 1734/20713 [26:39<4:25:38,  1.19it/s]"
     ]
    },
    {
     "name": "stdout",
     "output_type": "stream",
     "text": [
      "Images for product '데이스포_제스트_올스테이지사료_5kg_애견사료' successfully processed.\n"
     ]
    },
    {
     "name": "stderr",
     "output_type": "stream",
     "text": [
      "Processing pages:   8%|▊         | 1743/20713 [26:47<4:43:29,  1.12it/s]"
     ]
    },
    {
     "name": "stdout",
     "output_type": "stream",
     "text": [
      "Images for product '테이스트오브네이처_강아지화식_자연식_오리_600g' successfully processed.\n",
      "Images for product '로얄캐닌_아날러제닉_3KG_강아지_대용량_알러지_사료' successfully processed.\n"
     ]
    },
    {
     "name": "stderr",
     "output_type": "stream",
     "text": [
      "Processing pages:   8%|▊         | 1744/20713 [26:48<4:48:02,  1.10it/s]"
     ]
    },
    {
     "name": "stdout",
     "output_type": "stream",
     "text": [
      "Images for product '보레알_독_그레인프리_바이탈_치킨_11' successfully processed.\n"
     ]
    },
    {
     "name": "stderr",
     "output_type": "stream",
     "text": [
      "Processing pages:   8%|▊         | 1748/20713 [26:52<5:05:20,  1.04it/s]"
     ]
    },
    {
     "name": "stdout",
     "output_type": "stream",
     "text": [
      "Images for product '로얄캐닌_독_미니_인도어_어덜트_8' successfully processed.\n"
     ]
    },
    {
     "name": "stderr",
     "output_type": "stream",
     "text": [
      "Processing pages:   8%|▊         | 1750/20713 [26:53<4:39:52,  1.13it/s]"
     ]
    },
    {
     "name": "stdout",
     "output_type": "stream",
     "text": [
      "Images for product '힐스_캣_Gi_바이옴_1' successfully processed.\n"
     ]
    },
    {
     "name": "stderr",
     "output_type": "stream",
     "text": [
      "Processing pages:   8%|▊         | 1755/20713 [26:58<4:40:38,  1.13it/s]"
     ]
    },
    {
     "name": "stdout",
     "output_type": "stream",
     "text": [
      "Images for product '로얄캐닌_독_유리너리_SO_2kg_강아지사료_반려견사료_ROYAL_CANIN' successfully processed.\n",
      "Images for product '세이프브이투_홀리스틱_기능성_애견사료_6kg' successfully processed.\n",
      "Images for product '심장에_좋은_처방식_오도독_사료_1kg' successfully processed.\n"
     ]
    },
    {
     "name": "stderr",
     "output_type": "stream",
     "text": [
      "Processing pages:   8%|▊         | 1756/20713 [27:00<6:19:00,  1.20s/it]"
     ]
    },
    {
     "name": "stdout",
     "output_type": "stream",
     "text": [
      "Images for product '어드밴스_일반식_독_사료_샘플' successfully processed.\n",
      "Images for product '명품명가_플러스_연어와_감자_5kg_2개_강아지사료' successfully processed.\n",
      "Images for product '힐스_Hills_캣_zd_zd_캔_156g__고양이_식이알러지_처방_습식사료' successfully processed.\n",
      "Images for product '로얄캐닌_고양이사료_인도어_롱헤어_4kg' successfully processed.\n",
      "Images for product '로얄캐닌_레날_스몰독_1' successfully processed.\n"
     ]
    },
    {
     "name": "stderr",
     "output_type": "stream",
     "text": [
      "Processing pages:   9%|▊         | 1761/20713 [27:04<4:52:04,  1.08it/s]"
     ]
    },
    {
     "name": "stdout",
     "output_type": "stream",
     "text": [
      "Images for product '강아지_저지방_췌장염_사료_인섹트_알러지_1kg' successfully processed.\n"
     ]
    },
    {
     "name": "stderr",
     "output_type": "stream",
     "text": [
      "Processing pages:   9%|▊         | 1767/20713 [27:09<4:19:56,  1.21it/s]"
     ]
    },
    {
     "name": "stdout",
     "output_type": "stream",
     "text": [
      "Images for product '오리젠_피트앤트림_독_2kg' successfully processed.\n"
     ]
    },
    {
     "name": "stderr",
     "output_type": "stream",
     "text": [
      "Processing pages:   9%|▊         | 1769/20713 [27:10<4:22:22,  1.20it/s]"
     ]
    },
    {
     "name": "stdout",
     "output_type": "stream",
     "text": [
      "Images for product '알모네이쳐_고양이_습식캔_대서양참치_고양이_주식캔_습식사료_70g' successfully processed.\n"
     ]
    },
    {
     "name": "stderr",
     "output_type": "stream",
     "text": [
      "Processing pages:   9%|▊         | 1770/20713 [27:11<4:22:52,  1.20it/s]"
     ]
    },
    {
     "name": "stdout",
     "output_type": "stream",
     "text": [
      "Images for product '해피랑_서울사료_파워특수견15kg_이벤트_행사' successfully processed.\n",
      "Images for product '노스포_캣_저알러지_랍스터사료_1kg_그레인프리사료' successfully processed.\n"
     ]
    },
    {
     "name": "stderr",
     "output_type": "stream",
     "text": [
      "Processing pages:   9%|▊         | 1771/20713 [27:12<4:21:35,  1.21it/s]"
     ]
    },
    {
     "name": "stdout",
     "output_type": "stream",
     "text": [
      "Images for product '로얄캐닌_캣_가스트로_인테스티널_4kg_고양이_위장관_질환_처방_사료' successfully processed.\n"
     ]
    },
    {
     "name": "stderr",
     "output_type": "stream",
     "text": [
      "Processing pages:   9%|▊         | 1775/20713 [27:16<4:41:09,  1.12it/s]"
     ]
    },
    {
     "name": "stdout",
     "output_type": "stream",
     "text": [
      "Images for product '천하제일_특수견덕골드_오리고기_15kg_진돗개_진도_대형견_개_사료' successfully processed.\n"
     ]
    },
    {
     "name": "stderr",
     "output_type": "stream",
     "text": [
      "Processing pages:   9%|▊         | 1776/20713 [27:16<4:25:09,  1.19it/s]"
     ]
    },
    {
     "name": "stdout",
     "output_type": "stream",
     "text": [
      "Images for product '웰스비캣_그레이비_고양이_습식_주식_캔_사료_80g' successfully processed.\n"
     ]
    },
    {
     "name": "stderr",
     "output_type": "stream",
     "text": [
      "Processing pages:   9%|▊         | 1783/20713 [27:31<9:36:43,  1.83s/it] "
     ]
    },
    {
     "name": "stdout",
     "output_type": "stream",
     "text": [
      "Images for product '노견습식사료_노령견습식사료_양고기' successfully processed.\n"
     ]
    },
    {
     "name": "stderr",
     "output_type": "stream",
     "text": [
      "Processing pages:   9%|▊         | 1784/20713 [27:32<8:11:28,  1.56s/it]"
     ]
    },
    {
     "name": "stdout",
     "output_type": "stream",
     "text": [
      "Images for product '샘플_내추럴발란스_강아지사료_LI_야채_작은알_5' successfully processed.\n"
     ]
    },
    {
     "name": "stderr",
     "output_type": "stream",
     "text": [
      "Processing pages:   9%|▊         | 1785/20713 [27:33<7:28:32,  1.42s/it]"
     ]
    },
    {
     "name": "stdout",
     "output_type": "stream",
     "text": [
      "Images for product '아르테미스_HIT_포피쉬_큰입자_2' successfully processed.\n",
      "Images for product '오리젠_6피쉬독_1kg' successfully processed.\n",
      "Images for product '캐츠랑_전연령_5kg_x_2포_10kg_업그레이드_제품' successfully processed.\n"
     ]
    },
    {
     "name": "stderr",
     "output_type": "stream",
     "text": [
      "Processing pages:   9%|▊         | 1787/20713 [27:35<5:41:00,  1.08s/it]"
     ]
    },
    {
     "name": "stdout",
     "output_type": "stream",
     "text": [
      "Images for product '로얄캐닌_고양이사료_파우치_인스팅티브_그레이비_85g낱개' successfully processed.\n",
      "Images for product '집사공감_고양이_다이어트_사료_리얼치킨_2' successfully processed.\n"
     ]
    },
    {
     "name": "stderr",
     "output_type": "stream",
     "text": [
      "Processing pages:   9%|▊         | 1788/20713 [27:35<5:17:18,  1.01s/it]"
     ]
    },
    {
     "name": "stdout",
     "output_type": "stream",
     "text": [
      "Images for product '레오나르도_캣_시니어_고양이사료_7' successfully processed.\n"
     ]
    },
    {
     "name": "stderr",
     "output_type": "stream",
     "text": [
      "Processing pages:   9%|▊         | 1792/20713 [27:39<4:31:17,  1.16it/s]"
     ]
    },
    {
     "name": "stdout",
     "output_type": "stream",
     "text": [
      "Images for product 'ANF_캣_식스프리_플러스_어덜트_1' successfully processed.\n",
      "Images for product '듀먼_소고기채소_오리지널_화식사료_50g_x1팩' successfully processed.\n"
     ]
    },
    {
     "name": "stderr",
     "output_type": "stream",
     "text": [
      "Processing pages:   9%|▊         | 1801/20713 [27:47<4:56:07,  1.06it/s]"
     ]
    },
    {
     "name": "stdout",
     "output_type": "stream",
     "text": [
      "Images for product '로얄캐닌_스테럴라이즈드_2kg_고양이_사료' successfully processed.\n",
      "Images for product '로얄캐닌_미디엄_퍼피_4kg' successfully processed.\n",
      "Images for product '옵티원_고양이사료_연어아마씨_5' successfully processed.\n",
      "Images for product '더리얼_캣_그레인프리_크런치_고양이_사료_3' successfully processed.\n"
     ]
    },
    {
     "name": "stderr",
     "output_type": "stream",
     "text": [
      "Processing pages:   9%|▊         | 1803/20713 [27:49<5:13:46,  1.00it/s]"
     ]
    },
    {
     "name": "stdout",
     "output_type": "stream",
     "text": [
      "Images for product '네이처알로_강아지_눈물관리_부드러운_곤충사료_1kg' successfully processed.\n",
      "Images for product '복수구매10_로우즈_파우치_사시_고양이_습식사료_50g_참치_연어' successfully processed.\n"
     ]
    },
    {
     "name": "stderr",
     "output_type": "stream",
     "text": [
      "Processing pages:   9%|▊         | 1805/20713 [27:50<4:59:55,  1.05it/s]"
     ]
    },
    {
     "name": "stdout",
     "output_type": "stream",
     "text": [
      "Images for product '프로베스트_캣_밸런스_15kg_고양이사료' successfully processed.\n"
     ]
    },
    {
     "name": "stderr",
     "output_type": "stream",
     "text": [
      "Processing pages:   9%|▊         | 1808/20713 [27:53<4:26:07,  1.18it/s]"
     ]
    },
    {
     "name": "stdout",
     "output_type": "stream",
     "text": [
      "Images for product '로얄캐닌_캣_인도어_1' successfully processed.\n"
     ]
    },
    {
     "name": "stderr",
     "output_type": "stream",
     "text": [
      "Processing pages:   9%|▉         | 1820/20713 [28:04<4:35:13,  1.14it/s]"
     ]
    },
    {
     "name": "stdout",
     "output_type": "stream",
     "text": [
      "Images for product '강아지화식_습식사료_화식_7종__골라담기_710kg_반려견' successfully processed.\n"
     ]
    },
    {
     "name": "stderr",
     "output_type": "stream",
     "text": [
      "Processing pages:   9%|▉         | 1824/20713 [28:08<4:52:41,  1.08it/s]"
     ]
    },
    {
     "name": "stdout",
     "output_type": "stream",
     "text": [
      "Images for product 'NEW_캐츠랑_키튼_4kg사은_증_고양이사료_길냥이' successfully processed.\n"
     ]
    },
    {
     "name": "stderr",
     "output_type": "stream",
     "text": [
      "Processing pages:   9%|▉         | 1825/20713 [28:09<4:48:07,  1.09it/s]"
     ]
    },
    {
     "name": "stdout",
     "output_type": "stream",
     "text": [
      "Images for product '힐스_고양이_캔_습식사료_키튼_스튜_치킨_79g_12개' successfully processed.\n"
     ]
    },
    {
     "name": "stderr",
     "output_type": "stream",
     "text": [
      "Processing pages:   9%|▉         | 1827/20713 [28:11<4:49:32,  1.09it/s]"
     ]
    },
    {
     "name": "stdout",
     "output_type": "stream",
     "text": [
      "Images for product '데이스포_테라픽_올스테이지사료_1kg데이스포_영양제' successfully processed.\n"
     ]
    },
    {
     "name": "stderr",
     "output_type": "stream",
     "text": [
      "Processing pages:   9%|▉         | 1828/20713 [28:11<4:50:05,  1.09it/s]"
     ]
    },
    {
     "name": "stdout",
     "output_type": "stream",
     "text": [
      "Images for product '펫트리톡스_강아지_사료_피부_알러지_눈물_노견_비숑_말티푸_푸들_사료_700g' successfully processed.\n"
     ]
    },
    {
     "name": "stderr",
     "output_type": "stream",
     "text": [
      "Processing pages:   9%|▉         | 1829/20713 [28:12<4:59:20,  1.05it/s]"
     ]
    },
    {
     "name": "stdout",
     "output_type": "stream",
     "text": [
      "Images for product '카루_데일리디쉬_354g_강아지스튜_건강식_노견_습식사료_칠면조연어' successfully processed.\n"
     ]
    },
    {
     "name": "stderr",
     "output_type": "stream",
     "text": [
      "Processing pages:   9%|▉         | 1831/20713 [28:14<4:50:58,  1.08it/s]"
     ]
    },
    {
     "name": "stdout",
     "output_type": "stream",
     "text": [
      "Images for product '웰썸_고양이_그레인프리_인섹트_사료_3' successfully processed.\n"
     ]
    },
    {
     "name": "stderr",
     "output_type": "stream",
     "text": [
      "Processing pages:   9%|▉         | 1832/20713 [28:15<4:49:49,  1.09it/s]"
     ]
    },
    {
     "name": "stdout",
     "output_type": "stream",
     "text": [
      "Images for product '골라담기_수제_고양이_습식사료_주식캔_웰니스_코어_시그니쳐_셀렉트_79g' successfully processed.\n"
     ]
    },
    {
     "name": "stderr",
     "output_type": "stream",
     "text": [
      "Processing pages:   9%|▉         | 1838/20713 [28:20<4:34:15,  1.15it/s]"
     ]
    },
    {
     "name": "stdout",
     "output_type": "stream",
     "text": [
      "Images for product '로얄캐닌_다이제스티브_케어_고양이사료_4kg다이제스티브_습식사료_파우치_85g' successfully processed.\n"
     ]
    },
    {
     "name": "stderr",
     "output_type": "stream",
     "text": [
      "Processing pages:   9%|▉         | 1839/20713 [28:21<4:19:43,  1.21it/s]"
     ]
    },
    {
     "name": "stdout",
     "output_type": "stream",
     "text": [
      "Images for product '스몰배치_사료_포크_슬라이더_397g' successfully processed.\n"
     ]
    },
    {
     "name": "stderr",
     "output_type": "stream",
     "text": [
      "Processing pages:   9%|▉         | 1840/20713 [28:22<4:14:50,  1.23it/s]"
     ]
    },
    {
     "name": "stdout",
     "output_type": "stream",
     "text": [
      "Images for product '건강백서_포메라니안_2kg_2개4kg_강아지_애견사료' successfully processed.\n"
     ]
    },
    {
     "name": "stderr",
     "output_type": "stream",
     "text": [
      "Processing pages:   9%|▉         | 1842/20713 [28:23<4:34:43,  1.14it/s]"
     ]
    },
    {
     "name": "stdout",
     "output_type": "stream",
     "text": [
      "Images for product '도그랑_강아지_애견_사료_클래식_5kg' successfully processed.\n"
     ]
    },
    {
     "name": "stderr",
     "output_type": "stream",
     "text": [
      "Processing pages:   9%|▉         | 1843/20713 [28:24<4:36:35,  1.14it/s]"
     ]
    },
    {
     "name": "stdout",
     "output_type": "stream",
     "text": [
      "Images for product '오리젠_독_강아지_사료_오리지널_2kg천연개껌_2p' successfully processed.\n"
     ]
    },
    {
     "name": "stderr",
     "output_type": "stream",
     "text": [
      "Processing pages:   9%|▉         | 1845/20713 [28:26<4:50:35,  1.08it/s]"
     ]
    },
    {
     "name": "stdout",
     "output_type": "stream",
     "text": [
      "Images for product '로얄캐닌_사료샘플50g' successfully processed.\n"
     ]
    },
    {
     "name": "stderr",
     "output_type": "stream",
     "text": [
      "Processing pages:   9%|▉         | 1850/20713 [28:30<4:13:32,  1.24it/s]"
     ]
    },
    {
     "name": "stdout",
     "output_type": "stream",
     "text": [
      "Images for product '10_시그니처바이_aa_aa_스틱_대용량_고양이_캣_반려묘_30개입_식욕_촉진' successfully processed.\n"
     ]
    },
    {
     "name": "stderr",
     "output_type": "stream",
     "text": [
      "Processing pages:   9%|▉         | 1853/20713 [28:33<4:17:14,  1.22it/s]"
     ]
    },
    {
     "name": "stdout",
     "output_type": "stream",
     "text": [
      "Images for product '지위픽_캣_고양이_주식캔_프로비넌스_습식사료_하우라키_플레인즈_85g' successfully processed.\n"
     ]
    },
    {
     "name": "stderr",
     "output_type": "stream",
     "text": [
      "Processing pages:   9%|▉         | 1858/20713 [28:37<4:23:12,  1.19it/s]"
     ]
    },
    {
     "name": "stdout",
     "output_type": "stream",
     "text": [
      "Images for product '아침애_동애등에사료_1' successfully processed.\n"
     ]
    },
    {
     "name": "stderr",
     "output_type": "stream",
     "text": [
      "Processing pages:   9%|▉         | 1865/20713 [28:43<4:12:32,  1.24it/s]"
     ]
    },
    {
     "name": "stdout",
     "output_type": "stream",
     "text": [
      "Images for product '노스웨스트_동결건조사료_너겟_치킨연어_793g' successfully processed.\n"
     ]
    },
    {
     "name": "stderr",
     "output_type": "stream",
     "text": [
      "Processing pages:   9%|▉         | 1866/20713 [28:44<4:09:52,  1.26it/s]"
     ]
    },
    {
     "name": "stdout",
     "output_type": "stream",
     "text": [
      "Images for product '도비_진_애견사료_5kg_x_2팩__코스트코' successfully processed.\n",
      "Images for product '건강백서_건강한관절_10' successfully processed.\n",
      "Images for product '로얄캐닌_미디움_퍼피_중형견_면역증진_강아지_사료_10kg' successfully processed.\n"
     ]
    },
    {
     "name": "stderr",
     "output_type": "stream",
     "text": [
      "Processing pages:   9%|▉         | 1867/20713 [28:45<4:36:31,  1.14it/s]"
     ]
    },
    {
     "name": "stdout",
     "output_type": "stream",
     "text": [
      "Images for product '로얄캐닌_독_세타이어티_스몰독_3kg' successfully processed.\n",
      "Images for product '로얄캐닌_캣_덴탈오랄케어_1' successfully processed.\n",
      "Images for product '로얄캐닌_독_카디악_2kg_심장_처방사료' successfully processed.\n"
     ]
    },
    {
     "name": "stderr",
     "output_type": "stream",
     "text": [
      "Processing pages:   9%|▉         | 1868/20713 [28:46<5:06:07,  1.03it/s]"
     ]
    },
    {
     "name": "stdout",
     "output_type": "stream",
     "text": [
      "Images for product '아침애_캐롭사료1' successfully processed.\n",
      "Images for product '천하제일사료_굿보이센티넬_15kg_개사료_육성견_활동견' successfully processed.\n"
     ]
    },
    {
     "name": "stderr",
     "output_type": "stream",
     "text": [
      "Processing pages:   9%|▉         | 1869/20713 [28:47<4:56:12,  1.06it/s]"
     ]
    },
    {
     "name": "stdout",
     "output_type": "stream",
     "text": [
      "Images for product '네츄럴코어_에코4_체중관리_유기농_다이어트사료_6kg' successfully processed.\n",
      "Images for product '네츄럴코어_센시티브케어_베지_사료_1' successfully processed.\n",
      "Images for product '아침애_한돈사료1' successfully processed.\n"
     ]
    },
    {
     "name": "stderr",
     "output_type": "stream",
     "text": [
      "Processing pages:   9%|▉         | 1870/20713 [28:48<4:54:31,  1.07it/s]"
     ]
    },
    {
     "name": "stdout",
     "output_type": "stream",
     "text": [
      "Images for product '더리얼_강아지_사료_대용량_5' successfully processed.\n"
     ]
    },
    {
     "name": "stderr",
     "output_type": "stream",
     "text": [
      "Processing pages:   9%|▉         | 1871/20713 [28:49<4:45:24,  1.10it/s]"
     ]
    },
    {
     "name": "stdout",
     "output_type": "stream",
     "text": [
      "Images for product 'Natural_Balance_내츄럴발란스_오리지날_울트라_고양이_사료_2' successfully processed.\n"
     ]
    },
    {
     "name": "stderr",
     "output_type": "stream",
     "text": [
      "Processing pages:   9%|▉         | 1896/20713 [29:09<4:18:45,  1.21it/s]"
     ]
    },
    {
     "name": "stdout",
     "output_type": "stream",
     "text": [
      "Images for product '내추럴발란스_고양이_사료_샘플' successfully processed.\n"
     ]
    },
    {
     "name": "stderr",
     "output_type": "stream",
     "text": [
      "Processing pages:   9%|▉         | 1901/20713 [29:14<4:12:24,  1.24it/s]"
     ]
    },
    {
     "name": "stdout",
     "output_type": "stream",
     "text": [
      "Images for product '뉴웨이브_홀리스틱_오가닉98_강아지사료_4kg' successfully processed.\n"
     ]
    },
    {
     "name": "stderr",
     "output_type": "stream",
     "text": [
      "Processing pages:   9%|▉         | 1902/20713 [29:14<4:17:04,  1.22it/s]"
     ]
    },
    {
     "name": "stdout",
     "output_type": "stream",
     "text": [
      "Images for product '로얄캐닌_독_강아지_캣_고양이_리커버리_캔_195g' successfully processed.\n"
     ]
    },
    {
     "name": "stderr",
     "output_type": "stream",
     "text": [
      "Processing pages:   9%|▉         | 1903/20713 [29:15<4:03:33,  1.29it/s]"
     ]
    },
    {
     "name": "stdout",
     "output_type": "stream",
     "text": [
      "Images for product '어나더베이비_고양이_자연화식_75g_6팩' successfully processed.\n",
      "Images for product '소형견_강아지_다이어트_사료_웰니스_코어_헬시웨이트_1' successfully processed.\n",
      "Images for product '더텐_올인원_오븐베이크_피부_눈물_알러지_케어_체중_소프트_사료_1' successfully processed.\n",
      "Images for product '로얄캐닌_고양이사료_캣_피트_4kg' successfully processed.\n"
     ]
    },
    {
     "name": "stderr",
     "output_type": "stream",
     "text": [
      "Processing pages:   9%|▉         | 1905/20713 [29:17<4:11:02,  1.25it/s]"
     ]
    },
    {
     "name": "stdout",
     "output_type": "stream",
     "text": [
      "Images for product '베네m50_닭_연어_10kg_진돗개_리트리버_사료' successfully processed.\n",
      "Images for product '고_LID_연어_스몰브리드_레시피_강아지_사료_1' successfully processed.\n"
     ]
    },
    {
     "name": "stderr",
     "output_type": "stream",
     "text": [
      "Processing pages:   9%|▉         | 1906/20713 [29:18<4:26:58,  1.17it/s]"
     ]
    },
    {
     "name": "stdout",
     "output_type": "stream",
     "text": [
      "Images for product '로얄캐닌_캣_유리너리케어_400g_고양이_사료' successfully processed.\n",
      "Images for product '벳스크립션_시니어_12_12kg_300g_x_4팩_소프트_사료_202405' successfully processed.\n",
      "Images for product '로얄캐닌_키튼_고양이사료_2kg' successfully processed.\n"
     ]
    },
    {
     "name": "stderr",
     "output_type": "stream",
     "text": [
      "Processing pages:   9%|▉         | 1910/20713 [29:21<4:09:11,  1.26it/s]"
     ]
    },
    {
     "name": "stdout",
     "output_type": "stream",
     "text": [
      "Images for product '프렌치불독사료_시바견사료_중형견사료_6세_6kg' successfully processed.\n"
     ]
    },
    {
     "name": "stderr",
     "output_type": "stream",
     "text": [
      "Processing pages:   9%|▉         | 1920/20713 [29:30<4:21:21,  1.20it/s]"
     ]
    },
    {
     "name": "stdout",
     "output_type": "stream",
     "text": [
      "Images for product '브릿_프레쉬_생육사료_피트슬림_칠면조_2' successfully processed.\n"
     ]
    },
    {
     "name": "stderr",
     "output_type": "stream",
     "text": [
      "Processing pages:   9%|▉         | 1942/20713 [29:50<4:21:49,  1.19it/s]"
     ]
    },
    {
     "name": "stdout",
     "output_type": "stream",
     "text": [
      "Images for product '대형견사료대용량사료20kgX프라이드' successfully processed.\n",
      "Images for product '로얄캐닌_고양이사료_파우치_라이트_웨이트__로프_85g낱개' successfully processed.\n",
      "Images for product '더독_닥터소프트_명작__하이퍼알러지_시그니처__소프트사료_샘플_200g' successfully processed.\n"
     ]
    },
    {
     "name": "stderr",
     "output_type": "stream",
     "text": [
      "Processing pages:   9%|▉         | 1944/20713 [29:52<4:48:18,  1.09it/s]"
     ]
    },
    {
     "name": "stdout",
     "output_type": "stream",
     "text": [
      "Images for product '무마진_소프트_반습식_사료_연어_황태_1kg' successfully processed.\n",
      "Images for product '로얄캐닌_유리너리_케어_그레이비_파우치_85g_습식_고양이_사료' successfully processed.\n"
     ]
    },
    {
     "name": "stderr",
     "output_type": "stream",
     "text": [
      "Processing pages:   9%|▉         | 1947/20713 [29:54<4:30:46,  1.16it/s]"
     ]
    },
    {
     "name": "stdout",
     "output_type": "stream",
     "text": [
      "Images for product '힐스_고양이사료_어덜트_헤어볼컨트롤_라이트_3' successfully processed.\n",
      "Images for product '도그랑_진도_골드_15kg_대용량_기호성_강아지_사료' successfully processed.\n"
     ]
    },
    {
     "name": "stderr",
     "output_type": "stream",
     "text": [
      "Processing pages:   9%|▉         | 1948/20713 [29:55<4:25:20,  1.18it/s]"
     ]
    },
    {
     "name": "stdout",
     "output_type": "stream",
     "text": [
      "Images for product '하이독_케어브이_알러프_스킨_1kg_피부_알러지_처방식_동물병원_기호성좋은_화식사료' successfully processed.\n"
     ]
    },
    {
     "name": "stderr",
     "output_type": "stream",
     "text": [
      "Processing pages:   9%|▉         | 1949/20713 [29:56<4:09:27,  1.25it/s]"
     ]
    },
    {
     "name": "stdout",
     "output_type": "stream",
     "text": [
      "Images for product '로얄캐닌_고양이_캣_레날_셀렉트_2kg_처방식_처방사료' successfully processed.\n"
     ]
    },
    {
     "name": "stderr",
     "output_type": "stream",
     "text": [
      "Processing pages:   9%|▉         | 1952/20713 [29:58<4:24:26,  1.18it/s]"
     ]
    },
    {
     "name": "stdout",
     "output_type": "stream",
     "text": [
      "Images for product '웰스비_그레인프리_강아지사료_샘플_200g' successfully processed.\n",
      "Images for product '로얄캐닌_고양이_사료_덴탈_케어_오랄_케어_3' successfully processed.\n",
      "Images for product '오리젠_퍼피_독_강아지_사료_2kg' successfully processed.\n"
     ]
    },
    {
     "name": "stderr",
     "output_type": "stream",
     "text": [
      "Processing pages:   9%|▉         | 1956/20713 [30:02<4:21:45,  1.19it/s]"
     ]
    },
    {
     "name": "stdout",
     "output_type": "stream",
     "text": [
      "Images for product '강아지사료_눈물_알러지_베네핏_싱글프로틴_3' successfully processed.\n"
     ]
    },
    {
     "name": "stderr",
     "output_type": "stream",
     "text": [
      "Processing pages:  10%|▉         | 1986/20713 [30:28<4:14:09,  1.23it/s]"
     ]
    },
    {
     "name": "stdout",
     "output_type": "stream",
     "text": [
      "Images for product '프로베스트_캣_고양이_사료_2kg' successfully processed.\n",
      "Images for product '베스트브리드_홀리스틱_캣_다이어트_전연령_1' successfully processed.\n"
     ]
    },
    {
     "name": "stderr",
     "output_type": "stream",
     "text": [
      "Processing pages:  10%|▉         | 1988/20713 [30:30<4:28:33,  1.16it/s]"
     ]
    },
    {
     "name": "stdout",
     "output_type": "stream",
     "text": [
      "Images for product '탐사_6free_강아지_사료_연어_레시피' successfully processed.\n",
      "Images for product '웰츠_독_저지방_다이어트_강아지_사료_2' successfully processed.\n"
     ]
    },
    {
     "name": "stderr",
     "output_type": "stream",
     "text": [
      "Processing pages:  10%|▉         | 1990/20713 [30:32<4:25:52,  1.17it/s]"
     ]
    },
    {
     "name": "stdout",
     "output_type": "stream",
     "text": [
      "Images for product '피니키_가수분해_강아지사료_양고기_35g' successfully processed.\n",
      "Images for product '나우_어덜트_캣_대용량_고양이사료_7' successfully processed.\n",
      "Images for product '요라_스몰브리드_2' successfully processed.\n"
     ]
    },
    {
     "name": "stderr",
     "output_type": "stream",
     "text": [
      "Processing pages:  10%|▉         | 1991/20713 [30:32<4:21:33,  1.19it/s]"
     ]
    },
    {
     "name": "stdout",
     "output_type": "stream",
     "text": [
      "Images for product 'Herz_허즈_알러지눈물_사료_100g' successfully processed.\n",
      "Images for product '아카나_사료_라이트앤피트_6kg' successfully processed.\n"
     ]
    },
    {
     "name": "stderr",
     "output_type": "stream",
     "text": [
      "Processing pages:  10%|▉         | 1993/20713 [30:34<4:51:38,  1.07it/s]"
     ]
    },
    {
     "name": "stdout",
     "output_type": "stream",
     "text": [
      "Images for product '힐스_강아지사료_퍼피_스몰포_1' successfully processed.\n"
     ]
    },
    {
     "name": "stderr",
     "output_type": "stream",
     "text": [
      "Processing pages:  10%|▉         | 1994/20713 [30:35<4:34:47,  1.14it/s]"
     ]
    },
    {
     "name": "stdout",
     "output_type": "stream",
     "text": [
      "Images for product '힐스_고양이사료_어덜트_7_헤어볼컨트롤_1' successfully processed.\n"
     ]
    },
    {
     "name": "stderr",
     "output_type": "stream",
     "text": [
      "Processing pages:  10%|▉         | 1995/20713 [30:36<4:23:01,  1.19it/s]"
     ]
    },
    {
     "name": "stdout",
     "output_type": "stream",
     "text": [
      "Images for product '웰스비_어덜트_2' successfully processed.\n"
     ]
    },
    {
     "name": "stderr",
     "output_type": "stream",
     "text": [
      "Processing pages:  10%|▉         | 1997/20713 [30:37<4:06:39,  1.26it/s]"
     ]
    },
    {
     "name": "stdout",
     "output_type": "stream",
     "text": [
      "Images for product '팬시피스트_화이트라벨_고양이_주식캔_간식캔_습식사료_그레이비_치킨_85g' successfully processed.\n"
     ]
    },
    {
     "name": "stderr",
     "output_type": "stream",
     "text": [
      "Processing pages:  10%|▉         | 2031/20713 [31:05<3:56:41,  1.32it/s]"
     ]
    },
    {
     "name": "stdout",
     "output_type": "stream",
     "text": [
      "Images for product '밥이보약_DOG_알맞은_체중_3' successfully processed.\n"
     ]
    },
    {
     "name": "stderr",
     "output_type": "stream",
     "text": [
      "Processing pages:  10%|▉         | 2032/20713 [31:06<4:08:39,  1.25it/s]"
     ]
    },
    {
     "name": "stdout",
     "output_type": "stream",
     "text": [
      "Images for product '고양이헤어볼_저알러지_그린벨씨푸드인도어_고양이사료5kg_30년수의사레시피' successfully processed.\n",
      "Images for product '아루바_습식_사료_파우치_100g_칠면조귀리아티초크' successfully processed.\n"
     ]
    },
    {
     "name": "stderr",
     "output_type": "stream",
     "text": [
      "Processing pages:  10%|▉         | 2033/20713 [31:22<27:30:15,  5.30s/it]"
     ]
    },
    {
     "name": "stdout",
     "output_type": "stream",
     "text": [
      "Images for product '청담사료_5kg_지아이프로바이오틱스' successfully processed.\n",
      "Images for product '카카토_참치무스_수제캔_고양이_습식사료_40g' successfully processed.\n"
     ]
    },
    {
     "name": "stderr",
     "output_type": "stream",
     "text": [
      "Processing pages:  10%|▉         | 2034/20713 [31:23<20:45:40,  4.00s/it]"
     ]
    },
    {
     "name": "stdout",
     "output_type": "stream",
     "text": [
      "Images for product '씽크라이크펫_강아지_화식_자연식_수제_사료_90g_4종소닭오리양_16팩' successfully processed.\n"
     ]
    },
    {
     "name": "stderr",
     "output_type": "stream",
     "text": [
      "Processing pages:  10%|▉         | 2035/20713 [31:24<16:15:08,  3.13s/it]"
     ]
    },
    {
     "name": "stdout",
     "output_type": "stream",
     "text": [
      "Images for product '톰피_프론티어_강아지_동결건조_사료_비프_900g' successfully processed.\n",
      "Images for product '뉴트리소스_고양이_캣_사료_그레인프리_치킨_라이스_3kg' successfully processed.\n",
      "Images for product '뉴트리나_건강백서_푸들_6kg_애견사료_강아지사료' successfully processed.\n",
      "Images for product '맥아담스_방목_홀치킨사료_중형견용_5kg' successfully processed.\n",
      "Images for product '아침애_수제사료_1등급한우_200g' successfully processed.\n"
     ]
    },
    {
     "name": "stderr",
     "output_type": "stream",
     "text": [
      "Processing pages:  10%|▉         | 2037/20713 [31:26<10:24:58,  2.01s/it]"
     ]
    },
    {
     "name": "stdout",
     "output_type": "stream",
     "text": [
      "Images for product 'NOW_나우사료_어덜트_2' successfully processed.\n",
      "Images for product '나우_그레인프리_스몰브리드_어덜트_강아지사료_1' successfully processed.\n"
     ]
    },
    {
     "name": "stderr",
     "output_type": "stream",
     "text": [
      "Processing pages:  10%|▉         | 2042/20713 [31:30<5:29:23,  1.06s/it] "
     ]
    },
    {
     "name": "stdout",
     "output_type": "stream",
     "text": [
      "Images for product '내추럴발란스_강아지_오리지날_울트라_닭보리_포뮬라_사료_13' successfully processed.\n"
     ]
    },
    {
     "name": "stderr",
     "output_type": "stream",
     "text": [
      "Processing pages:  10%|▉         | 2053/20713 [31:40<4:29:51,  1.15it/s]"
     ]
    },
    {
     "name": "stdout",
     "output_type": "stream",
     "text": [
      "Images for product '더리얼_그레인프리_오븐베이크드_소고기_어덜트_1' successfully processed.\n"
     ]
    },
    {
     "name": "stderr",
     "output_type": "stream",
     "text": [
      "Processing pages:  10%|▉         | 2054/20713 [31:41<4:39:58,  1.11it/s]"
     ]
    },
    {
     "name": "stdout",
     "output_type": "stream",
     "text": [
      "Images for product '힐스_독_처방식_메타볼릭_3' successfully processed.\n"
     ]
    },
    {
     "name": "stderr",
     "output_type": "stream",
     "text": [
      "Processing pages:  10%|▉         | 2058/20713 [31:44<4:45:41,  1.09it/s]"
     ]
    },
    {
     "name": "stdout",
     "output_type": "stream",
     "text": [
      "Images for product '닥터그린벨캣피부요로1' successfully processed.\n"
     ]
    },
    {
     "name": "stderr",
     "output_type": "stream",
     "text": [
      "Processing pages:  10%|█         | 2074/20713 [31:59<4:11:48,  1.23it/s]"
     ]
    },
    {
     "name": "stdout",
     "output_type": "stream",
     "text": [
      "Images for product '선데이펫_젠틀베이크_그레인프리_사료_소고기_1' successfully processed.\n"
     ]
    },
    {
     "name": "stderr",
     "output_type": "stream",
     "text": [
      "Processing pages:  10%|█         | 2077/20713 [32:01<3:50:33,  1.35it/s]"
     ]
    },
    {
     "name": "stdout",
     "output_type": "stream",
     "text": [
      "Images for product '더마독_피부_모질_강아지_건강사료_눈물자국_2kg' successfully processed.\n"
     ]
    },
    {
     "name": "stderr",
     "output_type": "stream",
     "text": [
      "Processing pages:  10%|█         | 2083/20713 [32:06<3:54:15,  1.33it/s]"
     ]
    },
    {
     "name": "stdout",
     "output_type": "stream",
     "text": [
      "Images for product '뉴트리나_리얼오플러스_인도어_2' successfully processed.\n",
      "Images for product '토우_사료_강아지사료_1' successfully processed.\n",
      "Images for product '오리젠_강아지_사료_시니어_독_6kg야채스틱_1p' successfully processed.\n",
      "Images for product '인디고7_세븐_오리치킨_1' successfully processed.\n"
     ]
    },
    {
     "name": "stderr",
     "output_type": "stream",
     "text": [
      "Processing pages:  10%|█         | 2085/20713 [32:07<4:07:18,  1.26it/s]"
     ]
    },
    {
     "name": "stdout",
     "output_type": "stream",
     "text": [
      "Images for product '오픈팜_스튜_강아지_습식_사료_연어_354g' successfully processed.\n"
     ]
    },
    {
     "name": "stderr",
     "output_type": "stream",
     "text": [
      "Processing pages:  10%|█         | 2090/20713 [32:12<4:15:37,  1.21it/s]"
     ]
    },
    {
     "name": "stdout",
     "output_type": "stream",
     "text": [
      "Images for product '오리젠_강아지_사료_피트앤트림_독_11' successfully processed.\n"
     ]
    },
    {
     "name": "stderr",
     "output_type": "stream",
     "text": [
      "Processing pages:  10%|█         | 2094/20713 [32:15<4:33:37,  1.13it/s]"
     ]
    },
    {
     "name": "stdout",
     "output_type": "stream",
     "text": [
      "Images for product '참좋은_황태_사료_연어_1kg_강아지_소프트사료' successfully processed.\n"
     ]
    },
    {
     "name": "stderr",
     "output_type": "stream",
     "text": [
      "Processing pages:  10%|█         | 2095/20713 [32:16<4:24:41,  1.17it/s]"
     ]
    },
    {
     "name": "stdout",
     "output_type": "stream",
     "text": [
      "Images for product '로얄캐닌_마더앤베이비_캣_습식사료_100g' successfully processed.\n"
     ]
    },
    {
     "name": "stderr",
     "output_type": "stream",
     "text": [
      "Processing pages:  10%|█         | 2099/20713 [32:20<4:18:08,  1.20it/s]"
     ]
    },
    {
     "name": "stdout",
     "output_type": "stream",
     "text": [
      "Images for product '로얄캐닌_고양이_인도어_7_1' successfully processed.\n"
     ]
    },
    {
     "name": "stderr",
     "output_type": "stream",
     "text": [
      "Processing pages:  10%|█         | 2103/20713 [32:23<4:24:46,  1.17it/s]"
     ]
    },
    {
     "name": "stdout",
     "output_type": "stream",
     "text": [
      "Images for product '위시본_캣_닭_30g_샘플사료' successfully processed.\n"
     ]
    },
    {
     "name": "stderr",
     "output_type": "stream",
     "text": [
      "Processing pages:  10%|█         | 2104/20713 [32:24<4:18:43,  1.20it/s]"
     ]
    },
    {
     "name": "stdout",
     "output_type": "stream",
     "text": [
      "Images for product '프로베스트_캣_20kg_길_고양이_전연령_대용량_사료' successfully processed.\n"
     ]
    },
    {
     "name": "stderr",
     "output_type": "stream",
     "text": [
      "Processing pages:  10%|█         | 2105/20713 [32:25<4:14:39,  1.22it/s]"
     ]
    },
    {
     "name": "stdout",
     "output_type": "stream",
     "text": [
      "Images for product '대한사료_도그라인_양고기특수견_15kg' successfully processed.\n"
     ]
    },
    {
     "name": "stderr",
     "output_type": "stream",
     "text": [
      "Processing pages:  10%|█         | 2106/20713 [32:26<4:43:57,  1.09it/s]"
     ]
    },
    {
     "name": "stdout",
     "output_type": "stream",
     "text": [
      "Images for product '내추럴발란스_야채_알러지_포뮬라_강아지_반려견_사료_작은알_1' successfully processed.\n"
     ]
    },
    {
     "name": "stderr",
     "output_type": "stream",
     "text": [
      "Processing pages:  10%|█         | 2121/20713 [32:38<4:22:20,  1.18it/s]"
     ]
    },
    {
     "name": "stdout",
     "output_type": "stream",
     "text": [
      "Images for product '힐스_고양이사료_어덜트1' successfully processed.\n"
     ]
    },
    {
     "name": "stderr",
     "output_type": "stream",
     "text": [
      "Processing pages:  10%|█         | 2122/20713 [32:39<4:48:09,  1.08it/s]"
     ]
    },
    {
     "name": "stdout",
     "output_type": "stream",
     "text": [
      "Images for product '노령견_주식캔_사료_애견비책_햇밥_연어_120g_6개' successfully processed.\n",
      "Images for product '힐스_독_강아지_GI_Biome_1' successfully processed.\n"
     ]
    },
    {
     "name": "stderr",
     "output_type": "stream",
     "text": [
      "Processing pages:  10%|█         | 2123/20713 [32:41<5:48:38,  1.13s/it]"
     ]
    },
    {
     "name": "stdout",
     "output_type": "stream",
     "text": [
      "Images for product '퓨어메라_강아지_뉴트리_올인원_케어_사료_1' successfully processed.\n"
     ]
    },
    {
     "name": "stderr",
     "output_type": "stream",
     "text": [
      "Processing pages:  10%|█         | 2124/20713 [32:41<5:27:44,  1.06s/it]"
     ]
    },
    {
     "name": "stdout",
     "output_type": "stream",
     "text": [
      "Images for product '더리얼_그레인프리_오븐베이크드_연어_어덜트_1' successfully processed.\n"
     ]
    },
    {
     "name": "stderr",
     "output_type": "stream",
     "text": [
      "Processing pages:  10%|█         | 2125/20713 [32:42<5:04:41,  1.02it/s]"
     ]
    },
    {
     "name": "stdout",
     "output_type": "stream",
     "text": [
      "Images for product '세라피드_그레인프리_체중관리_고양이사료_7kg' successfully processed.\n",
      "Images for product '인섹트도그_미니_2kg_밀웜단백질_저알러지_그레인프리_강아지사료' successfully processed.\n"
     ]
    },
    {
     "name": "stderr",
     "output_type": "stream",
     "text": [
      "Processing pages:  10%|█         | 2127/20713 [32:44<4:35:32,  1.12it/s]"
     ]
    },
    {
     "name": "stdout",
     "output_type": "stream",
     "text": [
      "Images for product '출시기념11행사_브리젠_어덜트_캣_스페인_고양이사료_치킨_1' successfully processed.\n",
      "Images for product '후코051_푸들_말티즈_후코이단_사료_소고기_면역_눈물케어_사료_1' successfully processed.\n"
     ]
    },
    {
     "name": "stderr",
     "output_type": "stream",
     "text": [
      "Processing pages:  10%|█         | 2130/20713 [32:46<4:16:12,  1.21it/s]"
     ]
    },
    {
     "name": "stdout",
     "output_type": "stream",
     "text": [
      "Images for product '로얄캐닌_캣_키튼_고양이_사료_2kg' successfully processed.\n"
     ]
    },
    {
     "name": "stderr",
     "output_type": "stream",
     "text": [
      "Processing pages:  10%|█         | 2138/20713 [32:53<4:12:20,  1.23it/s]"
     ]
    },
    {
     "name": "stdout",
     "output_type": "stream",
     "text": [
      "Images for product '집사펫__러블_빅스비_LID_포크_18kg_돼지사료_개봉스티커' successfully processed.\n"
     ]
    },
    {
     "name": "stderr",
     "output_type": "stream",
     "text": [
      "Processing pages:  10%|█         | 2141/20713 [32:55<4:04:21,  1.27it/s]"
     ]
    },
    {
     "name": "stdout",
     "output_type": "stream",
     "text": [
      "Images for product '더주오_강아지_사료_주니어_사료_대용량_9' successfully processed.\n"
     ]
    },
    {
     "name": "stderr",
     "output_type": "stream",
     "text": [
      "Processing pages:  10%|█         | 2145/20713 [32:59<4:11:37,  1.23it/s]"
     ]
    },
    {
     "name": "stdout",
     "output_type": "stream",
     "text": [
      "Images for product '디어니스트키친_사료_디하이드레이티드_그레인프리_터키_레시피_907g_칠면조' successfully processed.\n"
     ]
    },
    {
     "name": "stderr",
     "output_type": "stream",
     "text": [
      "Processing pages:  10%|█         | 2152/20713 [33:05<5:10:22,  1.00s/it]"
     ]
    },
    {
     "name": "stdout",
     "output_type": "stream",
     "text": [
      "Images for product '아라톤_어덜트살몬_고양이_사료_1' successfully processed.\n"
     ]
    },
    {
     "name": "stderr",
     "output_type": "stream",
     "text": [
      "Processing pages:  10%|█         | 2153/20713 [33:06<4:54:47,  1.05it/s]"
     ]
    },
    {
     "name": "stdout",
     "output_type": "stream",
     "text": [
      "Images for product '주트립_조인트_컨트롤_어덜트_200g1부터_6세관절_건강에_좋은_강아지_기능성사료' successfully processed.\n",
      "Images for product '웰니스_컴플리트_헬스_스몰브리드_헬시웨이트_강아지_다이어트_사료_5' successfully processed.\n",
      "Images for product '프로베스트_캣_고양이_사료_7' successfully processed.\n"
     ]
    },
    {
     "name": "stderr",
     "output_type": "stream",
     "text": [
      "Processing pages:  10%|█         | 2154/20713 [33:07<4:58:20,  1.04it/s]"
     ]
    },
    {
     "name": "stdout",
     "output_type": "stream",
     "text": [
      "Images for product '내추럴발란스_울트라_그레인프리_인도어_캣_1' successfully processed.\n"
     ]
    },
    {
     "name": "stderr",
     "output_type": "stream",
     "text": [
      "Processing pages:  10%|█         | 2155/20713 [33:08<4:55:35,  1.05it/s]"
     ]
    },
    {
     "name": "stdout",
     "output_type": "stream",
     "text": [
      "Images for product '헬시쇼어스_고양이_주식캔_습식사료_100g_모음' successfully processed.\n",
      "Images for product '헤일로_캣_고양이_습식사료_주식캔_살몬스튜_85g' successfully processed.\n",
      "Images for product '브릿_프레쉬_생육사료_치킨_그레이트라이프_2' successfully processed.\n"
     ]
    },
    {
     "name": "stderr",
     "output_type": "stream",
     "text": [
      "Processing pages:  10%|█         | 2157/20713 [33:09<4:30:42,  1.14it/s]"
     ]
    },
    {
     "name": "stdout",
     "output_type": "stream",
     "text": [
      "Images for product '본아페티_플러스_강아지_연어_저알러지_눈물_자국_프리미엄_사료_샘플_100G' successfully processed.\n"
     ]
    },
    {
     "name": "stderr",
     "output_type": "stream",
     "text": [
      "Processing pages:  10%|█         | 2158/20713 [33:10<4:43:25,  1.09it/s]"
     ]
    },
    {
     "name": "stdout",
     "output_type": "stream",
     "text": [
      "Images for product '한끼뚝딱_클래식_황태와_양고기_강아지사료_1kg' successfully processed.\n"
     ]
    },
    {
     "name": "stderr",
     "output_type": "stream",
     "text": [
      "Processing pages:  10%|█         | 2159/20713 [33:11<4:28:21,  1.15it/s]"
     ]
    },
    {
     "name": "stdout",
     "output_type": "stream",
     "text": [
      "Images for product '11_브리젠_고양이_사료_어덜트_캣_치킨_1' successfully processed.\n"
     ]
    },
    {
     "name": "stderr",
     "output_type": "stream",
     "text": [
      "Processing pages:  10%|█         | 2160/20713 [33:12<4:15:00,  1.21it/s]"
     ]
    },
    {
     "name": "stdout",
     "output_type": "stream",
     "text": [
      "Images for product '스페시픽_FKD_캣_심장_신장_2kg_고양이사료' successfully processed.\n",
      "Images for product '피니키_가수분해_하이포알러지_강아지사료_연어_7kg_쿠폰할인' successfully processed.\n"
     ]
    },
    {
     "name": "stderr",
     "output_type": "stream",
     "text": [
      "Processing pages:  11%|█         | 2189/20713 [33:36<4:00:01,  1.29it/s]"
     ]
    },
    {
     "name": "stdout",
     "output_type": "stream",
     "text": [
      "Images for product '퓨리나_팬시피스트_엘레강트_메들리_85g_플로렌틴_참치' successfully processed.\n"
     ]
    },
    {
     "name": "stderr",
     "output_type": "stream",
     "text": [
      "Processing pages:  11%|█         | 2193/20713 [33:39<3:59:03,  1.29it/s]"
     ]
    },
    {
     "name": "stdout",
     "output_type": "stream",
     "text": [
      "Images for product '아이누_사료_어덜트_연어감자_포뮬러_1' successfully processed.\n",
      "Images for product '유통기한24년6월9일_ANF_홀리스틱_연어_귀리_1' successfully processed.\n",
      "Images for product '내추럴발란스_울트라_프리미엄_닭고기연어_2' successfully processed.\n",
      "Images for product '로얄캐닌_미니_인도어_독_어덜트_3kg_1세이상_강아지_사료' successfully processed.\n"
     ]
    },
    {
     "name": "stderr",
     "output_type": "stream",
     "text": [
      "Processing pages:  11%|█         | 2194/20713 [33:40<4:05:30,  1.26it/s]"
     ]
    },
    {
     "name": "stdout",
     "output_type": "stream",
     "text": [
      "Images for product 'ANF_캣_식스_프리_플러스_웨이트_케어_40g_샘플사료' successfully processed.\n",
      "Images for product '스텔라앤츄이스_강아지사료샘플_치킨_스몰브리드_100g_전연령' successfully processed.\n",
      "Images for product '오늘출발_로얄캐닌_캣_가스트로_인테스티날_화이버_리스폰스2kg_파이버_고양이fiber' successfully processed.\n",
      "Images for product '힐스_강아지사료_어덜트_퍼펙트_다이제스천_연어_1' successfully processed.\n",
      "Images for product '강아지_수제간식_보양식_습식사료_화식사료_소고기화식_멍밥' successfully processed.\n"
     ]
    },
    {
     "name": "stderr",
     "output_type": "stream",
     "text": [
      "Processing pages:  11%|█         | 2196/20713 [33:42<4:22:17,  1.18it/s]"
     ]
    },
    {
     "name": "stdout",
     "output_type": "stream",
     "text": [
      "Images for product '도그랑_브론즈_5kg_강아지_사료' successfully processed.\n",
      "Images for product '로얄캐닌_푸들_어덜트_대용량_사료_7' successfully processed.\n",
      "Images for product '피쉬포독_화이트피쉬_어덜트_3kg_강아지_눈물사료' successfully processed.\n"
     ]
    },
    {
     "name": "stderr",
     "output_type": "stream",
     "text": [
      "Processing pages:  11%|█         | 2198/20713 [33:43<4:07:31,  1.25it/s]"
     ]
    },
    {
     "name": "stdout",
     "output_type": "stream",
     "text": [
      "Images for product '로얄캐닌_캣_레날스페셜Renal_Special_2kg_동물병원_처방식_사료' successfully processed.\n"
     ]
    },
    {
     "name": "stderr",
     "output_type": "stream",
     "text": [
      "Processing pages:  11%|█         | 2199/20713 [33:44<4:04:05,  1.26it/s]"
     ]
    },
    {
     "name": "stdout",
     "output_type": "stream",
     "text": [
      "Images for product '말티즈사료_포메라니안사료_웰나인독_연어_1kg_1' successfully processed.\n"
     ]
    },
    {
     "name": "stderr",
     "output_type": "stream",
     "text": [
      "Processing pages:  11%|█         | 2210/20713 [33:54<4:35:51,  1.12it/s]"
     ]
    },
    {
     "name": "stdout",
     "output_type": "stream",
     "text": [
      "Images for product '로얄캐닌_헤어볼_케어_400g_고양이사료' successfully processed.\n"
     ]
    },
    {
     "name": "stderr",
     "output_type": "stream",
     "text": [
      "Processing pages:  11%|█         | 2211/20713 [33:55<4:25:36,  1.16it/s]"
     ]
    },
    {
     "name": "stdout",
     "output_type": "stream",
     "text": [
      "Images for product '도그랑_브론즈_5kg_전연령_중소형견_강아지_사료' successfully processed.\n"
     ]
    },
    {
     "name": "stderr",
     "output_type": "stream",
     "text": [
      "Processing pages:  11%|█         | 2212/20713 [33:55<4:19:50,  1.19it/s]"
     ]
    },
    {
     "name": "stdout",
     "output_type": "stream",
     "text": [
      "Images for product '로얄캐닌_마더_앤_베이비캣_10kg_고양이사료' successfully processed.\n"
     ]
    },
    {
     "name": "stderr",
     "output_type": "stream",
     "text": [
      "Processing pages:  11%|█         | 2233/20713 [34:12<3:56:34,  1.30it/s]"
     ]
    },
    {
     "name": "stdout",
     "output_type": "stream",
     "text": [
      "Images for product '벨포아_란트굿_슈마우스_오리지널_빅바이트_2' successfully processed.\n"
     ]
    },
    {
     "name": "stderr",
     "output_type": "stream",
     "text": [
      "Processing pages:  11%|█         | 2234/20713 [34:13<4:12:19,  1.22it/s]"
     ]
    },
    {
     "name": "stdout",
     "output_type": "stream",
     "text": [
      "Images for product '카루_데일리_디쉬_칠면조_강아지스튜_354g_노령견_습식사료' successfully processed.\n"
     ]
    },
    {
     "name": "stderr",
     "output_type": "stream",
     "text": [
      "Processing pages:  11%|█         | 2236/20713 [34:15<4:01:44,  1.27it/s]"
     ]
    },
    {
     "name": "stdout",
     "output_type": "stream",
     "text": [
      "Images for product '닥터독_그레인프리_오리_사료_1' successfully processed.\n"
     ]
    },
    {
     "name": "stderr",
     "output_type": "stream",
     "text": [
      "Processing pages:  11%|█         | 2239/20713 [34:17<4:03:12,  1.27it/s]"
     ]
    },
    {
     "name": "stdout",
     "output_type": "stream",
     "text": [
      "Images for product '쿠쵸_어덜트_치킨_15kg_애견사료' successfully processed.\n"
     ]
    },
    {
     "name": "stderr",
     "output_type": "stream",
     "text": [
      "Processing pages:  11%|█         | 2243/20713 [34:20<4:14:19,  1.21it/s]"
     ]
    },
    {
     "name": "stdout",
     "output_type": "stream",
     "text": [
      "Images for product '로얄캐닌_캣_유리너리_모더레이트_칼로리_1' successfully processed.\n"
     ]
    },
    {
     "name": "stderr",
     "output_type": "stream",
     "text": [
      "Processing pages:  11%|█         | 2244/20713 [34:21<3:58:46,  1.29it/s]"
     ]
    },
    {
     "name": "stdout",
     "output_type": "stream",
     "text": [
      "Images for product '코스트코_커클랜드_고양이사료_11' successfully processed.\n"
     ]
    },
    {
     "name": "stderr",
     "output_type": "stream",
     "text": [
      "Processing pages:  11%|█         | 2247/20713 [34:23<4:00:46,  1.28it/s]"
     ]
    },
    {
     "name": "stdout",
     "output_type": "stream",
     "text": [
      "Images for product '대한사료_홈캣_10kg_고양이사료_길냥이사료_대용량' successfully processed.\n"
     ]
    },
    {
     "name": "stderr",
     "output_type": "stream",
     "text": [
      "Processing pages:  11%|█         | 2248/20713 [34:24<4:32:46,  1.13it/s]"
     ]
    },
    {
     "name": "stdout",
     "output_type": "stream",
     "text": [
      "Images for product '제니스_미니_작은입자_1' successfully processed.\n",
      "Images for product '닥터독_관절_사료1kg' successfully processed.\n"
     ]
    },
    {
     "name": "stderr",
     "output_type": "stream",
     "text": [
      "Processing pages:  11%|█         | 2249/20713 [34:25<4:19:44,  1.18it/s]"
     ]
    },
    {
     "name": "stdout",
     "output_type": "stream",
     "text": [
      "Images for product '피니키_가수분해_사료_유기농_2' successfully processed.\n",
      "Images for product '슈슈캣_5kg_고양이밥_대용량_고양이_사료' successfully processed.\n",
      "Images for product '펫컴_강아지사료_기호성_좋은_전연령_대용량_국산_사료_퍼피위너스5kg' successfully processed.\n"
     ]
    },
    {
     "name": "stderr",
     "output_type": "stream",
     "text": [
      "Processing pages:  11%|█         | 2250/20713 [34:26<4:33:53,  1.12it/s]"
     ]
    },
    {
     "name": "stdout",
     "output_type": "stream",
     "text": [
      "Images for product '반건조_사료_소프트밥_연어_3kg_반습식사료_11' successfully processed.\n",
      "Images for product '로얄캐닌_고양이사료_마더앤베이비캣_1' successfully processed.\n",
      "Images for product '로얄캐닌_캣_인도어_10kg' successfully processed.\n",
      "Images for product '프랑스_프레스티지_반려묘_사료_모음_6종_2kg' successfully processed.\n"
     ]
    },
    {
     "name": "stderr",
     "output_type": "stream",
     "text": [
      "Processing pages:  11%|█         | 2255/20713 [34:30<4:11:11,  1.22it/s]"
     ]
    },
    {
     "name": "stdout",
     "output_type": "stream",
     "text": [
      "Images for product '프로베스트_독_루키_강아지_5kg' successfully processed.\n"
     ]
    },
    {
     "name": "stderr",
     "output_type": "stream",
     "text": [
      "Processing pages:  11%|█         | 2256/20713 [34:31<4:09:39,  1.23it/s]"
     ]
    },
    {
     "name": "stdout",
     "output_type": "stream",
     "text": [
      "Images for product '로얄캐닌_캣_고양이_레날_스페셜_2kg_신부전_결석_관리_반려묘_처방_사료' successfully processed.\n"
     ]
    },
    {
     "name": "stderr",
     "output_type": "stream",
     "text": [
      "Processing pages:  11%|█         | 2257/20713 [34:32<4:01:49,  1.27it/s]"
     ]
    },
    {
     "name": "stdout",
     "output_type": "stream",
     "text": [
      "Images for product '네츄럴랩_케어1_고양이사료_장면역_4kg' successfully processed.\n"
     ]
    },
    {
     "name": "stderr",
     "output_type": "stream",
     "text": [
      "Processing pages:  11%|█         | 2279/20713 [34:52<4:31:37,  1.13it/s]"
     ]
    },
    {
     "name": "stdout",
     "output_type": "stream",
     "text": [
      "Images for product 'NOW_나우_캣_어덜트_36kg' successfully processed.\n"
     ]
    },
    {
     "name": "stderr",
     "output_type": "stream",
     "text": [
      "Processing pages:  11%|█         | 2281/20713 [34:54<4:24:21,  1.16it/s]"
     ]
    },
    {
     "name": "stdout",
     "output_type": "stream",
     "text": [
      "Images for product '밥이보약_CAT_빛나는_피모_2kg_고양이_사료' successfully processed.\n",
      "Images for product '200g_추가_선택_한끼뚝딱_국산_습식_황태와소고기_강아지사료_3kg200g' successfully processed.\n",
      "Images for product '화이트도그_센시티브케어_청어연어_1' successfully processed.\n"
     ]
    },
    {
     "name": "stderr",
     "output_type": "stream",
     "text": [
      "Processing pages:  11%|█         | 2282/20713 [34:55<4:25:59,  1.15it/s]"
     ]
    },
    {
     "name": "stdout",
     "output_type": "stream",
     "text": [
      "Images for product '사랑해마이캣_20kg_전연령_고양이사료_길냥이사료' successfully processed.\n",
      "Images for product '퓨어럭스_강아지_사료_샘플_약_150g스몰브리드' successfully processed.\n",
      "Images for product '그레인_프리_소형견_강아지_사료_1' successfully processed.\n"
     ]
    },
    {
     "name": "stderr",
     "output_type": "stream",
     "text": [
      "Processing pages:  11%|█         | 2283/20713 [34:56<4:20:04,  1.18it/s]"
     ]
    },
    {
     "name": "stdout",
     "output_type": "stream",
     "text": [
      "Images for product '힐스_강아지사료_어덜트_퍼펙트_다이제스천_스몰_바이트_1' successfully processed.\n"
     ]
    },
    {
     "name": "stderr",
     "output_type": "stream",
     "text": [
      "Processing pages:  11%|█         | 2284/20713 [34:56<4:15:34,  1.20it/s]"
     ]
    },
    {
     "name": "stdout",
     "output_type": "stream",
     "text": [
      "Images for product '위시본_독_그레인프리_식분증_도움_강아지_사료_연어_1' successfully processed.\n",
      "Images for product '나우_캣_고양이사료_어덜트_1' successfully processed.\n",
      "Images for product '로얄캐닌_가스트로인테스티널_로우펫_사료_LOW_FAT_1' successfully processed.\n",
      "Images for product '로얄캐닌_독_헤파틱_강아지_간질환_간부전_반려견_처방_사료_1' successfully processed.\n"
     ]
    },
    {
     "name": "stderr",
     "output_type": "stream",
     "text": [
      "Processing pages:  11%|█         | 2285/20713 [34:57<4:11:10,  1.22it/s]"
     ]
    },
    {
     "name": "stdout",
     "output_type": "stream",
     "text": [
      "Images for product '코스트코_내츄럴_코어_연어_대용량_가수분해_애견_사료_7kg_전연령' successfully processed.\n",
      "Images for product '뉴트리나_건강백서_말티즈_12kg__애견사료_소매_도매_유통' successfully processed.\n"
     ]
    },
    {
     "name": "stderr",
     "output_type": "stream",
     "text": [
      "Processing pages:  11%|█         | 2288/20713 [35:00<4:11:40,  1.22it/s]"
     ]
    },
    {
     "name": "stdout",
     "output_type": "stream",
     "text": [
      "Images for product '강아지_사료_샘플_포메라니안사료_비숑_눈물_노견_말티즈_푸들_올펫_연어_300g' successfully processed.\n"
     ]
    },
    {
     "name": "stderr",
     "output_type": "stream",
     "text": [
      "Processing pages:  11%|█         | 2310/20713 [35:19<4:25:37,  1.15it/s]"
     ]
    },
    {
     "name": "stdout",
     "output_type": "stream",
     "text": [
      "Images for product '비고앤세이지_로터스리프_고양이_다이어트_저지방_설사_알러지_사료_2kg' successfully processed.\n"
     ]
    },
    {
     "name": "stderr",
     "output_type": "stream",
     "text": [
      "Processing pages:  11%|█         | 2316/20713 [35:37<24:44:17,  4.84s/it]"
     ]
    },
    {
     "name": "stdout",
     "output_type": "stream",
     "text": [
      "Images for product '로얄캐닌_캣_가스트로_인테스티널_화이버_리스폰스_2kg' successfully processed.\n"
     ]
    },
    {
     "name": "stderr",
     "output_type": "stream",
     "text": [
      "Processing pages:  11%|█         | 2317/20713 [35:38<18:24:50,  3.60s/it]"
     ]
    },
    {
     "name": "stdout",
     "output_type": "stream",
     "text": [
      "Images for product '나우_강아지사료_어덜트_2' successfully processed.\n"
     ]
    },
    {
     "name": "stderr",
     "output_type": "stream",
     "text": [
      "Processing pages:  11%|█         | 2318/20713 [35:39<14:04:09,  2.75s/it]"
     ]
    },
    {
     "name": "stdout",
     "output_type": "stream",
     "text": [
      "Images for product '프로베스트_독_진도퍼피_8kg_진도개_대용량_아기_강아지사료' successfully processed.\n",
      "Images for product '고양이사료_팜스코_캣츠미5kg증정품_전연령_길냥이사료_대용량사료' successfully processed.\n",
      "Images for product '서울사료_파워특수견_15kg_개사료' successfully processed.\n"
     ]
    },
    {
     "name": "stderr",
     "output_type": "stream",
     "text": [
      "Processing pages:  11%|█         | 2319/20713 [35:40<12:05:32,  2.37s/it]"
     ]
    },
    {
     "name": "stdout",
     "output_type": "stream",
     "text": [
      "Images for product '에코6_살몬_10kg_연어_하이포알러제닉_관절_면역_눈물사료' successfully processed.\n",
      "Images for product '스맥_독_로푸드_연어_210g_디하이드레이티드_강아지_사료' successfully processed.\n",
      "Images for product '서울사료_나비랑_5kg' successfully processed.\n",
      "Images for product '미소_말랑말랑_요고소프트_강아지사료_전연령1' successfully processed.\n"
     ]
    },
    {
     "name": "stderr",
     "output_type": "stream",
     "text": [
      "Processing pages:  11%|█         | 2320/20713 [35:41<9:38:36,  1.89s/it] "
     ]
    },
    {
     "name": "stdout",
     "output_type": "stream",
     "text": [
      "Images for product '허즈_칠면조_908g_강아지_눈물_사료_알러지_알레르기_사료_대용량_모질_관절_Herz' successfully processed.\n"
     ]
    },
    {
     "name": "stderr",
     "output_type": "stream",
     "text": [
      "Processing pages:  11%|█         | 2321/20713 [35:42<7:56:07,  1.55s/it]"
     ]
    },
    {
     "name": "stdout",
     "output_type": "stream",
     "text": [
      "Images for product '정기배송_프로베스트_캣_그린_5kg_길고양이사료_간식캔_기획세트' successfully processed.\n",
      "Images for product '고스비_델리캣_파우치_치킨살몬_고양이_습식사료_70g' successfully processed.\n",
      "Images for product '로얄캐닌_고양이사료_파우치_라이트_웨이트__로프_85g낱개' successfully processed.\n"
     ]
    },
    {
     "name": "stderr",
     "output_type": "stream",
     "text": [
      "Processing pages:  11%|█         | 2322/20713 [35:43<6:52:32,  1.35s/it]"
     ]
    },
    {
     "name": "stdout",
     "output_type": "stream",
     "text": [
      "Images for product '맥아담스_방목_홀치킨과_연어_사료_중형견용_5kg' successfully processed.\n"
     ]
    },
    {
     "name": "stderr",
     "output_type": "stream",
     "text": [
      "Processing pages:  11%|█         | 2323/20713 [35:43<5:57:31,  1.17s/it]"
     ]
    },
    {
     "name": "stdout",
     "output_type": "stream",
     "text": [
      "Images for product '워프_와일드베니슨_야생_사슴_동결건조_전연령_사료_280g' successfully processed.\n"
     ]
    },
    {
     "name": "stderr",
     "output_type": "stream",
     "text": [
      "Processing pages:  11%|█▏        | 2332/20713 [35:50<3:55:52,  1.30it/s]"
     ]
    },
    {
     "name": "stdout",
     "output_type": "stream",
     "text": [
      "Images for product '저지방_레시피브이_반려견_로우펫_처방식사료_1' successfully processed.\n"
     ]
    },
    {
     "name": "stderr",
     "output_type": "stream",
     "text": [
      "Processing pages:  11%|█▏        | 2348/20713 [36:04<4:18:06,  1.19it/s]"
     ]
    },
    {
     "name": "stdout",
     "output_type": "stream",
     "text": [
      "Images for product 'RCAT85g캣_레날_위드_피시_RENAL_WITH_FISH_로얄캐닌처방사료' successfully processed.\n"
     ]
    },
    {
     "name": "stderr",
     "output_type": "stream",
     "text": [
      "Processing pages:  11%|█▏        | 2352/20713 [36:08<4:14:44,  1.20it/s]"
     ]
    },
    {
     "name": "stdout",
     "output_type": "stream",
     "text": [
      "Images for product '서울사료_하니_5kg_개사료' successfully processed.\n"
     ]
    },
    {
     "name": "stderr",
     "output_type": "stream",
     "text": [
      "Processing pages:  11%|█▏        | 2359/20713 [36:13<4:16:15,  1.19it/s]"
     ]
    },
    {
     "name": "stdout",
     "output_type": "stream",
     "text": [
      "Images for product '고사료_GO_솔루션_그레인프리_LID_칠면조_9' successfully processed.\n",
      "Images for product '꼬뜨_스탠다드_캣츠_20kg_고양이사료_대용량_길고양이_길냥이_밥' successfully processed.\n"
     ]
    },
    {
     "name": "stderr",
     "output_type": "stream",
     "text": [
      "Processing pages:  11%|█▏        | 2361/20713 [36:15<4:35:58,  1.11it/s]"
     ]
    },
    {
     "name": "stdout",
     "output_type": "stream",
     "text": [
      "Images for product '레오나르도_고양이_캣_사료_폴트리GF_7' successfully processed.\n",
      "Images for product '더텐_소프트_강아지사료_소고기_관절_1kg' successfully processed.\n"
     ]
    },
    {
     "name": "stderr",
     "output_type": "stream",
     "text": [
      "Processing pages:  11%|█▏        | 2362/20713 [36:16<4:39:57,  1.09it/s]"
     ]
    },
    {
     "name": "stdout",
     "output_type": "stream",
     "text": [
      "Images for product '슈슈_세븐웰_4' successfully processed.\n"
     ]
    },
    {
     "name": "stderr",
     "output_type": "stream",
     "text": [
      "Processing pages:  11%|█▏        | 2364/20713 [36:18<4:10:34,  1.22it/s]"
     ]
    },
    {
     "name": "stdout",
     "output_type": "stream",
     "text": [
      "Images for product '로얄캐닌_고양이_캣_스테럴라이즈드_중성화_사료_2kg' successfully processed.\n"
     ]
    },
    {
     "name": "stderr",
     "output_type": "stream",
     "text": [
      "Processing pages:  11%|█▏        | 2366/20713 [36:19<4:06:03,  1.24it/s]"
     ]
    },
    {
     "name": "stdout",
     "output_type": "stream",
     "text": [
      "Images for product '프라이멀_고양이_동결건조사료_치킨연어_397g' successfully processed.\n"
     ]
    },
    {
     "name": "stderr",
     "output_type": "stream",
     "text": [
      "Processing pages:  11%|█▏        | 2369/20713 [36:22<4:43:01,  1.08it/s]"
     ]
    },
    {
     "name": "stdout",
     "output_type": "stream",
     "text": [
      "Images for product '복수구매10웰니스_코어_캣_시그니쳐_플레이크_참치연어캔_79g_그레인프리_고양이_주식캔' successfully processed.\n",
      "Images for product '프론티어_자연방목_동결건조사료_치킨_300g' successfully processed.\n"
     ]
    },
    {
     "name": "stderr",
     "output_type": "stream",
     "text": [
      "Processing pages:  11%|█▏        | 2372/20713 [36:24<4:16:12,  1.19it/s]"
     ]
    },
    {
     "name": "stdout",
     "output_type": "stream",
     "text": [
      "Images for product '퓨어네이쳐_캣_치킨_5kg' successfully processed.\n",
      "Images for product '로얄코코_피부사료_오리_연어_2' successfully processed.\n"
     ]
    },
    {
     "name": "stderr",
     "output_type": "stream",
     "text": [
      "Processing pages:  11%|█▏        | 2374/20713 [36:26<4:27:02,  1.14it/s]"
     ]
    },
    {
     "name": "stdout",
     "output_type": "stream",
     "text": [
      "Images for product '엔젤스독_로얄_전연령_15kg_강아지사료' successfully processed.\n"
     ]
    },
    {
     "name": "stderr",
     "output_type": "stream",
     "text": [
      "Processing pages:  11%|█▏        | 2376/20713 [36:28<4:47:14,  1.06it/s]"
     ]
    },
    {
     "name": "stdout",
     "output_type": "stream",
     "text": [
      "Images for product '시저_캔_쇠고기와_치즈_100g_강아지_주식캔_습식사료' successfully processed.\n"
     ]
    },
    {
     "name": "stderr",
     "output_type": "stream",
     "text": [
      "Processing pages:  12%|█▏        | 2387/20713 [36:37<4:08:29,  1.23it/s]"
     ]
    },
    {
     "name": "stdout",
     "output_type": "stream",
     "text": [
      "Images for product '레오나르도_캣_키튼_고양이사료_2kg습식_파우치_40g' successfully processed.\n"
     ]
    },
    {
     "name": "stderr",
     "output_type": "stream",
     "text": [
      "Processing pages:  12%|█▏        | 2388/20713 [36:39<4:33:59,  1.11it/s]"
     ]
    },
    {
     "name": "stdout",
     "output_type": "stream",
     "text": [
      "Images for product '로얄캐닌_유리너리케어__1' successfully processed.\n",
      "Images for product '보나시보_어덜트_독_치킨_엔초비__라이스_15kg_애견사료' successfully processed.\n",
      "Images for product '힐스_사이언스_다이어트_어덜트_퍼펙트_웨이트_6' successfully processed.\n",
      "Images for product '오리젠_강아지_사료_시니어독_2kg간식_246' successfully processed.\n"
     ]
    },
    {
     "name": "stderr",
     "output_type": "stream",
     "text": [
      "Processing pages:  12%|█▏        | 2390/20713 [36:41<5:00:57,  1.01it/s]"
     ]
    },
    {
     "name": "stdout",
     "output_type": "stream",
     "text": [
      "Images for product '네이처스로직_독_치킨_강아지_천연사료_11' successfully processed.\n"
     ]
    },
    {
     "name": "stderr",
     "output_type": "stream",
     "text": [
      "Processing pages:  12%|█▏        | 2395/20713 [36:45<4:24:21,  1.15it/s]"
     ]
    },
    {
     "name": "stdout",
     "output_type": "stream",
     "text": [
      "Images for product '나우사료_시니어_스몰브리드_2' successfully processed.\n"
     ]
    },
    {
     "name": "stderr",
     "output_type": "stream",
     "text": [
      "Processing pages:  12%|█▏        | 2398/20713 [36:47<4:24:58,  1.15it/s]"
     ]
    },
    {
     "name": "stdout",
     "output_type": "stream",
     "text": [
      "Images for product '강아지_화식_섬벗_자연식_연어_사료_샘플_후코이단_함유' successfully processed.\n",
      "Images for product '고_go_스킨앤코트_치킨_캣_50g_샘플사료' successfully processed.\n"
     ]
    },
    {
     "name": "stderr",
     "output_type": "stream",
     "text": [
      "Processing pages:  12%|█▏        | 2399/20713 [36:48<4:22:03,  1.16it/s]"
     ]
    },
    {
     "name": "stdout",
     "output_type": "stream",
     "text": [
      "Images for product '로얄코코_관절사료_오리_2' successfully processed.\n",
      "Images for product '서울사료_뉴육성견_15kg_개사료' successfully processed.\n",
      "Images for product '진돗개사료_진도개_프로베스트_진도_10kg' successfully processed.\n"
     ]
    },
    {
     "name": "stderr",
     "output_type": "stream",
     "text": [
      "Processing pages:  12%|█▏        | 2401/20713 [36:50<4:50:39,  1.05it/s]"
     ]
    },
    {
     "name": "stdout",
     "output_type": "stream",
     "text": [
      "Images for product '톰피_스텔라앤츄이스_디너패티_강아지_동결건조사료_터키_397g' successfully processed.\n",
      "Images for product '로얄캐닌__엑스스몰_어덜트_500g_강아지사료' successfully processed.\n"
     ]
    },
    {
     "name": "stderr",
     "output_type": "stream",
     "text": [
      "Processing pages:  12%|█▏        | 2402/20713 [36:51<5:00:08,  1.02it/s]"
     ]
    },
    {
     "name": "stdout",
     "output_type": "stream",
     "text": [
      "Images for product '로얄코코_곤충사료_알러지케어_2' successfully processed.\n",
      "Images for product '허즈_알러지_눈물_강아지_사료_닭가슴살_레시피_908g' successfully processed.\n"
     ]
    },
    {
     "name": "stderr",
     "output_type": "stream",
     "text": [
      "Processing pages:  12%|█▏        | 2406/20713 [36:55<4:22:50,  1.16it/s]"
     ]
    },
    {
     "name": "stdout",
     "output_type": "stream",
     "text": [
      "Images for product 'N포인트아침애사료_가수분해_강아지_피부_알러지_수제사료_4kg_오리_연어_감자' successfully processed.\n"
     ]
    },
    {
     "name": "stderr",
     "output_type": "stream",
     "text": [
      "Processing pages:  12%|█▏        | 2410/20713 [36:58<4:17:50,  1.18it/s]"
     ]
    },
    {
     "name": "stdout",
     "output_type": "stream",
     "text": [
      "Images for product '이즈칸_독_버라이어티_알러지프리_6' successfully processed.\n"
     ]
    },
    {
     "name": "stderr",
     "output_type": "stream",
     "text": [
      "Processing pages:  12%|█▏        | 2411/20713 [36:59<4:19:01,  1.18it/s]"
     ]
    },
    {
     "name": "stdout",
     "output_type": "stream",
     "text": [
      "Images for product '로얄캐닌_강아지_미니_인도어엑스스몰_어덜트_사료_1kg' successfully processed.\n"
     ]
    },
    {
     "name": "stderr",
     "output_type": "stream",
     "text": [
      "Processing pages:  12%|█▏        | 2432/20713 [37:17<4:17:48,  1.18it/s]"
     ]
    },
    {
     "name": "stdout",
     "output_type": "stream",
     "text": [
      "Images for product '로얄캐닌_캣_인도어_파우치_젤리_85g_고양이_습식사료' successfully processed.\n"
     ]
    },
    {
     "name": "stderr",
     "output_type": "stream",
     "text": [
      "Processing pages:  12%|█▏        | 2434/20713 [37:19<4:13:00,  1.20it/s]"
     ]
    },
    {
     "name": "stdout",
     "output_type": "stream",
     "text": [
      "Images for product '고양이샘플사료_그린벨씨푸드500g' successfully processed.\n"
     ]
    },
    {
     "name": "stderr",
     "output_type": "stream",
     "text": [
      "Processing pages:  12%|█▏        | 2435/20713 [37:20<4:07:37,  1.23it/s]"
     ]
    },
    {
     "name": "stdout",
     "output_type": "stream",
     "text": [
      "Images for product '베네핏_스킨코트_1' successfully processed.\n",
      "Images for product '나인케어_캣_고양이사료_인도어_6kg' successfully processed.\n"
     ]
    },
    {
     "name": "stderr",
     "output_type": "stream",
     "text": [
      "Processing pages:  12%|█▏        | 2436/20713 [37:20<3:59:17,  1.27it/s]"
     ]
    },
    {
     "name": "stdout",
     "output_type": "stream",
     "text": [
      "Images for product '로얄캐닌_미니_인도어_퍼피_건식사료_3kg' successfully processed.\n"
     ]
    },
    {
     "name": "stderr",
     "output_type": "stream",
     "text": [
      "Processing pages:  12%|█▏        | 2437/20713 [37:21<4:10:40,  1.22it/s]"
     ]
    },
    {
     "name": "stdout",
     "output_type": "stream",
     "text": [
      "Images for product '힐스_강아지사료_어덜트_6_라지브리드_6' successfully processed.\n"
     ]
    },
    {
     "name": "stderr",
     "output_type": "stream",
     "text": [
      "Processing pages:  12%|█▏        | 2440/20713 [37:24<3:54:25,  1.30it/s]"
     ]
    },
    {
     "name": "stdout",
     "output_type": "stream",
     "text": [
      "Images for product '후새_캣_크로케터_렉스_2kg_스웨덴_고양이_사료' successfully processed.\n"
     ]
    },
    {
     "name": "stderr",
     "output_type": "stream",
     "text": [
      "Processing pages:  12%|█▏        | 2442/20713 [37:25<3:58:23,  1.28it/s]"
     ]
    },
    {
     "name": "stdout",
     "output_type": "stream",
     "text": [
      "Images for product '로우즈_슈레디드_캔_고양이_습식사료_85g_6종세트' successfully processed.\n"
     ]
    },
    {
     "name": "stderr",
     "output_type": "stream",
     "text": [
      "Processing pages:  12%|█▏        | 2443/20713 [37:26<4:19:02,  1.18it/s]"
     ]
    },
    {
     "name": "stdout",
     "output_type": "stream",
     "text": [
      "Images for product '로얄캐닌_마더앤베이비캣_4kg_어린_고양이_사료' successfully processed.\n"
     ]
    },
    {
     "name": "stderr",
     "output_type": "stream",
     "text": [
      "Processing pages:  12%|█▏        | 2444/20713 [37:27<4:24:41,  1.15it/s]"
     ]
    },
    {
     "name": "stdout",
     "output_type": "stream",
     "text": [
      "Images for product '더리얼_로우_고양이_사료_50g_닭고기_키튼' successfully processed.\n"
     ]
    },
    {
     "name": "stderr",
     "output_type": "stream",
     "text": [
      "Processing pages:  12%|█▏        | 2449/20713 [37:31<3:55:23,  1.29it/s]"
     ]
    },
    {
     "name": "stdout",
     "output_type": "stream",
     "text": [
      "Images for product '반해_l_파미나_ND_프라임_캣_멧돼지사과_15kg__계량컵급여량_계산' successfully processed.\n"
     ]
    },
    {
     "name": "stderr",
     "output_type": "stream",
     "text": [
      "Processing pages:  12%|█▏        | 2452/20713 [37:33<4:06:36,  1.23it/s]"
     ]
    },
    {
     "name": "stdout",
     "output_type": "stream",
     "text": [
      "Images for product '로얄캐닌_캣_덴탈케어_고양이사료_1' successfully processed.\n"
     ]
    },
    {
     "name": "stderr",
     "output_type": "stream",
     "text": [
      "Processing pages:  12%|█▏        | 2453/20713 [37:34<4:22:18,  1.16it/s]"
     ]
    },
    {
     "name": "stdout",
     "output_type": "stream",
     "text": [
      "Images for product '힐스_다이어트사이언스_어덜트_11_스몰포_11세_시니어_노견_면역력_강아지사료' successfully processed.\n"
     ]
    },
    {
     "name": "stderr",
     "output_type": "stream",
     "text": [
      "Processing pages:  12%|█▏        | 2466/20713 [37:45<4:52:53,  1.04it/s]"
     ]
    },
    {
     "name": "stdout",
     "output_type": "stream",
     "text": [
      "Images for product 'K9_동결건조_호키__비프_100g_강아지_사료' successfully processed.\n"
     ]
    },
    {
     "name": "stderr",
     "output_type": "stream",
     "text": [
      "Processing pages:  12%|█▏        | 2467/20713 [37:46<4:59:25,  1.02it/s]"
     ]
    },
    {
     "name": "stdout",
     "output_type": "stream",
     "text": [
      "Images for product '오리젠_오리지날_캣_앤_키튼_5' successfully processed.\n",
      "Images for product '로얄캐닌_독_미니_어덜트_파우치_85g' successfully processed.\n"
     ]
    },
    {
     "name": "stderr",
     "output_type": "stream",
     "text": [
      "Processing pages:  12%|█▏        | 2469/20713 [37:48<4:40:14,  1.08it/s]"
     ]
    },
    {
     "name": "stdout",
     "output_type": "stream",
     "text": [
      "Images for product '복수구매10쓰라이브_컴플리트_습식_캔_주식캔_습식사료_치킨_75g' successfully processed.\n",
      "Images for product '윌로펫_강아지_사료_뉴트리탑_면역전연령_기호성_좋은_말랑육즙_소프트사료_1' successfully processed.\n"
     ]
    },
    {
     "name": "stderr",
     "output_type": "stream",
     "text": [
      "Processing pages:  12%|█▏        | 2470/20713 [37:49<4:25:59,  1.14it/s]"
     ]
    },
    {
     "name": "stdout",
     "output_type": "stream",
     "text": [
      "Images for product '위시본_사료_소고기_1' successfully processed.\n"
     ]
    },
    {
     "name": "stderr",
     "output_type": "stream",
     "text": [
      "Processing pages:  12%|█▏        | 2471/20713 [37:50<4:43:12,  1.07it/s]"
     ]
    },
    {
     "name": "stdout",
     "output_type": "stream",
     "text": [
      "Images for product '워프_와일드베니슨_야생사슴_동결건조_전연령_사료_50g_소용량' successfully processed.\n",
      "Images for product '토모조_사료_강아지_눈물_알러지_곤충_인섹트사료_2kg_하이포알러지' successfully processed.\n",
      "Images for product '애니먼_강아지_고양이_습식사료_애니캔_2종_30gX6_11' successfully processed.\n"
     ]
    },
    {
     "name": "stderr",
     "output_type": "stream",
     "text": [
      "Processing pages:  12%|█▏        | 2472/20713 [37:51<4:42:37,  1.08it/s]"
     ]
    },
    {
     "name": "stdout",
     "output_type": "stream",
     "text": [
      "Images for product '로얄캐닌_그레이비_다이제스트_센서티브_케어_85g_X_12P_고양이사료_습식파우치' successfully processed.\n"
     ]
    },
    {
     "name": "stderr",
     "output_type": "stream",
     "text": [
      "Processing pages:  12%|█▏        | 2473/20713 [37:52<4:27:16,  1.14it/s]"
     ]
    },
    {
     "name": "stdout",
     "output_type": "stream",
     "text": [
      "Images for product '11_펫베이커리_독_동결건조_소고기_450g' successfully processed.\n",
      "Images for product '내추럴발란스_팻독스_닭연어보리_다이어트사료_5kg_큰알갱이_2406' successfully processed.\n"
     ]
    },
    {
     "name": "stderr",
     "output_type": "stream",
     "text": [
      "Processing pages:  12%|█▏        | 2476/20713 [37:54<4:20:16,  1.17it/s]"
     ]
    },
    {
     "name": "stdout",
     "output_type": "stream",
     "text": [
      "Images for product '로얄캐닌_고양이사료_키튼_10kg' successfully processed.\n"
     ]
    },
    {
     "name": "stderr",
     "output_type": "stream",
     "text": [
      "Processing pages:  12%|█▏        | 2494/20713 [38:09<4:26:02,  1.14it/s]"
     ]
    },
    {
     "name": "stdout",
     "output_type": "stream",
     "text": [
      "Images for product '켈틱커넥션_사료_치킨칠면조_2' successfully processed.\n"
     ]
    },
    {
     "name": "stderr",
     "output_type": "stream",
     "text": [
      "Processing pages:  12%|█▏        | 2495/20713 [38:10<4:19:54,  1.17it/s]"
     ]
    },
    {
     "name": "stdout",
     "output_type": "stream",
     "text": [
      "Images for product '퓨어비타_앙트레_주식캔_습식사료_치킨_156g' successfully processed.\n",
      "Images for product '트럼펫_소프트클로버_사료_이뮨부스터_1kg_면역력_소프트사료' successfully processed.\n",
      "Images for product '로얄캐닌_캣_고양이사료_인도어_2kg' successfully processed.\n",
      "Images for product '사조_벤티_강아지_습식사료_파우치낱개_80g' successfully processed.\n"
     ]
    },
    {
     "name": "stderr",
     "output_type": "stream",
     "text": [
      "Processing pages:  12%|█▏        | 2502/20713 [38:15<3:58:42,  1.27it/s]"
     ]
    },
    {
     "name": "stdout",
     "output_type": "stream",
     "text": [
      "Images for product '마이펫닥터_시그니처_유기농_스킨컨트롤_피부_사료' successfully processed.\n",
      "Images for product '로우터너티브_자연방목소고기_양고기_사료_1' successfully processed.\n"
     ]
    },
    {
     "name": "stderr",
     "output_type": "stream",
     "text": [
      "Processing pages:  12%|█▏        | 2504/20713 [38:17<3:59:16,  1.27it/s]"
     ]
    },
    {
     "name": "stdout",
     "output_type": "stream",
     "text": [
      "Images for product '나우_습식사료_테트라_포크_스튜_354g' successfully processed.\n"
     ]
    },
    {
     "name": "stderr",
     "output_type": "stream",
     "text": [
      "Processing pages:  12%|█▏        | 2508/20713 [38:20<4:02:18,  1.25it/s]"
     ]
    },
    {
     "name": "stdout",
     "output_type": "stream",
     "text": [
      "Images for product 'Herz_허즈사료_샘플_칠면조_25g_LID_강아지_알러지_눈물사료' successfully processed.\n"
     ]
    },
    {
     "name": "stderr",
     "output_type": "stream",
     "text": [
      "Processing pages:  12%|█▏        | 2518/20713 [38:28<4:06:11,  1.23it/s]"
     ]
    },
    {
     "name": "stdout",
     "output_type": "stream",
     "text": [
      "Images for product '후새_캣_크로케터_치킨_2kg_고양이사료유통기한_242' successfully processed.\n",
      "Images for product '힐스_독_rd_3' successfully processed.\n"
     ]
    },
    {
     "name": "stderr",
     "output_type": "stream",
     "text": [
      "Processing pages:  12%|█▏        | 2521/20713 [38:31<4:18:22,  1.17it/s]"
     ]
    },
    {
     "name": "stdout",
     "output_type": "stream",
     "text": [
      "Images for product '게더_캣_프리에이커_치킨_3' successfully processed.\n"
     ]
    },
    {
     "name": "stderr",
     "output_type": "stream",
     "text": [
      "Processing pages:  12%|█▏        | 2522/20713 [38:32<4:02:10,  1.25it/s]"
     ]
    },
    {
     "name": "stdout",
     "output_type": "stream",
     "text": [
      "Images for product '솔리드골드_마이티미니_치킨_1kg__홀리스틱등급_전연령_프리미엄_강아지_사료' successfully processed.\n"
     ]
    },
    {
     "name": "stderr",
     "output_type": "stream",
     "text": [
      "Processing pages:  12%|█▏        | 2523/20713 [38:33<4:12:46,  1.20it/s]"
     ]
    },
    {
     "name": "stdout",
     "output_type": "stream",
     "text": [
      "Images for product 'ABCare_소프트사료_뼈건강솔루션_조인트서포트_1kg' successfully processed.\n"
     ]
    },
    {
     "name": "stderr",
     "output_type": "stream",
     "text": [
      "Processing pages:  12%|█▏        | 2526/20713 [38:35<4:16:18,  1.18it/s]"
     ]
    },
    {
     "name": "stdout",
     "output_type": "stream",
     "text": [
      "Images for product '워프_비프_소고기_동결건조_전연령_사료_50g_소용량' successfully processed.\n",
      "Images for product '로얄캐닌_독_가스트로_인테스티널_로우펫_캔_410g_강아지_췌장_위장관질환' successfully processed.\n"
     ]
    },
    {
     "name": "stderr",
     "output_type": "stream",
     "text": [
      "Processing pages:  12%|█▏        | 2528/20713 [38:37<4:23:36,  1.15it/s]"
     ]
    },
    {
     "name": "stdout",
     "output_type": "stream",
     "text": [
      "Images for product '11스내피톰_캣_고양이_습식사료_튜나젤리_파우치_85g' successfully processed.\n"
     ]
    },
    {
     "name": "stderr",
     "output_type": "stream",
     "text": [
      "Processing pages:  12%|█▏        | 2531/20713 [38:39<4:03:13,  1.25it/s]"
     ]
    },
    {
     "name": "stdout",
     "output_type": "stream",
     "text": [
      "Images for product '로얄캐닌_스테럴라이즈드_4kg_중성화_대용량_고양이_사료' successfully processed.\n"
     ]
    },
    {
     "name": "stderr",
     "output_type": "stream",
     "text": [
      "Processing pages:  12%|█▏        | 2537/20713 [38:44<3:57:54,  1.27it/s]"
     ]
    },
    {
     "name": "stdout",
     "output_type": "stream",
     "text": [
      "Images for product '청담사료_2kg_지아이_프로바이오틱스N포인트_4000' successfully processed.\n"
     ]
    },
    {
     "name": "stderr",
     "output_type": "stream",
     "text": [
      "Processing pages:  12%|█▏        | 2554/20713 [38:59<4:20:18,  1.16it/s]"
     ]
    },
    {
     "name": "stdout",
     "output_type": "stream",
     "text": [
      "Images for product 'ANF_6프리_골드_소고기와연어_애견_강아지사료_5' successfully processed.\n"
     ]
    },
    {
     "name": "stderr",
     "output_type": "stream",
     "text": [
      "Processing pages:  12%|█▏        | 2558/20713 [39:03<4:41:19,  1.08it/s]"
     ]
    },
    {
     "name": "stdout",
     "output_type": "stream",
     "text": [
      "Images for product '밥이보약_CAT_빛나는_피모_3' successfully processed.\n",
      "Images for product '오가닉스토리_강아지_눈물_가수분해사료_피부_알러지_비숑_말티즈_하이포알러제닉_오리고기_2' successfully processed.\n",
      "Images for product '천하제일사료_브라보매니아_20kg__사냥개_토종견_대형견_특수견_진도개' successfully processed.\n"
     ]
    },
    {
     "name": "stderr",
     "output_type": "stream",
     "text": [
      "Processing pages:  12%|█▏        | 2560/20713 [39:04<4:36:52,  1.09it/s]"
     ]
    },
    {
     "name": "stdout",
     "output_type": "stream",
     "text": [
      "Images for product '그랜마루시_동결건조_사료_퓨어퍼먼스_프리믹스_1' successfully processed.\n"
     ]
    },
    {
     "name": "stderr",
     "output_type": "stream",
     "text": [
      "Processing pages:  12%|█▏        | 2562/20713 [39:06<4:37:14,  1.09it/s]"
     ]
    },
    {
     "name": "stdout",
     "output_type": "stream",
     "text": [
      "Images for product '카니러브_캣_생육_잉어__송어_50g_고양이_그레인프리_건식_사료_샘플' successfully processed.\n"
     ]
    },
    {
     "name": "stderr",
     "output_type": "stream",
     "text": [
      "Processing pages:  12%|█▏        | 2563/20713 [39:07<4:21:25,  1.16it/s]"
     ]
    },
    {
     "name": "stdout",
     "output_type": "stream",
     "text": [
      "Images for product '티키캣_그릴파테_참치프라운_고양이_주식캔_습식사료' successfully processed.\n"
     ]
    },
    {
     "name": "stderr",
     "output_type": "stream",
     "text": [
      "Processing pages:  12%|█▏        | 2565/20713 [39:09<4:38:01,  1.09it/s]"
     ]
    },
    {
     "name": "stdout",
     "output_type": "stream",
     "text": [
      "Images for product '하이독_강아지화식_자연식_사료_6팩_600g_2팩X택3_닭고기100g' successfully processed.\n"
     ]
    },
    {
     "name": "stderr",
     "output_type": "stream",
     "text": [
      "Processing pages:  12%|█▏        | 2572/20713 [39:15<4:10:18,  1.21it/s]"
     ]
    },
    {
     "name": "stdout",
     "output_type": "stream",
     "text": [
      "Images for product '앱솔루트_홀리스틱_강아지_사료_소고기사슴고기_100g' successfully processed.\n",
      "Images for product '힐스_독_강아지_id_id_로우팻_Low_Fat_1' successfully processed.\n"
     ]
    },
    {
     "name": "stderr",
     "output_type": "stream",
     "text": [
      "Processing pages:  12%|█▏        | 2573/20713 [39:16<4:02:56,  1.24it/s]"
     ]
    },
    {
     "name": "stdout",
     "output_type": "stream",
     "text": [
      "Images for product '펫컴_퍼피위너스_전연령_사료_5kg' successfully processed.\n",
      "Images for product '대형견사료_도베르만사료_15kg_2개' successfully processed.\n"
     ]
    },
    {
     "name": "stderr",
     "output_type": "stream",
     "text": [
      "Processing pages:  12%|█▏        | 2575/20713 [39:17<4:13:19,  1.19it/s]"
     ]
    },
    {
     "name": "stdout",
     "output_type": "stream",
     "text": [
      "Images for product '무마진_소프트사료_소고기_황태_4' successfully processed.\n"
     ]
    },
    {
     "name": "stderr",
     "output_type": "stream",
     "text": [
      "Processing pages:  12%|█▏        | 2576/20713 [39:18<4:36:38,  1.09it/s]"
     ]
    },
    {
     "name": "stdout",
     "output_type": "stream",
     "text": [
      "Images for product '켈틱커넥션_사료샘플_연어송어_150g' successfully processed.\n"
     ]
    },
    {
     "name": "stderr",
     "output_type": "stream",
     "text": [
      "Processing pages:  12%|█▏        | 2580/20713 [39:22<4:11:03,  1.20it/s]"
     ]
    },
    {
     "name": "stdout",
     "output_type": "stream",
     "text": [
      "Images for product '로얄캐닌_독_파우치_습식사료_요크셔테리어_어덜트_파우치_85g' successfully processed.\n"
     ]
    },
    {
     "name": "stderr",
     "output_type": "stream",
     "text": [
      "Processing pages:  12%|█▏        | 2582/20713 [39:23<3:59:44,  1.26it/s]"
     ]
    },
    {
     "name": "stdout",
     "output_type": "stream",
     "text": [
      "Images for product '오늘출발_로얄캐닌_독_가스트로_인테스티널_2kg_gastro_강아지_처방사료' successfully processed.\n"
     ]
    },
    {
     "name": "stderr",
     "output_type": "stream",
     "text": [
      "Processing pages:  12%|█▏        | 2583/20713 [39:24<4:01:41,  1.25it/s]"
     ]
    },
    {
     "name": "stdout",
     "output_type": "stream",
     "text": [
      "Images for product '하이독_케어브이_판크프_1kg_췌장염_저지방_처방식_동물병원_기호성좋은_노견_화식사료' successfully processed.\n",
      "Images for product '닥터독_그레인프리_참치_사료_1' successfully processed.\n"
     ]
    },
    {
     "name": "stderr",
     "output_type": "stream",
     "text": [
      "Processing pages:  12%|█▏        | 2585/20713 [39:26<4:11:03,  1.20it/s]"
     ]
    },
    {
     "name": "stdout",
     "output_type": "stream",
     "text": [
      "Images for product '본아페티_강아지_관절_다이어트_반습식_소프트_기호성_좋은_사료_3KG' successfully processed.\n"
     ]
    },
    {
     "name": "stderr",
     "output_type": "stream",
     "text": [
      "Processing pages:  13%|█▎        | 2590/20713 [39:30<4:08:26,  1.22it/s]"
     ]
    },
    {
     "name": "stdout",
     "output_type": "stream",
     "text": [
      "Images for product '대한사료_도그라인_뉴소형견_10kg' successfully processed.\n",
      "Images for product '대한사료_더_퍼스트_흑염소_사료_25kg' successfully processed.\n"
     ]
    },
    {
     "name": "stderr",
     "output_type": "stream",
     "text": [
      "Processing pages:  13%|█▎        | 2591/20713 [39:31<4:24:46,  1.14it/s]"
     ]
    },
    {
     "name": "stdout",
     "output_type": "stream",
     "text": [
      "Images for product '토우사료_훈제연어고구마독_9' successfully processed.\n"
     ]
    },
    {
     "name": "stderr",
     "output_type": "stream",
     "text": [
      "Processing pages:  13%|█▎        | 2592/20713 [39:32<4:10:25,  1.21it/s]"
     ]
    },
    {
     "name": "stdout",
     "output_type": "stream",
     "text": [
      "Images for product '스페시픽_CCD_강아지_스트루바이트_결석_사료_2kg' successfully processed.\n"
     ]
    },
    {
     "name": "stderr",
     "output_type": "stream",
     "text": [
      "Processing pages:  13%|█▎        | 2602/20713 [39:41<4:18:02,  1.17it/s]"
     ]
    },
    {
     "name": "stdout",
     "output_type": "stream",
     "text": [
      "Images for product '내추럴발란스_캣_오리지널_울트라_닭연어_50g_샘플사료' successfully processed.\n"
     ]
    },
    {
     "name": "stderr",
     "output_type": "stream",
     "text": [
      "Processing pages:  13%|█▎        | 2603/20713 [39:41<4:27:15,  1.13it/s]"
     ]
    },
    {
     "name": "stdout",
     "output_type": "stream",
     "text": [
      "Images for product '로얄캐닌_엑스스몰_어덜트_강아지사료_건강식_11kg_대용량' successfully processed.\n"
     ]
    },
    {
     "name": "stderr",
     "output_type": "stream",
     "text": [
      "Processing pages:  13%|█▎        | 2606/20713 [39:44<4:19:48,  1.16it/s]"
     ]
    },
    {
     "name": "stdout",
     "output_type": "stream",
     "text": [
      "Images for product '레오나르도_캣_고양이사료_인도어_치석제거_컴플리트_2kg' successfully processed.\n"
     ]
    },
    {
     "name": "stderr",
     "output_type": "stream",
     "text": [
      "Processing pages:  13%|█▎        | 2612/20713 [39:49<4:10:16,  1.21it/s]"
     ]
    },
    {
     "name": "stdout",
     "output_type": "stream",
     "text": [
      "Images for product '나인케어_캣_피부와_피모_고양이_사료_1' successfully processed.\n"
     ]
    },
    {
     "name": "stderr",
     "output_type": "stream",
     "text": [
      "Processing pages:  13%|█▎        | 2614/20713 [39:52<5:02:03,  1.00s/it]"
     ]
    },
    {
     "name": "stdout",
     "output_type": "stream",
     "text": [
      "Images for product '로얄캐닌_세이버_엑시전트_고양이사료_2kg' successfully processed.\n"
     ]
    },
    {
     "name": "stderr",
     "output_type": "stream",
     "text": [
      "Processing pages:  13%|█▎        | 2615/20713 [39:52<4:42:54,  1.07it/s]"
     ]
    },
    {
     "name": "stdout",
     "output_type": "stream",
     "text": [
      "Images for product '오리젠_6피쉬_캣_1kg' successfully processed.\n"
     ]
    },
    {
     "name": "stderr",
     "output_type": "stream",
     "text": [
      "Processing pages:  13%|█▎        | 2616/20713 [39:53<4:40:04,  1.08it/s]"
     ]
    },
    {
     "name": "stdout",
     "output_type": "stream",
     "text": [
      "Images for product '올바른끼니_플러스_관절_건강_기호성_좋은_강아지사료_1' successfully processed.\n",
      "Images for product '로얄캐닌_캣_레날_스페셜_2KG_고양이_신장사료' successfully processed.\n"
     ]
    },
    {
     "name": "stderr",
     "output_type": "stream",
     "text": [
      "Processing pages:  13%|█▎        | 2617/20713 [39:54<4:30:42,  1.11it/s]"
     ]
    },
    {
     "name": "stdout",
     "output_type": "stream",
     "text": [
      "Images for product '퓨어비타_캣_그레인프리_치킨_6' successfully processed.\n"
     ]
    },
    {
     "name": "stderr",
     "output_type": "stream",
     "text": [
      "Processing pages:  13%|█▎        | 2626/20713 [40:17<27:20:48,  5.44s/it]"
     ]
    },
    {
     "name": "stdout",
     "output_type": "stream",
     "text": [
      "Images for product '메이플네이처_캐내디언_프리미엄_애견_사료_8kg_캐나다_직수입' successfully processed.\n"
     ]
    },
    {
     "name": "stderr",
     "output_type": "stream",
     "text": [
      "Processing pages:  13%|█▎        | 2628/20713 [40:19<15:58:33,  3.18s/it]"
     ]
    },
    {
     "name": "stdout",
     "output_type": "stream",
     "text": [
      "Images for product '트러스티푸드_강아지사료_슈퍼그레인_키블_독_비프_1' successfully processed.\n"
     ]
    },
    {
     "name": "stderr",
     "output_type": "stream",
     "text": [
      "Processing pages:  13%|█▎        | 2629/20713 [40:20<12:11:41,  2.43s/it]"
     ]
    },
    {
     "name": "stdout",
     "output_type": "stream",
     "text": [
      "Images for product '요세라독_연어와_감자_4' successfully processed.\n",
      "Images for product '우성_진돗개_베스트_10kg_진도개_강아지_애견사료' successfully processed.\n"
     ]
    },
    {
     "name": "stderr",
     "output_type": "stream",
     "text": [
      "Processing pages:  13%|█▎        | 2630/20713 [40:21<9:38:08,  1.92s/it] "
     ]
    },
    {
     "name": "stdout",
     "output_type": "stream",
     "text": [
      "Images for product '244_퍼시캣_사료_4' successfully processed.\n",
      "Images for product '뉴트리나_프라임_퍼포먼스20kg_강아지사료_개사료_특수견_대용량' successfully processed.\n"
     ]
    },
    {
     "name": "stderr",
     "output_type": "stream",
     "text": [
      "Processing pages:  13%|█▎        | 2631/20713 [40:22<8:14:33,  1.64s/it]"
     ]
    },
    {
     "name": "stdout",
     "output_type": "stream",
     "text": [
      "Images for product '도착보장_프로베스트_캣_7' successfully processed.\n"
     ]
    },
    {
     "name": "stderr",
     "output_type": "stream",
     "text": [
      "Processing pages:  13%|█▎        | 2636/20713 [40:26<4:55:53,  1.02it/s]"
     ]
    },
    {
     "name": "stdout",
     "output_type": "stream",
     "text": [
      "Images for product '힐스_고양이사료_어덜트_퍼펙트다이제스천_연어_1' successfully processed.\n"
     ]
    },
    {
     "name": "stderr",
     "output_type": "stream",
     "text": [
      "Processing pages:  13%|█▎        | 2638/20713 [40:28<5:02:56,  1.01s/it]"
     ]
    },
    {
     "name": "stdout",
     "output_type": "stream",
     "text": [
      "Images for product '듀먼_오리채소_오리지널_화식사료_50g_x12팩' successfully processed.\n"
     ]
    },
    {
     "name": "stderr",
     "output_type": "stream",
     "text": [
      "Processing pages:  13%|█▎        | 2649/20713 [40:37<3:49:41,  1.31it/s]"
     ]
    },
    {
     "name": "stdout",
     "output_type": "stream",
     "text": [
      "Images for product '로얄캐닌_키튼_건식_아기고양이사료_2kg' successfully processed.\n"
     ]
    },
    {
     "name": "stderr",
     "output_type": "stream",
     "text": [
      "Processing pages:  13%|█▎        | 2650/20713 [40:38<4:19:34,  1.16it/s]"
     ]
    },
    {
     "name": "stdout",
     "output_type": "stream",
     "text": [
      "Images for product '벨버드_캣츠맘마_1kg_전연령_고양이_사료_길냥이' successfully processed.\n",
      "Images for product '도그쿡_전라북도_남원_강아지_오리고기_수제사료_500g' successfully processed.\n"
     ]
    },
    {
     "name": "stderr",
     "output_type": "stream",
     "text": [
      "Processing pages:  13%|█▎        | 2651/20713 [40:39<5:06:11,  1.02s/it]"
     ]
    },
    {
     "name": "stdout",
     "output_type": "stream",
     "text": [
      "Images for product '오리젠_캣앤키튼_오리지널_대용량_고양이사료_5' successfully processed.\n",
      "Images for product '로얄캐닌_캣_습식사료_헤어볼케어_그레이비_파우치_85g_고양이_주식_간식' successfully processed.\n"
     ]
    },
    {
     "name": "stderr",
     "output_type": "stream",
     "text": [
      "Processing pages:  13%|█▎        | 2652/20713 [40:40<4:55:47,  1.02it/s]"
     ]
    },
    {
     "name": "stdout",
     "output_type": "stream",
     "text": [
      "Images for product '이즈칸_캣_프로액티브_키튼_면역관리_1' successfully processed.\n"
     ]
    },
    {
     "name": "stderr",
     "output_type": "stream",
     "text": [
      "Processing pages:  13%|█▎        | 2653/20713 [40:41<4:36:51,  1.09it/s]"
     ]
    },
    {
     "name": "stdout",
     "output_type": "stream",
     "text": [
      "Images for product '닥터맘마_강아지_촉촉사료_소_250g_애견_화식_습식_사료' successfully processed.\n"
     ]
    },
    {
     "name": "stderr",
     "output_type": "stream",
     "text": [
      "Processing pages:  13%|█▎        | 2655/20713 [40:43<4:18:39,  1.16it/s]"
     ]
    },
    {
     "name": "stdout",
     "output_type": "stream",
     "text": [
      "Images for product '웰스비_시니어_2' successfully processed.\n"
     ]
    },
    {
     "name": "stderr",
     "output_type": "stream",
     "text": [
      "Processing pages:  13%|█▎        | 2660/20713 [40:48<4:39:36,  1.08it/s]"
     ]
    },
    {
     "name": "stdout",
     "output_type": "stream",
     "text": [
      "Images for product '버틀러_더텐소프트_인섹트_알러지_샘플사료_30g' successfully processed.\n"
     ]
    },
    {
     "name": "stderr",
     "output_type": "stream",
     "text": [
      "Processing pages:  13%|█▎        | 2666/20713 [40:53<4:14:52,  1.18it/s]"
     ]
    },
    {
     "name": "stdout",
     "output_type": "stream",
     "text": [
      "Images for product '로얄캐닌_캣_라이트_웨이트_케어_고양이_사료_3kg' successfully processed.\n"
     ]
    },
    {
     "name": "stderr",
     "output_type": "stream",
     "text": [
      "Processing pages:  13%|█▎        | 2668/20713 [40:55<4:38:51,  1.08it/s]"
     ]
    },
    {
     "name": "stdout",
     "output_type": "stream",
     "text": [
      "Images for product '로얄캐닌_하이포알러제닉_스몰독_3' successfully processed.\n",
      "Images for product '네추럴랩_케어_유기농_가수분해사료_피부알러지_2kg' successfully processed.\n",
      "Images for product '코스트코_내츄럴코어_치킨연어_14kg7kgX2EA_소분포장_500gX28개입_대용량_사료' successfully processed.\n"
     ]
    },
    {
     "name": "stderr",
     "output_type": "stream",
     "text": [
      "Processing pages:  13%|█▎        | 2669/20713 [40:56<4:41:04,  1.07it/s]"
     ]
    },
    {
     "name": "stdout",
     "output_type": "stream",
     "text": [
      "Images for product '힐스_고양이사료_키튼_1' successfully processed.\n",
      "Images for product '인섹트도그_하이포알러지_강아지사료_2kg_어덜트_라지바이트' successfully processed.\n",
      "Images for product '로얄캐닌_미니_인도어_퍼피_8' successfully processed.\n"
     ]
    },
    {
     "name": "stderr",
     "output_type": "stream",
     "text": [
      "Processing pages:  13%|█▎        | 2671/20713 [40:58<4:28:31,  1.12it/s]"
     ]
    },
    {
     "name": "stdout",
     "output_type": "stream",
     "text": [
      "Images for product '반해_l_몬지_비와일드_로우그레인_멧돼지_25kg__계량컵급여량_계산' successfully processed.\n"
     ]
    },
    {
     "name": "stderr",
     "output_type": "stream",
     "text": [
      "Processing pages:  13%|█▎        | 2679/20713 [41:05<4:18:16,  1.16it/s]"
     ]
    },
    {
     "name": "stdout",
     "output_type": "stream",
     "text": [
      "Images for product '로얄캐닌_캣_인도어7_3' successfully processed.\n"
     ]
    },
    {
     "name": "stderr",
     "output_type": "stream",
     "text": [
      "Processing pages:  13%|█▎        | 2680/20713 [41:05<4:17:50,  1.17it/s]"
     ]
    },
    {
     "name": "stdout",
     "output_type": "stream",
     "text": [
      "Images for product '캐츠랑_전연령_리브레_18kg_캣_고양이_사료' successfully processed.\n"
     ]
    },
    {
     "name": "stderr",
     "output_type": "stream",
     "text": [
      "Processing pages:  13%|█▎        | 2681/20713 [41:06<4:22:54,  1.14it/s]"
     ]
    },
    {
     "name": "stdout",
     "output_type": "stream",
     "text": [
      "Images for product '콩고_도그_비프__치킨_3kg_1' successfully processed.\n",
      "Images for product '로얄캐닌_푸들_어덜트_1' successfully processed.\n"
     ]
    },
    {
     "name": "stderr",
     "output_type": "stream",
     "text": [
      "Processing pages:  13%|█▎        | 2683/20713 [41:08<4:22:32,  1.14it/s]"
     ]
    },
    {
     "name": "stdout",
     "output_type": "stream",
     "text": [
      "Images for product '빅스비_리버티_피셔맨스캣치_9' successfully processed.\n"
     ]
    },
    {
     "name": "stderr",
     "output_type": "stream",
     "text": [
      "Processing pages:  13%|█▎        | 2686/20713 [41:10<4:01:06,  1.25it/s]"
     ]
    },
    {
     "name": "stdout",
     "output_type": "stream",
     "text": [
      "Images for product '로얄캐닌_고양이사료_캣_인도어27_4kg' successfully processed.\n"
     ]
    },
    {
     "name": "stderr",
     "output_type": "stream",
     "text": [
      "Processing pages:  13%|█▎        | 2701/20713 [41:23<4:00:05,  1.25it/s]"
     ]
    },
    {
     "name": "stdout",
     "output_type": "stream",
     "text": [
      "Images for product '로얄캐닌_고양이_사료_인도어_7시니어_3' successfully processed.\n"
     ]
    },
    {
     "name": "stderr",
     "output_type": "stream",
     "text": [
      "Processing pages:  13%|█▎        | 2706/20713 [41:26<3:41:05,  1.36it/s]"
     ]
    },
    {
     "name": "stdout",
     "output_type": "stream",
     "text": [
      "Images for product '도그탑웰니스_강아지사료_개사료_동애등에사료_소형견_1' successfully processed.\n"
     ]
    },
    {
     "name": "stderr",
     "output_type": "stream",
     "text": [
      "Processing pages:  13%|█▎        | 2709/20713 [41:29<4:28:51,  1.12it/s]"
     ]
    },
    {
     "name": "stdout",
     "output_type": "stream",
     "text": [
      "Images for product '아카나_프리런덕_6kg' successfully processed.\n",
      "Images for product '카루_데일리디쉬_치킨_스튜_354g_강아지_습식사료' successfully processed.\n",
      "Images for product '로얄캐닌_고양이사료_인도어_400g_실내묘의_변량과_냄새감소' successfully processed.\n",
      "Images for product '더독_닥터소프트_프리미엄_강아지사료_1' successfully processed.\n"
     ]
    },
    {
     "name": "stderr",
     "output_type": "stream",
     "text": [
      "Processing pages:  13%|█▎        | 2710/20713 [41:30<4:17:40,  1.16it/s]"
     ]
    },
    {
     "name": "stdout",
     "output_type": "stream",
     "text": [
      "Images for product '프리미엄_영국사료_트루라인_독_미트앤피쉬_2kg_일반알갱이' successfully processed.\n"
     ]
    },
    {
     "name": "stderr",
     "output_type": "stream",
     "text": [
      "Processing pages:  13%|█▎        | 2711/20713 [41:31<4:13:28,  1.18it/s]"
     ]
    },
    {
     "name": "stdout",
     "output_type": "stream",
     "text": [
      "Images for product '캣젠리베_연어와_포테이토_유기농_고양이_습식사료_100g' successfully processed.\n"
     ]
    },
    {
     "name": "stderr",
     "output_type": "stream",
     "text": [
      "Processing pages:  13%|█▎        | 2712/20713 [41:31<4:01:47,  1.24it/s]"
     ]
    },
    {
     "name": "stdout",
     "output_type": "stream",
     "text": [
      "Images for product '힐스_사이언스다이어트_캣_습식사료주식캔_79g_12개' successfully processed.\n",
      "Images for product '농협_목우촌_펫9단_푸들_전용사료_1' successfully processed.\n",
      "Images for product '리얼트리_레드오크_하이퍼포먼스_반려견_사료_샘플신청' successfully processed.\n"
     ]
    },
    {
     "name": "stderr",
     "output_type": "stream",
     "text": [
      "Processing pages:  13%|█▎        | 2714/20713 [41:34<4:36:39,  1.08it/s]"
     ]
    },
    {
     "name": "stdout",
     "output_type": "stream",
     "text": [
      "Images for product '네츄럴코어_비건_채식_베지테리언_에코10_사료_6kg' successfully processed.\n"
     ]
    },
    {
     "name": "stderr",
     "output_type": "stream",
     "text": [
      "Processing pages:  13%|█▎        | 2715/20713 [41:35<4:36:21,  1.09it/s]"
     ]
    },
    {
     "name": "stdout",
     "output_type": "stream",
     "text": [
      "Images for product '말티푸사료_건강백서_말티즈_사료_푸들_사료_4kg' successfully processed.\n"
     ]
    },
    {
     "name": "stderr",
     "output_type": "stream",
     "text": [
      "Processing pages:  13%|█▎        | 2719/20713 [41:38<4:26:38,  1.12it/s]"
     ]
    },
    {
     "name": "stdout",
     "output_type": "stream",
     "text": [
      "Images for product '네츄럴코어_강아지사료_에코_양고기_2kg오리_2kg_S입자' successfully processed.\n"
     ]
    },
    {
     "name": "stderr",
     "output_type": "stream",
     "text": [
      "Processing pages:  13%|█▎        | 2744/20713 [42:00<4:17:52,  1.16it/s]"
     ]
    },
    {
     "name": "stdout",
     "output_type": "stream",
     "text": [
      "Images for product '힐스_강아지사료_어덜트_오랄케어_1' successfully processed.\n",
      "Images for product '대용량_길고양이사료_뉴트리나_프라임_키튼앤캣_20kg_고양이사료' successfully processed.\n"
     ]
    },
    {
     "name": "stderr",
     "output_type": "stream",
     "text": [
      "Processing pages:  13%|█▎        | 2745/20713 [42:01<4:16:39,  1.17it/s]"
     ]
    },
    {
     "name": "stdout",
     "output_type": "stream",
     "text": [
      "Images for product '도그쿡_닭고기_수제사료_500g' successfully processed.\n",
      "Images for product '내추럴_그레이트니스_캔_치킨_200g_고양이_습식사료' successfully processed.\n"
     ]
    },
    {
     "name": "stderr",
     "output_type": "stream",
     "text": [
      "Processing pages:  13%|█▎        | 2746/20713 [42:02<5:35:02,  1.12s/it]"
     ]
    },
    {
     "name": "stdout",
     "output_type": "stream",
     "text": [
      "Images for product '우리와_램스피아_대용량_강아지_사료_20kg' successfully processed.\n",
      "Images for product '독_힐스_zd_zd강아지_알러지_가수분해_설사_가스트로_소화기_위장관_질환_IBD_대장염_처방사료_50g_소분_샘플' successfully processed.\n",
      "Images for product '오리젠_오리지널_독_강아지_사료_2kg' successfully processed.\n",
      "Images for product '사료체험팩쉨잇_독_닭간_80g_강아지사료_파우치' successfully processed.\n",
      "Images for product '강아지샘플사료_닥터그린벨_알러지다이어트500g' successfully processed.\n"
     ]
    },
    {
     "name": "stderr",
     "output_type": "stream",
     "text": [
      "Processing pages:  13%|█▎        | 2747/20713 [42:03<5:03:36,  1.01s/it]"
     ]
    },
    {
     "name": "stdout",
     "output_type": "stream",
     "text": [
      "Images for product '도그랑_강아지_애견_사료_에이스리필4kg' successfully processed.\n",
      "Images for product '힐스_사이언스_고양이사료_캣_어덜트_11_시니어_노령묘_사료_1' successfully processed.\n",
      "Images for product '워프_동결건조_전연령_사료_양고기_1kg' successfully processed.\n"
     ]
    },
    {
     "name": "stderr",
     "output_type": "stream",
     "text": [
      "Processing pages:  13%|█▎        | 2748/20713 [42:04<4:40:57,  1.07it/s]"
     ]
    },
    {
     "name": "stdout",
     "output_type": "stream",
     "text": [
      "Images for product '스텔라앤츄이스_키블_치킨_스몰브리드_1' successfully processed.\n",
      "Images for product '로얄캐닌_캣_세타이어티_웨이트_매니지먼트_1' successfully processed.\n",
      "Images for product '보나시보_독_폼_다이어트__시니어_4kg_애견사료' successfully processed.\n"
     ]
    },
    {
     "name": "stderr",
     "output_type": "stream",
     "text": [
      "Processing pages:  13%|█▎        | 2749/20713 [42:04<4:19:33,  1.15it/s]"
     ]
    },
    {
     "name": "stdout",
     "output_type": "stream",
     "text": [
      "Images for product '내추럴발란스_강아지_사료_울트라_닭_보리_2' successfully processed.\n",
      "Images for product '미라클밀_수비드_완전식_250g_155팩_자연식_특식_수제사료' successfully processed.\n"
     ]
    },
    {
     "name": "stderr",
     "output_type": "stream",
     "text": [
      "Processing pages:  13%|█▎        | 2751/20713 [42:06<3:56:02,  1.27it/s]"
     ]
    },
    {
     "name": "stdout",
     "output_type": "stream",
     "text": [
      "Images for product '고양이_방광염_사료_이즈칸_캣_유리너리_버라이어티_5kg' successfully processed.\n"
     ]
    },
    {
     "name": "stderr",
     "output_type": "stream",
     "text": [
      "Processing pages:  13%|█▎        | 2764/20713 [42:17<4:10:17,  1.20it/s]"
     ]
    },
    {
     "name": "stdout",
     "output_type": "stream",
     "text": [
      "Images for product '로얄캐닌_캣_스테럴라이즈드_파우치_85g' successfully processed.\n"
     ]
    },
    {
     "name": "stderr",
     "output_type": "stream",
     "text": [
      "Processing pages:  13%|█▎        | 2786/20713 [42:36<3:53:37,  1.28it/s]"
     ]
    },
    {
     "name": "stdout",
     "output_type": "stream",
     "text": [
      "Images for product '피너클_사료_그레인프리_연어__호박_4' successfully processed.\n",
      "Images for product '11_세라피드_캣_그레인프리_체중관리_웨이트_컨트롤_사료_7kg' successfully processed.\n",
      "Images for product '벅스펫_벅스독_오리지날_인섹트사료_1' successfully processed.\n",
      "Images for product 'ANF_식스프리골드_고양이사료_8KG_400G_X_20팩_코스트코_생후_12개월_이상' successfully processed.\n"
     ]
    },
    {
     "name": "stderr",
     "output_type": "stream",
     "text": [
      "Processing pages:  13%|█▎        | 2787/20713 [42:37<4:21:42,  1.14it/s]"
     ]
    },
    {
     "name": "stdout",
     "output_type": "stream",
     "text": [
      "Images for product '코스트코_커클랜드_고양이_사료_11' successfully processed.\n",
      "Images for product '스맥_독_로푸드_포크_1' successfully processed.\n",
      "Images for product '아카나_패시피카_독_2kg_전연령_강아지_사료' successfully processed.\n"
     ]
    },
    {
     "name": "stderr",
     "output_type": "stream",
     "text": [
      "Processing pages:  13%|█▎        | 2788/20713 [42:38<4:20:00,  1.15it/s]"
     ]
    },
    {
     "name": "stdout",
     "output_type": "stream",
     "text": [
      "Images for product '강아지사료샘플_닥터도비_샘플_새끼강아지' successfully processed.\n",
      "Images for product '지위픽_캣식품_캣_캔_양고기_185g_고양이_습식사료' successfully processed.\n"
     ]
    },
    {
     "name": "stderr",
     "output_type": "stream",
     "text": [
      "Processing pages:  13%|█▎        | 2789/20713 [42:39<4:09:33,  1.20it/s]"
     ]
    },
    {
     "name": "stdout",
     "output_type": "stream",
     "text": [
      "Images for product '보나시보_퍼피_램__라이스_15kg_강아지사료' successfully processed.\n"
     ]
    },
    {
     "name": "stderr",
     "output_type": "stream",
     "text": [
      "Processing pages:  13%|█▎        | 2790/20713 [42:40<4:00:07,  1.24it/s]"
     ]
    },
    {
     "name": "stdout",
     "output_type": "stream",
     "text": [
      "Images for product '더마독_슬리밍_강아지_다이어트_사료_6kg_가수분해_개사료' successfully processed.\n"
     ]
    },
    {
     "name": "stderr",
     "output_type": "stream",
     "text": [
      "Processing pages:  14%|█▎        | 2798/20713 [42:46<4:06:46,  1.21it/s]"
     ]
    },
    {
     "name": "stdout",
     "output_type": "stream",
     "text": [
      "Images for product '목우촌_말티즈_전용_사료_펫9단_1' successfully processed.\n",
      "Images for product '라포그_사료_리얼_인섹트_4kg400g_관절_케어' successfully processed.\n"
     ]
    },
    {
     "name": "stderr",
     "output_type": "stream",
     "text": [
      "Processing pages:  14%|█▎        | 2802/20713 [42:50<4:08:39,  1.20it/s]"
     ]
    },
    {
     "name": "stdout",
     "output_type": "stream",
     "text": [
      "Images for product '서울사료_나비랑_5kg_고양이사료' successfully processed.\n"
     ]
    },
    {
     "name": "stderr",
     "output_type": "stream",
     "text": [
      "Processing pages:  14%|█▎        | 2803/20713 [42:50<4:09:07,  1.20it/s]"
     ]
    },
    {
     "name": "stdout",
     "output_type": "stream",
     "text": [
      "Images for product '힐스_강아지사료_어덜트_스몰포_7kg' successfully processed.\n"
     ]
    },
    {
     "name": "stderr",
     "output_type": "stream",
     "text": [
      "Processing pages:  14%|█▎        | 2817/20713 [43:02<3:55:33,  1.27it/s]"
     ]
    },
    {
     "name": "stdout",
     "output_type": "stream",
     "text": [
      "Images for product '오리젠_가디언8_캣_340g_고양이_사료' successfully processed.\n"
     ]
    },
    {
     "name": "stderr",
     "output_type": "stream",
     "text": [
      "Processing pages:  14%|█▎        | 2818/20713 [43:03<4:15:21,  1.17it/s]"
     ]
    },
    {
     "name": "stdout",
     "output_type": "stream",
     "text": [
      "Images for product '로얄캐닌_처방식_독_유리너리SO_2kg_강아지' successfully processed.\n",
      "Images for product '사료체험팩쉨잇_캣_북어_80g_전연령_고양이사료' successfully processed.\n",
      "Images for product '뉴트리나_프라임캣_에코_5kg_고양이_길고양이_사료' successfully processed.\n"
     ]
    },
    {
     "name": "stderr",
     "output_type": "stream",
     "text": [
      "Processing pages:  14%|█▎        | 2819/20713 [43:04<4:12:45,  1.18it/s]"
     ]
    },
    {
     "name": "stdout",
     "output_type": "stream",
     "text": [
      "Images for product '곰표_대한사료_도그라인_원더풀_15kg' successfully processed.\n"
     ]
    },
    {
     "name": "stderr",
     "output_type": "stream",
     "text": [
      "Processing pages:  14%|█▎        | 2822/20713 [43:07<4:23:25,  1.13it/s]"
     ]
    },
    {
     "name": "stdout",
     "output_type": "stream",
     "text": [
      "Images for product '퓨어비타_캣_치킨_그레인프리_사료_6' successfully processed.\n",
      "Images for product '로얄캐닌_캣_습식사료_다이제스트_그레이비_파우치_85g_고양이_주식_간식' successfully processed.\n",
      "Images for product '브릿_파우치_어덜트_그레이비_닭고기_고양이_습식사료_주식캔_85g' successfully processed.\n"
     ]
    },
    {
     "name": "stderr",
     "output_type": "stream",
     "text": [
      "Processing pages:  14%|█▎        | 2828/20713 [43:12<4:10:14,  1.19it/s]"
     ]
    },
    {
     "name": "stdout",
     "output_type": "stream",
     "text": [
      "Images for product '브릿_프레쉬_생육사료_칠면조_피트슬림_12kg_체중조절_노령견' successfully processed.\n"
     ]
    },
    {
     "name": "stderr",
     "output_type": "stream",
     "text": [
      "Processing pages:  14%|█▎        | 2833/20713 [43:16<4:22:26,  1.14it/s]"
     ]
    },
    {
     "name": "stdout",
     "output_type": "stream",
     "text": [
      "Images for product '퓨어럭스_스몰브리드_독_강아지사료_1' successfully processed.\n"
     ]
    },
    {
     "name": "stderr",
     "output_type": "stream",
     "text": [
      "Processing pages:  14%|█▎        | 2837/20713 [43:19<4:27:22,  1.11it/s]"
     ]
    },
    {
     "name": "stdout",
     "output_type": "stream",
     "text": [
      "Images for product '피니키_유기농_HA_가수분해_소고기_강아지_사료_7kg' successfully processed.\n"
     ]
    },
    {
     "name": "stderr",
     "output_type": "stream",
     "text": [
      "Processing pages:  14%|█▎        | 2838/20713 [43:21<4:49:19,  1.03it/s]"
     ]
    },
    {
     "name": "stdout",
     "output_type": "stream",
     "text": [
      "Images for product '에코5a_퍼피_연어_2' successfully processed.\n",
      "Images for product '포르자10_센서티브_기능성_사료_피부_1' successfully processed.\n"
     ]
    },
    {
     "name": "stderr",
     "output_type": "stream",
     "text": [
      "Processing pages:  14%|█▎        | 2842/20713 [43:24<4:48:12,  1.03it/s]"
     ]
    },
    {
     "name": "stdout",
     "output_type": "stream",
     "text": [
      "Images for product '로얄캐닌_엑스스몰_어덜트_3kg' successfully processed.\n"
     ]
    },
    {
     "name": "stderr",
     "output_type": "stream",
     "text": [
      "Processing pages:  14%|█▎        | 2844/20713 [43:26<4:22:00,  1.14it/s]"
     ]
    },
    {
     "name": "stdout",
     "output_type": "stream",
     "text": [
      "Images for product '아카나_독_프리런_덕_오리_강아지사료_2kg' successfully processed.\n"
     ]
    },
    {
     "name": "stderr",
     "output_type": "stream",
     "text": [
      "Processing pages:  14%|█▎        | 2845/20713 [43:26<4:06:11,  1.21it/s]"
     ]
    },
    {
     "name": "stdout",
     "output_type": "stream",
     "text": [
      "Images for product '로얄캐닌_마더_앤_베이비캣_울트라_소프트_무스_100g_키튼_아기_고양이_주식_습식_사료_영양식' successfully processed.\n"
     ]
    },
    {
     "name": "stderr",
     "output_type": "stream",
     "text": [
      "Processing pages:  14%|█▎        | 2846/20713 [43:28<4:31:48,  1.10it/s]"
     ]
    },
    {
     "name": "stdout",
     "output_type": "stream",
     "text": [
      "Images for product '앱솔루트_홀리스틱_에어드라이_사료_닭고기호키_1kg' successfully processed.\n",
      "Images for product '에코5a_퍼피_양고기_2' successfully processed.\n"
     ]
    },
    {
     "name": "stderr",
     "output_type": "stream",
     "text": [
      "Processing pages:  14%|█▎        | 2848/20713 [43:29<4:14:36,  1.17it/s]"
     ]
    },
    {
     "name": "stdout",
     "output_type": "stream",
     "text": [
      "Images for product 'ABCare_소프트사료_조인트서포트_1kg' successfully processed.\n",
      "Images for product '오픈팜_캣_블렌드_고양이_습식사료_칠면조_156g' successfully processed.\n"
     ]
    },
    {
     "name": "stderr",
     "output_type": "stream",
     "text": [
      "Processing pages:  14%|█▍        | 2854/20713 [43:34<4:04:33,  1.22it/s]"
     ]
    },
    {
     "name": "stdout",
     "output_type": "stream",
     "text": [
      "Images for product '닥터독_다이어트_사료_250g' successfully processed.\n"
     ]
    },
    {
     "name": "stderr",
     "output_type": "stream",
     "text": [
      "Processing pages:  14%|█▍        | 2855/20713 [43:35<4:05:16,  1.21it/s]"
     ]
    },
    {
     "name": "stdout",
     "output_type": "stream",
     "text": [
      "Images for product '힐스_캣_zd_zd_1' successfully processed.\n"
     ]
    },
    {
     "name": "stderr",
     "output_type": "stream",
     "text": [
      "Processing pages:  14%|█▍        | 2859/20713 [43:38<3:58:58,  1.25it/s]"
     ]
    },
    {
     "name": "stdout",
     "output_type": "stream",
     "text": [
      "Images for product '피너클_송어고구마_5' successfully processed.\n"
     ]
    },
    {
     "name": "stderr",
     "output_type": "stream",
     "text": [
      "Processing pages:  14%|█▍        | 2861/20713 [43:40<4:02:47,  1.23it/s]"
     ]
    },
    {
     "name": "stdout",
     "output_type": "stream",
     "text": [
      "Images for product '로얄캐닌_캣_휘트_피트_2kg_로얄케닌_고양이_사료' successfully processed.\n"
     ]
    },
    {
     "name": "stderr",
     "output_type": "stream",
     "text": [
      "Processing pages:  14%|█▍        | 2863/20713 [43:42<4:12:57,  1.18it/s]"
     ]
    },
    {
     "name": "stdout",
     "output_type": "stream",
     "text": [
      "Images for product '대한사료_홈앤캣_1' successfully processed.\n",
      "Images for product 'go_고사료_그레인프리_LID_오리레시피_단일단백질사료_1' successfully processed.\n"
     ]
    },
    {
     "name": "stderr",
     "output_type": "stream",
     "text": [
      "Processing pages:  14%|█▍        | 2865/20713 [43:43<4:13:38,  1.17it/s]"
     ]
    },
    {
     "name": "stdout",
     "output_type": "stream",
     "text": [
      "Images for product '도착보장_프로베스트캣_15kg_고양이사료' successfully processed.\n"
     ]
    },
    {
     "name": "stderr",
     "output_type": "stream",
     "text": [
      "Processing pages:  14%|█▍        | 2872/20713 [43:49<4:06:04,  1.21it/s]"
     ]
    },
    {
     "name": "stdout",
     "output_type": "stream",
     "text": [
      "Images for product '뉴웰_캣_그레인프리_6kg6kg_전연령_길냥이사료_길고양이사료_뉴웰캣' successfully processed.\n"
     ]
    },
    {
     "name": "stderr",
     "output_type": "stream",
     "text": [
      "Processing pages:  14%|█▍        | 2873/20713 [43:50<4:24:42,  1.12it/s]"
     ]
    },
    {
     "name": "stdout",
     "output_type": "stream",
     "text": [
      "Images for product '도그랑_강아지_사료_도그랑_에이스_PET_2kg' successfully processed.\n",
      "Images for product '힐스_강아지사료_어덜트_라이트_스몰바이트_2kg' successfully processed.\n",
      "Images for product '프로네이처_독_홀리스틱_칠면조크랜베리__2' successfully processed.\n"
     ]
    },
    {
     "name": "stderr",
     "output_type": "stream",
     "text": [
      "Processing pages:  14%|█▍        | 2874/20713 [43:51<4:32:13,  1.09it/s]"
     ]
    },
    {
     "name": "stdout",
     "output_type": "stream",
     "text": [
      "Images for product '캐츠랑_고양이_사료_전연령_리브레_2kg_X_6EA' successfully processed.\n"
     ]
    },
    {
     "name": "stderr",
     "output_type": "stream",
     "text": [
      "Processing pages:  14%|█▍        | 2876/20713 [43:52<4:05:04,  1.21it/s]"
     ]
    },
    {
     "name": "stdout",
     "output_type": "stream",
     "text": [
      "Images for product '닥터도비_힙앤조인트_7' successfully processed.\n"
     ]
    },
    {
     "name": "stderr",
     "output_type": "stream",
     "text": [
      "Processing pages:  14%|█▍        | 2877/20713 [43:53<4:16:19,  1.16it/s]"
     ]
    },
    {
     "name": "stdout",
     "output_type": "stream",
     "text": [
      "Images for product '애견비책_햇밥_120g_4가지_맛' successfully processed.\n"
     ]
    },
    {
     "name": "stderr",
     "output_type": "stream",
     "text": [
      "Processing pages:  14%|█▍        | 2879/20713 [43:55<4:14:55,  1.17it/s]"
     ]
    },
    {
     "name": "stdout",
     "output_type": "stream",
     "text": [
      "Images for product '달링키친_강아지_화식_사료샘플_반려견_자연식_화식_1봉_100g' successfully processed.\n"
     ]
    },
    {
     "name": "stderr",
     "output_type": "stream",
     "text": [
      "Processing pages:  14%|█▍        | 2885/20713 [44:00<3:59:15,  1.24it/s]"
     ]
    },
    {
     "name": "stdout",
     "output_type": "stream",
     "text": [
      "Images for product '듀먼_닭가슴살채소_오리지널_화식사료_50g_x12팩' successfully processed.\n"
     ]
    },
    {
     "name": "stderr",
     "output_type": "stream",
     "text": [
      "Processing pages:  14%|█▍        | 2889/20713 [44:03<3:58:23,  1.25it/s]"
     ]
    },
    {
     "name": "stdout",
     "output_type": "stream",
     "text": [
      "Images for product '오리젠_오리지널_독_11' successfully processed.\n"
     ]
    },
    {
     "name": "stderr",
     "output_type": "stream",
     "text": [
      "Processing pages:  14%|█▍        | 2891/20713 [44:05<4:14:18,  1.17it/s]"
     ]
    },
    {
     "name": "stdout",
     "output_type": "stream",
     "text": [
      "Images for product '샘플_후새_고양이_사료_샘플' successfully processed.\n"
     ]
    },
    {
     "name": "stderr",
     "output_type": "stream",
     "text": [
      "Processing pages:  14%|█▍        | 2892/20713 [44:06<4:39:55,  1.06it/s]"
     ]
    },
    {
     "name": "stdout",
     "output_type": "stream",
     "text": [
      "Images for product '로얄캐닌_독_유리너리_모더레이트_칼로리_1' successfully processed.\n",
      "Images for product '스쿱543_강아지_수제사료_저단백_건강식_건강한_멍죽오리_200g' successfully processed.\n",
      "Images for product '5종_택1_더리얼로우_강아지_사료_360g_닭고기_퍼피' successfully processed.\n",
      "Images for product '네츄럴코어_에코6_센서티브_연어사료_10kg' successfully processed.\n"
     ]
    },
    {
     "name": "stderr",
     "output_type": "stream",
     "text": [
      "Processing pages:  14%|█▍        | 2895/20713 [44:09<4:06:02,  1.21it/s]"
     ]
    },
    {
     "name": "stdout",
     "output_type": "stream",
     "text": [
      "Images for product '로얄캐닌_어린_강아지_사료_미니_인도어_퍼피_3kg' successfully processed.\n"
     ]
    },
    {
     "name": "stderr",
     "output_type": "stream",
     "text": [
      "Processing pages:  14%|█▍        | 2906/20713 [44:18<4:07:36,  1.20it/s]"
     ]
    },
    {
     "name": "stdout",
     "output_type": "stream",
     "text": [
      "Images for product '로얄캐닌_독_아날러제닉_스몰독_3kg__중증_알러지사료' successfully processed.\n"
     ]
    },
    {
     "name": "stderr",
     "output_type": "stream",
     "text": [
      "Processing pages:  14%|█▍        | 2909/20713 [44:21<4:17:20,  1.15it/s]"
     ]
    },
    {
     "name": "stdout",
     "output_type": "stream",
     "text": [
      "Images for product '로얄캐닌_독_유리너리_스몰독_4kg_결석_요로_방광염_강아지_애견_반려견_처방_사료' successfully processed.\n"
     ]
    },
    {
     "name": "stderr",
     "output_type": "stream",
     "text": [
      "Processing pages:  14%|█▍        | 2910/20713 [44:22<4:07:23,  1.20it/s]"
     ]
    },
    {
     "name": "stdout",
     "output_type": "stream",
     "text": [
      "Images for product '사은품_증정_담아본_수제사료_소고기홍삼_900g_강아지_면역력증진_반습식_소프트사료' successfully processed.\n"
     ]
    },
    {
     "name": "stderr",
     "output_type": "stream",
     "text": [
      "Processing pages:  14%|█▍        | 2914/20713 [44:25<4:19:02,  1.15it/s]"
     ]
    },
    {
     "name": "stdout",
     "output_type": "stream",
     "text": [
      "Images for product '닥터독_그레인프리_연어_사료_3' successfully processed.\n",
      "Images for product '소프트사료_윌로펫_어덜트_1' successfully processed.\n"
     ]
    },
    {
     "name": "stderr",
     "output_type": "stream",
     "text": [
      "Processing pages:  14%|█▍        | 2920/20713 [44:30<4:09:17,  1.19it/s]"
     ]
    },
    {
     "name": "stdout",
     "output_type": "stream",
     "text": [
      "Images for product '신장_레시피브이_반려묘_레날_처방식사료_1' successfully processed.\n"
     ]
    },
    {
     "name": "stderr",
     "output_type": "stream",
     "text": [
      "Processing pages:  14%|█▍        | 2923/20713 [44:33<3:56:12,  1.26it/s]"
     ]
    },
    {
     "name": "stdout",
     "output_type": "stream",
     "text": [
      "Images for product '스텔라앤츄이스_크레이빙스_고양이_주식파우치_습식사료_튜나펌킨_80g' successfully processed.\n"
     ]
    },
    {
     "name": "stderr",
     "output_type": "stream",
     "text": [
      "Processing pages:  14%|█▍        | 2925/20713 [44:34<3:55:49,  1.26it/s]"
     ]
    },
    {
     "name": "stdout",
     "output_type": "stream",
     "text": [
      "Images for product '로얄캐닌_강아지사료_중대형견_미디움_퍼피_10kg' successfully processed.\n"
     ]
    },
    {
     "name": "stderr",
     "output_type": "stream",
     "text": [
      "Processing pages:  14%|█▍        | 2930/20713 [44:38<4:01:50,  1.23it/s]"
     ]
    },
    {
     "name": "stdout",
     "output_type": "stream",
     "text": [
      "Images for product '토탈_이퀼리브리오_캣_1' successfully processed.\n"
     ]
    },
    {
     "name": "stderr",
     "output_type": "stream",
     "text": [
      "Processing pages:  14%|█▍        | 2931/20713 [44:39<4:05:38,  1.21it/s]"
     ]
    },
    {
     "name": "stdout",
     "output_type": "stream",
     "text": [
      "Images for product '동동이네_고양이_습식_사료_캐나다_프레쉬_캣_85g_156g_연어_기호성_높은_주식캔' successfully processed.\n"
     ]
    },
    {
     "name": "stderr",
     "output_type": "stream",
     "text": [
      "Processing pages:  14%|█▍        | 2936/20713 [44:43<4:07:24,  1.20it/s]"
     ]
    },
    {
     "name": "stdout",
     "output_type": "stream",
     "text": [
      "Images for product 'N포인트_7000_청담사료_5kg_스킨코트_가수분해_알러지사료' successfully processed.\n"
     ]
    },
    {
     "name": "stderr",
     "output_type": "stream",
     "text": [
      "Processing pages:  14%|█▍        | 2938/20713 [44:45<4:11:57,  1.18it/s]"
     ]
    },
    {
     "name": "stdout",
     "output_type": "stream",
     "text": [
      "Images for product '로얄캐닌_포메라니안_어덜트_전용사료_1' successfully processed.\n"
     ]
    },
    {
     "name": "stderr",
     "output_type": "stream",
     "text": [
      "Processing pages:  14%|█▍        | 2939/20713 [44:46<4:08:04,  1.19it/s]"
     ]
    },
    {
     "name": "stdout",
     "output_type": "stream",
     "text": [
      "Images for product '풀무원_아미오_홀리스틱_시니어_5kg_반려견_사료' successfully processed.\n"
     ]
    },
    {
     "name": "stderr",
     "output_type": "stream",
     "text": [
      "Processing pages:  14%|█▍        | 2940/20713 [44:47<4:19:35,  1.14it/s]"
     ]
    },
    {
     "name": "stdout",
     "output_type": "stream",
     "text": [
      "Images for product '내추럴_그레이트니스_강아지_사료_독_레빗_레시피_2kg천연개껌_2p' successfully processed.\n"
     ]
    },
    {
     "name": "stderr",
     "output_type": "stream",
     "text": [
      "Processing pages:  14%|█▍        | 2942/20713 [44:48<4:09:45,  1.19it/s]"
     ]
    },
    {
     "name": "stdout",
     "output_type": "stream",
     "text": [
      "Images for product '빅스비_러블_동결건조사료_오리_128g' successfully processed.\n"
     ]
    },
    {
     "name": "stderr",
     "output_type": "stream",
     "text": [
      "Processing pages:  14%|█▍        | 2943/20713 [44:49<4:00:35,  1.23it/s]"
     ]
    },
    {
     "name": "stdout",
     "output_type": "stream",
     "text": [
      "Images for product '강아지_샘플사료_눈물_알러지_다이어트_네츄럴코어_에코6살몬_사료' successfully processed.\n"
     ]
    },
    {
     "name": "stderr",
     "output_type": "stream",
     "text": [
      "Processing pages:  14%|█▍        | 2947/20713 [44:53<4:34:27,  1.08it/s]"
     ]
    },
    {
     "name": "stdout",
     "output_type": "stream",
     "text": [
      "Images for product 'GO_고_캣_고양이_사료_스킨앤코트_치킨_레시피_1' successfully processed.\n"
     ]
    },
    {
     "name": "stderr",
     "output_type": "stream",
     "text": [
      "Processing pages:  14%|█▍        | 2951/20713 [44:56<4:15:18,  1.16it/s]"
     ]
    },
    {
     "name": "stdout",
     "output_type": "stream",
     "text": [
      "Images for product '풀무원_아미오_홀리스틱_어덜트_강아지_사료_1' successfully processed.\n",
      "Images for product '피쉬포독_슈페리어_어덜트_1' successfully processed.\n"
     ]
    },
    {
     "name": "stderr",
     "output_type": "stream",
     "text": [
      "Processing pages:  14%|█▍        | 2952/20713 [44:57<4:18:02,  1.15it/s]"
     ]
    },
    {
     "name": "stdout",
     "output_type": "stream",
     "text": [
      "Images for product '나우_사료_스몰브리드_어덜트_2' successfully processed.\n"
     ]
    },
    {
     "name": "stderr",
     "output_type": "stream",
     "text": [
      "Processing pages:  14%|█▍        | 2971/20713 [45:13<3:53:14,  1.27it/s]"
     ]
    },
    {
     "name": "stdout",
     "output_type": "stream",
     "text": [
      "Images for product '로얄캐닌_처방식_독_하이포알러제닉_캔_400g' successfully processed.\n"
     ]
    },
    {
     "name": "stderr",
     "output_type": "stream",
     "text": [
      "Processing pages:  14%|█▍        | 2972/20713 [45:35<35:39:20,  7.24s/it]"
     ]
    },
    {
     "name": "stdout",
     "output_type": "stream",
     "text": [
      "Images for product '인스팅트_LID_연어_캣_40g_샘플사료' successfully processed.\n",
      "Images for product '대한사료_뉴특수견_15kg_대용량강아지사료_대형견사료_진돗개사료' successfully processed.\n"
     ]
    },
    {
     "name": "stderr",
     "output_type": "stream",
     "text": [
      "Processing pages:  14%|█▍        | 2974/20713 [45:39<22:02:36,  4.47s/it]"
     ]
    },
    {
     "name": "stdout",
     "output_type": "stream",
     "text": [
      "Images for product '로얄캐닌_헤어볼_케어_4kg_고양이_사료' successfully processed.\n",
      "Images for product '위시본_독_9kg_치킨_강아지_사료' successfully processed.\n"
     ]
    },
    {
     "name": "stderr",
     "output_type": "stream",
     "text": [
      "Processing pages:  14%|█▍        | 2975/20713 [45:39<16:30:06,  3.35s/it]"
     ]
    },
    {
     "name": "stdout",
     "output_type": "stream",
     "text": [
      "Images for product '사조_옵티원_연어_오트밀_4' successfully processed.\n"
     ]
    },
    {
     "name": "stderr",
     "output_type": "stream",
     "text": [
      "Processing pages:  14%|█▍        | 2976/20713 [45:40<12:57:11,  2.63s/it]"
     ]
    },
    {
     "name": "stdout",
     "output_type": "stream",
     "text": [
      "Images for product '퓨리나_원_캣_인도어_1' successfully processed.\n",
      "Images for product '웰니스_강아지_눈물사료_심플_살몬앤포테이토_중대형견_10' successfully processed.\n",
      "Images for product '네츄럴랩_케어2_고양이_가수분해_사료_유기농_70_요로피부_2kg_그레인프리' successfully processed.\n"
     ]
    },
    {
     "name": "stderr",
     "output_type": "stream",
     "text": [
      "Processing pages:  14%|█▍        | 2977/20713 [45:41<10:32:50,  2.14s/it]"
     ]
    },
    {
     "name": "stdout",
     "output_type": "stream",
     "text": [
      "Images for product '건강백서_포메라니안_전용_2kg_강아지_애견사료' successfully processed.\n"
     ]
    },
    {
     "name": "stderr",
     "output_type": "stream",
     "text": [
      "Processing pages:  14%|█▍        | 2978/20713 [45:42<8:55:29,  1.81s/it] "
     ]
    },
    {
     "name": "stdout",
     "output_type": "stream",
     "text": [
      "Images for product '라포그사료_리얼인섹트_사료_4kg400g_추가_라포그_텐탈츄_5P' successfully processed.\n",
      "Images for product '로얄캐닌_고양이사료_마더앤베이비캣_400g_수유기_어미묘_아기고양이용사료' successfully processed.\n"
     ]
    },
    {
     "name": "stderr",
     "output_type": "stream",
     "text": [
      "Processing pages:  14%|█▍        | 2980/20713 [45:44<6:21:39,  1.29s/it]"
     ]
    },
    {
     "name": "stdout",
     "output_type": "stream",
     "text": [
      "Images for product '로얄캐닌_고양이사료_파우치_뷰티케어_그레이비_85g낱개' successfully processed.\n",
      "Images for product '오리젠_6피쉬_캣_5' successfully processed.\n"
     ]
    },
    {
     "name": "stderr",
     "output_type": "stream",
     "text": [
      "Processing pages:  14%|█▍        | 2981/20713 [45:45<5:38:00,  1.14s/it]"
     ]
    },
    {
     "name": "stdout",
     "output_type": "stream",
     "text": [
      "Images for product '브레이버리_캣_중성화_1세이상_닭고기_2kg_고양이사료' successfully processed.\n"
     ]
    },
    {
     "name": "stderr",
     "output_type": "stream",
     "text": [
      "Processing pages:  14%|█▍        | 2982/20713 [45:46<5:06:07,  1.04s/it]"
     ]
    },
    {
     "name": "stdout",
     "output_type": "stream",
     "text": [
      "Images for product '네이처스버라이어티_인스팅트_생식본능_고양이사료_오리지날_치킨_2' successfully processed.\n"
     ]
    },
    {
     "name": "stderr",
     "output_type": "stream",
     "text": [
      "Processing pages:  14%|█▍        | 2984/20713 [45:47<4:38:34,  1.06it/s]"
     ]
    },
    {
     "name": "stdout",
     "output_type": "stream",
     "text": [
      "Images for product '레오나르도_캣_어덜트_컴플리트_3216_고양이사료_대용량_15kg습식_파우치_40g' successfully processed.\n"
     ]
    },
    {
     "name": "stderr",
     "output_type": "stream",
     "text": [
      "Processing pages:  14%|█▍        | 2998/20713 [45:59<4:13:27,  1.16it/s]"
     ]
    },
    {
     "name": "stdout",
     "output_type": "stream",
     "text": [
      "Images for product '레오나르도_캣_시니어_고양이_사료_2kg습식_파우치_40g' successfully processed.\n"
     ]
    },
    {
     "name": "stderr",
     "output_type": "stream",
     "text": [
      "Processing pages:  14%|█▍        | 2999/20713 [46:00<3:58:17,  1.24it/s]"
     ]
    },
    {
     "name": "stdout",
     "output_type": "stream",
     "text": [
      "Images for product '풀무원_아미오_홀리스틱_시니어_강아지_사료_5kg' successfully processed.\n"
     ]
    },
    {
     "name": "stderr",
     "output_type": "stream",
     "text": [
      "Processing pages:  14%|█▍        | 3000/20713 [46:01<4:03:47,  1.21it/s]"
     ]
    },
    {
     "name": "stdout",
     "output_type": "stream",
     "text": [
      "Images for product '샘플_트러스티푸드_강아지_동결건조사료_패티_9g' successfully processed.\n",
      "Images for product '건강백서_시츄_2kg_2개4kg_강아지_애견사료' successfully processed.\n"
     ]
    },
    {
     "name": "stderr",
     "output_type": "stream",
     "text": [
      "Processing pages:  14%|█▍        | 3001/20713 [46:01<3:58:41,  1.24it/s]"
     ]
    },
    {
     "name": "stdout",
     "output_type": "stream",
     "text": [
      "Images for product '대한사료_홈앤독_어덜트' successfully processed.\n"
     ]
    },
    {
     "name": "stderr",
     "output_type": "stream",
     "text": [
      "Processing pages:  14%|█▍        | 3003/20713 [46:03<4:24:47,  1.11it/s]"
     ]
    },
    {
     "name": "stdout",
     "output_type": "stream",
     "text": [
      "Images for product '팜스코_웰비스타_시니어_4kg_노령견사료_애완견' successfully processed.\n",
      "Images for product '스티브스_리얼푸드_동결건조_사료_566g_터키' successfully processed.\n"
     ]
    },
    {
     "name": "stderr",
     "output_type": "stream",
     "text": [
      "Processing pages:  15%|█▍        | 3009/20713 [46:09<4:24:52,  1.11it/s]"
     ]
    },
    {
     "name": "stdout",
     "output_type": "stream",
     "text": [
      "Images for product '무마진_소프트사료_연어_황태_4' successfully processed.\n"
     ]
    },
    {
     "name": "stderr",
     "output_type": "stream",
     "text": [
      "Processing pages:  15%|█▍        | 3020/20713 [46:19<5:08:11,  1.05s/it]"
     ]
    },
    {
     "name": "stdout",
     "output_type": "stream",
     "text": [
      "Images for product '아르테미스_HIT_연어스노우크랩_고양이사료_4' successfully processed.\n",
      "Images for product '맥아담스_사료_소형견_치킨_연어_5kg' successfully processed.\n"
     ]
    },
    {
     "name": "stderr",
     "output_type": "stream",
     "text": [
      "Processing pages:  15%|█▍        | 3021/20713 [46:20<5:37:42,  1.15s/it]"
     ]
    },
    {
     "name": "stdout",
     "output_type": "stream",
     "text": [
      "Images for product '로얄캐닌_에이징_12_젤리_파우치_85g_습식_고양이_사료' successfully processed.\n"
     ]
    },
    {
     "name": "stderr",
     "output_type": "stream",
     "text": [
      "Processing pages:  15%|█▍        | 3022/20713 [46:21<5:19:49,  1.08s/it]"
     ]
    },
    {
     "name": "stdout",
     "output_type": "stream",
     "text": [
      "Images for product '웰썸_인섹트_관절_사료_3' successfully processed.\n",
      "Images for product '카길_뉴트리나_어덜트_연어_사료_2' successfully processed.\n",
      "Images for product '반할끼니_알러지_가수분해사료_연어_밀웜_루테인_3kg' successfully processed.\n"
     ]
    },
    {
     "name": "stderr",
     "output_type": "stream",
     "text": [
      "Processing pages:  15%|█▍        | 3028/20713 [46:27<4:34:52,  1.07it/s]"
     ]
    },
    {
     "name": "stdout",
     "output_type": "stream",
     "text": [
      "Images for product '몰리스_프로밸런스_2' successfully processed.\n"
     ]
    },
    {
     "name": "stderr",
     "output_type": "stream",
     "text": [
      "Processing pages:  15%|█▍        | 3032/20713 [46:30<3:56:01,  1.25it/s]"
     ]
    },
    {
     "name": "stdout",
     "output_type": "stream",
     "text": [
      "Images for product 'ANF_캣_식스프리플러스_키튼_1' successfully processed.\n"
     ]
    },
    {
     "name": "stderr",
     "output_type": "stream",
     "text": [
      "Processing pages:  15%|█▍        | 3033/20713 [46:30<3:51:51,  1.27it/s]"
     ]
    },
    {
     "name": "stdout",
     "output_type": "stream",
     "text": [
      "Images for product '프로베스트_캣_밸런스_고양이_전연령_사료_7kg_헤어볼' successfully processed.\n"
     ]
    },
    {
     "name": "stderr",
     "output_type": "stream",
     "text": [
      "Processing pages:  15%|█▍        | 3034/20713 [46:31<4:17:56,  1.14it/s]"
     ]
    },
    {
     "name": "stdout",
     "output_type": "stream",
     "text": [
      "Images for product '오리젠_시니어_독_11' successfully processed.\n"
     ]
    },
    {
     "name": "stderr",
     "output_type": "stream",
     "text": [
      "Processing pages:  15%|█▍        | 3035/20713 [46:32<4:14:10,  1.16it/s]"
     ]
    },
    {
     "name": "stdout",
     "output_type": "stream",
     "text": [
      "Images for product '로얄캐닌_인도어_그레이비_파우치_85g_습식_고양이_사료' successfully processed.\n",
      "Images for product '힐스_사이언스_다이어트_캣_키튼_1' successfully processed.\n"
     ]
    },
    {
     "name": "stderr",
     "output_type": "stream",
     "text": [
      "Processing pages:  15%|█▍        | 3036/20713 [46:33<4:36:00,  1.07it/s]"
     ]
    },
    {
     "name": "stdout",
     "output_type": "stream",
     "text": [
      "Images for product '아침애愛_한우로_만든_수제사료_2' successfully processed.\n"
     ]
    },
    {
     "name": "stderr",
     "output_type": "stream",
     "text": [
      "Processing pages:  15%|█▍        | 3037/20713 [46:34<4:16:00,  1.15it/s]"
     ]
    },
    {
     "name": "stdout",
     "output_type": "stream",
     "text": [
      "Images for product '스맥_독_로푸드_베리치킨_250g_스맥사료_강아지사료' successfully processed.\n"
     ]
    },
    {
     "name": "stderr",
     "output_type": "stream",
     "text": [
      "Processing pages:  15%|█▍        | 3041/20713 [46:38<4:04:31,  1.20it/s]"
     ]
    },
    {
     "name": "stdout",
     "output_type": "stream",
     "text": [
      "Images for product '반해_l_몬지_비와일드_로우그레인_거위_샘플_40g' successfully processed.\n"
     ]
    },
    {
     "name": "stderr",
     "output_type": "stream",
     "text": [
      "Processing pages:  15%|█▍        | 3042/20713 [46:38<3:57:49,  1.24it/s]"
     ]
    },
    {
     "name": "stdout",
     "output_type": "stream",
     "text": [
      "Images for product '듀먼_닭가슴살채소_오리지널_화식사료_50g_x16팩' successfully processed.\n"
     ]
    },
    {
     "name": "stderr",
     "output_type": "stream",
     "text": [
      "Processing pages:  15%|█▍        | 3043/20713 [46:39<4:20:09,  1.13it/s]"
     ]
    },
    {
     "name": "stdout",
     "output_type": "stream",
     "text": [
      "Images for product '벅스독__저단백_저지방_다이어트_췌장_심장_피부_강아지사료_비건포뮬러_1' successfully processed.\n"
     ]
    },
    {
     "name": "stderr",
     "output_type": "stream",
     "text": [
      "Processing pages:  15%|█▍        | 3051/20713 [46:47<4:31:52,  1.08it/s]"
     ]
    },
    {
     "name": "stdout",
     "output_type": "stream",
     "text": [
      "Images for product '고양이_애묘_국내산_영양사료_홀리스틱_대용량_밥이보약_8' successfully processed.\n"
     ]
    },
    {
     "name": "stderr",
     "output_type": "stream",
     "text": [
      "Processing pages:  15%|█▍        | 3052/20713 [46:47<4:17:39,  1.14it/s]"
     ]
    },
    {
     "name": "stdout",
     "output_type": "stream",
     "text": [
      "Images for product '허즈_닭가슴살_100g_강아지_눈물_개선_사료_알러지_알레르기_사료_모질_관절_Herz' successfully processed.\n"
     ]
    },
    {
     "name": "stderr",
     "output_type": "stream",
     "text": [
      "Processing pages:  15%|█▍        | 3061/20713 [46:55<4:07:29,  1.19it/s]"
     ]
    },
    {
     "name": "stdout",
     "output_type": "stream",
     "text": [
      "Images for product '나우_어덜트_스몰브리드_2' successfully processed.\n"
     ]
    },
    {
     "name": "stderr",
     "output_type": "stream",
     "text": [
      "Processing pages:  15%|█▍        | 3063/20713 [46:57<3:52:57,  1.26it/s]"
     ]
    },
    {
     "name": "stdout",
     "output_type": "stream",
     "text": [
      "Images for product '퍼시캣_프리미엄_참치오션피쉬_고양이_주식캔_습식사료_80g' successfully processed.\n"
     ]
    },
    {
     "name": "stderr",
     "output_type": "stream",
     "text": [
      "Processing pages:  15%|█▍        | 3065/20713 [46:58<3:40:03,  1.34it/s]"
     ]
    },
    {
     "name": "stdout",
     "output_type": "stream",
     "text": [
      "Images for product '이즈칸_캣_버라이어티_유리너리_5kg_고양이_사료_전연령' successfully processed.\n"
     ]
    },
    {
     "name": "stderr",
     "output_type": "stream",
     "text": [
      "Processing pages:  15%|█▍        | 3066/20713 [46:59<3:39:44,  1.34it/s]"
     ]
    },
    {
     "name": "stdout",
     "output_type": "stream",
     "text": [
      "Images for product '아카나_강아지_사료_요크셔포크_독_2kg야채스틱_1p' successfully processed.\n"
     ]
    },
    {
     "name": "stderr",
     "output_type": "stream",
     "text": [
      "Processing pages:  15%|█▍        | 3070/20713 [47:02<4:08:25,  1.18it/s]"
     ]
    },
    {
     "name": "stdout",
     "output_type": "stream",
     "text": [
      "Images for product '게더_강아지사료_앤드레스밸리_비건_레시피_사료_2' successfully processed.\n",
      "Images for product '리얼네이처_가수분해_홀리스틱_독_바다_연어_2kg__강아지사료' successfully processed.\n"
     ]
    },
    {
     "name": "stderr",
     "output_type": "stream",
     "text": [
      "Processing pages:  15%|█▍        | 3071/20713 [47:03<4:16:34,  1.15it/s]"
     ]
    },
    {
     "name": "stdout",
     "output_type": "stream",
     "text": [
      "Images for product '심장에_좋은_처방식_오도독_사료_1kg' successfully processed.\n",
      "Images for product '로얄캐닌_캣_레날_셀렉트_2kg_신장_처방사료' successfully processed.\n",
      "Images for product '유럽산유산균_고양이사료_프로바이오틱_라이브_성묘용_오리_2kg' successfully processed.\n"
     ]
    },
    {
     "name": "stderr",
     "output_type": "stream",
     "text": [
      "Processing pages:  15%|█▍        | 3073/20713 [47:05<4:20:49,  1.13it/s]"
     ]
    },
    {
     "name": "stdout",
     "output_type": "stream",
     "text": [
      "Images for product '로얄캐닌_캣_다이아베틱_고양이_당뇨병_반려묘_처방_사료_1' successfully processed.\n",
      "Images for product '고_go_LID_오리_캣_50g_샘플사료' successfully processed.\n"
     ]
    },
    {
     "name": "stderr",
     "output_type": "stream",
     "text": [
      "Processing pages:  15%|█▍        | 3074/20713 [47:05<4:08:56,  1.18it/s]"
     ]
    },
    {
     "name": "stdout",
     "output_type": "stream",
     "text": [
      "Images for product '11_브리젠_고양이_사료_어덜트_캣_웨이트컨트롤_1' successfully processed.\n"
     ]
    },
    {
     "name": "stderr",
     "output_type": "stream",
     "text": [
      "Processing pages:  15%|█▍        | 3076/20713 [47:07<4:20:43,  1.13it/s]"
     ]
    },
    {
     "name": "stdout",
     "output_type": "stream",
     "text": [
      "Images for product '퓨어비타_독_테트라팩_습식사료_칠면조_앙트레_354g' successfully processed.\n"
     ]
    },
    {
     "name": "stderr",
     "output_type": "stream",
     "text": [
      "Processing pages:  15%|█▍        | 3078/20713 [47:09<4:05:00,  1.20it/s]"
     ]
    },
    {
     "name": "stdout",
     "output_type": "stream",
     "text": [
      "Images for product '케어2_고양이_사료_요로피부_2kg_유산균_함유' successfully processed.\n"
     ]
    },
    {
     "name": "stderr",
     "output_type": "stream",
     "text": [
      "Processing pages:  15%|█▍        | 3086/20713 [47:15<3:45:38,  1.30it/s]"
     ]
    },
    {
     "name": "stdout",
     "output_type": "stream",
     "text": [
      "Images for product '자연스럽개_반려견_화식사료직화향_강아지수제간식_건조간식' successfully processed.\n"
     ]
    },
    {
     "name": "stderr",
     "output_type": "stream",
     "text": [
      "Processing pages:  15%|█▍        | 3088/20713 [47:17<3:45:15,  1.30it/s]"
     ]
    },
    {
     "name": "stdout",
     "output_type": "stream",
     "text": [
      "Images for product '워프_와일드베니슨야생사슴_동결건조_전연령_사료_50g' successfully processed.\n"
     ]
    },
    {
     "name": "stderr",
     "output_type": "stream",
     "text": [
      "Processing pages:  15%|█▍        | 3091/20713 [47:19<4:05:53,  1.19it/s]"
     ]
    },
    {
     "name": "stdout",
     "output_type": "stream",
     "text": [
      "Images for product '무료샘플_웰썸_고양이_곤충사료_40g_x3개_그레인프리_고양이_관절_눈물_동애등에_사료' successfully processed.\n"
     ]
    },
    {
     "name": "stderr",
     "output_type": "stream",
     "text": [
      "Processing pages:  15%|█▍        | 3095/20713 [47:24<5:35:58,  1.14s/it]"
     ]
    },
    {
     "name": "stdout",
     "output_type": "stream",
     "text": [
      "Images for product '아카나_어덜트_스몰브리드_독_강아지_사료_2kg' successfully processed.\n"
     ]
    },
    {
     "name": "stderr",
     "output_type": "stream",
     "text": [
      "Processing pages:  15%|█▍        | 3096/20713 [47:25<5:29:53,  1.12s/it]"
     ]
    },
    {
     "name": "stdout",
     "output_type": "stream",
     "text": [
      "Images for product '25목우촌_펫9단_사료_푸들_1' successfully processed.\n"
     ]
    },
    {
     "name": "stderr",
     "output_type": "stream",
     "text": [
      "Processing pages:  15%|█▍        | 3102/20713 [47:29<3:54:15,  1.25it/s]"
     ]
    },
    {
     "name": "stdout",
     "output_type": "stream",
     "text": [
      "Images for product 'ANF_6프리_키튼_2kg_고양이사료' successfully processed.\n",
      "Images for product '로얄캐닌_캣_다이아베틱_1' successfully processed.\n",
      "Images for product '나비랑_캣_고양이사료5kg전연령' successfully processed.\n"
     ]
    },
    {
     "name": "stderr",
     "output_type": "stream",
     "text": [
      "Processing pages:  15%|█▍        | 3103/20713 [47:30<4:19:19,  1.13it/s]"
     ]
    },
    {
     "name": "stdout",
     "output_type": "stream",
     "text": [
      "Images for product '11_플레이저_강아지_습식사료_연어_100g' successfully processed.\n",
      "Images for product '밥이보약_고양이_사료_대용량_8' successfully processed.\n",
      "Images for product '네이처스_버라이어티_생식본능_얼티밋_치킨_고양이_주식캔_습식사료_85g' successfully processed.\n"
     ]
    },
    {
     "name": "stderr",
     "output_type": "stream",
     "text": [
      "Processing pages:  15%|█▍        | 3105/20713 [47:32<4:14:37,  1.15it/s]"
     ]
    },
    {
     "name": "stdout",
     "output_type": "stream",
     "text": [
      "Images for product '보레알_캣_그레인프리_고양이_주식_캔_156g_치킨오리_습식_사료' successfully processed.\n",
      "Images for product '51_벌크형_대용량_기능성_사료_등급_본아페티_강아지_다이어트_기호성_좋은_대형견_사료' successfully processed.\n"
     ]
    },
    {
     "name": "stderr",
     "output_type": "stream",
     "text": [
      "Processing pages:  15%|█▍        | 3106/20713 [47:33<4:01:41,  1.21it/s]"
     ]
    },
    {
     "name": "stdout",
     "output_type": "stream",
     "text": [
      "Images for product '맥아담스_방목_홀치킨사료_중대형견용_10kg' successfully processed.\n"
     ]
    },
    {
     "name": "stderr",
     "output_type": "stream",
     "text": [
      "Processing pages:  15%|█▌        | 3107/20713 [47:33<3:52:37,  1.26it/s]"
     ]
    },
    {
     "name": "stdout",
     "output_type": "stream",
     "text": [
      "Images for product '로얄캐닌_덴탈케어_8kg_고양이사료_오랄케어' successfully processed.\n"
     ]
    },
    {
     "name": "stderr",
     "output_type": "stream",
     "text": [
      "Processing pages:  15%|█▌        | 3108/20713 [47:34<3:49:35,  1.28it/s]"
     ]
    },
    {
     "name": "stdout",
     "output_type": "stream",
     "text": [
      "Images for product 'ANF_소프트_강아지_부드럽고_소화잘되는_반습식_노령견_치킨_1' successfully processed.\n",
      "Images for product '레오나르도_캣_어덜트_순수생육_연어_고양이사료_1' successfully processed.\n"
     ]
    },
    {
     "name": "stderr",
     "output_type": "stream",
     "text": [
      "Processing pages:  15%|█▌        | 3113/20713 [47:38<4:06:45,  1.19it/s]"
     ]
    },
    {
     "name": "stdout",
     "output_type": "stream",
     "text": [
      "Images for product '카디날_퍼시캣_고양이_사료_연어치킨_4' successfully processed.\n"
     ]
    },
    {
     "name": "stderr",
     "output_type": "stream",
     "text": [
      "Processing pages:  15%|█▌        | 3122/20713 [47:46<4:33:53,  1.07it/s]"
     ]
    },
    {
     "name": "stdout",
     "output_type": "stream",
     "text": [
      "Images for product '스페시픽_습식사료_CKW_300gx6ea_박스' successfully processed.\n"
     ]
    },
    {
     "name": "stderr",
     "output_type": "stream",
     "text": [
      "Processing pages:  15%|█▌        | 3129/20713 [47:53<4:28:34,  1.09it/s]"
     ]
    },
    {
     "name": "stdout",
     "output_type": "stream",
     "text": [
      "Images for product '나우_사료_퍼피_스몰브리드_레시피_2' successfully processed.\n"
     ]
    },
    {
     "name": "stderr",
     "output_type": "stream",
     "text": [
      "Processing pages:  15%|█▌        | 3137/20713 [47:59<3:54:34,  1.25it/s]"
     ]
    },
    {
     "name": "stdout",
     "output_type": "stream",
     "text": [
      "Images for product '스페시픽_CRD1_체중감량_6kg_스몰바이트' successfully processed.\n"
     ]
    },
    {
     "name": "stderr",
     "output_type": "stream",
     "text": [
      "Processing pages:  15%|█▌        | 3140/20713 [48:02<4:18:50,  1.13it/s]"
     ]
    },
    {
     "name": "stdout",
     "output_type": "stream",
     "text": [
      "Images for product '로얄캐닌_고양이_인도어27_2kg__실내_반려묘_건강에_맞춘_영양사료' successfully processed.\n",
      "Images for product '뉴트리소스_그레인프리_웨이트_매니지먼트_11' successfully processed.\n",
      "Images for product '유통기한_임박_2404' successfully processed.\n"
     ]
    },
    {
     "name": "stderr",
     "output_type": "stream",
     "text": [
      "Processing pages:  15%|█▌        | 3141/20713 [48:03<4:23:41,  1.11it/s]"
     ]
    },
    {
     "name": "stdout",
     "output_type": "stream",
     "text": [
      "Images for product '150g내추로_미니_연어현미채소_파우치_강아지_습식_사료' successfully processed.\n",
      "Images for product '로우터너티브_에어드라이_사료_142g_뉴질랜드_자연방목_소고기양고기_선택' successfully processed.\n",
      "Images for product '캐츠랑_전연령_5kg_고양이사료' successfully processed.\n"
     ]
    },
    {
     "name": "stderr",
     "output_type": "stream",
     "text": [
      "Processing pages:  15%|█▌        | 3143/20713 [48:05<4:18:59,  1.13it/s]"
     ]
    },
    {
     "name": "stdout",
     "output_type": "stream",
     "text": [
      "Images for product '팜스코_도그닥터_도그몽_15KG_대용량_개사료' successfully processed.\n"
     ]
    },
    {
     "name": "stderr",
     "output_type": "stream",
     "text": [
      "Processing pages:  15%|█▌        | 3144/20713 [48:06<4:30:41,  1.08it/s]"
     ]
    },
    {
     "name": "stdout",
     "output_type": "stream",
     "text": [
      "Images for product '로얄캐닌_처방식_독_유리너리so_캔_410g_강아지' successfully processed.\n"
     ]
    },
    {
     "name": "stderr",
     "output_type": "stream",
     "text": [
      "Processing pages:  15%|█▌        | 3145/20713 [48:06<4:21:43,  1.12it/s]"
     ]
    },
    {
     "name": "stdout",
     "output_type": "stream",
     "text": [
      "Images for product '정기구독_하이독_버라이어티_11종_27팩_강아지_화식_자연식_보양식_영양식_사료' successfully processed.\n"
     ]
    },
    {
     "name": "stderr",
     "output_type": "stream",
     "text": [
      "Processing pages:  15%|█▌        | 3146/20713 [48:07<4:03:12,  1.20it/s]"
     ]
    },
    {
     "name": "stdout",
     "output_type": "stream",
     "text": [
      "Images for product '로얄캐닌_캣파우치_라이트케어_그레이비_85g_1박스12개' successfully processed.\n"
     ]
    },
    {
     "name": "stderr",
     "output_type": "stream",
     "text": [
      "Processing pages:  15%|█▌        | 3147/20713 [48:08<3:54:44,  1.25it/s]"
     ]
    },
    {
     "name": "stdout",
     "output_type": "stream",
     "text": [
      "Images for product '나우_그레인프리_캣_프레쉬_고양이사료_시니어_1' successfully processed.\n"
     ]
    },
    {
     "name": "stderr",
     "output_type": "stream",
     "text": [
      "Processing pages:  15%|█▌        | 3153/20713 [48:12<3:45:45,  1.30it/s]"
     ]
    },
    {
     "name": "stdout",
     "output_type": "stream",
     "text": [
      "Images for product '400g내추로_그레인프리_닭고기감자채소_강아지_습식_사료' successfully processed.\n",
      "Images for product '로얄캐닌_치와와_어덜트_500g_강아지사료' successfully processed.\n"
     ]
    },
    {
     "name": "stderr",
     "output_type": "stream",
     "text": [
      "Processing pages:  15%|█▌        | 3154/20713 [48:13<3:44:19,  1.30it/s]"
     ]
    },
    {
     "name": "stdout",
     "output_type": "stream",
     "text": [
      "Images for product '400g내추로_그레인프리_연어감자채소_강아지_습식_사료' successfully processed.\n"
     ]
    },
    {
     "name": "stderr",
     "output_type": "stream",
     "text": [
      "Processing pages:  15%|█▌        | 3156/20713 [48:15<3:47:15,  1.29it/s]"
     ]
    },
    {
     "name": "stdout",
     "output_type": "stream",
     "text": [
      "Images for product '댐잇_강아지화식_강아지자연식_수제_미트로프_올인원60gx7개입' successfully processed.\n"
     ]
    },
    {
     "name": "stderr",
     "output_type": "stream",
     "text": [
      "Processing pages:  15%|█▌        | 3165/20713 [48:24<5:40:42,  1.16s/it]"
     ]
    },
    {
     "name": "stdout",
     "output_type": "stream",
     "text": [
      "Images for product '아보덤_조인트헬스_그레인프리_1kg_관절사료_액티브케어' successfully processed.\n"
     ]
    },
    {
     "name": "stderr",
     "output_type": "stream",
     "text": [
      "Processing pages:  15%|█▌        | 3174/20713 [48:31<3:37:33,  1.34it/s]"
     ]
    },
    {
     "name": "stdout",
     "output_type": "stream",
     "text": [
      "Images for product '건강백서사료_뉴트리나_푸들_4kg_유기농사료' successfully processed.\n"
     ]
    },
    {
     "name": "stderr",
     "output_type": "stream",
     "text": [
      "Processing pages:  15%|█▌        | 3175/20713 [48:32<4:56:22,  1.01s/it]"
     ]
    },
    {
     "name": "stdout",
     "output_type": "stream",
     "text": [
      "Images for product '힐스_독_wd_12' successfully processed.\n",
      "Images for product '네츄럴랩_케어1_장면역_유기농_70_가수분해_고양이_사료_9kg' successfully processed.\n",
      "Images for product '나우_프레쉬_어덜트_고양이_1' successfully processed.\n"
     ]
    },
    {
     "name": "stderr",
     "output_type": "stream",
     "text": [
      "Processing pages:  15%|█▌        | 3176/20713 [48:33<5:04:43,  1.04s/it]"
     ]
    },
    {
     "name": "stdout",
     "output_type": "stream",
     "text": [
      "Images for product '허즈사료_알러지눈물_사료_닭가슴살_908g_2LB' successfully processed.\n"
     ]
    },
    {
     "name": "stderr",
     "output_type": "stream",
     "text": [
      "Processing pages:  15%|█▌        | 3177/20713 [48:34<4:47:00,  1.02it/s]"
     ]
    },
    {
     "name": "stdout",
     "output_type": "stream",
     "text": [
      "Images for product '미오_사료_참치_3kg' successfully processed.\n"
     ]
    },
    {
     "name": "stderr",
     "output_type": "stream",
     "text": [
      "Processing pages:  15%|█▌        | 3179/20713 [48:36<4:28:17,  1.09it/s]"
     ]
    },
    {
     "name": "stdout",
     "output_type": "stream",
     "text": [
      "Images for product '더마독_슬리밍_강아지_다이어트_건강사료_2kg' successfully processed.\n"
     ]
    },
    {
     "name": "stderr",
     "output_type": "stream",
     "text": [
      "Processing pages:  15%|█▌        | 3181/20713 [48:38<4:22:57,  1.11it/s]"
     ]
    },
    {
     "name": "stdout",
     "output_type": "stream",
     "text": [
      "Images for product '로얄캐닌_캣_습식사료_키튼_젤리_파우치_85g_고양이_주식_간식' successfully processed.\n"
     ]
    },
    {
     "name": "stderr",
     "output_type": "stream",
     "text": [
      "Processing pages:  15%|█▌        | 3185/20713 [48:41<4:10:37,  1.17it/s]"
     ]
    },
    {
     "name": "stdout",
     "output_type": "stream",
     "text": [
      "Images for product '듀먼_연어채소_오리지널_화식사료_50g_x12팩' successfully processed.\n",
      "Images for product '네츄럴코어_에코7_센시티브_양고기_사료_1kg' successfully processed.\n"
     ]
    },
    {
     "name": "stderr",
     "output_type": "stream",
     "text": [
      "Processing pages:  15%|█▌        | 3187/20713 [48:43<4:23:57,  1.11it/s]"
     ]
    },
    {
     "name": "stdout",
     "output_type": "stream",
     "text": [
      "Images for product '트루라인_미트앤피쉬_강아지사료_2kg' successfully processed.\n"
     ]
    },
    {
     "name": "stderr",
     "output_type": "stream",
     "text": [
      "Processing pages:  15%|█▌        | 3188/20713 [48:44<4:14:32,  1.15it/s]"
     ]
    },
    {
     "name": "stdout",
     "output_type": "stream",
     "text": [
      "Images for product '내추럴발란스_캣_울트라_그레인프리_인도어_닭연어_50g_샘플사료' successfully processed.\n"
     ]
    },
    {
     "name": "stderr",
     "output_type": "stream",
     "text": [
      "Processing pages:  15%|█▌        | 3191/20713 [48:46<3:54:55,  1.24it/s]"
     ]
    },
    {
     "name": "stdout",
     "output_type": "stream",
     "text": [
      "Images for product '천하제일사료_스피루작은알_20kg_종모견_번식견_애견사료' successfully processed.\n",
      "Images for product 'NEW_캐츠랑_전연령_5Kg_고양이사료' successfully processed.\n"
     ]
    },
    {
     "name": "stderr",
     "output_type": "stream",
     "text": [
      "Processing pages:  15%|█▌        | 3193/20713 [48:48<3:59:09,  1.22it/s]"
     ]
    },
    {
     "name": "stdout",
     "output_type": "stream",
     "text": [
      "Images for product '힐스_강아지사료_퍼피_라지브리드_15kg' successfully processed.\n",
      "Images for product '다빈치독_LID_소프트_다이어트사료300g' successfully processed.\n"
     ]
    },
    {
     "name": "stderr",
     "output_type": "stream",
     "text": [
      "Processing pages:  15%|█▌        | 3205/20713 [48:58<3:59:17,  1.22it/s]"
     ]
    },
    {
     "name": "stdout",
     "output_type": "stream",
     "text": [
      "Images for product '위시본_사료_연어_독_1' successfully processed.\n"
     ]
    },
    {
     "name": "stderr",
     "output_type": "stream",
     "text": [
      "Processing pages:  15%|█▌        | 3208/20713 [49:00<3:42:09,  1.31it/s]"
     ]
    },
    {
     "name": "stdout",
     "output_type": "stream",
     "text": [
      "Images for product '카루_클래식_고양이_습식사료_치킨크랩_스튜_170g' successfully processed.\n"
     ]
    },
    {
     "name": "stderr",
     "output_type": "stream",
     "text": [
      "Processing pages:  15%|█▌        | 3209/20713 [49:01<3:45:42,  1.29it/s]"
     ]
    },
    {
     "name": "stdout",
     "output_type": "stream",
     "text": [
      "Images for product '포르자10_센시티브_티어스테인_플러스_1' successfully processed.\n"
     ]
    },
    {
     "name": "stderr",
     "output_type": "stream",
     "text": [
      "Processing pages:  16%|█▌        | 3221/20713 [49:11<4:12:10,  1.16it/s]"
     ]
    },
    {
     "name": "stdout",
     "output_type": "stream",
     "text": [
      "Images for product '뉴트로_캣_1세이상_실내묘용_흰살생선과_현미_2' successfully processed.\n",
      "Images for product '밥이보약_CAT_고양이_사료_4kg_피모스트레스' successfully processed.\n"
     ]
    },
    {
     "name": "stderr",
     "output_type": "stream",
     "text": [
      "Processing pages:  16%|█▌        | 3223/20713 [49:12<3:44:05,  1.30it/s]"
     ]
    },
    {
     "name": "stdout",
     "output_type": "stream",
     "text": [
      "Images for product '로얄캐닌_강아지사료_엑스스몰퍼피_1' successfully processed.\n"
     ]
    },
    {
     "name": "stderr",
     "output_type": "stream",
     "text": [
      "Processing pages:  16%|█▌        | 3224/20713 [49:13<3:38:07,  1.34it/s]"
     ]
    },
    {
     "name": "stdout",
     "output_type": "stream",
     "text": [
      "Images for product '본아페티_슬림_앤_조인트케어_소프트_반습식_사료_샘플러_100g' successfully processed.\n"
     ]
    },
    {
     "name": "stderr",
     "output_type": "stream",
     "text": [
      "Processing pages:  16%|█▌        | 3227/20713 [49:16<3:51:49,  1.26it/s]"
     ]
    },
    {
     "name": "stdout",
     "output_type": "stream",
     "text": [
      "Images for product '도착보장_힐스_고양이사료_어덜트_7_헤어볼_컨트롤_1' successfully processed.\n"
     ]
    },
    {
     "name": "stderr",
     "output_type": "stream",
     "text": [
      "Processing pages:  16%|█▌        | 3228/20713 [49:16<3:46:57,  1.28it/s]"
     ]
    },
    {
     "name": "stdout",
     "output_type": "stream",
     "text": [
      "Images for product '로얄캐닌_미디움_어덜트_중형견_면역증진_강아지_사료_10kg' successfully processed.\n",
      "Images for product '특허원료_강아지_저_알러지_사료_1kg_토핑으로도_좋은_말랑한_노령견_노견_사료' successfully processed.\n",
      "Images for product '로얄캐닌_미니_인도어_어덜트_3kg_소형견__강아지사료' successfully processed.\n"
     ]
    },
    {
     "name": "stderr",
     "output_type": "stream",
     "text": [
      "Processing pages:  16%|█▌        | 3229/20713 [49:17<3:48:42,  1.27it/s]"
     ]
    },
    {
     "name": "stdout",
     "output_type": "stream",
     "text": [
      "Images for product '테비랑_생연어_5kg_x_3개_Tabby_고양이사료' successfully processed.\n"
     ]
    },
    {
     "name": "stderr",
     "output_type": "stream",
     "text": [
      "Processing pages:  16%|█▌        | 3230/20713 [49:18<3:46:40,  1.29it/s]"
     ]
    },
    {
     "name": "stdout",
     "output_type": "stream",
     "text": [
      "Images for product '로얄캐닌_인도어롱헤어_10kg_고양이사료' successfully processed.\n"
     ]
    },
    {
     "name": "stderr",
     "output_type": "stream",
     "text": [
      "Processing pages:  16%|█▌        | 3234/20713 [49:21<3:48:55,  1.27it/s]"
     ]
    },
    {
     "name": "stdout",
     "output_type": "stream",
     "text": [
      "Images for product '로얄캐닌_독_다이아베틱_1' successfully processed.\n"
     ]
    },
    {
     "name": "stderr",
     "output_type": "stream",
     "text": [
      "Processing pages:  16%|█▌        | 3238/20713 [49:24<3:48:50,  1.27it/s]"
     ]
    },
    {
     "name": "stdout",
     "output_type": "stream",
     "text": [
      "Images for product '프로네이처_홀리스틱_대서양_연어현미__544kg_고양이사료' successfully processed.\n"
     ]
    },
    {
     "name": "stderr",
     "output_type": "stream",
     "text": [
      "Processing pages:  16%|█▌        | 3245/20713 [49:30<4:01:24,  1.21it/s]"
     ]
    },
    {
     "name": "stdout",
     "output_type": "stream",
     "text": [
      "Images for product '로얄캐닌_페르시안_어덜트_2kg_고양이사료' successfully processed.\n"
     ]
    },
    {
     "name": "stderr",
     "output_type": "stream",
     "text": [
      "Processing pages:  16%|█▌        | 3257/20713 [49:40<3:59:52,  1.21it/s]"
     ]
    },
    {
     "name": "stdout",
     "output_type": "stream",
     "text": [
      "Images for product '퓨어비타_고양이_사료_그레인프리_치킨_연어_3kg_6' successfully processed.\n"
     ]
    },
    {
     "name": "stderr",
     "output_type": "stream",
     "text": [
      "Processing pages:  16%|█▌        | 3262/20713 [49:44<3:49:02,  1.27it/s]"
     ]
    },
    {
     "name": "stdout",
     "output_type": "stream",
     "text": [
      "Images for product '스페시픽_습식사료_CIW_300gx6ea_박스' successfully processed.\n"
     ]
    },
    {
     "name": "stderr",
     "output_type": "stream",
     "text": [
      "Processing pages:  16%|█▌        | 3264/20713 [49:46<3:54:55,  1.24it/s]"
     ]
    },
    {
     "name": "stdout",
     "output_type": "stream",
     "text": [
      "Images for product '도그랑_파워헌터_15kg_강아지_애견_진돗개_대형_특수_견_대용량_사료' successfully processed.\n",
      "Images for product '캐츠랑_리브레_5kg_길고양이사료_고양이밥' successfully processed.\n"
     ]
    },
    {
     "name": "stderr",
     "output_type": "stream",
     "text": [
      "Processing pages:  16%|█▌        | 3265/20713 [49:47<4:07:33,  1.17it/s]"
     ]
    },
    {
     "name": "stdout",
     "output_type": "stream",
     "text": [
      "Images for product '보나시보_어덜트_독_치킨_엔초비__라이스_4kg_애견사료' successfully processed.\n",
      "Images for product '강아지_고양이_동결건조_사료_자연식160g핑크너겟_캥거루' successfully processed.\n"
     ]
    },
    {
     "name": "stderr",
     "output_type": "stream",
     "text": [
      "Processing pages:  16%|█▌        | 3266/20713 [49:48<4:19:10,  1.12it/s]"
     ]
    },
    {
     "name": "stdout",
     "output_type": "stream",
     "text": [
      "Images for product '강아지눈물자국사료_유기농사료_양고기_1' successfully processed.\n",
      "Images for product '로얄캐닌_미니인도어_어덜트_1' successfully processed.\n",
      "Images for product '브이플래닛_강아지_비건_사료_미니바이트_2' successfully processed.\n"
     ]
    },
    {
     "name": "stderr",
     "output_type": "stream",
     "text": [
      "Processing pages:  16%|█▌        | 3268/20713 [49:49<4:14:00,  1.14it/s]"
     ]
    },
    {
     "name": "stdout",
     "output_type": "stream",
     "text": [
      "Images for product '네츄럴코어_강아지_사료_에코1_양고기_2kg_S작은입자' successfully processed.\n"
     ]
    },
    {
     "name": "stderr",
     "output_type": "stream",
     "text": [
      "Processing pages:  16%|█▌        | 3276/20713 [49:56<4:03:33,  1.19it/s]"
     ]
    },
    {
     "name": "stdout",
     "output_type": "stream",
     "text": [
      "Images for product '버틀러_더텐_소프트_사료_샘플_인섹트_알러지_케어_30g' successfully processed.\n"
     ]
    },
    {
     "name": "stderr",
     "output_type": "stream",
     "text": [
      "Processing pages:  16%|█▌        | 3286/20713 [50:05<3:54:39,  1.24it/s]"
     ]
    },
    {
     "name": "stdout",
     "output_type": "stream",
     "text": [
      "Images for product '프로베스트캣_밸런스_전연령_2KG_고양이사료' successfully processed.\n"
     ]
    },
    {
     "name": "stderr",
     "output_type": "stream",
     "text": [
      "Processing pages:  16%|█▌        | 3287/20713 [50:06<3:54:54,  1.24it/s]"
     ]
    },
    {
     "name": "stdout",
     "output_type": "stream",
     "text": [
      "Images for product '퓨어럭스_인도어_캣_홀리스틱_고양이사료_5kg' successfully processed.\n",
      "Images for product 'ANF_6프리_캣_골드_인도어_어덜트_6kg_고양이_사료' successfully processed.\n"
     ]
    },
    {
     "name": "stderr",
     "output_type": "stream",
     "text": [
      "Processing pages:  16%|█▌        | 3289/20713 [50:07<4:02:30,  1.20it/s]"
     ]
    },
    {
     "name": "stdout",
     "output_type": "stream",
     "text": [
      "Images for product '힐스_캣_고양이_kd_kd_Early_Support_1' successfully processed.\n"
     ]
    },
    {
     "name": "stderr",
     "output_type": "stream",
     "text": [
      "Processing pages:  16%|█▌        | 3292/20713 [50:10<3:51:49,  1.25it/s]"
     ]
    },
    {
     "name": "stdout",
     "output_type": "stream",
     "text": [
      "Images for product '로얄캐닌_센서블_2kg_고양이_장건강_소화기_사료' successfully processed.\n",
      "Images for product '펄프레쉬_소고기와_블루베리_1' successfully processed.\n",
      "Images for product '포르자10_더모_액티브_2' successfully processed.\n"
     ]
    },
    {
     "name": "stderr",
     "output_type": "stream",
     "text": [
      "Processing pages:  16%|█▌        | 3293/20713 [50:10<3:50:12,  1.26it/s]"
     ]
    },
    {
     "name": "stdout",
     "output_type": "stream",
     "text": [
      "Images for product '네츄럴코어_고양이_사료_코어캣_베네델리_3kg' successfully processed.\n",
      "Images for product '카이마타_동결건조_야생토끼_사료_450g' successfully processed.\n"
     ]
    },
    {
     "name": "stderr",
     "output_type": "stream",
     "text": [
      "Processing pages:  16%|█▌        | 3294/20713 [50:11<4:18:48,  1.12it/s]"
     ]
    },
    {
     "name": "stdout",
     "output_type": "stream",
     "text": [
      "Error processing images for product '로얄캐닌_캣_인도어_400g_1': HTTPSConnectionPool(host='img.catpre.com', port=443): Max retries exceeded with url: /web/catpre/product/1/216_desc_747112.jpg (Caused by SSLError(SSLError(1, '[SSL: SSLV3_ALERT_HANDSHAKE_FAILURE] ssl/tls alert handshake failure (_ssl.c:1000)')))\n",
      "Images for product '카이마타_동결건조사료_야생토끼_150g' successfully processed.\n",
      "Images for product '조공_필로_독_닭산양유_강아지습식사료_강아지사료' successfully processed.\n",
      "Images for product '버틀러_더텐소프트_사료_비프_조인트_1kg__200g_증정' successfully processed.\n"
     ]
    },
    {
     "name": "stderr",
     "output_type": "stream",
     "text": [
      "Processing pages:  16%|█▌        | 3298/20713 [50:19<6:10:03,  1.27s/it] "
     ]
    },
    {
     "name": "stdout",
     "output_type": "stream",
     "text": [
      "Images for product '오리젠_6피쉬_독_11' successfully processed.\n"
     ]
    },
    {
     "name": "stderr",
     "output_type": "stream",
     "text": [
      "Processing pages:  16%|█▌        | 3311/20713 [50:30<4:00:07,  1.21it/s]"
     ]
    },
    {
     "name": "stdout",
     "output_type": "stream",
     "text": [
      "Images for product '진도예찬_플러스_진돗개사료_10kg영양제샘플' successfully processed.\n",
      "Images for product '풍월_진돗개_대용량_대형견_개사료_5kg5kg10kg' successfully processed.\n",
      "Images for product '로얄캐닌_미니_어덜트_건식_강아지사료_8kg' successfully processed.\n"
     ]
    },
    {
     "name": "stderr",
     "output_type": "stream",
     "text": [
      "Processing pages:  16%|█▌        | 3312/20713 [50:31<4:08:30,  1.17it/s]"
     ]
    },
    {
     "name": "stdout",
     "output_type": "stream",
     "text": [
      "Images for product '오리젠_6식스_피쉬_독_2kg' successfully processed.\n"
     ]
    },
    {
     "name": "stderr",
     "output_type": "stream",
     "text": [
      "Processing pages:  16%|█▌        | 3316/20713 [50:34<3:46:18,  1.28it/s]"
     ]
    },
    {
     "name": "stdout",
     "output_type": "stream",
     "text": [
      "Images for product '네이쳐스프로텍션_라이프스타일_살몬_위드_크릴_외_고양이_사료' successfully processed.\n"
     ]
    },
    {
     "name": "stderr",
     "output_type": "stream",
     "text": [
      "Processing pages:  16%|█▌        | 3317/20713 [50:35<4:09:31,  1.16it/s]"
     ]
    },
    {
     "name": "stdout",
     "output_type": "stream",
     "text": [
      "Images for product '오리젠_피트앤트림_독_11' successfully processed.\n",
      "Images for product '카카토_연어참치_고양이_무첨가_수제_주식캔_습식사료_70g' successfully processed.\n"
     ]
    },
    {
     "name": "stderr",
     "output_type": "stream",
     "text": [
      "Processing pages:  16%|█▌        | 3318/20713 [50:36<4:19:12,  1.12it/s]"
     ]
    },
    {
     "name": "stdout",
     "output_type": "stream",
     "text": [
      "Images for product '뉴트리나_건강백서_강아지_사료_건강한_관절_6kg' successfully processed.\n",
      "Images for product '보나시보_어덜트_독_치킨_엔초비__라이스_4kg_애견사료' successfully processed.\n"
     ]
    },
    {
     "name": "stderr",
     "output_type": "stream",
     "text": [
      "Processing pages:  16%|█▌        | 3319/20713 [50:37<4:13:07,  1.15it/s]"
     ]
    },
    {
     "name": "stdout",
     "output_type": "stream",
     "text": [
      "Images for product '내추럴발란스_강아지_식이성알러지_사료_LI_닭_현미_5kg_큰알202404' successfully processed.\n"
     ]
    },
    {
     "name": "stderr",
     "output_type": "stream",
     "text": [
      "Processing pages:  16%|█▌        | 3324/20713 [50:42<4:34:31,  1.06it/s]"
     ]
    },
    {
     "name": "stdout",
     "output_type": "stream",
     "text": [
      "Images for product '오늘출발_로얄캐닌_독_다이아베틱_1' successfully processed.\n"
     ]
    },
    {
     "name": "stderr",
     "output_type": "stream",
     "text": [
      "Processing pages:  16%|█▌        | 3327/20713 [50:45<4:19:32,  1.12it/s]"
     ]
    },
    {
     "name": "stdout",
     "output_type": "stream",
     "text": [
      "Images for product '캣츠미_2kg_11_증정품_고양이사료_애묘_길냥이사료' successfully processed.\n"
     ]
    },
    {
     "name": "stderr",
     "output_type": "stream",
     "text": [
      "Processing pages:  16%|█▌        | 3330/20713 [50:47<4:07:46,  1.17it/s]"
     ]
    },
    {
     "name": "stdout",
     "output_type": "stream",
     "text": [
      "Images for product '쓰라이브_컴플리트_고양이_주식캔_키튼_치킨_습식사료_75g' successfully processed.\n"
     ]
    },
    {
     "name": "stderr",
     "output_type": "stream",
     "text": [
      "Processing pages:  16%|█▌        | 3335/20713 [50:51<4:16:26,  1.13it/s]"
     ]
    },
    {
     "name": "stdout",
     "output_type": "stream",
     "text": [
      "Images for product '쓰라이브_컴플리트_고양이_주식캔_고등어정어리_습식사료_75g' successfully processed.\n"
     ]
    },
    {
     "name": "stderr",
     "output_type": "stream",
     "text": [
      "Processing pages:  16%|█▌        | 3337/20713 [50:53<4:06:12,  1.18it/s]"
     ]
    },
    {
     "name": "stdout",
     "output_type": "stream",
     "text": [
      "Images for product '로얄캐닌_강아지사료_미디엄_더마_컴포트_12kg' successfully processed.\n"
     ]
    },
    {
     "name": "stderr",
     "output_type": "stream",
     "text": [
      "Processing pages:  16%|█▌        | 3340/20713 [50:55<3:46:02,  1.28it/s]"
     ]
    },
    {
     "name": "stdout",
     "output_type": "stream",
     "text": [
      "Images for product '프롬벳_강아지사료_오도독_다이어트_2kg' successfully processed.\n",
      "Images for product '쓰라이브_컴플리트_고양이_주식캔_치킨야채_습식사료_75g' successfully processed.\n",
      "Images for product '나우사료_그레인프리_스몰브리드_시니어_2' successfully processed.\n"
     ]
    },
    {
     "name": "stderr",
     "output_type": "stream",
     "text": [
      "Processing pages:  16%|█▌        | 3341/20713 [50:56<3:39:20,  1.32it/s]"
     ]
    },
    {
     "name": "stdout",
     "output_type": "stream",
     "text": [
      "Images for product '쓰라이브_컴플리트_고양이_주식캔_치킨칠면조_습식사료_75g' successfully processed.\n"
     ]
    },
    {
     "name": "stderr",
     "output_type": "stream",
     "text": [
      "Processing pages:  16%|█▌        | 3343/20713 [50:58<3:55:45,  1.23it/s]"
     ]
    },
    {
     "name": "stdout",
     "output_type": "stream",
     "text": [
      "Images for product '로얄캐닌_강아지사료_엑스스몰퍼피_3kg' successfully processed.\n"
     ]
    },
    {
     "name": "stderr",
     "output_type": "stream",
     "text": [
      "Processing pages:  16%|█▌        | 3344/20713 [51:43<68:20:31, 14.16s/it]"
     ]
    },
    {
     "name": "stdout",
     "output_type": "stream",
     "text": [
      "Images for product '피니키_밀웜크릴_1' successfully processed.\n",
      "Images for product '다빈치독_그레인프리_리얼미트_1kg_500g_x_2개_다빈치펫푸드_소프트사료_지퍼백_소포장' successfully processed.\n",
      "Images for product '쓰라이브_컴플리트_고양이_주식캔_참치연어_습식사료_75g' successfully processed.\n"
     ]
    },
    {
     "name": "stderr",
     "output_type": "stream",
     "text": [
      "Processing pages:  16%|█▌        | 3352/20713 [51:50<7:39:23,  1.59s/it] "
     ]
    },
    {
     "name": "stdout",
     "output_type": "stream",
     "text": [
      "Images for product 'ANF_소프트_사료_1' successfully processed.\n",
      "Images for product '닥터맘마_레날_신장_촉촉_화식_습식_사료_700g_50gx14개입' successfully processed.\n"
     ]
    },
    {
     "name": "stderr",
     "output_type": "stream",
     "text": [
      "Processing pages:  16%|█▌        | 3363/20713 [52:00<4:32:51,  1.06it/s]"
     ]
    },
    {
     "name": "stdout",
     "output_type": "stream",
     "text": [
      "Images for product '스페시픽__CRD2_비만_당뇨_강아지_사료_12kg' successfully processed.\n"
     ]
    },
    {
     "name": "stderr",
     "output_type": "stream",
     "text": [
      "Processing pages:  16%|█▋        | 3366/20713 [52:02<4:08:05,  1.17it/s]"
     ]
    },
    {
     "name": "stdout",
     "output_type": "stream",
     "text": [
      "Images for product '샘플_본아페티_플러스_강아지_눈물_눈_건강_연어_수제사료_저알러지_프리미엄_사료_30g' successfully processed.\n"
     ]
    },
    {
     "name": "stderr",
     "output_type": "stream",
     "text": [
      "Processing pages:  16%|█▋        | 3374/20713 [52:10<4:27:11,  1.08it/s]"
     ]
    },
    {
     "name": "stdout",
     "output_type": "stream",
     "text": [
      "Images for product '프로네이처_라이프_인피니티_베리_2' successfully processed.\n"
     ]
    },
    {
     "name": "stderr",
     "output_type": "stream",
     "text": [
      "Processing pages:  16%|█▋        | 3375/20713 [52:10<4:18:27,  1.12it/s]"
     ]
    },
    {
     "name": "stdout",
     "output_type": "stream",
     "text": [
      "Images for product '딩고나투라_딩고_치킨_3KG_강아지_알러지_사료_피부_모질_대형견사료_치석제거' successfully processed.\n"
     ]
    },
    {
     "name": "stderr",
     "output_type": "stream",
     "text": [
      "Processing pages:  16%|█▋        | 3378/20713 [52:13<4:00:32,  1.20it/s]"
     ]
    },
    {
     "name": "stdout",
     "output_type": "stream",
     "text": [
      "Images for product '팜스코_캣츠미_2Kg_길냥이_길고양이_고양이사료' successfully processed.\n"
     ]
    },
    {
     "name": "stderr",
     "output_type": "stream",
     "text": [
      "Processing pages:  16%|█▋        | 3385/20713 [52:19<4:35:05,  1.05it/s]"
     ]
    },
    {
     "name": "stdout",
     "output_type": "stream",
     "text": [
      "Images for product '알모네이쳐_참치와_뱅어_고양이_주식캔_습식사료_70g' successfully processed.\n",
      "Images for product '반해_l_알레바_케어_독_그레인프리_앨러고_컨트롤_2kg__식이앨러지과민증' successfully processed.\n"
     ]
    },
    {
     "name": "stderr",
     "output_type": "stream",
     "text": [
      "Processing pages:  16%|█▋        | 3391/20713 [52:24<4:03:19,  1.19it/s]"
     ]
    },
    {
     "name": "stdout",
     "output_type": "stream",
     "text": [
      "Images for product '나우_그레인프리_스몰브리드_어덜트_강아지사료_2' successfully processed.\n",
      "Images for product '아침애_수제사료_오리고기_1kg' successfully processed.\n"
     ]
    },
    {
     "name": "stderr",
     "output_type": "stream",
     "text": [
      "Processing pages:  16%|█▋        | 3392/20713 [52:25<5:12:00,  1.08s/it]"
     ]
    },
    {
     "name": "stdout",
     "output_type": "stream",
     "text": [
      "Images for product '후새_키튼_40g_샘플사료' successfully processed.\n"
     ]
    },
    {
     "name": "stderr",
     "output_type": "stream",
     "text": [
      "Processing pages:  16%|█▋        | 3393/20713 [52:26<4:45:26,  1.01it/s]"
     ]
    },
    {
     "name": "stdout",
     "output_type": "stream",
     "text": [
      "Images for product '더_프로젝트_소프트사료_양고기_밀웜_고구마_1kg' successfully processed.\n",
      "Images for product '캣츠러브_오리와치킨_10kg_5kgX2개_전연령_고양이_길냥이_길고양이_대용량_사료' successfully processed.\n",
      "Images for product '윌로펫_강아지_사료_뉴트리탑_면역전연령_기호성_좋은_말랑육즙_소프트사료_1' successfully processed.\n"
     ]
    },
    {
     "name": "stderr",
     "output_type": "stream",
     "text": [
      "Processing pages:  16%|█▋        | 3394/20713 [52:27<4:41:29,  1.03it/s]"
     ]
    },
    {
     "name": "stdout",
     "output_type": "stream",
     "text": [
      "Images for product '더_프로젝트_소프트사료_연어_밀웜_고구마_1kg' successfully processed.\n",
      "Images for product '로얄캐닌_프렌치불독_퍼피_건식_강아지사료_10kg_대용량' successfully processed.\n"
     ]
    },
    {
     "name": "stderr",
     "output_type": "stream",
     "text": [
      "Processing pages:  16%|█▋        | 3396/20713 [52:29<4:38:50,  1.04it/s]"
     ]
    },
    {
     "name": "stdout",
     "output_type": "stream",
     "text": [
      "Images for product '퓨어네이쳐_그레인프리_양고기와_고구마_강아지사료_1' successfully processed.\n"
     ]
    },
    {
     "name": "stderr",
     "output_type": "stream",
     "text": [
      "Processing pages:  16%|█▋        | 3402/20713 [52:34<4:15:45,  1.13it/s]"
     ]
    },
    {
     "name": "stdout",
     "output_type": "stream",
     "text": [
      "Images for product '오가다이어트_강아지사료_양고기_오리고기_연어_6kg_유기농_대용량_이벤트_행사' successfully processed.\n",
      "Images for product '건강백서_건강한체중_2kg_2개4kg_강아지_다이어트사료' successfully processed.\n"
     ]
    },
    {
     "name": "stderr",
     "output_type": "stream",
     "text": [
      "Processing pages:  16%|█▋        | 3409/20713 [52:40<4:09:46,  1.15it/s]"
     ]
    },
    {
     "name": "stdout",
     "output_type": "stream",
     "text": [
      "Images for product '로얄캐닌_캣_세타이어티_1' successfully processed.\n"
     ]
    },
    {
     "name": "stderr",
     "output_type": "stream",
     "text": [
      "Processing pages:  16%|█▋        | 3410/20713 [52:41<3:55:51,  1.22it/s]"
     ]
    },
    {
     "name": "stdout",
     "output_type": "stream",
     "text": [
      "Images for product '내추럴발란스캣_고양이사료_울트라_WBH_닭고기_연어_6' successfully processed.\n"
     ]
    },
    {
     "name": "stderr",
     "output_type": "stream",
     "text": [
      "Processing pages:  16%|█▋        | 3415/20713 [52:45<3:50:29,  1.25it/s]"
     ]
    },
    {
     "name": "stdout",
     "output_type": "stream",
     "text": [
      "Images for product '슈퍼포우_동결건조_사료간식_180g_x_2세트' successfully processed.\n"
     ]
    },
    {
     "name": "stderr",
     "output_type": "stream",
     "text": [
      "Processing pages:  16%|█▋        | 3416/20713 [52:45<3:59:41,  1.20it/s]"
     ]
    },
    {
     "name": "stdout",
     "output_type": "stream",
     "text": [
      "Images for product '어스본_홀리스틱_독_강아지사료_오션퓨전_12kg' successfully processed.\n"
     ]
    },
    {
     "name": "stderr",
     "output_type": "stream",
     "text": [
      "Processing pages:  16%|█▋        | 3417/20713 [52:46<4:16:10,  1.13it/s]"
     ]
    },
    {
     "name": "stdout",
     "output_type": "stream",
     "text": [
      "Images for product '유통24' successfully processed.\n"
     ]
    },
    {
     "name": "stderr",
     "output_type": "stream",
     "text": [
      "Processing pages:  17%|█▋        | 3418/20713 [52:47<4:25:18,  1.09it/s]"
     ]
    },
    {
     "name": "stdout",
     "output_type": "stream",
     "text": [
      "Images for product '빌리앤마것_소고기_슈퍼블랜드_강아지사료_1' successfully processed.\n"
     ]
    },
    {
     "name": "stderr",
     "output_type": "stream",
     "text": [
      "Processing pages:  17%|█▋        | 3426/20713 [52:54<3:53:14,  1.24it/s]"
     ]
    },
    {
     "name": "stdout",
     "output_type": "stream",
     "text": [
      "Images for product '캐츠랑_리브레_전연령_길고양이_길냥이_5kg_사료' successfully processed.\n"
     ]
    },
    {
     "name": "stderr",
     "output_type": "stream",
     "text": [
      "Processing pages:  17%|█▋        | 3427/20713 [52:55<4:14:15,  1.13it/s]"
     ]
    },
    {
     "name": "stdout",
     "output_type": "stream",
     "text": [
      "Images for product '아침애_수제사료_오리연어감자200g_x_3개세트' successfully processed.\n"
     ]
    },
    {
     "name": "stderr",
     "output_type": "stream",
     "text": [
      "Processing pages:  17%|█▋        | 3431/20713 [52:58<4:03:32,  1.18it/s]"
     ]
    },
    {
     "name": "stdout",
     "output_type": "stream",
     "text": [
      "Images for product '토우사료_송어훈제연어캣_908g_11__고양이사료' successfully processed.\n"
     ]
    },
    {
     "name": "stderr",
     "output_type": "stream",
     "text": [
      "Processing pages:  17%|█▋        | 3437/20713 [53:03<4:03:40,  1.18it/s]"
     ]
    },
    {
     "name": "stdout",
     "output_type": "stream",
     "text": [
      "Images for product '퓨리나_고양이_프로플랜_캣__습식사료_유리너리_파우치_85g24년9월' successfully processed.\n"
     ]
    },
    {
     "name": "stderr",
     "output_type": "stream",
     "text": [
      "Processing pages:  17%|█▋        | 3446/20713 [53:12<3:53:13,  1.23it/s]"
     ]
    },
    {
     "name": "stdout",
     "output_type": "stream",
     "text": [
      "Images for product 'FDA사료_에프디에이_동결건조사료_500g' successfully processed.\n"
     ]
    },
    {
     "name": "stderr",
     "output_type": "stream",
     "text": [
      "Processing pages:  17%|█▋        | 3450/20713 [53:15<4:26:09,  1.08it/s]"
     ]
    },
    {
     "name": "stdout",
     "output_type": "stream",
     "text": [
      "Images for product '후코051_후코이단_연어콜라겐_피부케어_사료_4' successfully processed.\n",
      "Images for product '노스포_캣_저알러지_랍스터사료_11' successfully processed.\n"
     ]
    },
    {
     "name": "stderr",
     "output_type": "stream",
     "text": [
      "Processing pages:  17%|█▋        | 3451/20713 [53:16<4:19:14,  1.11it/s]"
     ]
    },
    {
     "name": "stdout",
     "output_type": "stream",
     "text": [
      "Images for product '단독무료배송_로얄캐닌_캣_유리너리_케어_고양이_사료_10kg' successfully processed.\n"
     ]
    },
    {
     "name": "stderr",
     "output_type": "stream",
     "text": [
      "Processing pages:  17%|█▋        | 3453/20713 [53:18<4:10:56,  1.15it/s]"
     ]
    },
    {
     "name": "stdout",
     "output_type": "stream",
     "text": [
      "Images for product '올바른끼니_플러스_소고기_초록입홍합_기호성좋은_관절_사료_2' successfully processed.\n"
     ]
    },
    {
     "name": "stderr",
     "output_type": "stream",
     "text": [
      "Processing pages:  17%|█▋        | 3458/20713 [53:22<4:17:41,  1.12it/s]"
     ]
    },
    {
     "name": "stdout",
     "output_type": "stream",
     "text": [
      "Images for product '펫토피아_도그찹스_파우치_강아지사료_3kg' successfully processed.\n",
      "Images for product '위시본_독_오리고기_1' successfully processed.\n",
      "Images for product '프린세스_프리미엄_엑설런스_치킨튜나_앤_펌킨_고양이_주식캔_습식사료_70g' successfully processed.\n",
      "Images for product '빅스비_사료_러블_LID_돼지_레시피_1' successfully processed.\n"
     ]
    },
    {
     "name": "stderr",
     "output_type": "stream",
     "text": [
      "Processing pages:  17%|█▋        | 3460/20713 [53:24<4:07:04,  1.16it/s]"
     ]
    },
    {
     "name": "stdout",
     "output_type": "stream",
     "text": [
      "Images for product '퓨리나_원_캣_1' successfully processed.\n"
     ]
    },
    {
     "name": "stderr",
     "output_type": "stream",
     "text": [
      "Processing pages:  17%|█▋        | 3461/20713 [53:25<4:09:27,  1.15it/s]"
     ]
    },
    {
     "name": "stdout",
     "output_type": "stream",
     "text": [
      "Images for product '로얄캐닌_고양이사료_센서블_4kg' successfully processed.\n"
     ]
    },
    {
     "name": "stderr",
     "output_type": "stream",
     "text": [
      "Processing pages:  17%|█▋        | 3462/20713 [53:25<3:58:18,  1.21it/s]"
     ]
    },
    {
     "name": "stdout",
     "output_type": "stream",
     "text": [
      "Images for product '로얄캐닌_하이포알러제닉_스몰독' successfully processed.\n",
      "Images for product '카루_데일리_디쉬_칠면조연어_스튜_354gX6개_강아지_주식_습식_사료' successfully processed.\n",
      "Images for product '무료체험_프로네이처_캣_홀리스틱_샘플__300g__칠면조크랜베리_연어현미' successfully processed.\n"
     ]
    },
    {
     "name": "stderr",
     "output_type": "stream",
     "text": [
      "Processing pages:  17%|█▋        | 3463/20713 [53:26<3:54:02,  1.23it/s]"
     ]
    },
    {
     "name": "stdout",
     "output_type": "stream",
     "text": [
      "Images for product '아보덤_치킨_어덜트_캣_5kg_고양이_사료' successfully processed.\n",
      "Images for product '400g내추로_닭고기라이트현미채소_강아지_습식_사료_다이어트' successfully processed.\n"
     ]
    },
    {
     "name": "stderr",
     "output_type": "stream",
     "text": [
      "Processing pages:  17%|█▋        | 3464/20713 [53:27<3:50:14,  1.25it/s]"
     ]
    },
    {
     "name": "stdout",
     "output_type": "stream",
     "text": [
      "Images for product '나우_스몰브리드_어덜트_5' successfully processed.\n"
     ]
    },
    {
     "name": "stderr",
     "output_type": "stream",
     "text": [
      "Processing pages:  17%|█▋        | 3473/20713 [53:34<3:54:43,  1.22it/s]"
     ]
    },
    {
     "name": "stdout",
     "output_type": "stream",
     "text": [
      "Images for product '네츄럴코어_독_에코_1_양고기_강아지_사료_2kg_S_입자' successfully processed.\n"
     ]
    },
    {
     "name": "stderr",
     "output_type": "stream",
     "text": [
      "Processing pages:  17%|█▋        | 3475/20713 [53:36<4:25:38,  1.08it/s]"
     ]
    },
    {
     "name": "stdout",
     "output_type": "stream",
     "text": [
      "Images for product '위스카스_사료_오션피쉬_7kg' successfully processed.\n"
     ]
    },
    {
     "name": "stderr",
     "output_type": "stream",
     "text": [
      "Processing pages:  17%|█▋        | 3486/20713 [53:46<4:14:54,  1.13it/s]"
     ]
    },
    {
     "name": "stdout",
     "output_type": "stream",
     "text": [
      "Images for product '대한사료_뉴소형견_10kg_도그라인_강아지사료대용량' successfully processed.\n"
     ]
    },
    {
     "name": "stderr",
     "output_type": "stream",
     "text": [
      "Processing pages:  17%|█▋        | 3488/20713 [53:47<4:01:00,  1.19it/s]"
     ]
    },
    {
     "name": "stdout",
     "output_type": "stream",
     "text": [
      "Images for product '간식_버틀러_더텐_소프트_인섹트_알러지케어_1kg' successfully processed.\n",
      "Images for product '위스카스_주니어_오션피쉬_아기고양이사료_272kg_유통244' successfully processed.\n"
     ]
    },
    {
     "name": "stderr",
     "output_type": "stream",
     "text": [
      "Processing pages:  17%|█▋        | 3489/20713 [53:48<4:36:15,  1.04it/s]"
     ]
    },
    {
     "name": "stdout",
     "output_type": "stream",
     "text": [
      "Images for product '프린세스_엑설런스_치킨튜나_습식_주식캔_70g_흰살생선' successfully processed.\n"
     ]
    },
    {
     "name": "stderr",
     "output_type": "stream",
     "text": [
      "Processing pages:  17%|█▋        | 3490/20713 [53:50<5:09:15,  1.08s/it]"
     ]
    },
    {
     "name": "stdout",
     "output_type": "stream",
     "text": [
      "Images for product '아침애_수제사료_한우_2' successfully processed.\n",
      "Images for product '브릿_케어_캣_그레인프리_고양이사료_다이어트_케어_2kg' successfully processed.\n"
     ]
    },
    {
     "name": "stderr",
     "output_type": "stream",
     "text": [
      "Processing pages:  17%|█▋        | 3492/20713 [53:52<4:53:29,  1.02s/it]"
     ]
    },
    {
     "name": "stdout",
     "output_type": "stream",
     "text": [
      "Images for product '웰니스_사료_심플_살몬앤포테이토_큰_알갱이2kg' successfully processed.\n"
     ]
    },
    {
     "name": "stderr",
     "output_type": "stream",
     "text": [
      "Processing pages:  17%|█▋        | 3496/20713 [53:55<4:08:16,  1.16it/s]"
     ]
    },
    {
     "name": "stdout",
     "output_type": "stream",
     "text": [
      "Images for product '라포그사료_리얼인섹트_강아지_관절케어_1' successfully processed.\n"
     ]
    },
    {
     "name": "stderr",
     "output_type": "stream",
     "text": [
      "Processing pages:  17%|█▋        | 3501/20713 [53:59<4:18:49,  1.11it/s]"
     ]
    },
    {
     "name": "stdout",
     "output_type": "stream",
     "text": [
      "Images for product '닥터맘마_신장_레날_촉촉사료_건강_습식_화식_1kg_250g_4개입' successfully processed.\n",
      "Images for product '고양이_캣_로얄캐닌_하이포알러제닉_2' successfully processed.\n"
     ]
    },
    {
     "name": "stderr",
     "output_type": "stream",
     "text": [
      "Processing pages:  17%|█▋        | 3502/20713 [54:00<4:01:53,  1.19it/s]"
     ]
    },
    {
     "name": "stdout",
     "output_type": "stream",
     "text": [
      "Images for product '캐츠랑_전연령_5kg_고양이밥_길냥이사료_길고양이' successfully processed.\n",
      "Images for product '로얄캐닌_키튼_스테럴라이즈드_3' successfully processed.\n"
     ]
    },
    {
     "name": "stderr",
     "output_type": "stream",
     "text": [
      "Processing pages:  17%|█▋        | 3503/20713 [54:02<5:52:25,  1.23s/it]"
     ]
    },
    {
     "name": "stdout",
     "output_type": "stream",
     "text": [
      "Images for product '워프_사료_비프_소고기_750g_에어드라이사료' successfully processed.\n"
     ]
    },
    {
     "name": "stderr",
     "output_type": "stream",
     "text": [
      "Processing pages:  17%|█▋        | 3506/20713 [54:05<5:00:30,  1.05s/it]"
     ]
    },
    {
     "name": "stdout",
     "output_type": "stream",
     "text": [
      "Images for product '로얄캐닌_키튼_캣_고양이사료_4kg키튼_습식사료_파우치_85g' successfully processed.\n",
      "Images for product '디바크_센스_그레인프리_저칼로리_강아지_사료_어덜트_연어_2kg' successfully processed.\n",
      "Images for product '도그쿡_글루텐프리_연어_생생사료_350g' successfully processed.\n"
     ]
    },
    {
     "name": "stderr",
     "output_type": "stream",
     "text": [
      "Processing pages:  17%|█▋        | 3517/20713 [54:14<3:48:25,  1.25it/s]"
     ]
    },
    {
     "name": "stdout",
     "output_type": "stream",
     "text": [
      "Images for product '프로바이오밀오리_1kg_강아지유산균사료_반습식' successfully processed.\n",
      "Images for product '알모네이쳐_닭가슴살_고양이_주식캔_습식사료_70g' successfully processed.\n"
     ]
    },
    {
     "name": "stderr",
     "output_type": "stream",
     "text": [
      "Processing pages:  17%|█▋        | 3518/20713 [54:15<3:55:08,  1.22it/s]"
     ]
    },
    {
     "name": "stdout",
     "output_type": "stream",
     "text": [
      "Images for product '수의사가_만든_반려동물_사료__알파벳_S_유기농70_강아지_노견_사료' successfully processed.\n"
     ]
    },
    {
     "name": "stderr",
     "output_type": "stream",
     "text": [
      "Processing pages:  17%|█▋        | 3519/20713 [54:16<4:04:11,  1.17it/s]"
     ]
    },
    {
     "name": "stdout",
     "output_type": "stream",
     "text": [
      "Images for product '벅스독_다이어트_하이포알러제닉_인섹트_곤충_단백질_강아지사료_오리지널1' successfully processed.\n"
     ]
    },
    {
     "name": "stderr",
     "output_type": "stream",
     "text": [
      "Processing pages:  17%|█▋        | 3520/20713 [54:17<4:19:15,  1.11it/s]"
     ]
    },
    {
     "name": "stdout",
     "output_type": "stream",
     "text": [
      "Images for product 'DOG_로얄캐닌_처방식_하이포알러제닉_스몰독' successfully processed.\n",
      "Images for product '나우_그레인프리_스몰브리드_어덜트_강아지사료_5' successfully processed.\n"
     ]
    },
    {
     "name": "stderr",
     "output_type": "stream",
     "text": [
      "Processing pages:  17%|█▋        | 3521/20713 [54:18<4:20:49,  1.10it/s]"
     ]
    },
    {
     "name": "stdout",
     "output_type": "stream",
     "text": [
      "Images for product '나우_그레인프리_스몰브리드_어덜트_강아지사료_9' successfully processed.\n",
      "Images for product '로얄캐닌_라이트_웨이트_케어_8kg_고양이_사료' successfully processed.\n"
     ]
    },
    {
     "name": "stderr",
     "output_type": "stream",
     "text": [
      "Processing pages:  17%|█▋        | 3523/20713 [54:19<3:55:22,  1.22it/s]"
     ]
    },
    {
     "name": "stdout",
     "output_type": "stream",
     "text": [
      "Images for product '아이티아이_iti_강아지_사료_200g_비티_닭고기_뉴질랜드_자연_건조' successfully processed.\n"
     ]
    },
    {
     "name": "stderr",
     "output_type": "stream",
     "text": [
      "Processing pages:  17%|█▋        | 3527/20713 [54:23<4:02:58,  1.18it/s]"
     ]
    },
    {
     "name": "stdout",
     "output_type": "stream",
     "text": [
      "Images for product '마이베프_마이슐랭_비프_고양이_주식캔_습식사료_80g' successfully processed.\n"
     ]
    },
    {
     "name": "stderr",
     "output_type": "stream",
     "text": [
      "Processing pages:  17%|█▋        | 3530/20713 [54:25<3:38:09,  1.31it/s]"
     ]
    },
    {
     "name": "stdout",
     "output_type": "stream",
     "text": [
      "Images for product '베스트브리드_홀리스틱_퍼피_다이어트_1' successfully processed.\n"
     ]
    },
    {
     "name": "stderr",
     "output_type": "stream",
     "text": [
      "Processing pages:  17%|█▋        | 3533/20713 [54:28<3:58:03,  1.20it/s]"
     ]
    },
    {
     "name": "stdout",
     "output_type": "stream",
     "text": [
      "Images for product '톰캣_5kg_고양이밥_길고양이사료' successfully processed.\n"
     ]
    },
    {
     "name": "stderr",
     "output_type": "stream",
     "text": [
      "Processing pages:  17%|█▋        | 3536/20713 [54:30<3:48:35,  1.25it/s]"
     ]
    },
    {
     "name": "stdout",
     "output_type": "stream",
     "text": [
      "Images for product '플레이크_수제_고양이_습식사료_참치와_새우_주식캔_웰니스_코어_시그니쳐_셀렉트_79g' successfully processed.\n",
      "Images for product '로얄캐닌_래브라도_리트리버_어덜트_3kg_강아지_사료' successfully processed.\n"
     ]
    },
    {
     "name": "stderr",
     "output_type": "stream",
     "text": [
      "Processing pages:  17%|█▋        | 3539/20713 [54:32<3:40:50,  1.30it/s]"
     ]
    },
    {
     "name": "stdout",
     "output_type": "stream",
     "text": [
      "Images for product '오리젠_스몰브리드_강아지_사료_소형견_4' successfully processed.\n"
     ]
    },
    {
     "name": "stderr",
     "output_type": "stream",
     "text": [
      "Processing pages:  17%|█▋        | 3540/20713 [54:34<5:20:08,  1.12s/it]"
     ]
    },
    {
     "name": "stdout",
     "output_type": "stream",
     "text": [
      "Images for product '위시본_캣_고양이_사료_닭고기_1' successfully processed.\n",
      "Images for product '나비와야옹이5kg_고양이사료_대용량_길고양이_길냥이' successfully processed.\n",
      "Images for product '도그랑_클래식_5kg_애견사료_강아지사료' successfully processed.\n"
     ]
    },
    {
     "name": "stderr",
     "output_type": "stream",
     "text": [
      "Processing pages:  17%|█▋        | 3542/20713 [54:36<5:09:37,  1.08s/it]"
     ]
    },
    {
     "name": "stdout",
     "output_type": "stream",
     "text": [
      "Images for product '리얼트리_사료_퍼포먼스_레드옥스_15kg_대형견_진돗개_리트리버_사료' successfully processed.\n"
     ]
    },
    {
     "name": "stderr",
     "output_type": "stream",
     "text": [
      "Processing pages:  17%|█▋        | 3543/20713 [54:37<4:38:14,  1.03it/s]"
     ]
    },
    {
     "name": "stdout",
     "output_type": "stream",
     "text": [
      "Images for product '씽크라이크펫_노견_노령견_사료_생식_토핑_1kg' successfully processed.\n"
     ]
    },
    {
     "name": "stderr",
     "output_type": "stream",
     "text": [
      "Processing pages:  17%|█▋        | 3549/20713 [54:42<3:54:11,  1.22it/s]"
     ]
    },
    {
     "name": "stdout",
     "output_type": "stream",
     "text": [
      "Images for product '뉴트리나_울트라_강아지사료_1세이상_진도_10KG' successfully processed.\n"
     ]
    },
    {
     "name": "stderr",
     "output_type": "stream",
     "text": [
      "Processing pages:  17%|█▋        | 3551/20713 [54:44<4:16:52,  1.11it/s]"
     ]
    },
    {
     "name": "stdout",
     "output_type": "stream",
     "text": [
      "Images for product '로얄캐닌_라이트웨이트케어_1' successfully processed.\n"
     ]
    },
    {
     "name": "stderr",
     "output_type": "stream",
     "text": [
      "Processing pages:  17%|█▋        | 3552/20713 [54:45<4:08:54,  1.15it/s]"
     ]
    },
    {
     "name": "stdout",
     "output_type": "stream",
     "text": [
      "Images for product '강아지_화식_오리지널_50g_10포_자연식_사료' successfully processed.\n"
     ]
    },
    {
     "name": "stderr",
     "output_type": "stream",
     "text": [
      "Processing pages:  17%|█▋        | 3559/20713 [54:50<3:43:17,  1.28it/s]"
     ]
    },
    {
     "name": "stdout",
     "output_type": "stream",
     "text": [
      "Images for product '닥터그린벨알러지다이어트1' successfully processed.\n"
     ]
    },
    {
     "name": "stderr",
     "output_type": "stream",
     "text": [
      "Processing pages:  17%|█▋        | 3572/20713 [55:02<4:11:19,  1.14it/s]"
     ]
    },
    {
     "name": "stdout",
     "output_type": "stream",
     "text": [
      "Images for product '베지펫_강아지_비건_채식사료_8kg_실내보다_실외생활_견_활동량이_많은_Dog에게_권유' successfully processed.\n"
     ]
    },
    {
     "name": "stderr",
     "output_type": "stream",
     "text": [
      "Processing pages:  17%|█▋        | 3577/20713 [55:05<3:55:29,  1.21it/s]"
     ]
    },
    {
     "name": "stdout",
     "output_type": "stream",
     "text": [
      "Images for product '인섹트도그_빅_하이포알러지_밀웜_곤충_사료_2kg' successfully processed.\n"
     ]
    },
    {
     "name": "stderr",
     "output_type": "stream",
     "text": [
      "Processing pages:  17%|█▋        | 3579/20713 [55:07<4:17:25,  1.11it/s]"
     ]
    },
    {
     "name": "stdout",
     "output_type": "stream",
     "text": [
      "Images for product '스페시픽_강아지_처방식사료_CKD_HeartKidney_support_2kg' successfully processed.\n",
      "Images for product '내츄럴랩_고양이_사료_장면역_케어_2kg' successfully processed.\n",
      "Images for product '로얄캐닌_어린_강아지_사료_엑스스몰_퍼피_500g' successfully processed.\n"
     ]
    },
    {
     "name": "stderr",
     "output_type": "stream",
     "text": [
      "Processing pages:  17%|█▋        | 3580/20713 [55:08<4:09:31,  1.14it/s]"
     ]
    },
    {
     "name": "stdout",
     "output_type": "stream",
     "text": [
      "Images for product '아보덤_고양이_주식캔_혼합콤보_85gx24_1박스' successfully processed.\n"
     ]
    },
    {
     "name": "stderr",
     "output_type": "stream",
     "text": [
      "Processing pages:  17%|█▋        | 3581/20713 [55:09<4:22:48,  1.09it/s]"
     ]
    },
    {
     "name": "stdout",
     "output_type": "stream",
     "text": [
      "Images for product '로얄캐닌_미니_인도어_어덜트_사료_1' successfully processed.\n",
      "Images for product '로얄캐닌_독_미니_스타터_면역증진_아기강아지_사료_8' successfully processed.\n"
     ]
    },
    {
     "name": "stderr",
     "output_type": "stream",
     "text": [
      "Processing pages:  17%|█▋        | 3588/20713 [55:15<3:39:05,  1.30it/s]"
     ]
    },
    {
     "name": "stdout",
     "output_type": "stream",
     "text": [
      "Images for product '힐스_고양이사료_어덜트_유리너리_헤어볼컨트롤_스튜_82g_x12개' successfully processed.\n"
     ]
    },
    {
     "name": "stderr",
     "output_type": "stream",
     "text": [
      "Processing pages:  17%|█▋        | 3595/20713 [55:20<3:51:56,  1.23it/s]"
     ]
    },
    {
     "name": "stdout",
     "output_type": "stream",
     "text": [
      "Images for product '뉴트로_내추럴초이스_캣_1세_이상_인도어_닭고기와_현미_고양이_사료_6' successfully processed.\n"
     ]
    },
    {
     "name": "stderr",
     "output_type": "stream",
     "text": [
      "Processing pages:  17%|█▋        | 3597/20713 [55:22<3:51:40,  1.23it/s]"
     ]
    },
    {
     "name": "stdout",
     "output_type": "stream",
     "text": [
      "Images for product '로얄캐닌_독_레날_7KG_강아지_대용량_신장사료' successfully processed.\n",
      "Images for product '아카나_강아지_사료_프리런_덕_11' successfully processed.\n",
      "Images for product '소화_레시피브이_반려견_다이제스트_처방식사료_1' successfully processed.\n"
     ]
    },
    {
     "name": "stderr",
     "output_type": "stream",
     "text": [
      "Processing pages:  17%|█▋        | 3600/20713 [55:24<3:41:24,  1.29it/s]"
     ]
    },
    {
     "name": "stdout",
     "output_type": "stream",
     "text": [
      "Images for product '피쉬포독_화이트피쉬_어덜트_강아지_눈물사료_1kg샘플' successfully processed.\n"
     ]
    },
    {
     "name": "stderr",
     "output_type": "stream",
     "text": [
      "Processing pages:  17%|█▋        | 3602/20713 [55:26<3:51:08,  1.23it/s]"
     ]
    },
    {
     "name": "stdout",
     "output_type": "stream",
     "text": [
      "Images for product '로얄캐닌_캣_가스트로_인테스티널_화이버_리스폰스_2kg_고양이_변비_처방사료' successfully processed.\n"
     ]
    },
    {
     "name": "stderr",
     "output_type": "stream",
     "text": [
      "Processing pages:  17%|█▋        | 3603/20713 [55:27<3:54:03,  1.22it/s]"
     ]
    },
    {
     "name": "stdout",
     "output_type": "stream",
     "text": [
      "Images for product '12개세트내추럴발란스_캔_울트라_인도어_156g_고양이_주식캔_습식사료' successfully processed.\n"
     ]
    },
    {
     "name": "stderr",
     "output_type": "stream",
     "text": [
      "Processing pages:  17%|█▋        | 3605/20713 [55:28<3:53:03,  1.22it/s]"
     ]
    },
    {
     "name": "stdout",
     "output_type": "stream",
     "text": [
      "Images for product '고사료_솔루션_체중조절용_웨이트_매니지먼트_치킨_5' successfully processed.\n"
     ]
    },
    {
     "name": "stderr",
     "output_type": "stream",
     "text": [
      "Processing pages:  17%|█▋        | 3612/20713 [55:34<3:52:20,  1.23it/s]"
     ]
    },
    {
     "name": "stdout",
     "output_type": "stream",
     "text": [
      "Images for product '라포그_사료_리얼인섹트_저알러지_관절케어_1' successfully processed.\n"
     ]
    },
    {
     "name": "stderr",
     "output_type": "stream",
     "text": [
      "Processing pages:  17%|█▋        | 3620/20713 [55:41<4:25:44,  1.07it/s]"
     ]
    },
    {
     "name": "stdout",
     "output_type": "stream",
     "text": [
      "Images for product '대한사료_유토피아_10kg_대형견_강아지사료_임신_수유견_대용량개사료' successfully processed.\n",
      "Images for product '세니메드_CT_웨이트_컨트롤_3' successfully processed.\n"
     ]
    },
    {
     "name": "stderr",
     "output_type": "stream",
     "text": [
      "Processing pages:  17%|█▋        | 3621/20713 [55:42<4:17:00,  1.11it/s]"
     ]
    },
    {
     "name": "stdout",
     "output_type": "stream",
     "text": [
      "Images for product '로얄캐닌_독파우치_미니_퍼피_85g_1박스12개' successfully processed.\n",
      "Images for product '브릿_프리미엄_캣_사료_고양이_사료_8kg' successfully processed.\n"
     ]
    },
    {
     "name": "stderr",
     "output_type": "stream",
     "text": [
      "Processing pages:  17%|█▋        | 3624/20713 [55:45<4:50:11,  1.02s/it]"
     ]
    },
    {
     "name": "stdout",
     "output_type": "stream",
     "text": [
      "Images for product '스페시픽_CODHY_알러지_사료_7kg' successfully processed.\n",
      "Error processing images for product '캣티즌_키튼_7': HTTPSConnectionPool(host='quattro1.cafe24.comr', port=443): Max retries exceeded with url: /openmarket/dogsee_notice.jpg (Caused by NameResolutionError(\"<urllib3.connection.HTTPSConnection object at 0x000001FF5B1CEC90>: Failed to resolve 'quattro1.cafe24.comr' ([Errno 11001] getaddrinfo failed)\"))\n",
      "Images for product '윌로펫_강아지_소프트_사료_어덜트_1' successfully processed.\n",
      "Images for product '고_네이티브_그레인프리_스몰브리드_아일랜드_사료_1' successfully processed.\n",
      "Images for product '후새_스테럴라이즈드_체중조절_고양이_다이어트_사료_후세_1' successfully processed.\n"
     ]
    },
    {
     "name": "stderr",
     "output_type": "stream",
     "text": [
      "Processing pages:  18%|█▊        | 3626/20713 [55:51<8:45:16,  1.84s/it] "
     ]
    },
    {
     "name": "stdout",
     "output_type": "stream",
     "text": [
      "Images for product '최신품로얄캐닌_미니인도어_어덜트_7' successfully processed.\n",
      "Images for product '힐스_Hills_독_rd_rd_1' successfully processed.\n"
     ]
    },
    {
     "name": "stderr",
     "output_type": "stream",
     "text": [
      "Processing pages:  18%|█▊        | 3630/20713 [55:55<5:09:23,  1.09s/it]"
     ]
    },
    {
     "name": "stdout",
     "output_type": "stream",
     "text": [
      "Images for product '로얄캐닌_고양이_사료_피트_400g' successfully processed.\n"
     ]
    },
    {
     "name": "stderr",
     "output_type": "stream",
     "text": [
      "Processing pages:  18%|█▊        | 3631/20713 [55:55<4:45:58,  1.00s/it]"
     ]
    },
    {
     "name": "stdout",
     "output_type": "stream",
     "text": [
      "Images for product '로얄캐닌_고양이사료_인도어_4kg' successfully processed.\n"
     ]
    },
    {
     "name": "stderr",
     "output_type": "stream",
     "text": [
      "Processing pages:  18%|█▊        | 3634/20713 [55:58<4:16:52,  1.11it/s]"
     ]
    },
    {
     "name": "stdout",
     "output_type": "stream",
     "text": [
      "Images for product '사료체험팩쉨잇_캣_양고기_80g_전연령_고양이' successfully processed.\n"
     ]
    },
    {
     "name": "stderr",
     "output_type": "stream",
     "text": [
      "Processing pages:  18%|█▊        | 3636/20713 [56:00<3:57:24,  1.20it/s]"
     ]
    },
    {
     "name": "stdout",
     "output_type": "stream",
     "text": [
      "Images for product '로얄캐닌_고양이사료_유리너리_케어_4kg' successfully processed.\n"
     ]
    },
    {
     "name": "stderr",
     "output_type": "stream",
     "text": [
      "Processing pages:  18%|█▊        | 3645/20713 [56:07<3:56:37,  1.20it/s]"
     ]
    },
    {
     "name": "stdout",
     "output_type": "stream",
     "text": [
      "Images for product '내추럴_그레이트니스_저알러지_강아지_토끼_사료_2kg' successfully processed.\n"
     ]
    },
    {
     "name": "stderr",
     "output_type": "stream",
     "text": [
      "Processing pages:  18%|█▊        | 3648/20713 [56:10<4:40:25,  1.01it/s]"
     ]
    },
    {
     "name": "stdout",
     "output_type": "stream",
     "text": [
      "Images for product '나우_어덜트_9' successfully processed.\n",
      "Images for product '6제로_플러스_04_가수분해_강아지_사료_연어_6kg_시니어' successfully processed.\n"
     ]
    },
    {
     "name": "stderr",
     "output_type": "stream",
     "text": [
      "Processing pages:  18%|█▊        | 3649/20713 [56:11<4:26:09,  1.07it/s]"
     ]
    },
    {
     "name": "stdout",
     "output_type": "stream",
     "text": [
      "Images for product '아카나_와일드_프레이리_캣_고양이_고단백_다이어트_사료_4' successfully processed.\n",
      "Images for product '오리젠_고양이_사료_피트앤트림_캣_340g_기호성_테스트' successfully processed.\n"
     ]
    },
    {
     "name": "stderr",
     "output_type": "stream",
     "text": [
      "Processing pages:  18%|█▊        | 3659/20713 [56:19<3:42:59,  1.27it/s]"
     ]
    },
    {
     "name": "stdout",
     "output_type": "stream",
     "text": [
      "Images for product '로우즈_독_사료_밀프리_LID연어_9kg_강아지사료' successfully processed.\n"
     ]
    },
    {
     "name": "stderr",
     "output_type": "stream",
     "text": [
      "Processing pages:  18%|█▊        | 3661/20713 [56:21<3:41:08,  1.29it/s]"
     ]
    },
    {
     "name": "stdout",
     "output_type": "stream",
     "text": [
      "Images for product '최신품로얄캐닌_프렌치_불독_퍼피_10kg_대포장사료' successfully processed.\n"
     ]
    },
    {
     "name": "stderr",
     "output_type": "stream",
     "text": [
      "Processing pages:  18%|█▊        | 3662/20713 [56:22<3:47:55,  1.25it/s]"
     ]
    },
    {
     "name": "stdout",
     "output_type": "stream",
     "text": [
      "Images for product '힐스_캣_메타볼릭_3' successfully processed.\n",
      "Images for product '위시본_캣_홀리스틱_그레인프리_고양이_사료_양고기_1' successfully processed.\n"
     ]
    },
    {
     "name": "stderr",
     "output_type": "stream",
     "text": [
      "Processing pages:  18%|█▊        | 3664/20713 [56:23<3:43:12,  1.27it/s]"
     ]
    },
    {
     "name": "stdout",
     "output_type": "stream",
     "text": [
      "Images for product '프론티어_사료_동결건조_치킨_900g__전연령' successfully processed.\n"
     ]
    },
    {
     "name": "stderr",
     "output_type": "stream",
     "text": [
      "Processing pages:  18%|█▊        | 3666/20713 [56:26<4:29:35,  1.05it/s]"
     ]
    },
    {
     "name": "stdout",
     "output_type": "stream",
     "text": [
      "Images for product '강아지_캔__주식캔_애견비책_햇밥_소고기_120g' successfully processed.\n",
      "Images for product '팜스코_캣츠미2kg증정품_전연령_고양이사료_길냥이사료' successfully processed.\n",
      "Images for product '웰니스_코어_오션_5' successfully processed.\n"
     ]
    },
    {
     "name": "stderr",
     "output_type": "stream",
     "text": [
      "Processing pages:  18%|█▊        | 3667/20713 [56:26<4:22:49,  1.08it/s]"
     ]
    },
    {
     "name": "stdout",
     "output_type": "stream",
     "text": [
      "Images for product '로얄캐닌_다이아베틱_당뇨_사료_1' successfully processed.\n"
     ]
    },
    {
     "name": "stderr",
     "output_type": "stream",
     "text": [
      "Processing pages:  18%|█▊        | 3678/20713 [56:36<4:15:48,  1.11it/s]"
     ]
    },
    {
     "name": "stdout",
     "output_type": "stream",
     "text": [
      "Images for product '펄프레쉬_강아지_동결건조_사료_살몬스피루리나_500g' successfully processed.\n"
     ]
    },
    {
     "name": "stderr",
     "output_type": "stream",
     "text": [
      "Processing pages:  18%|█▊        | 3679/20713 [56:37<4:32:55,  1.04it/s]"
     ]
    },
    {
     "name": "stdout",
     "output_type": "stream",
     "text": [
      "Images for product '풀무원_아미오_홀리스틱_사료_어덜트_5kg_유기농_가수분해_강아지_사료' successfully processed.\n"
     ]
    },
    {
     "name": "stderr",
     "output_type": "stream",
     "text": [
      "Processing pages:  18%|█▊        | 3683/20713 [56:40<3:55:56,  1.20it/s]"
     ]
    },
    {
     "name": "stdout",
     "output_type": "stream",
     "text": [
      "Images for product '페어캣_세이프_고양이사료_2kg_인섹트캣_친환경_저알러지' successfully processed.\n"
     ]
    },
    {
     "name": "stderr",
     "output_type": "stream",
     "text": [
      "Processing pages:  18%|█▊        | 3684/20713 [56:41<3:45:28,  1.26it/s]"
     ]
    },
    {
     "name": "stdout",
     "output_type": "stream",
     "text": [
      "Images for product '네츄럴코어_고양이사료_슬림다운' successfully processed.\n"
     ]
    },
    {
     "name": "stderr",
     "output_type": "stream",
     "text": [
      "Processing pages:  18%|█▊        | 3685/20713 [56:41<3:38:13,  1.30it/s]"
     ]
    },
    {
     "name": "stdout",
     "output_type": "stream",
     "text": [
      "Images for product '로얄캐닌_고양이사료_파우치_센서리_스멜_그레이비_85g낱개' successfully processed.\n"
     ]
    },
    {
     "name": "stderr",
     "output_type": "stream",
     "text": [
      "Processing pages:  18%|█▊        | 3691/20713 [56:47<4:28:00,  1.06it/s]"
     ]
    },
    {
     "name": "stdout",
     "output_type": "stream",
     "text": [
      "Images for product '버틀러_더텐_소프트사료_기능성_저알러지_강아지사료_연어_1kg' successfully processed.\n"
     ]
    },
    {
     "name": "stderr",
     "output_type": "stream",
     "text": [
      "Processing pages:  18%|█▊        | 3703/20713 [56:58<4:05:38,  1.15it/s]"
     ]
    },
    {
     "name": "stdout",
     "output_type": "stream",
     "text": [
      "Images for product '버틀러_더텐_소프트사료_기능성_저알러지_강아지사료_황태_1kg' successfully processed.\n"
     ]
    },
    {
     "name": "stderr",
     "output_type": "stream",
     "text": [
      "Processing pages:  18%|█▊        | 3708/20713 [57:02<4:00:18,  1.18it/s]"
     ]
    },
    {
     "name": "stdout",
     "output_type": "stream",
     "text": [
      "Images for product '로얄캐닌_독_카디악_2kg_심장_처방사료' successfully processed.\n",
      "Images for product '로얄캐닌_캣_인스팅티브_파우치_85g_체중유지_요로기계_고양이_습식_사료' successfully processed.\n",
      "Images for product '누터스가든_강아지사료_덕앤리버_독_2kg' successfully processed.\n"
     ]
    },
    {
     "name": "stderr",
     "output_type": "stream",
     "text": [
      "Processing pages:  18%|█▊        | 3711/20713 [57:05<4:00:18,  1.18it/s]"
     ]
    },
    {
     "name": "stdout",
     "output_type": "stream",
     "text": [
      "Images for product '고_GO_연어_강아지사료_9' successfully processed.\n"
     ]
    },
    {
     "name": "stderr",
     "output_type": "stream",
     "text": [
      "Processing pages:  18%|█▊        | 3718/20713 [57:11<4:06:44,  1.15it/s]"
     ]
    },
    {
     "name": "stdout",
     "output_type": "stream",
     "text": [
      "Images for product '시저사료_연어가곁들어진_프리미엄쇠고기_1kg' successfully processed.\n"
     ]
    },
    {
     "name": "stderr",
     "output_type": "stream",
     "text": [
      "Processing pages:  18%|█▊        | 3719/20713 [57:12<3:58:12,  1.19it/s]"
     ]
    },
    {
     "name": "stdout",
     "output_type": "stream",
     "text": [
      "Images for product '도착보장_힐스_강아지사료_어덜트_라지브리드_6' successfully processed.\n",
      "Images for product '오리젠_강아지_사료_오리지널_독_11' successfully processed.\n"
     ]
    },
    {
     "name": "stderr",
     "output_type": "stream",
     "text": [
      "Processing pages:  18%|█▊        | 3740/20713 [57:31<3:51:42,  1.22it/s]"
     ]
    },
    {
     "name": "stdout",
     "output_type": "stream",
     "text": [
      "Images for product '아침애사료_수제_한우_2' successfully processed.\n"
     ]
    },
    {
     "name": "stderr",
     "output_type": "stream",
     "text": [
      "Processing pages:  18%|█▊        | 3741/20713 [57:31<3:55:00,  1.20it/s]"
     ]
    },
    {
     "name": "stdout",
     "output_type": "stream",
     "text": [
      "Images for product '오리젠_강아지_사료_오리지널_독_11' successfully processed.\n"
     ]
    },
    {
     "name": "stderr",
     "output_type": "stream",
     "text": [
      "Processing pages:  18%|█▊        | 3742/20713 [57:32<3:49:49,  1.23it/s]"
     ]
    },
    {
     "name": "stdout",
     "output_type": "stream",
     "text": [
      "Images for product '하이독_알러컷_캥거루_500g_하이포알러제닉_체중_조절_다이어트_캥거루_알러지사료' successfully processed.\n",
      "Images for product '네츄럴랩_케어2_강아지_가수분해_사료_위장간_2kg_유기농_70' successfully processed.\n"
     ]
    },
    {
     "name": "stderr",
     "output_type": "stream",
     "text": [
      "Processing pages:  18%|█▊        | 3743/20713 [57:33<3:54:57,  1.20it/s]"
     ]
    },
    {
     "name": "stdout",
     "output_type": "stream",
     "text": [
      "Images for product '로얄캐닌_캣_인스팅티브_파우치_85g_체중유지_요로기계_고양이_습식_사료' successfully processed.\n"
     ]
    },
    {
     "name": "stderr",
     "output_type": "stream",
     "text": [
      "Processing pages:  18%|█▊        | 3744/20713 [57:34<4:17:46,  1.10it/s]"
     ]
    },
    {
     "name": "stdout",
     "output_type": "stream",
     "text": [
      "Images for product '도착보장_힐스_강아지사료_어덜트_라지브리드_6' successfully processed.\n",
      "Images for product '지그니쳐_그레인프리_강아지_눈물사료_화이트피쉬_포뮬라_1kg' successfully processed.\n",
      "Images for product '네츄럴랩_케어2_강아지_가수분해_사료_위장간_2kg_유기농_70' successfully processed.\n"
     ]
    },
    {
     "name": "stderr",
     "output_type": "stream",
     "text": [
      "Processing pages:  18%|█▊        | 3745/20713 [57:35<4:06:18,  1.15it/s]"
     ]
    },
    {
     "name": "stdout",
     "output_type": "stream",
     "text": [
      "Images for product '하이독_알러컷_캥거루_500g_하이포알러제닉_체중_조절_다이어트_캥거루_알러지사료' successfully processed.\n",
      "Images for product '로얄캐닌_강아지사료_포메라니안_습식파우치_85g_X_12P' successfully processed.\n"
     ]
    },
    {
     "name": "stderr",
     "output_type": "stream",
     "text": [
      "Processing pages:  18%|█▊        | 3753/20713 [57:42<3:55:50,  1.20it/s]"
     ]
    },
    {
     "name": "stdout",
     "output_type": "stream",
     "text": [
      "Images for product '도착보장_힐스_강아지사료_어덜트_라지브리드_6' successfully processed.\n"
     ]
    },
    {
     "name": "stderr",
     "output_type": "stream",
     "text": [
      "Processing pages:  18%|█▊        | 3754/20713 [57:43<4:15:29,  1.11it/s]"
     ]
    },
    {
     "name": "stdout",
     "output_type": "stream",
     "text": [
      "Images for product '오리젠_강아지_사료_오리지널_독_11' successfully processed.\n"
     ]
    },
    {
     "name": "stderr",
     "output_type": "stream",
     "text": [
      "Processing pages:  18%|█▊        | 3770/20713 [57:57<4:08:54,  1.13it/s]"
     ]
    },
    {
     "name": "stdout",
     "output_type": "stream",
     "text": [
      "Images for product '로얄캐닌_강아지사료_포메라니안_습식파우치_85g_X_12P' successfully processed.\n"
     ]
    },
    {
     "name": "stderr",
     "output_type": "stream",
     "text": [
      "Processing pages:  18%|█▊        | 3776/20713 [58:02<3:37:20,  1.30it/s]"
     ]
    },
    {
     "name": "stdout",
     "output_type": "stream",
     "text": [
      "Images for product '네츄럴랩_케어2_강아지_가수분해_사료_위장간_2kg_유기농_70' successfully processed.\n"
     ]
    },
    {
     "name": "stderr",
     "output_type": "stream",
     "text": [
      "Processing pages:  18%|█▊        | 3779/20713 [58:04<3:50:52,  1.22it/s]"
     ]
    },
    {
     "name": "stdout",
     "output_type": "stream",
     "text": [
      "Images for product '네츄럴랩_케어2_강아지_가수분해_사료_위장간_2kg_유기농_70' successfully processed.\n",
      "Images for product '로얄캐닌_캣_인스팅티브_파우치_85g_체중유지_요로기계_고양이_습식_사료' successfully processed.\n",
      "Images for product '지그니쳐_그레인프리_강아지_눈물사료_화이트피쉬_포뮬라_1kg' successfully processed.\n",
      "Images for product '하이독_알러컷_캥거루_500g_하이포알러제닉_체중_조절_다이어트_캥거루_알러지사료' successfully processed.\n"
     ]
    },
    {
     "name": "stderr",
     "output_type": "stream",
     "text": [
      "Processing pages:  18%|█▊        | 3780/20713 [58:05<3:53:52,  1.21it/s]"
     ]
    },
    {
     "name": "stdout",
     "output_type": "stream",
     "text": [
      "Images for product '지그니쳐_그레인프리_강아지_눈물사료_화이트피쉬_포뮬라_1kg' successfully processed.\n"
     ]
    },
    {
     "name": "stderr",
     "output_type": "stream",
     "text": [
      "Processing pages:  18%|█▊        | 3781/20713 [58:06<4:04:50,  1.15it/s]"
     ]
    },
    {
     "name": "stdout",
     "output_type": "stream",
     "text": [
      "Images for product '도착보장_힐스_강아지사료_어덜트_라지브리드_6' successfully processed.\n"
     ]
    },
    {
     "name": "stderr",
     "output_type": "stream",
     "text": [
      "Processing pages:  18%|█▊        | 3782/20713 [58:07<4:04:36,  1.15it/s]"
     ]
    },
    {
     "name": "stdout",
     "output_type": "stream",
     "text": [
      "Images for product '로얄캐닌_강아지사료_포메라니안_습식파우치_85g_X_12P' successfully processed.\n",
      "Images for product '오리젠_강아지_사료_오리지널_독_11' successfully processed.\n"
     ]
    },
    {
     "name": "stderr",
     "output_type": "stream",
     "text": [
      "Processing pages:  18%|█▊        | 3799/20713 [58:21<3:38:31,  1.29it/s]"
     ]
    },
    {
     "name": "stdout",
     "output_type": "stream",
     "text": [
      "Images for product '하이독_알러컷_캥거루_500g_하이포알러제닉_체중_조절_다이어트_캥거루_알러지사료' successfully processed.\n"
     ]
    },
    {
     "name": "stderr",
     "output_type": "stream",
     "text": [
      "Processing pages:  18%|█▊        | 3804/20713 [59:02<56:44:00, 12.08s/it]"
     ]
    },
    {
     "name": "stdout",
     "output_type": "stream",
     "text": [
      "Images for product '로얄캐닌_캣_인스팅티브_파우치_85g_체중유지_요로기계_고양이_습식_사료' successfully processed.\n",
      "Images for product '로얄캐닌_캣_인스팅티브_파우치_85g_체중유지_요로기계_고양이_습식_사료' successfully processed.\n",
      "Images for product '지그니쳐_그레인프리_강아지_눈물사료_화이트피쉬_포뮬라_1kg' successfully processed.\n"
     ]
    },
    {
     "name": "stderr",
     "output_type": "stream",
     "text": [
      "Processing pages:  18%|█▊        | 3807/20713 [59:05<22:04:07,  4.70s/it]"
     ]
    },
    {
     "name": "stdout",
     "output_type": "stream",
     "text": [
      "Images for product '도착보장_힐스_강아지사료_어덜트_라지브리드_6' successfully processed.\n",
      "Images for product '네츄럴랩_케어2_강아지_가수분해_사료_위장간_2kg_유기농_70' successfully processed.\n",
      "Images for product '오리젠_강아지_사료_오리지널_독_11' successfully processed.\n"
     ]
    },
    {
     "name": "stderr",
     "output_type": "stream",
     "text": [
      "Processing pages:  18%|█▊        | 3808/20713 [59:06<16:33:29,  3.53s/it]"
     ]
    },
    {
     "name": "stdout",
     "output_type": "stream",
     "text": [
      "Images for product '로얄캐닌_강아지사료_포메라니안_습식파우치_85g_X_12P' successfully processed.\n"
     ]
    },
    {
     "name": "stderr",
     "output_type": "stream",
     "text": [
      "Processing pages:  18%|█▊        | 3809/20713 [59:07<13:08:58,  2.80s/it]"
     ]
    },
    {
     "name": "stdout",
     "output_type": "stream",
     "text": [
      "Images for product '오리젠_강아지_사료_오리지널_독_11' successfully processed.\n"
     ]
    },
    {
     "name": "stderr",
     "output_type": "stream",
     "text": [
      "Processing pages:  18%|█▊        | 3823/20713 [59:20<4:20:58,  1.08it/s] "
     ]
    },
    {
     "name": "stdout",
     "output_type": "stream",
     "text": [
      "Images for product '지그니쳐_그레인프리_강아지_눈물사료_화이트피쉬_포뮬라_1kg' successfully processed.\n"
     ]
    },
    {
     "name": "stderr",
     "output_type": "stream",
     "text": [
      "Processing pages:  18%|█▊        | 3824/20713 [59:21<4:14:53,  1.10it/s]"
     ]
    },
    {
     "name": "stdout",
     "output_type": "stream",
     "text": [
      "Images for product '로얄캐닌_강아지사료_포메라니안_습식파우치_85g_X_12P' successfully processed.\n"
     ]
    },
    {
     "name": "stderr",
     "output_type": "stream",
     "text": [
      "Processing pages:  18%|█▊        | 3825/20713 [59:22<4:08:20,  1.13it/s]"
     ]
    },
    {
     "name": "stdout",
     "output_type": "stream",
     "text": [
      "Images for product '지그니쳐_그레인프리_강아지_눈물사료_화이트피쉬_포뮬라_1kg' successfully processed.\n"
     ]
    },
    {
     "name": "stderr",
     "output_type": "stream",
     "text": [
      "Processing pages:  18%|█▊        | 3826/20713 [59:23<3:55:51,  1.19it/s]"
     ]
    },
    {
     "name": "stdout",
     "output_type": "stream",
     "text": [
      "Images for product '네츄럴랩_케어2_강아지_가수분해_사료_위장간_2kg_유기농_70' successfully processed.\n"
     ]
    },
    {
     "name": "stderr",
     "output_type": "stream",
     "text": [
      "Processing pages:  18%|█▊        | 3828/20713 [59:24<4:01:52,  1.16it/s]"
     ]
    },
    {
     "name": "stdout",
     "output_type": "stream",
     "text": [
      "Images for product '하이독_알러컷_캥거루_500g_하이포알러제닉_체중_조절_다이어트_캥거루_알러지사료' successfully processed.\n"
     ]
    },
    {
     "name": "stderr",
     "output_type": "stream",
     "text": [
      "Processing pages:  19%|█▊        | 3836/20713 [59:31<3:39:00,  1.28it/s]"
     ]
    },
    {
     "name": "stdout",
     "output_type": "stream",
     "text": [
      "Images for product '로얄캐닌_캣_인스팅티브_파우치_85g_체중유지_요로기계_고양이_습식_사료' successfully processed.\n"
     ]
    },
    {
     "name": "stderr",
     "output_type": "stream",
     "text": [
      "Processing pages:  19%|█▊        | 3840/20713 [59:35<4:08:00,  1.13it/s]"
     ]
    },
    {
     "name": "stdout",
     "output_type": "stream",
     "text": [
      "Images for product '로얄캐닌_캣_인스팅티브_파우치_85g_체중유지_요로기계_고양이_습식_사료' successfully processed.\n"
     ]
    },
    {
     "name": "stderr",
     "output_type": "stream",
     "text": [
      "Processing pages:  19%|█▊        | 3842/20713 [59:36<4:12:38,  1.11it/s]"
     ]
    },
    {
     "name": "stdout",
     "output_type": "stream",
     "text": [
      "Images for product '네츄럴랩_케어2_강아지_가수분해_사료_위장간_2kg_유기농_70' successfully processed.\n"
     ]
    },
    {
     "name": "stderr",
     "output_type": "stream",
     "text": [
      "Processing pages:  19%|█▊        | 3844/20713 [59:38<4:21:45,  1.07it/s]"
     ]
    },
    {
     "name": "stdout",
     "output_type": "stream",
     "text": [
      "Images for product '도착보장_힐스_강아지사료_어덜트_라지브리드_6' successfully processed.\n"
     ]
    },
    {
     "name": "stderr",
     "output_type": "stream",
     "text": [
      "Processing pages:  19%|█▊        | 3850/20713 [59:44<3:53:47,  1.20it/s]"
     ]
    },
    {
     "name": "stdout",
     "output_type": "stream",
     "text": [
      "Images for product '지그니쳐_그레인프리_강아지_눈물사료_화이트피쉬_포뮬라_1kg' successfully processed.\n"
     ]
    },
    {
     "name": "stderr",
     "output_type": "stream",
     "text": [
      "Processing pages:  19%|█▊        | 3851/20713 [59:45<4:01:32,  1.16it/s]"
     ]
    },
    {
     "name": "stdout",
     "output_type": "stream",
     "text": [
      "Images for product '하이독_알러컷_캥거루_500g_하이포알러제닉_체중_조절_다이어트_캥거루_알러지사료' successfully processed.\n",
      "Images for product '오리젠_강아지_사료_오리지널_독_11' successfully processed.\n"
     ]
    },
    {
     "name": "stderr",
     "output_type": "stream",
     "text": [
      "Processing pages:  19%|█▊        | 3854/20713 [59:47<4:02:59,  1.16it/s]"
     ]
    },
    {
     "name": "stdout",
     "output_type": "stream",
     "text": [
      "Images for product '로얄캐닌_캣_인스팅티브_파우치_85g_체중유지_요로기계_고양이_습식_사료' successfully processed.\n"
     ]
    },
    {
     "name": "stderr",
     "output_type": "stream",
     "text": [
      "Processing pages:  19%|█▊        | 3855/20713 [59:49<5:13:23,  1.12s/it]"
     ]
    },
    {
     "name": "stdout",
     "output_type": "stream",
     "text": [
      "Images for product '도착보장_힐스_강아지사료_어덜트_라지브리드_6' successfully processed.\n",
      "Images for product '도착보장_힐스_강아지사료_어덜트_라지브리드_6' successfully processed.\n"
     ]
    },
    {
     "name": "stderr",
     "output_type": "stream",
     "text": [
      "Processing pages:  19%|█▊        | 3856/20713 [59:50<4:57:32,  1.06s/it]"
     ]
    },
    {
     "name": "stdout",
     "output_type": "stream",
     "text": [
      "Images for product '오리젠_강아지_사료_오리지널_독_11' successfully processed.\n",
      "Images for product '네츄럴랩_케어2_강아지_가수분해_사료_위장간_2kg_유기농_70' successfully processed.\n",
      "Images for product '로얄캐닌_강아지사료_포메라니안_습식파우치_85g_X_12P' successfully processed.\n",
      "Images for product '로얄캐닌_강아지사료_포메라니안_습식파우치_85g_X_12P' successfully processed.\n"
     ]
    },
    {
     "name": "stderr",
     "output_type": "stream",
     "text": [
      "Processing pages:  19%|█▊        | 3862/20713 [59:55<3:52:58,  1.21it/s]"
     ]
    },
    {
     "name": "stdout",
     "output_type": "stream",
     "text": [
      "Images for product '하이독_알러컷_캥거루_500g_하이포알러제닉_체중_조절_다이어트_캥거루_알러지사료' successfully processed.\n"
     ]
    },
    {
     "name": "stderr",
     "output_type": "stream",
     "text": [
      "Processing pages:  19%|█▊        | 3864/20713 [59:56<3:50:08,  1.22it/s]"
     ]
    },
    {
     "name": "stdout",
     "output_type": "stream",
     "text": [
      "Images for product '로얄캐닌_캣_인스팅티브_파우치_85g_체중유지_요로기계_고양이_습식_사료' successfully processed.\n",
      "Images for product '하이독_알러컷_캥거루_500g_하이포알러제닉_체중_조절_다이어트_캥거루_알러지사료' successfully processed.\n"
     ]
    },
    {
     "name": "stderr",
     "output_type": "stream",
     "text": [
      "Processing pages:  19%|█▊        | 3869/20713 [1:00:01<4:14:51,  1.10it/s]"
     ]
    },
    {
     "name": "stdout",
     "output_type": "stream",
     "text": [
      "Images for product '무마진_소프트사료_연어_황태_1kg' successfully processed.\n"
     ]
    },
    {
     "name": "stderr",
     "output_type": "stream",
     "text": [
      "Processing pages:  19%|█▊        | 3870/20713 [1:00:02<4:15:46,  1.10it/s]"
     ]
    },
    {
     "name": "stdout",
     "output_type": "stream",
     "text": [
      "Images for product '지그니쳐_그레인프리_강아지_눈물사료_화이트피쉬_포뮬라_1kg' successfully processed.\n"
     ]
    },
    {
     "name": "stderr",
     "output_type": "stream",
     "text": [
      "Processing pages:  19%|█▊        | 3876/20713 [1:00:07<3:56:03,  1.19it/s]"
     ]
    },
    {
     "name": "stdout",
     "output_type": "stream",
     "text": [
      "Images for product '로얄캐닌_강아지사료_포메라니안_습식파우치_85g_X_12P' successfully processed.\n"
     ]
    },
    {
     "name": "stderr",
     "output_type": "stream",
     "text": [
      "Processing pages:  19%|█▊        | 3878/20713 [1:00:08<3:48:54,  1.23it/s]"
     ]
    },
    {
     "name": "stdout",
     "output_type": "stream",
     "text": [
      "Images for product '네츄럴랩_케어2_강아지_가수분해_사료_위장간_2kg_유기농_70' successfully processed.\n"
     ]
    },
    {
     "name": "stderr",
     "output_type": "stream",
     "text": [
      "Processing pages:  19%|█▊        | 3880/20713 [1:00:10<3:54:28,  1.20it/s]"
     ]
    },
    {
     "name": "stdout",
     "output_type": "stream",
     "text": [
      "Images for product '로얄캐닌_캣_인스팅티브_파우치_85g_체중유지_요로기계_고양이_습식_사료' successfully processed.\n"
     ]
    },
    {
     "name": "stderr",
     "output_type": "stream",
     "text": [
      "Processing pages:  19%|█▊        | 3883/20713 [1:00:13<3:56:57,  1.18it/s]"
     ]
    },
    {
     "name": "stdout",
     "output_type": "stream",
     "text": [
      "Images for product '지그니쳐_그레인프리_강아지_눈물사료_화이트피쉬_포뮬라_1kg' successfully processed.\n"
     ]
    },
    {
     "name": "stderr",
     "output_type": "stream",
     "text": [
      "Processing pages:  19%|█▉        | 3888/20713 [1:00:17<4:17:39,  1.09it/s]"
     ]
    },
    {
     "name": "stdout",
     "output_type": "stream",
     "text": [
      "Images for product '도착보장_힐스_강아지사료_어덜트_라지브리드_6' successfully processed.\n"
     ]
    },
    {
     "name": "stderr",
     "output_type": "stream",
     "text": [
      "Processing pages:  19%|█▉        | 3896/20713 [1:00:24<3:41:11,  1.27it/s]"
     ]
    },
    {
     "name": "stdout",
     "output_type": "stream",
     "text": [
      "Images for product '네츄럴랩_케어2_강아지_가수분해_사료_위장간_2kg_유기농_70' successfully processed.\n"
     ]
    },
    {
     "name": "stderr",
     "output_type": "stream",
     "text": [
      "Processing pages:  19%|█▉        | 3897/20713 [1:00:25<3:43:43,  1.25it/s]"
     ]
    },
    {
     "name": "stdout",
     "output_type": "stream",
     "text": [
      "Images for product '도착보장_힐스_강아지사료_어덜트_라지브리드_6' successfully processed.\n"
     ]
    },
    {
     "name": "stderr",
     "output_type": "stream",
     "text": [
      "Processing pages:  19%|█▉        | 3899/20713 [1:00:26<3:52:31,  1.21it/s]"
     ]
    },
    {
     "name": "stdout",
     "output_type": "stream",
     "text": [
      "Images for product '하이독_알러컷_캥거루_500g_하이포알러제닉_체중_조절_다이어트_캥거루_알러지사료' successfully processed.\n",
      "Images for product '오리젠_강아지_사료_오리지널_독_11' successfully processed.\n"
     ]
    },
    {
     "name": "stderr",
     "output_type": "stream",
     "text": [
      "Processing pages:  19%|█▉        | 3901/20713 [1:00:28<3:56:18,  1.19it/s]"
     ]
    },
    {
     "name": "stdout",
     "output_type": "stream",
     "text": [
      "Images for product '지그니쳐_그레인프리_강아지_눈물사료_화이트피쉬_포뮬라_1kg' successfully processed.\n"
     ]
    },
    {
     "name": "stderr",
     "output_type": "stream",
     "text": [
      "Processing pages:  19%|█▉        | 3902/20713 [1:00:29<3:50:15,  1.22it/s]"
     ]
    },
    {
     "name": "stdout",
     "output_type": "stream",
     "text": [
      "Images for product '로얄캐닌_캣_인스팅티브_파우치_85g_체중유지_요로기계_고양이_습식_사료' successfully processed.\n"
     ]
    },
    {
     "name": "stderr",
     "output_type": "stream",
     "text": [
      "Processing pages:  19%|█▉        | 3908/20713 [1:00:34<4:18:15,  1.08it/s]"
     ]
    },
    {
     "name": "stdout",
     "output_type": "stream",
     "text": [
      "Images for product '도착보장_힐스_강아지사료_어덜트_라지브리드_6' successfully processed.\n"
     ]
    },
    {
     "name": "stderr",
     "output_type": "stream",
     "text": [
      "Processing pages:  19%|█▉        | 3909/20713 [1:00:35<4:23:57,  1.06it/s]"
     ]
    },
    {
     "name": "stdout",
     "output_type": "stream",
     "text": [
      "Images for product '오리젠_강아지_사료_오리지널_독_11' successfully processed.\n",
      "Images for product '오리젠_강아지_사료_오리지널_독_11' successfully processed.\n"
     ]
    },
    {
     "name": "stderr",
     "output_type": "stream",
     "text": [
      "Processing pages:  19%|█▉        | 3911/20713 [1:00:37<4:04:59,  1.14it/s]"
     ]
    },
    {
     "name": "stdout",
     "output_type": "stream",
     "text": [
      "Images for product '하이독_알러컷_캥거루_500g_하이포알러제닉_체중_조절_다이어트_캥거루_알러지사료' successfully processed.\n"
     ]
    },
    {
     "name": "stderr",
     "output_type": "stream",
     "text": [
      "Processing pages:  19%|█▉        | 3912/20713 [1:00:38<4:07:30,  1.13it/s]"
     ]
    },
    {
     "name": "stdout",
     "output_type": "stream",
     "text": [
      "Images for product '로얄캐닌_강아지사료_포메라니안_습식파우치_85g_X_12P' successfully processed.\n"
     ]
    },
    {
     "name": "stderr",
     "output_type": "stream",
     "text": [
      "Processing pages:  19%|█▉        | 3916/20713 [1:00:41<4:05:29,  1.14it/s]"
     ]
    },
    {
     "name": "stdout",
     "output_type": "stream",
     "text": [
      "Images for product '네츄럴랩_케어2_강아지_가수분해_사료_위장간_2kg_유기농_70' successfully processed.\n"
     ]
    },
    {
     "name": "stderr",
     "output_type": "stream",
     "text": [
      "Processing pages:  19%|█▉        | 3917/20713 [1:00:42<4:04:29,  1.14it/s]"
     ]
    },
    {
     "name": "stdout",
     "output_type": "stream",
     "text": [
      "Images for product '하이독_알러컷_캥거루_500g_하이포알러제닉_체중_조절_다이어트_캥거루_알러지사료' successfully processed.\n"
     ]
    },
    {
     "name": "stderr",
     "output_type": "stream",
     "text": [
      "Processing pages:  19%|█▉        | 3920/20713 [1:00:45<3:54:42,  1.19it/s]"
     ]
    },
    {
     "name": "stdout",
     "output_type": "stream",
     "text": [
      "Images for product '로얄캐닌_강아지사료_포메라니안_습식파우치_85g_X_12P' successfully processed.\n"
     ]
    },
    {
     "name": "stderr",
     "output_type": "stream",
     "text": [
      "Processing pages:  19%|█▉        | 3932/20713 [1:00:55<3:53:10,  1.20it/s]"
     ]
    },
    {
     "name": "stdout",
     "output_type": "stream",
     "text": [
      "Images for product '로얄캐닌_처방식_하이포알러제닉_스몰독_1kg_처방식사료_강아지사료_음식알러지' successfully processed.\n"
     ]
    },
    {
     "name": "stderr",
     "output_type": "stream",
     "text": [
      "Processing pages:  19%|█▉        | 3936/20713 [1:00:59<4:06:31,  1.13it/s]"
     ]
    },
    {
     "name": "stdout",
     "output_type": "stream",
     "text": [
      "Images for product '로얄캐닌_캣_인스팅티브_파우치_85g_체중유지_요로기계_고양이_습식_사료' successfully processed.\n"
     ]
    },
    {
     "name": "stderr",
     "output_type": "stream",
     "text": [
      "Processing pages:  19%|█▉        | 3938/20713 [1:01:00<4:03:31,  1.15it/s]"
     ]
    },
    {
     "name": "stdout",
     "output_type": "stream",
     "text": [
      "Images for product '네츄럴랩_케어2_강아지_가수분해_사료_위장간_2kg_유기농_70' successfully processed.\n",
      "Images for product '지그니쳐_그레인프리_강아지_눈물사료_화이트피쉬_포뮬라_1kg' successfully processed.\n",
      "Images for product '로얄캐닌_강아지사료_포메라니안_습식파우치_85g_X_12P' successfully processed.\n",
      "Images for product '하이독_알러컷_캥거루_500g_하이포알러제닉_체중_조절_다이어트_캥거루_알러지사료' successfully processed.\n"
     ]
    },
    {
     "name": "stderr",
     "output_type": "stream",
     "text": [
      "Processing pages:  19%|█▉        | 3940/20713 [1:01:02<3:51:40,  1.21it/s]"
     ]
    },
    {
     "name": "stdout",
     "output_type": "stream",
     "text": [
      "Images for product '오리젠_강아지_사료_오리지널_독_11' successfully processed.\n"
     ]
    },
    {
     "name": "stderr",
     "output_type": "stream",
     "text": [
      "Processing pages:  19%|█▉        | 3944/20713 [1:01:06<4:02:42,  1.15it/s]"
     ]
    },
    {
     "name": "stdout",
     "output_type": "stream",
     "text": [
      "Images for product '도착보장_힐스_강아지사료_어덜트_라지브리드_6' successfully processed.\n",
      "Images for product '오리젠_강아지_사료_오리지널_독_11' successfully processed.\n"
     ]
    },
    {
     "name": "stderr",
     "output_type": "stream",
     "text": [
      "Processing pages:  19%|█▉        | 3947/20713 [1:01:08<4:11:55,  1.11it/s]"
     ]
    },
    {
     "name": "stdout",
     "output_type": "stream",
     "text": [
      "Images for product '로얄캐닌_강아지사료_포메라니안_습식파우치_85g_X_12P' successfully processed.\n"
     ]
    },
    {
     "name": "stderr",
     "output_type": "stream",
     "text": [
      "Processing pages:  19%|█▉        | 3953/20713 [1:01:14<4:12:46,  1.11it/s]"
     ]
    },
    {
     "name": "stdout",
     "output_type": "stream",
     "text": [
      "Images for product '로얄캐닌_캣_인스팅티브_파우치_85g_체중유지_요로기계_고양이_습식_사료' successfully processed.\n"
     ]
    },
    {
     "name": "stderr",
     "output_type": "stream",
     "text": [
      "Processing pages:  19%|█▉        | 3955/20713 [1:01:16<4:10:19,  1.12it/s]"
     ]
    },
    {
     "name": "stdout",
     "output_type": "stream",
     "text": [
      "Images for product '도착보장_힐스_강아지사료_어덜트_라지브리드_6' successfully processed.\n"
     ]
    },
    {
     "name": "stderr",
     "output_type": "stream",
     "text": [
      "Processing pages:  19%|█▉        | 3958/20713 [1:01:18<4:05:10,  1.14it/s]"
     ]
    },
    {
     "name": "stdout",
     "output_type": "stream",
     "text": [
      "Images for product '로얄캐닌_캣_인스팅티브_파우치_85g_체중유지_요로기계_고양이_습식_사료' successfully processed.\n"
     ]
    },
    {
     "name": "stderr",
     "output_type": "stream",
     "text": [
      "Processing pages:  19%|█▉        | 3962/20713 [1:01:22<4:30:12,  1.03it/s]"
     ]
    },
    {
     "name": "stdout",
     "output_type": "stream",
     "text": [
      "Images for product '도착보장_힐스_강아지사료_어덜트_라지브리드_6' successfully processed.\n"
     ]
    },
    {
     "name": "stderr",
     "output_type": "stream",
     "text": [
      "Processing pages:  19%|█▉        | 3972/20713 [1:01:30<3:32:36,  1.31it/s]"
     ]
    },
    {
     "name": "stdout",
     "output_type": "stream",
     "text": [
      "Images for product '로얄캐닌_캣_인스팅티브_파우치_85g_체중유지_요로기계_고양이_습식_사료' successfully processed.\n"
     ]
    },
    {
     "name": "stderr",
     "output_type": "stream",
     "text": [
      "Processing pages:  19%|█▉        | 3974/20713 [1:01:32<3:46:27,  1.23it/s]"
     ]
    },
    {
     "name": "stdout",
     "output_type": "stream",
     "text": [
      "Images for product '지그니쳐_그레인프리_강아지_눈물사료_화이트피쉬_포뮬라_1kg' successfully processed.\n",
      "Images for product '하이독_알러컷_캥거루_500g_하이포알러제닉_체중_조절_다이어트_캥거루_알러지사료' successfully processed.\n",
      "Images for product '도착보장_힐스_강아지사료_어덜트_라지브리드_6' successfully processed.\n"
     ]
    },
    {
     "name": "stderr",
     "output_type": "stream",
     "text": [
      "Processing pages:  19%|█▉        | 3976/20713 [1:01:34<3:47:52,  1.22it/s]"
     ]
    },
    {
     "name": "stdout",
     "output_type": "stream",
     "text": [
      "Images for product '오리젠_강아지_사료_오리지널_독_11' successfully processed.\n",
      "Images for product '네츄럴랩_케어2_강아지_가수분해_사료_위장간_2kg_유기농_70' successfully processed.\n",
      "Images for product '지그니쳐_그레인프리_강아지_눈물사료_화이트피쉬_포뮬라_1kg' successfully processed.\n"
     ]
    },
    {
     "name": "stderr",
     "output_type": "stream",
     "text": [
      "Processing pages:  19%|█▉        | 3977/20713 [1:01:34<3:46:22,  1.23it/s]"
     ]
    },
    {
     "name": "stdout",
     "output_type": "stream",
     "text": [
      "Images for product '로얄캐닌_강아지사료_포메라니안_습식파우치_85g_X_12P' successfully processed.\n"
     ]
    },
    {
     "name": "stderr",
     "output_type": "stream",
     "text": [
      "Processing pages:  19%|█▉        | 3990/20713 [1:01:45<3:50:03,  1.21it/s]"
     ]
    },
    {
     "name": "stdout",
     "output_type": "stream",
     "text": [
      "Images for product '네츄럴랩_케어2_강아지_가수분해_사료_위장간_2kg_유기농_70' successfully processed.\n"
     ]
    },
    {
     "name": "stderr",
     "output_type": "stream",
     "text": [
      "Processing pages:  19%|█▉        | 3993/20713 [1:01:48<3:56:53,  1.18it/s]"
     ]
    },
    {
     "name": "stdout",
     "output_type": "stream",
     "text": [
      "Images for product '오리젠_강아지_사료_오리지널_독_11' successfully processed.\n"
     ]
    },
    {
     "name": "stderr",
     "output_type": "stream",
     "text": [
      "Processing pages:  19%|█▉        | 3997/20713 [1:01:51<4:14:53,  1.09it/s]"
     ]
    },
    {
     "name": "stdout",
     "output_type": "stream",
     "text": [
      "Images for product '로얄캐닌_강아지사료_포메라니안_습식파우치_85g_X_12P' successfully processed.\n"
     ]
    },
    {
     "name": "stderr",
     "output_type": "stream",
     "text": [
      "Processing pages:  19%|█▉        | 4000/20713 [1:01:54<4:16:45,  1.08it/s]"
     ]
    },
    {
     "name": "stdout",
     "output_type": "stream",
     "text": [
      "Images for product '로얄캐닌_캣_인스팅티브_파우치_85g_체중유지_요로기계_고양이_습식_사료' successfully processed.\n"
     ]
    },
    {
     "name": "stderr",
     "output_type": "stream",
     "text": [
      "Processing pages:  19%|█▉        | 4008/20713 [1:02:01<3:51:41,  1.20it/s]"
     ]
    },
    {
     "name": "stdout",
     "output_type": "stream",
     "text": [
      "Images for product '도착보장_힐스_강아지사료_어덜트_라지브리드_6' successfully processed.\n"
     ]
    },
    {
     "name": "stderr",
     "output_type": "stream",
     "text": [
      "Processing pages:  19%|█▉        | 4009/20713 [1:02:02<3:46:54,  1.23it/s]"
     ]
    },
    {
     "name": "stdout",
     "output_type": "stream",
     "text": [
      "Images for product '오리젠_강아지_사료_오리지널_독_11' successfully processed.\n"
     ]
    },
    {
     "name": "stderr",
     "output_type": "stream",
     "text": [
      "Processing pages:  19%|█▉        | 4011/20713 [1:02:04<3:50:16,  1.21it/s]"
     ]
    },
    {
     "name": "stdout",
     "output_type": "stream",
     "text": [
      "Images for product '하이독_알러컷_캥거루_500g_하이포알러제닉_체중_조절_다이어트_캥거루_알러지사료' successfully processed.\n"
     ]
    },
    {
     "name": "stderr",
     "output_type": "stream",
     "text": [
      "Processing pages:  19%|█▉        | 4013/20713 [1:02:05<3:44:31,  1.24it/s]"
     ]
    },
    {
     "name": "stdout",
     "output_type": "stream",
     "text": [
      "Images for product '하이독_알러컷_캥거루_500g_하이포알러제닉_체중_조절_다이어트_캥거루_알러지사료' successfully processed.\n"
     ]
    },
    {
     "name": "stderr",
     "output_type": "stream",
     "text": [
      "Processing pages:  19%|█▉        | 4014/20713 [1:02:06<4:10:19,  1.11it/s]"
     ]
    },
    {
     "name": "stdout",
     "output_type": "stream",
     "text": [
      "Images for product '지그니쳐_그레인프리_강아지_눈물사료_화이트피쉬_포뮬라_1kg' successfully processed.\n",
      "Images for product '네츄럴랩_케어2_강아지_가수분해_사료_위장간_2kg_유기농_70' successfully processed.\n",
      "Images for product '네츄럴랩_케어2_강아지_가수분해_사료_위장간_2kg_유기농_70' successfully processed.\n"
     ]
    },
    {
     "name": "stderr",
     "output_type": "stream",
     "text": [
      "Processing pages:  19%|█▉        | 4015/20713 [1:02:07<4:05:09,  1.14it/s]"
     ]
    },
    {
     "name": "stdout",
     "output_type": "stream",
     "text": [
      "Images for product '지그니쳐_그레인프리_강아지_눈물사료_화이트피쉬_포뮬라_1kg' successfully processed.\n"
     ]
    },
    {
     "name": "stderr",
     "output_type": "stream",
     "text": [
      "Processing pages:  19%|█▉        | 4030/20713 [1:02:19<3:47:18,  1.22it/s]"
     ]
    },
    {
     "name": "stdout",
     "output_type": "stream",
     "text": [
      "Images for product '도착보장_힐스_강아지사료_어덜트_라지브리드_6' successfully processed.\n"
     ]
    },
    {
     "name": "stderr",
     "output_type": "stream",
     "text": [
      "Processing pages:  19%|█▉        | 4033/20713 [1:02:22<3:36:42,  1.28it/s]"
     ]
    },
    {
     "name": "stdout",
     "output_type": "stream",
     "text": [
      "Images for product '네츄럴랩_케어2_강아지_가수분해_사료_위장간_2kg_유기농_70' successfully processed.\n"
     ]
    },
    {
     "name": "stderr",
     "output_type": "stream",
     "text": [
      "Processing pages:  19%|█▉        | 4034/20713 [1:02:23<4:08:15,  1.12it/s]"
     ]
    },
    {
     "name": "stdout",
     "output_type": "stream",
     "text": [
      "Images for product '하이독_알러컷_캥거루_500g_하이포알러제닉_체중_조절_다이어트_캥거루_알러지사료' successfully processed.\n",
      "Images for product '오리젠_강아지_사료_오리지널_독_11' successfully processed.\n",
      "Images for product '로얄캐닌_캣_인스팅티브_파우치_85g_체중유지_요로기계_고양이_습식_사료' successfully processed.\n"
     ]
    },
    {
     "name": "stderr",
     "output_type": "stream",
     "text": [
      "Processing pages:  19%|█▉        | 4035/20713 [1:02:24<4:02:25,  1.15it/s]"
     ]
    },
    {
     "name": "stdout",
     "output_type": "stream",
     "text": [
      "Images for product '로얄캐닌_강아지사료_포메라니안_습식파우치_85g_X_12P' successfully processed.\n",
      "Images for product '지그니쳐_그레인프리_강아지_눈물사료_화이트피쉬_포뮬라_1kg' successfully processed.\n"
     ]
    },
    {
     "name": "stderr",
     "output_type": "stream",
     "text": [
      "Processing pages:  20%|█▉        | 4043/20713 [1:02:30<3:42:17,  1.25it/s]"
     ]
    },
    {
     "name": "stdout",
     "output_type": "stream",
     "text": [
      "Images for product '도착보장_힐스_강아지사료_어덜트_라지브리드_6' successfully processed.\n"
     ]
    },
    {
     "name": "stderr",
     "output_type": "stream",
     "text": [
      "Processing pages:  20%|█▉        | 4045/20713 [1:02:32<4:07:23,  1.12it/s]"
     ]
    },
    {
     "name": "stdout",
     "output_type": "stream",
     "text": [
      "Images for product '오리젠_강아지_사료_오리지널_독_11' successfully processed.\n",
      "Images for product '네츄럴랩_케어2_강아지_가수분해_사료_위장간_2kg_유기농_70' successfully processed.\n"
     ]
    },
    {
     "name": "stderr",
     "output_type": "stream",
     "text": [
      "Processing pages:  20%|█▉        | 4055/20713 [1:02:40<3:54:26,  1.18it/s]"
     ]
    },
    {
     "name": "stdout",
     "output_type": "stream",
     "text": [
      "Images for product '로얄캐닌_강아지사료_포메라니안_습식파우치_85g_X_12P' successfully processed.\n"
     ]
    },
    {
     "name": "stderr",
     "output_type": "stream",
     "text": [
      "Processing pages:  20%|█▉        | 4056/20713 [1:02:41<3:57:55,  1.17it/s]"
     ]
    },
    {
     "name": "stdout",
     "output_type": "stream",
     "text": [
      "Images for product '지그니쳐_그레인프리_강아지_눈물사료_화이트피쉬_포뮬라_1kg' successfully processed.\n"
     ]
    },
    {
     "name": "stderr",
     "output_type": "stream",
     "text": [
      "Processing pages:  20%|█▉        | 4060/20713 [1:02:44<4:13:02,  1.10it/s]"
     ]
    },
    {
     "name": "stdout",
     "output_type": "stream",
     "text": [
      "Images for product '로얄캐닌_캣_인스팅티브_파우치_85g_체중유지_요로기계_고양이_습식_사료' successfully processed.\n"
     ]
    },
    {
     "name": "stderr",
     "output_type": "stream",
     "text": [
      "Processing pages:  20%|█▉        | 4072/20713 [1:02:55<3:43:13,  1.24it/s]"
     ]
    },
    {
     "name": "stdout",
     "output_type": "stream",
     "text": [
      "Images for product '하이독_알러컷_캥거루_500g_하이포알러제닉_체중_조절_다이어트_캥거루_알러지사료' successfully processed.\n"
     ]
    },
    {
     "name": "stderr",
     "output_type": "stream",
     "text": [
      "Processing pages:  20%|█▉        | 4075/20713 [1:02:57<3:33:31,  1.30it/s]"
     ]
    },
    {
     "name": "stdout",
     "output_type": "stream",
     "text": [
      "Images for product '지그니쳐_그레인프리_강아지_눈물사료_화이트피쉬_포뮬라_1kg' successfully processed.\n"
     ]
    },
    {
     "name": "stderr",
     "output_type": "stream",
     "text": [
      "Processing pages:  20%|█▉        | 4078/20713 [1:03:00<4:10:07,  1.11it/s]"
     ]
    },
    {
     "name": "stdout",
     "output_type": "stream",
     "text": [
      "Images for product '네츄럴랩_케어2_강아지_가수분해_사료_위장간_2kg_유기농_70' successfully processed.\n",
      "Images for product '도착보장_힐스_강아지사료_어덜트_라지브리드_6' successfully processed.\n"
     ]
    },
    {
     "name": "stderr",
     "output_type": "stream",
     "text": [
      "Processing pages:  20%|█▉        | 4080/20713 [1:03:02<4:10:36,  1.11it/s]"
     ]
    },
    {
     "name": "stdout",
     "output_type": "stream",
     "text": [
      "Images for product '로얄캐닌_캣_인스팅티브_파우치_85g_체중유지_요로기계_고양이_습식_사료' successfully processed.\n",
      "Images for product '오리젠_강아지_사료_오리지널_독_11' successfully processed.\n"
     ]
    },
    {
     "name": "stderr",
     "output_type": "stream",
     "text": [
      "Processing pages:  20%|█▉        | 4082/20713 [1:03:03<3:52:23,  1.19it/s]"
     ]
    },
    {
     "name": "stdout",
     "output_type": "stream",
     "text": [
      "Images for product '도착보장_힐스_강아지사료_어덜트_라지브리드_6' successfully processed.\n"
     ]
    },
    {
     "name": "stderr",
     "output_type": "stream",
     "text": [
      "Processing pages:  20%|█▉        | 4083/20713 [1:03:04<3:47:05,  1.22it/s]"
     ]
    },
    {
     "name": "stdout",
     "output_type": "stream",
     "text": [
      "Images for product '오리젠_강아지_사료_오리지널_독_11' successfully processed.\n"
     ]
    },
    {
     "name": "stderr",
     "output_type": "stream",
     "text": [
      "Processing pages:  20%|█▉        | 4085/20713 [1:03:06<3:50:59,  1.20it/s]"
     ]
    },
    {
     "name": "stdout",
     "output_type": "stream",
     "text": [
      "Images for product '로얄캐닌_강아지사료_포메라니안_습식파우치_85g_X_12P' successfully processed.\n",
      "Images for product '로얄캐닌_캣_인스팅티브_파우치_85g_체중유지_요로기계_고양이_습식_사료' successfully processed.\n"
     ]
    },
    {
     "name": "stderr",
     "output_type": "stream",
     "text": [
      "Processing pages:  20%|█▉        | 4090/20713 [1:03:10<3:50:31,  1.20it/s]"
     ]
    },
    {
     "name": "stdout",
     "output_type": "stream",
     "text": [
      "Images for product '하이독_알러컷_캥거루_500g_하이포알러제닉_체중_조절_다이어트_캥거루_알러지사료' successfully processed.\n"
     ]
    },
    {
     "name": "stderr",
     "output_type": "stream",
     "text": [
      "Processing pages:  20%|█▉        | 4092/20713 [1:03:11<3:35:31,  1.29it/s]"
     ]
    },
    {
     "name": "stdout",
     "output_type": "stream",
     "text": [
      "Images for product '네츄럴랩_케어2_강아지_가수분해_사료_위장간_2kg_유기농_70' successfully processed.\n"
     ]
    },
    {
     "name": "stderr",
     "output_type": "stream",
     "text": [
      "Processing pages:  20%|█▉        | 4094/20713 [1:03:13<3:33:22,  1.30it/s]"
     ]
    },
    {
     "name": "stdout",
     "output_type": "stream",
     "text": [
      "Images for product '로얄캐닌_강아지사료_포메라니안_습식파우치_85g_X_12P' successfully processed.\n"
     ]
    },
    {
     "name": "stderr",
     "output_type": "stream",
     "text": [
      "Processing pages:  20%|█▉        | 4097/20713 [1:03:15<3:36:13,  1.28it/s]"
     ]
    },
    {
     "name": "stdout",
     "output_type": "stream",
     "text": [
      "Images for product '오리젠_강아지_사료_오리지널_독_11' successfully processed.\n"
     ]
    },
    {
     "name": "stderr",
     "output_type": "stream",
     "text": [
      "Processing pages:  20%|█▉        | 4098/20713 [1:03:16<3:51:05,  1.20it/s]"
     ]
    },
    {
     "name": "stdout",
     "output_type": "stream",
     "text": [
      "Images for product '로얄캐닌_강아지사료_포메라니안_습식파우치_85g_X_12P' successfully processed.\n"
     ]
    },
    {
     "name": "stderr",
     "output_type": "stream",
     "text": [
      "Processing pages:  20%|█▉        | 4099/20713 [1:03:17<3:50:40,  1.20it/s]"
     ]
    },
    {
     "name": "stdout",
     "output_type": "stream",
     "text": [
      "Images for product '지그니쳐_그레인프리_강아지_눈물사료_화이트피쉬_포뮬라_1kg' successfully processed.\n"
     ]
    },
    {
     "name": "stderr",
     "output_type": "stream",
     "text": [
      "Processing pages:  20%|█▉        | 4109/20713 [1:03:26<3:59:28,  1.16it/s]"
     ]
    },
    {
     "name": "stdout",
     "output_type": "stream",
     "text": [
      "Images for product '도착보장_힐스_강아지사료_어덜트_라지브리드_6' successfully processed.\n",
      "Images for product '네츄럴랩_케어2_강아지_가수분해_사료_위장간_2kg_유기농_70' successfully processed.\n"
     ]
    },
    {
     "name": "stderr",
     "output_type": "stream",
     "text": [
      "Processing pages:  20%|█▉        | 4110/20713 [1:03:27<4:27:56,  1.03it/s]"
     ]
    },
    {
     "name": "stdout",
     "output_type": "stream",
     "text": [
      "Images for product '로얄캐닌_캣_인스팅티브_파우치_85g_체중유지_요로기계_고양이_습식_사료' successfully processed.\n",
      "Images for product '오리젠_강아지_사료_오리지널_독_11' successfully processed.\n"
     ]
    },
    {
     "name": "stderr",
     "output_type": "stream",
     "text": [
      "Processing pages:  20%|█▉        | 4111/20713 [1:03:28<4:31:31,  1.02it/s]"
     ]
    },
    {
     "name": "stdout",
     "output_type": "stream",
     "text": [
      "Images for product '로얄캐닌_강아지사료_포메라니안_습식파우치_85g_X_12P' successfully processed.\n"
     ]
    },
    {
     "name": "stderr",
     "output_type": "stream",
     "text": [
      "Processing pages:  20%|█▉        | 4113/20713 [1:03:30<4:00:05,  1.15it/s]"
     ]
    },
    {
     "name": "stdout",
     "output_type": "stream",
     "text": [
      "Images for product '지그니쳐_그레인프리_강아지_눈물사료_화이트피쉬_포뮬라_1kg' successfully processed.\n"
     ]
    },
    {
     "name": "stderr",
     "output_type": "stream",
     "text": [
      "Processing pages:  20%|█▉        | 4117/20713 [1:03:33<4:06:10,  1.12it/s]"
     ]
    },
    {
     "name": "stdout",
     "output_type": "stream",
     "text": [
      "Images for product '하이독_알러컷_캥거루_500g_하이포알러제닉_체중_조절_다이어트_캥거루_알러지사료' successfully processed.\n",
      "Images for product '네츄럴랩_케어2_강아지_가수분해_사료_위장간_2kg_유기농_70' successfully processed.\n",
      "Images for product '도착보장_힐스_강아지사료_어덜트_라지브리드_6' successfully processed.\n"
     ]
    },
    {
     "name": "stderr",
     "output_type": "stream",
     "text": [
      "Processing pages:  20%|█▉        | 4129/20713 [1:03:45<4:04:38,  1.13it/s]"
     ]
    },
    {
     "name": "stdout",
     "output_type": "stream",
     "text": [
      "Images for product '오리젠_강아지_사료_오리지널_독_11' successfully processed.\n"
     ]
    },
    {
     "name": "stderr",
     "output_type": "stream",
     "text": [
      "Processing pages:  20%|█▉        | 4131/20713 [1:03:47<4:43:24,  1.03s/it]"
     ]
    },
    {
     "name": "stdout",
     "output_type": "stream",
     "text": [
      "Images for product '로얄캐닌_캣_인스팅티브_파우치_85g_체중유지_요로기계_고양이_습식_사료' successfully processed.\n",
      "Images for product '하이독_알러컷_캥거루_500g_하이포알러제닉_체중_조절_다이어트_캥거루_알러지사료' successfully processed.\n",
      "Images for product '도착보장_힐스_강아지사료_어덜트_라지브리드_6' successfully processed.\n"
     ]
    },
    {
     "name": "stderr",
     "output_type": "stream",
     "text": [
      "Processing pages:  20%|█▉        | 4136/20713 [1:03:53<4:48:27,  1.04s/it]"
     ]
    },
    {
     "name": "stdout",
     "output_type": "stream",
     "text": [
      "Images for product '로얄캐닌_강아지사료_포메라니안_습식파우치_85g_X_12P' successfully processed.\n"
     ]
    },
    {
     "name": "stderr",
     "output_type": "stream",
     "text": [
      "Processing pages:  20%|██        | 4144/20713 [1:03:59<3:50:31,  1.20it/s]"
     ]
    },
    {
     "name": "stdout",
     "output_type": "stream",
     "text": [
      "Images for product '오리젠_강아지_사료_오리지널_독_11' successfully processed.\n"
     ]
    },
    {
     "name": "stderr",
     "output_type": "stream",
     "text": [
      "Processing pages:  20%|██        | 4145/20713 [1:04:00<3:48:30,  1.21it/s]"
     ]
    },
    {
     "name": "stdout",
     "output_type": "stream",
     "text": [
      "Images for product '하이독_알러컷_캥거루_500g_하이포알러제닉_체중_조절_다이어트_캥거루_알러지사료' successfully processed.\n"
     ]
    },
    {
     "name": "stderr",
     "output_type": "stream",
     "text": [
      "Processing pages:  20%|██        | 4146/20713 [1:04:01<3:40:38,  1.25it/s]"
     ]
    },
    {
     "name": "stdout",
     "output_type": "stream",
     "text": [
      "Images for product '로얄캐닌_캣_인스팅티브_파우치_85g_체중유지_요로기계_고양이_습식_사료' successfully processed.\n",
      "Images for product '지그니쳐_그레인프리_강아지_눈물사료_화이트피쉬_포뮬라_1kg' successfully processed.\n",
      "Images for product '도착보장_힐스_강아지사료_어덜트_라지브리드_6' successfully processed.\n",
      "Images for product '지그니쳐_그레인프리_강아지_눈물사료_화이트피쉬_포뮬라_1kg' successfully processed.\n"
     ]
    },
    {
     "name": "stderr",
     "output_type": "stream",
     "text": [
      "Processing pages:  20%|██        | 4154/20713 [1:04:08<4:25:56,  1.04it/s]"
     ]
    },
    {
     "name": "stdout",
     "output_type": "stream",
     "text": [
      "Images for product '네츄럴랩_케어2_강아지_가수분해_사료_위장간_2kg_유기농_70' successfully processed.\n"
     ]
    },
    {
     "name": "stderr",
     "output_type": "stream",
     "text": [
      "Processing pages:  20%|██        | 4159/20713 [1:04:13<4:07:01,  1.12it/s]"
     ]
    },
    {
     "name": "stdout",
     "output_type": "stream",
     "text": [
      "Images for product '도착보장_힐스_강아지사료_어덜트_라지브리드_6' successfully processed.\n"
     ]
    },
    {
     "name": "stderr",
     "output_type": "stream",
     "text": [
      "Processing pages:  20%|██        | 4163/20713 [1:04:16<4:09:02,  1.11it/s]"
     ]
    },
    {
     "name": "stdout",
     "output_type": "stream",
     "text": [
      "Images for product '로얄캐닌_캣_인스팅티브_파우치_85g_체중유지_요로기계_고양이_습식_사료' successfully processed.\n",
      "Images for product '오리젠_강아지_사료_오리지널_독_11' successfully processed.\n",
      "Images for product '하이독_알러컷_캥거루_500g_하이포알러제닉_체중_조절_다이어트_캥거루_알러지사료' successfully processed.\n",
      "Images for product '지그니쳐_그레인프리_강아지_눈물사료_화이트피쉬_포뮬라_1kg' successfully processed.\n"
     ]
    },
    {
     "name": "stderr",
     "output_type": "stream",
     "text": [
      "Processing pages:  20%|██        | 4174/20713 [1:04:26<4:14:13,  1.08it/s]"
     ]
    },
    {
     "name": "stdout",
     "output_type": "stream",
     "text": [
      "Images for product '네츄럴랩_케어2_강아지_가수분해_사료_위장간_2kg_유기농_70' successfully processed.\n"
     ]
    },
    {
     "name": "stderr",
     "output_type": "stream",
     "text": [
      "Processing pages:  20%|██        | 4178/20713 [1:04:29<3:59:05,  1.15it/s]"
     ]
    },
    {
     "name": "stdout",
     "output_type": "stream",
     "text": [
      "Images for product '오리젠_강아지_사료_오리지널_독_11' successfully processed.\n"
     ]
    },
    {
     "name": "stderr",
     "output_type": "stream",
     "text": [
      "Processing pages:  20%|██        | 4181/20713 [1:04:33<4:26:42,  1.03it/s]"
     ]
    },
    {
     "name": "stdout",
     "output_type": "stream",
     "text": [
      "Images for product '로얄캐닌_캣_인스팅티브_파우치_85g_체중유지_요로기계_고양이_습식_사료' successfully processed.\n"
     ]
    },
    {
     "name": "stderr",
     "output_type": "stream",
     "text": [
      "Processing pages:  20%|██        | 4185/20713 [1:04:37<5:35:30,  1.22s/it]"
     ]
    },
    {
     "name": "stdout",
     "output_type": "stream",
     "text": [
      "Images for product '로얄캐닌_강아지사료_포메라니안_습식파우치_85g_X_12P' successfully processed.\n"
     ]
    },
    {
     "name": "stderr",
     "output_type": "stream",
     "text": [
      "Processing pages:  20%|██        | 4187/20713 [1:04:39<4:45:14,  1.04s/it]"
     ]
    },
    {
     "name": "stdout",
     "output_type": "stream",
     "text": [
      "Images for product '네츄럴랩_케어2_강아지_가수분해_사료_위장간_2kg_유기농_70' successfully processed.\n"
     ]
    },
    {
     "name": "stderr",
     "output_type": "stream",
     "text": [
      "Processing pages:  20%|██        | 4192/20713 [1:04:43<3:57:31,  1.16it/s]"
     ]
    },
    {
     "name": "stdout",
     "output_type": "stream",
     "text": [
      "Images for product '로얄캐닌_강아지사료_포메라니안_습식파우치_85g_X_12P' successfully processed.\n"
     ]
    },
    {
     "name": "stderr",
     "output_type": "stream",
     "text": [
      "Processing pages:  20%|██        | 4196/20713 [1:04:46<3:45:31,  1.22it/s]"
     ]
    },
    {
     "name": "stdout",
     "output_type": "stream",
     "text": [
      "Images for product '하이독_알러컷_캥거루_500g_하이포알러제닉_체중_조절_다이어트_캥거루_알러지사료' successfully processed.\n"
     ]
    },
    {
     "name": "stderr",
     "output_type": "stream",
     "text": [
      "Processing pages:  20%|██        | 4197/20713 [1:04:47<3:41:43,  1.24it/s]"
     ]
    },
    {
     "name": "stdout",
     "output_type": "stream",
     "text": [
      "Images for product '네츄럴랩_케어2_강아지_가수분해_사료_위장간_2kg_유기농_70' successfully processed.\n",
      "Images for product '도착보장_힐스_강아지사료_어덜트_라지브리드_6' successfully processed.\n"
     ]
    },
    {
     "name": "stderr",
     "output_type": "stream",
     "text": [
      "Processing pages:  20%|██        | 4200/20713 [1:04:50<3:52:55,  1.18it/s]"
     ]
    },
    {
     "name": "stdout",
     "output_type": "stream",
     "text": [
      "Images for product '지그니쳐_그레인프리_강아지_눈물사료_화이트피쉬_포뮬라_1kg' successfully processed.\n"
     ]
    },
    {
     "name": "stderr",
     "output_type": "stream",
     "text": [
      "Processing pages:  20%|██        | 4201/20713 [1:04:50<3:50:26,  1.19it/s]"
     ]
    },
    {
     "name": "stdout",
     "output_type": "stream",
     "text": [
      "Images for product '지그니쳐_그레인프리_강아지_눈물사료_화이트피쉬_포뮬라_1kg' successfully processed.\n"
     ]
    },
    {
     "name": "stderr",
     "output_type": "stream",
     "text": [
      "Processing pages:  20%|██        | 4202/20713 [1:04:51<3:42:47,  1.24it/s]"
     ]
    },
    {
     "name": "stdout",
     "output_type": "stream",
     "text": [
      "Images for product '하이독_알러컷_캥거루_500g_하이포알러제닉_체중_조절_다이어트_캥거루_알러지사료' successfully processed.\n",
      "Images for product '로얄캐닌_강아지사료_포메라니안_습식파우치_85g_X_12P' successfully processed.\n"
     ]
    },
    {
     "name": "stderr",
     "output_type": "stream",
     "text": [
      "Processing pages:  20%|██        | 4203/20713 [1:04:52<3:56:11,  1.16it/s]"
     ]
    },
    {
     "name": "stdout",
     "output_type": "stream",
     "text": [
      "Images for product '도착보장_힐스_강아지사료_어덜트_라지브리드_6' successfully processed.\n"
     ]
    },
    {
     "name": "stderr",
     "output_type": "stream",
     "text": [
      "Processing pages:  20%|██        | 4206/20713 [1:04:54<3:43:09,  1.23it/s]"
     ]
    },
    {
     "name": "stdout",
     "output_type": "stream",
     "text": [
      "Images for product '오리젠_강아지_사료_오리지널_독_11' successfully processed.\n"
     ]
    },
    {
     "name": "stderr",
     "output_type": "stream",
     "text": [
      "Processing pages:  20%|██        | 4208/20713 [1:04:56<3:31:02,  1.30it/s]"
     ]
    },
    {
     "name": "stdout",
     "output_type": "stream",
     "text": [
      "Images for product '로얄캐닌_캣_인스팅티브_파우치_85g_체중유지_요로기계_고양이_습식_사료' successfully processed.\n"
     ]
    },
    {
     "name": "stderr",
     "output_type": "stream",
     "text": [
      "Processing pages:  20%|██        | 4214/20713 [1:05:01<3:51:26,  1.19it/s]"
     ]
    },
    {
     "name": "stdout",
     "output_type": "stream",
     "text": [
      "Images for product '네츄럴랩_케어2_강아지_가수분해_사료_위장간_2kg_유기농_70' successfully processed.\n"
     ]
    },
    {
     "name": "stderr",
     "output_type": "stream",
     "text": [
      "Processing pages:  20%|██        | 4223/20713 [1:05:09<3:54:19,  1.17it/s]"
     ]
    },
    {
     "name": "stdout",
     "output_type": "stream",
     "text": [
      "Images for product '하이독_알러컷_캥거루_500g_하이포알러제닉_체중_조절_다이어트_캥거루_알러지사료' successfully processed.\n"
     ]
    },
    {
     "name": "stderr",
     "output_type": "stream",
     "text": [
      "Processing pages:  20%|██        | 4228/20713 [1:05:13<3:50:36,  1.19it/s]"
     ]
    },
    {
     "name": "stdout",
     "output_type": "stream",
     "text": [
      "Images for product '로얄캐닌_강아지사료_포메라니안_습식파우치_85g_X_12P' successfully processed.\n",
      "Images for product '네츄럴랩_케어2_강아지_가수분해_사료_위장간_2kg_유기농_70' successfully processed.\n"
     ]
    },
    {
     "name": "stderr",
     "output_type": "stream",
     "text": [
      "Processing pages:  20%|██        | 4238/20713 [1:05:23<4:17:48,  1.07it/s]"
     ]
    },
    {
     "name": "stdout",
     "output_type": "stream",
     "text": [
      "Images for product '도착보장_힐스_강아지사료_어덜트_라지브리드_6' successfully processed.\n"
     ]
    },
    {
     "name": "stderr",
     "output_type": "stream",
     "text": [
      "Processing pages:  20%|██        | 4239/20713 [1:05:23<4:13:22,  1.08it/s]"
     ]
    },
    {
     "name": "stdout",
     "output_type": "stream",
     "text": [
      "Images for product '오리젠_강아지_사료_오리지널_독_11' successfully processed.\n",
      "Images for product '지그니쳐_그레인프리_강아지_눈물사료_화이트피쉬_포뮬라_1kg' successfully processed.\n"
     ]
    },
    {
     "name": "stderr",
     "output_type": "stream",
     "text": [
      "Processing pages:  20%|██        | 4240/20713 [1:05:24<4:08:46,  1.10it/s]"
     ]
    },
    {
     "name": "stdout",
     "output_type": "stream",
     "text": [
      "Images for product '로얄캐닌_캣_인스팅티브_파우치_85g_체중유지_요로기계_고양이_습식_사료' successfully processed.\n"
     ]
    },
    {
     "name": "stderr",
     "output_type": "stream",
     "text": [
      "Processing pages:  20%|██        | 4241/20713 [1:05:25<4:14:43,  1.08it/s]"
     ]
    },
    {
     "name": "stdout",
     "output_type": "stream",
     "text": [
      "Images for product '네츄럴랩_케어2_강아지_가수분해_사료_위장간_2kg_유기농_70' successfully processed.\n",
      "Images for product '오리젠_강아지_사료_오리지널_독_11' successfully processed.\n"
     ]
    },
    {
     "name": "stderr",
     "output_type": "stream",
     "text": [
      "Processing pages:  20%|██        | 4243/20713 [1:05:27<3:54:18,  1.17it/s]"
     ]
    },
    {
     "name": "stdout",
     "output_type": "stream",
     "text": [
      "Images for product '로얄캐닌_캣_인스팅티브_파우치_85g_체중유지_요로기계_고양이_습식_사료' successfully processed.\n"
     ]
    },
    {
     "name": "stderr",
     "output_type": "stream",
     "text": [
      "Processing pages:  20%|██        | 4244/20713 [1:05:28<3:48:29,  1.20it/s]"
     ]
    },
    {
     "name": "stdout",
     "output_type": "stream",
     "text": [
      "Images for product '로얄캐닌_강아지사료_포메라니안_습식파우치_85g_X_12P' successfully processed.\n",
      "Images for product '도착보장_힐스_강아지사료_어덜트_라지브리드_6' successfully processed.\n"
     ]
    },
    {
     "name": "stderr",
     "output_type": "stream",
     "text": [
      "Processing pages:  21%|██        | 4254/20713 [1:05:36<3:47:55,  1.20it/s]"
     ]
    },
    {
     "name": "stdout",
     "output_type": "stream",
     "text": [
      "Images for product '하이독_알러컷_캥거루_500g_하이포알러제닉_체중_조절_다이어트_캥거루_알러지사료' successfully processed.\n"
     ]
    },
    {
     "name": "stderr",
     "output_type": "stream",
     "text": [
      "Processing pages:  21%|██        | 4262/20713 [1:05:43<3:48:18,  1.20it/s]"
     ]
    },
    {
     "name": "stdout",
     "output_type": "stream",
     "text": [
      "Images for product '지그니쳐_그레인프리_강아지_눈물사료_화이트피쉬_포뮬라_1kg' successfully processed.\n",
      "Images for product '하이독_알러컷_캥거루_500g_하이포알러제닉_체중_조절_다이어트_캥거루_알러지사료' successfully processed.\n"
     ]
    },
    {
     "name": "stderr",
     "output_type": "stream",
     "text": [
      "Processing pages:  21%|██        | 4268/20713 [1:05:48<4:31:57,  1.01it/s]"
     ]
    },
    {
     "name": "stdout",
     "output_type": "stream",
     "text": [
      "Images for product '로얄캐닌_캣_인스팅티브_파우치_85g_체중유지_요로기계_고양이_습식_사료' successfully processed.\n"
     ]
    },
    {
     "name": "stderr",
     "output_type": "stream",
     "text": [
      "Processing pages:  21%|██        | 4279/20713 [1:05:58<3:59:44,  1.14it/s]"
     ]
    },
    {
     "name": "stdout",
     "output_type": "stream",
     "text": [
      "Images for product '도착보장_힐스_강아지사료_어덜트_라지브리드_6' successfully processed.\n"
     ]
    },
    {
     "name": "stderr",
     "output_type": "stream",
     "text": [
      "Processing pages:  21%|██        | 4281/20713 [1:06:00<4:01:00,  1.14it/s]"
     ]
    },
    {
     "name": "stdout",
     "output_type": "stream",
     "text": [
      "Images for product '하이독_알러컷_캥거루_500g_하이포알러제닉_체중_조절_다이어트_캥거루_알러지사료' successfully processed.\n",
      "Images for product '로얄캐닌_캣_인스팅티브_파우치_85g_체중유지_요로기계_고양이_습식_사료' successfully processed.\n"
     ]
    },
    {
     "name": "stderr",
     "output_type": "stream",
     "text": [
      "Processing pages:  21%|██        | 4283/20713 [1:06:02<4:17:08,  1.06it/s]"
     ]
    },
    {
     "name": "stdout",
     "output_type": "stream",
     "text": [
      "Images for product '오리젠_강아지_사료_오리지널_독_11' successfully processed.\n",
      "Images for product '도착보장_힐스_강아지사료_어덜트_라지브리드_6' successfully processed.\n"
     ]
    },
    {
     "name": "stderr",
     "output_type": "stream",
     "text": [
      "Processing pages:  21%|██        | 4284/20713 [1:06:03<4:13:07,  1.08it/s]"
     ]
    },
    {
     "name": "stdout",
     "output_type": "stream",
     "text": [
      "Images for product '네츄럴랩_케어2_강아지_가수분해_사료_위장간_2kg_유기농_70' successfully processed.\n",
      "Images for product '오리젠_강아지_사료_오리지널_독_11' successfully processed.\n"
     ]
    },
    {
     "name": "stderr",
     "output_type": "stream",
     "text": [
      "Processing pages:  21%|██        | 4293/20713 [1:06:10<3:36:51,  1.26it/s]"
     ]
    },
    {
     "name": "stdout",
     "output_type": "stream",
     "text": [
      "Images for product '로얄캐닌_강아지사료_포메라니안_습식파우치_85g_X_12P' successfully processed.\n",
      "Images for product '지그니쳐_그레인프리_강아지_눈물사료_화이트피쉬_포뮬라_1kg' successfully processed.\n"
     ]
    },
    {
     "name": "stderr",
     "output_type": "stream",
     "text": [
      "Processing pages:  21%|██        | 4294/20713 [1:06:11<3:41:09,  1.24it/s]"
     ]
    },
    {
     "name": "stdout",
     "output_type": "stream",
     "text": [
      "Images for product '로얄캐닌_캣_인스팅티브_파우치_85g_체중유지_요로기계_고양이_습식_사료' successfully processed.\n"
     ]
    },
    {
     "name": "stderr",
     "output_type": "stream",
     "text": [
      "Processing pages:  21%|██        | 4298/20713 [1:06:14<3:32:25,  1.29it/s]"
     ]
    },
    {
     "name": "stdout",
     "output_type": "stream",
     "text": [
      "Images for product '로얄캐닌_강아지사료_포메라니안_습식파우치_85g_X_12P' successfully processed.\n"
     ]
    },
    {
     "name": "stderr",
     "output_type": "stream",
     "text": [
      "Processing pages:  21%|██        | 4300/20713 [1:06:16<3:39:43,  1.24it/s]"
     ]
    },
    {
     "name": "stdout",
     "output_type": "stream",
     "text": [
      "Images for product '지그니쳐_그레인프리_강아지_눈물사료_화이트피쉬_포뮬라_1kg' successfully processed.\n"
     ]
    },
    {
     "name": "stderr",
     "output_type": "stream",
     "text": [
      "Processing pages:  21%|██        | 4307/20713 [1:06:22<3:49:40,  1.19it/s]"
     ]
    },
    {
     "name": "stdout",
     "output_type": "stream",
     "text": [
      "Images for product '네츄럴랩_케어2_강아지_가수분해_사료_위장간_2kg_유기농_70' successfully processed.\n",
      "Images for product '도착보장_힐스_강아지사료_어덜트_라지브리드_6' successfully processed.\n"
     ]
    },
    {
     "name": "stderr",
     "output_type": "stream",
     "text": [
      "Processing pages:  21%|██        | 4326/20713 [1:06:39<3:36:52,  1.26it/s]"
     ]
    },
    {
     "name": "stdout",
     "output_type": "stream",
     "text": [
      "Images for product '하이독_알러컷_캥거루_500g_하이포알러제닉_체중_조절_다이어트_캥거루_알러지사료' successfully processed.\n"
     ]
    },
    {
     "name": "stderr",
     "output_type": "stream",
     "text": [
      "Processing pages:  21%|██        | 4327/20713 [1:07:50<99:01:14, 21.75s/it]"
     ]
    },
    {
     "name": "stdout",
     "output_type": "stream",
     "text": [
      "Images for product '하이독_알러컷_캥거루_500g_하이포알러제닉_체중_조절_다이어트_캥거루_알러지사료' successfully processed.\n"
     ]
    },
    {
     "name": "stderr",
     "output_type": "stream",
     "text": [
      "Processing pages:  21%|██        | 4328/20713 [1:07:52<72:55:01, 16.02s/it]"
     ]
    },
    {
     "name": "stdout",
     "output_type": "stream",
     "text": [
      "Images for product '네츄럴랩_케어2_강아지_가수분해_사료_위장간_2kg_유기농_70' successfully processed.\n"
     ]
    },
    {
     "name": "stderr",
     "output_type": "stream",
     "text": [
      "Processing pages:  21%|██        | 4330/20713 [1:07:54<37:35:54,  8.26s/it]"
     ]
    },
    {
     "name": "stdout",
     "output_type": "stream",
     "text": [
      "Images for product '로얄캐닌_캣_인스팅티브_파우치_85g_체중유지_요로기계_고양이_습식_사료' successfully processed.\n",
      "Images for product '도착보장_힐스_강아지사료_어덜트_라지브리드_6' successfully processed.\n",
      "Images for product '오리젠_강아지_사료_오리지널_독_11' successfully processed.\n",
      "Images for product '로얄캐닌_강아지사료_포메라니안_습식파우치_85g_X_12P' successfully processed.\n",
      "Images for product '지그니쳐_그레인프리_강아지_눈물사료_화이트피쉬_포뮬라_1kg' successfully processed.\n",
      "Images for product '로얄캐닌_강아지사료_포메라니안_습식파우치_85g_X_12P' successfully processed.\n"
     ]
    },
    {
     "name": "stderr",
     "output_type": "stream",
     "text": [
      "Processing pages:  21%|██        | 4334/20713 [1:07:57<11:56:49,  2.63s/it]"
     ]
    },
    {
     "name": "stdout",
     "output_type": "stream",
     "text": [
      "Images for product '로얄캐닌_캣_인스팅티브_파우치_85g_체중유지_요로기계_고양이_습식_사료' successfully processed.\n"
     ]
    },
    {
     "name": "stderr",
     "output_type": "stream",
     "text": [
      "Processing pages:  21%|██        | 4335/20713 [1:07:59<10:07:55,  2.23s/it]"
     ]
    },
    {
     "name": "stdout",
     "output_type": "stream",
     "text": [
      "Images for product '오리젠_강아지_사료_오리지널_독_11' successfully processed.\n",
      "Images for product '하이독_알러컷_캥거루_500g_하이포알러제닉_체중_조절_다이어트_캥거루_알러지사료' successfully processed.\n",
      "Images for product '지그니쳐_그레인프리_강아지_눈물사료_화이트피쉬_포뮬라_1kg' successfully processed.\n"
     ]
    },
    {
     "name": "stderr",
     "output_type": "stream",
     "text": [
      "Processing pages:  21%|██        | 4345/20713 [1:08:09<5:41:14,  1.25s/it] "
     ]
    },
    {
     "name": "stdout",
     "output_type": "stream",
     "text": [
      "Images for product '도착보장_힐스_강아지사료_어덜트_라지브리드_6' successfully processed.\n"
     ]
    },
    {
     "name": "stderr",
     "output_type": "stream",
     "text": [
      "Processing pages:  21%|██        | 4348/20713 [1:08:12<4:21:52,  1.04it/s]"
     ]
    },
    {
     "name": "stdout",
     "output_type": "stream",
     "text": [
      "Images for product '오리젠_강아지_사료_오리지널_독_11' successfully processed.\n"
     ]
    },
    {
     "name": "stderr",
     "output_type": "stream",
     "text": [
      "Processing pages:  21%|██        | 4349/20713 [1:08:13<4:26:47,  1.02it/s]"
     ]
    },
    {
     "name": "stdout",
     "output_type": "stream",
     "text": [
      "Images for product '네츄럴랩_케어2_강아지_가수분해_사료_위장간_2kg_유기농_70' successfully processed.\n",
      "Images for product '네츄럴랩_케어2_강아지_가수분해_사료_위장간_2kg_유기농_70' successfully processed.\n"
     ]
    },
    {
     "name": "stderr",
     "output_type": "stream",
     "text": [
      "Processing pages:  21%|██        | 4352/20713 [1:08:15<3:57:25,  1.15it/s]"
     ]
    },
    {
     "name": "stdout",
     "output_type": "stream",
     "text": [
      "Images for product '로얄캐닌_강아지사료_포메라니안_습식파우치_85g_X_12P' successfully processed.\n"
     ]
    },
    {
     "name": "stderr",
     "output_type": "stream",
     "text": [
      "Processing pages:  21%|██        | 4364/20713 [1:08:28<5:05:18,  1.12s/it]"
     ]
    },
    {
     "name": "stdout",
     "output_type": "stream",
     "text": [
      "Images for product '로얄캐닌_강아지사료_포메라니안_습식파우치_85g_X_12P' successfully processed.\n"
     ]
    },
    {
     "name": "stderr",
     "output_type": "stream",
     "text": [
      "Processing pages:  21%|██        | 4368/20713 [1:08:31<3:57:27,  1.15it/s]"
     ]
    },
    {
     "name": "stdout",
     "output_type": "stream",
     "text": [
      "Images for product '로얄캐닌_캣_인스팅티브_파우치_85g_체중유지_요로기계_고양이_습식_사료' successfully processed.\n",
      "Images for product '하이독_알러컷_캥거루_500g_하이포알러제닉_체중_조절_다이어트_캥거루_알러지사료' successfully processed.\n"
     ]
    },
    {
     "name": "stderr",
     "output_type": "stream",
     "text": [
      "Processing pages:  21%|██        | 4369/20713 [1:08:32<3:56:02,  1.15it/s]"
     ]
    },
    {
     "name": "stdout",
     "output_type": "stream",
     "text": [
      "Images for product '지그니쳐_그레인프리_강아지_눈물사료_화이트피쉬_포뮬라_1kg' successfully processed.\n"
     ]
    },
    {
     "name": "stderr",
     "output_type": "stream",
     "text": [
      "Processing pages:  21%|██        | 4371/20713 [1:08:34<3:47:51,  1.20it/s]"
     ]
    },
    {
     "name": "stdout",
     "output_type": "stream",
     "text": [
      "Images for product '네츄럴랩_케어2_강아지_가수분해_사료_위장간_2kg_유기농_70' successfully processed.\n"
     ]
    },
    {
     "name": "stderr",
     "output_type": "stream",
     "text": [
      "Processing pages:  21%|██        | 4372/20713 [1:08:35<4:06:56,  1.10it/s]"
     ]
    },
    {
     "name": "stdout",
     "output_type": "stream",
     "text": [
      "Images for product '도착보장_힐스_강아지사료_어덜트_라지브리드_6' successfully processed.\n"
     ]
    },
    {
     "name": "stderr",
     "output_type": "stream",
     "text": [
      "Processing pages:  21%|██        | 4375/20713 [1:08:38<4:25:57,  1.02it/s]"
     ]
    },
    {
     "name": "stdout",
     "output_type": "stream",
     "text": [
      "Images for product '지그니쳐_그레인프리_강아지_눈물사료_화이트피쉬_포뮬라_1kg' successfully processed.\n"
     ]
    },
    {
     "name": "stderr",
     "output_type": "stream",
     "text": [
      "Processing pages:  21%|██        | 4381/20713 [1:08:43<3:46:26,  1.20it/s]"
     ]
    },
    {
     "name": "stdout",
     "output_type": "stream",
     "text": [
      "Images for product '네츄럴랩_케어2_강아지_가수분해_사료_위장간_2kg_유기농_70' successfully processed.\n"
     ]
    },
    {
     "name": "stderr",
     "output_type": "stream",
     "text": [
      "Processing pages:  21%|██        | 4383/20713 [1:08:45<4:16:26,  1.06it/s]"
     ]
    },
    {
     "name": "stdout",
     "output_type": "stream",
     "text": [
      "Images for product '오리젠_강아지_사료_오리지널_독_11' successfully processed.\n",
      "Images for product '도착보장_힐스_강아지사료_어덜트_라지브리드_6' successfully processed.\n"
     ]
    },
    {
     "name": "stderr",
     "output_type": "stream",
     "text": [
      "Processing pages:  21%|██        | 4384/20713 [1:08:46<4:19:47,  1.05it/s]"
     ]
    },
    {
     "name": "stdout",
     "output_type": "stream",
     "text": [
      "Images for product '로얄캐닌_강아지사료_포메라니안_습식파우치_85g_X_12P' successfully processed.\n"
     ]
    },
    {
     "name": "stderr",
     "output_type": "stream",
     "text": [
      "Processing pages:  21%|██▏       | 4403/20713 [1:09:04<5:12:10,  1.15s/it]"
     ]
    },
    {
     "name": "stdout",
     "output_type": "stream",
     "text": [
      "Images for product '로얄캐닌_캣_인스팅티브_파우치_85g_체중유지_요로기계_고양이_습식_사료' successfully processed.\n",
      "Images for product '로얄캐닌_캣_인스팅티브_파우치_85g_체중유지_요로기계_고양이_습식_사료' successfully processed.\n",
      "Images for product '하이독_알러컷_캥거루_500g_하이포알러제닉_체중_조절_다이어트_캥거루_알러지사료' successfully processed.\n",
      "Images for product '하이독_알러컷_캥거루_500g_하이포알러제닉_체중_조절_다이어트_캥거루_알러지사료' successfully processed.\n",
      "Images for product '오리젠_강아지_사료_오리지널_독_11' successfully processed.\n"
     ]
    },
    {
     "name": "stderr",
     "output_type": "stream",
     "text": [
      "Processing pages:  21%|██▏       | 4404/20713 [1:09:05<4:40:07,  1.03s/it]"
     ]
    },
    {
     "name": "stdout",
     "output_type": "stream",
     "text": [
      "Images for product '지그니쳐_그레인프리_강아지_눈물사료_화이트피쉬_포뮬라_1kg' successfully processed.\n"
     ]
    },
    {
     "name": "stderr",
     "output_type": "stream",
     "text": [
      "Processing pages:  21%|██▏       | 4405/20713 [1:09:06<4:26:40,  1.02it/s]"
     ]
    },
    {
     "name": "stdout",
     "output_type": "stream",
     "text": [
      "Images for product '로얄캐닌_강아지사료_포메라니안_습식파우치_85g_X_12P' successfully processed.\n",
      "Images for product '도착보장_힐스_강아지사료_어덜트_라지브리드_6' successfully processed.\n",
      "Images for product '지그니쳐_그레인프리_강아지_눈물사료_화이트피쉬_포뮬라_1kg' successfully processed.\n"
     ]
    },
    {
     "name": "stderr",
     "output_type": "stream",
     "text": [
      "Processing pages:  21%|██▏       | 4411/20713 [1:09:11<4:14:31,  1.07it/s]"
     ]
    },
    {
     "name": "stdout",
     "output_type": "stream",
     "text": [
      "Images for product '오리젠_강아지_사료_오리지널_독_11' successfully processed.\n",
      "Images for product '네츄럴랩_케어2_강아지_가수분해_사료_위장간_2kg_유기농_70' successfully processed.\n"
     ]
    },
    {
     "name": "stderr",
     "output_type": "stream",
     "text": [
      "Processing pages:  21%|██▏       | 4412/20713 [1:09:12<4:09:06,  1.09it/s]"
     ]
    },
    {
     "name": "stdout",
     "output_type": "stream",
     "text": [
      "Images for product '로얄캐닌_강아지사료_포메라니안_습식파우치_85g_X_12P' successfully processed.\n"
     ]
    },
    {
     "name": "stderr",
     "output_type": "stream",
     "text": [
      "Processing pages:  21%|██▏       | 4416/20713 [1:09:15<3:57:12,  1.15it/s]"
     ]
    },
    {
     "name": "stdout",
     "output_type": "stream",
     "text": [
      "Images for product '도착보장_힐스_강아지사료_어덜트_라지브리드_6' successfully processed.\n"
     ]
    },
    {
     "name": "stderr",
     "output_type": "stream",
     "text": [
      "Processing pages:  21%|██▏       | 4418/20713 [1:09:17<3:47:03,  1.20it/s]"
     ]
    },
    {
     "name": "stdout",
     "output_type": "stream",
     "text": [
      "Images for product '로얄캐닌_캣_인스팅티브_파우치_85g_체중유지_요로기계_고양이_습식_사료' successfully processed.\n"
     ]
    },
    {
     "name": "stderr",
     "output_type": "stream",
     "text": [
      "Processing pages:  21%|██▏       | 4421/20713 [1:09:19<3:40:22,  1.23it/s]"
     ]
    },
    {
     "name": "stdout",
     "output_type": "stream",
     "text": [
      "Images for product '하이독_알러컷_캥거루_500g_하이포알러제닉_체중_조절_다이어트_캥거루_알러지사료' successfully processed.\n"
     ]
    },
    {
     "name": "stderr",
     "output_type": "stream",
     "text": [
      "Processing pages:  21%|██▏       | 4430/20713 [1:09:27<4:05:16,  1.11it/s]"
     ]
    },
    {
     "name": "stdout",
     "output_type": "stream",
     "text": [
      "Images for product '로얄캐닌_캣_인스팅티브_파우치_85g_체중유지_요로기계_고양이_습식_사료' successfully processed.\n",
      "Images for product '네츄럴랩_케어2_강아지_가수분해_사료_위장간_2kg_유기농_70' successfully processed.\n",
      "Images for product '도착보장_힐스_강아지사료_어덜트_라지브리드_6' successfully processed.\n"
     ]
    },
    {
     "name": "stderr",
     "output_type": "stream",
     "text": [
      "Processing pages:  21%|██▏       | 4431/20713 [1:09:28<4:01:54,  1.12it/s]"
     ]
    },
    {
     "name": "stdout",
     "output_type": "stream",
     "text": [
      "Images for product '지그니쳐_그레인프리_강아지_눈물사료_화이트피쉬_포뮬라_1kg' successfully processed.\n"
     ]
    },
    {
     "name": "stderr",
     "output_type": "stream",
     "text": [
      "Processing pages:  21%|██▏       | 4433/20713 [1:09:30<3:48:33,  1.19it/s]"
     ]
    },
    {
     "name": "stdout",
     "output_type": "stream",
     "text": [
      "Images for product '오리젠_강아지_사료_오리지널_독_11' successfully processed.\n"
     ]
    },
    {
     "name": "stderr",
     "output_type": "stream",
     "text": [
      "Processing pages:  21%|██▏       | 4437/20713 [1:09:33<3:43:36,  1.21it/s]"
     ]
    },
    {
     "name": "stdout",
     "output_type": "stream",
     "text": [
      "Images for product '하이독_알러컷_캥거루_500g_하이포알러제닉_체중_조절_다이어트_캥거루_알러지사료' successfully processed.\n",
      "Images for product '지그니쳐_그레인프리_강아지_눈물사료_화이트피쉬_포뮬라_1kg' successfully processed.\n"
     ]
    },
    {
     "name": "stderr",
     "output_type": "stream",
     "text": [
      "Processing pages:  21%|██▏       | 4438/20713 [1:09:34<3:54:33,  1.16it/s]"
     ]
    },
    {
     "name": "stdout",
     "output_type": "stream",
     "text": [
      "Images for product '네츄럴랩_케어2_강아지_가수분해_사료_위장간_2kg_유기농_70' successfully processed.\n"
     ]
    },
    {
     "name": "stderr",
     "output_type": "stream",
     "text": [
      "Processing pages:  21%|██▏       | 4439/20713 [1:09:34<3:46:06,  1.20it/s]"
     ]
    },
    {
     "name": "stdout",
     "output_type": "stream",
     "text": [
      "Images for product '로얄캐닌_강아지사료_포메라니안_습식파우치_85g_X_12P' successfully processed.\n"
     ]
    },
    {
     "name": "stderr",
     "output_type": "stream",
     "text": [
      "Processing pages:  21%|██▏       | 4447/20713 [1:09:41<3:40:05,  1.23it/s]"
     ]
    },
    {
     "name": "stdout",
     "output_type": "stream",
     "text": [
      "Images for product '로얄캐닌_강아지사료_포메라니안_습식파우치_85g_X_12P' successfully processed.\n"
     ]
    },
    {
     "name": "stderr",
     "output_type": "stream",
     "text": [
      "Processing pages:  21%|██▏       | 4450/20713 [1:09:43<4:04:39,  1.11it/s]"
     ]
    },
    {
     "name": "stdout",
     "output_type": "stream",
     "text": [
      "Images for product '네츄럴랩_케어2_강아지_가수분해_사료_위장간_2kg_유기농_70' successfully processed.\n"
     ]
    },
    {
     "name": "stderr",
     "output_type": "stream",
     "text": [
      "Processing pages:  21%|██▏       | 4452/20713 [1:09:45<3:49:29,  1.18it/s]"
     ]
    },
    {
     "name": "stdout",
     "output_type": "stream",
     "text": [
      "Images for product '로얄캐닌_캣_인스팅티브_파우치_85g_체중유지_요로기계_고양이_습식_사료' successfully processed.\n"
     ]
    },
    {
     "name": "stderr",
     "output_type": "stream",
     "text": [
      "Processing pages:  21%|██▏       | 4453/20713 [1:09:46<3:46:32,  1.20it/s]"
     ]
    },
    {
     "name": "stdout",
     "output_type": "stream",
     "text": [
      "Images for product '오리젠_강아지_사료_오리지널_독_11' successfully processed.\n",
      "Images for product '도착보장_힐스_강아지사료_어덜트_라지브리드_6' successfully processed.\n"
     ]
    },
    {
     "name": "stderr",
     "output_type": "stream",
     "text": [
      "Processing pages:  22%|██▏       | 4457/20713 [1:09:50<4:15:01,  1.06it/s]"
     ]
    },
    {
     "name": "stdout",
     "output_type": "stream",
     "text": [
      "Images for product '로얄캐닌_캣_인스팅티브_파우치_85g_체중유지_요로기계_고양이_습식_사료' successfully processed.\n"
     ]
    },
    {
     "name": "stderr",
     "output_type": "stream",
     "text": [
      "Processing pages:  22%|██▏       | 4474/20713 [1:10:04<3:46:29,  1.19it/s]"
     ]
    },
    {
     "name": "stdout",
     "output_type": "stream",
     "text": [
      "Images for product '지그니쳐_그레인프리_강아지_눈물사료_화이트피쉬_포뮬라_1kg' successfully processed.\n"
     ]
    },
    {
     "name": "stderr",
     "output_type": "stream",
     "text": [
      "Processing pages:  22%|██▏       | 4475/20713 [1:10:06<4:44:25,  1.05s/it]"
     ]
    },
    {
     "name": "stdout",
     "output_type": "stream",
     "text": [
      "Images for product '로얄캐닌_캣_인스팅티브_파우치_85g_체중유지_요로기계_고양이_습식_사료' successfully processed.\n"
     ]
    },
    {
     "name": "stderr",
     "output_type": "stream",
     "text": [
      "Processing pages:  22%|██▏       | 4476/20713 [1:10:07<4:32:59,  1.01s/it]"
     ]
    },
    {
     "name": "stdout",
     "output_type": "stream",
     "text": [
      "Images for product '지그니쳐_그레인프리_강아지_눈물사료_화이트피쉬_포뮬라_1kg' successfully processed.\n",
      "Images for product '하이독_알러컷_캥거루_500g_하이포알러제닉_체중_조절_다이어트_캥거루_알러지사료' successfully processed.\n",
      "Images for product '오리젠_강아지_사료_오리지널_독_11' successfully processed.\n",
      "Images for product '도착보장_힐스_강아지사료_어덜트_라지브리드_6' successfully processed.\n",
      "Images for product '도착보장_힐스_강아지사료_어덜트_라지브리드_6' successfully processed.\n"
     ]
    },
    {
     "name": "stderr",
     "output_type": "stream",
     "text": [
      "Processing pages:  22%|██▏       | 4477/20713 [1:10:08<4:14:44,  1.06it/s]"
     ]
    },
    {
     "name": "stdout",
     "output_type": "stream",
     "text": [
      "Images for product '로얄캐닌_강아지사료_포메라니안_습식파우치_85g_X_12P' successfully processed.\n"
     ]
    },
    {
     "name": "stderr",
     "output_type": "stream",
     "text": [
      "Processing pages:  22%|██▏       | 4484/20713 [1:10:14<3:42:31,  1.22it/s]"
     ]
    },
    {
     "name": "stdout",
     "output_type": "stream",
     "text": [
      "Images for product '지그니쳐_그레인프리_강아지_눈물사료_화이트피쉬_포뮬라_1kg' successfully processed.\n",
      "Images for product '오리젠_강아지_사료_오리지널_독_11' successfully processed.\n"
     ]
    },
    {
     "name": "stderr",
     "output_type": "stream",
     "text": [
      "Processing pages:  22%|██▏       | 4485/20713 [1:10:14<3:32:53,  1.27it/s]"
     ]
    },
    {
     "name": "stdout",
     "output_type": "stream",
     "text": [
      "Images for product '하이독_알러컷_캥거루_500g_하이포알러제닉_체중_조절_다이어트_캥거루_알러지사료' successfully processed.\n"
     ]
    },
    {
     "name": "stderr",
     "output_type": "stream",
     "text": [
      "Processing pages:  22%|██▏       | 4488/20713 [1:10:17<3:45:09,  1.20it/s]"
     ]
    },
    {
     "name": "stdout",
     "output_type": "stream",
     "text": [
      "Images for product '네츄럴랩_케어2_강아지_가수분해_사료_위장간_2kg_유기농_70' successfully processed.\n",
      "Images for product '로얄캐닌_강아지사료_포메라니안_습식파우치_85g_X_12P' successfully processed.\n"
     ]
    },
    {
     "name": "stderr",
     "output_type": "stream",
     "text": [
      "Processing pages:  22%|██▏       | 4509/20713 [1:10:36<3:48:50,  1.18it/s]"
     ]
    },
    {
     "name": "stdout",
     "output_type": "stream",
     "text": [
      "Images for product '로얄캐닌_캣_인스팅티브_파우치_85g_체중유지_요로기계_고양이_습식_사료' successfully processed.\n"
     ]
    },
    {
     "name": "stderr",
     "output_type": "stream",
     "text": [
      "Processing pages:  22%|██▏       | 4510/20713 [1:10:37<4:05:12,  1.10it/s]"
     ]
    },
    {
     "name": "stdout",
     "output_type": "stream",
     "text": [
      "Images for product '로얄캐닌_캣_인스팅티브_파우치_85g_체중유지_요로기계_고양이_습식_사료' successfully processed.\n",
      "Images for product '지그니쳐_그레인프리_강아지_눈물사료_화이트피쉬_포뮬라_1kg' successfully processed.\n"
     ]
    },
    {
     "name": "stderr",
     "output_type": "stream",
     "text": [
      "Processing pages:  22%|██▏       | 4511/20713 [1:10:38<4:15:17,  1.06it/s]"
     ]
    },
    {
     "name": "stdout",
     "output_type": "stream",
     "text": [
      "Images for product '하이독_알러컷_캥거루_500g_하이포알러제닉_체중_조절_다이어트_캥거루_알러지사료' successfully processed.\n",
      "Images for product '오리젠_강아지_사료_오리지널_독_11' successfully processed.\n",
      "Images for product '도착보장_힐스_강아지사료_어덜트_라지브리드_6' successfully processed.\n"
     ]
    },
    {
     "name": "stderr",
     "output_type": "stream",
     "text": [
      "Processing pages:  22%|██▏       | 4513/20713 [1:10:39<3:48:47,  1.18it/s]"
     ]
    },
    {
     "name": "stdout",
     "output_type": "stream",
     "text": [
      "Images for product '도착보장_힐스_강아지사료_어덜트_라지브리드_6' successfully processed.\n",
      "Images for product '오리젠_강아지_사료_오리지널_독_11' successfully processed.\n"
     ]
    },
    {
     "name": "stderr",
     "output_type": "stream",
     "text": [
      "Processing pages:  22%|██▏       | 4514/20713 [1:10:40<4:11:29,  1.07it/s]"
     ]
    },
    {
     "name": "stdout",
     "output_type": "stream",
     "text": [
      "Images for product '네츄럴랩_케어2_강아지_가수분해_사료_위장간_2kg_유기농_70' successfully processed.\n"
     ]
    },
    {
     "name": "stderr",
     "output_type": "stream",
     "text": [
      "Processing pages:  22%|██▏       | 4515/20713 [1:10:41<3:56:45,  1.14it/s]"
     ]
    },
    {
     "name": "stdout",
     "output_type": "stream",
     "text": [
      "Images for product '로얄캐닌_강아지사료_포메라니안_습식파우치_85g_X_12P' successfully processed.\n"
     ]
    },
    {
     "name": "stderr",
     "output_type": "stream",
     "text": [
      "Processing pages:  22%|██▏       | 4521/20713 [1:10:46<4:10:04,  1.08it/s]"
     ]
    },
    {
     "name": "stdout",
     "output_type": "stream",
     "text": [
      "Images for product '네츄럴랩_케어2_강아지_가수분해_사료_위장간_2kg_유기농_70' successfully processed.\n"
     ]
    },
    {
     "name": "stderr",
     "output_type": "stream",
     "text": [
      "Processing pages:  22%|██▏       | 4526/20713 [1:10:50<3:52:48,  1.16it/s]"
     ]
    },
    {
     "name": "stdout",
     "output_type": "stream",
     "text": [
      "Images for product '로얄캐닌_강아지사료_포메라니안_습식파우치_85g_X_12P' successfully processed.\n"
     ]
    },
    {
     "name": "stderr",
     "output_type": "stream",
     "text": [
      "Processing pages:  22%|██▏       | 4528/20713 [1:10:52<3:40:33,  1.22it/s]"
     ]
    },
    {
     "name": "stdout",
     "output_type": "stream",
     "text": [
      "Images for product '도착보장_힐스_강아지사료_어덜트_라지브리드_6' successfully processed.\n"
     ]
    },
    {
     "name": "stderr",
     "output_type": "stream",
     "text": [
      "Processing pages:  22%|██▏       | 4529/20713 [1:10:53<3:54:58,  1.15it/s]"
     ]
    },
    {
     "name": "stdout",
     "output_type": "stream",
     "text": [
      "Images for product '지그니쳐_그레인프리_강아지_눈물사료_화이트피쉬_포뮬라_1kg' successfully processed.\n"
     ]
    },
    {
     "name": "stderr",
     "output_type": "stream",
     "text": [
      "Processing pages:  22%|██▏       | 4533/20713 [1:10:56<3:36:03,  1.25it/s]"
     ]
    },
    {
     "name": "stdout",
     "output_type": "stream",
     "text": [
      "Images for product '하이독_알러컷_캥거루_500g_하이포알러제닉_체중_조절_다이어트_캥거루_알러지사료' successfully processed.\n"
     ]
    },
    {
     "name": "stderr",
     "output_type": "stream",
     "text": [
      "Processing pages:  22%|██▏       | 4544/20713 [1:11:05<3:28:37,  1.29it/s]"
     ]
    },
    {
     "name": "stdout",
     "output_type": "stream",
     "text": [
      "Images for product '오리젠_강아지_사료_오리지널_독_11' successfully processed.\n"
     ]
    },
    {
     "name": "stderr",
     "output_type": "stream",
     "text": [
      "Processing pages:  22%|██▏       | 4547/20713 [1:11:08<3:30:05,  1.28it/s]"
     ]
    },
    {
     "name": "stdout",
     "output_type": "stream",
     "text": [
      "Images for product '하이독_알러컷_캥거루_500g_하이포알러제닉_체중_조절_다이어트_캥거루_알러지사료' successfully processed.\n"
     ]
    },
    {
     "name": "stderr",
     "output_type": "stream",
     "text": [
      "Processing pages:  22%|██▏       | 4548/20713 [1:11:09<3:34:27,  1.26it/s]"
     ]
    },
    {
     "name": "stdout",
     "output_type": "stream",
     "text": [
      "Images for product '로얄캐닌_캣_인스팅티브_파우치_85g_체중유지_요로기계_고양이_습식_사료' successfully processed.\n"
     ]
    },
    {
     "name": "stderr",
     "output_type": "stream",
     "text": [
      "Processing pages:  22%|██▏       | 4558/20713 [1:11:18<4:21:42,  1.03it/s]"
     ]
    },
    {
     "name": "stdout",
     "output_type": "stream",
     "text": [
      "Images for product '로얄캐닌_캣_인스팅티브_파우치_85g_체중유지_요로기계_고양이_습식_사료' successfully processed.\n"
     ]
    },
    {
     "name": "stderr",
     "output_type": "stream",
     "text": [
      "Processing pages:  22%|██▏       | 4559/20713 [1:11:19<4:13:47,  1.06it/s]"
     ]
    },
    {
     "name": "stdout",
     "output_type": "stream",
     "text": [
      "Images for product '지그니쳐_그레인프리_강아지_눈물사료_화이트피쉬_포뮬라_1kg' successfully processed.\n"
     ]
    },
    {
     "name": "stderr",
     "output_type": "stream",
     "text": [
      "Processing pages:  22%|██▏       | 4560/20713 [1:11:20<4:06:31,  1.09it/s]"
     ]
    },
    {
     "name": "stdout",
     "output_type": "stream",
     "text": [
      "Images for product '무마진_소프트사료_연어_황태_1kg' successfully processed.\n"
     ]
    },
    {
     "name": "stderr",
     "output_type": "stream",
     "text": [
      "Processing pages:  22%|██▏       | 4561/20713 [1:11:21<4:09:06,  1.08it/s]"
     ]
    },
    {
     "name": "stdout",
     "output_type": "stream",
     "text": [
      "Images for product '도착보장_힐스_강아지사료_어덜트_라지브리드_6' successfully processed.\n",
      "Images for product '지그니쳐_그레인프리_강아지_눈물사료_화이트피쉬_포뮬라_1kg' successfully processed.\n"
     ]
    },
    {
     "name": "stderr",
     "output_type": "stream",
     "text": [
      "Processing pages:  22%|██▏       | 4562/20713 [1:11:22<4:07:14,  1.09it/s]"
     ]
    },
    {
     "name": "stdout",
     "output_type": "stream",
     "text": [
      "Images for product '하이독_알러컷_캥거루_500g_하이포알러제닉_체중_조절_다이어트_캥거루_알러지사료' successfully processed.\n",
      "Images for product '네츄럴랩_케어2_강아지_가수분해_사료_위장간_2kg_유기농_70' successfully processed.\n"
     ]
    },
    {
     "name": "stderr",
     "output_type": "stream",
     "text": [
      "Processing pages:  22%|██▏       | 4563/20713 [1:11:23<4:07:13,  1.09it/s]"
     ]
    },
    {
     "name": "stdout",
     "output_type": "stream",
     "text": [
      "Images for product '오리젠_강아지_사료_오리지널_독_11' successfully processed.\n"
     ]
    },
    {
     "name": "stderr",
     "output_type": "stream",
     "text": [
      "Processing pages:  22%|██▏       | 4567/20713 [1:11:26<3:37:58,  1.23it/s]"
     ]
    },
    {
     "name": "stdout",
     "output_type": "stream",
     "text": [
      "Images for product '도착보장_힐스_강아지사료_어덜트_라지브리드_6' successfully processed.\n"
     ]
    },
    {
     "name": "stderr",
     "output_type": "stream",
     "text": [
      "Processing pages:  22%|██▏       | 4580/20713 [1:11:36<3:34:38,  1.25it/s]"
     ]
    },
    {
     "name": "stdout",
     "output_type": "stream",
     "text": [
      "Images for product '네츄럴랩_케어2_강아지_가수분해_사료_위장간_2kg_유기농_70' successfully processed.\n"
     ]
    },
    {
     "name": "stderr",
     "output_type": "stream",
     "text": [
      "Processing pages:  22%|██▏       | 4581/20713 [1:11:37<3:31:36,  1.27it/s]"
     ]
    },
    {
     "name": "stdout",
     "output_type": "stream",
     "text": [
      "Images for product '로얄캐닌_강아지사료_포메라니안_습식파우치_85g_X_12P' successfully processed.\n"
     ]
    },
    {
     "name": "stderr",
     "output_type": "stream",
     "text": [
      "Processing pages:  22%|██▏       | 4594/20713 [1:11:48<3:42:30,  1.21it/s]"
     ]
    },
    {
     "name": "stdout",
     "output_type": "stream",
     "text": [
      "Images for product '오리젠_강아지_사료_오리지널_독_11' successfully processed.\n"
     ]
    },
    {
     "name": "stderr",
     "output_type": "stream",
     "text": [
      "Processing pages:  22%|██▏       | 4596/20713 [1:11:50<3:52:02,  1.16it/s]"
     ]
    },
    {
     "name": "stdout",
     "output_type": "stream",
     "text": [
      "Images for product '로얄캐닌_캣_인스팅티브_파우치_85g_체중유지_요로기계_고양이_습식_사료' successfully processed.\n",
      "Images for product '로얄캐닌_강아지사료_포메라니안_습식파우치_85g_X_12P' successfully processed.\n"
     ]
    },
    {
     "name": "stderr",
     "output_type": "stream",
     "text": [
      "Processing pages:  22%|██▏       | 4598/20713 [1:11:51<3:43:25,  1.20it/s]"
     ]
    },
    {
     "name": "stdout",
     "output_type": "stream",
     "text": [
      "Images for product '지그니쳐_그레인프리_강아지_눈물사료_화이트피쉬_포뮬라_1kg' successfully processed.\n",
      "Images for product '도착보장_힐스_강아지사료_어덜트_라지브리드_6' successfully processed.\n"
     ]
    },
    {
     "name": "stderr",
     "output_type": "stream",
     "text": [
      "Processing pages:  22%|██▏       | 4599/20713 [1:11:52<3:59:29,  1.12it/s]"
     ]
    },
    {
     "name": "stdout",
     "output_type": "stream",
     "text": [
      "Images for product '하이독_알러컷_캥거루_500g_하이포알러제닉_체중_조절_다이어트_캥거루_알러지사료' successfully processed.\n",
      "Images for product '하이독_알러컷_캥거루_500g_하이포알러제닉_체중_조절_다이어트_캥거루_알러지사료' successfully processed.\n",
      "Images for product '로얄캐닌_강아지사료_포메라니안_습식파우치_85g_X_12P' successfully processed.\n"
     ]
    },
    {
     "name": "stderr",
     "output_type": "stream",
     "text": [
      "Processing pages:  22%|██▏       | 4601/20713 [1:11:54<3:54:45,  1.14it/s]"
     ]
    },
    {
     "name": "stdout",
     "output_type": "stream",
     "text": [
      "Images for product '로얄캐닌_캣_인스팅티브_파우치_85g_체중유지_요로기계_고양이_습식_사료' successfully processed.\n"
     ]
    },
    {
     "name": "stderr",
     "output_type": "stream",
     "text": [
      "Processing pages:  22%|██▏       | 4602/20713 [1:11:55<3:46:20,  1.19it/s]"
     ]
    },
    {
     "name": "stdout",
     "output_type": "stream",
     "text": [
      "Images for product '오리젠_강아지_사료_오리지널_독_11' successfully processed.\n"
     ]
    },
    {
     "name": "stderr",
     "output_type": "stream",
     "text": [
      "Processing pages:  22%|██▏       | 4603/20713 [1:11:56<3:49:23,  1.17it/s]"
     ]
    },
    {
     "name": "stdout",
     "output_type": "stream",
     "text": [
      "Images for product '네츄럴랩_케어2_강아지_가수분해_사료_위장간_2kg_유기농_70' successfully processed.\n"
     ]
    },
    {
     "name": "stderr",
     "output_type": "stream",
     "text": [
      "Processing pages:  22%|██▏       | 4608/20713 [1:12:00<3:23:35,  1.32it/s]"
     ]
    },
    {
     "name": "stdout",
     "output_type": "stream",
     "text": [
      "Images for product '무마진_소프트사료_연어_황태_1kg' successfully processed.\n"
     ]
    },
    {
     "name": "stderr",
     "output_type": "stream",
     "text": [
      "Processing pages:  22%|██▏       | 4611/20713 [1:12:02<3:35:56,  1.24it/s]"
     ]
    },
    {
     "name": "stdout",
     "output_type": "stream",
     "text": [
      "Images for product '도착보장_힐스_강아지사료_어덜트_라지브리드_6' successfully processed.\n"
     ]
    },
    {
     "name": "stderr",
     "output_type": "stream",
     "text": [
      "Processing pages:  22%|██▏       | 4612/20713 [1:12:03<3:36:09,  1.24it/s]"
     ]
    },
    {
     "name": "stdout",
     "output_type": "stream",
     "text": [
      "Images for product '로얄캐닌_캣_인스팅티브_파우치_85g_체중유지_요로기계_고양이_습식_사료' successfully processed.\n",
      "Images for product '로얄캐닌_강아지사료_포메라니안_습식파우치_85g_X_12P' successfully processed.\n"
     ]
    },
    {
     "name": "stderr",
     "output_type": "stream",
     "text": [
      "Processing pages:  22%|██▏       | 4624/20713 [1:12:13<3:30:39,  1.27it/s]"
     ]
    },
    {
     "name": "stdout",
     "output_type": "stream",
     "text": [
      "Images for product '네츄럴랩_케어2_강아지_가수분해_사료_위장간_2kg_유기농_70' successfully processed.\n"
     ]
    },
    {
     "name": "stderr",
     "output_type": "stream",
     "text": [
      "Processing pages:  22%|██▏       | 4625/20713 [1:12:14<3:45:22,  1.19it/s]"
     ]
    },
    {
     "name": "stdout",
     "output_type": "stream",
     "text": [
      "Images for product '오리젠_강아지_사료_오리지널_독_11' successfully processed.\n"
     ]
    },
    {
     "name": "stderr",
     "output_type": "stream",
     "text": [
      "Processing pages:  22%|██▏       | 4626/20713 [1:12:15<3:58:47,  1.12it/s]"
     ]
    },
    {
     "name": "stdout",
     "output_type": "stream",
     "text": [
      "Images for product '오리젠_강아지_사료_오리지널_독_11' successfully processed.\n"
     ]
    },
    {
     "name": "stderr",
     "output_type": "stream",
     "text": [
      "Processing pages:  22%|██▏       | 4627/20713 [1:12:16<4:09:30,  1.07it/s]"
     ]
    },
    {
     "name": "stdout",
     "output_type": "stream",
     "text": [
      "Images for product '하이독_알러컷_캥거루_500g_하이포알러제닉_체중_조절_다이어트_캥거루_알러지사료' successfully processed.\n",
      "Images for product '도착보장_힐스_강아지사료_어덜트_라지브리드_6' successfully processed.\n"
     ]
    },
    {
     "name": "stderr",
     "output_type": "stream",
     "text": [
      "Processing pages:  22%|██▏       | 4628/20713 [1:12:17<4:17:03,  1.04it/s]"
     ]
    },
    {
     "name": "stdout",
     "output_type": "stream",
     "text": [
      "Images for product '지그니쳐_그레인프리_강아지_눈물사료_화이트피쉬_포뮬라_1kg' successfully processed.\n"
     ]
    },
    {
     "name": "stderr",
     "output_type": "stream",
     "text": [
      "Processing pages:  22%|██▏       | 4629/20713 [1:12:18<4:03:51,  1.10it/s]"
     ]
    },
    {
     "name": "stdout",
     "output_type": "stream",
     "text": [
      "Images for product '지그니쳐_그레인프리_강아지_눈물사료_화이트피쉬_포뮬라_1kg' successfully processed.\n"
     ]
    },
    {
     "name": "stderr",
     "output_type": "stream",
     "text": [
      "Processing pages:  22%|██▏       | 4636/20713 [1:12:23<3:20:19,  1.34it/s]"
     ]
    },
    {
     "name": "stdout",
     "output_type": "stream",
     "text": [
      "Images for product '로얄캐닌_캣_인스팅티브_파우치_85g_체중유지_요로기계_고양이_습식_사료' successfully processed.\n"
     ]
    },
    {
     "name": "stderr",
     "output_type": "stream",
     "text": [
      "Processing pages:  22%|██▏       | 4637/20713 [1:12:24<3:19:59,  1.34it/s]"
     ]
    },
    {
     "name": "stdout",
     "output_type": "stream",
     "text": [
      "Images for product '하이독_알러컷_캥거루_500g_하이포알러제닉_체중_조절_다이어트_캥거루_알러지사료' successfully processed.\n"
     ]
    },
    {
     "name": "stderr",
     "output_type": "stream",
     "text": [
      "Processing pages:  22%|██▏       | 4644/20713 [1:12:29<3:29:44,  1.28it/s]"
     ]
    },
    {
     "name": "stdout",
     "output_type": "stream",
     "text": [
      "Images for product '네츄럴랩_케어2_강아지_가수분해_사료_위장간_2kg_유기농_70' successfully processed.\n",
      "Images for product '오리젠_강아지_사료_오리지널_독_11' successfully processed.\n"
     ]
    },
    {
     "name": "stderr",
     "output_type": "stream",
     "text": [
      "Processing pages:  22%|██▏       | 4650/20713 [1:12:34<3:44:46,  1.19it/s]"
     ]
    },
    {
     "name": "stdout",
     "output_type": "stream",
     "text": [
      "Images for product '로얄캐닌_캣_인스팅티브_파우치_85g_체중유지_요로기계_고양이_습식_사료' successfully processed.\n"
     ]
    },
    {
     "name": "stderr",
     "output_type": "stream",
     "text": [
      "Processing pages:  22%|██▏       | 4658/20713 [1:12:41<3:45:47,  1.19it/s]"
     ]
    },
    {
     "name": "stdout",
     "output_type": "stream",
     "text": [
      "Images for product '네츄럴랩_케어2_강아지_가수분해_사료_위장간_2kg_유기농_70' successfully processed.\n"
     ]
    },
    {
     "name": "stderr",
     "output_type": "stream",
     "text": [
      "Processing pages:  23%|██▎       | 4662/20713 [1:12:44<3:37:48,  1.23it/s]"
     ]
    },
    {
     "name": "stdout",
     "output_type": "stream",
     "text": [
      "Images for product '지그니쳐_그레인프리_강아지_눈물사료_화이트피쉬_포뮬라_1kg' successfully processed.\n",
      "Images for product '도착보장_힐스_강아지사료_어덜트_라지브리드_6' successfully processed.\n"
     ]
    },
    {
     "name": "stderr",
     "output_type": "stream",
     "text": [
      "Processing pages:  23%|██▎       | 4663/20713 [1:12:46<4:06:47,  1.08it/s]"
     ]
    },
    {
     "name": "stdout",
     "output_type": "stream",
     "text": [
      "Images for product '하이독_알러컷_캥거루_500g_하이포알러제닉_체중_조절_다이어트_캥거루_알러지사료' successfully processed.\n",
      "Images for product '오리젠_강아지_사료_오리지널_독_11' successfully processed.\n",
      "Images for product '도착보장_힐스_강아지사료_어덜트_라지브리드_6' successfully processed.\n"
     ]
    },
    {
     "name": "stderr",
     "output_type": "stream",
     "text": [
      "Processing pages:  23%|██▎       | 4665/20713 [1:12:47<4:02:48,  1.10it/s]"
     ]
    },
    {
     "name": "stdout",
     "output_type": "stream",
     "text": [
      "Images for product '로얄캐닌_캣_인스팅티브_파우치_85g_체중유지_요로기계_고양이_습식_사료' successfully processed.\n"
     ]
    },
    {
     "name": "stderr",
     "output_type": "stream",
     "text": [
      "Processing pages:  23%|██▎       | 4675/20713 [1:12:55<3:47:51,  1.17it/s]"
     ]
    },
    {
     "name": "stdout",
     "output_type": "stream",
     "text": [
      "Images for product '로얄캐닌_강아지사료_포메라니안_습식파우치_85g_X_12P' successfully processed.\n"
     ]
    },
    {
     "name": "stderr",
     "output_type": "stream",
     "text": [
      "Processing pages:  23%|██▎       | 4683/20713 [1:13:03<4:08:41,  1.07it/s]"
     ]
    },
    {
     "name": "stdout",
     "output_type": "stream",
     "text": [
      "Images for product '네츄럴랩_케어2_강아지_가수분해_사료_위장간_2kg_유기농_70' successfully processed.\n"
     ]
    },
    {
     "name": "stderr",
     "output_type": "stream",
     "text": [
      "Processing pages:  23%|██▎       | 4684/20713 [1:13:03<4:01:27,  1.11it/s]"
     ]
    },
    {
     "name": "stdout",
     "output_type": "stream",
     "text": [
      "Images for product '지그니쳐_그레인프리_강아지_눈물사료_화이트피쉬_포뮬라_1kg' successfully processed.\n"
     ]
    },
    {
     "name": "stderr",
     "output_type": "stream",
     "text": [
      "Processing pages:  23%|██▎       | 4689/20713 [1:13:07<3:40:19,  1.21it/s]"
     ]
    },
    {
     "name": "stdout",
     "output_type": "stream",
     "text": [
      "Images for product '로얄캐닌_캣_인스팅티브_파우치_85g_체중유지_요로기계_고양이_습식_사료' successfully processed.\n"
     ]
    },
    {
     "name": "stderr",
     "output_type": "stream",
     "text": [
      "Processing pages:  23%|██▎       | 4696/20713 [1:13:13<3:33:58,  1.25it/s]"
     ]
    },
    {
     "name": "stdout",
     "output_type": "stream",
     "text": [
      "Images for product '오리젠_강아지_사료_오리지널_독_11' successfully processed.\n",
      "Images for product '도착보장_힐스_강아지사료_어덜트_라지브리드_6' successfully processed.\n"
     ]
    },
    {
     "name": "stderr",
     "output_type": "stream",
     "text": [
      "Processing pages:  23%|██▎       | 4697/20713 [1:13:14<3:46:09,  1.18it/s]"
     ]
    },
    {
     "name": "stdout",
     "output_type": "stream",
     "text": [
      "Images for product '로얄캐닌_강아지사료_포메라니안_습식파우치_85g_X_12P' successfully processed.\n",
      "Images for product '로얄캐닌_강아지사료_포메라니안_습식파우치_85g_X_12P' successfully processed.\n"
     ]
    },
    {
     "name": "stderr",
     "output_type": "stream",
     "text": [
      "Processing pages:  23%|██▎       | 4699/20713 [1:13:16<3:44:27,  1.19it/s]"
     ]
    },
    {
     "name": "stdout",
     "output_type": "stream",
     "text": [
      "Images for product '하이독_알러컷_캥거루_500g_하이포알러제닉_체중_조절_다이어트_캥거루_알러지사료' successfully processed.\n",
      "Images for product '하이독_알러컷_캥거루_500g_하이포알러제닉_체중_조절_다이어트_캥거루_알러지사료' successfully processed.\n",
      "Images for product '네츄럴랩_케어2_강아지_가수분해_사료_위장간_2kg_유기농_70' successfully processed.\n"
     ]
    },
    {
     "name": "stderr",
     "output_type": "stream",
     "text": [
      "Processing pages:  23%|██▎       | 4700/20713 [1:13:16<3:37:36,  1.23it/s]"
     ]
    },
    {
     "name": "stdout",
     "output_type": "stream",
     "text": [
      "Images for product '지그니쳐_그레인프리_강아지_눈물사료_화이트피쉬_포뮬라_1kg' successfully processed.\n"
     ]
    },
    {
     "name": "stderr",
     "output_type": "stream",
     "text": [
      "Processing pages:  23%|██▎       | 4713/20713 [1:13:27<4:04:17,  1.09it/s]"
     ]
    },
    {
     "name": "stdout",
     "output_type": "stream",
     "text": [
      "Images for product '로얄캐닌_강아지사료_포메라니안_습식파우치_85g_X_12P' successfully processed.\n"
     ]
    },
    {
     "name": "stderr",
     "output_type": "stream",
     "text": [
      "Processing pages:  23%|██▎       | 4714/20713 [1:13:28<3:56:51,  1.13it/s]"
     ]
    },
    {
     "name": "stdout",
     "output_type": "stream",
     "text": [
      "Images for product '네츄럴랩_케어2_강아지_가수분해_사료_위장간_2kg_유기농_70' successfully processed.\n"
     ]
    },
    {
     "name": "stderr",
     "output_type": "stream",
     "text": [
      "Processing pages:  23%|██▎       | 4718/20713 [1:13:32<4:05:55,  1.08it/s]"
     ]
    },
    {
     "name": "stdout",
     "output_type": "stream",
     "text": [
      "Images for product '로얄캐닌_캣_인스팅티브_파우치_85g_체중유지_요로기계_고양이_습식_사료' successfully processed.\n",
      "Images for product '오리젠_강아지_사료_오리지널_독_11' successfully processed.\n"
     ]
    },
    {
     "name": "stderr",
     "output_type": "stream",
     "text": [
      "Processing pages:  23%|██▎       | 4719/20713 [1:13:33<4:14:56,  1.05it/s]"
     ]
    },
    {
     "name": "stdout",
     "output_type": "stream",
     "text": [
      "Images for product '도착보장_힐스_강아지사료_어덜트_라지브리드_6' successfully processed.\n"
     ]
    },
    {
     "name": "stderr",
     "output_type": "stream",
     "text": [
      "Processing pages:  23%|██▎       | 4725/20713 [1:13:38<3:46:45,  1.18it/s]"
     ]
    },
    {
     "name": "stdout",
     "output_type": "stream",
     "text": [
      "Images for product '로얄캐닌_강아지사료_포메라니안_습식파우치_85g_X_12P' successfully processed.\n"
     ]
    },
    {
     "name": "stderr",
     "output_type": "stream",
     "text": [
      "Processing pages:  23%|██▎       | 4726/20713 [1:13:39<3:51:23,  1.15it/s]"
     ]
    },
    {
     "name": "stdout",
     "output_type": "stream",
     "text": [
      "Images for product '지그니쳐_그레인프리_강아지_눈물사료_화이트피쉬_포뮬라_1kg' successfully processed.\n"
     ]
    },
    {
     "name": "stderr",
     "output_type": "stream",
     "text": [
      "Processing pages:  23%|██▎       | 4734/20713 [1:13:46<3:52:05,  1.15it/s]"
     ]
    },
    {
     "name": "stdout",
     "output_type": "stream",
     "text": [
      "Images for product '지그니쳐_그레인프리_강아지_눈물사료_화이트피쉬_포뮬라_1kg' successfully processed.\n"
     ]
    },
    {
     "name": "stderr",
     "output_type": "stream",
     "text": [
      "Processing pages:  23%|██▎       | 4736/20713 [1:13:47<3:46:17,  1.18it/s]"
     ]
    },
    {
     "name": "stdout",
     "output_type": "stream",
     "text": [
      "Images for product '로얄캐닌_캣_인스팅티브_파우치_85g_체중유지_요로기계_고양이_습식_사료' successfully processed.\n"
     ]
    },
    {
     "name": "stderr",
     "output_type": "stream",
     "text": [
      "Processing pages:  23%|██▎       | 4737/20713 [1:13:48<3:36:12,  1.23it/s]"
     ]
    },
    {
     "name": "stdout",
     "output_type": "stream",
     "text": [
      "Images for product '하이독_알러컷_캥거루_500g_하이포알러제닉_체중_조절_다이어트_캥거루_알러지사료' successfully processed.\n",
      "Images for product '오리젠_강아지_사료_오리지널_독_11' successfully processed.\n"
     ]
    },
    {
     "name": "stderr",
     "output_type": "stream",
     "text": [
      "Processing pages:  23%|██▎       | 4739/20713 [1:13:50<3:51:53,  1.15it/s]"
     ]
    },
    {
     "name": "stdout",
     "output_type": "stream",
     "text": [
      "Images for product '도착보장_힐스_강아지사료_어덜트_라지브리드_6' successfully processed.\n"
     ]
    },
    {
     "name": "stderr",
     "output_type": "stream",
     "text": [
      "Processing pages:  23%|██▎       | 4741/20713 [1:13:51<3:46:20,  1.18it/s]"
     ]
    },
    {
     "name": "stdout",
     "output_type": "stream",
     "text": [
      "Images for product '오리젠_강아지_사료_오리지널_독_11' successfully processed.\n"
     ]
    },
    {
     "name": "stderr",
     "output_type": "stream",
     "text": [
      "Processing pages:  23%|██▎       | 4745/20713 [1:13:55<4:06:36,  1.08it/s]"
     ]
    },
    {
     "name": "stdout",
     "output_type": "stream",
     "text": [
      "Images for product '하이독_알러컷_캥거루_500g_하이포알러제닉_체중_조절_다이어트_캥거루_알러지사료' successfully processed.\n"
     ]
    },
    {
     "name": "stderr",
     "output_type": "stream",
     "text": [
      "Processing pages:  23%|██▎       | 4746/20713 [1:13:56<4:07:28,  1.08it/s]"
     ]
    },
    {
     "name": "stdout",
     "output_type": "stream",
     "text": [
      "Images for product '로얄캐닌_캣_인스팅티브_파우치_85g_체중유지_요로기계_고양이_습식_사료' successfully processed.\n"
     ]
    },
    {
     "name": "stderr",
     "output_type": "stream",
     "text": [
      "Processing pages:  23%|██▎       | 4750/20713 [1:13:59<3:31:10,  1.26it/s]"
     ]
    },
    {
     "name": "stdout",
     "output_type": "stream",
     "text": [
      "Images for product '로얄캐닌_강아지사료_포메라니안_습식파우치_85g_X_12P' successfully processed.\n"
     ]
    },
    {
     "name": "stderr",
     "output_type": "stream",
     "text": [
      "Processing pages:  23%|██▎       | 4753/20713 [1:14:02<3:33:12,  1.25it/s]"
     ]
    },
    {
     "name": "stdout",
     "output_type": "stream",
     "text": [
      "Images for product '네츄럴랩_케어2_강아지_가수분해_사료_위장간_2kg_유기농_70' successfully processed.\n"
     ]
    },
    {
     "name": "stderr",
     "output_type": "stream",
     "text": [
      "Processing pages:  23%|██▎       | 4755/20713 [1:14:04<3:48:36,  1.16it/s]"
     ]
    },
    {
     "name": "stdout",
     "output_type": "stream",
     "text": [
      "Images for product '로얄캐닌_강아지사료_포메라니안_습식파우치_85g_X_12P' successfully processed.\n"
     ]
    },
    {
     "name": "stderr",
     "output_type": "stream",
     "text": [
      "Processing pages:  23%|██▎       | 4763/20713 [1:14:10<3:41:52,  1.20it/s]"
     ]
    },
    {
     "name": "stdout",
     "output_type": "stream",
     "text": [
      "Images for product '네츄럴랩_케어2_강아지_가수분해_사료_위장간_2kg_유기농_70' successfully processed.\n",
      "Images for product '지그니쳐_그레인프리_강아지_눈물사료_화이트피쉬_포뮬라_1kg' successfully processed.\n"
     ]
    },
    {
     "name": "stderr",
     "output_type": "stream",
     "text": [
      "Processing pages:  23%|██▎       | 4769/20713 [1:14:15<3:36:22,  1.23it/s]"
     ]
    },
    {
     "name": "stdout",
     "output_type": "stream",
     "text": [
      "Images for product '지그니쳐_그레인프리_강아지_눈물사료_화이트피쉬_포뮬라_1kg' successfully processed.\n"
     ]
    },
    {
     "name": "stderr",
     "output_type": "stream",
     "text": [
      "Processing pages:  23%|██▎       | 4770/20713 [1:14:16<3:25:23,  1.29it/s]"
     ]
    },
    {
     "name": "stdout",
     "output_type": "stream",
     "text": [
      "Images for product '네츄럴랩_케어2_강아지_가수분해_사료_위장간_2kg_유기농_70' successfully processed.\n",
      "Images for product '도착보장_힐스_강아지사료_어덜트_라지브리드_6' successfully processed.\n"
     ]
    },
    {
     "name": "stderr",
     "output_type": "stream",
     "text": [
      "Processing pages:  23%|██▎       | 4773/20713 [1:14:19<4:14:52,  1.04it/s]"
     ]
    },
    {
     "name": "stdout",
     "output_type": "stream",
     "text": [
      "Images for product '로얄캐닌_캣_인스팅티브_파우치_85g_체중유지_요로기계_고양이_습식_사료' successfully processed.\n",
      "Images for product '오리젠_강아지_사료_오리지널_독_11' successfully processed.\n"
     ]
    },
    {
     "name": "stderr",
     "output_type": "stream",
     "text": [
      "Processing pages:  23%|██▎       | 4783/20713 [1:14:27<3:49:43,  1.16it/s]"
     ]
    },
    {
     "name": "stdout",
     "output_type": "stream",
     "text": [
      "Images for product '오리젠_강아지_사료_오리지널_독_11' successfully processed.\n",
      "Images for product '로얄캐닌_강아지사료_포메라니안_습식파우치_85g_X_12P' successfully processed.\n"
     ]
    },
    {
     "name": "stderr",
     "output_type": "stream",
     "text": [
      "Processing pages:  23%|██▎       | 4785/20713 [1:14:29<3:55:31,  1.13it/s]"
     ]
    },
    {
     "name": "stdout",
     "output_type": "stream",
     "text": [
      "Images for product '네츄럴랩_케어2_강아지_가수분해_사료_위장간_2kg_유기농_70' successfully processed.\n"
     ]
    },
    {
     "name": "stderr",
     "output_type": "stream",
     "text": [
      "Processing pages:  23%|██▎       | 4786/20713 [1:14:30<4:14:57,  1.04it/s]"
     ]
    },
    {
     "name": "stdout",
     "output_type": "stream",
     "text": [
      "Images for product '도착보장_힐스_강아지사료_어덜트_라지브리드_6' successfully processed.\n"
     ]
    },
    {
     "name": "stderr",
     "output_type": "stream",
     "text": [
      "Processing pages:  23%|██▎       | 4788/20713 [1:14:32<3:57:22,  1.12it/s]"
     ]
    },
    {
     "name": "stdout",
     "output_type": "stream",
     "text": [
      "Images for product '하이독_알러컷_캥거루_500g_하이포알러제닉_체중_조절_다이어트_캥거루_알러지사료' successfully processed.\n"
     ]
    },
    {
     "name": "stderr",
     "output_type": "stream",
     "text": [
      "Processing pages:  23%|██▎       | 4796/20713 [1:14:38<3:25:02,  1.29it/s]"
     ]
    },
    {
     "name": "stdout",
     "output_type": "stream",
     "text": [
      "Images for product '로얄캐닌_강아지사료_포메라니안_습식파우치_85g_X_12P' successfully processed.\n",
      "Images for product '로얄캐닌_캣_인스팅티브_파우치_85g_체중유지_요로기계_고양이_습식_사료' successfully processed.\n"
     ]
    },
    {
     "name": "stderr",
     "output_type": "stream",
     "text": [
      "Processing pages:  23%|██▎       | 4798/20713 [1:14:41<4:26:30,  1.00s/it]"
     ]
    },
    {
     "name": "stdout",
     "output_type": "stream",
     "text": [
      "Images for product '지그니쳐_그레인프리_강아지_눈물사료_화이트피쉬_포뮬라_1kg' successfully processed.\n",
      "Images for product '하이독_알러컷_캥거루_500g_하이포알러제닉_체중_조절_다이어트_캥거루_알러지사료' successfully processed.\n"
     ]
    },
    {
     "name": "stderr",
     "output_type": "stream",
     "text": [
      "Processing pages:  23%|██▎       | 4808/20713 [1:14:49<3:41:40,  1.20it/s]"
     ]
    },
    {
     "name": "stdout",
     "output_type": "stream",
     "text": [
      "Images for product '도착보장_힐스_강아지사료_어덜트_라지브리드_6' successfully processed.\n",
      "Images for product '네츄럴랩_케어2_강아지_가수분해_사료_위장간_2kg_유기농_70' successfully processed.\n"
     ]
    },
    {
     "name": "stderr",
     "output_type": "stream",
     "text": [
      "Processing pages:  23%|██▎       | 4816/20713 [1:14:56<3:51:33,  1.14it/s]"
     ]
    },
    {
     "name": "stdout",
     "output_type": "stream",
     "text": [
      "Images for product '오리젠_강아지_사료_오리지널_독_11' successfully processed.\n"
     ]
    },
    {
     "name": "stderr",
     "output_type": "stream",
     "text": [
      "Processing pages:  23%|██▎       | 4822/20713 [1:15:01<3:38:29,  1.21it/s]"
     ]
    },
    {
     "name": "stdout",
     "output_type": "stream",
     "text": [
      "Images for product '하이독_알러컷_캥거루_500g_하이포알러제닉_체중_조절_다이어트_캥거루_알러지사료' successfully processed.\n"
     ]
    },
    {
     "name": "stderr",
     "output_type": "stream",
     "text": [
      "Processing pages:  23%|██▎       | 4836/20713 [1:15:12<3:14:26,  1.36it/s]"
     ]
    },
    {
     "name": "stdout",
     "output_type": "stream",
     "text": [
      "Images for product '하이독_알러컷_캥거루_500g_하이포알러제닉_체중_조절_다이어트_캥거루_알러지사료' successfully processed.\n"
     ]
    },
    {
     "name": "stderr",
     "output_type": "stream",
     "text": [
      "Processing pages:  23%|██▎       | 4837/20713 [1:15:13<3:16:37,  1.35it/s]"
     ]
    },
    {
     "name": "stdout",
     "output_type": "stream",
     "text": [
      "Images for product '지그니쳐_그레인프리_강아지_눈물사료_화이트피쉬_포뮬라_1kg' successfully processed.\n",
      "Images for product '로얄캐닌_캣_인스팅티브_파우치_85g_체중유지_요로기계_고양이_습식_사료' successfully processed.\n"
     ]
    },
    {
     "name": "stderr",
     "output_type": "stream",
     "text": [
      "Processing pages:  23%|██▎       | 4839/20713 [1:15:14<3:32:52,  1.24it/s]"
     ]
    },
    {
     "name": "stdout",
     "output_type": "stream",
     "text": [
      "Images for product '네츄럴랩_케어2_강아지_가수분해_사료_위장간_2kg_유기농_70' successfully processed.\n",
      "Images for product '도착보장_힐스_강아지사료_어덜트_라지브리드_6' successfully processed.\n"
     ]
    },
    {
     "name": "stderr",
     "output_type": "stream",
     "text": [
      "Processing pages:  23%|██▎       | 4842/20713 [1:15:17<3:43:04,  1.19it/s]"
     ]
    },
    {
     "name": "stdout",
     "output_type": "stream",
     "text": [
      "Images for product '하이독_알러컷_캥거루_500g_하이포알러제닉_체중_조절_다이어트_캥거루_알러지사료' successfully processed.\n"
     ]
    },
    {
     "name": "stderr",
     "output_type": "stream",
     "text": [
      "Processing pages:  23%|██▎       | 4864/20713 [1:15:36<3:40:32,  1.20it/s]"
     ]
    },
    {
     "name": "stdout",
     "output_type": "stream",
     "text": [
      "Images for product '로얄캐닌_강아지사료_포메라니안_습식파우치_85g_X_12P' successfully processed.\n"
     ]
    },
    {
     "name": "stderr",
     "output_type": "stream",
     "text": [
      "Processing pages:  23%|██▎       | 4867/20713 [1:15:38<3:31:29,  1.25it/s]"
     ]
    },
    {
     "name": "stdout",
     "output_type": "stream",
     "text": [
      "Images for product '지그니쳐_그레인프리_강아지_눈물사료_화이트피쉬_포뮬라_1kg' successfully processed.\n"
     ]
    },
    {
     "name": "stderr",
     "output_type": "stream",
     "text": [
      "Processing pages:  24%|██▎       | 4868/20713 [1:15:39<3:33:32,  1.24it/s]"
     ]
    },
    {
     "name": "stdout",
     "output_type": "stream",
     "text": [
      "Images for product '오리젠_강아지_사료_오리지널_독_11' successfully processed.\n"
     ]
    },
    {
     "name": "stderr",
     "output_type": "stream",
     "text": [
      "Processing pages:  24%|██▎       | 4871/20713 [1:15:42<3:33:38,  1.24it/s]"
     ]
    },
    {
     "name": "stdout",
     "output_type": "stream",
     "text": [
      "Images for product '도착보장_힐스_강아지사료_어덜트_라지브리드_6' successfully processed.\n"
     ]
    },
    {
     "name": "stderr",
     "output_type": "stream",
     "text": [
      "Processing pages:  24%|██▎       | 4873/20713 [1:15:43<3:39:24,  1.20it/s]"
     ]
    },
    {
     "name": "stdout",
     "output_type": "stream",
     "text": [
      "Images for product '오리젠_강아지_사료_오리지널_독_11' successfully processed.\n"
     ]
    },
    {
     "name": "stderr",
     "output_type": "stream",
     "text": [
      "Processing pages:  24%|██▎       | 4877/20713 [1:15:47<3:45:48,  1.17it/s]"
     ]
    },
    {
     "name": "stdout",
     "output_type": "stream",
     "text": [
      "Images for product '로얄캐닌_강아지사료_포메라니안_습식파우치_85g_X_12P' successfully processed.\n"
     ]
    },
    {
     "name": "stderr",
     "output_type": "stream",
     "text": [
      "Processing pages:  24%|██▎       | 4879/20713 [1:15:48<3:39:07,  1.20it/s]"
     ]
    },
    {
     "name": "stdout",
     "output_type": "stream",
     "text": [
      "Images for product '로얄캐닌_캣_인스팅티브_파우치_85g_체중유지_요로기계_고양이_습식_사료' successfully processed.\n"
     ]
    },
    {
     "name": "stderr",
     "output_type": "stream",
     "text": [
      "Processing pages:  24%|██▎       | 4880/20713 [1:15:49<3:43:42,  1.18it/s]"
     ]
    },
    {
     "name": "stdout",
     "output_type": "stream",
     "text": [
      "Images for product '지그니쳐_그레인프리_강아지_눈물사료_화이트피쉬_포뮬라_1kg' successfully processed.\n"
     ]
    },
    {
     "name": "stderr",
     "output_type": "stream",
     "text": [
      "Processing pages:  24%|██▎       | 4881/20713 [1:15:50<3:47:21,  1.16it/s]"
     ]
    },
    {
     "name": "stdout",
     "output_type": "stream",
     "text": [
      "Images for product '로얄캐닌_캣_인스팅티브_파우치_85g_체중유지_요로기계_고양이_습식_사료' successfully processed.\n",
      "Images for product '하이독_알러컷_캥거루_500g_하이포알러제닉_체중_조절_다이어트_캥거루_알러지사료' successfully processed.\n"
     ]
    },
    {
     "name": "stderr",
     "output_type": "stream",
     "text": [
      "Processing pages:  24%|██▎       | 4882/20713 [1:15:51<3:50:03,  1.15it/s]"
     ]
    },
    {
     "name": "stdout",
     "output_type": "stream",
     "text": [
      "Images for product '로얄캐닌_강아지사료_포메라니안_습식파우치_85g_X_12P' successfully processed.\n",
      "Images for product '오리젠_강아지_사료_오리지널_독_11' successfully processed.\n"
     ]
    },
    {
     "name": "stderr",
     "output_type": "stream",
     "text": [
      "Processing pages:  24%|██▎       | 4883/20713 [1:15:52<3:49:33,  1.15it/s]"
     ]
    },
    {
     "name": "stdout",
     "output_type": "stream",
     "text": [
      "Images for product '네츄럴랩_케어2_강아지_가수분해_사료_위장간_2kg_유기농_70' successfully processed.\n",
      "Images for product '지그니쳐_그레인프리_강아지_눈물사료_화이트피쉬_포뮬라_1kg' successfully processed.\n"
     ]
    },
    {
     "name": "stderr",
     "output_type": "stream",
     "text": [
      "Processing pages:  24%|██▎       | 4885/20713 [1:15:53<3:37:18,  1.21it/s]"
     ]
    },
    {
     "name": "stdout",
     "output_type": "stream",
     "text": [
      "Images for product '네츄럴랩_케어2_강아지_가수분해_사료_위장간_2kg_유기농_70' successfully processed.\n"
     ]
    },
    {
     "name": "stderr",
     "output_type": "stream",
     "text": [
      "Processing pages:  24%|██▎       | 4888/20713 [1:15:56<3:32:09,  1.24it/s]"
     ]
    },
    {
     "name": "stdout",
     "output_type": "stream",
     "text": [
      "Images for product '하이독_알러컷_캥거루_500g_하이포알러제닉_체중_조절_다이어트_캥거루_알러지사료' successfully processed.\n",
      "Images for product '도착보장_힐스_강아지사료_어덜트_라지브리드_6' successfully processed.\n"
     ]
    },
    {
     "name": "stderr",
     "output_type": "stream",
     "text": [
      "Processing pages:  24%|██▎       | 4895/20713 [1:16:02<3:40:59,  1.19it/s]"
     ]
    },
    {
     "name": "stdout",
     "output_type": "stream",
     "text": [
      "Images for product '로얄캐닌_캣_인스팅티브_파우치_85g_체중유지_요로기계_고양이_습식_사료' successfully processed.\n"
     ]
    },
    {
     "name": "stderr",
     "output_type": "stream",
     "text": [
      "Processing pages:  24%|██▎       | 4897/20713 [1:16:04<3:53:04,  1.13it/s]"
     ]
    },
    {
     "name": "stdout",
     "output_type": "stream",
     "text": [
      "Images for product '도착보장_힐스_강아지사료_어덜트_라지브리드_6' successfully processed.\n"
     ]
    },
    {
     "name": "stderr",
     "output_type": "stream",
     "text": [
      "Processing pages:  24%|██▎       | 4901/20713 [1:16:07<3:36:32,  1.22it/s]"
     ]
    },
    {
     "name": "stdout",
     "output_type": "stream",
     "text": [
      "Images for product '로얄캐닌_강아지사료_포메라니안_습식파우치_85g_X_12P' successfully processed.\n"
     ]
    },
    {
     "name": "stderr",
     "output_type": "stream",
     "text": [
      "Processing pages:  24%|██▎       | 4904/20713 [1:16:10<4:11:35,  1.05it/s]"
     ]
    },
    {
     "name": "stdout",
     "output_type": "stream",
     "text": [
      "Images for product '네츄럴랩_케어2_강아지_가수분해_사료_위장간_2kg_유기농_70' successfully processed.\n"
     ]
    },
    {
     "name": "stderr",
     "output_type": "stream",
     "text": [
      "Processing pages:  24%|██▎       | 4906/20713 [1:16:12<3:58:59,  1.10it/s]"
     ]
    },
    {
     "name": "stdout",
     "output_type": "stream",
     "text": [
      "Images for product '하이독_알러컷_캥거루_500g_하이포알러제닉_체중_조절_다이어트_캥거루_알러지사료' successfully processed.\n",
      "Images for product '지그니쳐_그레인프리_강아지_눈물사료_화이트피쉬_포뮬라_1kg' successfully processed.\n"
     ]
    },
    {
     "name": "stderr",
     "output_type": "stream",
     "text": [
      "Processing pages:  24%|██▍       | 4921/20713 [1:16:25<4:14:13,  1.04it/s]"
     ]
    },
    {
     "name": "stdout",
     "output_type": "stream",
     "text": [
      "Images for product '오리젠_강아지_사료_오리지널_독_11' successfully processed.\n"
     ]
    },
    {
     "name": "stderr",
     "output_type": "stream",
     "text": [
      "Processing pages:  24%|██▍       | 4929/20713 [1:18:01<4:09:51,  1.05it/s]\n"
     ]
    },
    {
     "name": "stdout",
     "output_type": "stream",
     "text": [
      "Images for product '하이독_알러컷_캥거루_500g_하이포알러제닉_체중_조절_다이어트_캥거루_알러지사료' successfully processed.\n",
      "Images for product '오리젠_강아지_사료_오리지널_독_11' successfully processed.\n",
      "Images for product '오리젠_강아지_사료_오리지널_독_11' successfully processed.\n",
      "Images for product '로얄캐닌_캣_인스팅티브_파우치_85g_체중유지_요로기계_고양이_습식_사료' successfully processed.\n",
      "Images for product '네츄럴랩_케어2_강아지_가수분해_사료_위장간_2kg_유기농_70' successfully processed.\n",
      "Images for product '도착보장_힐스_강아지사료_어덜트_라지브리드_6' successfully processed.\n",
      "Images for product '지그니쳐_그레인프리_강아지_눈물사료_화이트피쉬_포뮬라_1kg' successfully processed.\n",
      "Images for product '로얄캐닌_강아지사료_포메라니안_습식파우치_85g_X_12P' successfully processed.\n",
      "Images for product '도착보장_힐스_강아지사료_어덜트_라지브리드_6' successfully processed.\n",
      "Images for product '로얄캐닌_강아지사료_포메라니안_습식파우치_85g_X_12P' successfully processed.\n",
      "Images for product '지그니쳐_그레인프리_강아지_눈물사료_화이트피쉬_포뮬라_1kg' successfully processed.\n",
      "Images for product '무마진_소프트사료_연어_황태_1kg' successfully processed.\n",
      "Images for product '하이독_알러컷_캥거루_500g_하이포알러제닉_체중_조절_다이어트_캥거루_알러지사료' successfully processed.\n",
      "Images for product '오리젠_강아지_사료_오리지널_독_11' successfully processed.\n",
      "Images for product '네츄럴랩_케어2_강아지_가수분해_사료_위장간_2kg_유기농_70' successfully processed.\n",
      "Images for product '네츄럴랩_케어2_강아지_가수분해_사료_위장간_2kg_유기농_70' successfully processed.\n",
      "Images for product '도착보장_힐스_강아지사료_어덜트_라지브리드_6' successfully processed.\n",
      "Images for product '로얄캐닌_강아지사료_포메라니안_습식파우치_85g_X_12P' successfully processed.\n",
      "Images for product '지그니쳐_그레인프리_강아지_눈물사료_화이트피쉬_포뮬라_1kg' successfully processed.\n",
      "Images for product '로얄캐닌_캣_인스팅티브_파우치_85g_체중유지_요로기계_고양이_습식_사료' successfully processed.\n",
      "Images for product '도착보장_힐스_강아지사료_어덜트_라지브리드_6' successfully processed.\n",
      "Images for product '로얄캐닌_캣_인스팅티브_파우치_85g_체중유지_요로기계_고양이_습식_사료' successfully processed.\n",
      "Images for product '오리젠_강아지_사료_오리지널_독_11' successfully processed.\n",
      "Images for product '네츄럴랩_케어2_강아지_가수분해_사료_위장간_2kg_유기농_70' successfully processed.\n",
      "Images for product '지그니쳐_그레인프리_강아지_눈물사료_화이트피쉬_포뮬라_1kg' successfully processed.\n",
      "Images for product '로얄캐닌_강아지사료_포메라니안_습식파우치_85g_X_12P' successfully processed.\n",
      "Images for product '네츄럴랩_케어2_강아지_가수분해_사료_위장간_2kg_유기농_70' successfully processed.\n",
      "Images for product '지그니쳐_그레인프리_강아지_눈물사료_화이트피쉬_포뮬라_1kg' successfully processed.\n",
      "Images for product '로얄캐닌_캣_인스팅티브_파우치_85g_체중유지_요로기계_고양이_습식_사료' successfully processed.\n",
      "Images for product '로얄캐닌_강아지사료_포메라니안_습식파우치_85g_X_12P' successfully processed.\n",
      "Images for product '하이독_알러컷_캥거루_500g_하이포알러제닉_체중_조절_다이어트_캥거루_알러지사료' successfully processed.\n",
      "Images for product '오리젠_강아지_사료_오리지널_독_11' successfully processed.\n",
      "Images for product '하이독_알러컷_캥거루_500g_하이포알러제닉_체중_조절_다이어트_캥거루_알러지사료' successfully processed.\n",
      "Images for product '로얄캐닌_캣_인스팅티브_파우치_85g_체중유지_요로기계_고양이_습식_사료' successfully processed.\n",
      "Images for product '하이독_알러컷_캥거루_500g_하이포알러제닉_체중_조절_다이어트_캥거루_알러지사료' successfully processed.\n",
      "Images for product '네츄럴랩_케어2_강아지_가수분해_사료_위장간_2kg_유기농_70' successfully processed.\n",
      "Images for product '오리젠_강아지_사료_오리지널_독_11' successfully processed.\n",
      "Images for product '도착보장_힐스_강아지사료_어덜트_라지브리드_6' successfully processed.\n",
      "Images for product '로얄캐닌_강아지사료_포메라니안_습식파우치_85g_X_12P' successfully processed.\n",
      "Images for product '지그니쳐_그레인프리_강아지_눈물사료_화이트피쉬_포뮬라_1kg' successfully processed.\n",
      "Images for product '도착보장_힐스_강아지사료_어덜트_라지브리드_6' successfully processed.\n",
      "Images for product '네츄럴랩_케어2_강아지_가수분해_사료_위장간_2kg_유기농_70' successfully processed.\n",
      "Images for product '지그니쳐_그레인프리_강아지_눈물사료_화이트피쉬_포뮬라_1kg' successfully processed.\n",
      "Images for product '로얄캐닌_캣_인스팅티브_파우치_85g_체중유지_요로기계_고양이_습식_사료' successfully processed.\n",
      "Images for product '로얄캐닌_캣_인스팅티브_파우치_85g_체중유지_요로기계_고양이_습식_사료' successfully processed.\n",
      "Images for product '오리젠_강아지_사료_오리지널_독_11' successfully processed.\n",
      "Images for product '지그니쳐_그레인프리_강아지_눈물사료_화이트피쉬_포뮬라_1kg' successfully processed.\n",
      "Images for product '네츄럴랩_케어2_강아지_가수분해_사료_위장간_2kg_유기농_70' successfully processed.\n",
      "Images for product '도착보장_힐스_강아지사료_어덜트_라지브리드_6' successfully processed.\n",
      "Images for product '로얄캐닌_강아지사료_포메라니안_습식파우치_85g_X_12P' successfully processed.\n",
      "Images for product '하이독_알러컷_캥거루_500g_하이포알러제닉_체중_조절_다이어트_캥거루_알러지사료' successfully processed.\n",
      "Images for product '로얄캐닌_강아지사료_포메라니안_습식파우치_85g_X_12P' successfully processed.\n",
      "Images for product '하이독_알러컷_캥거루_500g_하이포알러제닉_체중_조절_다이어트_캥거루_알러지사료' successfully processed.\n",
      "Images for product '오리젠_강아지_사료_오리지널_독_11' successfully processed.\n",
      "Images for product '로얄캐닌_강아지사료_포메라니안_습식파우치_85g_X_12P' successfully processed.\n",
      "Images for product '도착보장_힐스_강아지사료_어덜트_라지브리드_6' successfully processed.\n",
      "Images for product '네츄럴랩_케어2_강아지_가수분해_사료_위장간_2kg_유기농_70' successfully processed.\n",
      "Images for product '네츄럴랩_케어2_강아지_가수분해_사료_위장간_2kg_유기농_70' successfully processed.\n",
      "Images for product '로얄캐닌_캣_인스팅티브_파우치_85g_체중유지_요로기계_고양이_습식_사료' successfully processed.\n",
      "Images for product '로얄캐닌_캣_인스팅티브_파우치_85g_체중유지_요로기계_고양이_습식_사료' successfully processed.\n",
      "Images for product '지그니쳐_그레인프리_강아지_눈물사료_화이트피쉬_포뮬라_1kg' successfully processed.\n",
      "Images for product '하이독_알러컷_캥거루_500g_하이포알러제닉_체중_조절_다이어트_캥거루_알러지사료' successfully processed.\n",
      "Images for product '오리젠_강아지_사료_오리지널_독_11' successfully processed.\n",
      "Images for product '로얄캐닌_강아지사료_포메라니안_습식파우치_85g_X_12P' successfully processed.\n",
      "Images for product '도착보장_힐스_강아지사료_어덜트_라지브리드_6' successfully processed.\n",
      "Images for product '지그니쳐_그레인프리_강아지_눈물사료_화이트피쉬_포뮬라_1kg' successfully processed.\n",
      "Images for product '오리젠_강아지_사료_오리지널_독_11' successfully processed.\n",
      "Images for product '로얄캐닌_캣_인스팅티브_파우치_85g_체중유지_요로기계_고양이_습식_사료' successfully processed.\n",
      "Images for product '하이독_알러컷_캥거루_500g_하이포알러제닉_체중_조절_다이어트_캥거루_알러지사료' successfully processed.\n",
      "Images for product '오리젠_강아지_사료_오리지널_독_11' successfully processed.\n",
      "Images for product '도착보장_힐스_강아지사료_어덜트_라지브리드_6' successfully processed.\n",
      "Images for product '네츄럴랩_케어2_강아지_가수분해_사료_위장간_2kg_유기농_70' successfully processed.\n",
      "Images for product '하이독_알러컷_캥거루_500g_하이포알러제닉_체중_조절_다이어트_캥거루_알러지사료' successfully processed.\n",
      "Images for product '지그니쳐_그레인프리_강아지_눈물사료_화이트피쉬_포뮬라_1kg' successfully processed.\n",
      "Images for product '뉴트리나_비스트로_고양이사료_애묘_사료_6Kg_코스트코_건식_캣_대용량_건사료' successfully processed.\n",
      "Images for product '로얄캐닌_캣_인스팅티브_파우치_85g_체중유지_요로기계_고양이_습식_사료' successfully processed.\n",
      "Images for product '도착보장_힐스_강아지사료_어덜트_라지브리드_6' successfully processed.\n",
      "Images for product '지그니쳐_그레인프리_강아지_눈물사료_화이트피쉬_포뮬라_1kg' successfully processed.\n",
      "Images for product '로얄캐닌_강아지사료_포메라니안_습식파우치_85g_X_12P' successfully processed.\n",
      "Images for product '로얄캐닌_캣_인스팅티브_파우치_85g_체중유지_요로기계_고양이_습식_사료' successfully processed.\n",
      "Images for product '오리젠_강아지_사료_오리지널_독_11' successfully processed.\n",
      "Images for product '하이독_알러컷_캥거루_500g_하이포알러제닉_체중_조절_다이어트_캥거루_알러지사료' successfully processed.\n",
      "Images for product '오리젠_강아지_사료_오리지널_독_11' successfully processed.\n",
      "Images for product '네츄럴랩_케어2_강아지_가수분해_사료_위장간_2kg_유기농_70' successfully processed.\n",
      "Images for product '도착보장_힐스_강아지사료_어덜트_라지브리드_6' successfully processed.\n",
      "Images for product '로얄캐닌_강아지사료_포메라니안_습식파우치_85g_X_12P' successfully processed.\n",
      "Images for product '네츄럴랩_케어2_강아지_가수분해_사료_위장간_2kg_유기농_70' successfully processed.\n",
      "Images for product '하이독_알러컷_캥거루_500g_하이포알러제닉_체중_조절_다이어트_캥거루_알러지사료' successfully processed.\n",
      "Images for product '도착보장_힐스_강아지사료_어덜트_라지브리드_6' successfully processed.\n",
      "Images for product '로얄캐닌_캣_인스팅티브_파우치_85g_체중유지_요로기계_고양이_습식_사료' successfully processed.\n",
      "Images for product '지그니쳐_그레인프리_강아지_눈물사료_화이트피쉬_포뮬라_1kg' successfully processed.\n",
      "Images for product '로얄캐닌_강아지사료_포메라니안_습식파우치_85g_X_12P' successfully processed.\n",
      "Images for product '오리젠_강아지_사료_오리지널_독_11' successfully processed.\n",
      "Images for product '로얄캐닌_강아지사료_포메라니안_습식파우치_85g_X_12P' successfully processed.\n",
      "Images for product '도착보장_힐스_강아지사료_어덜트_라지브리드_6' successfully processed.\n",
      "Images for product '오리젠_강아지_사료_오리지널_독_11' successfully processed.\n",
      "Images for product '지그니쳐_그레인프리_강아지_눈물사료_화이트피쉬_포뮬라_1kg' successfully processed.\n",
      "Images for product '하이독_알러컷_캥거루_500g_하이포알러제닉_체중_조절_다이어트_캥거루_알러지사료' successfully processed.\n",
      "Images for product '로얄캐닌_캣_인스팅티브_파우치_85g_체중유지_요로기계_고양이_습식_사료' successfully processed.\n",
      "Images for product '네츄럴랩_케어2_강아지_가수분해_사료_위장간_2kg_유기농_70' successfully processed.\n",
      "Images for product '로얄캐닌_캣_인스팅티브_파우치_85g_체중유지_요로기계_고양이_습식_사료' successfully processed.\n",
      "Images for product '지그니쳐_그레인프리_강아지_눈물사료_화이트피쉬_포뮬라_1kg' successfully processed.\n",
      "Images for product '네츄럴랩_케어2_강아지_가수분해_사료_위장간_2kg_유기농_70' successfully processed.\n",
      "Images for product '네츄럴랩_케어2_강아지_가수분해_사료_위장간_2kg_유기농_70' successfully processed.\n",
      "Images for product '오리젠_강아지_사료_오리지널_독_11' successfully processed.\n",
      "Images for product '도착보장_힐스_강아지사료_어덜트_라지브리드_6' successfully processed.\n",
      "Images for product '하이독_알러컷_캥거루_500g_하이포알러제닉_체중_조절_다이어트_캥거루_알러지사료' successfully processed.\n",
      "Images for product '로얄캐닌_강아지사료_포메라니안_습식파우치_85g_X_12P' successfully processed.\n",
      "Images for product '로얄캐닌_강아지사료_포메라니안_습식파우치_85g_X_12P' successfully processed.\n",
      "Images for product '로얄캐닌_캣_인스팅티브_파우치_85g_체중유지_요로기계_고양이_습식_사료' successfully processed.\n",
      "Images for product '오리젠_강아지_사료_오리지널_독_11' successfully processed.\n",
      "Images for product '하이독_알러컷_캥거루_500g_하이포알러제닉_체중_조절_다이어트_캥거루_알러지사료' successfully processed.\n",
      "Images for product '지그니쳐_그레인프리_강아지_눈물사료_화이트피쉬_포뮬라_1kg' successfully processed.\n",
      "Images for product '도착보장_힐스_강아지사료_어덜트_라지브리드_6' successfully processed.\n",
      "Images for product '네츄럴랩_케어2_강아지_가수분해_사료_위장간_2kg_유기농_70' successfully processed.\n",
      "Images for product '하이독_알러컷_캥거루_500g_하이포알러제닉_체중_조절_다이어트_캥거루_알러지사료' successfully processed.\n",
      "Images for product '로얄캐닌_강아지사료_포메라니안_습식파우치_85g_X_12P' successfully processed.\n",
      "Images for product '지그니쳐_그레인프리_강아지_눈물사료_화이트피쉬_포뮬라_1kg' successfully processed.\n",
      "Images for product '로얄캐닌_캣_인스팅티브_파우치_85g_체중유지_요로기계_고양이_습식_사료' successfully processed.\n",
      "Images for product '도착보장_힐스_강아지사료_어덜트_라지브리드_6' successfully processed.\n",
      "Images for product '로얄캐닌_강아지사료_포메라니안_습식파우치_85g_X_12P' successfully processed.\n",
      "Images for product '오리젠_강아지_사료_오리지널_독_11' successfully processed.\n",
      "Images for product '지그니쳐_그레인프리_강아지_눈물사료_화이트피쉬_포뮬라_1kg' successfully processed.\n",
      "Images for product '네츄럴랩_케어2_강아지_가수분해_사료_위장간_2kg_유기농_70' successfully processed.\n",
      "Images for product '하이독_알러컷_캥거루_500g_하이포알러제닉_체중_조절_다이어트_캥거루_알러지사료' successfully processed.\n",
      "Images for product '오리젠_강아지_사료_오리지널_독_11' successfully processed.\n",
      "Images for product '도착보장_힐스_강아지사료_어덜트_라지브리드_6' successfully processed.\n",
      "Images for product '로얄캐닌_캣_인스팅티브_파우치_85g_체중유지_요로기계_고양이_습식_사료' successfully processed.\n",
      "Images for product '도착보장_힐스_강아지사료_어덜트_라지브리드_6' successfully processed.\n",
      "Images for product '로얄캐닌_강아지사료_포메라니안_습식파우치_85g_X_12P' successfully processed.\n",
      "Images for product '로얄캐닌_캣_인스팅티브_파우치_85g_체중유지_요로기계_고양이_습식_사료' successfully processed.\n",
      "Images for product '오리젠_강아지_사료_오리지널_독_11' successfully processed.\n",
      "Images for product '네츄럴랩_케어2_강아지_가수분해_사료_위장간_2kg_유기농_70' successfully processed.\n",
      "Images for product '지그니쳐_그레인프리_강아지_눈물사료_화이트피쉬_포뮬라_1kg' successfully processed.\n",
      "Images for product '하이독_알러컷_캥거루_500g_하이포알러제닉_체중_조절_다이어트_캥거루_알러지사료' successfully processed.\n",
      "Images for product '네츄럴랩_케어2_강아지_가수분해_사료_위장간_2kg_유기농_70' successfully processed.\n",
      "Images for product '로얄캐닌_강아지사료_포메라니안_습식파우치_85g_X_12P' successfully processed.\n",
      "Images for product '지그니쳐_그레인프리_강아지_눈물사료_화이트피쉬_포뮬라_1kg' successfully processed.\n",
      "Images for product '로얄캐닌_캣_인스팅티브_파우치_85g_체중유지_요로기계_고양이_습식_사료' successfully processed.\n",
      "Images for product '오리젠_강아지_사료_오리지널_독_11' successfully processed.\n",
      "Images for product '도착보장_힐스_강아지사료_어덜트_라지브리드_6' successfully processed.\n",
      "Images for product '하이독_알러컷_캥거루_500g_하이포알러제닉_체중_조절_다이어트_캥거루_알러지사료' successfully processed.\n",
      "Images for product '네츄럴랩_케어2_강아지_가수분해_사료_위장간_2kg_유기농_70' successfully processed.\n",
      "Images for product '로얄캐닌_캣_인스팅티브_파우치_85g_체중유지_요로기계_고양이_습식_사료' successfully processed.\n",
      "Images for product '도착보장_힐스_강아지사료_어덜트_라지브리드_6' successfully processed.\n",
      "Images for product '지그니쳐_그레인프리_강아지_눈물사료_화이트피쉬_포뮬라_1kg' successfully processed.\n",
      "Images for product '로얄캐닌_강아지사료_포메라니안_습식파우치_85g_X_12P' successfully processed.\n",
      "Images for product '하이독_알러컷_캥거루_500g_하이포알러제닉_체중_조절_다이어트_캥거루_알러지사료' successfully processed.\n",
      "Images for product '지그니쳐_그레인프리_강아지_눈물사료_화이트피쉬_포뮬라_1kg' successfully processed.\n",
      "Images for product '네츄럴랩_케어2_강아지_가수분해_사료_위장간_2kg_유기농_70' successfully processed.\n",
      "Images for product '하이독_알러컷_캥거루_500g_하이포알러제닉_체중_조절_다이어트_캥거루_알러지사료' successfully processed.\n",
      "Images for product '오리젠_강아지_사료_오리지널_독_11' successfully processed.\n",
      "Images for product '로얄캐닌_캣_인스팅티브_파우치_85g_체중유지_요로기계_고양이_습식_사료' successfully processed.\n",
      "Images for product '로얄캐닌_강아지사료_포메라니안_습식파우치_85g_X_12P' successfully processed.\n",
      "Images for product '오리젠_강아지_사료_오리지널_독_11' successfully processed.\n",
      "Images for product '도착보장_힐스_강아지사료_어덜트_라지브리드_6' successfully processed.\n",
      "Images for product '로얄캐닌_강아지사료_포메라니안_습식파우치_85g_X_12P' successfully processed.\n",
      "Images for product '지그니쳐_그레인프리_강아지_눈물사료_화이트피쉬_포뮬라_1kg' successfully processed.\n",
      "Images for product '하이독_알러컷_캥거루_500g_하이포알러제닉_체중_조절_다이어트_캥거루_알러지사료' successfully processed.\n",
      "Images for product '하이독_알러컷_캥거루_500g_하이포알러제닉_체중_조절_다이어트_캥거루_알러지사료' successfully processed.\n",
      "Images for product '오리젠_강아지_사료_오리지널_독_11' successfully processed.\n",
      "Images for product '도착보장_힐스_강아지사료_어덜트_라지브리드_6' successfully processed.\n",
      "Images for product '로얄캐닌_캣_인스팅티브_파우치_85g_체중유지_요로기계_고양이_습식_사료' successfully processed.\n",
      "Images for product '네츄럴랩_케어2_강아지_가수분해_사료_위장간_2kg_유기농_70' successfully processed.\n",
      "Images for product '도착보장_힐스_강아지사료_어덜트_라지브리드_6' successfully processed.\n",
      "Images for product '오리젠_강아지_사료_오리지널_독_11' successfully processed.\n",
      "Images for product '지그니쳐_그레인프리_강아지_눈물사료_화이트피쉬_포뮬라_1kg' successfully processed.\n",
      "Images for product '네츄럴랩_케어2_강아지_가수분해_사료_위장간_2kg_유기농_70' successfully processed.\n",
      "Images for product '지그니쳐_그레인프리_강아지_눈물사료_화이트피쉬_포뮬라_1kg' successfully processed.\n",
      "Images for product '로얄캐닌_강아지사료_포메라니안_습식파우치_85g_X_12P' successfully processed.\n",
      "Images for product '네츄럴랩_케어2_강아지_가수분해_사료_위장간_2kg_유기농_70' successfully processed.\n",
      "Images for product '하이독_알러컷_캥거루_500g_하이포알러제닉_체중_조절_다이어트_캥거루_알러지사료' successfully processed.\n",
      "Images for product '로얄캐닌_강아지사료_포메라니안_습식파우치_85g_X_12P' successfully processed.\n",
      "Images for product '로얄캐닌_캣_인스팅티브_파우치_85g_체중유지_요로기계_고양이_습식_사료' successfully processed.\n",
      "Images for product '로얄캐닌_캣_인스팅티브_파우치_85g_체중유지_요로기계_고양이_습식_사료' successfully processed.\n",
      "Images for product '도착보장_힐스_강아지사료_어덜트_라지브리드_6' successfully processed.\n",
      "Images for product '로얄캐닌_강아지사료_포메라니안_습식파우치_85g_X_12P' successfully processed.\n",
      "Images for product '오리젠_강아지_사료_오리지널_독_11' successfully processed.\n",
      "Images for product '하이독_알러컷_캥거루_500g_하이포알러제닉_체중_조절_다이어트_캥거루_알러지사료' successfully processed.\n",
      "Images for product '네츄럴랩_케어2_강아지_가수분해_사료_위장간_2kg_유기농_70' successfully processed.\n",
      "Images for product '로얄캐닌_캣_인스팅티브_파우치_85g_체중유지_요로기계_고양이_습식_사료' successfully processed.\n",
      "Images for product '지그니쳐_그레인프리_강아지_눈물사료_화이트피쉬_포뮬라_1kg' successfully processed.\n",
      "Images for product '로얄캐닌_강아지사료_포메라니안_습식파우치_85g_X_12P' successfully processed.\n",
      "Images for product '네츄럴랩_케어2_강아지_가수분해_사료_위장간_2kg_유기농_70' successfully processed.\n",
      "Images for product '하이독_알러컷_캥거루_500g_하이포알러제닉_체중_조절_다이어트_캥거루_알러지사료' successfully processed.\n",
      "Images for product '도착보장_힐스_강아지사료_어덜트_라지브리드_6' successfully processed.\n",
      "Images for product '지그니쳐_그레인프리_강아지_눈물사료_화이트피쉬_포뮬라_1kg' successfully processed.\n",
      "Images for product '오리젠_강아지_사료_오리지널_독_11' successfully processed.\n",
      "Images for product '도착보장_힐스_강아지사료_어덜트_라지브리드_6' successfully processed.\n",
      "Images for product '지그니쳐_그레인프리_강아지_눈물사료_화이트피쉬_포뮬라_1kg' successfully processed.\n",
      "Images for product '로얄캐닌_캣_인스팅티브_파우치_85g_체중유지_요로기계_고양이_습식_사료' successfully processed.\n",
      "Images for product '오리젠_강아지_사료_오리지널_독_11' successfully processed.\n",
      "Images for product '하이독_알러컷_캥거루_500g_하이포알러제닉_체중_조절_다이어트_캥거루_알러지사료' successfully processed.\n",
      "Images for product '로얄캐닌_캣_인스팅티브_파우치_85g_체중유지_요로기계_고양이_습식_사료' successfully processed.\n",
      "Images for product '오리젠_강아지_사료_오리지널_독_11' successfully processed.\n",
      "Images for product '도착보장_힐스_강아지사료_어덜트_라지브리드_6' successfully processed.\n",
      "Images for product '로얄캐닌_강아지사료_포메라니안_습식파우치_85g_X_12P' successfully processed.\n",
      "Images for product '로얄캐닌_강아지사료_포메라니안_습식파우치_85g_X_12P' successfully processed.\n",
      "Images for product '네츄럴랩_케어2_강아지_가수분해_사료_위장간_2kg_유기농_70' successfully processed.\n",
      "Images for product '지그니쳐_그레인프리_강아지_눈물사료_화이트피쉬_포뮬라_1kg' successfully processed.\n",
      "Images for product '네츄럴랩_케어2_강아지_가수분해_사료_위장간_2kg_유기농_70' successfully processed.\n",
      "Images for product '무마진_소프트사료_연어_황태_1kg' successfully processed.\n",
      "Images for product '로얄캐닌_캣_인스팅티브_파우치_85g_체중유지_요로기계_고양이_습식_사료' successfully processed.\n",
      "Images for product '도착보장_힐스_강아지사료_어덜트_라지브리드_6' successfully processed.\n",
      "Images for product '오리젠_강아지_사료_오리지널_독_11' successfully processed.\n",
      "Images for product '하이독_알러컷_캥거루_500g_하이포알러제닉_체중_조절_다이어트_캥거루_알러지사료' successfully processed.\n",
      "Images for product '로얄캐닌_강아지사료_포메라니안_습식파우치_85g_X_12P' successfully processed.\n",
      "Images for product '하이독_알러컷_캥거루_500g_하이포알러제닉_체중_조절_다이어트_캥거루_알러지사료' successfully processed.\n",
      "Images for product '네츄럴랩_케어2_강아지_가수분해_사료_위장간_2kg_유기농_70' successfully processed.\n",
      "Images for product '지그니쳐_그레인프리_강아지_눈물사료_화이트피쉬_포뮬라_1kg' successfully processed.\n",
      "Images for product '도착보장_힐스_강아지사료_어덜트_라지브리드_6' successfully processed.\n",
      "Images for product '도착보장_힐스_강아지사료_어덜트_라지브리드_6' successfully processed.\n",
      "Images for product '로얄캐닌_캣_인스팅티브_파우치_85g_체중유지_요로기계_고양이_습식_사료' successfully processed.\n",
      "Images for product '네츄럴랩_케어2_강아지_가수분해_사료_위장간_2kg_유기농_70' successfully processed.\n",
      "Images for product '오리젠_강아지_사료_오리지널_독_11' successfully processed.\n",
      "Images for product '로얄캐닌_캣_인스팅티브_파우치_85g_체중유지_요로기계_고양이_습식_사료' successfully processed.\n",
      "Images for product '하이독_알러컷_캥거루_500g_하이포알러제닉_체중_조절_다이어트_캥거루_알러지사료' successfully processed.\n",
      "Images for product '오리젠_강아지_사료_오리지널_독_11' successfully processed.\n",
      "Images for product '지그니쳐_그레인프리_강아지_눈물사료_화이트피쉬_포뮬라_1kg' successfully processed.\n",
      "Images for product '하이독_알러컷_캥거루_500g_하이포알러제닉_체중_조절_다이어트_캥거루_알러지사료' successfully processed.\n",
      "Images for product '로얄캐닌_강아지사료_포메라니안_습식파우치_85g_X_12P' successfully processed.\n",
      "Images for product '네츄럴랩_케어2_강아지_가수분해_사료_위장간_2kg_유기농_70' successfully processed.\n",
      "Images for product '로얄캐닌_강아지사료_포메라니안_습식파우치_85g_X_12P' successfully processed.\n",
      "Images for product '로얄캐닌_캣_인스팅티브_파우치_85g_체중유지_요로기계_고양이_습식_사료' successfully processed.\n",
      "Images for product '도착보장_힐스_강아지사료_어덜트_라지브리드_6' successfully processed.\n",
      "Images for product '로얄캐닌_강아지사료_포메라니안_습식파우치_85g_X_12P' successfully processed.\n",
      "Images for product '네츄럴랩_케어2_강아지_가수분해_사료_위장간_2kg_유기농_70' successfully processed.\n",
      "Images for product '오리젠_강아지_사료_오리지널_독_11' successfully processed.\n",
      "Images for product '하이독_알러컷_캥거루_500g_하이포알러제닉_체중_조절_다이어트_캥거루_알러지사료' successfully processed.\n",
      "Images for product '로얄캐닌_캣_인스팅티브_파우치_85g_체중유지_요로기계_고양이_습식_사료' successfully processed.\n",
      "Images for product '지그니쳐_그레인프리_강아지_눈물사료_화이트피쉬_포뮬라_1kg' successfully processed.\n",
      "Images for product '오리젠_강아지_사료_오리지널_독_11' successfully processed.\n",
      "Images for product '네츄럴랩_케어2_강아지_가수분해_사료_위장간_2kg_유기농_70' successfully processed.\n",
      "Images for product '로얄캐닌_강아지사료_포메라니안_습식파우치_85g_X_12P' successfully processed.\n",
      "Images for product '도착보장_힐스_강아지사료_어덜트_라지브리드_6' successfully processed.\n",
      "Images for product '지그니쳐_그레인프리_강아지_눈물사료_화이트피쉬_포뮬라_1kg' successfully processed.\n",
      "Images for product '로얄캐닌_캣_인스팅티브_파우치_85g_체중유지_요로기계_고양이_습식_사료' successfully processed.\n",
      "Images for product '도착보장_힐스_강아지사료_어덜트_라지브리드_6' successfully processed.\n",
      "Images for product '오리젠_강아지_사료_오리지널_독_11' successfully processed.\n",
      "Images for product '하이독_알러컷_캥거루_500g_하이포알러제닉_체중_조절_다이어트_캥거루_알러지사료' successfully processed.\n",
      "Images for product '네츄럴랩_케어2_강아지_가수분해_사료_위장간_2kg_유기농_70' successfully processed.\n",
      "Images for product '도착보장_힐스_강아지사료_어덜트_라지브리드_6' successfully processed.\n",
      "Images for product '로얄캐닌_강아지사료_포메라니안_습식파우치_85g_X_12P' successfully processed.\n",
      "Images for product '뉴트리나_비스트로_고양이사료_애묘_사료_6Kg_코스트코_건식_캣_대용량_건사료' successfully processed.\n",
      "Images for product '하이독_알러컷_캥거루_500g_하이포알러제닉_체중_조절_다이어트_캥거루_알러지사료' successfully processed.\n",
      "Images for product '오리젠_강아지_사료_오리지널_독_11' successfully processed.\n",
      "Images for product '로얄캐닌_강아지사료_포메라니안_습식파우치_85g_X_12P' successfully processed.\n",
      "Images for product '네츄럴랩_케어2_강아지_가수분해_사료_위장간_2kg_유기농_70' successfully processed.\n",
      "Images for product '로얄캐닌_캣_인스팅티브_파우치_85g_체중유지_요로기계_고양이_습식_사료' successfully processed.\n",
      "Images for product '네츄럴랩_케어2_강아지_가수분해_사료_위장간_2kg_유기농_70' successfully processed.\n",
      "Images for product '도착보장_힐스_강아지사료_어덜트_라지브리드_6' successfully processed.\n",
      "Images for product '로얄캐닌_캣_인스팅티브_파우치_85g_체중유지_요로기계_고양이_습식_사료' successfully processed.\n",
      "Images for product '하이독_알러컷_캥거루_500g_하이포알러제닉_체중_조절_다이어트_캥거루_알러지사료' successfully processed.\n",
      "Images for product '지그니쳐_그레인프리_강아지_눈물사료_화이트피쉬_포뮬라_1kg' successfully processed.\n",
      "Images for product '지그니쳐_그레인프리_강아지_눈물사료_화이트피쉬_포뮬라_1kg' successfully processed.\n",
      "Images for product '로얄캐닌_강아지사료_포메라니안_습식파우치_85g_X_12P' successfully processed.\n",
      "Images for product '오리젠_강아지_사료_오리지널_독_11' successfully processed.\n",
      "Images for product '하이독_알러컷_캥거루_500g_하이포알러제닉_체중_조절_다이어트_캥거루_알러지사료' successfully processed.\n",
      "Images for product '지그니쳐_그레인프리_강아지_눈물사료_화이트피쉬_포뮬라_1kg' successfully processed.\n",
      "Images for product '로얄캐닌_캣_인스팅티브_파우치_85g_체중유지_요로기계_고양이_습식_사료' successfully processed.\n",
      "Images for product '오리젠_강아지_사료_오리지널_독_11' successfully processed.\n",
      "Images for product '도착보장_힐스_강아지사료_어덜트_라지브리드_6' successfully processed.\n",
      "Images for product '로얄캐닌_강아지사료_포메라니안_습식파우치_85g_X_12P' successfully processed.\n",
      "Images for product '네츄럴랩_케어2_강아지_가수분해_사료_위장간_2kg_유기농_70' successfully processed.\n",
      "Images for product '지그니쳐_그레인프리_강아지_눈물사료_화이트피쉬_포뮬라_1kg' successfully processed.\n",
      "Images for product '하이독_알러컷_캥거루_500g_하이포알러제닉_체중_조절_다이어트_캥거루_알러지사료' successfully processed.\n",
      "Images for product '로얄캐닌_캣_인스팅티브_파우치_85g_체중유지_요로기계_고양이_습식_사료' successfully processed.\n",
      "Images for product '지그니쳐_그레인프리_강아지_눈물사료_화이트피쉬_포뮬라_1kg' successfully processed.\n",
      "Images for product '오리젠_강아지_사료_오리지널_독_11' successfully processed.\n",
      "Images for product '로얄캐닌_강아지사료_포메라니안_습식파우치_85g_X_12P' successfully processed.\n",
      "Images for product '도착보장_힐스_강아지사료_어덜트_라지브리드_6' successfully processed.\n",
      "Images for product '하이독_알러컷_캥거루_500g_하이포알러제닉_체중_조절_다이어트_캥거루_알러지사료' successfully processed.\n",
      "Images for product '네츄럴랩_케어2_강아지_가수분해_사료_위장간_2kg_유기농_70' successfully processed.\n",
      "Images for product '도착보장_힐스_강아지사료_어덜트_라지브리드_6' successfully processed.\n",
      "Images for product '로얄캐닌_강아지사료_포메라니안_습식파우치_85g_X_12P' successfully processed.\n",
      "Images for product '로얄캐닌_캣_인스팅티브_파우치_85g_체중유지_요로기계_고양이_습식_사료' successfully processed.\n",
      "Images for product '지그니쳐_그레인프리_강아지_눈물사료_화이트피쉬_포뮬라_1kg' successfully processed.\n",
      "Images for product '하이독_알러컷_캥거루_500g_하이포알러제닉_체중_조절_다이어트_캥거루_알러지사료' successfully processed.\n",
      "Images for product '오리젠_강아지_사료_오리지널_독_11' successfully processed.\n",
      "Images for product '네츄럴랩_케어2_강아지_가수분해_사료_위장간_2kg_유기농_70' successfully processed.\n",
      "Images for product '도착보장_힐스_강아지사료_어덜트_라지브리드_6' successfully processed.\n",
      "Images for product '로얄캐닌_캣_인스팅티브_파우치_85g_체중유지_요로기계_고양이_습식_사료' successfully processed.\n",
      "Images for product '하이독_알러컷_캥거루_500g_하이포알러제닉_체중_조절_다이어트_캥거루_알러지사료' successfully processed.\n",
      "Images for product '네츄럴랩_케어2_강아지_가수분해_사료_위장간_2kg_유기농_70' successfully processed.\n",
      "Images for product '지그니쳐_그레인프리_강아지_눈물사료_화이트피쉬_포뮬라_1kg' successfully processed.\n",
      "Images for product '오리젠_강아지_사료_오리지널_독_11' successfully processed.\n",
      "Images for product '로얄캐닌_강아지사료_포메라니안_습식파우치_85g_X_12P' successfully processed.\n",
      "Images for product '로얄캐닌_강아지사료_포메라니안_습식파우치_85g_X_12P' successfully processed.\n",
      "Images for product '도착보장_힐스_강아지사료_어덜트_라지브리드_6' successfully processed.\n",
      "Images for product '네츄럴랩_케어2_강아지_가수분해_사료_위장간_2kg_유기농_70' successfully processed.\n",
      "Images for product '오리젠_강아지_사료_오리지널_독_11' successfully processed.\n",
      "Images for product '로얄캐닌_캣_인스팅티브_파우치_85g_체중유지_요로기계_고양이_습식_사료' successfully processed.\n",
      "Images for product '로얄캐닌_강아지사료_포메라니안_습식파우치_85g_X_12P' successfully processed.\n",
      "Images for product '지그니쳐_그레인프리_강아지_눈물사료_화이트피쉬_포뮬라_1kg' successfully processed.\n",
      "Images for product '하이독_알러컷_캥거루_500g_하이포알러제닉_체중_조절_다이어트_캥거루_알러지사료' successfully processed.\n",
      "Images for product '도착보장_힐스_강아지사료_어덜트_라지브리드_6' successfully processed.\n",
      "Images for product '네츄럴랩_케어2_강아지_가수분해_사료_위장간_2kg_유기농_70' successfully processed.\n",
      "Images for product '도착보장_힐스_강아지사료_어덜트_라지브리드_6' successfully processed.\n",
      "Images for product '오리젠_강아지_사료_오리지널_독_11' successfully processed.\n",
      "Images for product '하이독_알러컷_캥거루_500g_하이포알러제닉_체중_조절_다이어트_캥거루_알러지사료' successfully processed.\n",
      "Images for product '오리젠_강아지_사료_오리지널_독_11' successfully processed.\n",
      "Images for product '지그니쳐_그레인프리_강아지_눈물사료_화이트피쉬_포뮬라_1kg' successfully processed.\n",
      "Images for product '로얄캐닌_강아지사료_포메라니안_습식파우치_85g_X_12P' successfully processed.\n",
      "Images for product '지그니쳐_그레인프리_강아지_눈물사료_화이트피쉬_포뮬라_1kg' successfully processed.\n",
      "Images for product '네츄럴랩_케어2_강아지_가수분해_사료_위장간_2kg_유기농_70' successfully processed.\n",
      "Images for product '하이독_알러컷_캥거루_500g_하이포알러제닉_체중_조절_다이어트_캥거루_알러지사료' successfully processed.\n",
      "Images for product '오리젠_강아지_사료_오리지널_독_11' successfully processed.\n",
      "Images for product '네츄럴랩_케어2_강아지_가수분해_사료_위장간_2kg_유기농_70' successfully processed.\n",
      "Images for product '도착보장_힐스_강아지사료_어덜트_라지브리드_6' successfully processed.\n",
      "Images for product '네츄럴랩_케어2_강아지_가수분해_사료_위장간_2kg_유기농_70' successfully processed.\n",
      "Images for product '하이독_알러컷_캥거루_500g_하이포알러제닉_체중_조절_다이어트_캥거루_알러지사료' successfully processed.\n",
      "Images for product '로얄캐닌_강아지사료_포메라니안_습식파우치_85g_X_12P' successfully processed.\n",
      "Images for product '지그니쳐_그레인프리_강아지_눈물사료_화이트피쉬_포뮬라_1kg' successfully processed.\n",
      "Images for product '하이독_알러컷_캥거루_500g_하이포알러제닉_체중_조절_다이어트_캥거루_알러지사료' successfully processed.\n",
      "Images for product '로얄캐닌_캣_인스팅티브_파우치_85g_체중유지_요로기계_고양이_습식_사료' successfully processed.\n",
      "Images for product '도착보장_힐스_강아지사료_어덜트_라지브리드_6' successfully processed.\n",
      "Images for product '로얄캐닌_강아지사료_포메라니안_습식파우치_85g_X_12P' successfully processed.\n",
      "Images for product '로얄캐닌_강아지사료_포메라니안_습식파우치_85g_X_12P' successfully processed.\n",
      "Images for product '로얄캐닌_캣_인스팅티브_파우치_85g_체중유지_요로기계_고양이_습식_사료' successfully processed.\n",
      "Images for product '오리젠_강아지_사료_오리지널_독_11' successfully processed.\n",
      "Images for product '오리젠_강아지_사료_오리지널_독_11' successfully processed.\n",
      "Images for product '지그니쳐_그레인프리_강아지_눈물사료_화이트피쉬_포뮬라_1kg' successfully processed.\n",
      "Images for product '지그니쳐_그레인프리_강아지_눈물사료_화이트피쉬_포뮬라_1kg' successfully processed.\n",
      "Images for product '로얄캐닌_캣_인스팅티브_파우치_85g_체중유지_요로기계_고양이_습식_사료' successfully processed.\n",
      "Images for product '하이독_알러컷_캥거루_500g_하이포알러제닉_체중_조절_다이어트_캥거루_알러지사료' successfully processed.\n",
      "Images for product '네츄럴랩_케어2_강아지_가수분해_사료_위장간_2kg_유기농_70' successfully processed.\n",
      "Images for product '네츄럴랩_케어2_강아지_가수분해_사료_위장간_2kg_유기농_70' successfully processed.\n",
      "Images for product '지그니쳐_그레인프리_강아지_눈물사료_화이트피쉬_포뮬라_1kg' successfully processed.\n",
      "Images for product '하이독_알러컷_캥거루_500g_하이포알러제닉_체중_조절_다이어트_캥거루_알러지사료' successfully processed.\n",
      "Images for product '도착보장_힐스_강아지사료_어덜트_라지브리드_6' successfully processed.\n",
      "Images for product '로얄캐닌_강아지사료_포메라니안_습식파우치_85g_X_12P' successfully processed.\n",
      "Images for product '로얄캐닌_캣_인스팅티브_파우치_85g_체중유지_요로기계_고양이_습식_사료' successfully processed.\n",
      "Images for product '오리젠_강아지_사료_오리지널_독_11' successfully processed.\n",
      "Images for product '도착보장_힐스_강아지사료_어덜트_라지브리드_6' successfully processed.\n",
      "Images for product '로얄캐닌_캣_인스팅티브_파우치_85g_체중유지_요로기계_고양이_습식_사료' successfully processed.\n",
      "Images for product '로얄캐닌_강아지사료_포메라니안_습식파우치_85g_X_12P' successfully processed.\n",
      "Images for product '네츄럴랩_케어2_강아지_가수분해_사료_위장간_2kg_유기농_70' successfully processed.\n",
      "Images for product '지그니쳐_그레인프리_강아지_눈물사료_화이트피쉬_포뮬라_1kg' successfully processed.\n",
      "Images for product '도착보장_힐스_강아지사료_어덜트_라지브리드_6' successfully processed.\n",
      "Images for product '오리젠_강아지_사료_오리지널_독_11' successfully processed.\n",
      "Images for product '하이독_알러컷_캥거루_500g_하이포알러제닉_체중_조절_다이어트_캥거루_알러지사료' successfully processed.\n",
      "Images for product '로얄캐닌_캣_인스팅티브_파우치_85g_체중유지_요로기계_고양이_습식_사료' successfully processed.\n",
      "Images for product '로얄캐닌_강아지사료_포메라니안_습식파우치_85g_X_12P' successfully processed.\n",
      "Images for product '네츄럴랩_케어2_강아지_가수분해_사료_위장간_2kg_유기농_70' successfully processed.\n",
      "Images for product '지그니쳐_그레인프리_강아지_눈물사료_화이트피쉬_포뮬라_1kg' successfully processed.\n",
      "Images for product '도착보장_힐스_강아지사료_어덜트_라지브리드_6' successfully processed.\n",
      "Images for product '하이독_알러컷_캥거루_500g_하이포알러제닉_체중_조절_다이어트_캥거루_알러지사료' successfully processed.\n",
      "Images for product '로얄캐닌_강아지사료_포메라니안_습식파우치_85g_X_12P' successfully processed.\n",
      "Images for product '지그니쳐_그레인프리_강아지_눈물사료_화이트피쉬_포뮬라_1kg' successfully processed.\n",
      "Images for product '하이독_알러컷_캥거루_500g_하이포알러제닉_체중_조절_다이어트_캥거루_알러지사료' successfully processed.\n",
      "Images for product '로얄캐닌_강아지사료_포메라니안_습식파우치_85g_X_12P' successfully processed.\n",
      "Images for product '지그니쳐_그레인프리_강아지_눈물사료_화이트피쉬_포뮬라_1kg' successfully processed.\n",
      "Images for product '오리젠_강아지_사료_오리지널_독_11' successfully processed.\n",
      "Images for product '네츄럴랩_케어2_강아지_가수분해_사료_위장간_2kg_유기농_70' successfully processed.\n",
      "Images for product '도착보장_힐스_강아지사료_어덜트_라지브리드_6' successfully processed.\n",
      "Images for product '로얄캐닌_캣_인스팅티브_파우치_85g_체중유지_요로기계_고양이_습식_사료' successfully processed.\n",
      "Images for product '네츄럴랩_케어2_강아지_가수분해_사료_위장간_2kg_유기농_70' successfully processed.\n",
      "Images for product '도착보장_힐스_강아지사료_어덜트_라지브리드_6' successfully processed.\n",
      "Images for product '로얄캐닌_캣_인스팅티브_파우치_85g_체중유지_요로기계_고양이_습식_사료' successfully processed.\n",
      "Images for product '오리젠_강아지_사료_오리지널_독_11' successfully processed.\n",
      "Images for product '하이독_알러컷_캥거루_500g_하이포알러제닉_체중_조절_다이어트_캥거루_알러지사료' successfully processed.\n",
      "Images for product '하이독_알러컷_캥거루_500g_하이포알러제닉_체중_조절_다이어트_캥거루_알러지사료' successfully processed.\n",
      "Images for product '도착보장_힐스_강아지사료_어덜트_라지브리드_6' successfully processed.\n",
      "Images for product '네츄럴랩_케어2_강아지_가수분해_사료_위장간_2kg_유기농_70' successfully processed.\n",
      "Images for product '로얄캐닌_강아지사료_포메라니안_습식파우치_85g_X_12P' successfully processed.\n",
      "Images for product '지그니쳐_그레인프리_강아지_눈물사료_화이트피쉬_포뮬라_1kg' successfully processed.\n",
      "Images for product '로얄캐닌_캣_인스팅티브_파우치_85g_체중유지_요로기계_고양이_습식_사료' successfully processed.\n",
      "Images for product '지그니쳐_그레인프리_강아지_눈물사료_화이트피쉬_포뮬라_1kg' successfully processed.\n",
      "Images for product '오리젠_강아지_사료_오리지널_독_11' successfully processed.\n",
      "Images for product '오리젠_강아지_사료_오리지널_독_11' successfully processed.\n",
      "Images for product '로얄캐닌_강아지사료_포메라니안_습식파우치_85g_X_12P' successfully processed.\n",
      "Images for product '네츄럴랩_케어2_강아지_가수분해_사료_위장간_2kg_유기농_70' successfully processed.\n",
      "Images for product '하이독_알러컷_캥거루_500g_하이포알러제닉_체중_조절_다이어트_캥거루_알러지사료' successfully processed.\n",
      "Images for product '로얄캐닌_강아지사료_포메라니안_습식파우치_85g_X_12P' successfully processed.\n",
      "Images for product '도착보장_힐스_강아지사료_어덜트_라지브리드_6' successfully processed.\n",
      "Images for product '하이독_알러컷_캥거루_500g_하이포알러제닉_체중_조절_다이어트_캥거루_알러지사료' successfully processed.\n",
      "Images for product '로얄캐닌_강아지사료_포메라니안_습식파우치_85g_X_12P' successfully processed.\n",
      "Images for product '로얄캐닌_캣_인스팅티브_파우치_85g_체중유지_요로기계_고양이_습식_사료' successfully processed.\n",
      "Images for product '오리젠_강아지_사료_오리지널_독_11' successfully processed.\n",
      "Images for product '지그니쳐_그레인프리_강아지_눈물사료_화이트피쉬_포뮬라_1kg' successfully processed.\n",
      "Images for product '네츄럴랩_케어2_강아지_가수분해_사료_위장간_2kg_유기농_70' successfully processed.\n",
      "Images for product '도착보장_힐스_강아지사료_어덜트_라지브리드_6' successfully processed.\n",
      "Images for product '오리젠_강아지_사료_오리지널_독_11' successfully processed.\n",
      "Images for product '로얄캐닌_캣_인스팅티브_파우치_85g_체중유지_요로기계_고양이_습식_사료' successfully processed.\n",
      "Images for product '로얄캐닌_강아지사료_포메라니안_습식파우치_85g_X_12P' successfully processed.\n",
      "Images for product '지그니쳐_그레인프리_강아지_눈물사료_화이트피쉬_포뮬라_1kg' successfully processed.\n",
      "Images for product '도착보장_힐스_강아지사료_어덜트_라지브리드_6' successfully processed.\n",
      "Images for product '지그니쳐_그레인프리_강아지_눈물사료_화이트피쉬_포뮬라_1kg' successfully processed.\n",
      "Images for product '하이독_알러컷_캥거루_500g_하이포알러제닉_체중_조절_다이어트_캥거루_알러지사료' successfully processed.\n",
      "Images for product '로얄캐닌_캣_인스팅티브_파우치_85g_체중유지_요로기계_고양이_습식_사료' successfully processed.\n",
      "Images for product '로얄캐닌_강아지사료_포메라니안_습식파우치_85g_X_12P' successfully processed.\n",
      "Images for product '오리젠_강아지_사료_오리지널_독_11' successfully processed.\n",
      "Images for product '네츄럴랩_케어2_강아지_가수분해_사료_위장간_2kg_유기농_70' successfully processed.\n",
      "Images for product '로얄캐닌_캣_인스팅티브_파우치_85g_체중유지_요로기계_고양이_습식_사료' successfully processed.\n",
      "Images for product '도착보장_힐스_강아지사료_어덜트_라지브리드_6' successfully processed.\n",
      "Images for product '지그니쳐_그레인프리_강아지_눈물사료_화이트피쉬_포뮬라_1kg' successfully processed.\n",
      "Images for product '하이독_알러컷_캥거루_500g_하이포알러제닉_체중_조절_다이어트_캥거루_알러지사료' successfully processed.\n",
      "Images for product '오리젠_강아지_사료_오리지널_독_11' successfully processed.\n",
      "Images for product '로얄캐닌_강아지사료_포메라니안_습식파우치_85g_X_12P' successfully processed.\n",
      "Images for product '네츄럴랩_케어2_강아지_가수분해_사료_위장간_2kg_유기농_70' successfully processed.\n",
      "Images for product '네츄럴랩_케어2_강아지_가수분해_사료_위장간_2kg_유기농_70' successfully processed.\n",
      "Images for product '로얄캐닌_캣_인스팅티브_파우치_85g_체중유지_요로기계_고양이_습식_사료' successfully processed.\n",
      "Images for product '지그니쳐_그레인프리_강아지_눈물사료_화이트피쉬_포뮬라_1kg' successfully processed.\n",
      "Images for product '도착보장_힐스_강아지사료_어덜트_라지브리드_6' successfully processed.\n",
      "Images for product '오리젠_강아지_사료_오리지널_독_11' successfully processed.\n",
      "Images for product '네츄럴랩_케어2_강아지_가수분해_사료_위장간_2kg_유기농_70' successfully processed.\n",
      "Images for product '로얄캐닌_강아지사료_포메라니안_습식파우치_85g_X_12P' successfully processed.\n",
      "Images for product '지그니쳐_그레인프리_강아지_눈물사료_화이트피쉬_포뮬라_1kg' successfully processed.\n",
      "Images for product '도착보장_힐스_강아지사료_어덜트_라지브리드_6' successfully processed.\n",
      "Images for product '로얄캐닌_캣_인스팅티브_파우치_85g_체중유지_요로기계_고양이_습식_사료' successfully processed.\n",
      "Images for product '오리젠_강아지_사료_오리지널_독_11' successfully processed.\n",
      "Images for product '하이독_알러컷_캥거루_500g_하이포알러제닉_체중_조절_다이어트_캥거루_알러지사료' successfully processed.\n",
      "Images for product '지그니쳐_그레인프리_강아지_눈물사료_화이트피쉬_포뮬라_1kg' successfully processed.\n",
      "Images for product '로얄캐닌_캣_인스팅티브_파우치_85g_체중유지_요로기계_고양이_습식_사료' successfully processed.\n",
      "Images for product '네츄럴랩_케어2_강아지_가수분해_사료_위장간_2kg_유기농_70' successfully processed.\n",
      "Images for product '네츄럴랩_케어2_강아지_가수분해_사료_위장간_2kg_유기농_70' successfully processed.\n",
      "Images for product '로얄캐닌_캣_인스팅티브_파우치_85g_체중유지_요로기계_고양이_습식_사료' successfully processed.\n",
      "Images for product '로얄캐닌_강아지사료_포메라니안_습식파우치_85g_X_12P' successfully processed.\n",
      "Images for product '오리젠_강아지_사료_오리지널_독_11' successfully processed.\n",
      "Images for product '도착보장_힐스_강아지사료_어덜트_라지브리드_6' successfully processed.\n",
      "Images for product '하이독_알러컷_캥거루_500g_하이포알러제닉_체중_조절_다이어트_캥거루_알러지사료' successfully processed.\n",
      "Images for product '도착보장_힐스_강아지사료_어덜트_라지브리드_6' successfully processed.\n",
      "Images for product '로얄캐닌_강아지사료_포메라니안_습식파우치_85g_X_12P' successfully processed.\n",
      "Images for product '하이독_알러컷_캥거루_500g_하이포알러제닉_체중_조절_다이어트_캥거루_알러지사료' successfully processed.\n",
      "Images for product '오리젠_강아지_사료_오리지널_독_11' successfully processed.\n",
      "Images for product '네츄럴랩_케어2_강아지_가수분해_사료_위장간_2kg_유기농_70' successfully processed.\n",
      "Images for product '로얄캐닌_강아지사료_포메라니안_습식파우치_85g_X_12P' successfully processed.\n",
      "Images for product '지그니쳐_그레인프리_강아지_눈물사료_화이트피쉬_포뮬라_1kg' successfully processed.\n",
      "Images for product '지그니쳐_그레인프리_강아지_눈물사료_화이트피쉬_포뮬라_1kg' successfully processed.\n",
      "Images for product '오리젠_강아지_사료_오리지널_독_11' successfully processed.\n",
      "Images for product '로얄캐닌_강아지사료_포메라니안_습식파우치_85g_X_12P' successfully processed.\n",
      "Images for product '로얄캐닌_캣_인스팅티브_파우치_85g_체중유지_요로기계_고양이_습식_사료' successfully processed.\n",
      "Images for product '하이독_알러컷_캥거루_500g_하이포알러제닉_체중_조절_다이어트_캥거루_알러지사료' successfully processed.\n",
      "Images for product '로얄캐닌_캣_인스팅티브_파우치_85g_체중유지_요로기계_고양이_습식_사료' successfully processed.\n",
      "Images for product '하이독_알러컷_캥거루_500g_하이포알러제닉_체중_조절_다이어트_캥거루_알러지사료' successfully processed.\n",
      "Images for product '로얄캐닌_강아지사료_포메라니안_습식파우치_85g_X_12P' successfully processed.\n",
      "Images for product '도착보장_힐스_강아지사료_어덜트_라지브리드_6' successfully processed.\n",
      "Images for product '오리젠_강아지_사료_오리지널_독_11' successfully processed.\n",
      "Images for product '로얄캐닌_캣_인스팅티브_파우치_85g_체중유지_요로기계_고양이_습식_사료' successfully processed.\n",
      "Images for product '하이독_알러컷_캥거루_500g_하이포알러제닉_체중_조절_다이어트_캥거루_알러지사료' successfully processed.\n",
      "Images for product '네츄럴랩_케어2_강아지_가수분해_사료_위장간_2kg_유기농_70' successfully processed.\n",
      "Images for product '지그니쳐_그레인프리_강아지_눈물사료_화이트피쉬_포뮬라_1kg' successfully processed.\n",
      "Images for product '도착보장_힐스_강아지사료_어덜트_라지브리드_6' successfully processed.\n",
      "Images for product '로얄캐닌_강아지사료_포메라니안_습식파우치_85g_X_12P' successfully processed.\n",
      "Images for product '지그니쳐_그레인프리_강아지_눈물사료_화이트피쉬_포뮬라_1kg' successfully processed.\n",
      "Images for product '네츄럴랩_케어2_강아지_가수분해_사료_위장간_2kg_유기농_70' successfully processed.\n",
      "Images for product '도착보장_힐스_강아지사료_어덜트_라지브리드_6' successfully processed.\n",
      "Images for product '지그니쳐_그레인프리_강아지_눈물사료_화이트피쉬_포뮬라_1kg' successfully processed.\n",
      "Images for product '하이독_알러컷_캥거루_500g_하이포알러제닉_체중_조절_다이어트_캥거루_알러지사료' successfully processed.\n",
      "Images for product '네츄럴랩_케어2_강아지_가수분해_사료_위장간_2kg_유기농_70' successfully processed.\n",
      "Images for product '도착보장_힐스_강아지사료_어덜트_라지브리드_6' successfully processed.\n",
      "Images for product '로얄캐닌_캣_인스팅티브_파우치_85g_체중유지_요로기계_고양이_습식_사료' successfully processed.\n",
      "Images for product '오리젠_강아지_사료_오리지널_독_11' successfully processed.\n",
      "Images for product '로얄캐닌_캣_인스팅티브_파우치_85g_체중유지_요로기계_고양이_습식_사료' successfully processed.\n",
      "Images for product '오리젠_강아지_사료_오리지널_독_11' successfully processed.\n",
      "Images for product '하이독_알러컷_캥거루_500g_하이포알러제닉_체중_조절_다이어트_캥거루_알러지사료' successfully processed.\n",
      "Images for product '네츄럴랩_케어2_강아지_가수분해_사료_위장간_2kg_유기농_70' successfully processed.\n",
      "Images for product '오리젠_강아지_사료_오리지널_독_11' successfully processed.\n",
      "Images for product '도착보장_힐스_강아지사료_어덜트_라지브리드_6' successfully processed.\n",
      "Images for product '네츄럴랩_케어2_강아지_가수분해_사료_위장간_2kg_유기농_70' successfully processed.\n",
      "Images for product '지그니쳐_그레인프리_강아지_눈물사료_화이트피쉬_포뮬라_1kg' successfully processed.\n",
      "Images for product '로얄캐닌_강아지사료_포메라니안_습식파우치_85g_X_12P' successfully processed.\n",
      "Images for product '로얄캐닌_강아지사료_포메라니안_습식파우치_85g_X_12P' successfully processed.\n",
      "Images for product '로얄캐닌_캣_인스팅티브_파우치_85g_체중유지_요로기계_고양이_습식_사료' successfully processed.\n",
      "Images for product '지그니쳐_그레인프리_강아지_눈물사료_화이트피쉬_포뮬라_1kg' successfully processed.\n",
      "Images for product '오리젠_강아지_사료_오리지널_독_11' successfully processed.\n",
      "Images for product '도착보장_힐스_강아지사료_어덜트_라지브리드_6' successfully processed.\n",
      "Images for product '네츄럴랩_케어2_강아지_가수분해_사료_위장간_2kg_유기농_70' successfully processed.\n",
      "Images for product '하이독_알러컷_캥거루_500g_하이포알러제닉_체중_조절_다이어트_캥거루_알러지사료' successfully processed.\n",
      "Images for product '로얄캐닌_강아지사료_포메라니안_습식파우치_85g_X_12P' successfully processed.\n",
      "Images for product '도착보장_힐스_강아지사료_어덜트_라지브리드_6' successfully processed.\n",
      "Images for product '로얄캐닌_캣_인스팅티브_파우치_85g_체중유지_요로기계_고양이_습식_사료' successfully processed.\n",
      "Images for product '하이독_알러컷_캥거루_500g_하이포알러제닉_체중_조절_다이어트_캥거루_알러지사료' successfully processed.\n",
      "Images for product '로얄캐닌_강아지사료_포메라니안_습식파우치_85g_X_12P' successfully processed.\n",
      "Images for product '지그니쳐_그레인프리_강아지_눈물사료_화이트피쉬_포뮬라_1kg' successfully processed.\n",
      "Images for product '네츄럴랩_케어2_강아지_가수분해_사료_위장간_2kg_유기농_70' successfully processed.\n",
      "Images for product '오리젠_강아지_사료_오리지널_독_11' successfully processed.\n",
      "Images for product '로얄캐닌_캣_인스팅티브_파우치_85g_체중유지_요로기계_고양이_습식_사료' successfully processed.\n",
      "Images for product '오리젠_강아지_사료_오리지널_독_11' successfully processed.\n",
      "Images for product '지그니쳐_그레인프리_강아지_눈물사료_화이트피쉬_포뮬라_1kg' successfully processed.\n",
      "Images for product '로얄캐닌_강아지사료_포메라니안_습식파우치_85g_X_12P' successfully processed.\n",
      "Images for product '네츄럴랩_케어2_강아지_가수분해_사료_위장간_2kg_유기농_70' successfully processed.\n",
      "Images for product '도착보장_힐스_강아지사료_어덜트_라지브리드_6' successfully processed.\n",
      "Images for product '하이독_알러컷_캥거루_500g_하이포알러제닉_체중_조절_다이어트_캥거루_알러지사료' successfully processed.\n",
      "Images for product '오리젠_강아지_사료_오리지널_독_11' successfully processed.\n",
      "Images for product '지그니쳐_그레인프리_강아지_눈물사료_화이트피쉬_포뮬라_1kg' successfully processed.\n",
      "Images for product '네츄럴랩_케어2_강아지_가수분해_사료_위장간_2kg_유기농_70' successfully processed.\n",
      "Images for product '도착보장_힐스_강아지사료_어덜트_라지브리드_6' successfully processed.\n",
      "Images for product '로얄캐닌_캣_인스팅티브_파우치_85g_체중유지_요로기계_고양이_습식_사료' successfully processed.\n",
      "Images for product '도착보장_힐스_강아지사료_어덜트_라지브리드_6' successfully processed.\n",
      "Images for product '하이독_알러컷_캥거루_500g_하이포알러제닉_체중_조절_다이어트_캥거루_알러지사료' successfully processed.\n",
      "Images for product '하이독_알러컷_캥거루_500g_하이포알러제닉_체중_조절_다이어트_캥거루_알러지사료' successfully processed.\n",
      "Images for product '오리젠_강아지_사료_오리지널_독_11' successfully processed.\n",
      "Images for product '로얄캐닌_강아지사료_포메라니안_습식파우치_85g_X_12P' successfully processed.\n",
      "Images for product '로얄캐닌_캣_인스팅티브_파우치_85g_체중유지_요로기계_고양이_습식_사료' successfully processed.\n",
      "Images for product '지그니쳐_그레인프리_강아지_눈물사료_화이트피쉬_포뮬라_1kg' successfully processed.\n",
      "Images for product '지그니쳐_그레인프리_강아지_눈물사료_화이트피쉬_포뮬라_1kg' successfully processed.\n",
      "Images for product '로얄캐닌_강아지사료_포메라니안_습식파우치_85g_X_12P' successfully processed.\n",
      "Images for product '로얄캐닌_캣_인스팅티브_파우치_85g_체중유지_요로기계_고양이_습식_사료' successfully processed.\n",
      "Images for product '하이독_알러컷_캥거루_500g_하이포알러제닉_체중_조절_다이어트_캥거루_알러지사료' successfully processed.\n",
      "Images for product '네츄럴랩_케어2_강아지_가수분해_사료_위장간_2kg_유기농_70' successfully processed.\n",
      "Images for product '도착보장_힐스_강아지사료_어덜트_라지브리드_6' successfully processed.\n",
      "Images for product '하이독_알러컷_캥거루_500g_하이포알러제닉_체중_조절_다이어트_캥거루_알러지사료' successfully processed.\n",
      "Images for product '로얄캐닌_캣_인스팅티브_파우치_85g_체중유지_요로기계_고양이_습식_사료' successfully processed.\n",
      "Images for product '오리젠_강아지_사료_오리지널_독_11' successfully processed.\n",
      "Images for product '네츄럴랩_케어2_강아지_가수분해_사료_위장간_2kg_유기농_70' successfully processed.\n",
      "Images for product '도착보장_힐스_강아지사료_어덜트_라지브리드_6' successfully processed.\n",
      "Images for product '오리젠_강아지_사료_오리지널_독_11' successfully processed.\n",
      "Images for product '네츄럴랩_케어2_강아지_가수분해_사료_위장간_2kg_유기농_70' successfully processed.\n",
      "Images for product '지그니쳐_그레인프리_강아지_눈물사료_화이트피쉬_포뮬라_1kg' successfully processed.\n",
      "Images for product '로얄캐닌_강아지사료_포메라니안_습식파우치_85g_X_12P' successfully processed.\n",
      "Images for product '로얄캐닌_캣_인스팅티브_파우치_85g_체중유지_요로기계_고양이_습식_사료' successfully processed.\n",
      "Images for product '지그니쳐_그레인프리_강아지_눈물사료_화이트피쉬_포뮬라_1kg' successfully processed.\n",
      "Images for product '하이독_알러컷_캥거루_500g_하이포알러제닉_체중_조절_다이어트_캥거루_알러지사료' successfully processed.\n",
      "Images for product '오리젠_강아지_사료_오리지널_독_11' successfully processed.\n",
      "Images for product '로얄캐닌_강아지사료_포메라니안_습식파우치_85g_X_12P' successfully processed.\n",
      "Images for product '도착보장_힐스_강아지사료_어덜트_라지브리드_6' successfully processed.\n",
      "Images for product '로얄캐닌_강아지사료_포메라니안_습식파우치_85g_X_12P' successfully processed.\n",
      "Images for product '지그니쳐_그레인프리_강아지_눈물사료_화이트피쉬_포뮬라_1kg' successfully processed.\n",
      "Images for product '로얄캐닌_캣_인스팅티브_파우치_85g_체중유지_요로기계_고양이_습식_사료' successfully processed.\n",
      "Images for product '네츄럴랩_케어2_강아지_가수분해_사료_위장간_2kg_유기농_70' successfully processed.\n",
      "Images for product '하이독_알러컷_캥거루_500g_하이포알러제닉_체중_조절_다이어트_캥거루_알러지사료' successfully processed.\n",
      "Images for product '네츄럴랩_케어2_강아지_가수분해_사료_위장간_2kg_유기농_70' successfully processed.\n",
      "Images for product '오리젠_강아지_사료_오리지널_독_11' successfully processed.\n",
      "Images for product '도착보장_힐스_강아지사료_어덜트_라지브리드_6' successfully processed.\n",
      "Images for product '지그니쳐_그레인프리_강아지_눈물사료_화이트피쉬_포뮬라_1kg' successfully processed.\n",
      "Images for product '로얄캐닌_강아지사료_포메라니안_습식파우치_85g_X_12P' successfully processed.\n",
      "Images for product '로얄캐닌_캣_인스팅티브_파우치_85g_체중유지_요로기계_고양이_습식_사료' successfully processed.\n",
      "Images for product '하이독_알러컷_캥거루_500g_하이포알러제닉_체중_조절_다이어트_캥거루_알러지사료' successfully processed.\n",
      "Images for product '도착보장_힐스_강아지사료_어덜트_라지브리드_6' successfully processed.\n",
      "Images for product '로얄캐닌_강아지사료_포메라니안_습식파우치_85g_X_12P' successfully processed.\n",
      "Images for product '오리젠_강아지_사료_오리지널_독_11' successfully processed.\n",
      "Images for product '로얄캐닌_캣_인스팅티브_파우치_85g_체중유지_요로기계_고양이_습식_사료' successfully processed.\n",
      "Images for product '로얄캐닌_강아지사료_포메라니안_습식파우치_85g_X_12P' successfully processed.\n",
      "Images for product '네츄럴랩_케어2_강아지_가수분해_사료_위장간_2kg_유기농_70' successfully processed.\n",
      "Images for product '네츄럴랩_케어2_강아지_가수분해_사료_위장간_2kg_유기농_70' successfully processed.\n",
      "Images for product '하이독_알러컷_캥거루_500g_하이포알러제닉_체중_조절_다이어트_캥거루_알러지사료' successfully processed.\n",
      "Images for product '도착보장_힐스_강아지사료_어덜트_라지브리드_6' successfully processed.\n",
      "Images for product '지그니쳐_그레인프리_강아지_눈물사료_화이트피쉬_포뮬라_1kg' successfully processed.\n",
      "Images for product '오리젠_강아지_사료_오리지널_독_11' successfully processed.\n",
      "Images for product '로얄캐닌_캣_인스팅티브_파우치_85g_체중유지_요로기계_고양이_습식_사료' successfully processed.\n",
      "Images for product '하이독_알러컷_캥거루_500g_하이포알러제닉_체중_조절_다이어트_캥거루_알러지사료' successfully processed.\n",
      "Images for product '지그니쳐_그레인프리_강아지_눈물사료_화이트피쉬_포뮬라_1kg' successfully processed.\n",
      "Images for product '도착보장_힐스_강아지사료_어덜트_라지브리드_6' successfully processed.\n",
      "Images for product '로얄캐닌_강아지사료_포메라니안_습식파우치_85g_X_12P' successfully processed.\n",
      "Images for product '오리젠_강아지_사료_오리지널_독_11' successfully processed.\n",
      "Images for product '오리젠_강아지_사료_오리지널_독_11' successfully processed.\n",
      "Images for product '로얄캐닌_캣_인스팅티브_파우치_85g_체중유지_요로기계_고양이_습식_사료' successfully processed.\n",
      "Images for product '네츄럴랩_케어2_강아지_가수분해_사료_위장간_2kg_유기농_70' successfully processed.\n",
      "Images for product '네츄럴랩_케어2_강아지_가수분해_사료_위장간_2kg_유기농_70' successfully processed.\n",
      "Images for product '지그니쳐_그레인프리_강아지_눈물사료_화이트피쉬_포뮬라_1kg' successfully processed.\n",
      "Images for product '도착보장_힐스_강아지사료_어덜트_라지브리드_6' successfully processed.\n",
      "Images for product '로얄캐닌_강아지사료_포메라니안_습식파우치_85g_X_12P' successfully processed.\n",
      "Images for product '하이독_알러컷_캥거루_500g_하이포알러제닉_체중_조절_다이어트_캥거루_알러지사료' successfully processed.\n",
      "Images for product '로얄캐닌_캣_인스팅티브_파우치_85g_체중유지_요로기계_고양이_습식_사료' successfully processed.\n",
      "Images for product '네츄럴랩_케어2_강아지_가수분해_사료_위장간_2kg_유기농_70' successfully processed.\n",
      "Images for product '하이독_알러컷_캥거루_500g_하이포알러제닉_체중_조절_다이어트_캥거루_알러지사료' successfully processed.\n",
      "Images for product '도착보장_힐스_강아지사료_어덜트_라지브리드_6' successfully processed.\n",
      "Images for product '지그니쳐_그레인프리_강아지_눈물사료_화이트피쉬_포뮬라_1kg' successfully processed.\n",
      "Images for product '로얄캐닌_강아지사료_포메라니안_습식파우치_85g_X_12P' successfully processed.\n",
      "Images for product '로얄캐닌_캣_인스팅티브_파우치_85g_체중유지_요로기계_고양이_습식_사료' successfully processed.\n",
      "Images for product '로얄캐닌_강아지사료_포메라니안_습식파우치_85g_X_12P' successfully processed.\n",
      "Images for product '하이독_알러컷_캥거루_500g_하이포알러제닉_체중_조절_다이어트_캥거루_알러지사료' successfully processed.\n",
      "Images for product '오리젠_강아지_사료_오리지널_독_11' successfully processed.\n",
      "Images for product '오리젠_강아지_사료_오리지널_독_11' successfully processed.\n",
      "Images for product '지그니쳐_그레인프리_강아지_눈물사료_화이트피쉬_포뮬라_1kg' successfully processed.\n",
      "Images for product '지그니쳐_그레인프리_강아지_눈물사료_화이트피쉬_포뮬라_1kg' successfully processed.\n",
      "Images for product '네츄럴랩_케어2_강아지_가수분해_사료_위장간_2kg_유기농_70' successfully processed.\n",
      "Images for product '도착보장_힐스_강아지사료_어덜트_라지브리드_6' successfully processed.\n",
      "Images for product '로얄캐닌_캣_인스팅티브_파우치_85g_체중유지_요로기계_고양이_습식_사료' successfully processed.\n",
      "Images for product '하이독_알러컷_캥거루_500g_하이포알러제닉_체중_조절_다이어트_캥거루_알러지사료' successfully processed.\n",
      "Images for product '로얄캐닌_캣_인스팅티브_파우치_85g_체중유지_요로기계_고양이_습식_사료' successfully processed.\n",
      "Images for product '하이독_알러컷_캥거루_500g_하이포알러제닉_체중_조절_다이어트_캥거루_알러지사료' successfully processed.\n",
      "Images for product '오리젠_강아지_사료_오리지널_독_11' successfully processed.\n",
      "Images for product '도착보장_힐스_강아지사료_어덜트_라지브리드_6' successfully processed.\n",
      "Images for product '지그니쳐_그레인프리_강아지_눈물사료_화이트피쉬_포뮬라_1kg' successfully processed.\n",
      "Images for product '로얄캐닌_강아지사료_포메라니안_습식파우치_85g_X_12P' successfully processed.\n",
      "Images for product '네츄럴랩_케어2_강아지_가수분해_사료_위장간_2kg_유기농_70' successfully processed.\n",
      "Images for product '도착보장_힐스_강아지사료_어덜트_라지브리드_6' successfully processed.\n",
      "Images for product '오리젠_강아지_사료_오리지널_독_11' successfully processed.\n",
      "Images for product '지그니쳐_그레인프리_강아지_눈물사료_화이트피쉬_포뮬라_1kg' successfully processed.\n",
      "Images for product '뉴트리나_비스트로_고양이사료_애묘_사료_6Kg_코스트코_건식_캣_대용량_건사료' successfully processed.\n",
      "Images for product '하이독_알러컷_캥거루_500g_하이포알러제닉_체중_조절_다이어트_캥거루_알러지사료' successfully processed.\n",
      "Images for product '로얄캐닌_강아지사료_포메라니안_습식파우치_85g_X_12P' successfully processed.\n",
      "Images for product '네츄럴랩_케어2_강아지_가수분해_사료_위장간_2kg_유기농_70' successfully processed.\n",
      "Images for product '오리젠_강아지_사료_오리지널_독_11' successfully processed.\n",
      "Images for product '로얄캐닌_캣_인스팅티브_파우치_85g_체중유지_요로기계_고양이_습식_사료' successfully processed.\n",
      "Images for product '로얄캐닌_캣_인스팅티브_파우치_85g_체중유지_요로기계_고양이_습식_사료' successfully processed.\n",
      "Images for product '지그니쳐_그레인프리_강아지_눈물사료_화이트피쉬_포뮬라_1kg' successfully processed.\n",
      "Images for product '도착보장_힐스_강아지사료_어덜트_라지브리드_6' successfully processed.\n",
      "Images for product '하이독_알러컷_캥거루_500g_하이포알러제닉_체중_조절_다이어트_캥거루_알러지사료' successfully processed.\n",
      "Images for product '로얄캐닌_강아지사료_포메라니안_습식파우치_85g_X_12P' successfully processed.\n",
      "Images for product '네츄럴랩_케어2_강아지_가수분해_사료_위장간_2kg_유기농_70' successfully processed.\n",
      "Images for product '네츄럴랩_케어2_강아지_가수분해_사료_위장간_2kg_유기농_70' successfully processed.\n",
      "Images for product '로얄캐닌_캣_인스팅티브_파우치_85g_체중유지_요로기계_고양이_습식_사료' successfully processed.\n",
      "Images for product '도착보장_힐스_강아지사료_어덜트_라지브리드_6' successfully processed.\n",
      "Images for product '지그니쳐_그레인프리_강아지_눈물사료_화이트피쉬_포뮬라_1kg' successfully processed.\n",
      "Images for product '하이독_알러컷_캥거루_500g_하이포알러제닉_체중_조절_다이어트_캥거루_알러지사료' successfully processed.\n",
      "Images for product '오리젠_강아지_사료_오리지널_독_11' successfully processed.\n",
      "Images for product '로얄캐닌_강아지사료_포메라니안_습식파우치_85g_X_12P' successfully processed.\n",
      "Images for product '도착보장_힐스_강아지사료_어덜트_라지브리드_6' successfully processed.\n",
      "Images for product '오리젠_강아지_사료_오리지널_독_11' successfully processed.\n",
      "Images for product '로얄캐닌_캣_인스팅티브_파우치_85g_체중유지_요로기계_고양이_습식_사료' successfully processed.\n",
      "Images for product '하이독_알러컷_캥거루_500g_하이포알러제닉_체중_조절_다이어트_캥거루_알러지사료' successfully processed.\n",
      "Images for product '네츄럴랩_케어2_강아지_가수분해_사료_위장간_2kg_유기농_70' successfully processed.\n",
      "Images for product '도착보장_힐스_강아지사료_어덜트_라지브리드_6' successfully processed.\n",
      "Images for product '지그니쳐_그레인프리_강아지_눈물사료_화이트피쉬_포뮬라_1kg' successfully processed.\n",
      "Images for product '로얄캐닌_강아지사료_포메라니안_습식파우치_85g_X_12P' successfully processed.\n",
      "Images for product '네츄럴랩_케어2_강아지_가수분해_사료_위장간_2kg_유기농_70' successfully processed.\n",
      "Images for product '로얄캐닌_캣_인스팅티브_파우치_85g_체중유지_요로기계_고양이_습식_사료' successfully processed.\n",
      "Images for product '도착보장_힐스_강아지사료_어덜트_라지브리드_6' successfully processed.\n",
      "Images for product '지그니쳐_그레인프리_강아지_눈물사료_화이트피쉬_포뮬라_1kg' successfully processed.\n",
      "Images for product '로얄캐닌_강아지사료_포메라니안_습식파우치_85g_X_12P' successfully processed.\n",
      "Images for product '오리젠_강아지_사료_오리지널_독_11' successfully processed.\n",
      "Images for product '에코6_살몬_6kg_연어_하이포알러제닉_관절_면역_눈물사료' successfully processed.\n",
      "Images for product '지그니쳐_그레인프리_강아지_눈물사료_화이트피쉬_포뮬라_1kg' successfully processed.\n",
      "Images for product '로얄캐닌_캣_인스팅티브_파우치_85g_체중유지_요로기계_고양이_습식_사료' successfully processed.\n",
      "Images for product '네츄럴랩_케어2_강아지_가수분해_사료_위장간_2kg_유기농_70' successfully processed.\n",
      "Images for product '네츄럴랩_케어2_강아지_가수분해_사료_위장간_2kg_유기농_70' successfully processed.\n",
      "Images for product '에코6_살몬_6kg_연어_하이포알러제닉_관절_면역_눈물사료' successfully processed.\n",
      "Images for product '지그니쳐_그레인프리_강아지_눈물사료_화이트피쉬_포뮬라_1kg' successfully processed.\n",
      "Images for product '오리젠_강아지_사료_오리지널_독_11' successfully processed.\n",
      "Images for product '로얄캐닌_강아지사료_포메라니안_습식파우치_85g_X_12P' successfully processed.\n",
      "Images for product '로얄캐닌_강아지사료_포메라니안_습식파우치_85g_X_12P' successfully processed.\n",
      "Images for product '오리젠_강아지_사료_오리지널_독_11' successfully processed.\n",
      "Images for product '도착보장_힐스_강아지사료_어덜트_라지브리드_6' successfully processed.\n",
      "Images for product '도착보장_힐스_강아지사료_어덜트_라지브리드_6' successfully processed.\n",
      "Images for product '네츄럴랩_케어2_강아지_가수분해_사료_위장간_2kg_유기농_70' successfully processed.\n",
      "Images for product '지그니쳐_그레인프리_강아지_눈물사료_화이트피쉬_포뮬라_1kg' successfully processed.\n",
      "Images for product '도착보장_힐스_강아지사료_어덜트_라지브리드_6' successfully processed.\n",
      "Images for product '오리젠_강아지_사료_오리지널_독_11' successfully processed.\n",
      "Images for product '오리젠_강아지_사료_오리지널_독_11' successfully processed.\n",
      "Images for product '로얄캐닌_캣_인스팅티브_파우치_85g_체중유지_요로기계_고양이_습식_사료' successfully processed.\n",
      "Images for product '로얄캐닌_캣_인스팅티브_파우치_85g_체중유지_요로기계_고양이_습식_사료' successfully processed.\n",
      "Images for product '지그니쳐_그레인프리_강아지_눈물사료_화이트피쉬_포뮬라_1kg' successfully processed.\n",
      "Images for product '로얄캐닌_강아지사료_포메라니안_습식파우치_85g_X_12P' successfully processed.\n",
      "Images for product '에코6_살몬_6kg_연어_하이포알러제닉_관절_면역_눈물사료' successfully processed.\n",
      "Images for product '로얄캐닌_강아지사료_포메라니안_습식파우치_85g_X_12P' successfully processed.\n",
      "Images for product '지그니쳐_그레인프리_강아지_눈물사료_화이트피쉬_포뮬라_1kg' successfully processed.\n",
      "Images for product '네츄럴랩_케어2_강아지_가수분해_사료_위장간_2kg_유기농_70' successfully processed.\n",
      "Images for product '에코6_살몬_6kg_연어_하이포알러제닉_관절_면역_눈물사료' successfully processed.\n",
      "Images for product '에코6_살몬_6kg_연어_하이포알러제닉_관절_면역_눈물사료' successfully processed.\n",
      "Images for product '지그니쳐_그레인프리_강아지_눈물사료_화이트피쉬_포뮬라_1kg' successfully processed.\n",
      "Images for product '도착보장_힐스_강아지사료_어덜트_라지브리드_6' successfully processed.\n",
      "Images for product '로얄캐닌_강아지사료_포메라니안_습식파우치_85g_X_12P' successfully processed.\n",
      "Images for product '로얄캐닌_캣_인스팅티브_파우치_85g_체중유지_요로기계_고양이_습식_사료' successfully processed.\n",
      "Images for product '오리젠_강아지_사료_오리지널_독_11' successfully processed.\n",
      "Images for product '도착보장_힐스_강아지사료_어덜트_라지브리드_6' successfully processed.\n",
      "Images for product '오리젠_강아지_사료_오리지널_독_11' successfully processed.\n",
      "Images for product '로얄캐닌_캣_인스팅티브_파우치_85g_체중유지_요로기계_고양이_습식_사료' successfully processed.\n",
      "Images for product '네츄럴랩_케어2_강아지_가수분해_사료_위장간_2kg_유기농_70' successfully processed.\n",
      "Images for product '네츄럴랩_케어2_강아지_가수분해_사료_위장간_2kg_유기농_70' successfully processed.\n",
      "Images for product '로얄캐닌_강아지사료_포메라니안_습식파우치_85g_X_12P' successfully processed.\n",
      "Images for product '로얄캐닌_캣_인스팅티브_파우치_85g_체중유지_요로기계_고양이_습식_사료' successfully processed.\n",
      "Images for product '에코6_살몬_6kg_연어_하이포알러제닉_관절_면역_눈물사료' successfully processed.\n",
      "Images for product '오리젠_강아지_사료_오리지널_독_11' successfully processed.\n",
      "Images for product '네츄럴랩_케어2_강아지_가수분해_사료_위장간_2kg_유기농_70' successfully processed.\n",
      "Images for product '지그니쳐_그레인프리_강아지_눈물사료_화이트피쉬_포뮬라_1kg' successfully processed.\n",
      "Images for product '지그니쳐_그레인프리_강아지_눈물사료_화이트피쉬_포뮬라_1kg' successfully processed.\n",
      "Images for product '로얄캐닌_강아지사료_포메라니안_습식파우치_85g_X_12P' successfully processed.\n",
      "Images for product '도착보장_힐스_강아지사료_어덜트_라지브리드_6' successfully processed.\n",
      "Images for product '에코6_살몬_6kg_연어_하이포알러제닉_관절_면역_눈물사료' successfully processed.\n",
      "Images for product '도착보장_힐스_강아지사료_어덜트_라지브리드_6' successfully processed.\n",
      "Images for product '로얄캐닌_강아지사료_포메라니안_습식파우치_85g_X_12P' successfully processed.\n",
      "Images for product '로얄캐닌_캣_인스팅티브_파우치_85g_체중유지_요로기계_고양이_습식_사료' successfully processed.\n",
      "Images for product '오리젠_강아지_사료_오리지널_독_11' successfully processed.\n",
      "Images for product '네츄럴랩_케어2_강아지_가수분해_사료_위장간_2kg_유기농_70' successfully processed.\n",
      "Images for product '지그니쳐_그레인프리_강아지_눈물사료_화이트피쉬_포뮬라_1kg' successfully processed.\n",
      "Images for product '로얄캐닌_캣_인스팅티브_파우치_85g_체중유지_요로기계_고양이_습식_사료' successfully processed.\n",
      "Images for product '도착보장_힐스_강아지사료_어덜트_라지브리드_6' successfully processed.\n",
      "Images for product '에코6_살몬_6kg_연어_하이포알러제닉_관절_면역_눈물사료' successfully processed.\n",
      "Images for product '로얄캐닌_강아지사료_포메라니안_습식파우치_85g_X_12P' successfully processed.\n",
      "Images for product '지그니쳐_그레인프리_강아지_눈물사료_화이트피쉬_포뮬라_1kg' successfully processed.\n",
      "Images for product '네츄럴랩_케어2_강아지_가수분해_사료_위장간_2kg_유기농_70' successfully processed.\n",
      "Images for product '로얄캐닌_캣_인스팅티브_파우치_85g_체중유지_요로기계_고양이_습식_사료' successfully processed.\n",
      "Images for product '에코6_살몬_6kg_연어_하이포알러제닉_관절_면역_눈물사료' successfully processed.\n",
      "Images for product '도착보장_힐스_강아지사료_어덜트_라지브리드_6' successfully processed.\n",
      "Images for product '오리젠_강아지_사료_오리지널_독_11' successfully processed.\n",
      "Images for product '오리젠_강아지_사료_오리지널_독_11' successfully processed.\n",
      "Images for product '로얄캐닌_강아지사료_포메라니안_습식파우치_85g_X_12P' successfully processed.\n",
      "Images for product '지그니쳐_그레인프리_강아지_눈물사료_화이트피쉬_포뮬라_1kg' successfully processed.\n",
      "Images for product '네츄럴랩_케어2_강아지_가수분해_사료_위장간_2kg_유기농_70' successfully processed.\n",
      "Images for product '로얄캐닌_캣_인스팅티브_파우치_85g_체중유지_요로기계_고양이_습식_사료' successfully processed.\n",
      "Images for product '에코6_살몬_6kg_연어_하이포알러제닉_관절_면역_눈물사료' successfully processed.\n",
      "Images for product '오리젠_강아지_사료_오리지널_독_11' successfully processed.\n",
      "Images for product '도착보장_힐스_강아지사료_어덜트_라지브리드_6' successfully processed.\n",
      "Images for product '도착보장_힐스_강아지사료_어덜트_라지브리드_6' successfully processed.\n",
      "Images for product '로얄캐닌_강아지사료_포메라니안_습식파우치_85g_X_12P' successfully processed.\n",
      "Images for product '지그니쳐_그레인프리_강아지_눈물사료_화이트피쉬_포뮬라_1kg' successfully processed.\n",
      "Images for product '네츄럴랩_케어2_강아지_가수분해_사료_위장간_2kg_유기농_70' successfully processed.\n",
      "Images for product '로얄캐닌_캣_인스팅티브_파우치_85g_체중유지_요로기계_고양이_습식_사료' successfully processed.\n",
      "Images for product '로얄캐닌_캣_인스팅티브_파우치_85g_체중유지_요로기계_고양이_습식_사료' successfully processed.\n",
      "Images for product '에코6_살몬_6kg_연어_하이포알러제닉_관절_면역_눈물사료' successfully processed.\n",
      "Images for product '에코6_살몬_6kg_연어_하이포알러제닉_관절_면역_눈물사료' successfully processed.\n",
      "Images for product '네츄럴랩_케어2_강아지_가수분해_사료_위장간_2kg_유기농_70' successfully processed.\n",
      "Images for product '로얄캐닌_강아지사료_포메라니안_습식파우치_85g_X_12P' successfully processed.\n",
      "Images for product '지그니쳐_그레인프리_강아지_눈물사료_화이트피쉬_포뮬라_1kg' successfully processed.\n",
      "Images for product '도착보장_힐스_강아지사료_어덜트_라지브리드_6' successfully processed.\n",
      "Images for product '오리젠_강아지_사료_오리지널_독_11' successfully processed.\n",
      "Images for product '로얄캐닌_강아지사료_포메라니안_습식파우치_85g_X_12P' successfully processed.\n",
      "Images for product '네츄럴랩_케어2_강아지_가수분해_사료_위장간_2kg_유기농_70' successfully processed.\n",
      "Images for product '로얄캐닌_캣_인스팅티브_파우치_85g_체중유지_요로기계_고양이_습식_사료' successfully processed.\n",
      "Images for product '오리젠_강아지_사료_오리지널_독_11' successfully processed.\n",
      "Images for product '지그니쳐_그레인프리_강아지_눈물사료_화이트피쉬_포뮬라_1kg' successfully processed.\n",
      "Images for product '에코6_살몬_6kg_연어_하이포알러제닉_관절_면역_눈물사료' successfully processed.\n",
      "Images for product '지그니쳐_그레인프리_강아지_눈물사료_화이트피쉬_포뮬라_1kg' successfully processed.\n",
      "Images for product '오리젠_강아지_사료_오리지널_독_11' successfully processed.\n",
      "Images for product '도착보장_힐스_강아지사료_어덜트_라지브리드_6' successfully processed.\n",
      "Images for product '로얄캐닌_캣_인스팅티브_파우치_85g_체중유지_요로기계_고양이_습식_사료' successfully processed.\n",
      "Images for product '로얄캐닌_강아지사료_포메라니안_습식파우치_85g_X_12P' successfully processed.\n",
      "Images for product '네츄럴랩_케어2_강아지_가수분해_사료_위장간_2kg_유기농_70' successfully processed.\n",
      "Images for product '에코6_살몬_6kg_연어_하이포알러제닉_관절_면역_눈물사료' successfully processed.\n",
      "Images for product '오리젠_강아지_사료_오리지널_독_11' successfully processed.\n",
      "Images for product '지그니쳐_그레인프리_강아지_눈물사료_화이트피쉬_포뮬라_1kg' successfully processed.\n",
      "Images for product '로얄캐닌_강아지사료_포메라니안_습식파우치_85g_X_12P' successfully processed.\n",
      "Images for product '로얄캐닌_강아지사료_포메라니안_습식파우치_85g_X_12P' successfully processed.\n",
      "Images for product '로얄캐닌_캣_인스팅티브_파우치_85g_체중유지_요로기계_고양이_습식_사료' successfully processed.\n",
      "Images for product '도착보장_힐스_강아지사료_어덜트_라지브리드_6' successfully processed.\n",
      "Images for product '네츄럴랩_케어2_강아지_가수분해_사료_위장간_2kg_유기농_70' successfully processed.\n",
      "Images for product '에코6_살몬_6kg_연어_하이포알러제닉_관절_면역_눈물사료' successfully processed.\n",
      "Images for product '네츄럴랩_케어2_강아지_가수분해_사료_위장간_2kg_유기농_70' successfully processed.\n",
      "Images for product '에코6_살몬_6kg_연어_하이포알러제닉_관절_면역_눈물사료' successfully processed.\n",
      "Images for product '도착보장_힐스_강아지사료_어덜트_라지브리드_6' successfully processed.\n",
      "Images for product '지그니쳐_그레인프리_강아지_눈물사료_화이트피쉬_포뮬라_1kg' successfully processed.\n",
      "Images for product '로얄캐닌_캣_인스팅티브_파우치_85g_체중유지_요로기계_고양이_습식_사료' successfully processed.\n",
      "Images for product '로얄캐닌_캣_인스팅티브_파우치_85g_체중유지_요로기계_고양이_습식_사료' successfully processed.\n",
      "Images for product '에코6_살몬_6kg_연어_하이포알러제닉_관절_면역_눈물사료' successfully processed.\n",
      "Images for product '오리젠_강아지_사료_오리지널_독_11' successfully processed.\n",
      "Images for product '네츄럴랩_케어2_강아지_가수분해_사료_위장간_2kg_유기농_70' successfully processed.\n",
      "Images for product '도착보장_힐스_강아지사료_어덜트_라지브리드_6' successfully processed.\n",
      "Images for product '지그니쳐_그레인프리_강아지_눈물사료_화이트피쉬_포뮬라_1kg' successfully processed.\n",
      "Images for product '오리젠_강아지_사료_오리지널_독_11' successfully processed.\n",
      "Images for product '로얄캐닌_강아지사료_포메라니안_습식파우치_85g_X_12P' successfully processed.\n",
      "Images for product '로얄캐닌_강아지사료_포메라니안_습식파우치_85g_X_12P' successfully processed.\n",
      "Images for product '지그니쳐_그레인프리_강아지_눈물사료_화이트피쉬_포뮬라_1kg' successfully processed.\n",
      "Images for product '오리젠_강아지_사료_오리지널_독_11' successfully processed.\n",
      "Images for product '로얄캐닌_캣_인스팅티브_파우치_85g_체중유지_요로기계_고양이_습식_사료' successfully processed.\n",
      "Images for product '에코6_살몬_6kg_연어_하이포알러제닉_관절_면역_눈물사료' successfully processed.\n",
      "Images for product '네츄럴랩_케어2_강아지_가수분해_사료_위장간_2kg_유기농_70' successfully processed.\n",
      "Images for product '도착보장_힐스_강아지사료_어덜트_라지브리드_6' successfully processed.\n",
      "Images for product '로얄캐닌_캣_인스팅티브_파우치_85g_체중유지_요로기계_고양이_습식_사료' successfully processed.\n",
      "Images for product '에코6_살몬_6kg_연어_하이포알러제닉_관절_면역_눈물사료' successfully processed.\n",
      "Images for product '도착보장_힐스_강아지사료_어덜트_라지브리드_6' successfully processed.\n",
      "Images for product '로얄캐닌_강아지사료_포메라니안_습식파우치_85g_X_12P' successfully processed.\n",
      "Images for product '네츄럴랩_케어2_강아지_가수분해_사료_위장간_2kg_유기농_70' successfully processed.\n",
      "Images for product '지그니쳐_그레인프리_강아지_눈물사료_화이트피쉬_포뮬라_1kg' successfully processed.\n",
      "Images for product '오리젠_강아지_사료_오리지널_독_11' successfully processed.\n",
      "Images for product '로얄캐닌_강아지사료_포메라니안_습식파우치_85g_X_12P' successfully processed.\n",
      "Images for product '도착보장_힐스_강아지사료_어덜트_라지브리드_6' successfully processed.\n",
      "Images for product '로얄캐닌_캣_인스팅티브_파우치_85g_체중유지_요로기계_고양이_습식_사료' successfully processed.\n",
      "Images for product '네츄럴랩_케어2_강아지_가수분해_사료_위장간_2kg_유기농_70' successfully processed.\n",
      "Images for product '지그니쳐_그레인프리_강아지_눈물사료_화이트피쉬_포뮬라_1kg' successfully processed.\n",
      "Images for product '에코6_살몬_6kg_연어_하이포알러제닉_관절_면역_눈물사료' successfully processed.\n",
      "Images for product '도착보장_힐스_강아지사료_어덜트_라지브리드_6' successfully processed.\n",
      "Images for product '오리젠_강아지_사료_오리지널_독_11' successfully processed.\n",
      "Images for product '에코6_살몬_6kg_연어_하이포알러제닉_관절_면역_눈물사료' successfully processed.\n",
      "Images for product '로얄캐닌_강아지사료_포메라니안_습식파우치_85g_X_12P' successfully processed.\n",
      "Images for product '오리젠_강아지_사료_오리지널_독_11' successfully processed.\n",
      "Images for product '지그니쳐_그레인프리_강아지_눈물사료_화이트피쉬_포뮬라_1kg' successfully processed.\n",
      "Images for product '로얄캐닌_강아지사료_포메라니안_습식파우치_85g_X_12P' successfully processed.\n",
      "Images for product '네츄럴랩_케어2_강아지_가수분해_사료_위장간_2kg_유기농_70' successfully processed.\n",
      "Images for product '로얄캐닌_캣_인스팅티브_파우치_85g_체중유지_요로기계_고양이_습식_사료' successfully processed.\n",
      "Images for product '에코6_살몬_6kg_연어_하이포알러제닉_관절_면역_눈물사료' successfully processed.\n",
      "Images for product '네츄럴랩_케어2_강아지_가수분해_사료_위장간_2kg_유기농_70' successfully processed.\n",
      "Images for product '지그니쳐_그레인프리_강아지_눈물사료_화이트피쉬_포뮬라_1kg' successfully processed.\n",
      "Images for product '로얄캐닌_캣_인스팅티브_파우치_85g_체중유지_요로기계_고양이_습식_사료' successfully processed.\n",
      "Images for product '오리젠_강아지_사료_오리지널_독_11' successfully processed.\n",
      "Images for product '도착보장_힐스_강아지사료_어덜트_라지브리드_6' successfully processed.\n",
      "Images for product '로얄캐닌_강아지사료_포메라니안_습식파우치_85g_X_12P' successfully processed.\n",
      "Images for product '네츄럴랩_케어2_강아지_가수분해_사료_위장간_2kg_유기농_70' successfully processed.\n",
      "Images for product '로얄캐닌_캣_인스팅티브_파우치_85g_체중유지_요로기계_고양이_습식_사료' successfully processed.\n",
      "Images for product '지그니쳐_그레인프리_강아지_눈물사료_화이트피쉬_포뮬라_1kg' successfully processed.\n",
      "Images for product '에코6_살몬_6kg_연어_하이포알러제닉_관절_면역_눈물사료' successfully processed.\n",
      "Images for product '오리젠_강아지_사료_오리지널_독_11' successfully processed.\n",
      "Images for product '로얄캐닌_강아지사료_포메라니안_습식파우치_85g_X_12P' successfully processed.\n",
      "Images for product '도착보장_힐스_강아지사료_어덜트_라지브리드_6' successfully processed.\n",
      "Images for product '지그니쳐_그레인프리_강아지_눈물사료_화이트피쉬_포뮬라_1kg' successfully processed.\n",
      "Images for product '도착보장_힐스_강아지사료_어덜트_라지브리드_6' successfully processed.\n",
      "Images for product '오리젠_강아지_사료_오리지널_독_11' successfully processed.\n",
      "Images for product '네츄럴랩_케어2_강아지_가수분해_사료_위장간_2kg_유기농_70' successfully processed.\n",
      "Images for product '로얄캐닌_캣_인스팅티브_파우치_85g_체중유지_요로기계_고양이_습식_사료' successfully processed.\n",
      "Images for product '에코6_살몬_6kg_연어_하이포알러제닉_관절_면역_눈물사료' successfully processed.\n",
      "Images for product '지그니쳐_그레인프리_강아지_눈물사료_화이트피쉬_포뮬라_1kg' successfully processed.\n",
      "Images for product '에코6_살몬_6kg_연어_하이포알러제닉_관절_면역_눈물사료' successfully processed.\n",
      "Images for product '네츄럴랩_케어2_강아지_가수분해_사료_위장간_2kg_유기농_70' successfully processed.\n",
      "Images for product '로얄캐닌_강아지사료_포메라니안_습식파우치_85g_X_12P' successfully processed.\n",
      "Images for product '오리젠_강아지_사료_오리지널_독_11' successfully processed.\n",
      "Images for product '로얄캐닌_캣_인스팅티브_파우치_85g_체중유지_요로기계_고양이_습식_사료' successfully processed.\n",
      "Images for product '도착보장_힐스_강아지사료_어덜트_라지브리드_6' successfully processed.\n",
      "Images for product '로얄캐닌_강아지사료_포메라니안_습식파우치_85g_X_12P' successfully processed.\n",
      "Images for product '에코6_살몬_6kg_연어_하이포알러제닉_관절_면역_눈물사료' successfully processed.\n",
      "Images for product '지그니쳐_그레인프리_강아지_눈물사료_화이트피쉬_포뮬라_1kg' successfully processed.\n",
      "Images for product '도착보장_힐스_강아지사료_어덜트_라지브리드_6' successfully processed.\n",
      "Images for product '오리젠_강아지_사료_오리지널_독_11' successfully processed.\n",
      "Images for product '로얄캐닌_강아지사료_포메라니안_습식파우치_85g_X_12P' successfully processed.\n",
      "Images for product '로얄캐닌_캣_인스팅티브_파우치_85g_체중유지_요로기계_고양이_습식_사료' successfully processed.\n",
      "Images for product '네츄럴랩_케어2_강아지_가수분해_사료_위장간_2kg_유기농_70' successfully processed.\n",
      "Images for product '네츄럴랩_케어2_강아지_가수분해_사료_위장간_2kg_유기농_70' successfully processed.\n",
      "Images for product '지그니쳐_그레인프리_강아지_눈물사료_화이트피쉬_포뮬라_1kg' successfully processed.\n",
      "Images for product '네츄럴랩_케어2_강아지_가수분해_사료_위장간_2kg_유기농_70' successfully processed.\n",
      "Images for product '에코6_살몬_6kg_연어_하이포알러제닉_관절_면역_눈물사료' successfully processed.\n",
      "Images for product '로얄캐닌_강아지사료_포메라니안_습식파우치_85g_X_12P' successfully processed.\n",
      "Images for product '로얄캐닌_캣_인스팅티브_파우치_85g_체중유지_요로기계_고양이_습식_사료' successfully processed.\n",
      "Images for product '지그니쳐_그레인프리_강아지_눈물사료_화이트피쉬_포뮬라_1kg' successfully processed.\n",
      "Images for product '로얄캐닌_캣_인스팅티브_파우치_85g_체중유지_요로기계_고양이_습식_사료' successfully processed.\n",
      "Images for product '도착보장_힐스_강아지사료_어덜트_라지브리드_6' successfully processed.\n",
      "Images for product '에코6_살몬_6kg_연어_하이포알러제닉_관절_면역_눈물사료' successfully processed.\n",
      "Images for product '오리젠_강아지_사료_오리지널_독_11' successfully processed.\n",
      "Images for product '네츄럴랩_케어2_강아지_가수분해_사료_위장간_2kg_유기농_70' successfully processed.\n",
      "Images for product '오리젠_강아지_사료_오리지널_독_11' successfully processed.\n",
      "Images for product '도착보장_힐스_강아지사료_어덜트_라지브리드_6' successfully processed.\n",
      "Images for product '지그니쳐_그레인프리_강아지_눈물사료_화이트피쉬_포뮬라_1kg' successfully processed.\n",
      "Images for product '로얄캐닌_강아지사료_포메라니안_습식파우치_85g_X_12P' successfully processed.\n",
      "Images for product '에코6_살몬_6kg_연어_하이포알러제닉_관절_면역_눈물사료' successfully processed.\n",
      "Images for product '오리젠_강아지_사료_오리지널_독_11' successfully processed.\n",
      "Images for product '에코6_살몬_6kg_연어_하이포알러제닉_관절_면역_눈물사료' successfully processed.\n",
      "Images for product '오리젠_강아지_사료_오리지널_독_11' successfully processed.\n",
      "Images for product '로얄캐닌_강아지사료_포메라니안_습식파우치_85g_X_12P' successfully processed.\n",
      "Images for product '로얄캐닌_캣_인스팅티브_파우치_85g_체중유지_요로기계_고양이_습식_사료' successfully processed.\n",
      "Images for product '뉴트리나_비스트로_고양이사료_애묘_사료_6Kg_코스트코_건식_캣_대용량_건사료' successfully processed.\n",
      "Images for product '도착보장_힐스_강아지사료_어덜트_라지브리드_6' successfully processed.\n",
      "Images for product '네츄럴랩_케어2_강아지_가수분해_사료_위장간_2kg_유기농_70' successfully processed.\n",
      "Images for product '지그니쳐_그레인프리_강아지_눈물사료_화이트피쉬_포뮬라_1kg' successfully processed.\n",
      "Images for product '네츄럴랩_케어2_강아지_가수분해_사료_위장간_2kg_유기농_70' successfully processed.\n",
      "Images for product '로얄캐닌_캣_인스팅티브_파우치_85g_체중유지_요로기계_고양이_습식_사료' successfully processed.\n",
      "Images for product '로얄캐닌_강아지사료_포메라니안_습식파우치_85g_X_12P' successfully processed.\n",
      "Images for product '지그니쳐_그레인프리_강아지_눈물사료_화이트피쉬_포뮬라_1kg' successfully processed.\n",
      "Images for product '로얄캐닌_캣_인스팅티브_파우치_85g_체중유지_요로기계_고양이_습식_사료' successfully processed.\n",
      "Images for product '지그니쳐_그레인프리_강아지_눈물사료_화이트피쉬_포뮬라_1kg' successfully processed.\n",
      "Images for product '에코6_살몬_6kg_연어_하이포알러제닉_관절_면역_눈물사료' successfully processed.\n",
      "Images for product '에코6_살몬_6kg_연어_하이포알러제닉_관절_면역_눈물사료' successfully processed.\n",
      "Images for product '에코6_살몬_6kg_연어_하이포알러제닉_관절_면역_눈물사료' successfully processed.\n",
      "Images for product '도착보장_힐스_강아지사료_어덜트_라지브리드_6' successfully processed.\n",
      "Images for product '네츄럴랩_케어2_강아지_가수분해_사료_위장간_2kg_유기농_70' successfully processed.\n",
      "Images for product '도착보장_힐스_강아지사료_어덜트_라지브리드_6' successfully processed.\n",
      "Images for product '로얄캐닌_강아지사료_포메라니안_습식파우치_85g_X_12P' successfully processed.\n",
      "Images for product '로얄캐닌_캣_인스팅티브_파우치_85g_체중유지_요로기계_고양이_습식_사료' successfully processed.\n",
      "Images for product '로얄캐닌_캣_인스팅티브_파우치_85g_체중유지_요로기계_고양이_습식_사료' successfully processed.\n",
      "Images for product '도착보장_힐스_강아지사료_어덜트_라지브리드_6' successfully processed.\n",
      "Images for product '도착보장_힐스_강아지사료_어덜트_라지브리드_6' successfully processed.\n",
      "Images for product '로얄캐닌_강아지사료_포메라니안_습식파우치_85g_X_12P' successfully processed.\n",
      "Images for product '네츄럴랩_케어2_강아지_가수분해_사료_위장간_2kg_유기농_70' successfully processed.\n",
      "Images for product '네츄럴랩_케어2_강아지_가수분해_사료_위장간_2kg_유기농_70' successfully processed.\n",
      "Images for product '오리젠_강아지_사료_오리지널_독_11' successfully processed.\n",
      "Images for product '로얄캐닌_강아지사료_포메라니안_습식파우치_85g_X_12P' successfully processed.\n",
      "Images for product '로얄캐닌_캣_인스팅티브_파우치_85g_체중유지_요로기계_고양이_습식_사료' successfully processed.\n",
      "Images for product '에코6_살몬_6kg_연어_하이포알러제닉_관절_면역_눈물사료' successfully processed.\n",
      "Images for product '도착보장_힐스_강아지사료_어덜트_라지브리드_6' successfully processed.\n",
      "Images for product '오리젠_강아지_사료_오리지널_독_11' successfully processed.\n",
      "Images for product '지그니쳐_그레인프리_강아지_눈물사료_화이트피쉬_포뮬라_1kg' successfully processed.\n",
      "Images for product '네츄럴랩_케어2_강아지_가수분해_사료_위장간_2kg_유기농_70' successfully processed.\n",
      "Images for product '로얄캐닌_강아지사료_포메라니안_습식파우치_85g_X_12P' successfully processed.\n",
      "Images for product '지그니쳐_그레인프리_강아지_눈물사료_화이트피쉬_포뮬라_1kg' successfully processed.\n",
      "Images for product '지그니쳐_그레인프리_강아지_눈물사료_화이트피쉬_포뮬라_1kg' successfully processed.\n",
      "Images for product '도착보장_힐스_강아지사료_어덜트_라지브리드_6' successfully processed.\n",
      "Images for product '에코6_살몬_6kg_연어_하이포알러제닉_관절_면역_눈물사료' successfully processed.\n",
      "Images for product '로얄캐닌_캣_인스팅티브_파우치_85g_체중유지_요로기계_고양이_습식_사료' successfully processed.\n",
      "Images for product '오리젠_강아지_사료_오리지널_독_11' successfully processed.\n",
      "Images for product '로얄캐닌_강아지사료_포메라니안_습식파우치_85g_X_12P' successfully processed.\n",
      "Images for product '에코6_살몬_6kg_연어_하이포알러제닉_관절_면역_눈물사료' successfully processed.\n",
      "Images for product '로얄캐닌_강아지사료_포메라니안_습식파우치_85g_X_12P' successfully processed.\n",
      "Images for product '도착보장_힐스_강아지사료_어덜트_라지브리드_6' successfully processed.\n",
      "Images for product '로얄캐닌_캣_인스팅티브_파우치_85g_체중유지_요로기계_고양이_습식_사료' successfully processed.\n",
      "Images for product '에코6_살몬_6kg_연어_하이포알러제닉_관절_면역_눈물사료' successfully processed.\n",
      "Images for product '오리젠_강아지_사료_오리지널_독_11' successfully processed.\n",
      "Images for product '오리젠_강아지_사료_오리지널_독_11' successfully processed.\n",
      "Images for product '로얄캐닌_강아지사료_포메라니안_습식파우치_85g_X_12P' successfully processed.\n",
      "Images for product '네츄럴랩_케어2_강아지_가수분해_사료_위장간_2kg_유기농_70' successfully processed.\n",
      "Images for product '로얄캐닌_캣_인스팅티브_파우치_85g_체중유지_요로기계_고양이_습식_사료' successfully processed.\n",
      "Images for product '네츄럴랩_케어2_강아지_가수분해_사료_위장간_2kg_유기농_70' successfully processed.\n",
      "Images for product '지그니쳐_그레인프리_강아지_눈물사료_화이트피쉬_포뮬라_1kg' successfully processed.\n",
      "Images for product '지그니쳐_그레인프리_강아지_눈물사료_화이트피쉬_포뮬라_1kg' successfully processed.\n",
      "Images for product '도착보장_힐스_강아지사료_어덜트_라지브리드_6' successfully processed.\n",
      "Images for product '도착보장_힐스_강아지사료_어덜트_라지브리드_6' successfully processed.\n",
      "Images for product '에코6_살몬_6kg_연어_하이포알러제닉_관절_면역_눈물사료' successfully processed.\n",
      "Images for product '오리젠_강아지_사료_오리지널_독_11' successfully processed.\n",
      "Images for product '로얄캐닌_캣_인스팅티브_파우치_85g_체중유지_요로기계_고양이_습식_사료' successfully processed.\n",
      "Images for product '네츄럴랩_케어2_강아지_가수분해_사료_위장간_2kg_유기농_70' successfully processed.\n",
      "Images for product '로얄캐닌_강아지사료_포메라니안_습식파우치_85g_X_12P' successfully processed.\n",
      "Images for product '지그니쳐_그레인프리_강아지_눈물사료_화이트피쉬_포뮬라_1kg' successfully processed.\n",
      "Images for product '도착보장_힐스_강아지사료_어덜트_라지브리드_6' successfully processed.\n",
      "Images for product '에코6_살몬_6kg_연어_하이포알러제닉_관절_면역_눈물사료' successfully processed.\n",
      "Images for product '네츄럴랩_케어2_강아지_가수분해_사료_위장간_2kg_유기농_70' successfully processed.\n",
      "Images for product '에코6_살몬_6kg_연어_하이포알러제닉_관절_면역_눈물사료' successfully processed.\n",
      "Images for product '오리젠_강아지_사료_오리지널_독_11' successfully processed.\n",
      "Images for product '지그니쳐_그레인프리_강아지_눈물사료_화이트피쉬_포뮬라_1kg' successfully processed.\n",
      "Images for product '로얄캐닌_캣_인스팅티브_파우치_85g_체중유지_요로기계_고양이_습식_사료' successfully processed.\n",
      "Images for product '로얄캐닌_강아지사료_포메라니안_습식파우치_85g_X_12P' successfully processed.\n",
      "Images for product '로얄캐닌_강아지사료_포메라니안_습식파우치_85g_X_12P' successfully processed.\n",
      "Images for product '네츄럴랩_케어2_강아지_가수분해_사료_위장간_2kg_유기농_70' successfully processed.\n",
      "Images for product '오리젠_강아지_사료_오리지널_독_11' successfully processed.\n",
      "Images for product '도착보장_힐스_강아지사료_어덜트_라지브리드_6' successfully processed.\n",
      "Images for product '도착보장_힐스_강아지사료_어덜트_라지브리드_6' successfully processed.\n",
      "Images for product '로얄캐닌_강아지사료_포메라니안_습식파우치_85g_X_12P' successfully processed.\n",
      "Images for product '지그니쳐_그레인프리_강아지_눈물사료_화이트피쉬_포뮬라_1kg' successfully processed.\n",
      "Images for product '에코6_살몬_6kg_연어_하이포알러제닉_관절_면역_눈물사료' successfully processed.\n",
      "Images for product '오리젠_강아지_사료_오리지널_독_11' successfully processed.\n",
      "Images for product '도착보장_힐스_강아지사료_어덜트_라지브리드_6' successfully processed.\n",
      "Images for product '로얄캐닌_캣_인스팅티브_파우치_85g_체중유지_요로기계_고양이_습식_사료' successfully processed.\n",
      "Images for product '오리젠_강아지_사료_오리지널_독_11' successfully processed.\n",
      "Images for product '로얄캐닌_캣_인스팅티브_파우치_85g_체중유지_요로기계_고양이_습식_사료' successfully processed.\n",
      "Images for product '에코6_살몬_6kg_연어_하이포알러제닉_관절_면역_눈물사료' successfully processed.\n",
      "Images for product '네츄럴랩_케어2_강아지_가수분해_사료_위장간_2kg_유기농_70' successfully processed.\n",
      "Images for product '지그니쳐_그레인프리_강아지_눈물사료_화이트피쉬_포뮬라_1kg' successfully processed.\n",
      "Images for product '에코6_살몬_6kg_연어_하이포알러제닉_관절_면역_눈물사료' successfully processed.\n",
      "Images for product '로얄캐닌_강아지사료_포메라니안_습식파우치_85g_X_12P' successfully processed.\n",
      "Images for product '지그니쳐_그레인프리_강아지_눈물사료_화이트피쉬_포뮬라_1kg' successfully processed.\n",
      "Images for product '네츄럴랩_케어2_강아지_가수분해_사료_위장간_2kg_유기농_70' successfully processed.\n",
      "Images for product '로얄캐닌_캣_인스팅티브_파우치_85g_체중유지_요로기계_고양이_습식_사료' successfully processed.\n",
      "Images for product '오리젠_강아지_사료_오리지널_독_11' successfully processed.\n",
      "Images for product '도착보장_힐스_강아지사료_어덜트_라지브리드_6' successfully processed.\n",
      "Images for product '도착보장_힐스_강아지사료_어덜트_라지브리드_6' successfully processed.\n",
      "Images for product '로얄캐닌_캣_인스팅티브_파우치_85g_체중유지_요로기계_고양이_습식_사료' successfully processed.\n",
      "Images for product '에코6_살몬_6kg_연어_하이포알러제닉_관절_면역_눈물사료' successfully processed.\n",
      "Images for product '지그니쳐_그레인프리_강아지_눈물사료_화이트피쉬_포뮬라_1kg' successfully processed.\n",
      "Images for product '오리젠_강아지_사료_오리지널_독_11' successfully processed.\n",
      "Images for product '네츄럴랩_케어2_강아지_가수분해_사료_위장간_2kg_유기농_70' successfully processed.\n",
      "Images for product '로얄캐닌_강아지사료_포메라니안_습식파우치_85g_X_12P' successfully processed.\n",
      "Images for product '에코6_살몬_6kg_연어_하이포알러제닉_관절_면역_눈물사료' successfully processed.\n",
      "Images for product '지그니쳐_그레인프리_강아지_눈물사료_화이트피쉬_포뮬라_1kg' successfully processed.\n",
      "Images for product '네츄럴랩_케어2_강아지_가수분해_사료_위장간_2kg_유기농_70' successfully processed.\n",
      "Images for product '로얄캐닌_강아지사료_포메라니안_습식파우치_85g_X_12P' successfully processed.\n",
      "Images for product '오리젠_강아지_사료_오리지널_독_11' successfully processed.\n",
      "Images for product '로얄캐닌_캣_인스팅티브_파우치_85g_체중유지_요로기계_고양이_습식_사료' successfully processed.\n",
      "Images for product '로얄캐닌_캣_인스팅티브_파우치_85g_체중유지_요로기계_고양이_습식_사료' successfully processed.\n",
      "Images for product '에코6_살몬_6kg_연어_하이포알러제닉_관절_면역_눈물사료' successfully processed.\n",
      "Images for product '로얄캐닌_강아지사료_포메라니안_습식파우치_85g_X_12P' successfully processed.\n",
      "Images for product '로얄캐닌_캣_인스팅티브_파우치_85g_체중유지_요로기계_고양이_습식_사료' successfully processed.\n",
      "Images for product '도착보장_힐스_강아지사료_어덜트_라지브리드_6' successfully processed.\n",
      "Images for product '네츄럴랩_케어2_강아지_가수분해_사료_위장간_2kg_유기농_70' successfully processed.\n",
      "Images for product '네츄럴랩_케어2_강아지_가수분해_사료_위장간_2kg_유기농_70' successfully processed.\n",
      "Images for product '지그니쳐_그레인프리_강아지_눈물사료_화이트피쉬_포뮬라_1kg' successfully processed.\n",
      "Images for product '오리젠_강아지_사료_오리지널_독_11' successfully processed.\n",
      "Images for product '도착보장_힐스_강아지사료_어덜트_라지브리드_6' successfully processed.\n",
      "Images for product '에코6_살몬_6kg_연어_하이포알러제닉_관절_면역_눈물사료' successfully processed.\n",
      "Images for product '오리젠_강아지_사료_오리지널_독_11' successfully processed.\n",
      "Images for product '로얄캐닌_강아지사료_포메라니안_습식파우치_85g_X_12P' successfully processed.\n",
      "Images for product '지그니쳐_그레인프리_강아지_눈물사료_화이트피쉬_포뮬라_1kg' successfully processed.\n",
      "Images for product '지그니쳐_그레인프리_강아지_눈물사료_화이트피쉬_포뮬라_1kg' successfully processed.\n",
      "Images for product '에코6_살몬_6kg_연어_하이포알러제닉_관절_면역_눈물사료' successfully processed.\n",
      "Images for product '로얄캐닌_강아지사료_포메라니안_습식파우치_85g_X_12P' successfully processed.\n",
      "Images for product '오리젠_강아지_사료_오리지널_독_11' successfully processed.\n",
      "Images for product '도착보장_힐스_강아지사료_어덜트_라지브리드_6' successfully processed.\n",
      "Images for product '에코6_살몬_6kg_연어_하이포알러제닉_관절_면역_눈물사료' successfully processed.\n",
      "Images for product '로얄캐닌_강아지사료_포메라니안_습식파우치_85g_X_12P' successfully processed.\n",
      "Images for product '네츄럴랩_케어2_강아지_가수분해_사료_위장간_2kg_유기농_70' successfully processed.\n",
      "Images for product '로얄캐닌_캣_인스팅티브_파우치_85g_체중유지_요로기계_고양이_습식_사료' successfully processed.\n",
      "Images for product '지그니쳐_그레인프리_강아지_눈물사료_화이트피쉬_포뮬라_1kg' successfully processed.\n",
      "Images for product '도착보장_힐스_강아지사료_어덜트_라지브리드_6' successfully processed.\n",
      "Images for product '로얄캐닌_캣_인스팅티브_파우치_85g_체중유지_요로기계_고양이_습식_사료' successfully processed.\n",
      "Images for product '지그니쳐_그레인프리_강아지_눈물사료_화이트피쉬_포뮬라_1kg' successfully processed.\n",
      "Images for product '로얄캐닌_리커버리캔_195g__고양이반려견_겸용' successfully processed.\n",
      "Images for product '오리젠_강아지_사료_오리지널_독_11' successfully processed.\n",
      "Images for product '네츄럴랩_케어2_강아지_가수분해_사료_위장간_2kg_유기농_70' successfully processed.\n",
      "Images for product '로얄캐닌_캣_인스팅티브_파우치_85g_체중유지_요로기계_고양이_습식_사료' successfully processed.\n",
      "Images for product '에코6_살몬_6kg_연어_하이포알러제닉_관절_면역_눈물사료' successfully processed.\n",
      "Images for product '로얄캐닌_강아지사료_포메라니안_습식파우치_85g_X_12P' successfully processed.\n",
      "Images for product '오리젠_강아지_사료_오리지널_독_11' successfully processed.\n",
      "Images for product '도착보장_힐스_강아지사료_어덜트_라지브리드_6' successfully processed.\n",
      "Images for product '로얄캐닌_강아지사료_포메라니안_습식파우치_85g_X_12P' successfully processed.\n",
      "Images for product '오리젠_강아지_사료_오리지널_독_11' successfully processed.\n",
      "Images for product '로얄캐닌_리커버리캔_195g__고양이반려견_겸용' successfully processed.\n",
      "Images for product '에코6_살몬_6kg_연어_하이포알러제닉_관절_면역_눈물사료' successfully processed.\n",
      "Images for product '지그니쳐_그레인프리_강아지_눈물사료_화이트피쉬_포뮬라_1kg' successfully processed.\n",
      "Images for product '네츄럴랩_케어2_강아지_가수분해_사료_위장간_2kg_유기농_70' successfully processed.\n",
      "Images for product '로얄캐닌_캣_인스팅티브_파우치_85g_체중유지_요로기계_고양이_습식_사료' successfully processed.\n",
      "Images for product '로얄캐닌_강아지사료_포메라니안_습식파우치_85g_X_12P' successfully processed.\n",
      "Images for product '오리젠_강아지_사료_오리지널_독_11' successfully processed.\n",
      "Images for product '지그니쳐_그레인프리_강아지_눈물사료_화이트피쉬_포뮬라_1kg' successfully processed.\n",
      "Images for product '도착보장_힐스_강아지사료_어덜트_라지브리드_6' successfully processed.\n",
      "Images for product '로얄캐닌_리커버리캔_195g__고양이반려견_겸용' successfully processed.\n",
      "Images for product '로얄캐닌_캣_인스팅티브_파우치_85g_체중유지_요로기계_고양이_습식_사료' successfully processed.\n",
      "Images for product '에코6_살몬_6kg_연어_하이포알러제닉_관절_면역_눈물사료' successfully processed.\n",
      "Images for product '네츄럴랩_케어2_강아지_가수분해_사료_위장간_2kg_유기농_70' successfully processed.\n",
      "Images for product '로얄캐닌_강아지사료_포메라니안_습식파우치_85g_X_12P' successfully processed.\n",
      "Images for product '지그니쳐_그레인프리_강아지_눈물사료_화이트피쉬_포뮬라_1kg' successfully processed.\n",
      "Images for product '네츄럴랩_케어2_강아지_가수분해_사료_위장간_2kg_유기농_70' successfully processed.\n",
      "Images for product '로얄캐닌_리커버리캔_195g__고양이반려견_겸용' successfully processed.\n",
      "Images for product '오리젠_강아지_사료_오리지널_독_11' successfully processed.\n",
      "Images for product '도착보장_힐스_강아지사료_어덜트_라지브리드_6' successfully processed.\n",
      "Images for product '로얄캐닌_강아지사료_포메라니안_습식파우치_85g_X_12P' successfully processed.\n",
      "Images for product '로얄캐닌_캣_인스팅티브_파우치_85g_체중유지_요로기계_고양이_습식_사료' successfully processed.\n",
      "Images for product '에코6_살몬_6kg_연어_하이포알러제닉_관절_면역_눈물사료' successfully processed.\n",
      "Images for product '네츄럴랩_케어2_강아지_가수분해_사료_위장간_2kg_유기농_70' successfully processed.\n",
      "Images for product '네츄럴랩_케어2_강아지_가수분해_사료_위장간_2kg_유기농_70' successfully processed.\n",
      "Images for product '지그니쳐_그레인프리_강아지_눈물사료_화이트피쉬_포뮬라_1kg' successfully processed.\n",
      "Images for product '로얄캐닌_강아지사료_포메라니안_습식파우치_85g_X_12P' successfully processed.\n",
      "Images for product '지그니쳐_그레인프리_강아지_눈물사료_화이트피쉬_포뮬라_1kg' successfully processed.\n",
      "Images for product '로얄캐닌_리커버리캔_195g__고양이반려견_겸용' successfully processed.\n",
      "Images for product '에코6_살몬_6kg_연어_하이포알러제닉_관절_면역_눈물사료' successfully processed.\n",
      "Images for product '로얄캐닌_캣_인스팅티브_파우치_85g_체중유지_요로기계_고양이_습식_사료' successfully processed.\n",
      "Images for product '네츄럴랩_케어2_강아지_가수분해_사료_위장간_2kg_유기농_70' successfully processed.\n",
      "Images for product '오리젠_강아지_사료_오리지널_독_11' successfully processed.\n",
      "Images for product '도착보장_힐스_강아지사료_어덜트_라지브리드_6' successfully processed.\n",
      "Images for product '오리젠_강아지_사료_오리지널_독_11' successfully processed.\n",
      "Images for product '지그니쳐_그레인프리_강아지_눈물사료_화이트피쉬_포뮬라_1kg' successfully processed.\n",
      "Images for product '로얄캐닌_리커버리캔_195g__고양이반려견_겸용' successfully processed.\n",
      "Images for product '도착보장_힐스_강아지사료_어덜트_라지브리드_6' successfully processed.\n",
      "Images for product '로얄캐닌_캣_인스팅티브_파우치_85g_체중유지_요로기계_고양이_습식_사료' successfully processed.\n",
      "Images for product '로얄캐닌_리커버리캔_195g__고양이반려견_겸용' successfully processed.\n",
      "Images for product '에코6_살몬_6kg_연어_하이포알러제닉_관절_면역_눈물사료' successfully processed.\n",
      "Images for product '에코6_살몬_6kg_연어_하이포알러제닉_관절_면역_눈물사료' successfully processed.\n",
      "Images for product '로얄캐닌_강아지사료_포메라니안_습식파우치_85g_X_12P' successfully processed.\n",
      "Images for product '로얄캐닌_캣_인스팅티브_파우치_85g_체중유지_요로기계_고양이_습식_사료' successfully processed.\n",
      "Images for product '도착보장_힐스_강아지사료_어덜트_라지브리드_6' successfully processed.\n",
      "Images for product '오리젠_강아지_사료_오리지널_독_11' successfully processed.\n",
      "Images for product '지그니쳐_그레인프리_강아지_눈물사료_화이트피쉬_포뮬라_1kg' successfully processed.\n",
      "Images for product '로얄캐닌_강아지사료_포메라니안_습식파우치_85g_X_12P' successfully processed.\n",
      "Images for product '지그니쳐_그레인프리_강아지_눈물사료_화이트피쉬_포뮬라_1kg' successfully processed.\n",
      "Images for product '도착보장_힐스_강아지사료_어덜트_라지브리드_6' successfully processed.\n",
      "Images for product '로얄캐닌_리커버리캔_195g__고양이반려견_겸용' successfully processed.\n",
      "Images for product '에코6_살몬_6kg_연어_하이포알러제닉_관절_면역_눈물사료' successfully processed.\n",
      "Images for product '로얄캐닌_강아지사료_포메라니안_습식파우치_85g_X_12P' successfully processed.\n",
      "Images for product '네츄럴랩_케어2_강아지_가수분해_사료_위장간_2kg_유기농_70' successfully processed.\n",
      "Images for product '도착보장_힐스_강아지사료_어덜트_라지브리드_6' successfully processed.\n",
      "Images for product '로얄캐닌_캣_인스팅티브_파우치_85g_체중유지_요로기계_고양이_습식_사료' successfully processed.\n",
      "Images for product '네츄럴랩_케어2_강아지_가수분해_사료_위장간_2kg_유기농_70' successfully processed.\n",
      "Images for product '로얄캐닌_강아지사료_포메라니안_습식파우치_85g_X_12P' successfully processed.\n",
      "Images for product '로얄캐닌_캣_인스팅티브_파우치_85g_체중유지_요로기계_고양이_습식_사료' successfully processed.\n",
      "Images for product '로얄캐닌_캣_인스팅티브_파우치_85g_체중유지_요로기계_고양이_습식_사료' successfully processed.\n",
      "Images for product '에코6_살몬_6kg_연어_하이포알러제닉_관절_면역_눈물사료' successfully processed.\n",
      "Images for product '도착보장_힐스_강아지사료_어덜트_라지브리드_6' successfully processed.\n",
      "Images for product '로얄캐닌_강아지사료_포메라니안_습식파우치_85g_X_12P' successfully processed.\n",
      "Images for product '네츄럴랩_케어2_강아지_가수분해_사료_위장간_2kg_유기농_70' successfully processed.\n",
      "Images for product '네츄럴랩_케어2_강아지_가수분해_사료_위장간_2kg_유기농_70' successfully processed.\n",
      "Images for product '지그니쳐_그레인프리_강아지_눈물사료_화이트피쉬_포뮬라_1kg' successfully processed.\n",
      "Images for product '오리젠_강아지_사료_오리지널_독_11' successfully processed.\n",
      "Images for product '로얄캐닌_캣_인스팅티브_파우치_85g_체중유지_요로기계_고양이_습식_사료' successfully processed.\n",
      "Images for product '네츄럴랩_케어2_강아지_가수분해_사료_위장간_2kg_유기농_70' successfully processed.\n",
      "Images for product '도착보장_힐스_강아지사료_어덜트_라지브리드_6' successfully processed.\n",
      "Images for product '로얄캐닌_리커버리캔_195g__고양이반려견_겸용' successfully processed.\n",
      "Images for product '오리젠_강아지_사료_오리지널_독_11' successfully processed.\n",
      "Images for product '에코6_살몬_6kg_연어_하이포알러제닉_관절_면역_눈물사료' successfully processed.\n",
      "Images for product '로얄캐닌_강아지사료_포메라니안_습식파우치_85g_X_12P' successfully processed.\n",
      "Images for product '에코6_살몬_6kg_연어_하이포알러제닉_관절_면역_눈물사료' successfully processed.\n",
      "Images for product '로얄캐닌_리커버리캔_195g__고양이반려견_겸용' successfully processed.\n",
      "Images for product '지그니쳐_그레인프리_강아지_눈물사료_화이트피쉬_포뮬라_1kg' successfully processed.\n",
      "Images for product '로얄캐닌_캣_인스팅티브_파우치_85g_체중유지_요로기계_고양이_습식_사료' successfully processed.\n",
      "Images for product '네츄럴랩_케어2_강아지_가수분해_사료_위장간_2kg_유기농_70' successfully processed.\n",
      "Images for product '도착보장_힐스_강아지사료_어덜트_라지브리드_6' successfully processed.\n",
      "Images for product '에코6_살몬_6kg_연어_하이포알러제닉_관절_면역_눈물사료' successfully processed.\n",
      "Images for product '지그니쳐_그레인프리_강아지_눈물사료_화이트피쉬_포뮬라_1kg' successfully processed.\n",
      "Images for product '오리젠_강아지_사료_오리지널_독_11' successfully processed.\n",
      "Images for product '로얄캐닌_리커버리캔_195g__고양이반려견_겸용' successfully processed.\n",
      "Images for product '네츄럴랩_케어2_강아지_가수분해_사료_위장간_2kg_유기농_70' successfully processed.\n",
      "Images for product '로얄캐닌_강아지사료_포메라니안_습식파우치_85g_X_12P' successfully processed.\n",
      "Images for product '에코6_살몬_6kg_연어_하이포알러제닉_관절_면역_눈물사료' successfully processed.\n",
      "Images for product '지그니쳐_그레인프리_강아지_눈물사료_화이트피쉬_포뮬라_1kg' successfully processed.\n",
      "Images for product '도착보장_힐스_강아지사료_어덜트_라지브리드_6' successfully processed.\n",
      "Images for product '로얄캐닌_캣_인스팅티브_파우치_85g_체중유지_요로기계_고양이_습식_사료' successfully processed.\n",
      "Images for product '오리젠_강아지_사료_오리지널_독_11' successfully processed.\n",
      "Images for product '로얄캐닌_강아지사료_포메라니안_습식파우치_85g_X_12P' successfully processed.\n",
      "Images for product '로얄캐닌_캣_인스팅티브_파우치_85g_체중유지_요로기계_고양이_습식_사료' successfully processed.\n",
      "Images for product '로얄캐닌_리커버리캔_195g__고양이반려견_겸용' successfully processed.\n",
      "Images for product '로얄캐닌_강아지사료_포메라니안_습식파우치_85g_X_12P' successfully processed.\n",
      "Images for product '지그니쳐_그레인프리_강아지_눈물사료_화이트피쉬_포뮬라_1kg' successfully processed.\n",
      "Images for product '에코6_살몬_6kg_연어_하이포알러제닉_관절_면역_눈물사료' successfully processed.\n",
      "Images for product '로얄캐닌_리커버리캔_195g__고양이반려견_겸용' successfully processed.\n",
      "Images for product '로얄캐닌_캣_인스팅티브_파우치_85g_체중유지_요로기계_고양이_습식_사료' successfully processed.\n",
      "Images for product '네츄럴랩_케어2_강아지_가수분해_사료_위장간_2kg_유기농_70' successfully processed.\n",
      "Images for product '도착보장_힐스_강아지사료_어덜트_라지브리드_6' successfully processed.\n",
      "Images for product '오리젠_강아지_사료_오리지널_독_11' successfully processed.\n",
      "Images for product '지그니쳐_그레인프리_강아지_눈물사료_화이트피쉬_포뮬라_1kg' successfully processed.\n",
      "Images for product '네츄럴랩_케어2_강아지_가수분해_사료_위장간_2kg_유기농_70' successfully processed.\n",
      "Images for product '로얄캐닌_리커버리캔_195g__고양이반려견_겸용' successfully processed.\n",
      "Images for product '로얄캐닌_강아지사료_포메라니안_습식파우치_85g_X_12P' successfully processed.\n",
      "Images for product '에코6_살몬_6kg_연어_하이포알러제닉_관절_면역_눈물사료' successfully processed.\n",
      "Images for product '도착보장_힐스_강아지사료_어덜트_라지브리드_6' successfully processed.\n",
      "Images for product '로얄캐닌_캣_인스팅티브_파우치_85g_체중유지_요로기계_고양이_습식_사료' successfully processed.\n",
      "Images for product '네츄럴랩_케어2_강아지_가수분해_사료_위장간_2kg_유기농_70' successfully processed.\n",
      "Images for product '오리젠_강아지_사료_오리지널_독_11' successfully processed.\n",
      "Images for product '도착보장_힐스_강아지사료_어덜트_라지브리드_6' successfully processed.\n",
      "Images for product '지그니쳐_그레인프리_강아지_눈물사료_화이트피쉬_포뮬라_1kg' successfully processed.\n",
      "Images for product '로얄캐닌_리커버리캔_195g__고양이반려견_겸용' successfully processed.\n",
      "Images for product '에코6_살몬_6kg_연어_하이포알러제닉_관절_면역_눈물사료' successfully processed.\n",
      "Images for product '로얄캐닌_캣_인스팅티브_파우치_85g_체중유지_요로기계_고양이_습식_사료' successfully processed.\n",
      "Images for product '로얄캐닌_강아지사료_포메라니안_습식파우치_85g_X_12P' successfully processed.\n",
      "Images for product '오리젠_강아지_사료_오리지널_독_11' successfully processed.\n",
      "Images for product '지그니쳐_그레인프리_강아지_눈물사료_화이트피쉬_포뮬라_1kg' successfully processed.\n",
      "Images for product '에코6_살몬_6kg_연어_하이포알러제닉_관절_면역_눈물사료' successfully processed.\n",
      "Images for product '로얄캐닌_강아지사료_포메라니안_습식파우치_85g_X_12P' successfully processed.\n",
      "Images for product '로얄캐닌_캣_인스팅티브_파우치_85g_체중유지_요로기계_고양이_습식_사료' successfully processed.\n",
      "Images for product '오리젠_강아지_사료_오리지널_독_11' successfully processed.\n",
      "Images for product '도착보장_힐스_강아지사료_어덜트_라지브리드_6' successfully processed.\n",
      "Images for product '로얄캐닌_리커버리캔_195g__고양이반려견_겸용' successfully processed.\n",
      "Images for product '네츄럴랩_케어2_강아지_가수분해_사료_위장간_2kg_유기농_70' successfully processed.\n",
      "Images for product '지그니쳐_그레인프리_강아지_눈물사료_화이트피쉬_포뮬라_1kg' successfully processed.\n",
      "Images for product '로얄캐닌_강아지사료_포메라니안_습식파우치_85g_X_12P' successfully processed.\n",
      "Images for product '네츄럴랩_케어2_강아지_가수분해_사료_위장간_2kg_유기농_70' successfully processed.\n",
      "Images for product '에코6_살몬_6kg_연어_하이포알러제닉_관절_면역_눈물사료' successfully processed.\n",
      "Images for product '오리젠_강아지_사료_오리지널_독_11' successfully processed.\n",
      "Images for product '도착보장_힐스_강아지사료_어덜트_라지브리드_6' successfully processed.\n",
      "Images for product '로얄캐닌_강아지사료_포메라니안_습식파우치_85g_X_12P' successfully processed.\n",
      "Images for product '로얄캐닌_리커버리캔_195g__고양이반려견_겸용' successfully processed.\n",
      "Images for product '로얄캐닌_캣_인스팅티브_파우치_85g_체중유지_요로기계_고양이_습식_사료' successfully processed.\n",
      "Images for product '에코6_살몬_6kg_연어_하이포알러제닉_관절_면역_눈물사료' successfully processed.\n",
      "Images for product '네츄럴랩_케어2_강아지_가수분해_사료_위장간_2kg_유기농_70' successfully processed.\n",
      "Images for product '로얄캐닌_리커버리캔_195g__고양이반려견_겸용' successfully processed.\n",
      "Images for product '지그니쳐_그레인프리_강아지_눈물사료_화이트피쉬_포뮬라_1kg' successfully processed.\n",
      "Images for product '로얄캐닌_캣_인스팅티브_파우치_85g_체중유지_요로기계_고양이_습식_사료' successfully processed.\n",
      "Images for product '에코6_살몬_6kg_연어_하이포알러제닉_관절_면역_눈물사료' successfully processed.\n",
      "Images for product '오리젠_강아지_사료_오리지널_독_11' successfully processed.\n",
      "Images for product '도착보장_힐스_강아지사료_어덜트_라지브리드_6' successfully processed.\n",
      "Images for product '로얄캐닌_리커버리캔_195g__고양이반려견_겸용' successfully processed.\n",
      "Images for product '오리젠_강아지_사료_오리지널_독_11' successfully processed.\n",
      "Images for product '네츄럴랩_케어2_강아지_가수분해_사료_위장간_2kg_유기농_70' successfully processed.\n",
      "Images for product '에코6_살몬_6kg_연어_하이포알러제닉_관절_면역_눈물사료' successfully processed.\n",
      "Images for product '로얄캐닌_강아지사료_포메라니안_습식파우치_85g_X_12P' successfully processed.\n",
      "Images for product '도착보장_힐스_강아지사료_어덜트_라지브리드_6' successfully processed.\n",
      "Images for product '로얄캐닌_캣_인스팅티브_파우치_85g_체중유지_요로기계_고양이_습식_사료' successfully processed.\n",
      "Images for product '로얄캐닌_캣_인스팅티브_파우치_85g_체중유지_요로기계_고양이_습식_사료' successfully processed.\n",
      "Images for product '로얄캐닌_강아지사료_포메라니안_습식파우치_85g_X_12P' successfully processed.\n",
      "Images for product '지그니쳐_그레인프리_강아지_눈물사료_화이트피쉬_포뮬라_1kg' successfully processed.\n",
      "Images for product '로얄캐닌_리커버리캔_195g__고양이반려견_겸용' successfully processed.\n",
      "Images for product '도착보장_힐스_강아지사료_어덜트_라지브리드_6' successfully processed.\n",
      "Images for product '네츄럴랩_케어2_강아지_가수분해_사료_위장간_2kg_유기농_70' successfully processed.\n",
      "Images for product '로얄캐닌_강아지사료_포메라니안_습식파우치_85g_X_12P' successfully processed.\n",
      "Images for product '네츄럴랩_케어2_강아지_가수분해_사료_위장간_2kg_유기농_70' successfully processed.\n",
      "Images for product '로얄캐닌_리커버리캔_195g__고양이반려견_겸용' successfully processed.\n",
      "Images for product '지그니쳐_그레인프리_강아지_눈물사료_화이트피쉬_포뮬라_1kg' successfully processed.\n",
      "Images for product '오리젠_강아지_사료_오리지널_독_11' successfully processed.\n",
      "Images for product '로얄캐닌_캣_인스팅티브_파우치_85g_체중유지_요로기계_고양이_습식_사료' successfully processed.\n",
      "Images for product '에코6_살몬_6kg_연어_하이포알러제닉_관절_면역_눈물사료' successfully processed.\n",
      "Images for product '오리젠_강아지_사료_오리지널_독_11' successfully processed.\n",
      "Images for product '네츄럴랩_케어2_강아지_가수분해_사료_위장간_2kg_유기농_70' successfully processed.\n",
      "Images for product '에코6_살몬_6kg_연어_하이포알러제닉_관절_면역_눈물사료' successfully processed.\n",
      "Images for product '로얄캐닌_리커버리캔_195g__고양이반려견_겸용' successfully processed.\n",
      "Images for product '지그니쳐_그레인프리_강아지_눈물사료_화이트피쉬_포뮬라_1kg' successfully processed.\n",
      "Images for product '로얄캐닌_캣_인스팅티브_파우치_85g_체중유지_요로기계_고양이_습식_사료' successfully processed.\n",
      "Images for product '도착보장_힐스_강아지사료_어덜트_라지브리드_6' successfully processed.\n",
      "Images for product '오리젠_강아지_사료_오리지널_독_11' successfully processed.\n",
      "Images for product '도착보장_힐스_강아지사료_어덜트_라지브리드_6' successfully processed.\n",
      "Images for product '네츄럴랩_케어2_강아지_가수분해_사료_위장간_2kg_유기농_70' successfully processed.\n",
      "Images for product '에코6_살몬_6kg_연어_하이포알러제닉_관절_면역_눈물사료' successfully processed.\n",
      "Images for product '도착보장_힐스_강아지사료_어덜트_라지브리드_6' successfully processed.\n",
      "Images for product '로얄캐닌_리커버리캔_195g__고양이반려견_겸용' successfully processed.\n",
      "Images for product '로얄캐닌_캣_인스팅티브_파우치_85g_체중유지_요로기계_고양이_습식_사료' successfully processed.\n",
      "Images for product '에코6_살몬_6kg_연어_하이포알러제닉_관절_면역_눈물사료' successfully processed.\n",
      "Images for product '로얄캐닌_강아지사료_포메라니안_습식파우치_85g_X_12P' successfully processed.\n",
      "Images for product '오리젠_강아지_사료_오리지널_독_11' successfully processed.\n",
      "Images for product '네츄럴랩_케어2_강아지_가수분해_사료_위장간_2kg_유기농_70' successfully processed.\n",
      "Images for product '지그니쳐_그레인프리_강아지_눈물사료_화이트피쉬_포뮬라_1kg' successfully processed.\n",
      "Images for product '로얄캐닌_캣_인스팅티브_파우치_85g_체중유지_요로기계_고양이_습식_사료' successfully processed.\n",
      "Images for product '로얄캐닌_강아지사료_포메라니안_습식파우치_85g_X_12P' successfully processed.\n",
      "Images for product '지그니쳐_그레인프리_강아지_눈물사료_화이트피쉬_포뮬라_1kg' successfully processed.\n",
      "Images for product '로얄캐닌_강아지사료_포메라니안_습식파우치_85g_X_12P' successfully processed.\n",
      "Images for product '도착보장_힐스_강아지사료_어덜트_라지브리드_6' successfully processed.\n",
      "Images for product '네츄럴랩_케어2_강아지_가수분해_사료_위장간_2kg_유기농_70' successfully processed.\n",
      "Images for product '지그니쳐_그레인프리_강아지_눈물사료_화이트피쉬_포뮬라_1kg' successfully processed.\n",
      "Images for product '로얄캐닌_리커버리캔_195g__고양이반려견_겸용' successfully processed.\n",
      "Images for product '에코6_살몬_6kg_연어_하이포알러제닉_관절_면역_눈물사료' successfully processed.\n",
      "Images for product '로얄캐닌_리커버리캔_195g__고양이반려견_겸용' successfully processed.\n",
      "Images for product '오리젠_강아지_사료_오리지널_독_11' successfully processed.\n",
      "Images for product '오리젠_강아지_사료_오리지널_독_11' successfully processed.\n",
      "Images for product '로얄캐닌_캣_인스팅티브_파우치_85g_체중유지_요로기계_고양이_습식_사료' successfully processed.\n",
      "Images for product '도착보장_힐스_강아지사료_어덜트_라지브리드_6' successfully processed.\n",
      "Images for product '네츄럴랩_케어2_강아지_가수분해_사료_위장간_2kg_유기농_70' successfully processed.\n",
      "Images for product '에코6_살몬_6kg_연어_하이포알러제닉_관절_면역_눈물사료' successfully processed.\n",
      "Images for product '로얄캐닌_캣_인스팅티브_파우치_85g_체중유지_요로기계_고양이_습식_사료' successfully processed.\n",
      "Images for product '로얄캐닌_리커버리캔_195g__고양이반려견_겸용' successfully processed.\n",
      "Images for product '도착보장_힐스_강아지사료_어덜트_라지브리드_6' successfully processed.\n",
      "Images for product '지그니쳐_그레인프리_강아지_눈물사료_화이트피쉬_포뮬라_1kg' successfully processed.\n",
      "Images for product '오리젠_강아지_사료_오리지널_독_11' successfully processed.\n",
      "Images for product '로얄캐닌_강아지사료_포메라니안_습식파우치_85g_X_12P' successfully processed.\n",
      "Images for product '로얄캐닌_강아지사료_포메라니안_습식파우치_85g_X_12P' successfully processed.\n",
      "Images for product '네츄럴랩_케어2_강아지_가수분해_사료_위장간_2kg_유기농_70' successfully processed.\n",
      "Images for product '지그니쳐_그레인프리_강아지_눈물사료_화이트피쉬_포뮬라_1kg' successfully processed.\n",
      "Images for product '에코6_살몬_6kg_연어_하이포알러제닉_관절_면역_눈물사료' successfully processed.\n",
      "Images for product '오리젠_강아지_사료_오리지널_독_11' successfully processed.\n",
      "Images for product '도착보장_힐스_강아지사료_어덜트_라지브리드_6' successfully processed.\n",
      "Images for product '로얄캐닌_캣_인스팅티브_파우치_85g_체중유지_요로기계_고양이_습식_사료' successfully processed.\n",
      "Images for product '로얄캐닌_리커버리캔_195g__고양이반려견_겸용' successfully processed.\n",
      "Images for product '네츄럴랩_케어2_강아지_가수분해_사료_위장간_2kg_유기농_70' successfully processed.\n",
      "Images for product '로얄캐닌_리커버리캔_195g__고양이반려견_겸용' successfully processed.\n",
      "Images for product '오리젠_강아지_사료_오리지널_독_11' successfully processed.\n",
      "Images for product '로얄캐닌_캣_인스팅티브_파우치_85g_체중유지_요로기계_고양이_습식_사료' successfully processed.\n",
      "Images for product '에코6_살몬_6kg_연어_하이포알러제닉_관절_면역_눈물사료' successfully processed.\n",
      "Images for product '지그니쳐_그레인프리_강아지_눈물사료_화이트피쉬_포뮬라_1kg' successfully processed.\n",
      "Images for product '도착보장_힐스_강아지사료_어덜트_라지브리드_6' successfully processed.\n",
      "Images for product '로얄캐닌_강아지사료_포메라니안_습식파우치_85g_X_12P' successfully processed.\n",
      "Images for product '네츄럴랩_케어2_강아지_가수분해_사료_위장간_2kg_유기농_70' successfully processed.\n",
      "Images for product '지그니쳐_그레인프리_강아지_눈물사료_화이트피쉬_포뮬라_1kg' successfully processed.\n",
      "Images for product '로얄캐닌_리커버리캔_195g__고양이반려견_겸용' successfully processed.\n",
      "Images for product '도착보장_힐스_강아지사료_어덜트_라지브리드_6' successfully processed.\n",
      "Images for product '로얄캐닌_캣_인스팅티브_파우치_85g_체중유지_요로기계_고양이_습식_사료' successfully processed.\n",
      "Images for product '오리젠_강아지_사료_오리지널_독_11' successfully processed.\n",
      "Images for product '네츄럴랩_케어2_강아지_가수분해_사료_위장간_2kg_유기농_70' successfully processed.\n",
      "Images for product '에코6_살몬_6kg_연어_하이포알러제닉_관절_면역_눈물사료' successfully processed.\n",
      "Images for product '지그니쳐_그레인프리_강아지_눈물사료_화이트피쉬_포뮬라_1kg' successfully processed.\n",
      "Images for product '로얄캐닌_캣_인스팅티브_파우치_85g_체중유지_요로기계_고양이_습식_사료' successfully processed.\n",
      "Images for product '네츄럴랩_케어2_강아지_가수분해_사료_위장간_2kg_유기농_70' successfully processed.\n",
      "Images for product '도착보장_힐스_강아지사료_어덜트_라지브리드_6' successfully processed.\n",
      "Images for product '로얄캐닌_리커버리캔_195g__고양이반려견_겸용' successfully processed.\n",
      "Images for product '오리젠_강아지_사료_오리지널_독_11' successfully processed.\n",
      "Images for product '로얄캐닌_강아지사료_포메라니안_습식파우치_85g_X_12P' successfully processed.\n",
      "Images for product '에코6_살몬_6kg_연어_하이포알러제닉_관절_면역_눈물사료' successfully processed.\n",
      "Images for product '로얄캐닌_리커버리캔_195g__고양이반려견_겸용' successfully processed.\n",
      "Images for product '지그니쳐_그레인프리_강아지_눈물사료_화이트피쉬_포뮬라_1kg' successfully processed.\n",
      "Images for product '네츄럴랩_케어2_강아지_가수분해_사료_위장간_2kg_유기농_70' successfully processed.\n",
      "Images for product '뉴트리나_비스트로_고양이사료_애묘_사료_6Kg_코스트코_건식_캣_대용량_건사료' successfully processed.\n",
      "Images for product '지그니쳐_그레인프리_강아지_눈물사료_화이트피쉬_포뮬라_1kg' successfully processed.\n",
      "Images for product '에코6_살몬_6kg_연어_하이포알러제닉_관절_면역_눈물사료' successfully processed.\n",
      "Images for product '로얄캐닌_강아지사료_포메라니안_습식파우치_85g_X_12P' successfully processed.\n",
      "Images for product '오리젠_강아지_사료_오리지널_독_11' successfully processed.\n",
      "Images for product '로얄캐닌_캣_인스팅티브_파우치_85g_체중유지_요로기계_고양이_습식_사료' successfully processed.\n",
      "Images for product '도착보장_힐스_강아지사료_어덜트_라지브리드_6' successfully processed.\n",
      "Images for product '에코6_살몬_6kg_연어_하이포알러제닉_관절_면역_눈물사료' successfully processed.\n",
      "Images for product '로얄캐닌_리커버리캔_195g__고양이반려견_겸용' successfully processed.\n",
      "Images for product '로얄캐닌_캣_인스팅티브_파우치_85g_체중유지_요로기계_고양이_습식_사료' successfully processed.\n",
      "Images for product '오리젠_강아지_사료_오리지널_독_11' successfully processed.\n",
      "Images for product '지그니쳐_그레인프리_강아지_눈물사료_화이트피쉬_포뮬라_1kg' successfully processed.\n",
      "Images for product '도착보장_힐스_강아지사료_어덜트_라지브리드_6' successfully processed.\n",
      "Images for product '에코6_살몬_6kg_연어_하이포알러제닉_관절_면역_눈물사료' successfully processed.\n",
      "Images for product '로얄캐닌_강아지사료_포메라니안_습식파우치_85g_X_12P' successfully processed.\n",
      "Images for product '네츄럴랩_케어2_강아지_가수분해_사료_위장간_2kg_유기농_70' successfully processed.\n",
      "Images for product '로얄캐닌_리커버리캔_195g__고양이반려견_겸용' successfully processed.\n",
      "Images for product '로얄캐닌_캣_인스팅티브_파우치_85g_체중유지_요로기계_고양이_습식_사료' successfully processed.\n",
      "Images for product '로얄캐닌_리커버리캔_195g__고양이반려견_겸용' successfully processed.\n",
      "Images for product '도착보장_힐스_강아지사료_어덜트_라지브리드_6' successfully processed.\n",
      "Images for product '로얄캐닌_강아지사료_포메라니안_습식파우치_85g_X_12P' successfully processed.\n",
      "Images for product '로얄캐닌_강아지사료_포메라니안_습식파우치_85g_X_12P' successfully processed.\n",
      "Images for product '네츄럴랩_케어2_강아지_가수분해_사료_위장간_2kg_유기농_70' successfully processed.\n",
      "Images for product '오리젠_강아지_사료_오리지널_독_11' successfully processed.\n",
      "Images for product '에코6_살몬_6kg_연어_하이포알러제닉_관절_면역_눈물사료' successfully processed.\n",
      "Images for product '도착보장_힐스_강아지사료_어덜트_라지브리드_6' successfully processed.\n",
      "Images for product '에코6_살몬_6kg_연어_하이포알러제닉_관절_면역_눈물사료' successfully processed.\n",
      "Error processing images for product '지그니쳐_그레인프리_강아지_눈물사료_화이트피쉬_포뮬라_1kg': ('Connection broken: IncompleteRead(13927 bytes read, 763464 more expected)', IncompleteRead(13927 bytes read, 763464 more expected))\n",
      "Images for product '로얄캐닌_캣_인스팅티브_파우치_85g_체중유지_요로기계_고양이_습식_사료' successfully processed.\n",
      "Images for product '지그니쳐_그레인프리_강아지_눈물사료_화이트피쉬_포뮬라_1kg' successfully processed.\n",
      "Images for product '네츄럴랩_케어2_강아지_가수분해_사료_위장간_2kg_유기농_70' successfully processed.\n",
      "Images for product '로얄캐닌_캣_인스팅티브_파우치_85g_체중유지_요로기계_고양이_습식_사료' successfully processed.\n",
      "Images for product '로얄캐닌_리커버리캔_195g__고양이반려견_겸용' successfully processed.\n",
      "Images for product '오리젠_강아지_사료_오리지널_독_11' successfully processed.\n",
      "Images for product '로얄캐닌_강아지사료_포메라니안_습식파우치_85g_X_12P' successfully processed.\n",
      "Images for product '네츄럴랩_케어2_강아지_가수분해_사료_위장간_2kg_유기농_70' successfully processed.\n",
      "Images for product '로얄캐닌_강아지사료_포메라니안_습식파우치_85g_X_12P' successfully processed.\n",
      "Images for product '지그니쳐_그레인프리_강아지_눈물사료_화이트피쉬_포뮬라_1kg' successfully processed.\n",
      "Images for product '로얄캐닌_리커버리캔_195g__고양이반려견_겸용' successfully processed.\n",
      "Images for product '오리젠_강아지_사료_오리지널_독_11' successfully processed.\n",
      "Images for product '에코6_살몬_6kg_연어_하이포알러제닉_관절_면역_눈물사료' successfully processed.\n",
      "Images for product '로얄캐닌_리커버리캔_195g__고양이반려견_겸용' successfully processed.\n",
      "Images for product '로얄캐닌_캣_인스팅티브_파우치_85g_체중유지_요로기계_고양이_습식_사료' successfully processed.\n",
      "Images for product '로얄캐닌_캣_인스팅티브_파우치_85g_체중유지_요로기계_고양이_습식_사료' successfully processed.\n",
      "Images for product '에코6_살몬_6kg_연어_하이포알러제닉_관절_면역_눈물사료' successfully processed.\n",
      "Images for product '도착보장_힐스_강아지사료_어덜트_라지브리드_6' successfully processed.\n",
      "Images for product '네츄럴랩_케어2_강아지_가수분해_사료_위장간_2kg_유기농_70' successfully processed.\n",
      "Images for product '도착보장_힐스_강아지사료_어덜트_라지브리드_6' successfully processed.\n",
      "Images for product '로얄캐닌_캣_인스팅티브_파우치_85g_체중유지_요로기계_고양이_습식_사료' successfully processed.\n",
      "Images for product '로얄캐닌_리커버리캔_195g__고양이반려견_겸용' successfully processed.\n",
      "Images for product '지그니쳐_그레인프리_강아지_눈물사료_화이트피쉬_포뮬라_1kg' successfully processed.\n",
      "Images for product '에코6_살몬_6kg_연어_하이포알러제닉_관절_면역_눈물사료' successfully processed.\n",
      "Images for product '오리젠_강아지_사료_오리지널_독_11' successfully processed.\n",
      "Images for product '네츄럴랩_케어2_강아지_가수분해_사료_위장간_2kg_유기농_70' successfully processed.\n",
      "Images for product '도착보장_힐스_강아지사료_어덜트_라지브리드_6' successfully processed.\n",
      "Images for product '로얄캐닌_리커버리캔_195g__고양이반려견_겸용' successfully processed.\n",
      "Images for product '로얄캐닌_캣_인스팅티브_파우치_85g_체중유지_요로기계_고양이_습식_사료' successfully processed.\n",
      "Images for product '로얄캐닌_강아지사료_포메라니안_습식파우치_85g_X_12P' successfully processed.\n",
      "Images for product '네츄럴랩_케어2_강아지_가수분해_사료_위장간_2kg_유기농_70' successfully processed.\n",
      "Images for product '오리젠_강아지_사료_오리지널_독_11' successfully processed.\n",
      "Images for product '도착보장_힐스_강아지사료_어덜트_라지브리드_6' successfully processed.\n",
      "Images for product '지그니쳐_그레인프리_강아지_눈물사료_화이트피쉬_포뮬라_1kg' successfully processed.\n",
      "Images for product '네츄럴랩_케어2_강아지_가수분해_사료_위장간_2kg_유기농_70' successfully processed.\n",
      "Images for product '로얄캐닌_캣_인스팅티브_파우치_85g_체중유지_요로기계_고양이_습식_사료' successfully processed.\n",
      "Images for product '로얄캐닌_리커버리캔_195g__고양이반려견_겸용' successfully processed.\n",
      "Images for product '에코6_살몬_6kg_연어_하이포알러제닉_관절_면역_눈물사료' successfully processed.\n",
      "Images for product '지그니쳐_그레인프리_강아지_눈물사료_화이트피쉬_포뮬라_1kg' successfully processed.\n",
      "Images for product '로얄캐닌_강아지사료_포메라니안_습식파우치_85g_X_12P' successfully processed.\n",
      "Images for product '오리젠_강아지_사료_오리지널_독_11' successfully processed.\n",
      "Images for product '로얄캐닌_리커버리캔_195g__고양이반려견_겸용' successfully processed.\n",
      "Images for product '로얄캐닌_리커버리캔_195g__고양이반려견_겸용' successfully processed.\n",
      "Images for product '로얄캐닌_캣_인스팅티브_파우치_85g_체중유지_요로기계_고양이_습식_사료' successfully processed.\n",
      "Images for product '에코6_살몬_6kg_연어_하이포알러제닉_관절_면역_눈물사료' successfully processed.\n",
      "Images for product '오리젠_강아지_사료_오리지널_독_11' successfully processed.\n",
      "Images for product '지그니쳐_그레인프리_강아지_눈물사료_화이트피쉬_포뮬라_1kg' successfully processed.\n",
      "Images for product '로얄캐닌_강아지사료_포메라니안_습식파우치_85g_X_12P' successfully processed.\n",
      "Images for product '로얄캐닌_캣_인스팅티브_파우치_85g_체중유지_요로기계_고양이_습식_사료' successfully processed.\n",
      "Images for product '에코6_살몬_6kg_연어_하이포알러제닉_관절_면역_눈물사료' successfully processed.\n",
      "Images for product '네츄럴랩_케어2_강아지_가수분해_사료_위장간_2kg_유기농_70' successfully processed.\n",
      "Images for product '네츄럴랩_케어2_강아지_가수분해_사료_위장간_2kg_유기농_70' successfully processed.\n",
      "Images for product '도착보장_힐스_강아지사료_어덜트_라지브리드_6' successfully processed.\n",
      "Images for product '도착보장_힐스_강아지사료_어덜트_라지브리드_6' successfully processed.\n",
      "Images for product '도착보장_힐스_강아지사료_어덜트_라지브리드_6' successfully processed.\n",
      "Images for product '로얄캐닌_강아지사료_포메라니안_습식파우치_85g_X_12P' successfully processed.\n",
      "Images for product '오리젠_강아지_사료_오리지널_독_11' successfully processed.\n",
      "Images for product '네츄럴랩_케어2_강아지_가수분해_사료_위장간_2kg_유기농_70' successfully processed.\n",
      "Images for product '지그니쳐_그레인프리_강아지_눈물사료_화이트피쉬_포뮬라_1kg' successfully processed.\n",
      "Images for product '로얄캐닌_강아지사료_포메라니안_습식파우치_85g_X_12P' successfully processed.\n",
      "Images for product '오리젠_강아지_사료_오리지널_독_11' successfully processed.\n",
      "Images for product '도착보장_힐스_강아지사료_어덜트_라지브리드_6' successfully processed.\n",
      "Images for product '로얄캐닌_강아지사료_포메라니안_습식파우치_85g_X_12P' successfully processed.\n",
      "Images for product '지그니쳐_그레인프리_강아지_눈물사료_화이트피쉬_포뮬라_1kg' successfully processed.\n",
      "Images for product '로얄캐닌_캣_인스팅티브_파우치_85g_체중유지_요로기계_고양이_습식_사료' successfully processed.\n",
      "Images for product '로얄캐닌_캣_인스팅티브_파우치_85g_체중유지_요로기계_고양이_습식_사료' successfully processed.\n",
      "Images for product '에코6_살몬_6kg_연어_하이포알러제닉_관절_면역_눈물사료' successfully processed.\n",
      "Images for product '오리젠_강아지_사료_오리지널_독_11' successfully processed.\n",
      "Images for product '네츄럴랩_케어2_강아지_가수분해_사료_위장간_2kg_유기농_70' successfully processed.\n",
      "Images for product '로얄캐닌_리커버리캔_195g__고양이반려견_겸용' successfully processed.\n",
      "Images for product '도착보장_힐스_강아지사료_어덜트_라지브리드_6' successfully processed.\n",
      "Images for product '로얄캐닌_강아지사료_포메라니안_습식파우치_85g_X_12P' successfully processed.\n",
      "Images for product '네츄럴랩_케어2_강아지_가수분해_사료_위장간_2kg_유기농_70' successfully processed.\n",
      "Images for product '지그니쳐_그레인프리_강아지_눈물사료_화이트피쉬_포뮬라_1kg' successfully processed.\n",
      "Images for product '로얄캐닌_리커버리캔_195g__고양이반려견_겸용' successfully processed.\n",
      "Images for product '로얄캐닌_캣_인스팅티브_파우치_85g_체중유지_요로기계_고양이_습식_사료' successfully processed.\n",
      "Images for product '도착보장_힐스_강아지사료_어덜트_라지브리드_6' successfully processed.\n",
      "Images for product '로얄캐닌_리커버리캔_195g__고양이반려견_겸용' successfully processed.\n",
      "Images for product '에코6_살몬_6kg_연어_하이포알러제닉_관절_면역_눈물사료' successfully processed.\n",
      "Images for product '오리젠_강아지_사료_오리지널_독_11' successfully processed.\n",
      "Images for product '네츄럴랩_케어2_강아지_가수분해_사료_위장간_2kg_유기농_70' successfully processed.\n",
      "Images for product '로얄캐닌_캣_인스팅티브_파우치_85g_체중유지_요로기계_고양이_습식_사료' successfully processed.\n",
      "Images for product '지그니쳐_그레인프리_강아지_눈물사료_화이트피쉬_포뮬라_1kg' successfully processed.\n",
      "Images for product '에코6_살몬_6kg_연어_하이포알러제닉_관절_면역_눈물사료' successfully processed.\n",
      "Images for product '도착보장_힐스_강아지사료_어덜트_라지브리드_6' successfully processed.\n",
      "Images for product '네츄럴랩_케어2_강아지_가수분해_사료_위장간_2kg_유기농_70' successfully processed.\n",
      "Images for product '로얄캐닌_강아지사료_포메라니안_습식파우치_85g_X_12P' successfully processed.\n",
      "Images for product '에코6_살몬_6kg_연어_하이포알러제닉_관절_면역_눈물사료' successfully processed.\n",
      "Images for product '로얄캐닌_리커버리캔_195g__고양이반려견_겸용' successfully processed.\n",
      "Images for product '지그니쳐_그레인프리_강아지_눈물사료_화이트피쉬_포뮬라_1kg' successfully processed.\n",
      "Images for product '로얄캐닌_캣_인스팅티브_파우치_85g_체중유지_요로기계_고양이_습식_사료' successfully processed.\n",
      "Images for product '도착보장_힐스_강아지사료_어덜트_라지브리드_6' successfully processed.\n",
      "Images for product '지그니쳐_그레인프리_강아지_눈물사료_화이트피쉬_포뮬라_1kg' successfully processed.\n",
      "Images for product '로얄캐닌_캣_인스팅티브_파우치_85g_체중유지_요로기계_고양이_습식_사료' successfully processed.\n",
      "Images for product '로얄캐닌_리커버리캔_195g__고양이반려견_겸용' successfully processed.\n",
      "Images for product '오리젠_강아지_사료_오리지널_독_11' successfully processed.\n",
      "Images for product '에코6_살몬_6kg_연어_하이포알러제닉_관절_면역_눈물사료' successfully processed.\n",
      "Images for product '네츄럴랩_케어2_강아지_가수분해_사료_위장간_2kg_유기농_70' successfully processed.\n",
      "Images for product '로얄캐닌_강아지사료_포메라니안_습식파우치_85g_X_12P' successfully processed.\n",
      "Images for product '오리젠_강아지_사료_오리지널_독_11' successfully processed.\n",
      "Images for product '도착보장_힐스_강아지사료_어덜트_라지브리드_6' successfully processed.\n",
      "Images for product '로얄캐닌_강아지사료_포메라니안_습식파우치_85g_X_12P' successfully processed.\n",
      "Images for product '로얄캐닌_리커버리캔_195g__고양이반려견_겸용' successfully processed.\n",
      "Images for product '로얄캐닌_캣_인스팅티브_파우치_85g_체중유지_요로기계_고양이_습식_사료' successfully processed.\n",
      "Images for product '네츄럴랩_케어2_강아지_가수분해_사료_위장간_2kg_유기농_70' successfully processed.\n",
      "Images for product '지그니쳐_그레인프리_강아지_눈물사료_화이트피쉬_포뮬라_1kg' successfully processed.\n",
      "Images for product '무마진_소프트사료_연어_황태_1kg' successfully processed.\n",
      "Images for product '로얄캐닌_리커버리캔_195g__고양이반려견_겸용' successfully processed.\n",
      "Images for product '로얄캐닌_캣_인스팅티브_파우치_85g_체중유지_요로기계_고양이_습식_사료' successfully processed.\n",
      "Images for product '에코6_살몬_6kg_연어_하이포알러제닉_관절_면역_눈물사료' successfully processed.\n",
      "Images for product '에코6_살몬_6kg_연어_하이포알러제닉_관절_면역_눈물사료' successfully processed.\n",
      "Images for product '오리젠_강아지_사료_오리지널_독_11' successfully processed.\n",
      "Images for product '에코6_살몬_6kg_연어_하이포알러제닉_관절_면역_눈물사료' successfully processed.\n",
      "Images for product '지그니쳐_그레인프리_강아지_눈물사료_화이트피쉬_포뮬라_1kg' successfully processed.\n",
      "Images for product '네츄럴랩_케어2_강아지_가수분해_사료_위장간_2kg_유기농_70' successfully processed.\n",
      "Images for product '네츄럴랩_케어2_강아지_가수분해_사료_위장간_2kg_유기농_70' successfully processed.\n",
      "Images for product '오리젠_강아지_사료_오리지널_독_11' successfully processed.\n",
      "Images for product '도착보장_힐스_강아지사료_어덜트_라지브리드_6' successfully processed.\n",
      "Images for product '도착보장_힐스_강아지사료_어덜트_라지브리드_6' successfully processed.\n",
      "Images for product '지그니쳐_그레인프리_강아지_눈물사료_화이트피쉬_포뮬라_1kg' successfully processed.\n",
      "Images for product '로얄캐닌_강아지사료_포메라니안_습식파우치_85g_X_12P' successfully processed.\n",
      "Images for product '로얄캐닌_리커버리캔_195g__고양이반려견_겸용' successfully processed.\n",
      "Images for product '도착보장_힐스_강아지사료_어덜트_라지브리드_6' successfully processed.\n",
      "Images for product '로얄캐닌_강아지사료_포메라니안_습식파우치_85g_X_12P' successfully processed.\n",
      "Images for product '지그니쳐_그레인프리_강아지_눈물사료_화이트피쉬_포뮬라_1kg' successfully processed.\n",
      "Images for product '로얄캐닌_캣_인스팅티브_파우치_85g_체중유지_요로기계_고양이_습식_사료' successfully processed.\n",
      "Images for product '에코6_살몬_6kg_연어_하이포알러제닉_관절_면역_눈물사료' successfully processed.\n",
      "Images for product '로얄캐닌_리커버리캔_195g__고양이반려견_겸용' successfully processed.\n",
      "Images for product '로얄캐닌_캣_인스팅티브_파우치_85g_체중유지_요로기계_고양이_습식_사료' successfully processed.\n",
      "Images for product '오리젠_강아지_사료_오리지널_독_11' successfully processed.\n",
      "Images for product '도착보장_힐스_강아지사료_어덜트_라지브리드_6' successfully processed.\n",
      "Images for product '에코6_살몬_6kg_연어_하이포알러제닉_관절_면역_눈물사료' successfully processed.\n",
      "Images for product '네츄럴랩_케어2_강아지_가수분해_사료_위장간_2kg_유기농_70' successfully processed.\n",
      "Images for product '도착보장_힐스_강아지사료_어덜트_라지브리드_6' successfully processed.\n",
      "Images for product '오리젠_강아지_사료_오리지널_독_11' successfully processed.\n",
      "Images for product '네츄럴랩_케어2_강아지_가수분해_사료_위장간_2kg_유기농_70' successfully processed.\n",
      "Images for product '로얄캐닌_리커버리캔_195g__고양이반려견_겸용' successfully processed.\n",
      "Images for product '네츄럴랩_케어2_강아지_가수분해_사료_위장간_2kg_유기농_70' successfully processed.\n",
      "Images for product '지그니쳐_그레인프리_강아지_눈물사료_화이트피쉬_포뮬라_1kg' successfully processed.\n",
      "Images for product '오리젠_강아지_사료_오리지널_독_11' successfully processed.\n",
      "Images for product '로얄캐닌_캣_인스팅티브_파우치_85g_체중유지_요로기계_고양이_습식_사료' successfully processed.\n",
      "Images for product '에코6_살몬_6kg_연어_하이포알러제닉_관절_면역_눈물사료' successfully processed.\n",
      "Images for product '로얄캐닌_강아지사료_포메라니안_습식파우치_85g_X_12P' successfully processed.\n",
      "Images for product '로얄캐닌_강아지사료_포메라니안_습식파우치_85g_X_12P' successfully processed.\n",
      "Images for product '지그니쳐_그레인프리_강아지_눈물사료_화이트피쉬_포뮬라_1kg' successfully processed.\n",
      "Images for product '도착보장_힐스_강아지사료_어덜트_라지브리드_6' successfully processed.\n",
      "Images for product '로얄캐닌_강아지사료_포메라니안_습식파우치_85g_X_12P' successfully processed.\n",
      "Images for product '로얄캐닌_리커버리캔_195g__고양이반려견_겸용' successfully processed.\n",
      "Images for product '로얄캐닌_캣_인스팅티브_파우치_85g_체중유지_요로기계_고양이_습식_사료' successfully processed.\n",
      "Images for product '오리젠_강아지_사료_오리지널_독_11' successfully processed.\n",
      "Images for product '로얄캐닌_강아지사료_포메라니안_습식파우치_85g_X_12P' successfully processed.\n",
      "Images for product '네츄럴랩_케어2_강아지_가수분해_사료_위장간_2kg_유기농_70' successfully processed.\n",
      "Images for product '지그니쳐_그레인프리_강아지_눈물사료_화이트피쉬_포뮬라_1kg' successfully processed.\n",
      "Images for product '로얄캐닌_리커버리캔_195g__고양이반려견_겸용' successfully processed.\n",
      "Images for product '로얄캐닌_캣_인스팅티브_파우치_85g_체중유지_요로기계_고양이_습식_사료' successfully processed.\n",
      "Images for product '오리젠_강아지_사료_오리지널_독_11' successfully processed.\n",
      "Images for product '도착보장_힐스_강아지사료_어덜트_라지브리드_6' successfully processed.\n",
      "Images for product '도착보장_힐스_강아지사료_어덜트_라지브리드_6' successfully processed.\n",
      "Images for product '에코6_살몬_6kg_연어_하이포알러제닉_관절_면역_눈물사료' successfully processed.\n",
      "Images for product '네츄럴랩_케어2_강아지_가수분해_사료_위장간_2kg_유기농_70' successfully processed.\n",
      "Images for product '에코6_살몬_6kg_연어_하이포알러제닉_관절_면역_눈물사료' successfully processed.\n",
      "Images for product '지그니쳐_그레인프리_강아지_눈물사료_화이트피쉬_포뮬라_1kg' successfully processed.\n",
      "Images for product '로얄캐닌_캣_인스팅티브_파우치_85g_체중유지_요로기계_고양이_습식_사료' successfully processed.\n",
      "Images for product '오리젠_강아지_사료_오리지널_독_11' successfully processed.\n",
      "Images for product '로얄캐닌_강아지사료_포메라니안_습식파우치_85g_X_12P' successfully processed.\n",
      "Images for product '로얄캐닌_강아지사료_포메라니안_습식파우치_85g_X_12P' successfully processed.\n",
      "Images for product '로얄캐닌_리커버리캔_195g__고양이반려견_겸용' successfully processed.\n",
      "Images for product '에코6_살몬_6kg_연어_하이포알러제닉_관절_면역_눈물사료' successfully processed.\n",
      "Images for product '로얄캐닌_캣_인스팅티브_파우치_85g_체중유지_요로기계_고양이_습식_사료' successfully processed.\n",
      "Images for product '도착보장_힐스_강아지사료_어덜트_라지브리드_6' successfully processed.\n",
      "Images for product '오리젠_강아지_사료_오리지널_독_11' successfully processed.\n",
      "Images for product '지그니쳐_그레인프리_강아지_눈물사료_화이트피쉬_포뮬라_1kg' successfully processed.\n",
      "Images for product '에코6_살몬_6kg_연어_하이포알러제닉_관절_면역_눈물사료' successfully processed.\n",
      "Images for product '네츄럴랩_케어2_강아지_가수분해_사료_위장간_2kg_유기농_70' successfully processed.\n",
      "Images for product '로얄캐닌_강아지사료_포메라니안_습식파우치_85g_X_12P' successfully processed.\n",
      "Images for product '오리젠_강아지_사료_오리지널_독_11' successfully processed.\n",
      "Images for product '로얄캐닌_캣_인스팅티브_파우치_85g_체중유지_요로기계_고양이_습식_사료' successfully processed.\n",
      "Images for product '로얄캐닌_강아지사료_포메라니안_습식파우치_85g_X_12P' successfully processed.\n",
      "Images for product '네츄럴랩_케어2_강아지_가수분해_사료_위장간_2kg_유기농_70' successfully processed.\n",
      "Images for product '지그니쳐_그레인프리_강아지_눈물사료_화이트피쉬_포뮬라_1kg' successfully processed.\n",
      "Images for product '에코6_살몬_6kg_연어_하이포알러제닉_관절_면역_눈물사료' successfully processed.\n",
      "Images for product '네츄럴랩_케어2_강아지_가수분해_사료_위장간_2kg_유기농_70' successfully processed.\n",
      "Images for product '도착보장_힐스_강아지사료_어덜트_라지브리드_6' successfully processed.\n",
      "Images for product '지그니쳐_그레인프리_강아지_눈물사료_화이트피쉬_포뮬라_1kg' successfully processed.\n",
      "Images for product '에코6_살몬_6kg_연어_하이포알러제닉_관절_면역_눈물사료' successfully processed.\n",
      "Images for product '로얄캐닌_캣_인스팅티브_파우치_85g_체중유지_요로기계_고양이_습식_사료' successfully processed.\n",
      "Images for product '지그니쳐_그레인프리_강아지_눈물사료_화이트피쉬_포뮬라_1kg' successfully processed.\n",
      "Images for product '로얄캐닌_캣_인스팅티브_파우치_85g_체중유지_요로기계_고양이_습식_사료' successfully processed.\n",
      "Images for product '로얄캐닌_강아지사료_포메라니안_습식파우치_85g_X_12P' successfully processed.\n",
      "Images for product '로얄캐닌_리커버리캔_195g__고양이반려견_겸용' successfully processed.\n",
      "Images for product '에코6_살몬_6kg_연어_하이포알러제닉_관절_면역_눈물사료' successfully processed.\n",
      "Images for product '로얄캐닌_리커버리캔_195g__고양이반려견_겸용' successfully processed.\n",
      "Images for product '로얄캐닌_리커버리캔_195g__고양이반려견_겸용' successfully processed.\n",
      "Images for product '로얄캐닌_캣_인스팅티브_파우치_85g_체중유지_요로기계_고양이_습식_사료' successfully processed.\n",
      "Images for product '도착보장_힐스_강아지사료_어덜트_라지브리드_6' successfully processed.\n",
      "Images for product '로얄캐닌_리커버리캔_195g__고양이반려견_겸용' successfully processed.\n",
      "Images for product '오리젠_강아지_사료_오리지널_독_11' successfully processed.\n",
      "Images for product '로얄캐닌_강아지사료_포메라니안_습식파우치_85g_X_12P' successfully processed.\n",
      "Images for product '로얄캐닌_강아지사료_포메라니안_습식파우치_85g_X_12P' successfully processed.\n",
      "Images for product '오리젠_강아지_사료_오리지널_독_11' successfully processed.\n",
      "Images for product '네츄럴랩_케어2_강아지_가수분해_사료_위장간_2kg_유기농_70' successfully processed.\n",
      "Images for product '도착보장_힐스_강아지사료_어덜트_라지브리드_6' successfully processed.\n",
      "Images for product '오리젠_강아지_사료_오리지널_독_11' successfully processed.\n",
      "Images for product '네츄럴랩_케어2_강아지_가수분해_사료_위장간_2kg_유기농_70' successfully processed.\n",
      "Images for product '오리젠_강아지_사료_오리지널_독_11' successfully processed.\n",
      "Images for product '지그니쳐_그레인프리_강아지_눈물사료_화이트피쉬_포뮬라_1kg' successfully processed.\n",
      "Images for product '로얄캐닌_강아지사료_포메라니안_습식파우치_85g_X_12P' successfully processed.\n",
      "Images for product '에코6_살몬_6kg_연어_하이포알러제닉_관절_면역_눈물사료' successfully processed.\n",
      "Images for product '로얄캐닌_리커버리캔_195g__고양이반려견_겸용' successfully processed.\n",
      "Images for product '도착보장_힐스_강아지사료_어덜트_라지브리드_6' successfully processed.\n",
      "Images for product '로얄캐닌_캣_인스팅티브_파우치_85g_체중유지_요로기계_고양이_습식_사료' successfully processed.\n",
      "Images for product '네츄럴랩_케어2_강아지_가수분해_사료_위장간_2kg_유기농_70' successfully processed.\n",
      "Images for product '로얄캐닌_리커버리캔_195g__고양이반려견_겸용' successfully processed.\n",
      "Images for product '도착보장_힐스_강아지사료_어덜트_라지브리드_6' successfully processed.\n",
      "Images for product '로얄캐닌_강아지사료_포메라니안_습식파우치_85g_X_12P' successfully processed.\n",
      "Images for product '오리젠_강아지_사료_오리지널_독_11' successfully processed.\n",
      "Images for product '지그니쳐_그레인프리_강아지_눈물사료_화이트피쉬_포뮬라_1kg' successfully processed.\n",
      "Images for product '도착보장_힐스_강아지사료_어덜트_라지브리드_6' successfully processed.\n",
      "Images for product '에코6_살몬_6kg_연어_하이포알러제닉_관절_면역_눈물사료' successfully processed.\n",
      "Images for product '지그니쳐_그레인프리_강아지_눈물사료_화이트피쉬_포뮬라_1kg' successfully processed.\n",
      "Images for product '네츄럴랩_케어2_강아지_가수분해_사료_위장간_2kg_유기농_70' successfully processed.\n",
      "Images for product '로얄캐닌_캣_인스팅티브_파우치_85g_체중유지_요로기계_고양이_습식_사료' successfully processed.\n",
      "Images for product '오리젠_강아지_사료_오리지널_독_11' successfully processed.\n",
      "Images for product '에코6_살몬_6kg_연어_하이포알러제닉_관절_면역_눈물사료' successfully processed.\n",
      "Images for product '네츄럴랩_케어2_강아지_가수분해_사료_위장간_2kg_유기농_70' successfully processed.\n",
      "Images for product '로얄캐닌_리커버리캔_195g__고양이반려견_겸용' successfully processed.\n"
     ]
    },
    {
     "name": "stderr",
     "output_type": "stream",
     "text": [
      "Service process refused to terminate gracefully with SIGTERM, escalating to SIGKILL.\n",
      "Traceback (most recent call last):\n",
      "  File \"c:\\Users\\lbw\\anaconda3\\envs\\crawling\\Lib\\site-packages\\selenium\\webdriver\\common\\service.py\", line 172, in _terminate_process\n",
      "    self.process.wait(60)\n",
      "  File \"c:\\Users\\lbw\\anaconda3\\envs\\crawling\\Lib\\subprocess.py\", line 1264, in wait\n",
      "    return self._wait(timeout=timeout)\n",
      "           ^^^^^^^^^^^^^^^^^^^^^^^^^^^\n",
      "  File \"c:\\Users\\lbw\\anaconda3\\envs\\crawling\\Lib\\subprocess.py\", line 1591, in _wait\n",
      "    raise TimeoutExpired(self.args, timeout)\n",
      "subprocess.TimeoutExpired: Command '['C:\\\\Users\\\\lbw\\\\.wdm\\\\drivers\\\\chromedriver\\\\win64\\\\120.0.6099.109\\\\chromedriver-win32/chromedriver.exe', '--port=63384']' timed out after 60 seconds\n",
      "Service process refused to terminate gracefully with SIGTERM, escalating to SIGKILL.\n",
      "Traceback (most recent call last):\n",
      "  File \"c:\\Users\\lbw\\anaconda3\\envs\\crawling\\Lib\\site-packages\\selenium\\webdriver\\common\\service.py\", line 172, in _terminate_process\n",
      "    self.process.wait(60)\n",
      "  File \"c:\\Users\\lbw\\anaconda3\\envs\\crawling\\Lib\\subprocess.py\", line 1264, in wait\n",
      "    return self._wait(timeout=timeout)\n",
      "           ^^^^^^^^^^^^^^^^^^^^^^^^^^^\n",
      "  File \"c:\\Users\\lbw\\anaconda3\\envs\\crawling\\Lib\\subprocess.py\", line 1591, in _wait\n",
      "    raise TimeoutExpired(self.args, timeout)\n",
      "subprocess.TimeoutExpired: Command '['C:\\\\Users\\\\lbw\\\\.wdm\\\\drivers\\\\chromedriver\\\\win64\\\\120.0.6099.109\\\\chromedriver-win32/chromedriver.exe', '--port=63133']' timed out after 60 seconds\n"
     ]
    },
    {
     "name": "stdout",
     "output_type": "stream",
     "text": [
      "Images for product '로얄캐닌_강아지사료_포메라니안_습식파우치_85g_X_12P' successfully processed.\n",
      "Images for product '지그니쳐_그레인프리_강아지_눈물사료_화이트피쉬_포뮬라_1kg' successfully processed.\n"
     ]
    },
    {
     "name": "stderr",
     "output_type": "stream",
     "text": [
      "Service process refused to terminate gracefully with SIGTERM, escalating to SIGKILL.\n",
      "Traceback (most recent call last):\n",
      "  File \"c:\\Users\\lbw\\anaconda3\\envs\\crawling\\Lib\\site-packages\\selenium\\webdriver\\common\\service.py\", line 172, in _terminate_process\n",
      "    self.process.wait(60)\n",
      "  File \"c:\\Users\\lbw\\anaconda3\\envs\\crawling\\Lib\\subprocess.py\", line 1264, in wait\n",
      "    return self._wait(timeout=timeout)\n",
      "           ^^^^^^^^^^^^^^^^^^^^^^^^^^^\n",
      "  File \"c:\\Users\\lbw\\anaconda3\\envs\\crawling\\Lib\\subprocess.py\", line 1591, in _wait\n",
      "    raise TimeoutExpired(self.args, timeout)\n",
      "subprocess.TimeoutExpired: Command '['C:\\\\Users\\\\lbw\\\\.wdm\\\\drivers\\\\chromedriver\\\\win64\\\\120.0.6099.109\\\\chromedriver-win32/chromedriver.exe', '--port=63398']' timed out after 60 seconds\n",
      "Service process refused to terminate gracefully with SIGTERM, escalating to SIGKILL.\n",
      "Traceback (most recent call last):\n",
      "  File \"c:\\Users\\lbw\\anaconda3\\envs\\crawling\\Lib\\site-packages\\selenium\\webdriver\\common\\service.py\", line 172, in _terminate_process\n",
      "    self.process.wait(60)\n",
      "  File \"c:\\Users\\lbw\\anaconda3\\envs\\crawling\\Lib\\subprocess.py\", line 1264, in wait\n",
      "    return self._wait(timeout=timeout)\n",
      "           ^^^^^^^^^^^^^^^^^^^^^^^^^^^\n",
      "  File \"c:\\Users\\lbw\\anaconda3\\envs\\crawling\\Lib\\subprocess.py\", line 1591, in _wait\n",
      "    raise TimeoutExpired(self.args, timeout)\n",
      "subprocess.TimeoutExpired: Command '['C:\\\\Users\\\\lbw\\\\.wdm\\\\drivers\\\\chromedriver\\\\win64\\\\120.0.6099.109\\\\chromedriver-win32/chromedriver.exe', '--port=63502']' timed out after 60 seconds\n",
      "Service process refused to terminate gracefully with SIGTERM, escalating to SIGKILL.\n",
      "Traceback (most recent call last):\n",
      "  File \"c:\\Users\\lbw\\anaconda3\\envs\\crawling\\Lib\\site-packages\\selenium\\webdriver\\common\\service.py\", line 172, in _terminate_process\n",
      "    self.process.wait(60)\n",
      "  File \"c:\\Users\\lbw\\anaconda3\\envs\\crawling\\Lib\\subprocess.py\", line 1264, in wait\n",
      "    return self._wait(timeout=timeout)\n",
      "           ^^^^^^^^^^^^^^^^^^^^^^^^^^^\n",
      "  File \"c:\\Users\\lbw\\anaconda3\\envs\\crawling\\Lib\\subprocess.py\", line 1591, in _wait\n",
      "    raise TimeoutExpired(self.args, timeout)\n",
      "subprocess.TimeoutExpired: Command '['C:\\\\Users\\\\lbw\\\\.wdm\\\\drivers\\\\chromedriver\\\\win64\\\\120.0.6099.109\\\\chromedriver-win32/chromedriver.exe', '--port=63504']' timed out after 60 seconds\n",
      "Service process refused to terminate gracefully with SIGTERM, escalating to SIGKILL.\n",
      "Traceback (most recent call last):\n",
      "  File \"c:\\Users\\lbw\\anaconda3\\envs\\crawling\\Lib\\site-packages\\selenium\\webdriver\\common\\service.py\", line 172, in _terminate_process\n",
      "    self.process.wait(60)\n",
      "  File \"c:\\Users\\lbw\\anaconda3\\envs\\crawling\\Lib\\subprocess.py\", line 1264, in wait\n",
      "    return self._wait(timeout=timeout)\n",
      "           ^^^^^^^^^^^^^^^^^^^^^^^^^^^\n",
      "  File \"c:\\Users\\lbw\\anaconda3\\envs\\crawling\\Lib\\subprocess.py\", line 1591, in _wait\n",
      "    raise TimeoutExpired(self.args, timeout)\n",
      "subprocess.TimeoutExpired: Command '['C:\\\\Users\\\\lbw\\\\.wdm\\\\drivers\\\\chromedriver\\\\win64\\\\120.0.6099.109\\\\chromedriver-win32/chromedriver.exe', '--port=63377']' timed out after 60 seconds\n"
     ]
    },
    {
     "name": "stdout",
     "output_type": "stream",
     "text": [
      "Images for product '뉴트리나_비스트로_고양이사료_애묘_사료_6Kg_코스트코_건식_캣_대용량_건사료' successfully processed.\n"
     ]
    },
    {
     "name": "stderr",
     "output_type": "stream",
     "text": [
      "Service process refused to terminate gracefully with SIGTERM, escalating to SIGKILL.\n",
      "Traceback (most recent call last):\n",
      "  File \"c:\\Users\\lbw\\anaconda3\\envs\\crawling\\Lib\\site-packages\\selenium\\webdriver\\common\\service.py\", line 172, in _terminate_process\n",
      "    self.process.wait(60)\n",
      "  File \"c:\\Users\\lbw\\anaconda3\\envs\\crawling\\Lib\\subprocess.py\", line 1264, in wait\n",
      "    return self._wait(timeout=timeout)\n",
      "           ^^^^^^^^^^^^^^^^^^^^^^^^^^^\n",
      "  File \"c:\\Users\\lbw\\anaconda3\\envs\\crawling\\Lib\\subprocess.py\", line 1591, in _wait\n",
      "    raise TimeoutExpired(self.args, timeout)\n",
      "subprocess.TimeoutExpired: Command '['C:\\\\Users\\\\lbw\\\\.wdm\\\\drivers\\\\chromedriver\\\\win64\\\\120.0.6099.109\\\\chromedriver-win32/chromedriver.exe', '--port=63381']' timed out after 60 seconds\n",
      "Service process refused to terminate gracefully with SIGTERM, escalating to SIGKILL.\n",
      "Traceback (most recent call last):\n",
      "  File \"c:\\Users\\lbw\\anaconda3\\envs\\crawling\\Lib\\site-packages\\selenium\\webdriver\\common\\service.py\", line 172, in _terminate_process\n",
      "    self.process.wait(60)\n",
      "  File \"c:\\Users\\lbw\\anaconda3\\envs\\crawling\\Lib\\subprocess.py\", line 1264, in wait\n",
      "    return self._wait(timeout=timeout)\n",
      "           ^^^^^^^^^^^^^^^^^^^^^^^^^^^\n",
      "  File \"c:\\Users\\lbw\\anaconda3\\envs\\crawling\\Lib\\subprocess.py\", line 1591, in _wait\n",
      "    raise TimeoutExpired(self.args, timeout)\n",
      "subprocess.TimeoutExpired: Command '['C:\\\\Users\\\\lbw\\\\.wdm\\\\drivers\\\\chromedriver\\\\win64\\\\120.0.6099.109\\\\chromedriver-win32/chromedriver.exe', '--port=63482']' timed out after 60 seconds\n",
      "Service process refused to terminate gracefully with SIGTERM, escalating to SIGKILL.\n",
      "Traceback (most recent call last):\n",
      "  File \"c:\\Users\\lbw\\anaconda3\\envs\\crawling\\Lib\\site-packages\\selenium\\webdriver\\common\\service.py\", line 172, in _terminate_process\n",
      "    self.process.wait(60)\n",
      "  File \"c:\\Users\\lbw\\anaconda3\\envs\\crawling\\Lib\\subprocess.py\", line 1264, in wait\n",
      "    return self._wait(timeout=timeout)\n",
      "           ^^^^^^^^^^^^^^^^^^^^^^^^^^^\n",
      "  File \"c:\\Users\\lbw\\anaconda3\\envs\\crawling\\Lib\\subprocess.py\", line 1591, in _wait\n",
      "    raise TimeoutExpired(self.args, timeout)\n",
      "subprocess.TimeoutExpired: Command '['C:\\\\Users\\\\lbw\\\\.wdm\\\\drivers\\\\chromedriver\\\\win64\\\\120.0.6099.109\\\\chromedriver-win32/chromedriver.exe', '--port=63487']' timed out after 60 seconds\n",
      "Service process refused to terminate gracefully with SIGTERM, escalating to SIGKILL.\n",
      "Traceback (most recent call last):\n",
      "  File \"c:\\Users\\lbw\\anaconda3\\envs\\crawling\\Lib\\site-packages\\selenium\\webdriver\\common\\service.py\", line 172, in _terminate_process\n",
      "    self.process.wait(60)\n",
      "  File \"c:\\Users\\lbw\\anaconda3\\envs\\crawling\\Lib\\subprocess.py\", line 1264, in wait\n",
      "    return self._wait(timeout=timeout)\n",
      "           ^^^^^^^^^^^^^^^^^^^^^^^^^^^\n",
      "  File \"c:\\Users\\lbw\\anaconda3\\envs\\crawling\\Lib\\subprocess.py\", line 1591, in _wait\n",
      "    raise TimeoutExpired(self.args, timeout)\n",
      "subprocess.TimeoutExpired: Command '['C:\\\\Users\\\\lbw\\\\.wdm\\\\drivers\\\\chromedriver\\\\win64\\\\120.0.6099.109\\\\chromedriver-win32/chromedriver.exe', '--port=63309']' timed out after 60 seconds\n",
      "Service process refused to terminate gracefully with SIGTERM, escalating to SIGKILL.\n",
      "Traceback (most recent call last):\n",
      "  File \"c:\\Users\\lbw\\anaconda3\\envs\\crawling\\Lib\\site-packages\\selenium\\webdriver\\common\\service.py\", line 172, in _terminate_process\n",
      "    self.process.wait(60)\n",
      "  File \"c:\\Users\\lbw\\anaconda3\\envs\\crawling\\Lib\\subprocess.py\", line 1264, in wait\n",
      "    return self._wait(timeout=timeout)\n",
      "           ^^^^^^^^^^^^^^^^^^^^^^^^^^^\n",
      "  File \"c:\\Users\\lbw\\anaconda3\\envs\\crawling\\Lib\\subprocess.py\", line 1591, in _wait\n",
      "    raise TimeoutExpired(self.args, timeout)\n",
      "subprocess.TimeoutExpired: Command '['C:\\\\Users\\\\lbw\\\\.wdm\\\\drivers\\\\chromedriver\\\\win64\\\\120.0.6099.109\\\\chromedriver-win32/chromedriver.exe', '--port=63316']' timed out after 60 seconds\n",
      "Service process refused to terminate gracefully with SIGTERM, escalating to SIGKILL.\n",
      "Traceback (most recent call last):\n",
      "  File \"c:\\Users\\lbw\\anaconda3\\envs\\crawling\\Lib\\site-packages\\selenium\\webdriver\\common\\service.py\", line 172, in _terminate_process\n",
      "    self.process.wait(60)\n",
      "  File \"c:\\Users\\lbw\\anaconda3\\envs\\crawling\\Lib\\subprocess.py\", line 1264, in wait\n",
      "    return self._wait(timeout=timeout)\n",
      "           ^^^^^^^^^^^^^^^^^^^^^^^^^^^\n",
      "  File \"c:\\Users\\lbw\\anaconda3\\envs\\crawling\\Lib\\subprocess.py\", line 1591, in _wait\n",
      "    raise TimeoutExpired(self.args, timeout)\n",
      "subprocess.TimeoutExpired: Command '['C:\\\\Users\\\\lbw\\\\.wdm\\\\drivers\\\\chromedriver\\\\win64\\\\120.0.6099.109\\\\chromedriver-win32/chromedriver.exe', '--port=63383']' timed out after 60 seconds\n",
      "Service process refused to terminate gracefully with SIGTERM, escalating to SIGKILL.\n",
      "Traceback (most recent call last):\n",
      "  File \"c:\\Users\\lbw\\anaconda3\\envs\\crawling\\Lib\\site-packages\\selenium\\webdriver\\common\\service.py\", line 172, in _terminate_process\n",
      "    self.process.wait(60)\n",
      "  File \"c:\\Users\\lbw\\anaconda3\\envs\\crawling\\Lib\\subprocess.py\", line 1264, in wait\n",
      "    return self._wait(timeout=timeout)\n",
      "           ^^^^^^^^^^^^^^^^^^^^^^^^^^^\n",
      "  File \"c:\\Users\\lbw\\anaconda3\\envs\\crawling\\Lib\\subprocess.py\", line 1591, in _wait\n",
      "    raise TimeoutExpired(self.args, timeout)\n",
      "subprocess.TimeoutExpired: Command '['C:\\\\Users\\\\lbw\\\\.wdm\\\\drivers\\\\chromedriver\\\\win64\\\\120.0.6099.109\\\\chromedriver-win32/chromedriver.exe', '--port=63492']' timed out after 60 seconds\n",
      "Service process refused to terminate gracefully with SIGTERM, escalating to SIGKILL.\n",
      "Traceback (most recent call last):\n",
      "  File \"c:\\Users\\lbw\\anaconda3\\envs\\crawling\\Lib\\site-packages\\selenium\\webdriver\\common\\service.py\", line 172, in _terminate_process\n",
      "    self.process.wait(60)\n",
      "  File \"c:\\Users\\lbw\\anaconda3\\envs\\crawling\\Lib\\subprocess.py\", line 1264, in wait\n",
      "    return self._wait(timeout=timeout)\n",
      "           ^^^^^^^^^^^^^^^^^^^^^^^^^^^\n",
      "  File \"c:\\Users\\lbw\\anaconda3\\envs\\crawling\\Lib\\subprocess.py\", line 1591, in _wait\n",
      "    raise TimeoutExpired(self.args, timeout)\n",
      "subprocess.TimeoutExpired: Command '['C:\\\\Users\\\\lbw\\\\.wdm\\\\drivers\\\\chromedriver\\\\win64\\\\120.0.6099.109\\\\chromedriver-win32/chromedriver.exe', '--port=63460']' timed out after 60 seconds\n",
      "Service process refused to terminate gracefully with SIGTERM, escalating to SIGKILL.\n",
      "Traceback (most recent call last):\n",
      "  File \"c:\\Users\\lbw\\anaconda3\\envs\\crawling\\Lib\\site-packages\\selenium\\webdriver\\common\\service.py\", line 172, in _terminate_process\n",
      "    self.process.wait(60)\n",
      "  File \"c:\\Users\\lbw\\anaconda3\\envs\\crawling\\Lib\\subprocess.py\", line 1264, in wait\n",
      "    return self._wait(timeout=timeout)\n",
      "           ^^^^^^^^^^^^^^^^^^^^^^^^^^^\n",
      "  File \"c:\\Users\\lbw\\anaconda3\\envs\\crawling\\Lib\\subprocess.py\", line 1591, in _wait\n",
      "    raise TimeoutExpired(self.args, timeout)\n",
      "subprocess.TimeoutExpired: Command '['C:\\\\Users\\\\lbw\\\\.wdm\\\\drivers\\\\chromedriver\\\\win64\\\\120.0.6099.109\\\\chromedriver-win32/chromedriver.exe', '--port=63308']' timed out after 60 seconds\n"
     ]
    },
    {
     "name": "stdout",
     "output_type": "stream",
     "text": [
      "Images for product '로얄캐닌_리커버리캔_195g__고양이반려견_겸용' successfully processed.\n",
      "Images for product '도착보장_힐스_강아지사료_어덜트_라지브리드_6' successfully processed.\n",
      "Images for product '로얄캐닌_캣_인스팅티브_파우치_85g_체중유지_요로기계_고양이_습식_사료' successfully processed.\n",
      "Images for product '네츄럴랩_케어2_강아지_가수분해_사료_위장간_2kg_유기농_70' successfully processed.\n",
      "Images for product '오리젠_강아지_사료_오리지널_독_11' successfully processed.\n",
      "Images for product '로얄캐닌_캣_인스팅티브_파우치_85g_체중유지_요로기계_고양이_습식_사료' successfully processed.\n",
      "Images for product '오리젠_강아지_사료_오리지널_독_11' successfully processed.\n",
      "Images for product '지그니쳐_그레인프리_강아지_눈물사료_화이트피쉬_포뮬라_1kg' successfully processed.\n",
      "Images for product '도착보장_힐스_강아지사료_어덜트_라지브리드_6' successfully processed.\n",
      "Images for product '에코6_살몬_6kg_연어_하이포알러제닉_관절_면역_눈물사료' successfully processed.\n",
      "Images for product '로얄캐닌_강아지사료_포메라니안_습식파우치_85g_X_12P' successfully processed.\n",
      "Images for product '로얄캐닌_강아지사료_포메라니안_습식파우치_85g_X_12P' successfully processed.\n"
     ]
    },
    {
     "name": "stderr",
     "output_type": "stream",
     "text": [
      "Service process refused to terminate gracefully with SIGTERM, escalating to SIGKILL.\n",
      "Traceback (most recent call last):\n",
      "  File \"c:\\Users\\lbw\\anaconda3\\envs\\crawling\\Lib\\site-packages\\selenium\\webdriver\\chromium\\webdriver.py\", line 61, in __init__\n",
      "    super().__init__(command_executor=executor, options=options)\n",
      "  File \"c:\\Users\\lbw\\anaconda3\\envs\\crawling\\Lib\\site-packages\\selenium\\webdriver\\remote\\webdriver.py\", line 209, in __init__\n",
      "    self.start_session(capabilities)\n",
      "  File \"c:\\Users\\lbw\\anaconda3\\envs\\crawling\\Lib\\site-packages\\selenium\\webdriver\\remote\\webdriver.py\", line 293, in start_session\n",
      "    response = self.execute(Command.NEW_SESSION, caps)[\"value\"]\n",
      "               ^^^^^^^^^^^^^^^^^^^^^^^^^^^^^^^^^^^^^^^\n",
      "  File \"c:\\Users\\lbw\\anaconda3\\envs\\crawling\\Lib\\site-packages\\selenium\\webdriver\\remote\\webdriver.py\", line 348, in execute\n",
      "    self.error_handler.check_response(response)\n",
      "  File \"c:\\Users\\lbw\\anaconda3\\envs\\crawling\\Lib\\site-packages\\selenium\\webdriver\\remote\\errorhandler.py\", line 229, in check_response\n",
      "    raise exception_class(message, screen, stacktrace)\n",
      "selenium.common.exceptions.SessionNotCreatedException: Message: session not created: DevToolsActivePort file doesn't exist\n",
      "Stacktrace:\n",
      "\tGetHandleVerifier [0x00F56EE3+174339]\n",
      "\t(No symbol) [0x00E80A51]\n",
      "\t(No symbol) [0x00B96FF6]\n",
      "\t(No symbol) [0x00BBDC5A]\n",
      "\t(No symbol) [0x00BBB7A3]\n",
      "\t(No symbol) [0x00BB7A0F]\n",
      "\t(No symbol) [0x00BEE259]\n",
      "\t(No symbol) [0x00BEDBBA]\n",
      "\t(No symbol) [0x00BE6DA6]\n",
      "\t(No symbol) [0x00BC1034]\n",
      "\t(No symbol) [0x00BC1F8D]\n",
      "\tGetHandleVerifier [0x00FF4B1C+820540]\n",
      "\tsqlite3_dbdata_init [0x010B53EE+653550]\n",
      "\tsqlite3_dbdata_init [0x010B4E09+652041]\n",
      "\tsqlite3_dbdata_init [0x010A97CC+605388]\n",
      "\tsqlite3_dbdata_init [0x010B5D9B+656027]\n",
      "\t(No symbol) [0x00E8FE6C]\n",
      "\t(No symbol) [0x00E883B8]\n",
      "\t(No symbol) [0x00E884DD]\n",
      "\t(No symbol) [0x00E75818]\n",
      "\tBaseThreadInitThunk [0x75D57BA9+25]\n",
      "\tRtlInitializeExceptionChain [0x7792BD2B+107]\n",
      "\tRtlClearBits [0x7792BCAF+191]\n",
      "\n",
      "\n",
      "During handling of the above exception, another exception occurred:\n",
      "\n",
      "Traceback (most recent call last):\n",
      "  File \"c:\\Users\\lbw\\anaconda3\\envs\\crawling\\Lib\\site-packages\\selenium\\webdriver\\common\\service.py\", line 172, in _terminate_process\n",
      "    self.process.wait(60)\n",
      "  File \"c:\\Users\\lbw\\anaconda3\\envs\\crawling\\Lib\\subprocess.py\", line 1264, in wait\n",
      "    return self._wait(timeout=timeout)\n",
      "           ^^^^^^^^^^^^^^^^^^^^^^^^^^^\n",
      "  File \"c:\\Users\\lbw\\anaconda3\\envs\\crawling\\Lib\\subprocess.py\", line 1591, in _wait\n",
      "    raise TimeoutExpired(self.args, timeout)\n",
      "subprocess.TimeoutExpired: Command '['C:\\\\Users\\\\lbw\\\\.wdm\\\\drivers\\\\chromedriver\\\\win64\\\\120.0.6099.109\\\\chromedriver-win32/chromedriver.exe', '--port=64450']' timed out after 60 seconds\n"
     ]
    },
    {
     "name": "stdout",
     "output_type": "stream",
     "text": [
      "Images for product '네츄럴랩_케어2_강아지_가수분해_사료_위장간_2kg_유기농_70' successfully processed.\n",
      "Images for product '뉴트리나_비스트로_고양이사료_애묘_사료_6Kg_코스트코_건식_캣_대용량_건사료' successfully processed.\n",
      "Images for product '오리젠_강아지_사료_오리지널_독_11' successfully processed.\n",
      "Images for product '로얄캐닌_리커버리캔_195g__고양이반려견_겸용' successfully processed.\n",
      "Images for product '오리젠_강아지_사료_오리지널_독_11' successfully processed.\n",
      "Images for product '로얄캐닌_강아지사료_포메라니안_습식파우치_85g_X_12P' successfully processed.\n",
      "Images for product '로얄캐닌_캣_인스팅티브_파우치_85g_체중유지_요로기계_고양이_습식_사료' successfully processed.\n",
      "Images for product '도착보장_힐스_강아지사료_어덜트_라지브리드_6' successfully processed.\n",
      "Images for product '로얄캐닌_강아지사료_포메라니안_습식파우치_85g_X_12P' successfully processed.\n",
      "Images for product '에코6_살몬_6kg_연어_하이포알러제닉_관절_면역_눈물사료' successfully processed.\n",
      "Images for product '네츄럴랩_케어2_강아지_가수분해_사료_위장간_2kg_유기농_70' successfully processed.\n",
      "Images for product '네츄럴랩_케어2_강아지_가수분해_사료_위장간_2kg_유기농_70' successfully processed.\n",
      "Images for product '에코6_살몬_6kg_연어_하이포알러제닉_관절_면역_눈물사료' successfully processed.\n",
      "Images for product '지그니쳐_그레인프리_강아지_눈물사료_화이트피쉬_포뮬라_1kg' successfully processed.\n",
      "Images for product '로얄캐닌_강아지사료_포메라니안_습식파우치_85g_X_12P' successfully processed.\n",
      "Images for product '지그니쳐_그레인프리_강아지_눈물사료_화이트피쉬_포뮬라_1kg' successfully processed.\n",
      "Images for product '뉴트리나_비스트로_고양이사료_애묘_사료_6Kg_코스트코_건식_캣_대용량_건사료' successfully processed.\n",
      "Images for product '에코6_살몬_6kg_연어_하이포알러제닉_관절_면역_눈물사료' successfully processed.\n"
     ]
    },
    {
     "name": "stderr",
     "output_type": "stream",
     "text": [
      "Service process refused to terminate gracefully with SIGTERM, escalating to SIGKILL.\n",
      "Traceback (most recent call last):\n",
      "  File \"c:\\Users\\lbw\\anaconda3\\envs\\crawling\\Lib\\site-packages\\selenium\\webdriver\\common\\service.py\", line 172, in _terminate_process\n",
      "    self.process.wait(60)\n",
      "  File \"c:\\Users\\lbw\\anaconda3\\envs\\crawling\\Lib\\subprocess.py\", line 1264, in wait\n",
      "    return self._wait(timeout=timeout)\n",
      "           ^^^^^^^^^^^^^^^^^^^^^^^^^^^\n",
      "  File \"c:\\Users\\lbw\\anaconda3\\envs\\crawling\\Lib\\subprocess.py\", line 1591, in _wait\n",
      "    raise TimeoutExpired(self.args, timeout)\n",
      "subprocess.TimeoutExpired: Command '['C:\\\\Users\\\\lbw\\\\.wdm\\\\drivers\\\\chromedriver\\\\win64\\\\120.0.6099.109\\\\chromedriver-win32/chromedriver.exe', '--port=50386']' timed out after 60 seconds\n"
     ]
    },
    {
     "name": "stdout",
     "output_type": "stream",
     "text": [
      "Images for product '로얄캐닌_강아지사료_포메라니안_습식파우치_85g_X_12P' successfully processed.\n"
     ]
    },
    {
     "name": "stderr",
     "output_type": "stream",
     "text": [
      "Service process refused to terminate gracefully with SIGTERM, escalating to SIGKILL.\n",
      "Traceback (most recent call last):\n",
      "  File \"c:\\Users\\lbw\\anaconda3\\envs\\crawling\\Lib\\site-packages\\selenium\\webdriver\\common\\service.py\", line 172, in _terminate_process\n",
      "    self.process.wait(60)\n",
      "  File \"c:\\Users\\lbw\\anaconda3\\envs\\crawling\\Lib\\subprocess.py\", line 1264, in wait\n",
      "    return self._wait(timeout=timeout)\n",
      "           ^^^^^^^^^^^^^^^^^^^^^^^^^^^\n",
      "  File \"c:\\Users\\lbw\\anaconda3\\envs\\crawling\\Lib\\subprocess.py\", line 1591, in _wait\n",
      "    raise TimeoutExpired(self.args, timeout)\n",
      "subprocess.TimeoutExpired: Command '['C:\\\\Users\\\\lbw\\\\.wdm\\\\drivers\\\\chromedriver\\\\win64\\\\120.0.6099.109\\\\chromedriver-win32/chromedriver.exe', '--port=50211']' timed out after 60 seconds\n",
      "Service process refused to terminate gracefully with SIGTERM, escalating to SIGKILL.\n",
      "Traceback (most recent call last):\n",
      "  File \"c:\\Users\\lbw\\anaconda3\\envs\\crawling\\Lib\\site-packages\\selenium\\webdriver\\common\\service.py\", line 172, in _terminate_process\n",
      "    self.process.wait(60)\n",
      "  File \"c:\\Users\\lbw\\anaconda3\\envs\\crawling\\Lib\\subprocess.py\", line 1264, in wait\n",
      "    return self._wait(timeout=timeout)\n",
      "           ^^^^^^^^^^^^^^^^^^^^^^^^^^^\n",
      "  File \"c:\\Users\\lbw\\anaconda3\\envs\\crawling\\Lib\\subprocess.py\", line 1591, in _wait\n",
      "    raise TimeoutExpired(self.args, timeout)\n",
      "subprocess.TimeoutExpired: Command '['C:\\\\Users\\\\lbw\\\\.wdm\\\\drivers\\\\chromedriver\\\\win64\\\\120.0.6099.109\\\\chromedriver-win32/chromedriver.exe', '--port=50255']' timed out after 60 seconds\n"
     ]
    },
    {
     "name": "stdout",
     "output_type": "stream",
     "text": [
      "Images for product '로얄캐닌_리커버리캔_195g__고양이반려견_겸용' successfully processed.\n",
      "Images for product '도착보장_힐스_강아지사료_어덜트_라지브리드_6' successfully processed.\n"
     ]
    },
    {
     "name": "stderr",
     "output_type": "stream",
     "text": [
      "Service process refused to terminate gracefully with SIGTERM, escalating to SIGKILL.\n",
      "Traceback (most recent call last):\n",
      "  File \"c:\\Users\\lbw\\anaconda3\\envs\\crawling\\Lib\\site-packages\\selenium\\webdriver\\common\\service.py\", line 172, in _terminate_process\n",
      "    self.process.wait(60)\n",
      "  File \"c:\\Users\\lbw\\anaconda3\\envs\\crawling\\Lib\\subprocess.py\", line 1264, in wait\n",
      "    return self._wait(timeout=timeout)\n",
      "           ^^^^^^^^^^^^^^^^^^^^^^^^^^^\n",
      "  File \"c:\\Users\\lbw\\anaconda3\\envs\\crawling\\Lib\\subprocess.py\", line 1591, in _wait\n",
      "    raise TimeoutExpired(self.args, timeout)\n",
      "subprocess.TimeoutExpired: Command '['C:\\\\Users\\\\lbw\\\\.wdm\\\\drivers\\\\chromedriver\\\\win64\\\\120.0.6099.109\\\\chromedriver-win32/chromedriver.exe', '--port=50380']' timed out after 60 seconds\n"
     ]
    },
    {
     "name": "stdout",
     "output_type": "stream",
     "text": [
      "Images for product '로얄캐닌_캣_인스팅티브_파우치_85g_체중유지_요로기계_고양이_습식_사료' successfully processed.\n"
     ]
    },
    {
     "name": "stderr",
     "output_type": "stream",
     "text": [
      "Service process refused to terminate gracefully with SIGTERM, escalating to SIGKILL.\n",
      "Traceback (most recent call last):\n",
      "  File \"c:\\Users\\lbw\\anaconda3\\envs\\crawling\\Lib\\site-packages\\selenium\\webdriver\\common\\service.py\", line 172, in _terminate_process\n",
      "    self.process.wait(60)\n",
      "  File \"c:\\Users\\lbw\\anaconda3\\envs\\crawling\\Lib\\subprocess.py\", line 1264, in wait\n",
      "    return self._wait(timeout=timeout)\n",
      "           ^^^^^^^^^^^^^^^^^^^^^^^^^^^\n",
      "  File \"c:\\Users\\lbw\\anaconda3\\envs\\crawling\\Lib\\subprocess.py\", line 1591, in _wait\n",
      "    raise TimeoutExpired(self.args, timeout)\n",
      "subprocess.TimeoutExpired: Command '['C:\\\\Users\\\\lbw\\\\.wdm\\\\drivers\\\\chromedriver\\\\win64\\\\120.0.6099.109\\\\chromedriver-win32/chromedriver.exe', '--port=50329']' timed out after 60 seconds\n",
      "Service process refused to terminate gracefully with SIGTERM, escalating to SIGKILL.\n",
      "Traceback (most recent call last):\n",
      "  File \"c:\\Users\\lbw\\anaconda3\\envs\\crawling\\Lib\\site-packages\\selenium\\webdriver\\common\\service.py\", line 172, in _terminate_process\n",
      "    self.process.wait(60)\n",
      "  File \"c:\\Users\\lbw\\anaconda3\\envs\\crawling\\Lib\\subprocess.py\", line 1264, in wait\n",
      "    return self._wait(timeout=timeout)\n",
      "           ^^^^^^^^^^^^^^^^^^^^^^^^^^^\n",
      "  File \"c:\\Users\\lbw\\anaconda3\\envs\\crawling\\Lib\\subprocess.py\", line 1591, in _wait\n",
      "    raise TimeoutExpired(self.args, timeout)\n",
      "subprocess.TimeoutExpired: Command '['C:\\\\Users\\\\lbw\\\\.wdm\\\\drivers\\\\chromedriver\\\\win64\\\\120.0.6099.109\\\\chromedriver-win32/chromedriver.exe', '--port=50326']' timed out after 60 seconds\n"
     ]
    },
    {
     "name": "stdout",
     "output_type": "stream",
     "text": [
      "Images for product '네츄럴랩_케어2_강아지_가수분해_사료_위장간_2kg_유기농_70' successfully processed.\n"
     ]
    },
    {
     "name": "stderr",
     "output_type": "stream",
     "text": [
      "Service process refused to terminate gracefully with SIGTERM, escalating to SIGKILL.\n",
      "Traceback (most recent call last):\n",
      "  File \"c:\\Users\\lbw\\anaconda3\\envs\\crawling\\Lib\\site-packages\\selenium\\webdriver\\common\\service.py\", line 172, in _terminate_process\n",
      "    self.process.wait(60)\n",
      "  File \"c:\\Users\\lbw\\anaconda3\\envs\\crawling\\Lib\\subprocess.py\", line 1264, in wait\n",
      "    return self._wait(timeout=timeout)\n",
      "           ^^^^^^^^^^^^^^^^^^^^^^^^^^^\n",
      "  File \"c:\\Users\\lbw\\anaconda3\\envs\\crawling\\Lib\\subprocess.py\", line 1591, in _wait\n",
      "    raise TimeoutExpired(self.args, timeout)\n",
      "subprocess.TimeoutExpired: Command '['C:\\\\Users\\\\lbw\\\\.wdm\\\\drivers\\\\chromedriver\\\\win64\\\\120.0.6099.109\\\\chromedriver-win32/chromedriver.exe', '--port=49824']' timed out after 60 seconds\n"
     ]
    },
    {
     "name": "stdout",
     "output_type": "stream",
     "text": [
      "Images for product '오리젠_강아지_사료_오리지널_독_11' successfully processed.\n"
     ]
    },
    {
     "name": "stderr",
     "output_type": "stream",
     "text": [
      "Service process refused to terminate gracefully with SIGTERM, escalating to SIGKILL.\n",
      "Traceback (most recent call last):\n",
      "  File \"c:\\Users\\lbw\\anaconda3\\envs\\crawling\\Lib\\site-packages\\selenium\\webdriver\\common\\service.py\", line 172, in _terminate_process\n",
      "    self.process.wait(60)\n",
      "  File \"c:\\Users\\lbw\\anaconda3\\envs\\crawling\\Lib\\subprocess.py\", line 1264, in wait\n",
      "    return self._wait(timeout=timeout)\n",
      "           ^^^^^^^^^^^^^^^^^^^^^^^^^^^\n",
      "  File \"c:\\Users\\lbw\\anaconda3\\envs\\crawling\\Lib\\subprocess.py\", line 1591, in _wait\n",
      "    raise TimeoutExpired(self.args, timeout)\n",
      "subprocess.TimeoutExpired: Command '['C:\\\\Users\\\\lbw\\\\.wdm\\\\drivers\\\\chromedriver\\\\win64\\\\120.0.6099.109\\\\chromedriver-win32/chromedriver.exe', '--port=50323']' timed out after 60 seconds\n"
     ]
    },
    {
     "name": "stdout",
     "output_type": "stream",
     "text": [
      "Images for product '오리젠_강아지_사료_오리지널_독_11' successfully processed.\n",
      "Images for product '에코6_살몬_6kg_연어_하이포알러제닉_관절_면역_눈물사료' successfully processed.\n"
     ]
    },
    {
     "name": "stderr",
     "output_type": "stream",
     "text": [
      "Service process refused to terminate gracefully with SIGTERM, escalating to SIGKILL.\n",
      "Traceback (most recent call last):\n",
      "  File \"c:\\Users\\lbw\\anaconda3\\envs\\crawling\\Lib\\site-packages\\selenium\\webdriver\\common\\service.py\", line 172, in _terminate_process\n",
      "    self.process.wait(60)\n",
      "  File \"c:\\Users\\lbw\\anaconda3\\envs\\crawling\\Lib\\subprocess.py\", line 1264, in wait\n",
      "    return self._wait(timeout=timeout)\n",
      "           ^^^^^^^^^^^^^^^^^^^^^^^^^^^\n",
      "  File \"c:\\Users\\lbw\\anaconda3\\envs\\crawling\\Lib\\subprocess.py\", line 1591, in _wait\n",
      "    raise TimeoutExpired(self.args, timeout)\n",
      "subprocess.TimeoutExpired: Command '['C:\\\\Users\\\\lbw\\\\.wdm\\\\drivers\\\\chromedriver\\\\win64\\\\120.0.6099.109\\\\chromedriver-win32/chromedriver.exe', '--port=49815']' timed out after 60 seconds\n"
     ]
    },
    {
     "name": "stdout",
     "output_type": "stream",
     "text": [
      "Images for product '도착보장_힐스_강아지사료_어덜트_라지브리드_6' successfully processed.\n",
      "Images for product '로얄캐닌_캣_인스팅티브_파우치_85g_체중유지_요로기계_고양이_습식_사료' successfully processed.\n",
      "Images for product '지그니쳐_그레인프리_강아지_눈물사료_화이트피쉬_포뮬라_1kg' successfully processed.\n",
      "Images for product '오리젠_강아지_사료_오리지널_독_11' successfully processed.\n",
      "Images for product '로얄캐닌_리커버리캔_195g__고양이반려견_겸용' successfully processed.\n",
      "Images for product '로얄캐닌_캣_인스팅티브_파우치_85g_체중유지_요로기계_고양이_습식_사료' successfully processed.\n",
      "Images for product '로얄캐닌_리커버리캔_195g__고양이반려견_겸용' successfully processed.\n",
      "Images for product '지그니쳐_그레인프리_강아지_눈물사료_화이트피쉬_포뮬라_1kg' successfully processed.\n",
      "Images for product '오리젠_강아지_사료_오리지널_독_11' successfully processed.\n",
      "Images for product '지그니쳐_그레인프리_강아지_눈물사료_화이트피쉬_포뮬라_1kg' successfully processed.\n",
      "Images for product '오리젠_강아지_사료_오리지널_독_11' successfully processed.\n",
      "Images for product '로얄캐닌_강아지사료_포메라니안_습식파우치_85g_X_12P' successfully processed.\n",
      "Images for product '로얄캐닌_리커버리캔_195g__고양이반려견_겸용' successfully processed.\n",
      "Images for product '에코6_살몬_6kg_연어_하이포알러제닉_관절_면역_눈물사료' successfully processed.\n",
      "Images for product '네츄럴랩_케어2_강아지_가수분해_사료_위장간_2kg_유기농_70' successfully processed.\n",
      "Images for product '도착보장_힐스_강아지사료_어덜트_라지브리드_6' successfully processed.\n",
      "Images for product '도착보장_힐스_강아지사료_어덜트_라지브리드_6' successfully processed.\n",
      "Images for product '에코6_살몬_6kg_연어_하이포알러제닉_관절_면역_눈물사료' successfully processed.\n",
      "Images for product '로얄캐닌_캣_인스팅티브_파우치_85g_체중유지_요로기계_고양이_습식_사료' successfully processed.\n",
      "Images for product '로얄캐닌_캣_인스팅티브_파우치_85g_체중유지_요로기계_고양이_습식_사료' successfully processed.\n",
      "Images for product '네츄럴랩_케어2_강아지_가수분해_사료_위장간_2kg_유기농_70' successfully processed.\n",
      "Images for product '지그니쳐_그레인프리_강아지_눈물사료_화이트피쉬_포뮬라_1kg' successfully processed.\n",
      "Images for product '에코6_살몬_6kg_연어_하이포알러제닉_관절_면역_눈물사료' successfully processed.\n",
      "Images for product '로얄캐닌_리커버리캔_195g__고양이반려견_겸용' successfully processed.\n",
      "Images for product '네츄럴랩_케어2_강아지_가수분해_사료_위장간_2kg_유기농_70' successfully processed.\n",
      "Images for product '로얄캐닌_강아지사료_포메라니안_습식파우치_85g_X_12P' successfully processed.\n",
      "Images for product '오리젠_강아지_사료_오리지널_독_11' successfully processed.\n",
      "Images for product '도착보장_힐스_강아지사료_어덜트_라지브리드_6' successfully processed.\n",
      "Images for product '도착보장_힐스_강아지사료_어덜트_라지브리드_6' successfully processed.\n",
      "Images for product '로얄캐닌_강아지사료_포메라니안_습식파우치_85g_X_12P' successfully processed.\n",
      "Images for product '지그니쳐_그레인프리_강아지_눈물사료_화이트피쉬_포뮬라_1kg' successfully processed.\n"
     ]
    }
   ],
   "source": [
    "headers = {\n",
    "    'User-Agent': 'Mozilla/5.0 (compatible; Googlebot/2.1; +http://www.google.com/bot.html)'\n",
    "}\n",
    "\n",
    "chrome_options = ChromeOptions()\n",
    "\n",
    "session = requests.Session()\n",
    "\n",
    "def process_product_page(product_page):\n",
    "    try:\n",
    "        product_url = product_page['href']\n",
    "\n",
    "        driver = webdriver.Chrome(service=ChromeService(ChromeDriverManager().install()), options=chrome_options)\n",
    "\n",
    "        driver.get(product_url)\n",
    "        driver.implicitly_wait(5)\n",
    "\n",
    "        driver.find_element(By.CSS_SELECTOR, 'div._3osy73V_eD._1Hc_ju_IXp > button').click()\n",
    "        driver.implicitly_wait(5)\n",
    "\n",
    "        full_html = driver.page_source\n",
    "\n",
    "        driver.quit()\n",
    "\n",
    "        soup = BeautifulSoup(full_html, 'html.parser')\n",
    "\n",
    "        product_name = soup.select_one('h3._22kNQuEXmb._copyable').text\n",
    "\n",
    "        valid_product_name = ''.join(c for c in os.path.splitext(product_name)[0] if c.isalnum() or c in (' ', '_')).rstrip()\n",
    "        valid_product_name = valid_product_name.replace(' ', '_')\n",
    "        target_directory = os.path.abspath(f'naver/{valid_product_name}')\n",
    "\n",
    "        os.makedirs(target_directory, exist_ok=True)\n",
    "\n",
    "        image_tags = soup.select('.se-main-container img')\n",
    "\n",
    "        for i, img in enumerate(image_tags):\n",
    "            if 'data-src' in img.attrs and img['data-src'].strip():\n",
    "                image_url = img['data-src']\n",
    "\n",
    "                parsed_url = urlparse(image_url)\n",
    "                filename, extension = os.path.splitext(os.path.basename(parsed_url.path))\n",
    "\n",
    "                file_path = os.path.join(target_directory, f'image_{i}{extension}')\n",
    "\n",
    "                response = session.get(image_url)\n",
    "\n",
    "                with open(file_path, 'wb') as f:\n",
    "                    f.write(response.content)\n",
    "\n",
    "        print(f'Images for product \\'{valid_product_name}\\' successfully processed.')\n",
    "\n",
    "    except Exception as e:\n",
    "        print(f'Error processing images for product \\'{valid_product_name}\\': {str(e)}')\n",
    "\n",
    "with concurrent.futures.ThreadPoolExecutor() as executor:\n",
    "    for i in tqdm(range(1, 20714), desc='Processing pages'):\n",
    "        url = f'https://search.shopping.naver.com/search/all?adQuery=%EC%82%AC%EB%A3%8C&frm=NVSHATC&npayType=2&origQuery=%EC%82%AC%EB%A3%8C&pagingIndex={i}&pagingSize=40&productSet=checkout&query=%EC%82%AC%EB%A3%8C&sort=rel&timestamp=&viewType=image'\n",
    "\n",
    "        response = session.get(url, headers=headers)\n",
    "        soup = BeautifulSoup(response.content, 'html.parser')\n",
    "\n",
    "        product_pages = soup.select('div.thumbnail_thumb_wrap__RbcYO._wrapper > a')\n",
    "\n",
    "        executor.map(process_product_page, product_pages)"
   ]
  }
 ],
 "metadata": {
  "kernelspec": {
   "display_name": "Python 3",
   "language": "python",
   "name": "python3"
  },
  "language_info": {
   "codemirror_mode": {
    "name": "ipython",
    "version": 3
   },
   "file_extension": ".py",
   "mimetype": "text/x-python",
   "name": "python",
   "nbconvert_exporter": "python",
   "pygments_lexer": "ipython3",
   "version": "3.12.1"
  }
 },
 "nbformat": 4,
 "nbformat_minor": 2
}
