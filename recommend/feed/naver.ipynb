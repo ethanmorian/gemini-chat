{
 "cells": [
  {
   "cell_type": "code",
   "execution_count": 36,
   "metadata": {},
   "outputs": [],
   "source": [
    "import os\n",
    "import shutil\n",
    "from urllib.parse import urlparse\n",
    "\n",
    "import requests\n",
    "from tqdm import tqdm\n",
    "from bs4 import BeautifulSoup\n",
    "from selenium import webdriver\n",
    "from selenium.webdriver.chrome.service import Service\n",
    "from selenium.webdriver.common.by import By\n",
    "from selenium.webdriver.chrome.options import Options\n",
    "from webdriver_manager.chrome import ChromeDriverManager"
   ]
  },
  {
   "cell_type": "code",
   "execution_count": 42,
   "metadata": {},
   "outputs": [
    {
     "name": "stdout",
     "output_type": "stream",
     "text": [
      "45\n"
     ]
    },
    {
     "name": "stderr",
     "output_type": "stream",
     "text": [
      "Processing Product Pages:   0%|          | 0/45 [00:00<?, ?it/s]"
     ]
    },
    {
     "name": "stdout",
     "output_type": "stream",
     "text": [
      "Product Name: [직영] 호주 강아지사료 1kg 캥거루 & 스위트포테이토, 펫죠 키블댓카운트\n"
     ]
    },
    {
     "name": "stderr",
     "output_type": "stream",
     "text": [
      "Processing Images: 100%|██████████| 22/22 [00:12<00:00,  1.71it/s]\n",
      "Processing Product Pages:   2%|▏         | 1/45 [00:19<14:25, 19.66s/it]"
     ]
    },
    {
     "name": "stdout",
     "output_type": "stream",
     "text": [
      "Product Name: [직영] 호주 강아지사료 4kg 3종 캥거루/살몬/치킨, 펫죠 키블댓카운트\n"
     ]
    },
    {
     "name": "stderr",
     "output_type": "stream",
     "text": [
      "Processing Images: 100%|██████████| 21/21 [00:12<00:00,  1.69it/s]\n",
      "Processing Product Pages:   4%|▍         | 2/45 [00:34<12:11, 17.01s/it]"
     ]
    },
    {
     "name": "stdout",
     "output_type": "stream",
     "text": [
      "Product Name: 로얄캐닌 캣 라이트웨이트케어 3kg 다이어트\n"
     ]
    },
    {
     "name": "stderr",
     "output_type": "stream",
     "text": [
      "Processing Images: 100%|██████████| 7/7 [00:04<00:00,  1.44it/s]\n",
      "Processing Product Pages:   7%|▋         | 3/45 [00:41<08:45, 12.51s/it]"
     ]
    },
    {
     "name": "stdout",
     "output_type": "stream",
     "text": [
      "Product Name: 오가닉스토리 강아지 눈물 가수분해사료 피부 알러지 비숑 말티즈 하이포알러제닉 연어 7kg\n"
     ]
    },
    {
     "name": "stderr",
     "output_type": "stream",
     "text": [
      "Processing Images: 100%|██████████| 17/17 [00:09<00:00,  1.74it/s]\n",
      "Processing Product Pages:   9%|▉         | 4/45 [00:54<08:34, 12.55s/it]"
     ]
    },
    {
     "name": "stdout",
     "output_type": "stream",
     "text": [
      "Product Name: 인섹트도그 큰알갱이 10kg 사료 하이포알러지\n"
     ]
    },
    {
     "name": "stderr",
     "output_type": "stream",
     "text": [
      "Processing Images: 100%|██████████| 5/5 [00:03<00:00,  1.54it/s]\n",
      "Processing Product Pages:  11%|█         | 5/45 [01:00<06:52, 10.31s/it]"
     ]
    },
    {
     "name": "stdout",
     "output_type": "stream",
     "text": [
      "Product Name: [알러지] 강아지 사료 눈물 가수분해 피부 말티즈 비숑 푸들 라비앙독 연어 1.8kg\n"
     ]
    },
    {
     "name": "stderr",
     "output_type": "stream",
     "text": [
      "Processing Images: 100%|██████████| 25/25 [00:18<00:00,  1.34it/s]\n",
      "Processing Product Pages:  13%|█▎        | 6/45 [01:22<09:10, 14.11s/it]"
     ]
    },
    {
     "name": "stdout",
     "output_type": "stream",
     "text": [
      "Product Name: 캐츠랑 전연령 리브레 5kg 캣츠랑 고양이 대용량 길냥이 길고양이 사료 고양이밥\n"
     ]
    },
    {
     "name": "stderr",
     "output_type": "stream",
     "text": [
      "Processing Images: 100%|██████████| 7/7 [00:04<00:00,  1.55it/s]\n",
      "Processing Product Pages:  16%|█▌        | 7/45 [01:29<07:33, 11.93s/it]"
     ]
    },
    {
     "name": "stdout",
     "output_type": "stream",
     "text": [
      "Product Name: 대용량 전연령강아지사료 웰비스타 모던 5kg+5kg 클로렐라 소고기함유 애완견사료\n"
     ]
    },
    {
     "name": "stderr",
     "output_type": "stream",
     "text": [
      "Processing Images: 100%|██████████| 23/23 [00:13<00:00,  1.69it/s]\n",
      "Processing Product Pages:  18%|█▊        | 8/45 [01:45<08:08, 13.22s/it]"
     ]
    },
    {
     "name": "stdout",
     "output_type": "stream",
     "text": [
      "Product Name: 한끼뚝딱 소프트 황태와 소고기 강아지사료 1kg\n"
     ]
    },
    {
     "name": "stderr",
     "output_type": "stream",
     "text": [
      "Processing Images: 100%|██████████| 15/15 [00:10<00:00,  1.48it/s]\n",
      "Processing Product Pages:  20%|██        | 9/45 [01:59<08:03, 13.43s/it]"
     ]
    },
    {
     "name": "stdout",
     "output_type": "stream",
     "text": [
      "Product Name: 피니키 가수분해 하이포알러지 그레인프리 밀웜 사료 1.5kg+샘플10개\n"
     ]
    },
    {
     "name": "stderr",
     "output_type": "stream",
     "text": [
      "Processing Images: 100%|██████████| 9/9 [00:06<00:00,  1.40it/s]\n",
      "Processing Product Pages:  22%|██▏       | 10/45 [02:08<07:02, 12.08s/it]"
     ]
    },
    {
     "name": "stdout",
     "output_type": "stream",
     "text": [
      "Product Name: 에브리캣10kg 대용량 고양이사료 전연령 길냥이밥 길고양이사료 팜스코\n"
     ]
    },
    {
     "name": "stderr",
     "output_type": "stream",
     "text": [
      "Processing Images: 100%|██████████| 26/26 [00:15<00:00,  1.67it/s]\n",
      "Processing Product Pages:  24%|██▍       | 11/45 [02:26<07:53, 13.94s/it]"
     ]
    },
    {
     "name": "stdout",
     "output_type": "stream",
     "text": [
      "Product Name: 로얄캐닌 강아지 사료 미니 인도어+엑스스몰 퍼피+어덜트+푸들 500g\n"
     ]
    },
    {
     "name": "stderr",
     "output_type": "stream",
     "text": [
      "Processing Images: 100%|██████████| 79/79 [00:45<00:00,  1.73it/s]\n",
      "Processing Product Pages:  27%|██▋       | 12/45 [03:17<13:42, 24.93s/it]"
     ]
    },
    {
     "name": "stdout",
     "output_type": "stream",
     "text": [
      "Product Name: 로반 잘먹잘싸 황금변 강아지사료 변냄새/피부/모질 2KG\n"
     ]
    },
    {
     "name": "stderr",
     "output_type": "stream",
     "text": [
      "Processing Images: 100%|██████████| 36/36 [00:21<00:00,  1.69it/s]\n",
      "Processing Product Pages:  29%|██▉       | 13/45 [03:41<13:10, 24.71s/it]"
     ]
    },
    {
     "name": "stdout",
     "output_type": "stream",
     "text": [
      "Product Name: 아스쿠 펠리쿠치나 3kg 연어 소프트사료\n"
     ]
    },
    {
     "name": "stderr",
     "output_type": "stream",
     "text": [
      "Processing Images: 100%|██████████| 18/18 [00:10<00:00,  1.75it/s]\n",
      "Processing Product Pages:  31%|███       | 14/45 [03:53<10:53, 21.09s/it]"
     ]
    },
    {
     "name": "stdout",
     "output_type": "stream",
     "text": [
      "Product Name: 프라임캣 골드 15kg 고양이사료 대용량 전연령 길냥이밥 길고양이사료 뉴트리나\n"
     ]
    },
    {
     "name": "stderr",
     "output_type": "stream",
     "text": [
      "Processing Images: 100%|██████████| 5/5 [00:03<00:00,  1.59it/s]\n",
      "Processing Product Pages:  33%|███▎      | 15/45 [04:00<08:21, 16.73s/it]"
     ]
    },
    {
     "name": "stdout",
     "output_type": "stream",
     "text": [
      "Product Name: 아스쿠 펠리쿠치나 반습식 소고기 1.2kg+150g\n"
     ]
    },
    {
     "name": "stderr",
     "output_type": "stream",
     "text": [
      "Processing Images: 100%|██████████| 22/22 [00:12<00:00,  1.79it/s]\n",
      "Processing Product Pages:  36%|███▌      | 16/45 [04:15<07:52, 16.29s/it]"
     ]
    },
    {
     "name": "stdout",
     "output_type": "stream",
     "text": [
      "Product Name: 버틀러 사료 더텐 소프트 인섹트 알러지케어 더 텐 1kg the ten soft + 샘플추가\n"
     ]
    },
    {
     "name": "stderr",
     "output_type": "stream",
     "text": []
    }
   ],
   "source": [
    "options = Options()\n",
    "options.add_argument('--no-sandbox')\n",
    "options.add_argument('--disable-dev-shm-usage')\n",
    "options.add_argument('--window-size=1200,600')\n",
    "driver = webdriver.Chrome(service=Service(ChromeDriverManager().install()), options=options)\n",
    "\n",
    "url = 'https://search.shopping.naver.com/search/all?adQuery=%EC%82%AC%EB%A3%8C&frm=NVSHATC&origQuery=%EC%82%AC%EB%A3%8C&pagingIndex=1&pagingSize=40&productSet=checkout&query=%EC%82%AC%EB%A3%8C&sort=rel&timestamp=&viewType=image'\n",
    "\n",
    "driver.get(url)\n",
    "driver.implicitly_wait(5)\n",
    "driver.execute_script('window.scrollBy(0, document.body.scrollHeight)')\n",
    "driver.implicitly_wait(5)\n",
    "\n",
    "product_pages = driver.find_elements(By.CSS_SELECTOR, 'div.thumbnail_thumb_wrap__RbcYO._wrapper > a')\n",
    "\n",
    "for product_page in tqdm(product_pages, total=len(product_pages), desc='Processing Product Pages'):\n",
    "    try:\n",
    "        initial_tab_count = len(driver.window_handles)\n",
    "\n",
    "        product_page.click()\n",
    "        driver.implicitly_wait(5)\n",
    "\n",
    "        new_window = driver.window_handles[-1]\n",
    "        driver.switch_to.window(new_window)\n",
    "        driver.implicitly_wait(5)\n",
    "        \n",
    "        driver.find_element(By.CSS_SELECTOR, 'div._3osy73V_eD._1Hc_ju_IXp > button').click()\n",
    "        driver.implicitly_wait(5)\n",
    "\n",
    "        html_content = driver.page_source\n",
    "\n",
    "        soup = BeautifulSoup(html_content, 'html.parser')\n",
    "\n",
    "        product_name = soup.select_one('h3._22kNQuEXmb._copyable').text\n",
    "\n",
    "        print(f'Product Name: {product_name}')\n",
    "\n",
    "        valid_product_name = ''.join(c for c in os.path.splitext(product_name)[0] if c.isalnum() or c in (' ', '_')).rstrip()\n",
    "        valid_product_name = valid_product_name.replace(' ', '_')\n",
    "        target_directory = os.path.abspath(f'naver/{valid_product_name}')\n",
    "\n",
    "        os.makedirs(target_directory)\n",
    "            \n",
    "        image_tags = soup.select('.se-main-container img')\n",
    "\n",
    "        for i, img in tqdm(enumerate(image_tags), total=len(image_tags), desc='Processing Images'):\n",
    "            if 'data-src' in img.attrs and img['data-src'].strip():\n",
    "                image_url = img['data-src']\n",
    "\n",
    "                parsed_url = urlparse(image_url)\n",
    "                filename, extension = os.path.splitext(os.path.basename(parsed_url.path))\n",
    "\n",
    "                file_path = os.path.join(target_directory, f'image_{i}{extension}')\n",
    "\n",
    "                response = requests.get(image_url)\n",
    "\n",
    "                with open(file_path, 'wb') as f:\n",
    "                    f.write(response.content)\n",
    "        \n",
    "        print(f'Images for product \\'{valid_product_name}\\' successfully processed.')\n",
    "        \n",
    "        driver.close()\n",
    "        \n",
    "        driver.switch_to.window(driver.window_handles[0])\n",
    "    \n",
    "    except Exception as e:\n",
    "        print(f'Error processing images for product \\'{valid_product_name}\\': {str(e)}')\n",
    "        pass \n",
    "\n",
    "driver.quit()"
   ]
  }
 ],
 "metadata": {
  "kernelspec": {
   "display_name": "Python 3",
   "language": "python",
   "name": "python3"
  },
  "language_info": {
   "codemirror_mode": {
    "name": "ipython",
    "version": 3
   },
   "file_extension": ".py",
   "mimetype": "text/x-python",
   "name": "python",
   "nbconvert_exporter": "python",
   "pygments_lexer": "ipython3",
   "version": "3.12.1"
  }
 },
 "nbformat": 4,
 "nbformat_minor": 2
}
