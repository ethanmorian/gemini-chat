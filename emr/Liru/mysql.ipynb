{
 "cells": [
  {
   "cell_type": "code",
   "execution_count": 1,
   "metadata": {},
   "outputs": [],
   "source": [
    "import mysql.connector\n",
    "import pandas as pd\n",
    "\n",
    "con = mysql.connector.connect(\n",
    "    host=\"haru-test.cht2hqsb55a9.ap-northeast-2.rds.amazonaws.com\",\n",
    "    user=\"admin\",\n",
    "    password=\"wittew-vorzac-0hYzra\",\n",
    "    database=\"haru_dev_db\"\n",
    ")"
   ]
  },
  {
   "cell_type": "code",
   "execution_count": 2,
   "metadata": {},
   "outputs": [],
   "source": [
    "codes = [\n",
    "    pd.read_csv('Rx.csv', usecols=['__typename', 'RxCodeGroup.groupName']).dropna().drop_duplicates(),\n",
    "    pd.read_csv('Tx.csv', usecols=['__typename', 'TxCodeGroup.groupName']).dropna().drop_duplicates(),\n",
    "    pd.read_csv('Vaccine2.csv', usecols=['__typename', 'VaccineCodeGroup.groupName']).dropna().drop_duplicates(),\n",
    "    pd.read_csv('Supplies.csv', usecols=['__typename', 'SuppliesCodeGroup.groupName']).dropna().drop_duplicates(),\n",
    "    pd.read_csv('AdmissionHotel.csv', usecols=['__typename', 'AdmissionHotelCodeGroup.groupName']).dropna().drop_duplicates()\n",
    "]\n",
    "\n",
    "for code in codes:\n",
    "    for index, row in code.iterrows():\n",
    "        cur = con.cursor()\n",
    "        sql = \"\"\"\n",
    "            INSERT INTO hospital_pay_category (id, name, sub_name, hospital_id) \n",
    "            VALUES (get_unique_id_from_sequences('hospital_pay_category'), %s, %s, 5877)\n",
    "        \"\"\"\n",
    "        cur.execute(sql, (row.values[0], row.values[1]))\n",
    "        con.commit()\n",
    "        cur.close()"
   ]
  },
  {
   "cell_type": "code",
   "execution_count": 3,
   "metadata": {},
   "outputs": [],
   "source": [
    "code = pd.read_csv('Vaccine1.csv', usecols=['__typename']).dropna().drop_duplicates()\n",
    "\n",
    "\n",
    "for index, row in code.iterrows():\n",
    "    cur = con.cursor()\n",
    "    sql = f\"\"\"\n",
    "        INSERT INTO hospital_pay_category (id, name, hospital_id) \n",
    "        VALUES (get_unique_id_from_sequences('hospital_pay_category'), %s, 5877)\n",
    "    \"\"\"\n",
    "    cur.execute(sql, (row.values[0],))\n",
    "    con.commit()\n",
    "    cur.close()"
   ]
  }
 ],
 "metadata": {
  "kernelspec": {
   "display_name": "comp1",
   "language": "python",
   "name": "python3"
  },
  "language_info": {
   "codemirror_mode": {
    "name": "ipython",
    "version": 3
   },
   "file_extension": ".py",
   "mimetype": "text/x-python",
   "name": "python",
   "nbconvert_exporter": "python",
   "pygments_lexer": "ipython3",
   "version": "3.11.7"
  }
 },
 "nbformat": 4,
 "nbformat_minor": 2
}
