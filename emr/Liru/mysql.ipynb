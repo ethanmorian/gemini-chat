{
 "cells": [
  {
   "cell_type": "code",
   "execution_count": 11,
   "metadata": {},
   "outputs": [],
   "source": [
    "import mysql.connector\n",
    "import pandas as pd\n",
    "\n",
    "con = mysql.connector.connect(\n",
    "    host=\"haru-test.cht2hqsb55a9.ap-northeast-2.rds.amazonaws.com\",\n",
    "    user=\"admin\",\n",
    "    password=\"wittew-vorzac-0hYzra\",\n",
    "    database=\"haru_dev_db\"\n",
    ")\n",
    "\n",
    "rx = pd.read_csv('Rx.csv').dropna().drop_duplicates()\n",
    "tx = pd.read_csv('Tx.csv').dropna().drop_duplicates()\n",
    "vaccine1 = pd.read_csv('Vaccine1.csv').dropna().drop_duplicates()\n",
    "vaccine2 = pd.read_csv('Vaccine2.csv').dropna().drop_duplicates()\n",
    "supplies = pd.read_csv('Supplies.csv').dropna().drop_duplicates()\n",
    "admissionhotel = pd.read_csv('AdmissionHotel.csv').dropna().drop_duplicates()"
   ]
  },
  {
   "cell_type": "code",
   "execution_count": 2,
   "metadata": {},
   "outputs": [],
   "source": [
    "# codes = [\n",
    "#     rx[['__typename', 'RxCodeGroup.groupName']].dropna().drop_duplicates(),\n",
    "#     tx[['__typename', 'TxCodeGroup.groupName']].dropna().drop_duplicates(),\n",
    "#     vaccine2[['__typename', 'VaccineCodeGroup.groupName']].dropna().drop_duplicates(),\n",
    "#     supplies[['__typename', 'SuppliesCodeGroup.groupName']].dropna().drop_duplicates(),\n",
    "#     admissionhotel[['__typename', 'AdmissionHotelCodeGroup.groupName']].dropna().drop_duplicates()\n",
    "# ]\n",
    "\n",
    "# for code in codes:\n",
    "#     for index, row in code.iterrows():\n",
    "#         cur = con.cursor()\n",
    "#         sql = \"\"\"\n",
    "#             INSERT INTO hospital_pay_category (id, name, sub_name, hospital_id) \n",
    "#             VALUES (get_unique_id_from_sequences('hospital_pay_category'), %s, %s, 5877)\n",
    "#         \"\"\"\n",
    "#         cur.execute(sql, (row.values[0], row.values[1]))\n",
    "#         con.commit()\n",
    "#         cur.close()"
   ]
  },
  {
   "cell_type": "code",
   "execution_count": 3,
   "metadata": {},
   "outputs": [],
   "source": [
    "# code = vaccine1[['__typename']].dropna().drop_duplicates()\n",
    "\n",
    "# for index, row in code.iterrows():\n",
    "#     cur = con.cursor()\n",
    "#     sql = f\"\"\"\n",
    "#         INSERT INTO hospital_pay_category (id, name, hospital_id) \n",
    "#         VALUES (get_unique_id_from_sequences('hospital_pay_category'), %s, 5877)\n",
    "#     \"\"\"\n",
    "#     cur.execute(sql, (row.values[0],))\n",
    "#     con.commit()\n",
    "#     cur.close()"
   ]
  },
  {
   "cell_type": "code",
   "execution_count": 8,
   "metadata": {},
   "outputs": [],
   "source": [
    "codes = [\n",
    "    rx[['displayName', '__typename', 'RxCodeGroup.groupName' , 'RxCodePrice.supplyPrice','RxCodePrice.taxItemType']].dropna().drop_duplicates(),\n",
    "    tx[['displayName', '__typename', 'TxCodeGroup.groupName', 'TxCodePrice.supplyPrice', 'TxCodePrice.taxItemType']].dropna().drop_duplicates(),\n",
    "    vaccine2[['displayName', '__typename', 'VaccineCodeGroup.groupName', 'VaccineCodePrice.taxAddRule', 'VaccineCodePrice.appearancePrice']].dropna().drop_duplicates(),\n",
    "    supplies[['displayName', '__typename', 'SuppliesCodeGroup.groupName', 'SuppliesCodePrice.appearancePrice', 'SuppliesCodePrice.taxItemType']].dropna().drop_duplicates(),\n",
    "    admissionhotel[['displayName', '__typename', 'AdmissionHotelCodeGroup.groupName', 'AdmissionHotelCodePrice.appearancePrice', 'AdmissionHotelCodePrice.taxItemType']].dropna().drop_duplicates()\n",
    "]\n",
    "\n",
    "for code in codes:\n",
    "    for index, row in code.iterrows():\n",
    "        cur = con.cursor()\n",
    "        \n",
    "        sql = \"\"\"\n",
    "            INSERT INTO hospital_pay_list (item_id, hospital_id, name, category, price, tax)\n",
    "            VALUES (\n",
    "                get_unique_id_from_sequences('hospital_pay_item'),\n",
    "                5877,\n",
    "                %s,\n",
    "                (SELECT id FROM hospital_pay_category WHERE name = %s AND sub_name = %s),\n",
    "                %s,\n",
    "                %s\n",
    "            )\n",
    "        \"\"\"\n",
    "        \n",
    "        cur.execute(sql, (row.values[0], row.values[1], row.values[2], row.values[3], 1 if row.values[4] == 1 else 0))\n",
    "        \n",
    "        con.commit()\n",
    "        cur.close()"
   ]
  },
  {
   "cell_type": "code",
   "execution_count": 12,
   "metadata": {},
   "outputs": [],
   "source": [
    "code = vaccine1[['displayName', '__typename', 'VaccineCodePrice.appearancePrice', 'VaccineCodePrice.taxAddRule']].dropna().drop_duplicates()\n",
    "\n",
    "for index, row in code.iterrows():\n",
    "    cur = con.cursor()\n",
    "    \n",
    "    sql = \"\"\"\n",
    "        INSERT INTO hospital_pay_list (item_id, hospital_id, name, category, price, tax)\n",
    "        VALUES (\n",
    "            get_unique_id_from_sequences('hospital_pay_item'),\n",
    "            5877,\n",
    "            %s,\n",
    "            (SELECT id FROM hospital_pay_category WHERE name = %s AND sub_name IS NULL),\n",
    "            %s,\n",
    "            %s\n",
    "        )\n",
    "    \"\"\"\n",
    "    \n",
    "    cur.execute(sql, (row.values[0], row.values[1], row.values[2], 1 if row.values[3] == 1 else 0))\n",
    "    \n",
    "    con.commit()\n",
    "    cur.close()"
   ]
  }
 ],
 "metadata": {
  "kernelspec": {
   "display_name": "comp1",
   "language": "python",
   "name": "python3"
  },
  "language_info": {
   "codemirror_mode": {
    "name": "ipython",
    "version": 3
   },
   "file_extension": ".py",
   "mimetype": "text/x-python",
   "name": "python",
   "nbconvert_exporter": "python",
   "pygments_lexer": "ipython3",
   "version": "3.11.7"
  }
 },
 "nbformat": 4,
 "nbformat_minor": 2
}
