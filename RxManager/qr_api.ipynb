{
 "cells": [
  {
   "cell_type": "code",
   "execution_count": 4,
   "metadata": {},
   "outputs": [
    {
     "name": "stdout",
     "output_type": "stream",
     "text": [
      "https://apis.data.go.kr/1471000/DrugPrdtPrmsnInfoService05/getDrugPrdtPrmsnDtlInq04?serviceKey=oo7wT1M9yEETXgFbdBww%2B1uMPwObgiPh9OqATCD4QX7Y7C7knmv756Cf9kUZJcr8pEDu9nY6Zbt2iFR3GTcKaA%3D%3D&type=json&bar_code=8806400065524\n"
     ]
    }
   ],
   "source": [
    "import requests\n",
    "\n",
    "url = 'https://apis.data.go.kr/1471000/DrugPrdtPrmsnInfoService05/getDrugPrdtPrmsnDtlInq04'\n",
    "params ={'serviceKey' : 'oo7wT1M9yEETXgFbdBww+1uMPwObgiPh9OqATCD4QX7Y7C7knmv756Cf9kUZJcr8pEDu9nY6Zbt2iFR3GTcKaA==', 'type' : 'json', 'bar_code' : '8806400065524'}\n",
    "\n",
    "response = requests.get(url, params=params)\n",
    "print(response.url)"
   ]
  },
  {
   "cell_type": "code",
   "execution_count": 10,
   "metadata": {},
   "outputs": [
    {
     "name": "stdout",
     "output_type": "stream",
     "text": [
      "b'{\"header\":{\"resultCode\":\"00\",\"resultMsg\":\"NORMAL SERVICE.\"},\"body\":{\"pageNo\":1,\"totalCount\":0,\"numOfRows\":10}}'\n"
     ]
    }
   ],
   "source": [
    "import requests\n",
    "\n",
    "url = 'http://apis.data.go.kr/1471000/InfectnRemedyDrugPrdtInfoService/getInfectnRemedyDrugPrdtInfoInq'\n",
    "params ={'serviceKey' : 'oo7wT1M9yEETXgFbdBww+1uMPwObgiPh9OqATCD4QX7Y7C7knmv756Cf9kUZJcr8pEDu9nY6Zbt2iFR3GTcKaA==',  'type' : 'json', 'PRDLST_SN' : '251231'}\n",
    "\n",
    "response = requests.get(url, params=params)\n",
    "print(response.content)"
   ]
  }
 ],
 "metadata": {
  "kernelspec": {
   "display_name": "comp1",
   "language": "python",
   "name": "python3"
  },
  "language_info": {
   "codemirror_mode": {
    "name": "ipython",
    "version": 3
   },
   "file_extension": ".py",
   "mimetype": "text/x-python",
   "name": "python",
   "nbconvert_exporter": "python",
   "pygments_lexer": "ipython3",
   "version": "3.11.7"
  }
 },
 "nbformat": 4,
 "nbformat_minor": 2
}
