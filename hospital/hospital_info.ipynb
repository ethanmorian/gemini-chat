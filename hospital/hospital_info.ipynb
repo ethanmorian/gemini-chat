{
 "cells": [
  {
   "cell_type": "code",
   "execution_count": 3,
   "metadata": {},
   "outputs": [
    {
     "name": "stderr",
     "output_type": "stream",
     "text": [
      "Downloading info:   0%|          | 0/10 [00:00<?, ?it/s]"
     ]
    }
   ],
   "source": [
    "import json\n",
    "from multiprocessing import Pool\n",
    "from selenium import webdriver\n",
    "from selenium.webdriver.chrome.options import Options\n",
    "from selenium.webdriver.common.by import By\n",
    "from tqdm import tqdm\n",
    "\n",
    "def extract_id(json_file_path):\n",
    "    with open(json_file_path, 'r') as file:\n",
    "        data = json.load(file)\n",
    "\n",
    "    result = []\n",
    "\n",
    "    for item in data:\n",
    "        if 'id' in item:\n",
    "            result.append(item['id'])\n",
    "\n",
    "    return result\n",
    "\n",
    "def download_info(id):\n",
    "    try:\n",
    "        with webdriver.Chrome() as driver:\n",
    "            driver.get(f'https://m.place.naver.com/place/{id}/home')\n",
    "            driver.implicitly_wait(5)\n",
    "\n",
    "            elements_to_click = [\n",
    "                '#app-root > div > div > div > div:nth-child(5) > div > div:nth-child(2) > div > div > div.O8qbU.pSavy > div > a > div > div > span > svg',\n",
    "                '#app-root > div > div > div > div:nth-child(5) > div > div:nth-child(2) > div > div > div:nth-child(8) > div > a > span.rvCSr > svg'\n",
    "            ]\n",
    "\n",
    "            for element_selector in elements_to_click:\n",
    "                try:\n",
    "                    elements = driver.find_elements(By.CSS_SELECTOR, element_selector)\n",
    "                    if elements:\n",
    "                        elements[0].click()\n",
    "                        driver.implicitly_wait(5)\n",
    "\n",
    "                except Exception as e:\n",
    "                    print(f'Error: {e}')\n",
    "                    pass\n",
    "\n",
    "            hospital_info_element = []\n",
    "\n",
    "            all_elements = driver.find_elements(By.CSS_SELECTOR, '#app-root > div > div > div > div:nth-child(5) > div > div:nth-child(2) > div > div *')\n",
    "            for element in all_elements:\n",
    "                hospital_info_element.append(element.text)\n",
    "\n",
    "            return hospital_info_element\n",
    "\n",
    "    except Exception as e:\n",
    "        print(f'Error: {e}')\n",
    "        return None\n",
    "\n",
    "json_file_path = 'naver_total.json'\n",
    "extracted_data = extract_id(json_file_path)\n",
    "\n",
    "extracted_data = extracted_data[:10]\n",
    "\n",
    "with Pool() as pool:\n",
    "    results = list(tqdm(pool.imap(download_info, extracted_data), total=len(extracted_data), desc='Downloading info'))\n",
    "\n",
    "hospital_info = [info for info in results if info is not None]\n",
    "\n",
    "print(hospital_info)"
   ]
  }
 ],
 "metadata": {
  "kernelspec": {
   "display_name": "crawling",
   "language": "python",
   "name": "python3"
  },
  "language_info": {
   "codemirror_mode": {
    "name": "ipython",
    "version": 3
   },
   "file_extension": ".py",
   "mimetype": "text/x-python",
   "name": "python",
   "nbconvert_exporter": "python",
   "pygments_lexer": "ipython3",
   "version": "3.12.1"
  }
 },
 "nbformat": 4,
 "nbformat_minor": 2
}
