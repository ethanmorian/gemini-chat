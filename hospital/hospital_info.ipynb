{
 "cells": [
  {
   "cell_type": "code",
   "execution_count": 1,
   "metadata": {},
   "outputs": [
    {
     "data": {
      "application/vnd.jupyter.widget-view+json": {
       "model_id": "bdb74e80f74f46268d69acc297507870",
       "version_major": 2,
       "version_minor": 0
      },
      "text/plain": [
       "Processing batches:   0%|          | 0/48 [00:00<?, ?it/s]"
      ]
     },
     "metadata": {},
     "output_type": "display_data"
    },
    {
     "data": {
      "application/vnd.jupyter.widget-view+json": {
       "model_id": "37be8cbb19754a2a92d1739a9bee1e7d",
       "version_major": 2,
       "version_minor": 0
      },
      "text/plain": [
       "Downloading info 0/4780:   0%|          | 0/100 [00:00<?, ?it/s]"
      ]
     },
     "metadata": {},
     "output_type": "display_data"
    },
    {
     "data": {
      "application/vnd.jupyter.widget-view+json": {
       "model_id": "acf1c2ab66c44aa79047cad54b1bb948",
       "version_major": 2,
       "version_minor": 0
      },
      "text/plain": [
       "Downloading info 100/4780:   0%|          | 0/100 [00:00<?, ?it/s]"
      ]
     },
     "metadata": {},
     "output_type": "display_data"
    },
    {
     "data": {
      "application/vnd.jupyter.widget-view+json": {
       "model_id": "62f0c003c59d4451805551f7527a496b",
       "version_major": 2,
       "version_minor": 0
      },
      "text/plain": [
       "Downloading info 200/4780:   0%|          | 0/100 [00:00<?, ?it/s]"
      ]
     },
     "metadata": {},
     "output_type": "display_data"
    },
    {
     "data": {
      "application/vnd.jupyter.widget-view+json": {
       "model_id": "046dd53d8e744f6c8b8f97e850b91750",
       "version_major": 2,
       "version_minor": 0
      },
      "text/plain": [
       "Downloading info 300/4780:   0%|          | 0/100 [00:00<?, ?it/s]"
      ]
     },
     "metadata": {},
     "output_type": "display_data"
    },
    {
     "data": {
      "application/vnd.jupyter.widget-view+json": {
       "model_id": "b730098af8e84b479c76f8a523c688fa",
       "version_major": 2,
       "version_minor": 0
      },
      "text/plain": [
       "Downloading info 400/4780:   0%|          | 0/100 [00:00<?, ?it/s]"
      ]
     },
     "metadata": {},
     "output_type": "display_data"
    },
    {
     "data": {
      "application/vnd.jupyter.widget-view+json": {
       "model_id": "b2b1f8267364489d9541acf1bb14fab3",
       "version_major": 2,
       "version_minor": 0
      },
      "text/plain": [
       "Downloading info 500/4780:   0%|          | 0/100 [00:00<?, ?it/s]"
      ]
     },
     "metadata": {},
     "output_type": "display_data"
    }
   ],
   "source": [
    "import json\n",
    "from selenium import webdriver\n",
    "from selenium.webdriver.common.by import By\n",
    "from selenium.webdriver.chrome.options import Options\n",
    "from tqdm.notebook import tqdm\n",
    "\n",
    "with open('naver_total.json', 'r', encoding='utf-8') as file:\n",
    "    data = json.load(file)\n",
    "    extracted_id = [item.get('id') for item in data if 'id' in item]\n",
    "\n",
    "chrome_options = Options()\n",
    "chrome_options.add_argument('--no-sandbox')\n",
    "\n",
    "results = {}\n",
    "\n",
    "for idx in tqdm(range(0, len(extracted_id), 100), desc='Processing batches'):\n",
    "    batch_ids = extracted_id[idx : min(idx + 100, len(extracted_id))]\n",
    "\n",
    "    with webdriver.Chrome(options=chrome_options) as driver:\n",
    "        for id in tqdm(batch_ids, desc=f'Downloading info {idx}/{len(extracted_id)}', leave=False):\n",
    "            hospital_info_elements = []\n",
    "\n",
    "            try:\n",
    "                driver.get(f'https://m.place.naver.com/place/{id}/home')\n",
    "                driver.implicitly_wait(2)\n",
    "\n",
    "                elements_to_click = [\n",
    "                    '#app-root > div > div > div > div:nth-child(5) > div > div:nth-child(2) > div.place_section_content > div > div.O8qbU.pSavy > div > a > div > div > span',\n",
    "                    '#app-root > div > div > div > div:nth-child(5) > div > div:nth-child(2) > div.place_section_content > div > div:nth-child(8) > div > a > span.rvCSr'\n",
    "                ]\n",
    "                for element_selector in elements_to_click:\n",
    "                    driver.find_element(By.CSS_SELECTOR, element_selector).click()\n",
    "            except:\n",
    "                pass\n",
    "\n",
    "            elements_to_append = [\n",
    "                '#app-root > div > div > div > div:nth-child(5) > div > div:nth-child(2) > div > div > div.O8qbU.pSavy > div > a *',\n",
    "                '#app-root > div > div > div > div:nth-child(5) > div > div:nth-child(2) > div > div > div.O8qbU.WTjuc > div > ul a',\n",
    "                '#app-root > div > div > div > div:nth-child(5) > div > div:nth-child(2) > div > div > div:nth-child(8) > div > a > span.zPfVt'\n",
    "            ]\n",
    "            for element_selector in elements_to_append:\n",
    "                try:\n",
    "                    hospital_info_elements.extend([element.text for element in driver.find_elements(By.CSS_SELECTOR, element_selector)])\n",
    "                except:\n",
    "                    pass\n",
    "\n",
    "            if hospital_info_elements:\n",
    "                results[id] = hospital_info_elements\n",
    "                \n",
    "        with open(f'hospital_info.json', 'a+', encoding='utf-8') as file:\n",
    "            json.dump(results, file, indent=4)\n",
    "        results = {}\n",
    "\n",
    "if results:\n",
    "    with open('hospital_info.json', 'a+', encoding='utf-8') as file:\n",
    "        json.dump(results, file, indent=4)"
   ]
  }
 ],
 "metadata": {
  "kernelspec": {
   "display_name": "crawling",
   "language": "python",
   "name": "python3"
  },
  "language_info": {
   "codemirror_mode": {
    "name": "ipython",
    "version": 3
   },
   "file_extension": ".py",
   "mimetype": "text/x-python",
   "name": "python",
   "nbconvert_exporter": "python",
   "pygments_lexer": "ipython3",
   "version": "3.11.7"
  }
 },
 "nbformat": 4,
 "nbformat_minor": 2
}
