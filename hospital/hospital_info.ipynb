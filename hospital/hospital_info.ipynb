{
 "cells": [
  {
   "cell_type": "code",
   "execution_count": 1,
   "metadata": {},
   "outputs": [
    {
     "name": "stderr",
     "output_type": "stream",
     "text": [
      "Downloading info:   4%|▎         | 178/4780 [20:37<8:18:36,  6.50s/it] "
     ]
    }
   ],
   "source": [
    "import json\n",
    "from selenium import webdriver\n",
    "from selenium.webdriver.chrome.options import Options\n",
    "from selenium.webdriver.common.by import By\n",
    "from tqdm import tqdm\n",
    "\n",
    "def extract_id(json_file_path):\n",
    "    with open(json_file_path, 'r') as file:\n",
    "        data = json.load(file)\n",
    "\n",
    "    result = []\n",
    "\n",
    "    for item in data:\n",
    "        if 'id' in item:\n",
    "            result.append(item['id'])\n",
    "\n",
    "    return result\n",
    "\n",
    "def download_info(driver, id):\n",
    "    driver.get(f'https://m.place.naver.com/place/{id}/home')\n",
    "    driver.implicitly_wait(2)\n",
    "\n",
    "    elements_to_click = [\n",
    "        '#app-root > div > div > div > div:nth-child(5) > div > div:nth-child(2) > div.place_section_content > div > div.O8qbU.pSavy > div > a > div > div > span',\n",
    "        '#app-root > div > div > div > div:nth-child(5) > div > div:nth-child(2) > div.place_section_content > div > div:nth-child(8) > div > a > span.rvCSr'\n",
    "    ]\n",
    "\n",
    "    for element_selector in elements_to_click:\n",
    "        try:\n",
    "            elements = driver.find_elements(By.CSS_SELECTOR, element_selector)\n",
    "            if elements:\n",
    "                elements[0].click()\n",
    "\n",
    "        except Exception as e:\n",
    "            print(f'Error: {e}')\n",
    "\n",
    "    elements_to_append = [\n",
    "        '#app-root > div > div > div > div:nth-child(5) > div > div:nth-child(2) > div > div > div.O8qbU.pSavy > div > a *',\n",
    "        '#app-root > div > div > div > div:nth-child(5) > div > div:nth-child(2) > div > div > div.O8qbU.WTjuc > div > ul a',\n",
    "        '#app-root > div > div > div > div:nth-child(5) > div > div:nth-child(2) > div > div > div:nth-child(8) > div > a > span.zPfVt'\n",
    "    ]\n",
    "\n",
    "    hospital_info_elements = []\n",
    "\n",
    "    for element_selector in elements_to_append:\n",
    "        try:\n",
    "            elements = driver.find_elements(By.CSS_SELECTOR, element_selector)\n",
    "            hospital_info_elements . append([element.text for element in elements])\n",
    "        except Exception as e:\n",
    "            print(f'Error: {e}')\n",
    "\n",
    "    return hospital_info_elements\n",
    "\n",
    "json_file_path = 'naver_total.json'\n",
    "extracted_data = extract_id(json_file_path)\n",
    "\n",
    "chrome_options = Options()\n",
    "chrome_options.add_argument('--disable-gpu')\n",
    "chrome_options.add_argument('--disable-software-rasterizer')\n",
    "\n",
    "with webdriver.Chrome(options=chrome_options) as driver:\n",
    "    results = []\n",
    "\n",
    "    for item in tqdm(extracted_data, desc='Downloading info'):\n",
    "        result = download_info(driver, item)\n",
    "        if result is not None:\n",
    "            results.append(result)\n",
    "\n",
    "for info in results[:10]:\n",
    "    print(info)"
   ]
  }
 ],
 "metadata": {
  "kernelspec": {
   "display_name": "crawling",
   "language": "python",
   "name": "python3"
  },
  "language_info": {
   "codemirror_mode": {
    "name": "ipython",
    "version": 3
   },
   "file_extension": ".py",
   "mimetype": "text/x-python",
   "name": "python",
   "nbconvert_exporter": "python",
   "pygments_lexer": "ipython3",
   "version": "3.11.5"
  }
 },
 "nbformat": 4,
 "nbformat_minor": 2
}
