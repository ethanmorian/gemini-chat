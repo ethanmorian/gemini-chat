{
 "cells": [
  {
   "cell_type": "code",
   "execution_count": 15,
   "metadata": {},
   "outputs": [
    {
     "data": {
      "application/vnd.jupyter.widget-view+json": {
       "model_id": "18070bfc538b485287cfb536e2efce70",
       "version_major": 2,
       "version_minor": 0
      },
      "text/plain": [
       "Processing batches:   0%|          | 0/1 [00:00<?, ?it/s]"
      ]
     },
     "metadata": {},
     "output_type": "display_data"
    },
    {
     "name": "stdout",
     "output_type": "stream",
     "text": [
      "A total of 0 web errors occurred for the following IDs\n",
      "A total of 0 errors clicking elements occurred for the following IDs\n",
      "A total of 0 errors appending elements occurred for the following IDs\n"
     ]
    }
   ],
   "source": [
    "import os\n",
    "import json\n",
    "from selenium import webdriver\n",
    "from selenium.webdriver.common.by import By\n",
    "from selenium.webdriver.chrome.options import Options\n",
    "from tqdm.notebook import tqdm\n",
    "\n",
    "chrome_options = Options()\n",
    "chrome_options.add_argument('--no-sandbox')\n",
    "chrome_options.add_argument('--incognito')\n",
    "\n",
    "with open('naver_total.json', 'r', encoding='utf-8') as file:\n",
    "    data = json.load(file)\n",
    "    extracted_id = [item.get('id') for item in data if 'id' in item]\n",
    "\n",
    "results = {}\n",
    "web_error_ids = []\n",
    "elements_to_click_error_ids = []\n",
    "elements_to_append_error_ids = []\n",
    "extracted_id = extracted_id[:]\n",
    "\n",
    "for id in tqdm(extracted_id, desc='Processing batches'):\n",
    "    hospital_info_elements = []\n",
    "\n",
    "    driver = None\n",
    "\n",
    "    try:\n",
    "        driver = webdriver.Chrome(options=chrome_options)\n",
    "        driver.get(f'https://m.place.naver.com/place/{id}/home')\n",
    "    except Exception as e:\n",
    "        web_error_ids.append(id)\n",
    "    else:\n",
    "        try:\n",
    "            driver.implicitly_wait(0.5)\n",
    "            element_with_class = driver.find_elements(By.CSS_SELECTOR, 'span._UCia svg')[1].click()\n",
    "        except Exception as e:\n",
    "            elements_to_click_error_ids.append(id)\n",
    "        try:\n",
    "            driver.implicitly_wait(0.5)\n",
    "            element_with_class = driver.find_element(By.CSS_SELECTOR, 'span.rvCSr svg').click()\n",
    "        except Exception as e:\n",
    "            elements_to_click_error_ids.append(id)\n",
    "        elements_to_append = [\n",
    "            'a.gKP9i.RMgN0 > div',\n",
    "            'ul.Ni7dC > li',\n",
    "            'div.vV_z_ > a.xHaT3 > span.zPfVt'\n",
    "        ]\n",
    "        for element_selector in elements_to_append:\n",
    "            for element in driver.find_elements(By.CSS_SELECTOR, element_selector):\n",
    "                try:\n",
    "                    driver.implicitly_wait(0.5)\n",
    "                    hospital_info_elements.append(element.text)\n",
    "                except Exception as e:\n",
    "                    elements_to_append_error_ids.append(id)\n",
    "\n",
    "    finally:\n",
    "        if driver:\n",
    "            driver.quit()\n",
    "\n",
    "    if hospital_info_elements:\n",
    "        results[id] = hospital_info_elements\n",
    "\n",
    "print(f\"A total of {len(web_error_ids)} web errors occurred for the following IDs\")\n",
    "print(f\"A total of {len(elements_to_click_error_ids)} errors clicking elements occurred for the following IDs\")\n",
    "print(f\"A total of {len(elements_to_append_error_ids)} errors appending elements occurred for the following IDs\")\n",
    "\n",
    "for id, info in results.items():\n",
    "    if not os.path.exists('hospital_info'):\n",
    "        os.makedirs('hospital_info')\n",
    "    with open(f'hospital_info/{id}_info.json', 'a+', encoding='utf-8') as file:\n",
    "        json.dump({id: info}, file, indent=4, ensure_ascii=False)"
   ]
  },
  {
   "cell_type": "code",
   "execution_count": null,
   "metadata": {},
   "outputs": [],
   "source": []
  }
 ],
 "metadata": {
  "kernelspec": {
   "display_name": "crawling",
   "language": "python",
   "name": "python3"
  },
  "language_info": {
   "codemirror_mode": {
    "name": "ipython",
    "version": 3
   },
   "file_extension": ".py",
   "mimetype": "text/x-python",
   "name": "python",
   "nbconvert_exporter": "python",
   "pygments_lexer": "ipython3",
   "version": "3.11.7"
  }
 },
 "nbformat": 4,
 "nbformat_minor": 2
}
